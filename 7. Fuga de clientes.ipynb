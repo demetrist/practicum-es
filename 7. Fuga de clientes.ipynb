{
 "cells": [
  {
   "cell_type": "markdown",
   "metadata": {},
   "source": [
    "# Fuga de clientes"
   ]
  },
  {
   "cell_type": "markdown",
   "metadata": {},
   "source": [
    "Los clientes comenzaron a salir «Beta-Bank» cada mes. Un poco, pero notable. Los vendedores del banco lo consideraron más barato mantener a clientes actuales que atraer nuevos.\n",
    "\n",
    "Tenemos que predecir si el cliente dejará el banco pronto o no. Se le proporcionan datos históricos sobre el comportamiento del cliente y la terminación de los contratos con el banco. \n",
    "\n",
    "Cree un modelo con un valor límite de *F1*-medidas. Para tener éxito, debe llevar la métrica a 0,59. Compruebe usted mismo la medida *F1*de la muestra.\n",
    "\n",
    "Medida adicional *AUC-ROC*, comparar su valor con la medida *F1*.\n",
    "\n",
    "Fuente de datos: [https://www.kaggle.com/barelydedicated/bank-customerchurn-modeling](https://www.kaggle.com/lywdedicated/bank-bare-churncustoming)"
   ]
  },
  {
   "cell_type": "markdown",
   "metadata": {},
   "source": [
    "## Preparación de datos\n",
    "\n",
    "Cargue los módulos requeridos."
   ]
  },
  {
   "cell_type": "code",
   "execution_count": 1,
   "metadata": {},
   "outputs": [],
   "source": [
    "import matplotlib.pyplot as plt\n",
    "import pandas as pd\n",
    "\n",
    "from sklearn.ensemble import RandomForestClassifier\n",
    "from sklearn.linear_model import LogisticRegression\n",
    "from sklearn.metrics import accuracy_score, confusion_matrix, recall_score, precision_score, f1_score, roc_auc_score, roc_curve\n",
    "from sklearn.model_selection import train_test_split\n",
    "from sklearn.preprocessing import StandardScaler\n",
    "from sklearn.tree import DecisionTreeClassifier\n",
    "from sklearn.utils import shuffle\n",
    "\n",
    "import warnings\n",
    "warnings.filterwarnings(\"ignore\")"
   ]
  },
  {
   "cell_type": "markdown",
   "metadata": {},
   "source": [
    "Abramos y estudiemos el conjunto de datos."
   ]
  },
  {
   "cell_type": "code",
   "execution_count": 2,
   "metadata": {},
   "outputs": [
    {
     "name": "stdout",
     "output_type": "stream",
     "text": [
      "   RowNumber  CustomerId   Surname  CreditScore Geography  Gender  Age  \\\n",
      "0          1    15634602  Hargrave          619    France  Female   42   \n",
      "1          2    15647311      Hill          608     Spain  Female   41   \n",
      "2          3    15619304      Onio          502    France  Female   42   \n",
      "3          4    15701354      Boni          699    France  Female   39   \n",
      "4          5    15737888  Mitchell          850     Spain  Female   43   \n",
      "5          6    15574012       Chu          645     Spain    Male   44   \n",
      "6          7    15592531  Bartlett          822    France    Male   50   \n",
      "7          8    15656148    Obinna          376   Germany  Female   29   \n",
      "8          9    15792365        He          501    France    Male   44   \n",
      "9         10    15592389        H?          684    France    Male   27   \n",
      "\n",
      "   Tenure    Balance  NumOfProducts  HasCrCard  IsActiveMember  \\\n",
      "0     2.0       0.00              1          1               1   \n",
      "1     1.0   83807.86              1          0               1   \n",
      "2     8.0  159660.80              3          1               0   \n",
      "3     1.0       0.00              2          0               0   \n",
      "4     2.0  125510.82              1          1               1   \n",
      "5     8.0  113755.78              2          1               0   \n",
      "6     7.0       0.00              2          1               1   \n",
      "7     4.0  115046.74              4          1               0   \n",
      "8     4.0  142051.07              2          0               1   \n",
      "9     2.0  134603.88              1          1               1   \n",
      "\n",
      "   EstimatedSalary  Exited  \n",
      "0        101348.88       1  \n",
      "1        112542.58       0  \n",
      "2        113931.57       1  \n",
      "3         93826.63       0  \n",
      "4         79084.10       0  \n",
      "5        149756.71       1  \n",
      "6         10062.80       0  \n",
      "7        119346.88       1  \n",
      "8         74940.50       0  \n",
      "9         71725.73       0  \n",
      "<class 'pandas.core.frame.DataFrame'>\n",
      "RangeIndex: 10000 entries, 0 to 9999\n",
      "Data columns (total 14 columns):\n",
      " #   Column           Non-Null Count  Dtype  \n",
      "---  ------           --------------  -----  \n",
      " 0   RowNumber        10000 non-null  int64  \n",
      " 1   CustomerId       10000 non-null  int64  \n",
      " 2   Surname          10000 non-null  object \n",
      " 3   CreditScore      10000 non-null  int64  \n",
      " 4   Geography        10000 non-null  object \n",
      " 5   Gender           10000 non-null  object \n",
      " 6   Age              10000 non-null  int64  \n",
      " 7   Tenure           9091 non-null   float64\n",
      " 8   Balance          10000 non-null  float64\n",
      " 9   NumOfProducts    10000 non-null  int64  \n",
      " 10  HasCrCard        10000 non-null  int64  \n",
      " 11  IsActiveMember   10000 non-null  int64  \n",
      " 12  EstimatedSalary  10000 non-null  float64\n",
      " 13  Exited           10000 non-null  int64  \n",
      "dtypes: float64(3), int64(8), object(3)\n",
      "memory usage: 1.1+ MB\n"
     ]
    }
   ],
   "source": [
    "data = pd.read_csv('/datasets/Churn.csv')\n",
    "print(data.head(10))\n",
    "data.info()"
   ]
  },
  {
   "cell_type": "markdown",
   "metadata": {},
   "source": [
    "Tenemos las siguientes características:  \n",
    "RowNumber - un índice de cadena en los datos  \n",
    "CustomerId - ID de cliente único  \n",
    "Apellido - apellido  \n",
    "CreditScore - calificación crediticia  \n",
    "Geografía - país de residencia  \n",
    "Género - Género  \n",
    "Edad - Edad  \n",
    "Tenencia - cuántos años una persona es cliente de un banco  \n",
    "Saldo - saldo de la cuenta  \n",
    "NumOfProducts - el número de productos bancarios utilizados por el cliente  \n",
    "HasCrCard - disponibilidad de tarjeta de crédito  \n",
    "IsActiveMember - actividad del cliente  \n",
    "EstimadoSalary - salario previsto  \n",
    "\n",
    "#### Procesamiento de pases\n",
    "En el bloque de información vemos que solo hay un signo - \"¿Cuántos años es un cliente\". Lógicamente, supongamos que los valores se omiten para los clientes que han estado usando servicios durante menos de 1 año, por lo que podemos reemplazar las omisiones con ceros."
   ]
  },
  {
   "cell_type": "code",
   "execution_count": 4,
   "metadata": {},
   "outputs": [
    {
     "data": {
      "text/plain": [
       "array([ 2.,  1.,  8.,  7.,  4.,  6.,  3., 10.,  5.,  9.,  0., nan])"
      ]
     },
     "execution_count": 4,
     "metadata": {},
     "output_type": "execute_result"
    }
   ],
   "source": [
    "data['Tenure'].unique()"
   ]
  },
  {
   "cell_type": "code",
   "execution_count": 5,
   "metadata": {},
   "outputs": [],
   "source": [
    "data['Tenure'] = data['Tenure'].fillna(data['Tenure'].median())"
   ]
  },
  {
   "cell_type": "code",
   "execution_count": 6,
   "metadata": {},
   "outputs": [
    {
     "data": {
      "text/plain": [
       "4.997690023099769"
      ]
     },
     "execution_count": 6,
     "metadata": {},
     "output_type": "execute_result"
    }
   ],
   "source": [
    "check_mean_df = pd.read_csv('/datasets/Churn.csv')\n",
    "\n",
    "check_mean_df['Tenure'].mean()"
   ]
  },
  {
   "cell_type": "markdown",
   "metadata": {},
   "source": [
    "### Comprobar si hay duplicados"
   ]
  },
  {
   "cell_type": "code",
   "execution_count": 7,
   "metadata": {},
   "outputs": [
    {
     "data": {
      "text/plain": [
       "0"
      ]
     },
     "execution_count": 7,
     "metadata": {},
     "output_type": "execute_result"
    }
   ],
   "source": [
    "data.duplicated().sum()"
   ]
  },
  {
   "cell_type": "markdown",
   "metadata": {},
   "source": [
    "No hay duplicados obvios.\n",
    "\n",
    "### Trabajar con tipos de datos\n",
    "\n",
    "Veamos si todos los tipos de datos son correctos.  \n",
    "Usted debe reemplazar la tenencia con int.  \n",
    "Características HasCrCard, IsActiveMember, Exited - on Boolean type, porque tienen los valores de 1 o 0. Los valores de los atributos son los mismos."
   ]
  },
  {
   "cell_type": "code",
   "execution_count": 8,
   "metadata": {},
   "outputs": [],
   "source": [
    "for column in data[['Tenure']]:\n",
    "    data[column] = data[column].astype(\"int\")\n",
    "    \n",
    "for column in data[['HasCrCard', 'IsActiveMember', 'Exited']]:\n",
    "    data[column] = data[column].astype(\"bool\")"
   ]
  },
  {
   "cell_type": "markdown",
   "metadata": {},
   "source": [
    "### Trabajo destacado\n",
    "\n",
    "Haremos un nuevo dataframe para el aprendizaje automático. No necesitamos las primeras tres columnas ( , ID y apellido para las predicciones - que no afectan a la salida de los clientes, eliminarlos)."
   ]
  },
  {
   "cell_type": "code",
   "execution_count": 9,
   "metadata": {},
   "outputs": [],
   "source": [
    "drop = ['RowNumber','CustomerId', 'Surname']\n",
    "data_ml = data.drop(drop, axis=1)"
   ]
  },
  {
   "cell_type": "markdown",
   "metadata": {},
   "source": [
    "Utilizamos el método OHE para evitar atrapar la trampa."
   ]
  },
  {
   "cell_type": "code",
   "execution_count": 10,
   "metadata": {},
   "outputs": [
    {
     "data": {
      "text/html": [
       "<div>\n",
       "<style scoped>\n",
       "    .dataframe tbody tr th:only-of-type {\n",
       "        vertical-align: middle;\n",
       "    }\n",
       "\n",
       "    .dataframe tbody tr th {\n",
       "        vertical-align: top;\n",
       "    }\n",
       "\n",
       "    .dataframe thead th {\n",
       "        text-align: right;\n",
       "    }\n",
       "</style>\n",
       "<table border=\"1\" class=\"dataframe\">\n",
       "  <thead>\n",
       "    <tr style=\"text-align: right;\">\n",
       "      <th></th>\n",
       "      <th>CreditScore</th>\n",
       "      <th>Age</th>\n",
       "      <th>Tenure</th>\n",
       "      <th>Balance</th>\n",
       "      <th>NumOfProducts</th>\n",
       "      <th>HasCrCard</th>\n",
       "      <th>IsActiveMember</th>\n",
       "      <th>EstimatedSalary</th>\n",
       "      <th>Exited</th>\n",
       "      <th>Geography_Germany</th>\n",
       "      <th>Geography_Spain</th>\n",
       "      <th>Gender_Male</th>\n",
       "    </tr>\n",
       "  </thead>\n",
       "  <tbody>\n",
       "    <tr>\n",
       "      <th>0</th>\n",
       "      <td>619</td>\n",
       "      <td>42</td>\n",
       "      <td>2</td>\n",
       "      <td>0.00</td>\n",
       "      <td>1</td>\n",
       "      <td>True</td>\n",
       "      <td>True</td>\n",
       "      <td>101348.88</td>\n",
       "      <td>True</td>\n",
       "      <td>0</td>\n",
       "      <td>0</td>\n",
       "      <td>0</td>\n",
       "    </tr>\n",
       "    <tr>\n",
       "      <th>1</th>\n",
       "      <td>608</td>\n",
       "      <td>41</td>\n",
       "      <td>1</td>\n",
       "      <td>83807.86</td>\n",
       "      <td>1</td>\n",
       "      <td>False</td>\n",
       "      <td>True</td>\n",
       "      <td>112542.58</td>\n",
       "      <td>False</td>\n",
       "      <td>0</td>\n",
       "      <td>1</td>\n",
       "      <td>0</td>\n",
       "    </tr>\n",
       "    <tr>\n",
       "      <th>2</th>\n",
       "      <td>502</td>\n",
       "      <td>42</td>\n",
       "      <td>8</td>\n",
       "      <td>159660.80</td>\n",
       "      <td>3</td>\n",
       "      <td>True</td>\n",
       "      <td>False</td>\n",
       "      <td>113931.57</td>\n",
       "      <td>True</td>\n",
       "      <td>0</td>\n",
       "      <td>0</td>\n",
       "      <td>0</td>\n",
       "    </tr>\n",
       "    <tr>\n",
       "      <th>3</th>\n",
       "      <td>699</td>\n",
       "      <td>39</td>\n",
       "      <td>1</td>\n",
       "      <td>0.00</td>\n",
       "      <td>2</td>\n",
       "      <td>False</td>\n",
       "      <td>False</td>\n",
       "      <td>93826.63</td>\n",
       "      <td>False</td>\n",
       "      <td>0</td>\n",
       "      <td>0</td>\n",
       "      <td>0</td>\n",
       "    </tr>\n",
       "    <tr>\n",
       "      <th>4</th>\n",
       "      <td>850</td>\n",
       "      <td>43</td>\n",
       "      <td>2</td>\n",
       "      <td>125510.82</td>\n",
       "      <td>1</td>\n",
       "      <td>True</td>\n",
       "      <td>True</td>\n",
       "      <td>79084.10</td>\n",
       "      <td>False</td>\n",
       "      <td>0</td>\n",
       "      <td>1</td>\n",
       "      <td>0</td>\n",
       "    </tr>\n",
       "    <tr>\n",
       "      <th>5</th>\n",
       "      <td>645</td>\n",
       "      <td>44</td>\n",
       "      <td>8</td>\n",
       "      <td>113755.78</td>\n",
       "      <td>2</td>\n",
       "      <td>True</td>\n",
       "      <td>False</td>\n",
       "      <td>149756.71</td>\n",
       "      <td>True</td>\n",
       "      <td>0</td>\n",
       "      <td>1</td>\n",
       "      <td>1</td>\n",
       "    </tr>\n",
       "    <tr>\n",
       "      <th>6</th>\n",
       "      <td>822</td>\n",
       "      <td>50</td>\n",
       "      <td>7</td>\n",
       "      <td>0.00</td>\n",
       "      <td>2</td>\n",
       "      <td>True</td>\n",
       "      <td>True</td>\n",
       "      <td>10062.80</td>\n",
       "      <td>False</td>\n",
       "      <td>0</td>\n",
       "      <td>0</td>\n",
       "      <td>1</td>\n",
       "    </tr>\n",
       "    <tr>\n",
       "      <th>7</th>\n",
       "      <td>376</td>\n",
       "      <td>29</td>\n",
       "      <td>4</td>\n",
       "      <td>115046.74</td>\n",
       "      <td>4</td>\n",
       "      <td>True</td>\n",
       "      <td>False</td>\n",
       "      <td>119346.88</td>\n",
       "      <td>True</td>\n",
       "      <td>1</td>\n",
       "      <td>0</td>\n",
       "      <td>0</td>\n",
       "    </tr>\n",
       "    <tr>\n",
       "      <th>8</th>\n",
       "      <td>501</td>\n",
       "      <td>44</td>\n",
       "      <td>4</td>\n",
       "      <td>142051.07</td>\n",
       "      <td>2</td>\n",
       "      <td>False</td>\n",
       "      <td>True</td>\n",
       "      <td>74940.50</td>\n",
       "      <td>False</td>\n",
       "      <td>0</td>\n",
       "      <td>0</td>\n",
       "      <td>1</td>\n",
       "    </tr>\n",
       "    <tr>\n",
       "      <th>9</th>\n",
       "      <td>684</td>\n",
       "      <td>27</td>\n",
       "      <td>2</td>\n",
       "      <td>134603.88</td>\n",
       "      <td>1</td>\n",
       "      <td>True</td>\n",
       "      <td>True</td>\n",
       "      <td>71725.73</td>\n",
       "      <td>False</td>\n",
       "      <td>0</td>\n",
       "      <td>0</td>\n",
       "      <td>1</td>\n",
       "    </tr>\n",
       "  </tbody>\n",
       "</table>\n",
       "</div>"
      ],
      "text/plain": [
       "   CreditScore  Age  Tenure    Balance  NumOfProducts  HasCrCard  \\\n",
       "0          619   42       2       0.00              1       True   \n",
       "1          608   41       1   83807.86              1      False   \n",
       "2          502   42       8  159660.80              3       True   \n",
       "3          699   39       1       0.00              2      False   \n",
       "4          850   43       2  125510.82              1       True   \n",
       "5          645   44       8  113755.78              2       True   \n",
       "6          822   50       7       0.00              2       True   \n",
       "7          376   29       4  115046.74              4       True   \n",
       "8          501   44       4  142051.07              2      False   \n",
       "9          684   27       2  134603.88              1       True   \n",
       "\n",
       "   IsActiveMember  EstimatedSalary  Exited  Geography_Germany  \\\n",
       "0            True        101348.88    True                  0   \n",
       "1            True        112542.58   False                  0   \n",
       "2           False        113931.57    True                  0   \n",
       "3           False         93826.63   False                  0   \n",
       "4            True         79084.10   False                  0   \n",
       "5           False        149756.71    True                  0   \n",
       "6            True         10062.80   False                  0   \n",
       "7           False        119346.88    True                  1   \n",
       "8            True         74940.50   False                  0   \n",
       "9            True         71725.73   False                  0   \n",
       "\n",
       "   Geography_Spain  Gender_Male  \n",
       "0                0            0  \n",
       "1                1            0  \n",
       "2                0            0  \n",
       "3                0            0  \n",
       "4                1            0  \n",
       "5                1            1  \n",
       "6                0            1  \n",
       "7                0            0  \n",
       "8                0            1  \n",
       "9                0            1  "
      ]
     },
     "execution_count": 10,
     "metadata": {},
     "output_type": "execute_result"
    }
   ],
   "source": [
    "data_ml = pd.get_dummies(data_ml, drop_first=True)\n",
    "data_ml.head(10)"
   ]
  },
  {
   "cell_type": "markdown",
   "metadata": {},
   "source": [
    "### Separación por muestreo\n",
    "\n",
    "Creamos muestras de entrenamiento, validación y pruebas."
   ]
  },
  {
   "cell_type": "code",
   "execution_count": 11,
   "metadata": {},
   "outputs": [
    {
     "name": "stdout",
     "output_type": "stream",
     "text": [
      "(6000, 11)\n",
      "(6000,)\n",
      "(2000, 11)\n",
      "(2000,)\n",
      "(2000, 11)\n",
      "(2000,)\n"
     ]
    }
   ],
   "source": [
    "features = data_ml.drop(['Exited'], axis=1)\n",
    "target = data_ml['Exited'] \n",
    "\n",
    "features_train, features_test, target_train, target_test = train_test_split(features, target, test_size=0.4, random_state=12345)\n",
    "features_valid, features_test, target_valid, target_test = train_test_split(features_test, target_test, test_size=0.5, random_state=12345) \n",
    "\n",
    "print(features_train.shape)\n",
    "print(target_train.shape)\n",
    "print(features_test.shape)\n",
    "print(target_test.shape)\n",
    "print(features_valid.shape)\n",
    "print(target_valid.shape)"
   ]
  },
  {
   "cell_type": "markdown",
   "metadata": {},
   "source": [
    "Para ampliar el método del escalador, fije las características numéricas."
   ]
  },
  {
   "cell_type": "code",
   "execution_count": 12,
   "metadata": {},
   "outputs": [
    {
     "data": {
      "text/plain": [
       "StandardScaler()"
      ]
     },
     "execution_count": 12,
     "metadata": {},
     "output_type": "execute_result"
    }
   ],
   "source": [
    "numeric = ['CreditScore', 'Age', 'Tenure', 'Balance', 'NumOfProducts', 'EstimatedSalary']\n",
    "scaler = StandardScaler()\n",
    "scaler.fit(features_train[numeric])"
   ]
  },
  {
   "cell_type": "markdown",
   "metadata": {},
   "source": [
    "Escala los números de las tres muestras."
   ]
  },
  {
   "cell_type": "code",
   "execution_count": 13,
   "metadata": {},
   "outputs": [],
   "source": [
    "features_train[numeric] = scaler.transform(features_train[numeric])\n",
    "features_valid[numeric] = scaler.transform(features_valid[numeric])\n",
    "features_test[numeric] = scaler.transform(features_test[numeric])"
   ]
  },
  {
   "cell_type": "markdown",
   "metadata": {},
   "source": [
    "Los datos están totalmente disponibles para la investigación.\n",
    "\n",
    "## Task Research\n",
    "\n",
    "### Aprendizaje automático\n",
    "\n",
    "#### DecisionTreeClassifier"
   ]
  },
  {
   "cell_type": "code",
   "execution_count": 14,
   "metadata": {},
   "outputs": [
    {
     "name": "stdout",
     "output_type": "stream",
     "text": [
      "Max depth 6\n",
      "F1 0.5696969696969697\n",
      "AUC-ROC 0.8164631712023421\n"
     ]
    }
   ],
   "source": [
    "best_f1 = 0\n",
    "\n",
    "for depth in range(1,10,1):\n",
    "    model_tree=DecisionTreeClassifier(max_depth=depth,random_state=12345).fit(features_train,target_train)\n",
    "    prediction=model_tree.predict(features_valid)\n",
    "    f1 = f1_score(target_valid, prediction)\n",
    "    if f1 > best_f1:\n",
    "        best_model = model_tree\n",
    "        best_f1 = f1\n",
    "        best_depth = depth\n",
    "        \n",
    "probabilities_one_valid = best_model.predict_proba(features_valid)[:, 1]\n",
    "best_roc_auc = roc_auc_score(target_valid, probabilities_one_valid)\n",
    "print('Max depth', best_depth)\n",
    "print('F1', best_f1)\n",
    "print('AUC-ROC', best_roc_auc)"
   ]
  },
  {
   "cell_type": "markdown",
   "metadata": {},
   "source": [
    "#### RandomForestClassifier"
   ]
  },
  {
   "cell_type": "code",
   "execution_count": 15,
   "metadata": {},
   "outputs": [
    {
     "name": "stdout",
     "output_type": "stream",
     "text": [
      "best n_estimators = 7 ;  best max_depth = 19 ;  best F1 =  0.5766871165644172; AUC-ROC 0.8164631712023421\n"
     ]
    }
   ],
   "source": [
    "best_f1 = 0\n",
    "\n",
    "for max_depth in range(1,20,1):\n",
    "    model_forest=RandomForestClassifier(max_depth=max_depth,n_estimators=50,random_state=12345).fit(features_train,target_train)\n",
    "    prediction=model_forest.predict(features_valid)\n",
    "    f1 = f1_score(target_valid, prediction)\n",
    "    if f1 > best_f1:\n",
    "        best_depth = max_depth\n",
    "        best_f1 = f1\n",
    "    \n",
    "for estim in range(1,50,2):\n",
    "    model_forest=RandomForestClassifier(max_depth=11,n_estimators=estim,random_state=12345).fit(features_train,target_train)\n",
    "    prediction=model_forest.predict(features_valid)\n",
    "    f1 = f1_score(target_valid, prediction)\n",
    "    if f1 > best_f1:\n",
    "        best_estim = estim\n",
    "        best_f1 = f1\n",
    "    \n",
    "print('best n_estimators =', \n",
    "      best_estim, \n",
    "      '; ',\n",
    "      'best max_depth =', \n",
    "      best_depth, \n",
    "      '; ', \n",
    "      'best F1 = ', \n",
    "      f1_score(target_valid,prediction), \n",
    "      end =''\n",
    "     ) \n",
    "\n",
    "probabilities_one_valid = best_model.predict_proba(features_valid)[:, 1]\n",
    "best_roc_auc = roc_auc_score(target_valid, probabilities_one_valid)\n",
    "print('; AUC-ROC', best_roc_auc)"
   ]
  },
  {
   "cell_type": "markdown",
   "metadata": {},
   "source": [
    "#### Logistic Regression"
   ]
  },
  {
   "cell_type": "code",
   "execution_count": 16,
   "metadata": {},
   "outputs": [
    {
     "name": "stdout",
     "output_type": "stream",
     "text": [
      "F1: 0.33108108108108103\n"
     ]
    }
   ],
   "source": [
    "model_logistic=LogisticRegression().fit(features_train,target_train)\n",
    "prediction=model_logistic.predict(features_valid)\n",
    "print('F1:',f1_score(target_valid,prediction))"
   ]
  },
  {
   "cell_type": "markdown",
   "metadata": {},
   "source": [
    "El resultado - la precisión más alta (0.578) mostró el modelo \"Bosque aleatorio\" con hiperparámetros Número de árboles - 7, Profundidad del árbol - 19.\n",
    "\n",
    "### Clases de equilibrio\n",
    "\n",
    "Estamos explorando el equilibrio de clases."
   ]
  },
  {
   "cell_type": "code",
   "execution_count": 17,
   "metadata": {},
   "outputs": [
    {
     "data": {
      "image/png": "[encoded data removed]",
      "text/plain": [
       "<Figure size 432x288 with 1 Axes>"
      ]
     },
     "metadata": {
      "needs_background": "light"
     },
     "output_type": "display_data"
    }
   ],
   "source": [
    "target_train.value_counts(normalize = True)\n",
    "target.value_counts().plot.barh()\n",
    "plt.xlabel(\"%-соотношение\")\n",
    "_ = plt.title(\"Дисбаланс\")"
   ]
  },
  {
   "cell_type": "markdown",
   "metadata": {},
   "source": [
    "Hay un desequilibrio. Valores falsos del 80% y 20% verdaderos. Es probable que los resultados de las predicciones se inclinen fuertemente hacia una opción.\n",
    "\n",
    "### Garantía de calidad de los modelos antes del equilibrio"
   ]
  },
  {
   "cell_type": "code",
   "execution_count": 18,
   "metadata": {},
   "outputs": [],
   "source": [
    "# Integridad, precisión y función de aprendizaje F1-medida\n",
    "def rec_prec_f1(target_valid, prediction):\n",
    "    print(\"Полнота\" , recall_score(target_valid, prediction))\n",
    "    print(\"Точность\", precision_score(target_valid, prediction))\n",
    "    print(\"F1-мера\", f1_score(target_valid, prediction))"
   ]
  },
  {
   "cell_type": "code",
   "execution_count": 19,
   "metadata": {},
   "outputs": [],
   "source": [
    "# Función para mostrar la relación de respuesta de los modelos (cuánto 0, cuánto 1)\n",
    "def all_models_share(features_train, target_train, features_valid, target_valid):\n",
    "    model_DTC = DecisionTreeClassifier(max_depth=6,random_state=12345)\n",
    "    model_DTC.fit(features_train, target_train)\n",
    "    DTC_share = pd.Series(model_DTC.predict(features_valid)).value_counts(normalize = 1)\n",
    "    \n",
    "    model_RFC = RandomForestClassifier(random_state=12345, n_estimators=19, max_depth = 7)\n",
    "    model_RFC.fit(features_train, target_train)\n",
    "    RFC_share = pd.Series(model_RFC.predict(features_valid)).value_counts(normalize = 1)\n",
    "    \n",
    "    model_LgR = LogisticRegression(solver = 'liblinear')\n",
    "    model_LgR.fit(features_train, target_train)\n",
    "    LgR_share = pd.Series(model_LgR.predict(features_valid)).value_counts(normalize = 1)\n",
    "    \n",
    "    print(\"Доли ответов:\", \"Дерево решений\", DTC_share, \"Случайный лес \", RFC_share, \"Логистическая регрессия\", LgR_share , end='')"
   ]
  },
  {
   "cell_type": "code",
   "execution_count": 20,
   "metadata": {},
   "outputs": [
    {
     "name": "stdout",
     "output_type": "stream",
     "text": [
      "Доли ответов: Дерево решений False    0.879\n",
      "True     0.121\n",
      "dtype: float64 Случайный лес  False    0.8845\n",
      "True     0.1155\n",
      "dtype: float64 Логистическая регрессия False    0.913\n",
      "True     0.087\n",
      "dtype: float64"
     ]
    }
   ],
   "source": [
    "all_models_share(features_train, target_train, features_valid, target_valid)"
   ]
  },
  {
   "cell_type": "markdown",
   "metadata": {},
   "source": [
    "Vamos a comparar la calidad de las predicciones con el modelo constante, tomando un valor constante de 0."
   ]
  },
  {
   "cell_type": "code",
   "execution_count": 21,
   "metadata": {},
   "outputs": [
    {
     "data": {
      "text/plain": [
       "(2000,)"
      ]
     },
     "execution_count": 21,
     "metadata": {},
     "output_type": "execute_result"
    }
   ],
   "source": [
    "target_predict_constant = pd.Series([0]*len(target_valid))\n",
    "target_predict_constant.shape"
   ]
  },
  {
   "cell_type": "code",
   "execution_count": 22,
   "metadata": {},
   "outputs": [
    {
     "data": {
      "text/plain": [
       "0.791"
      ]
     },
     "execution_count": 22,
     "metadata": {},
     "output_type": "execute_result"
    }
   ],
   "source": [
    "accuracy_score_constant = accuracy_score(target_valid, target_predict_constant)\n",
    "accuracy_score_constant"
   ]
  },
  {
   "cell_type": "markdown",
   "metadata": {},
   "source": [
    "Precisión del modelo constante - 0.791\n",
    "Construimos matrices de errores para cada modelo.\n",
    "\n",
    "#### Matriz de errores del árbol de decisiones"
   ]
  },
  {
   "cell_type": "code",
   "execution_count": 23,
   "metadata": {},
   "outputs": [
    {
     "data": {
      "text/plain": [
       "array([[1528,   54],\n",
       "       [ 230,  188]])"
      ]
     },
     "execution_count": 23,
     "metadata": {},
     "output_type": "execute_result"
    }
   ],
   "source": [
    "model_DTC = DecisionTreeClassifier(max_depth=6,random_state=12345)\n",
    "model_DTC.fit(features_train, target_train)\n",
    "DTC_prediction = model_DTC.predict(features_valid)\n",
    "confusion_matrix(target_valid, DTC_prediction)"
   ]
  },
  {
   "cell_type": "markdown",
   "metadata": {},
   "source": [
    "Predicciones más falsamente positivas (FP).\n",
    "\n",
    "Vamos a evaluar la integridad, precisión y F1-medida."
   ]
  },
  {
   "cell_type": "code",
   "execution_count": 24,
   "metadata": {},
   "outputs": [
    {
     "name": "stdout",
     "output_type": "stream",
     "text": [
      "Полнота 0.23444976076555024\n",
      "Точность 0.5632183908045977\n",
      "F1-мера 0.33108108108108103\n",
      "AUC-ROC 0.8164631712023421\n"
     ]
    }
   ],
   "source": [
    "print(\"Полнота\" , recall_score(target_valid, prediction))\n",
    "print(\"Точность\", precision_score(target_valid, prediction))\n",
    "print(\"F1-мера\", f1_score(target_valid, prediction))\n",
    "predicted = model_DTC.predict(features_valid)\n",
    "proba = model_DTC.predict_proba(features_valid)\n",
    "proba_one = proba[:, 1]    \n",
    "auc_roc = roc_auc_score(target_valid, proba_one)\n",
    "print(\"AUC-ROC\", auc_roc)"
   ]
  },
  {
   "cell_type": "markdown",
   "metadata": {},
   "source": [
    "El bajo valor F1 indica un modelo de baja calidad - el problema es la precisión.\n",
    "\n",
    "Calcularemos AUC-ROC y construiremos una curva ROC."
   ]
  },
  {
   "cell_type": "code",
   "execution_count": 25,
   "metadata": {},
   "outputs": [
    {
     "data": {
      "text/plain": [
       "0.8164631712023421"
      ]
     },
     "execution_count": 25,
     "metadata": {},
     "output_type": "execute_result"
    }
   ],
   "source": [
    "DTC_probabilities_one_valid = model_DTC.predict_proba(features_valid)[:, 1]\n",
    "auc_roc_DTC = roc_auc_score(target_valid, DTC_probabilities_one_valid)\n",
    "auc_roc_DTC"
   ]
  },
  {
   "cell_type": "code",
   "execution_count": 26,
   "metadata": {},
   "outputs": [
    {
     "data": {
      "image/png": "[encoded data removed]",
      "text/plain": [
       "<Figure size 432x288 with 1 Axes>"
      ]
     },
     "metadata": {
      "needs_background": "light"
     },
     "output_type": "display_data"
    }
   ],
   "source": [
    "fpr, tpr, thresholds = roc_curve(target_valid, DTC_probabilities_one_valid) \n",
    "plt.figure()\n",
    "plt.plot(fpr, tpr)\n",
    "plt.plot([0, 1], [0, 1], linestyle='--')\n",
    "plt.xlim([0.0, 1.0])\n",
    "plt.ylim([0.0, 1.0])\n",
    "plt.xlabel('False Positive Rate')\n",
    "plt.ylabel('True Positive Rate')\n",
    "plt.title('ROC-кривая')\n",
    "plt.show()"
   ]
  },
  {
   "cell_type": "markdown",
   "metadata": {},
   "source": [
    "#### Matriz aleatoria de errores forestales"
   ]
  },
  {
   "cell_type": "code",
   "execution_count": 27,
   "metadata": {},
   "outputs": [
    {
     "data": {
      "text/plain": [
       "array([[1534,   48],\n",
       "       [ 235,  183]])"
      ]
     },
     "execution_count": 27,
     "metadata": {},
     "output_type": "execute_result"
    }
   ],
   "source": [
    "model_RFC = RandomForestClassifier(random_state=12345, n_estimators=19, max_depth = 7)\n",
    "model_RFC.fit(features_train, target_train)\n",
    "RFC_prediction = model_RFC.predict(features_valid)\n",
    "confusion_matrix(target_valid, RFC_prediction)"
   ]
  },
  {
   "cell_type": "markdown",
   "metadata": {},
   "source": [
    "De nuevo, los valores están fuertemente inclinados hacia el falso positivo (FP)."
   ]
  },
  {
   "cell_type": "code",
   "execution_count": 28,
   "metadata": {},
   "outputs": [
    {
     "name": "stdout",
     "output_type": "stream",
     "text": [
      "Полнота 0.23444976076555024\n",
      "Точность 0.5632183908045977\n",
      "F1-мера 0.33108108108108103\n",
      "AUC-ROC 0.8452038180729378\n"
     ]
    }
   ],
   "source": [
    "print(\"Полнота\" , recall_score(target_valid, prediction))\n",
    "print(\"Точность\", precision_score(target_valid, prediction))\n",
    "print(\"F1-мера\", f1_score(target_valid, prediction))\n",
    "predicted = model_RFC.predict(features_valid)\n",
    "proba = model_RFC.predict_proba(features_valid)\n",
    "proba_one = proba[:, 1]    \n",
    "auc_roc = roc_auc_score(target_valid, proba_one)\n",
    "print(\"AUC-ROC\", auc_roc)"
   ]
  },
  {
   "cell_type": "markdown",
   "metadata": {},
   "source": [
    "El valor F1 es bajo de nuevo, el problema es la precisión."
   ]
  },
  {
   "cell_type": "code",
   "execution_count": 29,
   "metadata": {},
   "outputs": [
    {
     "data": {
      "text/plain": [
       "0.8452038180729378"
      ]
     },
     "execution_count": 29,
     "metadata": {},
     "output_type": "execute_result"
    }
   ],
   "source": [
    "RFC_probabilities_one_valid = model_RFC.predict_proba(features_valid)[:, 1]\n",
    "auc_roc_RFC = roc_auc_score(target_valid, RFC_probabilities_one_valid)\n",
    "auc_roc_RFC"
   ]
  },
  {
   "cell_type": "code",
   "execution_count": 30,
   "metadata": {},
   "outputs": [
    {
     "data": {
      "image/png": "[encoded data removed]",
      "text/plain": [
       "<Figure size 432x288 with 1 Axes>"
      ]
     },
     "metadata": {
      "needs_background": "light"
     },
     "output_type": "display_data"
    }
   ],
   "source": [
    "fpr, tpr, thresholds = roc_curve(target_valid, RFC_probabilities_one_valid) \n",
    "plt.figure()\n",
    "plt.plot(fpr, tpr)\n",
    "plt.plot([0, 1], [0, 1], linestyle='--')\n",
    "plt.xlim([0.0, 1.0])\n",
    "plt.ylim([0.0, 1.0])\n",
    "plt.xlabel('False Positive Rate')\n",
    "plt.ylabel('True Positive Rate')\n",
    "plt.title('ROC-кривая')\n",
    "plt.show()"
   ]
  },
  {
   "cell_type": "markdown",
   "metadata": {},
   "source": [
    "#### Matriz de errores de regresión logística"
   ]
  },
  {
   "cell_type": "code",
   "execution_count": 31,
   "metadata": {},
   "outputs": [
    {
     "name": "stdout",
     "output_type": "stream",
     "text": [
      "Score 0.8425\n",
      "AUC-ROC 0.7999488866978387\n"
     ]
    },
    {
     "data": {
      "image/png": "[encoded data removed]",
      "text/plain": [
       "<Figure size 432x288 with 1 Axes>"
      ]
     },
     "metadata": {
      "needs_background": "light"
     },
     "output_type": "display_data"
    }
   ],
   "source": [
    "model_RFC = RandomForestClassifier(max_depth=19,n_estimators=7,random_state=12345)\n",
    "model_RFC.fit(features_train, target_train)\n",
    "RFC_probabilities_one_valid_class_weight = model_RFC.predict_proba(features_valid)[:, 1]\n",
    "print(\"Score\", model_RFC.score(features_valid, target_valid))\n",
    "print(\"AUC-ROC\", roc_auc_score(target_valid, RFC_probabilities_one_valid_class_weight))\n",
    "\n",
    "fpr, tpr, thresholds = roc_curve(target_valid, RFC_probabilities_one_valid_class_weight) \n",
    "plt.figure()\n",
    "plt.plot(fpr, tpr)\n",
    "plt.plot([0, 1], [0, 1], linestyle='--')\n",
    "plt.xlim([0.0, 1.0])\n",
    "plt.ylim([0.0, 1.0])\n",
    "plt.xlabel('False Positive Rate')\n",
    "plt.ylabel('True Positive Rate')\n",
    "plt.title('ROC-кривая')\n",
    "plt.show()"
   ]
  },
  {
   "cell_type": "code",
   "execution_count": 32,
   "metadata": {},
   "outputs": [
    {
     "data": {
      "text/plain": [
       "array([[1506,   76],\n",
       "       [ 320,   98]])"
      ]
     },
     "execution_count": 32,
     "metadata": {},
     "output_type": "execute_result"
    }
   ],
   "source": [
    "model_LgR = LogisticRegression(solver = 'liblinear')\n",
    "model_LgR.fit(features_train, target_train)\n",
    "LgR_prediction = model_LgR.predict(features_valid)\n",
    "confusion_matrix(target_valid, LgR_prediction)"
   ]
  },
  {
   "cell_type": "code",
   "execution_count": 33,
   "metadata": {},
   "outputs": [
    {
     "name": "stdout",
     "output_type": "stream",
     "text": [
      "Полнота 0.23444976076555024\n",
      "Точность 0.5632183908045977\n",
      "F1-мера 0.33108108108108103\n",
      "AUC-ROC 0.7587512627102753\n"
     ]
    }
   ],
   "source": [
    "print(\"Полнота\" , recall_score(target_valid, prediction))\n",
    "print(\"Точность\", precision_score(target_valid, prediction))\n",
    "print(\"F1-мера\", f1_score(target_valid, prediction))\n",
    "predicted = model_LgR.predict(features_valid)\n",
    "proba = model_LgR.predict_proba(features_valid)\n",
    "proba_one = proba[:, 1]    \n",
    "auc_roc = roc_auc_score(target_valid, proba_one)\n",
    "print(\"AUC-ROC\", auc_roc)"
   ]
  },
  {
   "cell_type": "markdown",
   "metadata": {},
   "source": [
    "En este caso, considere la métrica AUC-ROC."
   ]
  },
  {
   "cell_type": "code",
   "execution_count": 34,
   "metadata": {},
   "outputs": [
    {
     "data": {
      "text/plain": [
       "0.7587512627102753"
      ]
     },
     "execution_count": 34,
     "metadata": {},
     "output_type": "execute_result"
    }
   ],
   "source": [
    "LgR_probabilities_one_valid = model_LgR.predict_proba(features_valid)[:, 1]\n",
    "auc_roc_LgR = roc_auc_score(target_valid, LgR_probabilities_one_valid)\n",
    "auc_roc_LgR"
   ]
  },
  {
   "cell_type": "markdown",
   "metadata": {},
   "source": [
    "Construye una curva ROC."
   ]
  },
  {
   "cell_type": "code",
   "execution_count": 35,
   "metadata": {},
   "outputs": [
    {
     "data": {
      "image/png": "[encoded data removed]",
      "text/plain": [
       "<Figure size 432x288 with 1 Axes>"
      ]
     },
     "metadata": {
      "needs_background": "light"
     },
     "output_type": "display_data"
    }
   ],
   "source": [
    "fpr, tpr, thresholds = roc_curve(target_valid, LgR_probabilities_one_valid) \n",
    "plt.figure()\n",
    "plt.plot(fpr, tpr)\n",
    "plt.plot([0, 1], [0, 1], linestyle='--')\n",
    "plt.xlim([0.0, 1.0])\n",
    "plt.ylim([0.0, 1.0])\n",
    "plt.xlabel('False Positive Rate')\n",
    "plt.ylabel('True Positive Rate')\n",
    "plt.title('ROC-кривая')\n",
    "plt.show()"
   ]
  },
  {
   "cell_type": "markdown",
   "metadata": {},
   "source": [
    "La precisión de las predicciones no ha mejorado. \n",
    "\n",
    "La alta precisión del modelo puede explicarse por la alta tasa de respuesta negativa en la muestra de validación."
   ]
  },
  {
   "cell_type": "markdown",
   "metadata": {},
   "source": [
    "## Reequilibrio"
   ]
  },
  {
   "cell_type": "markdown",
   "metadata": {},
   "source": [
    "### Técnica de ampliación\n",
    "\n",
    "Vamos a construir un modelo de regresión logística, teniendo en cuenta el desequilibrio, utilizando el muestreo ascendente."
   ]
  },
  {
   "cell_type": "code",
   "execution_count": 36,
   "metadata": {},
   "outputs": [],
   "source": [
    "def upsample(features, target, repeat):\n",
    "    features_zeros = features[target == 0]\n",
    "    features_ones = features[target == 1]\n",
    "    target_zeros = target[target == 0]\n",
    "    target_ones = target[target == 1]\n",
    "    \n",
    "    features_upsampled = pd.concat([features_zeros] + [features_ones] * repeat)\n",
    "    target_upsampled = pd.concat([target_zeros] + [target_ones] * repeat)\n",
    "  \n",
    "    return features_upsampled, target_upsampled"
   ]
  },
  {
   "cell_type": "code",
   "execution_count": 37,
   "metadata": {},
   "outputs": [
    {
     "data": {
      "text/plain": [
       "LogisticRegression(random_state=12345)"
      ]
     },
     "execution_count": 37,
     "metadata": {},
     "output_type": "execute_result"
    }
   ],
   "source": [
    "features_upsampled, target_upsampled = upsample(features_train, target_train, 4) # применим upsampling\n",
    "features_upsampled, target_upsampled = shuffle(features_upsampled, target_upsampled, random_state=12345) # перемешаем строки\n",
    "model_lr_up = LogisticRegression(random_state=12345) # инициируем модель ЛР\n",
    "model_lr_up.fit(features_upsampled, target_upsampled) # обучим модель"
   ]
  },
  {
   "cell_type": "code",
   "execution_count": 38,
   "metadata": {},
   "outputs": [
    {
     "data": {
      "text/plain": [
       "0.4888507718696398"
      ]
     },
     "execution_count": 38,
     "metadata": {},
     "output_type": "execute_result"
    }
   ],
   "source": [
    "predicted_valid_up = model_lr_up.predict(features_valid) # спрогнозируем целевой параметр\n",
    "f1_score(predicted_valid_up, target_valid) # получим критерий f1"
   ]
  },
  {
   "cell_type": "code",
   "execution_count": 39,
   "metadata": {},
   "outputs": [
    {
     "name": "stdout",
     "output_type": "stream",
     "text": [
      "AUC-ROC 0.7636206364664678\n"
     ]
    }
   ],
   "source": [
    "predicted = model_lr_up.predict(features_valid)\n",
    "proba = model_lr_up.predict_proba(features_valid)\n",
    "proba_one = proba[:, 1]    \n",
    "auc_roc = roc_auc_score(target_valid, proba_one)\n",
    "print(\"AUC-ROC\", auc_roc)"
   ]
  },
  {
   "cell_type": "markdown",
   "metadata": {},
   "source": [
    "La técnica de upsampling aumentó F1 para la regresión logística. Para futuras previsiones, utilizaremos las características de los datos obtenidos, ampliadas y con objetivos ampliados.\n",
    "\n",
    "### Cómo equilibrar los pesos de las clases"
   ]
  },
  {
   "cell_type": "code",
   "execution_count": 40,
   "metadata": {},
   "outputs": [
    {
     "data": {
      "text/plain": [
       "LogisticRegression(class_weight='balanced', random_state=12345,\n",
       "                   solver='liblinear')"
      ]
     },
     "execution_count": 40,
     "metadata": {},
     "output_type": "execute_result"
    }
   ],
   "source": [
    "model_lr_balanced = LogisticRegression(random_state=12345, solver='liblinear', class_weight='balanced')\n",
    "model_lr_balanced.fit(features_train, target_train) # обучим модель"
   ]
  },
  {
   "cell_type": "code",
   "execution_count": 41,
   "metadata": {},
   "outputs": [
    {
     "data": {
      "text/plain": [
       "0.4888507718696398"
      ]
     },
     "execution_count": 41,
     "metadata": {},
     "output_type": "execute_result"
    }
   ],
   "source": [
    "predicted_valid_balanced = model_lr_balanced.predict(features_valid) # спрогнозируем целевой параметр\n",
    "f1_score(predicted_valid_balanced, target_valid) # получим критерий f1"
   ]
  },
  {
   "cell_type": "code",
   "execution_count": 42,
   "metadata": {},
   "outputs": [
    {
     "name": "stdout",
     "output_type": "stream",
     "text": [
      "AUC-ROC 0.7637310291013133\n"
     ]
    }
   ],
   "source": [
    "predicted = model_lr_balanced.predict(features_valid)\n",
    "proba = model_lr_balanced.predict_proba(features_valid)\n",
    "proba_one = proba[:, 1]    \n",
    "auc_roc = roc_auc_score(target_valid, proba_one)\n",
    "print(\"AUC-ROC\", auc_roc)"
   ]
  },
  {
   "cell_type": "markdown",
   "metadata": {},
   "source": [
    "El resultado de F1 es el mismo que upsampling.\n",
    "\n",
    "### Select Model"
   ]
  },
  {
   "cell_type": "code",
   "execution_count": 43,
   "metadata": {},
   "outputs": [
    {
     "data": {
      "text/plain": [
       "0.5581835383159887"
      ]
     },
     "execution_count": 43,
     "metadata": {},
     "output_type": "execute_result"
    }
   ],
   "source": [
    "# Decision tree\n",
    "\n",
    "model_dt = DecisionTreeClassifier(max_depth=6,random_state=12345)\n",
    "model_dt.fit(features_upsampled, target_upsampled) \n",
    "predicted_valid_dt = model_dt.predict(features_valid) \n",
    "f1_score(predicted_valid_dt, target_valid) "
   ]
  },
  {
   "cell_type": "code",
   "execution_count": 44,
   "metadata": {},
   "outputs": [
    {
     "data": {
      "text/plain": [
       "0.6156941649899397"
      ]
     },
     "execution_count": 44,
     "metadata": {},
     "output_type": "execute_result"
    }
   ],
   "source": [
    "# RandomForest\n",
    "\n",
    "model_rf = RandomForestClassifier(random_state=12345, n_estimators=19, max_depth = 7)\n",
    "model_rf.fit(features_upsampled, target_upsampled) \n",
    "predicted_valid_rf = model_rf.predict(features_valid) \n",
    "f1_score(predicted_valid_rf, target_valid) "
   ]
  },
  {
   "cell_type": "markdown",
   "metadata": {},
   "source": [
    "En el modelo Random Forest ya hemos conseguido una medida de al menos 0,59. Además, volveremos a comprobar los hiperparámetros."
   ]
  },
  {
   "cell_type": "code",
   "execution_count": 45,
   "metadata": {},
   "outputs": [
    {
     "data": {
      "text/html": [
       "<div>\n",
       "<style scoped>\n",
       "    .dataframe tbody tr th:only-of-type {\n",
       "        vertical-align: middle;\n",
       "    }\n",
       "\n",
       "    .dataframe tbody tr th {\n",
       "        vertical-align: top;\n",
       "    }\n",
       "\n",
       "    .dataframe thead th {\n",
       "        text-align: right;\n",
       "    }\n",
       "</style>\n",
       "<table border=\"1\" class=\"dataframe\">\n",
       "  <thead>\n",
       "    <tr style=\"text-align: right;\">\n",
       "      <th></th>\n",
       "      <th>depth</th>\n",
       "      <th>n_est</th>\n",
       "      <th>f1</th>\n",
       "    </tr>\n",
       "  </thead>\n",
       "  <tbody>\n",
       "    <tr>\n",
       "      <th>0</th>\n",
       "      <td>1.0</td>\n",
       "      <td>10.0</td>\n",
       "      <td>0.515917</td>\n",
       "    </tr>\n",
       "    <tr>\n",
       "      <th>1</th>\n",
       "      <td>6.0</td>\n",
       "      <td>10.0</td>\n",
       "      <td>0.588694</td>\n",
       "    </tr>\n",
       "    <tr>\n",
       "      <th>2</th>\n",
       "      <td>11.0</td>\n",
       "      <td>10.0</td>\n",
       "      <td>0.595023</td>\n",
       "    </tr>\n",
       "    <tr>\n",
       "      <th>3</th>\n",
       "      <td>16.0</td>\n",
       "      <td>10.0</td>\n",
       "      <td>0.575064</td>\n",
       "    </tr>\n",
       "    <tr>\n",
       "      <th>4</th>\n",
       "      <td>21.0</td>\n",
       "      <td>10.0</td>\n",
       "      <td>0.569892</td>\n",
       "    </tr>\n",
       "  </tbody>\n",
       "</table>\n",
       "</div>"
      ],
      "text/plain": [
       "   depth  n_est        f1\n",
       "0    1.0   10.0  0.515917\n",
       "1    6.0   10.0  0.588694\n",
       "2   11.0   10.0  0.595023\n",
       "3   16.0   10.0  0.575064\n",
       "4   21.0   10.0  0.569892"
      ]
     },
     "execution_count": 45,
     "metadata": {},
     "output_type": "execute_result"
    }
   ],
   "source": [
    "df_result = pd.DataFrame(columns=['depth', 'n_est', 'f1'])\n",
    "for n_est in range(10, 101, 10):\n",
    "    for depth in range(1, 25, 5):\n",
    "        model = RandomForestClassifier(n_estimators=n_est, max_depth=depth, random_state=12345)\n",
    "        model.fit(features_upsampled, target_upsampled)\n",
    "        predicted_valid = model.predict(features_valid)\n",
    "        f1 = f1_score(predicted_valid, target_valid)\n",
    "        new_row = pd.Series(data={'depth': depth, 'n_est': n_est, 'f1': f1})\n",
    "        df_result = df_result.append(new_row,ignore_index=True)\n",
    "        \n",
    "df_result.head()"
   ]
  },
  {
   "cell_type": "code",
   "execution_count": 46,
   "metadata": {},
   "outputs": [
    {
     "data": {
      "image/png": "[encoded data removed]",
      "text/plain": [
       "<Figure size 864x360 with 1 Axes>"
      ]
     },
     "metadata": {
      "needs_background": "light"
     },
     "output_type": "display_data"
    },
    {
     "name": "stdout",
     "output_type": "stream",
     "text": [
      "Наилучший показатель f1 0.619750283768445\n"
     ]
    }
   ],
   "source": [
    "fig, ax = plt.subplots()\n",
    "for i in df_result['n_est'].unique():\n",
    "    df_result[df_result['n_est'] == i].plot(x = 'depth', y = 'f1', ax=ax, style='o-', \\\n",
    "                                             grid=True, figsize=(12, 5), legend=True, label='n_est = %s'%i)\n",
    "plt.title('Графики гиперпараметров модели случайного леса')\n",
    "plt.ylabel('F1')\n",
    "plt.show()\n",
    "\n",
    "print('Наилучший показатель f1', float(df_result[(df_result['n_est'] == 100) & (df_result['depth'] == 11)]['f1']))"
   ]
  },
  {
   "cell_type": "markdown",
   "metadata": {},
   "source": [
    "El mejor valor de F1 0.619 fue en hiperparámetros Número de árboles = 60 y Profundidad del árbol = 11."
   ]
  },
  {
   "cell_type": "markdown",
   "metadata": {},
   "source": [
    "## Ensayo de modelos\n",
    "\n",
    "Entrenemos al modelo final."
   ]
  },
  {
   "cell_type": "code",
   "execution_count": 47,
   "metadata": {},
   "outputs": [
    {
     "data": {
      "text/plain": [
       "RandomForestClassifier(class_weight='balanced', max_depth=11, n_estimators=60,\n",
       "                       random_state=12345)"
      ]
     },
     "execution_count": 47,
     "metadata": {},
     "output_type": "execute_result"
    }
   ],
   "source": [
    "model_RFC_final = RandomForestClassifier(\n",
    "    bootstrap = True, class_weight = 'balanced', max_depth= 11,  n_estimators = 60, random_state=12345)\n",
    "model_RFC_final.fit(features_upsampled, target_upsampled)"
   ]
  },
  {
   "cell_type": "code",
   "execution_count": 48,
   "metadata": {},
   "outputs": [
    {
     "name": "stdout",
     "output_type": "stream",
     "text": [
      "Полнота 0.6359338061465721\n",
      "Точность 0.578494623655914\n",
      "F1-мера 0.6058558558558559\n"
     ]
    }
   ],
   "source": [
    "model_RFC_final_prediction = model_RFC_final.predict(features_test)\n",
    "rec_prec_f1(target_test, model_RFC_final_prediction)"
   ]
  },
  {
   "cell_type": "markdown",
   "metadata": {},
   "source": [
    "Calcularemos en la muestra de prueba AUC-ROC para RFC."
   ]
  },
  {
   "cell_type": "code",
   "execution_count": 49,
   "metadata": {},
   "outputs": [
    {
     "data": {
      "text/plain": [
       "0.8521161915298371"
      ]
     },
     "execution_count": 49,
     "metadata": {},
     "output_type": "execute_result"
    }
   ],
   "source": [
    "model_RFC_final_valid = model_RFC_final.predict_proba(features_test)[:, 1]\n",
    "auc_roc_RFC = roc_auc_score(target_test, model_RFC_final_valid)\n",
    "auc_roc_RFC"
   ]
  },
  {
   "cell_type": "markdown",
   "metadata": {},
   "source": [
    "Crea un patrón constante."
   ]
  },
  {
   "cell_type": "code",
   "execution_count": 50,
   "metadata": {},
   "outputs": [
    {
     "data": {
      "text/plain": [
       "0    2000\n",
       "dtype: int64"
      ]
     },
     "execution_count": 50,
     "metadata": {},
     "output_type": "execute_result"
    }
   ],
   "source": [
    "target_predict_constant = pd.Series([0]*len(target_test))\n",
    "target_predict_constant.value_counts()"
   ]
  },
  {
   "cell_type": "markdown",
   "metadata": {},
   "source": [
    "Compare la precisión (exactitud) de los modelos constantes y finales, y luego compare AUC-ROC - el único parámetro que se puede comparar, porque la división constante contiene solo respuestas negativas."
   ]
  },
  {
   "cell_type": "code",
   "execution_count": 51,
   "metadata": {},
   "outputs": [
    {
     "name": "stdout",
     "output_type": "stream",
     "text": [
      "accuracy_score константой модели: 0.791\n",
      "accuracy_score финальной модели: 0.825\n",
      "AUC-ROC константой модели: 0.5\n",
      "AUC-ROC финальной модели: 0.8521161915298371\n"
     ]
    }
   ],
   "source": [
    "print('accuracy_score константой модели:', accuracy_score(target_valid, target_predict_constant))\n",
    "print('accuracy_score финальной модели:', accuracy_score(target_test, model_RFC_final_prediction))\n",
    "print('AUC-ROC константой модели:', roc_auc_score(target_valid, target_predict_constant))\n",
    "print('AUC-ROC финальной модели:', roc_auc_score(target_test, model_RFC_final_valid))"
   ]
  },
  {
   "cell_type": "markdown",
   "metadata": {},
   "source": [
    "El modelo final muestra los resultados por encima de la constante - se puede considerar adecuado!\n",
    "\n",
    "## Pines\n",
    "\n",
    "En los datos iniciales hubo un fuerte desequilibrio de respuestas: 80% negativo y solo 20% positivo, por lo que el modelo no fue probado para adecuación. Todos los modelos con estos datos eran de baja calidad F1 y mostraron bajos resultados de precisión e integridad.\n",
    "\n",
    "Hemos intentado dos maneras de corregir el desequilibrio: aumentando y equilibrando los pesos de clase. Ambas variantes dieron F1 = 0,49, y el número de valores positivos se incrementó.\n",
    "\n",
    "Con los nuevos datos, los resultados del modelo fueron más altos, lo mejor del modelo de Bosque Aleatorio en el modelo de prueba f1 = 0.605 a Profundidad de Árbol = 11 y Número de Árboles = 60.\n",
    "\n",
    "El modelo final pasó la prueba de adecuación, mostrando valores por encima del modelo constante:\n",
    "Relación de respuestas correctas modelo constante: 0.791\n",
    "Tasa de respuesta final del modelo: 0,825\n",
    "\n",
    "Además, se construyó la curva ROC y se midió el AUC-ROC = 0,852."
   ]
  },
  {
   "cell_type": "code",
   "execution_count": null,
   "metadata": {},
   "outputs": [],
   "source": []
  }
 ],
 "metadata": {
  "ExecuteTimeLog": [
   {
    "duration": 47,
    "start_time": "2023-01-20T16:12:28.851Z"
   },
   {
    "duration": 7,
    "start_time": "2023-01-20T16:12:50.221Z"
   },
   {
    "duration": 383,
    "start_time": "2023-01-20T16:12:55.657Z"
   },
   {
    "duration": 103,
    "start_time": "2023-01-20T16:12:56.852Z"
   },
   {
    "duration": 68,
    "start_time": "2023-01-20T16:13:09.942Z"
   },
   {
    "duration": 4,
    "start_time": "2023-01-20T16:21:09.673Z"
   },
   {
    "duration": 22,
    "start_time": "2023-01-20T16:21:22.491Z"
   },
   {
    "duration": 44,
    "start_time": "2023-01-20T16:25:01.987Z"
   },
   {
    "duration": 5,
    "start_time": "2023-01-20T16:25:20.175Z"
   },
   {
    "duration": 32,
    "start_time": "2023-01-20T16:26:03.177Z"
   },
   {
    "duration": 13,
    "start_time": "2023-01-20T16:26:09.868Z"
   },
   {
    "duration": 5,
    "start_time": "2023-01-20T16:33:40.723Z"
   },
   {
    "duration": 9,
    "start_time": "2023-01-20T16:34:50.542Z"
   },
   {
    "duration": 16,
    "start_time": "2023-01-20T16:35:02.757Z"
   },
   {
    "duration": 7,
    "start_time": "2023-01-20T16:35:41.281Z"
   },
   {
    "duration": 420,
    "start_time": "2023-01-20T16:37:18.180Z"
   },
   {
    "duration": 64,
    "start_time": "2023-01-20T16:37:18.602Z"
   },
   {
    "duration": 4,
    "start_time": "2023-01-20T16:37:18.668Z"
   },
   {
    "duration": 40,
    "start_time": "2023-01-20T16:37:18.674Z"
   },
   {
    "duration": 17,
    "start_time": "2023-01-20T16:37:18.723Z"
   },
   {
    "duration": 75,
    "start_time": "2023-01-20T16:58:23.368Z"
   },
   {
    "duration": 5,
    "start_time": "2023-01-20T16:58:32.294Z"
   },
   {
    "duration": 12,
    "start_time": "2023-01-20T16:59:58.718Z"
   },
   {
    "duration": 24,
    "start_time": "2023-01-20T17:01:05.350Z"
   },
   {
    "duration": 12,
    "start_time": "2023-01-20T17:04:43.119Z"
   },
   {
    "duration": 1084,
    "start_time": "2023-01-20T17:05:18.862Z"
   },
   {
    "duration": 62,
    "start_time": "2023-01-20T17:05:19.948Z"
   },
   {
    "duration": 8,
    "start_time": "2023-01-20T17:05:20.017Z"
   },
   {
    "duration": 66,
    "start_time": "2023-01-20T17:05:20.028Z"
   },
   {
    "duration": 16,
    "start_time": "2023-01-20T17:05:20.097Z"
   },
   {
    "duration": 12,
    "start_time": "2023-01-20T17:05:20.116Z"
   },
   {
    "duration": 48,
    "start_time": "2023-01-20T17:05:20.130Z"
   },
   {
    "duration": 12,
    "start_time": "2023-01-20T17:05:20.179Z"
   },
   {
    "duration": 157,
    "start_time": "2023-01-20T17:07:08.029Z"
   },
   {
    "duration": 1209,
    "start_time": "2023-01-20T17:07:43.453Z"
   },
   {
    "duration": 58,
    "start_time": "2023-01-20T17:07:44.664Z"
   },
   {
    "duration": 4,
    "start_time": "2023-01-20T17:07:44.724Z"
   },
   {
    "duration": 20,
    "start_time": "2023-01-20T17:07:44.731Z"
   },
   {
    "duration": 8,
    "start_time": "2023-01-20T17:07:44.753Z"
   },
   {
    "duration": 10,
    "start_time": "2023-01-20T17:07:44.763Z"
   },
   {
    "duration": 52,
    "start_time": "2023-01-20T17:07:44.775Z"
   },
   {
    "duration": 15,
    "start_time": "2023-01-20T17:07:44.829Z"
   },
   {
    "duration": 11,
    "start_time": "2023-01-20T17:07:44.846Z"
   },
   {
    "duration": 40,
    "start_time": "2023-01-20T17:09:25.974Z"
   },
   {
    "duration": 1135,
    "start_time": "2023-01-20T17:10:59.975Z"
   },
   {
    "duration": 64,
    "start_time": "2023-01-20T17:11:01.113Z"
   },
   {
    "duration": 4,
    "start_time": "2023-01-20T17:11:01.178Z"
   },
   {
    "duration": 54,
    "start_time": "2023-01-20T17:11:01.184Z"
   },
   {
    "duration": 16,
    "start_time": "2023-01-20T17:11:01.240Z"
   },
   {
    "duration": 38,
    "start_time": "2023-01-20T17:11:01.257Z"
   },
   {
    "duration": 70,
    "start_time": "2023-01-20T17:11:01.297Z"
   },
   {
    "duration": 13,
    "start_time": "2023-01-20T17:11:01.369Z"
   },
   {
    "duration": 24,
    "start_time": "2023-01-20T17:11:01.384Z"
   },
   {
    "duration": 46,
    "start_time": "2023-01-20T17:11:01.415Z"
   },
   {
    "duration": 1125,
    "start_time": "2023-01-20T17:13:29.147Z"
   },
   {
    "duration": 60,
    "start_time": "2023-01-20T17:13:30.274Z"
   },
   {
    "duration": 5,
    "start_time": "2023-01-20T17:13:30.336Z"
   },
   {
    "duration": 45,
    "start_time": "2023-01-20T17:13:30.344Z"
   },
   {
    "duration": 44,
    "start_time": "2023-01-20T17:13:30.391Z"
   },
   {
    "duration": 53,
    "start_time": "2023-01-20T17:13:30.437Z"
   },
   {
    "duration": 118,
    "start_time": "2023-01-20T17:13:30.492Z"
   },
   {
    "duration": 24,
    "start_time": "2023-01-20T17:13:30.618Z"
   },
   {
    "duration": 43,
    "start_time": "2023-01-20T17:13:30.644Z"
   },
   {
    "duration": 73,
    "start_time": "2023-01-20T17:13:30.690Z"
   },
   {
    "duration": 131,
    "start_time": "2023-01-20T17:18:37.565Z"
   },
   {
    "duration": 1295,
    "start_time": "2023-01-20T17:19:23.034Z"
   },
   {
    "duration": 80,
    "start_time": "2023-01-20T17:19:24.332Z"
   },
   {
    "duration": 10,
    "start_time": "2023-01-20T17:19:24.416Z"
   },
   {
    "duration": 31,
    "start_time": "2023-01-20T17:19:24.430Z"
   },
   {
    "duration": 10,
    "start_time": "2023-01-20T17:19:24.463Z"
   },
   {
    "duration": 10,
    "start_time": "2023-01-20T17:19:24.475Z"
   },
   {
    "duration": 31,
    "start_time": "2023-01-20T17:19:24.486Z"
   },
   {
    "duration": 15,
    "start_time": "2023-01-20T17:19:24.522Z"
   },
   {
    "duration": 18,
    "start_time": "2023-01-20T17:19:24.538Z"
   },
   {
    "duration": 54,
    "start_time": "2023-01-20T17:19:24.560Z"
   },
   {
    "duration": 115,
    "start_time": "2023-01-20T17:19:24.620Z"
   },
   {
    "duration": 1266,
    "start_time": "2023-01-20T17:19:47.835Z"
   },
   {
    "duration": 63,
    "start_time": "2023-01-20T17:19:49.103Z"
   },
   {
    "duration": 4,
    "start_time": "2023-01-20T17:19:49.168Z"
   },
   {
    "duration": 50,
    "start_time": "2023-01-20T17:19:49.173Z"
   },
   {
    "duration": 40,
    "start_time": "2023-01-20T17:19:49.225Z"
   },
   {
    "duration": 22,
    "start_time": "2023-01-20T17:19:49.267Z"
   },
   {
    "duration": 63,
    "start_time": "2023-01-20T17:19:49.291Z"
   },
   {
    "duration": 36,
    "start_time": "2023-01-20T17:19:49.356Z"
   },
   {
    "duration": 58,
    "start_time": "2023-01-20T17:19:49.394Z"
   },
   {
    "duration": 66,
    "start_time": "2023-01-20T17:19:49.454Z"
   },
   {
    "duration": 228,
    "start_time": "2023-01-20T17:19:49.522Z"
   },
   {
    "duration": 8300,
    "start_time": "2023-01-20T17:21:05.493Z"
   },
   {
    "duration": 290,
    "start_time": "2023-01-20T17:22:17.243Z"
   },
   {
    "duration": 7,
    "start_time": "2023-01-20T17:47:37.254Z"
   },
   {
    "duration": 575,
    "start_time": "2023-01-20T17:47:56.140Z"
   },
   {
    "duration": 1417,
    "start_time": "2023-01-20T17:50:17.754Z"
   },
   {
    "duration": 66,
    "start_time": "2023-01-20T17:50:19.173Z"
   },
   {
    "duration": 4,
    "start_time": "2023-01-20T17:50:19.241Z"
   },
   {
    "duration": 31,
    "start_time": "2023-01-20T17:50:19.248Z"
   },
   {
    "duration": 9,
    "start_time": "2023-01-20T17:50:19.281Z"
   },
   {
    "duration": 6,
    "start_time": "2023-01-20T17:50:19.292Z"
   },
   {
    "duration": 38,
    "start_time": "2023-01-20T17:50:19.299Z"
   },
   {
    "duration": 14,
    "start_time": "2023-01-20T17:50:19.339Z"
   },
   {
    "duration": 16,
    "start_time": "2023-01-20T17:50:19.355Z"
   },
   {
    "duration": 33,
    "start_time": "2023-01-20T17:50:19.373Z"
   },
   {
    "duration": 225,
    "start_time": "2023-01-20T17:50:19.408Z"
   },
   {
    "duration": 8191,
    "start_time": "2023-01-20T17:50:19.636Z"
   },
   {
    "duration": 477,
    "start_time": "2023-01-20T17:50:27.830Z"
   },
   {
    "duration": 212,
    "start_time": "2023-01-20T17:50:28.314Z"
   },
   {
    "duration": 103,
    "start_time": "2023-01-20T17:52:19.143Z"
   },
   {
    "duration": 96,
    "start_time": "2023-01-20T17:52:26.887Z"
   },
   {
    "duration": 104,
    "start_time": "2023-01-20T17:52:31.874Z"
   },
   {
    "duration": 16,
    "start_time": "2023-01-20T17:58:16.320Z"
   },
   {
    "duration": 34,
    "start_time": "2023-01-20T17:58:32.791Z"
   },
   {
    "duration": 10,
    "start_time": "2023-01-20T17:59:01.278Z"
   },
   {
    "duration": 3,
    "start_time": "2023-01-20T18:11:02.561Z"
   },
   {
    "duration": 6,
    "start_time": "2023-01-20T18:13:19.499Z"
   },
   {
    "duration": 5,
    "start_time": "2023-01-20T18:13:20.333Z"
   },
   {
    "duration": 877,
    "start_time": "2023-01-20T18:13:21.229Z"
   },
   {
    "duration": 102,
    "start_time": "2023-01-20T18:13:48.994Z"
   },
   {
    "duration": 5,
    "start_time": "2023-01-20T18:14:34.534Z"
   },
   {
    "duration": 7,
    "start_time": "2023-01-20T18:14:54.190Z"
   },
   {
    "duration": 6,
    "start_time": "2023-01-20T18:15:33.937Z"
   },
   {
    "duration": 111,
    "start_time": "2023-01-20T18:15:51.887Z"
   },
   {
    "duration": 99,
    "start_time": "2023-01-20T18:16:25.581Z"
   },
   {
    "duration": 7,
    "start_time": "2023-01-20T18:16:32.126Z"
   },
   {
    "duration": 1682,
    "start_time": "2023-01-23T20:42:28.528Z"
   },
   {
    "duration": 203,
    "start_time": "2023-01-23T20:42:30.212Z"
   },
   {
    "duration": 7,
    "start_time": "2023-01-23T20:42:30.417Z"
   },
   {
    "duration": 56,
    "start_time": "2023-01-23T20:42:30.427Z"
   },
   {
    "duration": 18,
    "start_time": "2023-01-23T20:42:30.484Z"
   },
   {
    "duration": 42,
    "start_time": "2023-01-23T20:42:30.504Z"
   },
   {
    "duration": 34,
    "start_time": "2023-01-23T20:42:30.548Z"
   },
   {
    "duration": 27,
    "start_time": "2023-01-23T20:42:30.584Z"
   },
   {
    "duration": 11,
    "start_time": "2023-01-23T20:42:30.613Z"
   },
   {
    "duration": 62,
    "start_time": "2023-01-23T20:42:30.627Z"
   },
   {
    "duration": 211,
    "start_time": "2023-01-23T20:42:30.691Z"
   },
   {
    "duration": 8055,
    "start_time": "2023-01-23T20:42:30.903Z"
   },
   {
    "duration": 1269,
    "start_time": "2023-01-23T20:42:38.960Z"
   },
   {
    "duration": 11,
    "start_time": "2023-01-23T20:42:40.232Z"
   },
   {
    "duration": 25,
    "start_time": "2023-01-23T20:42:40.323Z"
   },
   {
    "duration": 6,
    "start_time": "2023-01-23T20:42:40.350Z"
   },
   {
    "duration": 768,
    "start_time": "2023-01-23T20:42:40.357Z"
   },
   {
    "duration": 49,
    "start_time": "2023-01-25T20:26:22.680Z"
   },
   {
    "duration": 1447,
    "start_time": "2023-01-25T20:26:30.260Z"
   },
   {
    "duration": 92,
    "start_time": "2023-01-25T20:26:31.709Z"
   },
   {
    "duration": 3,
    "start_time": "2023-01-25T20:26:31.803Z"
   },
   {
    "duration": 17,
    "start_time": "2023-01-25T20:26:31.808Z"
   },
   {
    "duration": 7,
    "start_time": "2023-01-25T20:26:31.826Z"
   },
   {
    "duration": 5,
    "start_time": "2023-01-25T20:26:31.834Z"
   },
   {
    "duration": 37,
    "start_time": "2023-01-25T20:26:31.840Z"
   },
   {
    "duration": 11,
    "start_time": "2023-01-25T20:26:31.879Z"
   },
   {
    "duration": 9,
    "start_time": "2023-01-25T20:26:31.892Z"
   },
   {
    "duration": 22,
    "start_time": "2023-01-25T20:26:31.911Z"
   },
   {
    "duration": 231,
    "start_time": "2023-01-25T20:26:31.935Z"
   },
   {
    "duration": 7961,
    "start_time": "2023-01-25T20:26:32.168Z"
   },
   {
    "duration": 180,
    "start_time": "2023-01-25T20:26:40.131Z"
   },
   {
    "duration": 102,
    "start_time": "2023-01-25T20:26:40.313Z"
   },
   {
    "duration": 3,
    "start_time": "2023-01-25T20:26:40.417Z"
   },
   {
    "duration": 7,
    "start_time": "2023-01-25T20:26:40.422Z"
   },
   {
    "duration": 883,
    "start_time": "2023-01-25T20:26:40.431Z"
   },
   {
    "duration": 93,
    "start_time": "2023-01-25T20:26:41.317Z"
   },
   {
    "duration": 7,
    "start_time": "2023-01-25T20:27:03.117Z"
   },
   {
    "duration": 167,
    "start_time": "2023-01-25T20:44:16.118Z"
   },
   {
    "duration": 1386,
    "start_time": "2023-01-25T20:44:59.045Z"
   },
   {
    "duration": 53,
    "start_time": "2023-01-25T20:45:00.432Z"
   },
   {
    "duration": 3,
    "start_time": "2023-01-25T20:45:00.487Z"
   },
   {
    "duration": 51,
    "start_time": "2023-01-25T20:45:00.492Z"
   },
   {
    "duration": 34,
    "start_time": "2023-01-25T20:45:00.544Z"
   },
   {
    "duration": 37,
    "start_time": "2023-01-25T20:45:00.579Z"
   },
   {
    "duration": 52,
    "start_time": "2023-01-25T20:45:00.619Z"
   },
   {
    "duration": 21,
    "start_time": "2023-01-25T20:45:00.673Z"
   },
   {
    "duration": 13,
    "start_time": "2023-01-25T20:45:00.696Z"
   },
   {
    "duration": 36,
    "start_time": "2023-01-25T20:45:00.712Z"
   },
   {
    "duration": 244,
    "start_time": "2023-01-25T20:45:00.750Z"
   },
   {
    "duration": 8192,
    "start_time": "2023-01-25T20:45:00.996Z"
   },
   {
    "duration": 127,
    "start_time": "2023-01-25T20:45:09.189Z"
   },
   {
    "duration": 192,
    "start_time": "2023-01-25T20:45:09.319Z"
   },
   {
    "duration": 4,
    "start_time": "2023-01-25T20:45:09.514Z"
   },
   {
    "duration": 7,
    "start_time": "2023-01-25T20:45:09.519Z"
   },
   {
    "duration": 883,
    "start_time": "2023-01-25T20:45:09.527Z"
   },
   {
    "duration": 8,
    "start_time": "2023-01-25T20:45:10.412Z"
   },
   {
    "duration": 95,
    "start_time": "2023-01-25T20:45:10.422Z"
   },
   {
    "duration": 47,
    "start_time": "2023-01-25T20:45:10.518Z"
   },
   {
    "duration": 3,
    "start_time": "2023-01-25T20:48:40.949Z"
   },
   {
    "duration": 119,
    "start_time": "2023-01-25T20:48:48.634Z"
   },
   {
    "duration": 1341,
    "start_time": "2023-01-25T20:50:06.798Z"
   },
   {
    "duration": 53,
    "start_time": "2023-01-25T20:50:08.142Z"
   },
   {
    "duration": 4,
    "start_time": "2023-01-25T20:50:08.197Z"
   },
   {
    "duration": 26,
    "start_time": "2023-01-25T20:50:08.203Z"
   },
   {
    "duration": 9,
    "start_time": "2023-01-25T20:50:08.232Z"
   },
   {
    "duration": 4,
    "start_time": "2023-01-25T20:50:08.243Z"
   },
   {
    "duration": 23,
    "start_time": "2023-01-25T20:50:08.248Z"
   },
   {
    "duration": 12,
    "start_time": "2023-01-25T20:50:08.273Z"
   },
   {
    "duration": 9,
    "start_time": "2023-01-25T20:50:08.309Z"
   },
   {
    "duration": 22,
    "start_time": "2023-01-25T20:50:08.321Z"
   },
   {
    "duration": 238,
    "start_time": "2023-01-25T20:50:08.345Z"
   },
   {
    "duration": 7975,
    "start_time": "2023-01-25T20:50:08.585Z"
   },
   {
    "duration": 156,
    "start_time": "2023-01-25T20:50:16.562Z"
   },
   {
    "duration": 209,
    "start_time": "2023-01-25T20:50:16.719Z"
   },
   {
    "duration": 14,
    "start_time": "2023-01-25T20:50:16.930Z"
   },
   {
    "duration": 29,
    "start_time": "2023-01-25T20:50:16.945Z"
   },
   {
    "duration": 936,
    "start_time": "2023-01-25T20:50:16.975Z"
   },
   {
    "duration": 93,
    "start_time": "2023-01-25T20:50:17.917Z"
   },
   {
    "duration": 24,
    "start_time": "2023-01-25T20:50:18.012Z"
   },
   {
    "duration": 56,
    "start_time": "2023-01-25T20:50:18.038Z"
   },
   {
    "duration": 4,
    "start_time": "2023-01-25T20:50:18.095Z"
   },
   {
    "duration": 145,
    "start_time": "2023-01-25T20:50:18.101Z"
   },
   {
    "duration": 1281,
    "start_time": "2023-01-25T20:50:33.117Z"
   },
   {
    "duration": 58,
    "start_time": "2023-01-25T20:50:34.400Z"
   },
   {
    "duration": 4,
    "start_time": "2023-01-25T20:50:34.460Z"
   },
   {
    "duration": 19,
    "start_time": "2023-01-25T20:50:34.465Z"
   },
   {
    "duration": 8,
    "start_time": "2023-01-25T20:50:34.486Z"
   },
   {
    "duration": 8,
    "start_time": "2023-01-25T20:50:34.495Z"
   },
   {
    "duration": 26,
    "start_time": "2023-01-25T20:50:34.505Z"
   },
   {
    "duration": 12,
    "start_time": "2023-01-25T20:50:34.532Z"
   },
   {
    "duration": 12,
    "start_time": "2023-01-25T20:50:34.546Z"
   },
   {
    "duration": 25,
    "start_time": "2023-01-25T20:50:34.560Z"
   },
   {
    "duration": 274,
    "start_time": "2023-01-25T20:50:34.587Z"
   },
   {
    "duration": 7954,
    "start_time": "2023-01-25T20:50:34.863Z"
   },
   {
    "duration": 293,
    "start_time": "2023-01-25T20:50:42.819Z"
   },
   {
    "duration": 102,
    "start_time": "2023-01-25T20:50:43.116Z"
   },
   {
    "duration": 35,
    "start_time": "2023-01-25T20:50:43.219Z"
   },
   {
    "duration": 36,
    "start_time": "2023-01-25T20:50:43.256Z"
   },
   {
    "duration": 919,
    "start_time": "2023-01-25T20:50:43.293Z"
   },
   {
    "duration": 96,
    "start_time": "2023-01-25T20:50:44.215Z"
   },
   {
    "duration": 26,
    "start_time": "2023-01-25T20:50:44.313Z"
   },
   {
    "duration": 62,
    "start_time": "2023-01-25T20:50:44.341Z"
   },
   {
    "duration": 14,
    "start_time": "2023-01-25T20:50:44.405Z"
   },
   {
    "duration": 28,
    "start_time": "2023-01-25T20:50:44.420Z"
   },
   {
    "duration": 784,
    "start_time": "2023-01-25T21:20:13.002Z"
   },
   {
    "duration": 117,
    "start_time": "2023-01-25T21:20:59.139Z"
   },
   {
    "duration": 9,
    "start_time": "2023-01-25T21:42:57.873Z"
   },
   {
    "duration": 166,
    "start_time": "2023-01-25T21:46:51.963Z"
   },
   {
    "duration": 13,
    "start_time": "2023-01-25T21:48:10.538Z"
   },
   {
    "duration": 14,
    "start_time": "2023-01-25T21:55:19.398Z"
   },
   {
    "duration": 39,
    "start_time": "2023-01-25T21:55:46.842Z"
   },
   {
    "duration": 119,
    "start_time": "2023-01-25T21:56:08.560Z"
   },
   {
    "duration": 1254,
    "start_time": "2023-01-25T21:56:57.150Z"
   },
   {
    "duration": 52,
    "start_time": "2023-01-25T21:56:58.405Z"
   },
   {
    "duration": 4,
    "start_time": "2023-01-25T21:56:58.458Z"
   },
   {
    "duration": 32,
    "start_time": "2023-01-25T21:56:58.464Z"
   },
   {
    "duration": 17,
    "start_time": "2023-01-25T21:56:58.497Z"
   },
   {
    "duration": 34,
    "start_time": "2023-01-25T21:56:58.515Z"
   },
   {
    "duration": 53,
    "start_time": "2023-01-25T21:56:58.551Z"
   },
   {
    "duration": 32,
    "start_time": "2023-01-25T21:56:58.606Z"
   },
   {
    "duration": 37,
    "start_time": "2023-01-25T21:56:58.640Z"
   },
   {
    "duration": 47,
    "start_time": "2023-01-25T21:56:58.679Z"
   },
   {
    "duration": 230,
    "start_time": "2023-01-25T21:56:58.727Z"
   },
   {
    "duration": 8218,
    "start_time": "2023-01-25T21:56:58.959Z"
   },
   {
    "duration": 343,
    "start_time": "2023-01-25T21:57:07.179Z"
   },
   {
    "duration": 88,
    "start_time": "2023-01-25T21:57:07.524Z"
   },
   {
    "duration": 11,
    "start_time": "2023-01-25T21:57:07.613Z"
   },
   {
    "duration": 7,
    "start_time": "2023-01-25T21:57:07.626Z"
   },
   {
    "duration": 979,
    "start_time": "2023-01-25T21:57:07.634Z"
   },
   {
    "duration": 96,
    "start_time": "2023-01-25T21:57:08.615Z"
   },
   {
    "duration": 14,
    "start_time": "2023-01-25T21:57:08.712Z"
   },
   {
    "duration": 55,
    "start_time": "2023-01-25T21:57:08.727Z"
   },
   {
    "duration": 2,
    "start_time": "2023-01-25T21:57:08.784Z"
   },
   {
    "duration": 22,
    "start_time": "2023-01-25T21:57:08.788Z"
   },
   {
    "duration": 131,
    "start_time": "2023-01-25T21:57:08.811Z"
   },
   {
    "duration": 10,
    "start_time": "2023-01-25T21:57:08.944Z"
   },
   {
    "duration": 57,
    "start_time": "2023-01-25T21:57:08.956Z"
   },
   {
    "duration": 97,
    "start_time": "2023-01-25T21:57:09.017Z"
   },
   {
    "duration": 254,
    "start_time": "2023-01-25T21:57:09.116Z"
   },
   {
    "duration": 10,
    "start_time": "2023-01-25T22:01:53.751Z"
   },
   {
    "duration": 297,
    "start_time": "2023-01-25T22:07:45.114Z"
   },
   {
    "duration": 5,
    "start_time": "2023-01-25T22:14:04.825Z"
   },
   {
    "duration": 132,
    "start_time": "2023-01-25T22:14:29.571Z"
   },
   {
    "duration": 6,
    "start_time": "2023-01-25T22:14:47.460Z"
   },
   {
    "duration": 13,
    "start_time": "2023-01-25T22:16:02.867Z"
   },
   {
    "duration": 4,
    "start_time": "2023-01-25T22:16:31.140Z"
   },
   {
    "duration": 14,
    "start_time": "2023-01-25T22:16:52.182Z"
   },
   {
    "duration": 7,
    "start_time": "2023-01-25T22:17:29.938Z"
   },
   {
    "duration": 18,
    "start_time": "2023-01-25T22:19:52.186Z"
   },
   {
    "duration": 11,
    "start_time": "2023-01-25T22:20:07.236Z"
   },
   {
    "duration": 4,
    "start_time": "2023-01-25T22:23:16.684Z"
   },
   {
    "duration": 15,
    "start_time": "2023-01-25T22:24:40.614Z"
   },
   {
    "duration": 1282,
    "start_time": "2023-01-25T22:25:27.806Z"
   },
   {
    "duration": 56,
    "start_time": "2023-01-25T22:25:29.091Z"
   },
   {
    "duration": 3,
    "start_time": "2023-01-25T22:25:29.149Z"
   },
   {
    "duration": 14,
    "start_time": "2023-01-25T22:25:29.154Z"
   },
   {
    "duration": 6,
    "start_time": "2023-01-25T22:25:29.169Z"
   },
   {
    "duration": 6,
    "start_time": "2023-01-25T22:25:29.177Z"
   },
   {
    "duration": 34,
    "start_time": "2023-01-25T22:25:29.184Z"
   },
   {
    "duration": 9,
    "start_time": "2023-01-25T22:25:29.220Z"
   },
   {
    "duration": 8,
    "start_time": "2023-01-25T22:25:29.231Z"
   },
   {
    "duration": 19,
    "start_time": "2023-01-25T22:25:29.242Z"
   },
   {
    "duration": 240,
    "start_time": "2023-01-25T22:25:29.263Z"
   },
   {
    "duration": 7919,
    "start_time": "2023-01-25T22:25:29.505Z"
   },
   {
    "duration": 186,
    "start_time": "2023-01-25T22:25:37.425Z"
   },
   {
    "duration": 101,
    "start_time": "2023-01-25T22:25:37.614Z"
   },
   {
    "duration": 16,
    "start_time": "2023-01-25T22:25:37.717Z"
   },
   {
    "duration": 36,
    "start_time": "2023-01-25T22:25:37.735Z"
   },
   {
    "duration": 842,
    "start_time": "2023-01-25T22:25:37.772Z"
   },
   {
    "duration": 95,
    "start_time": "2023-01-25T22:25:38.618Z"
   },
   {
    "duration": 115,
    "start_time": "2023-01-25T22:25:38.715Z"
   },
   {
    "duration": 55,
    "start_time": "2023-01-25T22:25:38.832Z"
   },
   {
    "duration": 3,
    "start_time": "2023-01-25T22:25:38.889Z"
   },
   {
    "duration": 33,
    "start_time": "2023-01-25T22:25:38.894Z"
   },
   {
    "duration": 123,
    "start_time": "2023-01-25T22:25:38.928Z"
   },
   {
    "duration": 9,
    "start_time": "2023-01-25T22:25:39.053Z"
   },
   {
    "duration": 47,
    "start_time": "2023-01-25T22:25:39.064Z"
   },
   {
    "duration": 198,
    "start_time": "2023-01-25T22:25:39.113Z"
   },
   {
    "duration": 35,
    "start_time": "2023-01-25T22:25:39.313Z"
   },
   {
    "duration": 301,
    "start_time": "2023-01-25T22:25:39.352Z"
   },
   {
    "duration": 342,
    "start_time": "2023-01-25T22:25:39.654Z"
   },
   {
    "duration": 17,
    "start_time": "2023-01-25T22:25:39.997Z"
   },
   {
    "duration": 32,
    "start_time": "2023-01-25T22:25:40.016Z"
   },
   {
    "duration": 30,
    "start_time": "2023-01-25T22:25:40.050Z"
   },
   {
    "duration": 57,
    "start_time": "2023-01-25T22:25:40.082Z"
   },
   {
    "duration": 49,
    "start_time": "2023-01-25T22:25:40.141Z"
   },
   {
    "duration": 19,
    "start_time": "2023-01-25T22:25:40.191Z"
   },
   {
    "duration": 26,
    "start_time": "2023-01-25T22:25:40.212Z"
   },
   {
    "duration": 172,
    "start_time": "2023-01-25T22:25:40.239Z"
   },
   {
    "duration": 13,
    "start_time": "2023-01-25T22:26:46.485Z"
   },
   {
    "duration": 20,
    "start_time": "2023-01-25T22:30:39.151Z"
   },
   {
    "duration": 15,
    "start_time": "2023-01-25T22:31:05.004Z"
   },
   {
    "duration": 53,
    "start_time": "2023-01-25T22:35:24.039Z"
   },
   {
    "duration": 1071,
    "start_time": "2023-01-25T22:36:15.808Z"
   },
   {
    "duration": 21421,
    "start_time": "2023-01-25T22:37:40.245Z"
   },
   {
    "duration": 21362,
    "start_time": "2023-01-25T22:39:29.917Z"
   },
   {
    "duration": 432,
    "start_time": "2023-01-25T22:41:17.784Z"
   },
   {
    "duration": 334,
    "start_time": "2023-01-25T22:41:59.753Z"
   },
   {
    "duration": 122,
    "start_time": "2023-01-25T22:45:00.081Z"
   },
   {
    "duration": 14,
    "start_time": "2023-01-25T22:47:19.619Z"
   },
   {
    "duration": 9,
    "start_time": "2023-01-25T22:48:20.934Z"
   },
   {
    "duration": 10,
    "start_time": "2023-01-25T22:49:12.441Z"
   },
   {
    "duration": 877,
    "start_time": "2023-01-25T22:49:47.351Z"
   },
   {
    "duration": 51,
    "start_time": "2023-01-25T22:50:23.445Z"
   },
   {
    "duration": 44,
    "start_time": "2023-01-25T22:52:01.514Z"
   },
   {
    "duration": 6,
    "start_time": "2023-01-25T22:52:36.066Z"
   },
   {
    "duration": 9,
    "start_time": "2023-01-25T22:54:33.147Z"
   },
   {
    "duration": 1282,
    "start_time": "2023-01-25T23:11:14.319Z"
   },
   {
    "duration": 53,
    "start_time": "2023-01-25T23:11:15.602Z"
   },
   {
    "duration": 4,
    "start_time": "2023-01-25T23:11:15.656Z"
   },
   {
    "duration": 21,
    "start_time": "2023-01-25T23:11:15.661Z"
   },
   {
    "duration": 8,
    "start_time": "2023-01-25T23:11:15.684Z"
   },
   {
    "duration": 8,
    "start_time": "2023-01-25T23:11:15.693Z"
   },
   {
    "duration": 25,
    "start_time": "2023-01-25T23:11:15.702Z"
   },
   {
    "duration": 10,
    "start_time": "2023-01-25T23:11:15.728Z"
   },
   {
    "duration": 9,
    "start_time": "2023-01-25T23:11:15.739Z"
   },
   {
    "duration": 25,
    "start_time": "2023-01-25T23:11:15.749Z"
   },
   {
    "duration": 233,
    "start_time": "2023-01-25T23:11:15.775Z"
   },
   {
    "duration": 7866,
    "start_time": "2023-01-25T23:11:16.010Z"
   },
   {
    "duration": 135,
    "start_time": "2023-01-25T23:11:23.878Z"
   },
   {
    "duration": 97,
    "start_time": "2023-01-25T23:11:24.017Z"
   },
   {
    "duration": 4,
    "start_time": "2023-01-25T23:11:24.116Z"
   },
   {
    "duration": 6,
    "start_time": "2023-01-25T23:11:24.122Z"
   },
   {
    "duration": 887,
    "start_time": "2023-01-25T23:11:24.130Z"
   },
   {
    "duration": 6,
    "start_time": "2023-01-25T23:11:25.109Z"
   },
   {
    "duration": 113,
    "start_time": "2023-01-25T23:11:25.117Z"
   },
   {
    "duration": 57,
    "start_time": "2023-01-25T23:11:25.231Z"
   },
   {
    "duration": 4,
    "start_time": "2023-01-25T23:11:25.290Z"
   },
   {
    "duration": 15,
    "start_time": "2023-01-25T23:11:25.296Z"
   },
   {
    "duration": 129,
    "start_time": "2023-01-25T23:11:25.313Z"
   },
   {
    "duration": 9,
    "start_time": "2023-01-25T23:11:25.443Z"
   },
   {
    "duration": 60,
    "start_time": "2023-01-25T23:11:25.454Z"
   },
   {
    "duration": 103,
    "start_time": "2023-01-25T23:11:25.515Z"
   },
   {
    "duration": 91,
    "start_time": "2023-01-25T23:11:25.620Z"
   },
   {
    "duration": 213,
    "start_time": "2023-01-25T23:11:25.712Z"
   },
   {
    "duration": 288,
    "start_time": "2023-01-25T23:11:25.927Z"
   },
   {
    "duration": 5,
    "start_time": "2023-01-25T23:11:26.217Z"
   },
   {
    "duration": 23,
    "start_time": "2023-01-25T23:11:26.224Z"
   },
   {
    "duration": 22,
    "start_time": "2023-01-25T23:11:26.248Z"
   },
   {
    "duration": 11,
    "start_time": "2023-01-25T23:11:26.271Z"
   },
   {
    "duration": 22,
    "start_time": "2023-01-25T23:11:26.284Z"
   },
   {
    "duration": 10,
    "start_time": "2023-01-25T23:11:26.307Z"
   },
   {
    "duration": 24,
    "start_time": "2023-01-25T23:11:26.318Z"
   },
   {
    "duration": 169,
    "start_time": "2023-01-25T23:11:26.343Z"
   },
   {
    "duration": 97,
    "start_time": "2023-01-25T23:11:26.514Z"
   },
   {
    "duration": 124,
    "start_time": "2023-01-25T23:11:26.613Z"
   },
   {
    "duration": 71,
    "start_time": "2023-01-25T23:11:26.739Z"
   },
   {
    "duration": 146,
    "start_time": "2023-01-25T23:11:26.815Z"
   },
   {
    "duration": 1026,
    "start_time": "2023-01-25T23:11:26.962Z"
   },
   {
    "duration": 21206,
    "start_time": "2023-01-25T23:11:27.990Z"
   },
   {
    "duration": 395,
    "start_time": "2023-01-25T23:11:49.197Z"
   },
   {
    "duration": 872,
    "start_time": "2023-01-25T23:11:49.609Z"
   },
   {
    "duration": 54,
    "start_time": "2023-01-25T23:11:50.482Z"
   },
   {
    "duration": 45,
    "start_time": "2023-01-25T23:11:50.538Z"
   },
   {
    "duration": 5,
    "start_time": "2023-01-25T23:11:50.585Z"
   },
   {
    "duration": 8,
    "start_time": "2023-01-25T23:11:50.610Z"
   },
   {
    "duration": 80,
    "start_time": "2023-01-29T12:19:29.526Z"
   },
   {
    "duration": 1464,
    "start_time": "2023-01-29T12:21:47.332Z"
   },
   {
    "duration": 193,
    "start_time": "2023-01-29T12:21:48.798Z"
   },
   {
    "duration": 3,
    "start_time": "2023-01-29T12:21:48.993Z"
   },
   {
    "duration": 12,
    "start_time": "2023-01-29T12:21:48.998Z"
   },
   {
    "duration": 16,
    "start_time": "2023-01-29T12:21:49.012Z"
   },
   {
    "duration": 143,
    "start_time": "2023-01-29T12:21:49.031Z"
   },
   {
    "duration": 0,
    "start_time": "2023-01-29T12:21:49.178Z"
   },
   {
    "duration": 0,
    "start_time": "2023-01-29T12:21:49.179Z"
   },
   {
    "duration": 0,
    "start_time": "2023-01-29T12:21:49.191Z"
   },
   {
    "duration": 0,
    "start_time": "2023-01-29T12:21:49.194Z"
   },
   {
    "duration": 0,
    "start_time": "2023-01-29T12:21:49.195Z"
   },
   {
    "duration": 0,
    "start_time": "2023-01-29T12:21:49.197Z"
   },
   {
    "duration": 0,
    "start_time": "2023-01-29T12:21:49.199Z"
   },
   {
    "duration": 0,
    "start_time": "2023-01-29T12:21:49.200Z"
   },
   {
    "duration": 0,
    "start_time": "2023-01-29T12:21:49.202Z"
   },
   {
    "duration": 0,
    "start_time": "2023-01-29T12:21:49.203Z"
   },
   {
    "duration": 0,
    "start_time": "2023-01-29T12:21:49.204Z"
   },
   {
    "duration": 0,
    "start_time": "2023-01-29T12:21:49.206Z"
   },
   {
    "duration": 0,
    "start_time": "2023-01-29T12:21:49.207Z"
   },
   {
    "duration": 0,
    "start_time": "2023-01-29T12:21:49.208Z"
   },
   {
    "duration": 0,
    "start_time": "2023-01-29T12:21:49.209Z"
   },
   {
    "duration": 0,
    "start_time": "2023-01-29T12:21:49.210Z"
   },
   {
    "duration": 0,
    "start_time": "2023-01-29T12:21:49.211Z"
   },
   {
    "duration": 0,
    "start_time": "2023-01-29T12:21:49.212Z"
   },
   {
    "duration": 0,
    "start_time": "2023-01-29T12:21:49.212Z"
   },
   {
    "duration": 0,
    "start_time": "2023-01-29T12:21:49.213Z"
   },
   {
    "duration": 0,
    "start_time": "2023-01-29T12:21:49.214Z"
   },
   {
    "duration": 0,
    "start_time": "2023-01-29T12:21:49.215Z"
   },
   {
    "duration": 0,
    "start_time": "2023-01-29T12:21:49.220Z"
   },
   {
    "duration": 0,
    "start_time": "2023-01-29T12:21:49.223Z"
   },
   {
    "duration": 0,
    "start_time": "2023-01-29T12:21:49.223Z"
   },
   {
    "duration": 0,
    "start_time": "2023-01-29T12:21:49.225Z"
   },
   {
    "duration": 0,
    "start_time": "2023-01-29T12:21:49.226Z"
   },
   {
    "duration": 0,
    "start_time": "2023-01-29T12:21:49.227Z"
   },
   {
    "duration": 0,
    "start_time": "2023-01-29T12:21:49.229Z"
   },
   {
    "duration": 0,
    "start_time": "2023-01-29T12:21:49.230Z"
   },
   {
    "duration": 0,
    "start_time": "2023-01-29T12:21:49.231Z"
   },
   {
    "duration": 0,
    "start_time": "2023-01-29T12:21:49.233Z"
   },
   {
    "duration": 0,
    "start_time": "2023-01-29T12:21:49.234Z"
   },
   {
    "duration": 0,
    "start_time": "2023-01-29T12:21:49.235Z"
   },
   {
    "duration": 0,
    "start_time": "2023-01-29T12:21:49.237Z"
   },
   {
    "duration": 0,
    "start_time": "2023-01-29T12:21:49.292Z"
   },
   {
    "duration": 0,
    "start_time": "2023-01-29T12:21:49.293Z"
   },
   {
    "duration": 0,
    "start_time": "2023-01-29T12:21:49.294Z"
   },
   {
    "duration": 0,
    "start_time": "2023-01-29T12:21:49.296Z"
   },
   {
    "duration": 0,
    "start_time": "2023-01-29T12:21:49.297Z"
   },
   {
    "duration": 0,
    "start_time": "2023-01-29T12:21:49.298Z"
   },
   {
    "duration": 0,
    "start_time": "2023-01-29T12:21:49.299Z"
   },
   {
    "duration": 0,
    "start_time": "2023-01-29T12:21:49.300Z"
   },
   {
    "duration": 0,
    "start_time": "2023-01-29T12:21:49.301Z"
   },
   {
    "duration": 5,
    "start_time": "2023-01-29T12:24:00.051Z"
   },
   {
    "duration": 6,
    "start_time": "2023-01-29T12:24:07.665Z"
   },
   {
    "duration": 4,
    "start_time": "2023-01-29T12:24:21.880Z"
   },
   {
    "duration": 1315,
    "start_time": "2023-01-29T12:24:57.167Z"
   },
   {
    "duration": 54,
    "start_time": "2023-01-29T12:24:58.484Z"
   },
   {
    "duration": 3,
    "start_time": "2023-01-29T12:24:58.540Z"
   },
   {
    "duration": 10,
    "start_time": "2023-01-29T12:24:58.544Z"
   },
   {
    "duration": 7,
    "start_time": "2023-01-29T12:24:58.556Z"
   },
   {
    "duration": 17,
    "start_time": "2023-01-29T12:24:58.565Z"
   },
   {
    "duration": 9,
    "start_time": "2023-01-29T12:24:58.583Z"
   },
   {
    "duration": 5,
    "start_time": "2023-01-29T12:24:58.593Z"
   },
   {
    "duration": 21,
    "start_time": "2023-01-29T12:24:58.599Z"
   },
   {
    "duration": 10,
    "start_time": "2023-01-29T12:24:58.622Z"
   },
   {
    "duration": 9,
    "start_time": "2023-01-29T12:24:58.633Z"
   },
   {
    "duration": 23,
    "start_time": "2023-01-29T12:24:58.644Z"
   },
   {
    "duration": 214,
    "start_time": "2023-01-29T12:24:58.668Z"
   },
   {
    "duration": 7704,
    "start_time": "2023-01-29T12:24:58.891Z"
   },
   {
    "duration": 198,
    "start_time": "2023-01-29T12:25:06.596Z"
   },
   {
    "duration": 102,
    "start_time": "2023-01-29T12:25:06.796Z"
   },
   {
    "duration": 3,
    "start_time": "2023-01-29T12:25:06.901Z"
   },
   {
    "duration": 85,
    "start_time": "2023-01-29T12:25:06.906Z"
   },
   {
    "duration": 1510,
    "start_time": "2023-01-29T12:25:06.993Z"
   },
   {
    "duration": 4,
    "start_time": "2023-01-29T12:25:08.593Z"
   },
   {
    "duration": 10,
    "start_time": "2023-01-29T12:25:08.599Z"
   },
   {
    "duration": 40,
    "start_time": "2023-01-29T12:25:08.611Z"
   },
   {
    "duration": 4,
    "start_time": "2023-01-29T12:25:08.652Z"
   },
   {
    "duration": 32,
    "start_time": "2023-01-29T12:25:08.660Z"
   },
   {
    "duration": 119,
    "start_time": "2023-01-29T12:25:08.693Z"
   },
   {
    "duration": 11,
    "start_time": "2023-01-29T12:25:08.813Z"
   },
   {
    "duration": 70,
    "start_time": "2023-01-29T12:25:08.825Z"
   },
   {
    "duration": 101,
    "start_time": "2023-01-29T12:25:08.897Z"
   },
   {
    "duration": 10,
    "start_time": "2023-01-29T12:25:09.000Z"
   },
   {
    "duration": 227,
    "start_time": "2023-01-29T12:25:09.094Z"
   },
   {
    "duration": 281,
    "start_time": "2023-01-29T12:25:09.322Z"
   },
   {
    "duration": 6,
    "start_time": "2023-01-29T12:25:09.604Z"
   },
   {
    "duration": 19,
    "start_time": "2023-01-29T12:25:09.612Z"
   },
   {
    "duration": 25,
    "start_time": "2023-01-29T12:25:09.632Z"
   },
   {
    "duration": 24,
    "start_time": "2023-01-29T12:25:09.658Z"
   },
   {
    "duration": 20,
    "start_time": "2023-01-29T12:25:09.683Z"
   },
   {
    "duration": 12,
    "start_time": "2023-01-29T12:25:09.704Z"
   },
   {
    "duration": 4,
    "start_time": "2023-01-29T12:25:09.718Z"
   },
   {
    "duration": 178,
    "start_time": "2023-01-29T12:25:09.724Z"
   },
   {
    "duration": 95,
    "start_time": "2023-01-29T12:25:09.903Z"
   },
   {
    "duration": 117,
    "start_time": "2023-01-29T12:25:10.091Z"
   },
   {
    "duration": 10,
    "start_time": "2023-01-29T12:25:10.209Z"
   },
   {
    "duration": 210,
    "start_time": "2023-01-29T12:25:10.221Z"
   },
   {
    "duration": 923,
    "start_time": "2023-01-29T12:25:10.433Z"
   },
   {
    "duration": 19730,
    "start_time": "2023-01-29T12:25:11.357Z"
   },
   {
    "duration": 486,
    "start_time": "2023-01-29T12:25:31.088Z"
   },
   {
    "duration": 783,
    "start_time": "2023-01-29T12:25:31.576Z"
   },
   {
    "duration": 64,
    "start_time": "2023-01-29T12:25:32.361Z"
   },
   {
    "duration": 51,
    "start_time": "2023-01-29T12:25:32.427Z"
   },
   {
    "duration": 15,
    "start_time": "2023-01-29T12:25:32.480Z"
   },
   {
    "duration": 14,
    "start_time": "2023-01-29T12:25:32.496Z"
   },
   {
    "duration": 113,
    "start_time": "2023-01-29T12:36:06.814Z"
   },
   {
    "duration": 19,
    "start_time": "2023-01-29T12:36:43.874Z"
   },
   {
    "duration": 175,
    "start_time": "2023-01-29T12:37:07.670Z"
   },
   {
    "duration": 168,
    "start_time": "2023-01-29T13:11:12.752Z"
   },
   {
    "duration": 9625,
    "start_time": "2023-01-29T13:16:22.546Z"
   },
   {
    "duration": 9225,
    "start_time": "2023-01-29T13:17:25.848Z"
   },
   {
    "duration": 9303,
    "start_time": "2023-01-29T13:18:01.656Z"
   },
   {
    "duration": 177,
    "start_time": "2023-01-29T13:19:24.321Z"
   },
   {
    "duration": 109,
    "start_time": "2023-01-29T13:19:42.087Z"
   },
   {
    "duration": 122,
    "start_time": "2023-01-29T13:30:10.983Z"
   },
   {
    "duration": 132,
    "start_time": "2023-01-29T13:30:32.496Z"
   },
   {
    "duration": 114,
    "start_time": "2023-01-29T13:31:23.345Z"
   },
   {
    "duration": 118,
    "start_time": "2023-01-29T13:31:37.049Z"
   },
   {
    "duration": 122,
    "start_time": "2023-01-29T13:32:07.785Z"
   },
   {
    "duration": 109,
    "start_time": "2023-01-29T13:35:35.162Z"
   },
   {
    "duration": 123,
    "start_time": "2023-01-29T13:35:40.483Z"
   },
   {
    "duration": 120,
    "start_time": "2023-01-29T13:36:19.174Z"
   },
   {
    "duration": 15,
    "start_time": "2023-01-29T13:48:19.850Z"
   },
   {
    "duration": 121,
    "start_time": "2023-01-29T13:48:24.856Z"
   },
   {
    "duration": 123,
    "start_time": "2023-01-29T13:48:49.306Z"
   },
   {
    "duration": 1597,
    "start_time": "2023-01-29T19:41:27.370Z"
   },
   {
    "duration": 204,
    "start_time": "2023-01-29T19:41:28.969Z"
   },
   {
    "duration": 3,
    "start_time": "2023-01-29T19:41:29.175Z"
   },
   {
    "duration": 33,
    "start_time": "2023-01-29T19:41:29.182Z"
   },
   {
    "duration": 17,
    "start_time": "2023-01-29T19:41:29.217Z"
   },
   {
    "duration": 35,
    "start_time": "2023-01-29T19:41:29.236Z"
   },
   {
    "duration": 10,
    "start_time": "2023-01-29T19:41:29.273Z"
   },
   {
    "duration": 10,
    "start_time": "2023-01-29T19:41:29.287Z"
   },
   {
    "duration": 40,
    "start_time": "2023-01-29T19:41:29.298Z"
   },
   {
    "duration": 14,
    "start_time": "2023-01-29T19:41:29.341Z"
   },
   {
    "duration": 11,
    "start_time": "2023-01-29T19:41:29.357Z"
   },
   {
    "duration": 49,
    "start_time": "2023-01-29T19:41:29.370Z"
   },
   {
    "duration": 189,
    "start_time": "2023-01-29T19:41:29.420Z"
   },
   {
    "duration": 9727,
    "start_time": "2023-01-29T19:41:29.611Z"
   },
   {
    "duration": 310,
    "start_time": "2023-01-29T19:41:39.340Z"
   },
   {
    "duration": 318,
    "start_time": "2023-01-29T19:41:39.652Z"
   },
   {
    "duration": 3,
    "start_time": "2023-01-29T19:41:39.972Z"
   },
   {
    "duration": 14,
    "start_time": "2023-01-29T19:41:39.977Z"
   },
   {
    "duration": 848,
    "start_time": "2023-01-29T19:41:39.992Z"
   },
   {
    "duration": 96,
    "start_time": "2023-01-29T19:41:40.843Z"
   },
   {
    "duration": 23,
    "start_time": "2023-01-29T19:41:40.941Z"
   },
   {
    "duration": 45,
    "start_time": "2023-01-29T19:41:40.965Z"
   },
   {
    "duration": 26,
    "start_time": "2023-01-29T19:41:41.012Z"
   },
   {
    "duration": 10,
    "start_time": "2023-01-29T19:41:41.040Z"
   },
   {
    "duration": 125,
    "start_time": "2023-01-29T19:41:41.051Z"
   },
   {
    "duration": 10,
    "start_time": "2023-01-29T19:41:41.177Z"
   },
   {
    "duration": 50,
    "start_time": "2023-01-29T19:41:41.189Z"
   },
   {
    "duration": 103,
    "start_time": "2023-01-29T19:41:41.244Z"
   },
   {
    "duration": 99,
    "start_time": "2023-01-29T19:41:41.349Z"
   },
   {
    "duration": 212,
    "start_time": "2023-01-29T19:41:41.450Z"
   },
   {
    "duration": 288,
    "start_time": "2023-01-29T19:41:41.664Z"
   },
   {
    "duration": 6,
    "start_time": "2023-01-29T19:41:41.953Z"
   },
   {
    "duration": 27,
    "start_time": "2023-01-29T19:41:41.961Z"
   },
   {
    "duration": 26,
    "start_time": "2023-01-29T19:41:41.989Z"
   },
   {
    "duration": 25,
    "start_time": "2023-01-29T19:41:42.016Z"
   },
   {
    "duration": 40,
    "start_time": "2023-01-29T19:41:42.043Z"
   },
   {
    "duration": 22,
    "start_time": "2023-01-29T19:41:42.085Z"
   },
   {
    "duration": 24,
    "start_time": "2023-01-29T19:41:42.109Z"
   },
   {
    "duration": 208,
    "start_time": "2023-01-29T19:41:42.134Z"
   },
   {
    "duration": 110,
    "start_time": "2023-01-29T19:41:42.344Z"
   },
   {
    "duration": 209,
    "start_time": "2023-01-29T19:41:42.459Z"
   },
   {
    "duration": 20,
    "start_time": "2023-01-29T19:41:42.672Z"
   },
   {
    "duration": 197,
    "start_time": "2023-01-29T19:41:42.694Z"
   },
   {
    "duration": 1071,
    "start_time": "2023-01-29T19:41:42.893Z"
   },
   {
    "duration": 21364,
    "start_time": "2023-01-29T19:41:43.966Z"
   },
   {
    "duration": 520,
    "start_time": "2023-01-29T19:42:05.332Z"
   },
   {
    "duration": 871,
    "start_time": "2023-01-29T19:42:05.855Z"
   },
   {
    "duration": 62,
    "start_time": "2023-01-29T19:42:06.728Z"
   },
   {
    "duration": 66,
    "start_time": "2023-01-29T19:42:06.791Z"
   },
   {
    "duration": 6,
    "start_time": "2023-01-29T19:42:06.859Z"
   },
   {
    "duration": 19,
    "start_time": "2023-01-29T19:42:06.867Z"
   },
   {
    "duration": 4,
    "start_time": "2023-01-29T20:24:22.266Z"
   },
   {
    "duration": 122,
    "start_time": "2023-01-29T20:24:32.218Z"
   },
   {
    "duration": 4,
    "start_time": "2023-01-29T20:29:52.787Z"
   },
   {
    "duration": 18,
    "start_time": "2023-01-29T20:29:55.705Z"
   },
   {
    "duration": 4,
    "start_time": "2023-01-29T20:31:40.143Z"
   },
   {
    "duration": 22,
    "start_time": "2023-01-29T20:31:42.682Z"
   },
   {
    "duration": 3,
    "start_time": "2023-01-29T20:42:55.554Z"
   },
   {
    "duration": 21,
    "start_time": "2023-01-29T20:42:58.706Z"
   },
   {
    "duration": 4,
    "start_time": "2023-01-29T20:49:30.233Z"
   },
   {
    "duration": 126,
    "start_time": "2023-01-29T20:49:32.751Z"
   },
   {
    "duration": 122,
    "start_time": "2023-01-29T20:50:14.343Z"
   },
   {
    "duration": 135,
    "start_time": "2023-01-29T20:50:20.184Z"
   },
   {
    "duration": 118,
    "start_time": "2023-01-29T20:50:29.622Z"
   },
   {
    "duration": 119,
    "start_time": "2023-01-29T20:50:33.224Z"
   },
   {
    "duration": 295,
    "start_time": "2023-01-29T20:50:42.057Z"
   },
   {
    "duration": 9,
    "start_time": "2023-01-29T20:54:56.366Z"
   },
   {
    "duration": 10,
    "start_time": "2023-01-29T20:56:03.672Z"
   },
   {
    "duration": 118,
    "start_time": "2023-01-29T20:56:45.714Z"
   },
   {
    "duration": 155,
    "start_time": "2023-01-29T20:59:45.858Z"
   },
   {
    "duration": 53,
    "start_time": "2023-01-29T21:05:18.578Z"
   },
   {
    "duration": 7,
    "start_time": "2023-01-29T21:05:33.583Z"
   },
   {
    "duration": 1326,
    "start_time": "2023-01-29T21:05:40.115Z"
   },
   {
    "duration": 55,
    "start_time": "2023-01-29T21:05:41.443Z"
   },
   {
    "duration": 2,
    "start_time": "2023-01-29T21:05:41.500Z"
   },
   {
    "duration": 56,
    "start_time": "2023-01-29T21:05:41.504Z"
   },
   {
    "duration": 12,
    "start_time": "2023-01-29T21:05:41.562Z"
   },
   {
    "duration": 20,
    "start_time": "2023-01-29T21:05:41.576Z"
   },
   {
    "duration": 7,
    "start_time": "2023-01-29T21:05:41.598Z"
   },
   {
    "duration": 9,
    "start_time": "2023-01-29T21:05:41.607Z"
   },
   {
    "duration": 25,
    "start_time": "2023-01-29T21:05:41.618Z"
   },
   {
    "duration": 11,
    "start_time": "2023-01-29T21:05:41.646Z"
   },
   {
    "duration": 9,
    "start_time": "2023-01-29T21:05:41.658Z"
   },
   {
    "duration": 23,
    "start_time": "2023-01-29T21:05:41.668Z"
   },
   {
    "duration": 194,
    "start_time": "2023-01-29T21:05:41.693Z"
   },
   {
    "duration": 9956,
    "start_time": "2023-01-29T21:05:41.889Z"
   },
   {
    "duration": 292,
    "start_time": "2023-01-29T21:05:51.847Z"
   },
   {
    "duration": 224,
    "start_time": "2023-01-29T21:05:52.141Z"
   },
   {
    "duration": 4,
    "start_time": "2023-01-29T21:05:52.367Z"
   },
   {
    "duration": 6,
    "start_time": "2023-01-29T21:05:52.372Z"
   },
   {
    "duration": 783,
    "start_time": "2023-01-29T21:05:52.380Z"
   },
   {
    "duration": 79,
    "start_time": "2023-01-29T21:05:53.165Z"
   },
   {
    "duration": 100,
    "start_time": "2023-01-29T21:05:53.246Z"
   },
   {
    "duration": 44,
    "start_time": "2023-01-29T21:05:53.347Z"
   },
   {
    "duration": 3,
    "start_time": "2023-01-29T21:05:53.393Z"
   },
   {
    "duration": 131,
    "start_time": "2023-01-29T21:05:53.398Z"
   },
   {
    "duration": 0,
    "start_time": "2023-01-29T21:05:53.538Z"
   },
   {
    "duration": 0,
    "start_time": "2023-01-29T21:05:53.539Z"
   },
   {
    "duration": 0,
    "start_time": "2023-01-29T21:05:53.540Z"
   },
   {
    "duration": 0,
    "start_time": "2023-01-29T21:05:53.541Z"
   },
   {
    "duration": 0,
    "start_time": "2023-01-29T21:05:53.542Z"
   },
   {
    "duration": 0,
    "start_time": "2023-01-29T21:05:53.544Z"
   },
   {
    "duration": 0,
    "start_time": "2023-01-29T21:05:53.545Z"
   },
   {
    "duration": 0,
    "start_time": "2023-01-29T21:05:53.546Z"
   },
   {
    "duration": 0,
    "start_time": "2023-01-29T21:05:53.547Z"
   },
   {
    "duration": 0,
    "start_time": "2023-01-29T21:05:53.548Z"
   },
   {
    "duration": 0,
    "start_time": "2023-01-29T21:05:53.549Z"
   },
   {
    "duration": 0,
    "start_time": "2023-01-29T21:05:53.550Z"
   },
   {
    "duration": 0,
    "start_time": "2023-01-29T21:05:53.551Z"
   },
   {
    "duration": 0,
    "start_time": "2023-01-29T21:05:53.552Z"
   },
   {
    "duration": 0,
    "start_time": "2023-01-29T21:05:53.553Z"
   },
   {
    "duration": 0,
    "start_time": "2023-01-29T21:05:53.554Z"
   },
   {
    "duration": 0,
    "start_time": "2023-01-29T21:05:53.555Z"
   },
   {
    "duration": 0,
    "start_time": "2023-01-29T21:05:53.556Z"
   },
   {
    "duration": 0,
    "start_time": "2023-01-29T21:05:53.557Z"
   },
   {
    "duration": 0,
    "start_time": "2023-01-29T21:05:53.558Z"
   },
   {
    "duration": 0,
    "start_time": "2023-01-29T21:05:53.559Z"
   },
   {
    "duration": 0,
    "start_time": "2023-01-29T21:05:53.560Z"
   },
   {
    "duration": 0,
    "start_time": "2023-01-29T21:05:53.561Z"
   },
   {
    "duration": 0,
    "start_time": "2023-01-29T21:05:53.562Z"
   },
   {
    "duration": 0,
    "start_time": "2023-01-29T21:05:53.563Z"
   },
   {
    "duration": 0,
    "start_time": "2023-01-29T21:05:53.564Z"
   },
   {
    "duration": 0,
    "start_time": "2023-01-29T21:05:53.565Z"
   },
   {
    "duration": 0,
    "start_time": "2023-01-29T21:05:53.566Z"
   },
   {
    "duration": 0,
    "start_time": "2023-01-29T21:05:53.567Z"
   },
   {
    "duration": 0,
    "start_time": "2023-01-29T21:05:53.568Z"
   },
   {
    "duration": 0,
    "start_time": "2023-01-29T21:05:53.569Z"
   },
   {
    "duration": 0,
    "start_time": "2023-01-29T21:05:53.570Z"
   },
   {
    "duration": 4,
    "start_time": "2023-01-29T21:08:01.051Z"
   },
   {
    "duration": 19,
    "start_time": "2023-01-29T21:08:06.480Z"
   },
   {
    "duration": 10,
    "start_time": "2023-01-29T21:09:20.748Z"
   },
   {
    "duration": 123,
    "start_time": "2023-01-29T21:09:22.086Z"
   },
   {
    "duration": 152,
    "start_time": "2023-01-29T21:09:24.568Z"
   },
   {
    "duration": 4,
    "start_time": "2023-01-29T21:11:35.695Z"
   },
   {
    "duration": 91,
    "start_time": "2023-01-29T21:12:01.294Z"
   },
   {
    "duration": 20,
    "start_time": "2023-01-29T21:12:13.786Z"
   },
   {
    "duration": 1516,
    "start_time": "2023-01-29T21:14:09.728Z"
   },
   {
    "duration": 61,
    "start_time": "2023-01-29T21:14:11.246Z"
   },
   {
    "duration": 3,
    "start_time": "2023-01-29T21:14:11.309Z"
   },
   {
    "duration": 15,
    "start_time": "2023-01-29T21:14:11.314Z"
   },
   {
    "duration": 21,
    "start_time": "2023-01-29T21:14:11.331Z"
   },
   {
    "duration": 44,
    "start_time": "2023-01-29T21:14:11.354Z"
   },
   {
    "duration": 9,
    "start_time": "2023-01-29T21:14:11.401Z"
   },
   {
    "duration": 13,
    "start_time": "2023-01-29T21:14:11.412Z"
   },
   {
    "duration": 45,
    "start_time": "2023-01-29T21:14:11.427Z"
   },
   {
    "duration": 11,
    "start_time": "2023-01-29T21:14:11.476Z"
   },
   {
    "duration": 9,
    "start_time": "2023-01-29T21:14:11.489Z"
   },
   {
    "duration": 36,
    "start_time": "2023-01-29T21:14:11.500Z"
   },
   {
    "duration": 210,
    "start_time": "2023-01-29T21:14:11.538Z"
   },
   {
    "duration": 10869,
    "start_time": "2023-01-29T21:14:11.751Z"
   },
   {
    "duration": 226,
    "start_time": "2023-01-29T21:14:22.622Z"
   },
   {
    "duration": 331,
    "start_time": "2023-01-29T21:14:22.851Z"
   },
   {
    "duration": 4,
    "start_time": "2023-01-29T21:14:23.184Z"
   },
   {
    "duration": 26,
    "start_time": "2023-01-29T21:14:23.190Z"
   },
   {
    "duration": 924,
    "start_time": "2023-01-29T21:14:23.218Z"
   },
   {
    "duration": 6,
    "start_time": "2023-01-29T21:14:24.145Z"
   },
   {
    "duration": 116,
    "start_time": "2023-01-29T21:14:24.153Z"
   },
   {
    "duration": 71,
    "start_time": "2023-01-29T21:14:24.271Z"
   },
   {
    "duration": 22,
    "start_time": "2023-01-29T21:14:24.345Z"
   },
   {
    "duration": 10,
    "start_time": "2023-01-29T21:14:24.369Z"
   },
   {
    "duration": 152,
    "start_time": "2023-01-29T21:14:24.381Z"
   },
   {
    "duration": 187,
    "start_time": "2023-01-29T21:14:24.537Z"
   },
   {
    "duration": 150,
    "start_time": "2023-01-29T21:14:24.726Z"
   },
   {
    "duration": 33,
    "start_time": "2023-01-29T21:14:24.881Z"
   },
   {
    "duration": 33,
    "start_time": "2023-01-29T21:14:24.916Z"
   },
   {
    "duration": 152,
    "start_time": "2023-01-29T21:14:24.951Z"
   },
   {
    "duration": 39,
    "start_time": "2023-01-29T21:14:25.105Z"
   },
   {
    "duration": 199,
    "start_time": "2023-01-29T21:14:25.146Z"
   },
   {
    "duration": 104,
    "start_time": "2023-01-29T21:14:25.354Z"
   },
   {
    "duration": 331,
    "start_time": "2023-01-29T21:14:25.538Z"
   },
   {
    "duration": 320,
    "start_time": "2023-01-29T21:14:25.871Z"
   },
   {
    "duration": 7,
    "start_time": "2023-01-29T21:14:26.193Z"
   },
   {
    "duration": 36,
    "start_time": "2023-01-29T21:14:26.201Z"
   },
   {
    "duration": 28,
    "start_time": "2023-01-29T21:14:26.240Z"
   },
   {
    "duration": 22,
    "start_time": "2023-01-29T21:14:26.270Z"
   },
   {
    "duration": 36,
    "start_time": "2023-01-29T21:14:26.293Z"
   },
   {
    "duration": 47,
    "start_time": "2023-01-29T21:14:26.331Z"
   },
   {
    "duration": 23,
    "start_time": "2023-01-29T21:14:26.379Z"
   },
   {
    "duration": 337,
    "start_time": "2023-01-29T21:14:26.403Z"
   },
   {
    "duration": 108,
    "start_time": "2023-01-29T21:14:26.742Z"
   },
   {
    "duration": 116,
    "start_time": "2023-01-29T21:14:26.862Z"
   },
   {
    "duration": 10,
    "start_time": "2023-01-29T21:14:26.980Z"
   },
   {
    "duration": 162,
    "start_time": "2023-01-29T21:14:27.040Z"
   },
   {
    "duration": 1123,
    "start_time": "2023-01-29T21:14:27.204Z"
   },
   {
    "duration": 21795,
    "start_time": "2023-01-29T21:14:28.328Z"
   },
   {
    "duration": 415,
    "start_time": "2023-01-29T21:14:50.125Z"
   },
   {
    "duration": 805,
    "start_time": "2023-01-29T21:14:50.541Z"
   },
   {
    "duration": 56,
    "start_time": "2023-01-29T21:14:51.348Z"
   },
   {
    "duration": 78,
    "start_time": "2023-01-29T21:14:51.406Z"
   },
   {
    "duration": 7,
    "start_time": "2023-01-29T21:14:51.485Z"
   },
   {
    "duration": 20,
    "start_time": "2023-01-29T21:14:51.494Z"
   },
   {
    "duration": 523,
    "start_time": "2023-01-29T21:18:34.715Z"
   },
   {
    "duration": 1446,
    "start_time": "2023-01-29T21:29:34.962Z"
   },
   {
    "duration": 60,
    "start_time": "2023-01-29T21:29:36.410Z"
   },
   {
    "duration": 2,
    "start_time": "2023-01-29T21:29:36.472Z"
   },
   {
    "duration": 10,
    "start_time": "2023-01-29T21:29:36.476Z"
   },
   {
    "duration": 9,
    "start_time": "2023-01-29T21:29:36.487Z"
   },
   {
    "duration": 15,
    "start_time": "2023-01-29T21:29:36.498Z"
   },
   {
    "duration": 8,
    "start_time": "2023-01-29T21:29:36.537Z"
   },
   {
    "duration": 14,
    "start_time": "2023-01-29T21:29:36.547Z"
   },
   {
    "duration": 23,
    "start_time": "2023-01-29T21:29:36.562Z"
   },
   {
    "duration": 11,
    "start_time": "2023-01-29T21:29:36.587Z"
   },
   {
    "duration": 9,
    "start_time": "2023-01-29T21:29:36.599Z"
   },
   {
    "duration": 52,
    "start_time": "2023-01-29T21:29:36.609Z"
   },
   {
    "duration": 197,
    "start_time": "2023-01-29T21:29:36.662Z"
   },
   {
    "duration": 9626,
    "start_time": "2023-01-29T21:29:36.860Z"
   },
   {
    "duration": 256,
    "start_time": "2023-01-29T21:29:46.487Z"
   },
   {
    "duration": 225,
    "start_time": "2023-01-29T21:29:46.746Z"
   },
   {
    "duration": 4,
    "start_time": "2023-01-29T21:29:46.972Z"
   },
   {
    "duration": 31,
    "start_time": "2023-01-29T21:29:46.978Z"
   },
   {
    "duration": 927,
    "start_time": "2023-01-29T21:29:47.011Z"
   },
   {
    "duration": 7,
    "start_time": "2023-01-29T21:29:47.940Z"
   },
   {
    "duration": 10,
    "start_time": "2023-01-29T21:29:47.949Z"
   },
   {
    "duration": 118,
    "start_time": "2023-01-29T21:29:47.960Z"
   },
   {
    "duration": 20,
    "start_time": "2023-01-29T21:29:48.079Z"
   },
   {
    "duration": 9,
    "start_time": "2023-01-29T21:29:48.101Z"
   },
   {
    "duration": 144,
    "start_time": "2023-01-29T21:29:48.140Z"
   },
   {
    "duration": 173,
    "start_time": "2023-01-29T21:29:48.286Z"
   },
   {
    "duration": 128,
    "start_time": "2023-01-29T21:29:48.460Z"
   },
   {
    "duration": 48,
    "start_time": "2023-01-29T21:29:48.593Z"
   },
   {
    "duration": 18,
    "start_time": "2023-01-29T21:29:48.643Z"
   },
   {
    "duration": 147,
    "start_time": "2023-01-29T21:29:48.663Z"
   },
   {
    "duration": 614,
    "start_time": "2023-01-29T21:29:48.812Z"
   },
   {
    "duration": 119,
    "start_time": "2023-01-29T21:29:49.428Z"
   },
   {
    "duration": 106,
    "start_time": "2023-01-29T21:29:49.550Z"
   },
   {
    "duration": 105,
    "start_time": "2023-01-29T21:29:49.743Z"
   },
   {
    "duration": 304,
    "start_time": "2023-01-29T21:29:49.851Z"
   },
   {
    "duration": 299,
    "start_time": "2023-01-29T21:29:50.157Z"
   },
   {
    "duration": 5,
    "start_time": "2023-01-29T21:29:50.457Z"
   },
   {
    "duration": 131,
    "start_time": "2023-01-29T21:29:50.463Z"
   },
   {
    "duration": 0,
    "start_time": "2023-01-29T21:29:50.595Z"
   },
   {
    "duration": 0,
    "start_time": "2023-01-29T21:29:50.596Z"
   },
   {
    "duration": 0,
    "start_time": "2023-01-29T21:29:50.598Z"
   },
   {
    "duration": 0,
    "start_time": "2023-01-29T21:29:50.599Z"
   },
   {
    "duration": 0,
    "start_time": "2023-01-29T21:29:50.600Z"
   },
   {
    "duration": 0,
    "start_time": "2023-01-29T21:29:50.601Z"
   },
   {
    "duration": 0,
    "start_time": "2023-01-29T21:29:50.602Z"
   },
   {
    "duration": 0,
    "start_time": "2023-01-29T21:29:50.603Z"
   },
   {
    "duration": 0,
    "start_time": "2023-01-29T21:29:50.604Z"
   },
   {
    "duration": 0,
    "start_time": "2023-01-29T21:29:50.606Z"
   },
   {
    "duration": 0,
    "start_time": "2023-01-29T21:29:50.607Z"
   },
   {
    "duration": 0,
    "start_time": "2023-01-29T21:29:50.608Z"
   },
   {
    "duration": 299,
    "start_time": "2023-01-29T21:37:10.240Z"
   },
   {
    "duration": 1426,
    "start_time": "2023-01-29T21:38:47.769Z"
   },
   {
    "duration": 60,
    "start_time": "2023-01-29T21:38:49.197Z"
   },
   {
    "duration": 3,
    "start_time": "2023-01-29T21:38:49.259Z"
   },
   {
    "duration": 18,
    "start_time": "2023-01-29T21:38:49.264Z"
   },
   {
    "duration": 12,
    "start_time": "2023-01-29T21:38:49.284Z"
   },
   {
    "duration": 17,
    "start_time": "2023-01-29T21:38:49.299Z"
   },
   {
    "duration": 20,
    "start_time": "2023-01-29T21:38:49.318Z"
   },
   {
    "duration": 5,
    "start_time": "2023-01-29T21:38:49.339Z"
   },
   {
    "duration": 32,
    "start_time": "2023-01-29T21:38:49.345Z"
   },
   {
    "duration": 14,
    "start_time": "2023-01-29T21:38:49.381Z"
   },
   {
    "duration": 41,
    "start_time": "2023-01-29T21:38:49.397Z"
   },
   {
    "duration": 26,
    "start_time": "2023-01-29T21:38:49.440Z"
   },
   {
    "duration": 209,
    "start_time": "2023-01-29T21:38:49.468Z"
   },
   {
    "duration": 9573,
    "start_time": "2023-01-29T21:38:49.679Z"
   },
   {
    "duration": 286,
    "start_time": "2023-01-29T21:38:59.253Z"
   },
   {
    "duration": 227,
    "start_time": "2023-01-29T21:38:59.541Z"
   },
   {
    "duration": 3,
    "start_time": "2023-01-29T21:38:59.770Z"
   },
   {
    "duration": 24,
    "start_time": "2023-01-29T21:38:59.775Z"
   },
   {
    "duration": 839,
    "start_time": "2023-01-29T21:38:59.801Z"
   },
   {
    "duration": 97,
    "start_time": "2023-01-29T21:39:00.642Z"
   },
   {
    "duration": 45,
    "start_time": "2023-01-29T21:39:00.741Z"
   },
   {
    "duration": 85,
    "start_time": "2023-01-29T21:39:00.788Z"
   },
   {
    "duration": 17,
    "start_time": "2023-01-29T21:39:00.875Z"
   },
   {
    "duration": 39,
    "start_time": "2023-01-29T21:39:00.893Z"
   },
   {
    "duration": 140,
    "start_time": "2023-01-29T21:39:00.934Z"
   },
   {
    "duration": 157,
    "start_time": "2023-01-29T21:39:01.076Z"
   },
   {
    "duration": 123,
    "start_time": "2023-01-29T21:39:01.237Z"
   },
   {
    "duration": 32,
    "start_time": "2023-01-29T21:39:01.363Z"
   },
   {
    "duration": 42,
    "start_time": "2023-01-29T21:39:01.397Z"
   },
   {
    "duration": 143,
    "start_time": "2023-01-29T21:39:01.440Z"
   },
   {
    "duration": 576,
    "start_time": "2023-01-29T21:39:01.585Z"
   },
   {
    "duration": 83,
    "start_time": "2023-01-29T21:39:02.162Z"
   },
   {
    "duration": 113,
    "start_time": "2023-01-29T21:39:02.247Z"
   },
   {
    "duration": 105,
    "start_time": "2023-01-29T21:39:02.439Z"
   },
   {
    "duration": 295,
    "start_time": "2023-01-29T21:39:02.546Z"
   },
   {
    "duration": 301,
    "start_time": "2023-01-29T21:39:02.842Z"
   },
   {
    "duration": 4,
    "start_time": "2023-01-29T21:39:03.144Z"
   },
   {
    "duration": 290,
    "start_time": "2023-01-29T21:39:03.149Z"
   },
   {
    "duration": 106,
    "start_time": "2023-01-29T21:39:03.441Z"
   },
   {
    "duration": 293,
    "start_time": "2023-01-29T21:39:03.552Z"
   },
   {
    "duration": 0,
    "start_time": "2023-01-29T21:39:03.846Z"
   },
   {
    "duration": 0,
    "start_time": "2023-01-29T21:39:03.847Z"
   },
   {
    "duration": 0,
    "start_time": "2023-01-29T21:39:03.848Z"
   },
   {
    "duration": 0,
    "start_time": "2023-01-29T21:39:03.850Z"
   },
   {
    "duration": 0,
    "start_time": "2023-01-29T21:39:03.851Z"
   },
   {
    "duration": 0,
    "start_time": "2023-01-29T21:39:03.852Z"
   },
   {
    "duration": 0,
    "start_time": "2023-01-29T21:39:03.852Z"
   },
   {
    "duration": 0,
    "start_time": "2023-01-29T21:39:03.854Z"
   },
   {
    "duration": 0,
    "start_time": "2023-01-29T21:39:03.854Z"
   },
   {
    "duration": 0,
    "start_time": "2023-01-29T21:39:03.856Z"
   },
   {
    "duration": 1442,
    "start_time": "2023-01-29T21:40:32.726Z"
   },
   {
    "duration": 59,
    "start_time": "2023-01-29T21:40:34.171Z"
   },
   {
    "duration": 3,
    "start_time": "2023-01-29T21:40:34.232Z"
   },
   {
    "duration": 17,
    "start_time": "2023-01-29T21:40:34.237Z"
   },
   {
    "duration": 17,
    "start_time": "2023-01-29T21:40:34.257Z"
   },
   {
    "duration": 21,
    "start_time": "2023-01-29T21:40:34.276Z"
   },
   {
    "duration": 13,
    "start_time": "2023-01-29T21:40:34.299Z"
   },
   {
    "duration": 18,
    "start_time": "2023-01-29T21:40:34.313Z"
   },
   {
    "duration": 39,
    "start_time": "2023-01-29T21:40:34.332Z"
   },
   {
    "duration": 15,
    "start_time": "2023-01-29T21:40:34.374Z"
   },
   {
    "duration": 32,
    "start_time": "2023-01-29T21:40:34.391Z"
   },
   {
    "duration": 48,
    "start_time": "2023-01-29T21:40:34.425Z"
   },
   {
    "duration": 188,
    "start_time": "2023-01-29T21:40:34.476Z"
   },
   {
    "duration": 9644,
    "start_time": "2023-01-29T21:40:34.666Z"
   },
   {
    "duration": 231,
    "start_time": "2023-01-29T21:40:44.312Z"
   },
   {
    "duration": 321,
    "start_time": "2023-01-29T21:40:44.546Z"
   },
   {
    "duration": 4,
    "start_time": "2023-01-29T21:40:44.870Z"
   },
   {
    "duration": 33,
    "start_time": "2023-01-29T21:40:44.876Z"
   },
   {
    "duration": 926,
    "start_time": "2023-01-29T21:40:44.911Z"
   },
   {
    "duration": 8,
    "start_time": "2023-01-29T21:40:45.841Z"
   },
   {
    "duration": 110,
    "start_time": "2023-01-29T21:40:45.851Z"
   },
   {
    "duration": 69,
    "start_time": "2023-01-29T21:40:45.963Z"
   },
   {
    "duration": 21,
    "start_time": "2023-01-29T21:40:46.034Z"
   },
   {
    "duration": 15,
    "start_time": "2023-01-29T21:40:46.057Z"
   },
   {
    "duration": 142,
    "start_time": "2023-01-29T21:40:46.074Z"
   },
   {
    "duration": 174,
    "start_time": "2023-01-29T21:40:46.217Z"
   },
   {
    "duration": 127,
    "start_time": "2023-01-29T21:40:46.393Z"
   },
   {
    "duration": 39,
    "start_time": "2023-01-29T21:40:46.524Z"
   },
   {
    "duration": 17,
    "start_time": "2023-01-29T21:40:46.565Z"
   },
   {
    "duration": 153,
    "start_time": "2023-01-29T21:40:46.583Z"
   },
   {
    "duration": 599,
    "start_time": "2023-01-29T21:40:46.738Z"
   },
   {
    "duration": 100,
    "start_time": "2023-01-29T21:40:47.338Z"
   },
   {
    "duration": 111,
    "start_time": "2023-01-29T21:40:47.440Z"
   },
   {
    "duration": 109,
    "start_time": "2023-01-29T21:40:47.639Z"
   },
   {
    "duration": 327,
    "start_time": "2023-01-29T21:40:47.750Z"
   },
   {
    "duration": 346,
    "start_time": "2023-01-29T21:40:48.080Z"
   },
   {
    "duration": 11,
    "start_time": "2023-01-29T21:40:48.428Z"
   },
   {
    "duration": 206,
    "start_time": "2023-01-29T21:40:48.440Z"
   },
   {
    "duration": 105,
    "start_time": "2023-01-29T21:40:48.739Z"
   },
   {
    "duration": 210,
    "start_time": "2023-01-29T21:40:48.847Z"
   },
   {
    "duration": 12,
    "start_time": "2023-01-29T21:40:49.058Z"
   },
   {
    "duration": 217,
    "start_time": "2023-01-29T21:40:49.072Z"
   },
   {
    "duration": 1027,
    "start_time": "2023-01-29T21:40:49.291Z"
   },
   {
    "duration": 21079,
    "start_time": "2023-01-29T21:40:50.320Z"
   },
   {
    "duration": 383,
    "start_time": "2023-01-29T21:41:11.401Z"
   },
   {
    "duration": 873,
    "start_time": "2023-01-29T21:41:11.785Z"
   },
   {
    "duration": 56,
    "start_time": "2023-01-29T21:41:12.659Z"
   },
   {
    "duration": 75,
    "start_time": "2023-01-29T21:41:12.716Z"
   },
   {
    "duration": 6,
    "start_time": "2023-01-29T21:41:12.793Z"
   },
   {
    "duration": 16,
    "start_time": "2023-01-29T21:41:12.801Z"
   },
   {
    "duration": 54,
    "start_time": "2023-01-29T21:44:33.890Z"
   },
   {
    "duration": 11,
    "start_time": "2023-01-29T21:44:55.653Z"
   },
   {
    "duration": 16,
    "start_time": "2023-01-29T21:46:01.168Z"
   },
   {
    "duration": 24,
    "start_time": "2023-01-29T21:47:36.513Z"
   },
   {
    "duration": 1521,
    "start_time": "2023-01-29T21:49:43.334Z"
   },
   {
    "duration": 63,
    "start_time": "2023-01-29T21:49:44.858Z"
   },
   {
    "duration": 3,
    "start_time": "2023-01-29T21:49:44.923Z"
   },
   {
    "duration": 9,
    "start_time": "2023-01-29T21:49:44.929Z"
   },
   {
    "duration": 9,
    "start_time": "2023-01-29T21:49:44.940Z"
   },
   {
    "duration": 18,
    "start_time": "2023-01-29T21:49:44.951Z"
   },
   {
    "duration": 15,
    "start_time": "2023-01-29T21:49:44.971Z"
   },
   {
    "duration": 8,
    "start_time": "2023-01-29T21:49:44.987Z"
   },
   {
    "duration": 52,
    "start_time": "2023-01-29T21:49:44.997Z"
   },
   {
    "duration": 11,
    "start_time": "2023-01-29T21:49:45.052Z"
   },
   {
    "duration": 19,
    "start_time": "2023-01-29T21:49:45.064Z"
   },
   {
    "duration": 54,
    "start_time": "2023-01-29T21:49:45.085Z"
   },
   {
    "duration": 205,
    "start_time": "2023-01-29T21:49:45.141Z"
   },
   {
    "duration": 9823,
    "start_time": "2023-01-29T21:49:45.348Z"
   },
   {
    "duration": 570,
    "start_time": "2023-01-29T21:49:55.172Z"
   },
   {
    "duration": 229,
    "start_time": "2023-01-29T21:49:55.745Z"
   },
   {
    "duration": 5,
    "start_time": "2023-01-29T21:49:55.976Z"
   },
   {
    "duration": 46,
    "start_time": "2023-01-29T21:49:55.982Z"
   },
   {
    "duration": 909,
    "start_time": "2023-01-29T21:49:56.030Z"
   },
   {
    "duration": 7,
    "start_time": "2023-01-29T21:49:56.943Z"
   },
   {
    "duration": 9,
    "start_time": "2023-01-29T21:49:57.039Z"
   },
   {
    "duration": 49,
    "start_time": "2023-01-29T21:49:57.050Z"
   },
   {
    "duration": 46,
    "start_time": "2023-01-29T21:49:57.101Z"
   },
   {
    "duration": 10,
    "start_time": "2023-01-29T21:49:57.150Z"
   },
   {
    "duration": 143,
    "start_time": "2023-01-29T21:49:57.162Z"
   },
   {
    "duration": 172,
    "start_time": "2023-01-29T21:49:57.306Z"
   },
   {
    "duration": 132,
    "start_time": "2023-01-29T21:49:57.480Z"
   },
   {
    "duration": 45,
    "start_time": "2023-01-29T21:49:57.617Z"
   },
   {
    "duration": 19,
    "start_time": "2023-01-29T21:49:57.664Z"
   },
   {
    "duration": 146,
    "start_time": "2023-01-29T21:49:57.685Z"
   },
   {
    "duration": 618,
    "start_time": "2023-01-29T21:49:57.833Z"
   },
   {
    "duration": 90,
    "start_time": "2023-01-29T21:49:58.452Z"
   },
   {
    "duration": 109,
    "start_time": "2023-01-29T21:49:58.544Z"
   },
   {
    "duration": 105,
    "start_time": "2023-01-29T21:49:58.739Z"
   },
   {
    "duration": 209,
    "start_time": "2023-01-29T21:49:58.847Z"
   },
   {
    "duration": 394,
    "start_time": "2023-01-29T21:49:59.057Z"
   },
   {
    "duration": 3,
    "start_time": "2023-01-29T21:49:59.453Z"
   },
   {
    "duration": 188,
    "start_time": "2023-01-29T21:49:59.458Z"
   },
   {
    "duration": 192,
    "start_time": "2023-01-29T21:49:59.649Z"
   },
   {
    "duration": 193,
    "start_time": "2023-01-29T21:49:59.847Z"
   },
   {
    "duration": 121,
    "start_time": "2023-01-29T21:50:00.048Z"
   },
   {
    "duration": 13,
    "start_time": "2023-01-29T21:50:00.171Z"
   },
   {
    "duration": 125,
    "start_time": "2023-01-29T21:50:00.239Z"
   },
   {
    "duration": 234,
    "start_time": "2023-01-29T21:50:00.366Z"
   },
   {
    "duration": 1000,
    "start_time": "2023-01-29T21:50:00.602Z"
   },
   {
    "duration": 21981,
    "start_time": "2023-01-29T21:50:01.603Z"
   },
   {
    "duration": 446,
    "start_time": "2023-01-29T21:50:23.587Z"
   },
   {
    "duration": 925,
    "start_time": "2023-01-29T21:50:24.038Z"
   },
   {
    "duration": 81,
    "start_time": "2023-01-29T21:50:24.966Z"
   },
   {
    "duration": 58,
    "start_time": "2023-01-29T21:50:25.050Z"
   },
   {
    "duration": 29,
    "start_time": "2023-01-29T21:50:25.110Z"
   },
   {
    "duration": 12,
    "start_time": "2023-01-29T21:50:25.141Z"
   },
   {
    "duration": 749,
    "start_time": "2023-01-29T21:50:55.850Z"
   },
   {
    "duration": 1488,
    "start_time": "2023-01-29T21:51:31.463Z"
   },
   {
    "duration": 60,
    "start_time": "2023-01-29T21:51:32.953Z"
   },
   {
    "duration": 4,
    "start_time": "2023-01-29T21:51:33.015Z"
   },
   {
    "duration": 12,
    "start_time": "2023-01-29T21:51:33.022Z"
   },
   {
    "duration": 15,
    "start_time": "2023-01-29T21:51:33.036Z"
   },
   {
    "duration": 52,
    "start_time": "2023-01-29T21:51:33.053Z"
   },
   {
    "duration": 9,
    "start_time": "2023-01-29T21:51:33.107Z"
   },
   {
    "duration": 19,
    "start_time": "2023-01-29T21:51:33.118Z"
   },
   {
    "duration": 25,
    "start_time": "2023-01-29T21:51:33.139Z"
   },
   {
    "duration": 13,
    "start_time": "2023-01-29T21:51:33.167Z"
   },
   {
    "duration": 17,
    "start_time": "2023-01-29T21:51:33.182Z"
   },
   {
    "duration": 52,
    "start_time": "2023-01-29T21:51:33.201Z"
   },
   {
    "duration": 207,
    "start_time": "2023-01-29T21:51:33.255Z"
   },
   {
    "duration": 9757,
    "start_time": "2023-01-29T21:51:33.463Z"
   },
   {
    "duration": 317,
    "start_time": "2023-01-29T21:51:43.221Z"
   },
   {
    "duration": 261,
    "start_time": "2023-01-29T21:51:43.540Z"
   },
   {
    "duration": 5,
    "start_time": "2023-01-29T21:51:43.803Z"
   },
   {
    "duration": 34,
    "start_time": "2023-01-29T21:51:43.809Z"
   },
   {
    "duration": 900,
    "start_time": "2023-01-29T21:51:43.845Z"
   },
   {
    "duration": 101,
    "start_time": "2023-01-29T21:51:44.748Z"
   },
   {
    "duration": 92,
    "start_time": "2023-01-29T21:51:44.852Z"
   },
   {
    "duration": 51,
    "start_time": "2023-01-29T21:51:44.947Z"
   },
   {
    "duration": 48,
    "start_time": "2023-01-29T21:51:44.999Z"
   },
   {
    "duration": 15,
    "start_time": "2023-01-29T21:51:45.049Z"
   },
   {
    "duration": 159,
    "start_time": "2023-01-29T21:51:45.066Z"
   },
   {
    "duration": 200,
    "start_time": "2023-01-29T21:51:45.227Z"
   },
   {
    "duration": 162,
    "start_time": "2023-01-29T21:51:45.429Z"
   },
   {
    "duration": 46,
    "start_time": "2023-01-29T21:51:45.595Z"
   },
   {
    "duration": 21,
    "start_time": "2023-01-29T21:51:45.643Z"
   },
   {
    "duration": 188,
    "start_time": "2023-01-29T21:51:45.666Z"
   },
   {
    "duration": 665,
    "start_time": "2023-01-29T21:51:45.856Z"
   },
   {
    "duration": 44,
    "start_time": "2023-01-29T21:51:46.523Z"
   },
   {
    "duration": 121,
    "start_time": "2023-01-29T21:51:46.639Z"
   },
   {
    "duration": 100,
    "start_time": "2023-01-29T21:51:46.843Z"
   },
   {
    "duration": 229,
    "start_time": "2023-01-29T21:51:46.945Z"
   },
   {
    "duration": 374,
    "start_time": "2023-01-29T21:51:47.176Z"
   },
   {
    "duration": 6,
    "start_time": "2023-01-29T21:51:47.552Z"
   },
   {
    "duration": 284,
    "start_time": "2023-01-29T21:51:47.560Z"
   },
   {
    "duration": 99,
    "start_time": "2023-01-29T21:51:47.846Z"
   },
   {
    "duration": 295,
    "start_time": "2023-01-29T21:51:47.947Z"
   },
   {
    "duration": 113,
    "start_time": "2023-01-29T21:51:48.250Z"
   },
   {
    "duration": 17,
    "start_time": "2023-01-29T21:51:48.365Z"
   },
   {
    "duration": 199,
    "start_time": "2023-01-29T21:51:48.440Z"
   },
   {
    "duration": 160,
    "start_time": "2023-01-29T21:51:48.641Z"
   },
   {
    "duration": 1094,
    "start_time": "2023-01-29T21:51:48.803Z"
   },
   {
    "duration": 21676,
    "start_time": "2023-01-29T21:51:49.899Z"
   },
   {
    "duration": 402,
    "start_time": "2023-01-29T21:52:11.577Z"
   },
   {
    "duration": 807,
    "start_time": "2023-01-29T21:52:11.981Z"
   },
   {
    "duration": 63,
    "start_time": "2023-01-29T21:52:12.790Z"
   },
   {
    "duration": 49,
    "start_time": "2023-01-29T21:52:12.855Z"
   },
   {
    "duration": 6,
    "start_time": "2023-01-29T21:52:12.906Z"
   },
   {
    "duration": 36,
    "start_time": "2023-01-29T21:52:12.913Z"
   },
   {
    "duration": 1534,
    "start_time": "2023-01-30T20:20:45.156Z"
   },
   {
    "duration": 64,
    "start_time": "2023-01-30T20:20:46.693Z"
   },
   {
    "duration": 3,
    "start_time": "2023-01-30T20:20:46.759Z"
   },
   {
    "duration": 9,
    "start_time": "2023-01-30T20:20:46.765Z"
   },
   {
    "duration": 15,
    "start_time": "2023-01-30T20:20:46.776Z"
   },
   {
    "duration": 21,
    "start_time": "2023-01-30T20:20:46.793Z"
   },
   {
    "duration": 8,
    "start_time": "2023-01-30T20:20:46.818Z"
   },
   {
    "duration": 7,
    "start_time": "2023-01-30T20:20:46.828Z"
   },
   {
    "duration": 37,
    "start_time": "2023-01-30T20:20:46.838Z"
   },
   {
    "duration": 12,
    "start_time": "2023-01-30T20:20:46.878Z"
   },
   {
    "duration": 17,
    "start_time": "2023-01-30T20:20:46.892Z"
   },
   {
    "duration": 26,
    "start_time": "2023-01-30T20:20:46.911Z"
   },
   {
    "duration": 173,
    "start_time": "2023-01-30T20:20:46.938Z"
   },
   {
    "duration": 8519,
    "start_time": "2023-01-30T20:20:47.113Z"
   },
   {
    "duration": 158,
    "start_time": "2023-01-30T20:20:55.634Z"
   },
   {
    "duration": 222,
    "start_time": "2023-01-30T20:20:55.881Z"
   },
   {
    "duration": 3,
    "start_time": "2023-01-30T20:20:56.105Z"
   },
   {
    "duration": 7,
    "start_time": "2023-01-30T20:20:56.110Z"
   },
   {
    "duration": 767,
    "start_time": "2023-01-30T20:20:56.118Z"
   },
   {
    "duration": 5,
    "start_time": "2023-01-30T20:20:56.888Z"
   },
   {
    "duration": 101,
    "start_time": "2023-01-30T20:20:56.982Z"
   },
   {
    "duration": 43,
    "start_time": "2023-01-30T20:20:57.085Z"
   },
   {
    "duration": 17,
    "start_time": "2023-01-30T20:20:57.130Z"
   },
   {
    "duration": 9,
    "start_time": "2023-01-30T20:20:57.148Z"
   },
   {
    "duration": 117,
    "start_time": "2023-01-30T20:20:57.182Z"
   },
   {
    "duration": 152,
    "start_time": "2023-01-30T20:20:57.300Z"
   },
   {
    "duration": 124,
    "start_time": "2023-01-30T20:20:57.454Z"
   },
   {
    "duration": 32,
    "start_time": "2023-01-30T20:20:57.582Z"
   },
   {
    "duration": 16,
    "start_time": "2023-01-30T20:20:57.616Z"
   },
   {
    "duration": 136,
    "start_time": "2023-01-30T20:20:57.633Z"
   },
   {
    "duration": 540,
    "start_time": "2023-01-30T20:20:57.770Z"
   },
   {
    "duration": 172,
    "start_time": "2023-01-30T20:20:58.311Z"
   },
   {
    "duration": 96,
    "start_time": "2023-01-30T20:20:58.485Z"
   },
   {
    "duration": 11,
    "start_time": "2023-01-30T20:20:58.583Z"
   },
   {
    "duration": 203,
    "start_time": "2023-01-30T20:20:58.682Z"
   },
   {
    "duration": 297,
    "start_time": "2023-01-30T20:20:58.887Z"
   },
   {
    "duration": 3,
    "start_time": "2023-01-30T20:20:59.186Z"
   },
   {
    "duration": 395,
    "start_time": "2023-01-30T20:20:59.191Z"
   },
   {
    "duration": 194,
    "start_time": "2023-01-30T20:20:59.589Z"
   },
   {
    "duration": 199,
    "start_time": "2023-01-30T20:20:59.784Z"
   },
   {
    "duration": 127,
    "start_time": "2023-01-30T20:20:59.985Z"
   },
   {
    "duration": 41,
    "start_time": "2023-01-30T20:21:00.113Z"
   },
   {
    "duration": 140,
    "start_time": "2023-01-30T20:21:00.156Z"
   },
   {
    "duration": 252,
    "start_time": "2023-01-30T20:21:00.297Z"
   },
   {
    "duration": 939,
    "start_time": "2023-01-30T20:21:00.551Z"
   },
   {
    "duration": 18923,
    "start_time": "2023-01-30T20:21:01.498Z"
   },
   {
    "duration": 363,
    "start_time": "2023-01-30T20:21:20.422Z"
   },
   {
    "duration": 678,
    "start_time": "2023-01-30T20:21:20.786Z"
   },
   {
    "duration": 54,
    "start_time": "2023-01-30T20:21:21.465Z"
   },
   {
    "duration": 46,
    "start_time": "2023-01-30T20:21:21.521Z"
   },
   {
    "duration": 11,
    "start_time": "2023-01-30T20:21:21.582Z"
   },
   {
    "duration": 31,
    "start_time": "2023-01-30T20:21:21.595Z"
   },
   {
    "duration": 5,
    "start_time": "2023-01-30T20:21:51.022Z"
   },
   {
    "duration": 137,
    "start_time": "2023-01-30T20:26:14.613Z"
   },
   {
    "duration": 41,
    "start_time": "2023-01-30T20:26:20.522Z"
   },
   {
    "duration": 1545,
    "start_time": "2023-01-30T21:39:27.748Z"
   },
   {
    "duration": 236,
    "start_time": "2023-01-30T21:39:29.295Z"
   },
   {
    "duration": 3,
    "start_time": "2023-01-30T21:39:29.533Z"
   },
   {
    "duration": 29,
    "start_time": "2023-01-30T21:39:29.538Z"
   },
   {
    "duration": 23,
    "start_time": "2023-01-30T21:39:29.569Z"
   },
   {
    "duration": 24,
    "start_time": "2023-01-30T21:39:29.593Z"
   },
   {
    "duration": 11,
    "start_time": "2023-01-30T21:39:29.619Z"
   },
   {
    "duration": 7,
    "start_time": "2023-01-30T21:39:29.632Z"
   },
   {
    "duration": 46,
    "start_time": "2023-01-30T21:39:29.640Z"
   },
   {
    "duration": 24,
    "start_time": "2023-01-30T21:39:29.689Z"
   },
   {
    "duration": 12,
    "start_time": "2023-01-30T21:39:29.715Z"
   },
   {
    "duration": 12,
    "start_time": "2023-01-30T21:39:29.729Z"
   },
   {
    "duration": 52,
    "start_time": "2023-01-30T21:39:29.743Z"
   },
   {
    "duration": 176,
    "start_time": "2023-01-30T21:39:29.797Z"
   },
   {
    "duration": 9644,
    "start_time": "2023-01-30T21:39:29.974Z"
   },
   {
    "duration": 851,
    "start_time": "2023-01-30T21:39:39.619Z"
   },
   {
    "duration": 313,
    "start_time": "2023-01-30T21:39:40.474Z"
   },
   {
    "duration": 3,
    "start_time": "2023-01-30T21:39:40.789Z"
   },
   {
    "duration": 12,
    "start_time": "2023-01-30T21:39:40.794Z"
   },
   {
    "duration": 852,
    "start_time": "2023-01-30T21:39:40.807Z"
   },
   {
    "duration": 14,
    "start_time": "2023-01-30T21:39:41.661Z"
   },
   {
    "duration": 38,
    "start_time": "2023-01-30T21:39:41.749Z"
   },
   {
    "duration": 58,
    "start_time": "2023-01-30T21:39:41.789Z"
   },
   {
    "duration": 29,
    "start_time": "2023-01-30T21:39:41.854Z"
   },
   {
    "duration": 11,
    "start_time": "2023-01-30T21:39:41.885Z"
   },
   {
    "duration": 128,
    "start_time": "2023-01-30T21:39:41.897Z"
   },
   {
    "duration": 160,
    "start_time": "2023-01-30T21:39:42.027Z"
   },
   {
    "duration": 118,
    "start_time": "2023-01-30T21:39:42.190Z"
   },
   {
    "duration": 47,
    "start_time": "2023-01-30T21:39:42.310Z"
   },
   {
    "duration": 21,
    "start_time": "2023-01-30T21:39:42.361Z"
   },
   {
    "duration": 124,
    "start_time": "2023-01-30T21:39:42.384Z"
   },
   {
    "duration": 603,
    "start_time": "2023-01-30T21:39:42.510Z"
   },
   {
    "duration": 49,
    "start_time": "2023-01-30T21:39:43.115Z"
   },
   {
    "duration": 146,
    "start_time": "2023-01-30T21:39:43.167Z"
   },
   {
    "duration": 52,
    "start_time": "2023-01-30T21:39:43.317Z"
   },
   {
    "duration": 307,
    "start_time": "2023-01-30T21:39:43.371Z"
   },
   {
    "duration": 338,
    "start_time": "2023-01-30T21:39:43.689Z"
   },
   {
    "duration": 4,
    "start_time": "2023-01-30T21:39:44.029Z"
   },
   {
    "duration": 417,
    "start_time": "2023-01-30T21:39:44.034Z"
   },
   {
    "duration": 103,
    "start_time": "2023-01-30T21:39:44.452Z"
   },
   {
    "duration": 122,
    "start_time": "2023-01-30T21:39:44.569Z"
   },
   {
    "duration": 133,
    "start_time": "2023-01-30T21:39:44.750Z"
   },
   {
    "duration": 13,
    "start_time": "2023-01-30T21:39:44.884Z"
   },
   {
    "duration": 197,
    "start_time": "2023-01-30T21:39:44.952Z"
   },
   {
    "duration": 143,
    "start_time": "2023-01-30T21:39:45.154Z"
   },
   {
    "duration": 1071,
    "start_time": "2023-01-30T21:39:45.298Z"
   },
   {
    "duration": 21310,
    "start_time": "2023-01-30T21:39:46.372Z"
   },
   {
    "duration": 444,
    "start_time": "2023-01-30T21:40:07.685Z"
   },
   {
    "duration": 762,
    "start_time": "2023-01-30T21:40:08.131Z"
   },
   {
    "duration": 50,
    "start_time": "2023-01-30T21:40:08.894Z"
   },
   {
    "duration": 71,
    "start_time": "2023-01-30T21:40:08.946Z"
   },
   {
    "duration": 6,
    "start_time": "2023-01-30T21:40:09.019Z"
   },
   {
    "duration": 26,
    "start_time": "2023-01-30T21:40:09.027Z"
   },
   {
    "duration": 82,
    "start_time": "2023-01-30T21:47:40.777Z"
   },
   {
    "duration": 143,
    "start_time": "2023-01-30T21:48:58.615Z"
   },
   {
    "duration": 51,
    "start_time": "2023-01-30T21:49:24.046Z"
   },
   {
    "duration": 324,
    "start_time": "2023-01-30T21:49:35.133Z"
   },
   {
    "duration": 302,
    "start_time": "2023-01-30T21:50:08.608Z"
   },
   {
    "duration": 291,
    "start_time": "2023-01-30T21:51:59.978Z"
   },
   {
    "duration": 346,
    "start_time": "2023-01-30T21:53:59.633Z"
   },
   {
    "duration": 10615,
    "start_time": "2023-01-30T21:56:23.822Z"
   },
   {
    "duration": 155,
    "start_time": "2023-01-30T22:00:02.225Z"
   },
   {
    "duration": 11056,
    "start_time": "2023-01-30T22:00:16.176Z"
   },
   {
    "duration": 10279,
    "start_time": "2023-01-30T22:03:27.936Z"
   },
   {
    "duration": 86,
    "start_time": "2023-01-30T22:04:09.241Z"
   },
   {
    "duration": 9854,
    "start_time": "2023-01-30T22:04:25.929Z"
   },
   {
    "duration": 11660,
    "start_time": "2023-01-30T22:06:16.836Z"
   },
   {
    "duration": 39,
    "start_time": "2023-01-30T22:14:14.919Z"
   },
   {
    "duration": 37,
    "start_time": "2023-01-30T22:14:28.542Z"
   },
   {
    "duration": 110,
    "start_time": "2023-01-30T22:15:18.079Z"
   },
   {
    "duration": 6,
    "start_time": "2023-01-30T22:19:02.536Z"
   },
   {
    "duration": 274,
    "start_time": "2023-01-30T22:19:03.278Z"
   },
   {
    "duration": 205,
    "start_time": "2023-01-30T22:19:26.389Z"
   },
   {
    "duration": 42,
    "start_time": "2023-01-30T22:20:16.874Z"
   },
   {
    "duration": 170,
    "start_time": "2023-01-30T22:21:14.220Z"
   },
   {
    "duration": 594,
    "start_time": "2023-01-30T22:23:06.377Z"
   },
   {
    "duration": 136,
    "start_time": "2023-01-30T22:25:07.482Z"
   },
   {
    "duration": 1501,
    "start_time": "2023-01-30T22:46:06.310Z"
   },
   {
    "duration": 76,
    "start_time": "2023-01-30T22:46:07.813Z"
   },
   {
    "duration": 4,
    "start_time": "2023-01-30T22:46:07.900Z"
   },
   {
    "duration": 13,
    "start_time": "2023-01-30T22:46:07.907Z"
   },
   {
    "duration": 6,
    "start_time": "2023-01-30T22:46:07.922Z"
   },
   {
    "duration": 26,
    "start_time": "2023-01-30T22:46:07.929Z"
   },
   {
    "duration": 22,
    "start_time": "2023-01-30T22:46:07.956Z"
   },
   {
    "duration": 34,
    "start_time": "2023-01-30T22:46:07.981Z"
   },
   {
    "duration": 8,
    "start_time": "2023-01-30T22:46:08.017Z"
   },
   {
    "duration": 35,
    "start_time": "2023-01-30T22:46:08.027Z"
   },
   {
    "duration": 17,
    "start_time": "2023-01-30T22:46:08.069Z"
   },
   {
    "duration": 38,
    "start_time": "2023-01-30T22:46:08.087Z"
   },
   {
    "duration": 43,
    "start_time": "2023-01-30T22:46:08.127Z"
   },
   {
    "duration": 205,
    "start_time": "2023-01-30T22:46:08.172Z"
   },
   {
    "duration": 0,
    "start_time": "2023-01-30T22:46:08.380Z"
   },
   {
    "duration": 0,
    "start_time": "2023-01-30T22:46:08.381Z"
   },
   {
    "duration": 0,
    "start_time": "2023-01-30T22:46:08.382Z"
   },
   {
    "duration": 0,
    "start_time": "2023-01-30T22:46:08.383Z"
   },
   {
    "duration": 0,
    "start_time": "2023-01-30T22:46:08.384Z"
   },
   {
    "duration": 0,
    "start_time": "2023-01-30T22:46:08.385Z"
   },
   {
    "duration": 0,
    "start_time": "2023-01-30T22:46:08.386Z"
   },
   {
    "duration": 0,
    "start_time": "2023-01-30T22:46:08.387Z"
   },
   {
    "duration": 0,
    "start_time": "2023-01-30T22:46:08.387Z"
   },
   {
    "duration": 0,
    "start_time": "2023-01-30T22:46:08.388Z"
   },
   {
    "duration": 0,
    "start_time": "2023-01-30T22:46:08.389Z"
   },
   {
    "duration": 0,
    "start_time": "2023-01-30T22:46:08.390Z"
   },
   {
    "duration": 0,
    "start_time": "2023-01-30T22:46:08.390Z"
   },
   {
    "duration": 0,
    "start_time": "2023-01-30T22:46:08.391Z"
   },
   {
    "duration": 0,
    "start_time": "2023-01-30T22:46:08.391Z"
   },
   {
    "duration": 0,
    "start_time": "2023-01-30T22:46:08.392Z"
   },
   {
    "duration": 0,
    "start_time": "2023-01-30T22:46:08.393Z"
   },
   {
    "duration": 0,
    "start_time": "2023-01-30T22:46:08.393Z"
   },
   {
    "duration": 0,
    "start_time": "2023-01-30T22:46:08.394Z"
   },
   {
    "duration": 0,
    "start_time": "2023-01-30T22:46:08.394Z"
   },
   {
    "duration": 0,
    "start_time": "2023-01-30T22:46:08.395Z"
   },
   {
    "duration": 0,
    "start_time": "2023-01-30T22:46:08.395Z"
   },
   {
    "duration": 0,
    "start_time": "2023-01-30T22:46:08.396Z"
   },
   {
    "duration": 0,
    "start_time": "2023-01-30T22:46:08.398Z"
   },
   {
    "duration": 0,
    "start_time": "2023-01-30T22:46:08.399Z"
   },
   {
    "duration": 0,
    "start_time": "2023-01-30T22:46:08.401Z"
   },
   {
    "duration": 0,
    "start_time": "2023-01-30T22:46:08.402Z"
   },
   {
    "duration": 0,
    "start_time": "2023-01-30T22:46:08.403Z"
   },
   {
    "duration": 0,
    "start_time": "2023-01-30T22:46:08.403Z"
   },
   {
    "duration": 0,
    "start_time": "2023-01-30T22:46:08.404Z"
   },
   {
    "duration": 0,
    "start_time": "2023-01-30T22:46:08.405Z"
   },
   {
    "duration": 0,
    "start_time": "2023-01-30T22:46:08.406Z"
   },
   {
    "duration": 0,
    "start_time": "2023-01-30T22:46:08.408Z"
   },
   {
    "duration": 0,
    "start_time": "2023-01-30T22:46:08.409Z"
   },
   {
    "duration": 0,
    "start_time": "2023-01-30T22:46:08.410Z"
   },
   {
    "duration": 0,
    "start_time": "2023-01-30T22:46:08.411Z"
   },
   {
    "duration": 0,
    "start_time": "2023-01-30T22:46:08.412Z"
   },
   {
    "duration": 1409,
    "start_time": "2023-01-30T22:49:17.988Z"
   },
   {
    "duration": 60,
    "start_time": "2023-01-30T22:49:19.403Z"
   },
   {
    "duration": 5,
    "start_time": "2023-01-30T22:49:19.468Z"
   },
   {
    "duration": 22,
    "start_time": "2023-01-30T22:49:19.474Z"
   },
   {
    "duration": 8,
    "start_time": "2023-01-30T22:49:19.498Z"
   },
   {
    "duration": 27,
    "start_time": "2023-01-30T22:49:19.508Z"
   },
   {
    "duration": 24,
    "start_time": "2023-01-30T22:49:19.538Z"
   },
   {
    "duration": 40,
    "start_time": "2023-01-30T22:49:19.565Z"
   },
   {
    "duration": 6,
    "start_time": "2023-01-30T22:49:19.606Z"
   },
   {
    "duration": 29,
    "start_time": "2023-01-30T22:49:19.615Z"
   },
   {
    "duration": 20,
    "start_time": "2023-01-30T22:49:19.646Z"
   },
   {
    "duration": 64,
    "start_time": "2023-01-30T22:49:19.667Z"
   },
   {
    "duration": 76,
    "start_time": "2023-01-30T22:49:19.732Z"
   },
   {
    "duration": 161,
    "start_time": "2023-01-30T22:49:19.810Z"
   },
   {
    "duration": 0,
    "start_time": "2023-01-30T22:49:19.977Z"
   },
   {
    "duration": 0,
    "start_time": "2023-01-30T22:49:19.978Z"
   },
   {
    "duration": 0,
    "start_time": "2023-01-30T22:49:19.979Z"
   },
   {
    "duration": 0,
    "start_time": "2023-01-30T22:49:19.982Z"
   },
   {
    "duration": 0,
    "start_time": "2023-01-30T22:49:19.982Z"
   },
   {
    "duration": 0,
    "start_time": "2023-01-30T22:49:19.983Z"
   },
   {
    "duration": 0,
    "start_time": "2023-01-30T22:49:19.984Z"
   },
   {
    "duration": 0,
    "start_time": "2023-01-30T22:49:19.984Z"
   },
   {
    "duration": 0,
    "start_time": "2023-01-30T22:49:19.985Z"
   },
   {
    "duration": 0,
    "start_time": "2023-01-30T22:49:19.988Z"
   },
   {
    "duration": 0,
    "start_time": "2023-01-30T22:49:19.990Z"
   },
   {
    "duration": 0,
    "start_time": "2023-01-30T22:49:19.991Z"
   },
   {
    "duration": 0,
    "start_time": "2023-01-30T22:49:19.993Z"
   },
   {
    "duration": 0,
    "start_time": "2023-01-30T22:49:19.995Z"
   },
   {
    "duration": 0,
    "start_time": "2023-01-30T22:49:19.996Z"
   },
   {
    "duration": 0,
    "start_time": "2023-01-30T22:49:19.998Z"
   },
   {
    "duration": 0,
    "start_time": "2023-01-30T22:49:19.999Z"
   },
   {
    "duration": 0,
    "start_time": "2023-01-30T22:49:20.001Z"
   },
   {
    "duration": 0,
    "start_time": "2023-01-30T22:49:20.003Z"
   },
   {
    "duration": 0,
    "start_time": "2023-01-30T22:49:20.004Z"
   },
   {
    "duration": 0,
    "start_time": "2023-01-30T22:49:20.006Z"
   },
   {
    "duration": 0,
    "start_time": "2023-01-30T22:49:20.008Z"
   },
   {
    "duration": 0,
    "start_time": "2023-01-30T22:49:20.010Z"
   },
   {
    "duration": 0,
    "start_time": "2023-01-30T22:49:20.011Z"
   },
   {
    "duration": 0,
    "start_time": "2023-01-30T22:49:20.013Z"
   },
   {
    "duration": 0,
    "start_time": "2023-01-30T22:49:20.015Z"
   },
   {
    "duration": 0,
    "start_time": "2023-01-30T22:49:20.017Z"
   },
   {
    "duration": 0,
    "start_time": "2023-01-30T22:49:20.018Z"
   },
   {
    "duration": 0,
    "start_time": "2023-01-30T22:49:20.019Z"
   },
   {
    "duration": 0,
    "start_time": "2023-01-30T22:49:20.055Z"
   },
   {
    "duration": 0,
    "start_time": "2023-01-30T22:49:20.056Z"
   },
   {
    "duration": 0,
    "start_time": "2023-01-30T22:49:20.057Z"
   },
   {
    "duration": 0,
    "start_time": "2023-01-30T22:49:20.057Z"
   },
   {
    "duration": 0,
    "start_time": "2023-01-30T22:49:20.058Z"
   },
   {
    "duration": 0,
    "start_time": "2023-01-30T22:49:20.064Z"
   },
   {
    "duration": 0,
    "start_time": "2023-01-30T22:49:20.065Z"
   },
   {
    "duration": 0,
    "start_time": "2023-01-30T22:49:20.068Z"
   },
   {
    "duration": 1806,
    "start_time": "2023-01-30T22:50:37.204Z"
   },
   {
    "duration": 69,
    "start_time": "2023-01-30T22:50:39.014Z"
   },
   {
    "duration": 8,
    "start_time": "2023-01-30T22:50:39.085Z"
   },
   {
    "duration": 33,
    "start_time": "2023-01-30T22:50:39.094Z"
   },
   {
    "duration": 7,
    "start_time": "2023-01-30T22:50:39.130Z"
   },
   {
    "duration": 43,
    "start_time": "2023-01-30T22:50:39.138Z"
   },
   {
    "duration": 38,
    "start_time": "2023-01-30T22:50:39.186Z"
   },
   {
    "duration": 14,
    "start_time": "2023-01-30T22:50:39.231Z"
   },
   {
    "duration": 13,
    "start_time": "2023-01-30T22:50:39.247Z"
   },
   {
    "duration": 69,
    "start_time": "2023-01-30T22:50:39.264Z"
   },
   {
    "duration": 17,
    "start_time": "2023-01-30T22:50:39.336Z"
   },
   {
    "duration": 79,
    "start_time": "2023-01-30T22:50:39.355Z"
   },
   {
    "duration": 60,
    "start_time": "2023-01-30T22:50:39.436Z"
   },
   {
    "duration": 438,
    "start_time": "2023-01-30T22:50:39.500Z"
   },
   {
    "duration": 0,
    "start_time": "2023-01-30T22:50:39.941Z"
   },
   {
    "duration": 0,
    "start_time": "2023-01-30T22:50:39.943Z"
   },
   {
    "duration": 0,
    "start_time": "2023-01-30T22:50:39.955Z"
   },
   {
    "duration": 0,
    "start_time": "2023-01-30T22:50:39.956Z"
   },
   {
    "duration": 0,
    "start_time": "2023-01-30T22:50:39.961Z"
   },
   {
    "duration": 0,
    "start_time": "2023-01-30T22:50:39.962Z"
   },
   {
    "duration": 0,
    "start_time": "2023-01-30T22:50:39.963Z"
   },
   {
    "duration": 0,
    "start_time": "2023-01-30T22:50:39.965Z"
   },
   {
    "duration": 0,
    "start_time": "2023-01-30T22:50:39.966Z"
   },
   {
    "duration": 1,
    "start_time": "2023-01-30T22:50:39.971Z"
   },
   {
    "duration": 0,
    "start_time": "2023-01-30T22:50:39.973Z"
   },
   {
    "duration": 0,
    "start_time": "2023-01-30T22:50:39.975Z"
   },
   {
    "duration": 0,
    "start_time": "2023-01-30T22:50:39.976Z"
   },
   {
    "duration": 0,
    "start_time": "2023-01-30T22:50:39.978Z"
   },
   {
    "duration": 0,
    "start_time": "2023-01-30T22:50:39.980Z"
   },
   {
    "duration": 0,
    "start_time": "2023-01-30T22:50:39.981Z"
   },
   {
    "duration": 0,
    "start_time": "2023-01-30T22:50:39.983Z"
   },
   {
    "duration": 0,
    "start_time": "2023-01-30T22:50:39.985Z"
   },
   {
    "duration": 0,
    "start_time": "2023-01-30T22:50:39.986Z"
   },
   {
    "duration": 0,
    "start_time": "2023-01-30T22:50:39.988Z"
   },
   {
    "duration": 0,
    "start_time": "2023-01-30T22:50:39.989Z"
   },
   {
    "duration": 0,
    "start_time": "2023-01-30T22:50:39.991Z"
   },
   {
    "duration": 0,
    "start_time": "2023-01-30T22:50:39.993Z"
   },
   {
    "duration": 0,
    "start_time": "2023-01-30T22:50:39.994Z"
   },
   {
    "duration": 0,
    "start_time": "2023-01-30T22:50:39.997Z"
   },
   {
    "duration": 0,
    "start_time": "2023-01-30T22:50:40.000Z"
   },
   {
    "duration": 0,
    "start_time": "2023-01-30T22:50:40.001Z"
   },
   {
    "duration": 0,
    "start_time": "2023-01-30T22:50:40.002Z"
   },
   {
    "duration": 0,
    "start_time": "2023-01-30T22:50:40.010Z"
   },
   {
    "duration": 0,
    "start_time": "2023-01-30T22:50:40.012Z"
   },
   {
    "duration": 0,
    "start_time": "2023-01-30T22:50:40.013Z"
   },
   {
    "duration": 0,
    "start_time": "2023-01-30T22:50:40.017Z"
   },
   {
    "duration": 0,
    "start_time": "2023-01-30T22:50:40.018Z"
   },
   {
    "duration": 0,
    "start_time": "2023-01-30T22:50:40.020Z"
   },
   {
    "duration": 0,
    "start_time": "2023-01-30T22:50:40.026Z"
   },
   {
    "duration": 0,
    "start_time": "2023-01-30T22:50:40.028Z"
   },
   {
    "duration": 0,
    "start_time": "2023-01-30T22:50:40.029Z"
   },
   {
    "duration": 259,
    "start_time": "2023-01-30T22:52:02.823Z"
   },
   {
    "duration": 1819,
    "start_time": "2023-01-30T22:52:20.909Z"
   },
   {
    "duration": 91,
    "start_time": "2023-01-30T22:52:22.731Z"
   },
   {
    "duration": 3,
    "start_time": "2023-01-30T22:52:22.824Z"
   },
   {
    "duration": 14,
    "start_time": "2023-01-30T22:52:22.829Z"
   },
   {
    "duration": 71,
    "start_time": "2023-01-30T22:52:22.846Z"
   },
   {
    "duration": 55,
    "start_time": "2023-01-30T22:52:22.919Z"
   },
   {
    "duration": 52,
    "start_time": "2023-01-30T22:52:22.977Z"
   },
   {
    "duration": 9,
    "start_time": "2023-01-30T22:52:23.032Z"
   },
   {
    "duration": 74,
    "start_time": "2023-01-30T22:52:23.043Z"
   },
   {
    "duration": 36,
    "start_time": "2023-01-30T22:52:23.121Z"
   },
   {
    "duration": 23,
    "start_time": "2023-01-30T22:52:23.158Z"
   },
   {
    "duration": 74,
    "start_time": "2023-01-30T22:52:23.185Z"
   },
   {
    "duration": 108,
    "start_time": "2023-01-30T22:52:23.261Z"
   },
   {
    "duration": 307,
    "start_time": "2023-01-30T22:52:23.380Z"
   },
   {
    "duration": 11458,
    "start_time": "2023-01-30T22:52:23.689Z"
   },
   {
    "duration": 349,
    "start_time": "2023-01-30T22:52:35.152Z"
   },
   {
    "duration": 315,
    "start_time": "2023-01-30T22:52:35.508Z"
   },
   {
    "duration": 5,
    "start_time": "2023-01-30T22:52:35.827Z"
   },
   {
    "duration": 6,
    "start_time": "2023-01-30T22:52:35.834Z"
   },
   {
    "duration": 273,
    "start_time": "2023-01-30T22:52:35.842Z"
   },
   {
    "duration": 42,
    "start_time": "2023-01-30T22:52:36.120Z"
   },
   {
    "duration": 117,
    "start_time": "2023-01-30T22:52:36.170Z"
   },
   {
    "duration": 89,
    "start_time": "2023-01-30T22:52:36.289Z"
   },
   {
    "duration": 53,
    "start_time": "2023-01-30T22:52:36.382Z"
   },
   {
    "duration": 21,
    "start_time": "2023-01-30T22:52:36.438Z"
   },
   {
    "duration": 287,
    "start_time": "2023-01-30T22:52:36.461Z"
   },
   {
    "duration": 168,
    "start_time": "2023-01-30T22:52:36.750Z"
   },
   {
    "duration": 52,
    "start_time": "2023-01-30T22:52:36.925Z"
   },
   {
    "duration": 41,
    "start_time": "2023-01-30T22:52:36.984Z"
   },
   {
    "duration": 204,
    "start_time": "2023-01-30T22:52:37.030Z"
   },
   {
    "duration": 257,
    "start_time": "2023-01-30T22:52:37.236Z"
   },
   {
    "duration": 65,
    "start_time": "2023-01-30T22:52:37.494Z"
   },
   {
    "duration": 199,
    "start_time": "2023-01-30T22:52:37.563Z"
   },
   {
    "duration": 105,
    "start_time": "2023-01-30T22:52:37.781Z"
   },
   {
    "duration": 317,
    "start_time": "2023-01-30T22:52:37.908Z"
   },
   {
    "duration": 4,
    "start_time": "2023-01-30T22:52:38.227Z"
   },
   {
    "duration": 440,
    "start_time": "2023-01-30T22:52:38.233Z"
   },
   {
    "duration": 114,
    "start_time": "2023-01-30T22:52:38.692Z"
   },
   {
    "duration": 199,
    "start_time": "2023-01-30T22:52:38.816Z"
   },
   {
    "duration": 44,
    "start_time": "2023-01-30T22:52:39.050Z"
   },
   {
    "duration": 53,
    "start_time": "2023-01-30T22:52:39.108Z"
   },
   {
    "duration": 210,
    "start_time": "2023-01-30T22:52:39.163Z"
   },
   {
    "duration": 205,
    "start_time": "2023-01-30T22:52:39.374Z"
   },
   {
    "duration": 233,
    "start_time": "2023-01-30T22:52:39.585Z"
   },
   {
    "duration": 26041,
    "start_time": "2023-01-30T22:52:39.824Z"
   },
   {
    "duration": 536,
    "start_time": "2023-01-30T22:53:05.870Z"
   },
   {
    "duration": 724,
    "start_time": "2023-01-30T22:53:06.413Z"
   },
   {
    "duration": 72,
    "start_time": "2023-01-30T22:53:07.145Z"
   },
   {
    "duration": 71,
    "start_time": "2023-01-30T22:53:07.221Z"
   },
   {
    "duration": 62,
    "start_time": "2023-01-30T22:53:07.296Z"
   },
   {
    "duration": 50,
    "start_time": "2023-01-30T22:53:07.371Z"
   },
   {
    "duration": 126,
    "start_time": "2023-01-30T22:54:13.101Z"
   }
  ],
  "kernelspec": {
   "display_name": "Python 3 (ipykernel)",
   "language": "python",
   "name": "python3"
  },
  "language_info": {
   "codemirror_mode": {
    "name": "ipython",
    "version": 3
   },
   "file_extension": ".py",
   "mimetype": "text/x-python",
   "name": "python",
   "nbconvert_exporter": "python",
   "pygments_lexer": "ipython3",
   "version": "3.9.13"
  },
  "toc": {
   "base_numbering": 1,
   "nav_menu": {},
   "number_sections": true,
   "sideBar": true,
   "skip_h1_title": true,
   "title_cell": "Содержание",
   "title_sidebar": "Contents",
   "toc_cell": true,
   "toc_position": {
    "height": "calc(100% - 180px)",
    "left": "10px",
    "top": "150px",
    "width": "249px"
   },
   "toc_section_display": true,
   "toc_window_display": true
  }
 },
 "nbformat": 4,
 "nbformat_minor": 2
}
