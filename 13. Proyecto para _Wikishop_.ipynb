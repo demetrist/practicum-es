{
 "cells": [
  {
   "cell_type": "markdown",
   "metadata": {},
   "source": [
    "# Proyecto para \"Wikishop\""
   ]
  },
  {
   "cell_type": "markdown",
   "metadata": {},
   "source": [
    "Internet-shop \"Wikishop\" lanza un nuevo servicio. Ahora los usuarios pueden editar y complementar descripciones de productos, como en wiki-comunidades. Es decir, los clientes ofrecen sus correcciones y comentarios sobre los cambios de los demás. La tienda necesita una herramienta que busque comentarios tóxicos y los envíe a moderación. \n",
    "\n",
    "Entrene el modelo para clasificar los comentarios positivos y negativos. Tiene a su disposición un conjunto de datos que marcan la toxicidad de las revisiones.\n",
    "\n",
    "Construir un modelo con un valor métrico de calidad de *F1* al menos 0,75. \n",
    "\n",
    "**Instrucciones de ejecución del proyecto*\n",
    "\n",
    "1. Descargar y preparar los datos.\n",
    "2. Entrenar diferentes modelos. \n",
    "3. Saque sus conclusiones.\n",
    "\n",
    "No es necesario usar *BERT* para ejecutar el proyecto, pero puede intentarlo.\n",
    "\n",
    "**Descripción de los datos**\n",
    "\n",
    "Los datos están en el archivo ¹toxic_comments.csv[. La columna *text* contiene el texto del comentario y *toxic* el rasgo objetivo."
   ]
  },
  {
   "cell_type": "markdown",
   "metadata": {},
   "source": [
    "## Preparación"
   ]
  },
  {
   "cell_type": "code",
   "execution_count": 1,
   "metadata": {},
   "outputs": [
    {
     "name": "stderr",
     "output_type": "stream",
     "text": [
      "[nltk_data] Downloading package averaged_perceptron_tagger to\n",
      "[nltk_data]     /Users/dstrokov/nltk_data...\n",
      "[nltk_data]   Package averaged_perceptron_tagger is already up-to-\n",
      "[nltk_data]       date!\n"
     ]
    }
   ],
   "source": [
    "import numpy as np\n",
    "import pandas as pd\n",
    "import re\n",
    "import nltk\n",
    "\n",
    "from nltk import pos_tag\n",
    "from nltk.corpus import stopwords as nltk_stopwords\n",
    "from nltk.corpus import wordnet\n",
    "from nltk.stem import WordNetLemmatizer\n",
    "nltk.download('averaged_perceptron_tagger')\n",
    "\n",
    "from sklearn.pipeline import Pipeline\n",
    "from sklearn.feature_extraction.text import TfidfVectorizer\n",
    "from sklearn.model_selection import train_test_split, cross_val_score, GridSearchCV\n",
    "\n",
    "from sklearn.linear_model import LogisticRegression\n",
    "from sklearn.tree import DecisionTreeClassifier\n",
    "from sklearn.ensemble import RandomForestClassifier\n",
    "\n",
    "from sklearn.metrics import f1_score\n",
    "from sklearn.utils import shuffle\n",
    "\n",
    "from tqdm import tqdm\n",
    "tqdm.pandas()\n",
    "\n",
    "import warnings\n",
    "warnings.filterwarnings('ignore')"
   ]
  },
  {
   "cell_type": "code",
   "execution_count": 2,
   "metadata": {},
   "outputs": [],
   "source": [
    "df = pd.read_csv('/datasets/toxic_comments.csv')"
   ]
  },
  {
   "cell_type": "code",
   "execution_count": 3,
   "metadata": {},
   "outputs": [
    {
     "name": "stdout",
     "output_type": "stream",
     "text": [
      "<class 'pandas.core.frame.DataFrame'>\n",
      "RangeIndex: 159292 entries, 0 to 159291\n",
      "Data columns (total 3 columns):\n",
      " #   Column      Non-Null Count   Dtype \n",
      "---  ------      --------------   ----- \n",
      " 0   Unnamed: 0  159292 non-null  int64 \n",
      " 1   text        159292 non-null  object\n",
      " 2   toxic       159292 non-null  int64 \n",
      "dtypes: int64(2), object(1)\n",
      "memory usage: 3.6+ MB\n"
     ]
    }
   ],
   "source": [
    "df.info()"
   ]
  },
  {
   "cell_type": "code",
   "execution_count": 4,
   "metadata": {},
   "outputs": [
    {
     "data": {
      "text/html": [
       "<div>\n",
       "<style scoped>\n",
       "    .dataframe tbody tr th:only-of-type {\n",
       "        vertical-align: middle;\n",
       "    }\n",
       "\n",
       "    .dataframe tbody tr th {\n",
       "        vertical-align: top;\n",
       "    }\n",
       "\n",
       "    .dataframe thead th {\n",
       "        text-align: right;\n",
       "    }\n",
       "</style>\n",
       "<table border=\"1\" class=\"dataframe\">\n",
       "  <thead>\n",
       "    <tr style=\"text-align: right;\">\n",
       "      <th></th>\n",
       "      <th>Unnamed: 0</th>\n",
       "      <th>text</th>\n",
       "      <th>toxic</th>\n",
       "    </tr>\n",
       "  </thead>\n",
       "  <tbody>\n",
       "    <tr>\n",
       "      <th>0</th>\n",
       "      <td>0</td>\n",
       "      <td>Explanation\\nWhy the edits made under my usern...</td>\n",
       "      <td>0</td>\n",
       "    </tr>\n",
       "    <tr>\n",
       "      <th>1</th>\n",
       "      <td>1</td>\n",
       "      <td>D'aww! He matches this background colour I'm s...</td>\n",
       "      <td>0</td>\n",
       "    </tr>\n",
       "    <tr>\n",
       "      <th>2</th>\n",
       "      <td>2</td>\n",
       "      <td>Hey man, I'm really not trying to edit war. It...</td>\n",
       "      <td>0</td>\n",
       "    </tr>\n",
       "    <tr>\n",
       "      <th>3</th>\n",
       "      <td>3</td>\n",
       "      <td>\"\\nMore\\nI can't make any real suggestions on ...</td>\n",
       "      <td>0</td>\n",
       "    </tr>\n",
       "    <tr>\n",
       "      <th>4</th>\n",
       "      <td>4</td>\n",
       "      <td>You, sir, are my hero. Any chance you remember...</td>\n",
       "      <td>0</td>\n",
       "    </tr>\n",
       "    <tr>\n",
       "      <th>5</th>\n",
       "      <td>5</td>\n",
       "      <td>\"\\n\\nCongratulations from me as well, use the ...</td>\n",
       "      <td>0</td>\n",
       "    </tr>\n",
       "    <tr>\n",
       "      <th>6</th>\n",
       "      <td>6</td>\n",
       "      <td>COCKSUCKER BEFORE YOU PISS AROUND ON MY WORK</td>\n",
       "      <td>1</td>\n",
       "    </tr>\n",
       "    <tr>\n",
       "      <th>7</th>\n",
       "      <td>7</td>\n",
       "      <td>Your vandalism to the Matt Shirvington article...</td>\n",
       "      <td>0</td>\n",
       "    </tr>\n",
       "    <tr>\n",
       "      <th>8</th>\n",
       "      <td>8</td>\n",
       "      <td>Sorry if the word 'nonsense' was offensive to ...</td>\n",
       "      <td>0</td>\n",
       "    </tr>\n",
       "    <tr>\n",
       "      <th>9</th>\n",
       "      <td>9</td>\n",
       "      <td>alignment on this subject and which are contra...</td>\n",
       "      <td>0</td>\n",
       "    </tr>\n",
       "  </tbody>\n",
       "</table>\n",
       "</div>"
      ],
      "text/plain": [
       "   Unnamed: 0                                               text  toxic\n",
       "0           0  Explanation\\nWhy the edits made under my usern...      0\n",
       "1           1  D'aww! He matches this background colour I'm s...      0\n",
       "2           2  Hey man, I'm really not trying to edit war. It...      0\n",
       "3           3  \"\\nMore\\nI can't make any real suggestions on ...      0\n",
       "4           4  You, sir, are my hero. Any chance you remember...      0\n",
       "5           5  \"\\n\\nCongratulations from me as well, use the ...      0\n",
       "6           6       COCKSUCKER BEFORE YOU PISS AROUND ON MY WORK      1\n",
       "7           7  Your vandalism to the Matt Shirvington article...      0\n",
       "8           8  Sorry if the word 'nonsense' was offensive to ...      0\n",
       "9           9  alignment on this subject and which are contra...      0"
      ]
     },
     "execution_count": 4,
     "metadata": {},
     "output_type": "execute_result"
    }
   ],
   "source": [
    "df.head(10)"
   ]
  },
  {
   "cell_type": "code",
   "execution_count": 5,
   "metadata": {},
   "outputs": [],
   "source": [
    "# Eliminar la columna sin nombre - No veo ningún uso en la numeración\n",
    "\n",
    "df = df.drop(['Unnamed: 0'], axis=1)"
   ]
  },
  {
   "cell_type": "code",
   "execution_count": 6,
   "metadata": {},
   "outputs": [
    {
     "name": "stdout",
     "output_type": "stream",
     "text": [
      "Дубликатов - 0\n"
     ]
    }
   ],
   "source": [
    "print('Дубликатов -', df.duplicated().sum())"
   ]
  },
  {
   "cell_type": "code",
   "execution_count": 7,
   "metadata": {},
   "outputs": [
    {
     "name": "stdout",
     "output_type": "stream",
     "text": [
      "Пропусков:\n"
     ]
    },
    {
     "data": {
      "text/plain": [
       "text     0\n",
       "toxic    0\n",
       "dtype: int64"
      ]
     },
     "metadata": {},
     "output_type": "display_data"
    }
   ],
   "source": [
    "print('Пропусков:')\n",
    "display(df.isna().sum())"
   ]
  },
  {
   "cell_type": "code",
   "execution_count": 8,
   "metadata": {},
   "outputs": [
    {
     "name": "stdout",
     "output_type": "stream",
     "text": [
      "Соотношение признаков:\n"
     ]
    },
    {
     "data": {
      "text/plain": [
       "0    0.898388\n",
       "1    0.101612\n",
       "Name: toxic, dtype: float64"
      ]
     },
     "metadata": {},
     "output_type": "display_data"
    }
   ],
   "source": [
    "print('Соотношение признаков:')\n",
    "display(df.toxic.value_counts(normalize=True))"
   ]
  },
  {
   "cell_type": "markdown",
   "metadata": {},
   "source": [
    "Lo que tenemos es:\n",
    "\n",
    "* 159572 comentarios\n",
    "* No hay duplicados ni pases\n",
    "* 2 columnas: tóxico (1 - tóxico, 0 - no), texto (comentario)\n",
    "* 90% de comentarios no son tóxicos"
   ]
  },
  {
   "cell_type": "code",
   "execution_count": 9,
   "metadata": {},
   "outputs": [],
   "source": [
    "# Hacer una función para borrar comentarios y aplicarlo\n",
    "\n",
    "def clear_text(text):\n",
    "    text = text.lower()\n",
    "    text = re.sub(r'[^a-zA-Z]', ' ', text)   \n",
    "    text = ' '.join(text.split())\n",
    "    return text"
   ]
  },
  {
   "cell_type": "code",
   "execution_count": 10,
   "metadata": {},
   "outputs": [
    {
     "name": "stdout",
     "output_type": "stream",
     "text": [
      "CPU times: user 3.17 s, sys: 25 ms, total: 3.2 s\n",
      "Wall time: 3.2 s\n"
     ]
    }
   ],
   "source": [
    "%%time\n",
    "df['text'] = df['text'].apply(clear_text)"
   ]
  },
  {
   "cell_type": "code",
   "execution_count": 11,
   "metadata": {},
   "outputs": [
    {
     "data": {
      "text/html": [
       "<div>\n",
       "<style scoped>\n",
       "    .dataframe tbody tr th:only-of-type {\n",
       "        vertical-align: middle;\n",
       "    }\n",
       "\n",
       "    .dataframe tbody tr th {\n",
       "        vertical-align: top;\n",
       "    }\n",
       "\n",
       "    .dataframe thead th {\n",
       "        text-align: right;\n",
       "    }\n",
       "</style>\n",
       "<table border=\"1\" class=\"dataframe\">\n",
       "  <thead>\n",
       "    <tr style=\"text-align: right;\">\n",
       "      <th></th>\n",
       "      <th>text</th>\n",
       "      <th>toxic</th>\n",
       "    </tr>\n",
       "  </thead>\n",
       "  <tbody>\n",
       "    <tr>\n",
       "      <th>0</th>\n",
       "      <td>explanation why the edits made under my userna...</td>\n",
       "      <td>0</td>\n",
       "    </tr>\n",
       "    <tr>\n",
       "      <th>1</th>\n",
       "      <td>d aww he matches this background colour i m se...</td>\n",
       "      <td>0</td>\n",
       "    </tr>\n",
       "    <tr>\n",
       "      <th>2</th>\n",
       "      <td>hey man i m really not trying to edit war it s...</td>\n",
       "      <td>0</td>\n",
       "    </tr>\n",
       "    <tr>\n",
       "      <th>3</th>\n",
       "      <td>more i can t make any real suggestions on impr...</td>\n",
       "      <td>0</td>\n",
       "    </tr>\n",
       "    <tr>\n",
       "      <th>4</th>\n",
       "      <td>you sir are my hero any chance you remember wh...</td>\n",
       "      <td>0</td>\n",
       "    </tr>\n",
       "    <tr>\n",
       "      <th>5</th>\n",
       "      <td>congratulations from me as well use the tools ...</td>\n",
       "      <td>0</td>\n",
       "    </tr>\n",
       "    <tr>\n",
       "      <th>6</th>\n",
       "      <td>cocksucker before you piss around on my work</td>\n",
       "      <td>1</td>\n",
       "    </tr>\n",
       "    <tr>\n",
       "      <th>7</th>\n",
       "      <td>your vandalism to the matt shirvington article...</td>\n",
       "      <td>0</td>\n",
       "    </tr>\n",
       "    <tr>\n",
       "      <th>8</th>\n",
       "      <td>sorry if the word nonsense was offensive to yo...</td>\n",
       "      <td>0</td>\n",
       "    </tr>\n",
       "    <tr>\n",
       "      <th>9</th>\n",
       "      <td>alignment on this subject and which are contra...</td>\n",
       "      <td>0</td>\n",
       "    </tr>\n",
       "  </tbody>\n",
       "</table>\n",
       "</div>"
      ],
      "text/plain": [
       "                                                text  toxic\n",
       "0  explanation why the edits made under my userna...      0\n",
       "1  d aww he matches this background colour i m se...      0\n",
       "2  hey man i m really not trying to edit war it s...      0\n",
       "3  more i can t make any real suggestions on impr...      0\n",
       "4  you sir are my hero any chance you remember wh...      0\n",
       "5  congratulations from me as well use the tools ...      0\n",
       "6       cocksucker before you piss around on my work      1\n",
       "7  your vandalism to the matt shirvington article...      0\n",
       "8  sorry if the word nonsense was offensive to yo...      0\n",
       "9  alignment on this subject and which are contra...      0"
      ]
     },
     "execution_count": 11,
     "metadata": {},
     "output_type": "execute_result"
    }
   ],
   "source": [
    "# resultado primario\n",
    "\n",
    "df.head(10)"
   ]
  },
  {
   "cell_type": "code",
   "execution_count": 12,
   "metadata": {},
   "outputs": [],
   "source": [
    "lemmatizer = WordNetLemmatizer()"
   ]
  },
  {
   "cell_type": "code",
   "execution_count": 13,
   "metadata": {},
   "outputs": [],
   "source": [
    "def get_wordnet_pos(treebank_tag):\n",
    "    \"\"\"\n",
    "    Определение соответствия между POS-тегами Treebank и WordNet.\n",
    "    \"\"\"\n",
    "    if treebank_tag.startswith('J'):\n",
    "        return wordnet.ADJ\n",
    "    elif treebank_tag.startswith('V'):\n",
    "        return wordnet.VERB\n",
    "    elif treebank_tag.startswith('N'):\n",
    "        return wordnet.NOUN\n",
    "    elif treebank_tag.startswith('R'):\n",
    "        return wordnet.ADV\n",
    "    else:\n",
    "        return wordnet.NOUN "
   ]
  },
  {
   "cell_type": "code",
   "execution_count": 14,
   "metadata": {},
   "outputs": [],
   "source": [
    "def lemmatize_text(text):\n",
    "    words = text.split()\n",
    "    tagged_words = pos_tag(words)\n",
    "    lemmatized_words = []\n",
    "    for word, tag in tagged_words:\n",
    "        pos = get_wordnet_pos(tag)\n",
    "        lemmatized_words.append(lemmatizer.lemmatize(word, pos)) \n",
    "    return \" \".join(lemmatized_words)"
   ]
  },
  {
   "cell_type": "code",
   "execution_count": 15,
   "metadata": {},
   "outputs": [
    {
     "name": "stderr",
     "output_type": "stream",
     "text": [
      "100%|██████████████████████████████████| 159292/159292 [05:47<00:00, 458.40it/s]\n"
     ]
    },
    {
     "data": {
      "text/plain": [
       "0    explanation why the edits make under my userna...\n",
       "1    d aww he match this background colour i m seem...\n",
       "2    hey man i m really not try to edit war it s ju...\n",
       "3    more i can t make any real suggestion on impro...\n",
       "4    you sir be my hero any chance you remember wha...\n",
       "Name: text, dtype: object"
      ]
     },
     "execution_count": 15,
     "metadata": {},
     "output_type": "execute_result"
    }
   ],
   "source": [
    "lemmatized_df = df['text'].progress_apply(lemmatize_text)\n",
    "\n",
    "lemmatized_df.head()"
   ]
  },
  {
   "cell_type": "code",
   "execution_count": 16,
   "metadata": {},
   "outputs": [],
   "source": [
    "df['text'] = lemmatized_df"
   ]
  },
  {
   "cell_type": "code",
   "execution_count": 18,
   "metadata": {},
   "outputs": [],
   "source": [
    "features = df['text'] \n",
    "target = df['toxic']\n",
    "\n",
    "features_train, features_test, target_train, target_test = train_test_split(features, target, test_size=.1, random_state=42, stratify=target)"
   ]
  },
  {
   "cell_type": "code",
   "execution_count": 21,
   "metadata": {},
   "outputs": [
    {
     "name": "stdout",
     "output_type": "stream",
     "text": [
      "(143362,)\n",
      "(143362,)\n",
      "(15930,)\n",
      "(15930,)\n"
     ]
    }
   ],
   "source": [
    "\n",
    "for i in [features_train, target_train, features_test, target_test]:\n",
    "    print(i.shape)"
   ]
  },
  {
   "cell_type": "markdown",
   "metadata": {},
   "source": [
    "## Formación\n",
    "\n",
    "### Decision tree"
   ]
  },
  {
   "cell_type": "code",
   "execution_count": 22,
   "metadata": {},
   "outputs": [
    {
     "name": "stdout",
     "output_type": "stream",
     "text": [
      "F1 дерева решений = 0.63\n",
      "при параметрах {'dtc__class_weight': 'balanced', 'dtc__max_depth': 23, 'dtc__random_state': 42}\n",
      "\n",
      "CPU times: user 22.3 s, sys: 6.21 s, total: 28.5 s\n",
      "Wall time: 3min 28s\n"
     ]
    }
   ],
   "source": [
    "%%time\n",
    "\n",
    "pipeline = Pipeline([(\"vect\", TfidfVectorizer(stop_words='english')), \n",
    "                     (\"dtc\", DecisionTreeClassifier())])\n",
    "    \n",
    "parameters = {'dtc__max_depth': ([x for x in range(1, 25)]),\n",
    "              'dtc__random_state': ([42]), \n",
    "              'dtc__class_weight': (['balanced'])}\n",
    "\n",
    "dtc = GridSearchCV(pipeline, parameters, scoring='f1', cv=3, n_jobs=-1, return_train_score=True)\n",
    "dtc.fit(features_train, target_train)\n",
    "\n",
    "mts = dtc.cv_results_['mean_test_score']\n",
    "dtc_train_f1 = max(mts)\n",
    "\n",
    "print('F1 дерева решений =', round(dtc_train_f1,2))\n",
    "print('при параметрах', dtc.best_params_)\n",
    "print()"
   ]
  },
  {
   "cell_type": "markdown",
   "metadata": {},
   "source": [
    "### RandomForestClassifier"
   ]
  },
  {
   "cell_type": "code",
   "execution_count": 23,
   "metadata": {},
   "outputs": [
    {
     "name": "stdout",
     "output_type": "stream",
     "text": [
      "F1 случайного леса = 0.32\n",
      "при параметрах {'rfc__class_weight': 'balanced', 'rfc__criterion': 'entropy', 'rfc__max_depth': 9, 'rfc__n_estimators': 28, 'rfc__random_state': 12345}\n",
      "\n",
      "CPU times: user 45.2 s, sys: 46.9 s, total: 1min 32s\n",
      "Wall time: 10min 41s\n"
     ]
    }
   ],
   "source": [
    "%%time\n",
    "\n",
    "pipeline = Pipeline([(\"vect\", TfidfVectorizer(stop_words='english')), \n",
    "                     (\"rfc\", RandomForestClassifier())])\n",
    "parameters = {'rfc__n_estimators': ([x for x in range(10, 30)]),\n",
    "              'rfc__random_state': ([12345]),\n",
    "              'rfc__max_depth': ([x for x in range(1, 10)]),\n",
    "              'rfc__criterion': (['entropy']), \n",
    "              'rfc__class_weight': (['balanced'])}\n",
    "\n",
    "rfc = GridSearchCV(pipeline, parameters, scoring='f1', cv=3, n_jobs=-1)\n",
    "rfc.fit(features_train, target_train)\n",
    "mts = rfc.cv_results_['mean_test_score']\n",
    "rfc_train_f1 = max(mts)\n",
    "\n",
    "print('F1 случайного леса =', round(rfc_train_f1,2))\n",
    "print('при параметрах', rfc.best_params_)\n",
    "print()"
   ]
  },
  {
   "cell_type": "markdown",
   "metadata": {},
   "source": [
    "### LogisticRegression"
   ]
  },
  {
   "cell_type": "code",
   "execution_count": 24,
   "metadata": {},
   "outputs": [
    {
     "name": "stderr",
     "output_type": "stream",
     "text": [
      "/Users/dstrokov/opt/anaconda3/lib/python3.9/site-packages/sklearn/linear_model/_logistic.py:814: ConvergenceWarning: lbfgs failed to converge (status=1):\n",
      "STOP: TOTAL NO. of ITERATIONS REACHED LIMIT.\n",
      "\n",
      "Increase the number of iterations (max_iter) or scale the data as shown in:\n",
      "    https://scikit-learn.org/stable/modules/preprocessing.html\n",
      "Please also refer to the documentation for alternative solver options:\n",
      "    https://scikit-learn.org/stable/modules/linear_model.html#logistic-regression\n",
      "  n_iter_i = _check_optimize_result(\n",
      "/Users/dstrokov/opt/anaconda3/lib/python3.9/site-packages/sklearn/linear_model/_logistic.py:814: ConvergenceWarning: lbfgs failed to converge (status=1):\n",
      "STOP: TOTAL NO. of ITERATIONS REACHED LIMIT.\n",
      "\n",
      "Increase the number of iterations (max_iter) or scale the data as shown in:\n",
      "    https://scikit-learn.org/stable/modules/preprocessing.html\n",
      "Please also refer to the documentation for alternative solver options:\n",
      "    https://scikit-learn.org/stable/modules/linear_model.html#logistic-regression\n",
      "  n_iter_i = _check_optimize_result(\n",
      "/Users/dstrokov/opt/anaconda3/lib/python3.9/site-packages/sklearn/linear_model/_logistic.py:814: ConvergenceWarning: lbfgs failed to converge (status=1):\n",
      "STOP: TOTAL NO. of ITERATIONS REACHED LIMIT.\n",
      "\n",
      "Increase the number of iterations (max_iter) or scale the data as shown in:\n",
      "    https://scikit-learn.org/stable/modules/preprocessing.html\n",
      "Please also refer to the documentation for alternative solver options:\n",
      "    https://scikit-learn.org/stable/modules/linear_model.html#logistic-regression\n",
      "  n_iter_i = _check_optimize_result(\n",
      "/Users/dstrokov/opt/anaconda3/lib/python3.9/site-packages/sklearn/linear_model/_logistic.py:814: ConvergenceWarning: lbfgs failed to converge (status=1):\n",
      "STOP: TOTAL NO. of ITERATIONS REACHED LIMIT.\n",
      "\n",
      "Increase the number of iterations (max_iter) or scale the data as shown in:\n",
      "    https://scikit-learn.org/stable/modules/preprocessing.html\n",
      "Please also refer to the documentation for alternative solver options:\n",
      "    https://scikit-learn.org/stable/modules/linear_model.html#logistic-regression\n",
      "  n_iter_i = _check_optimize_result(\n",
      "/Users/dstrokov/opt/anaconda3/lib/python3.9/site-packages/sklearn/linear_model/_logistic.py:814: ConvergenceWarning: lbfgs failed to converge (status=1):\n",
      "STOP: TOTAL NO. of ITERATIONS REACHED LIMIT.\n",
      "\n",
      "Increase the number of iterations (max_iter) or scale the data as shown in:\n",
      "    https://scikit-learn.org/stable/modules/preprocessing.html\n",
      "Please also refer to the documentation for alternative solver options:\n",
      "    https://scikit-learn.org/stable/modules/linear_model.html#logistic-regression\n",
      "  n_iter_i = _check_optimize_result(\n",
      "/Users/dstrokov/opt/anaconda3/lib/python3.9/site-packages/sklearn/linear_model/_logistic.py:814: ConvergenceWarning: lbfgs failed to converge (status=1):\n",
      "STOP: TOTAL NO. of ITERATIONS REACHED LIMIT.\n",
      "\n",
      "Increase the number of iterations (max_iter) or scale the data as shown in:\n",
      "    https://scikit-learn.org/stable/modules/preprocessing.html\n",
      "Please also refer to the documentation for alternative solver options:\n",
      "    https://scikit-learn.org/stable/modules/linear_model.html#logistic-regression\n",
      "  n_iter_i = _check_optimize_result(\n"
     ]
    },
    {
     "name": "stdout",
     "output_type": "stream",
     "text": [
      "F1 логистической регрессии = 0.75\n",
      "при параметрах {'lr__C': 10, 'lr__class_weight': 'balanced'}\n",
      "\n",
      "CPU times: user 23.5 s, sys: 3.29 s, total: 26.8 s\n",
      "Wall time: 19.4 s\n"
     ]
    }
   ],
   "source": [
    "%%time\n",
    "\n",
    "pipeline = Pipeline([(\"vect\", TfidfVectorizer(stop_words='english')), \n",
    "                     (\"lr\", LogisticRegression())])\n",
    "    \n",
    "parameters = {'lr__C': (10, 15), \n",
    "              'lr__class_weight': (['balanced'])}\n",
    "\n",
    "lr = GridSearchCV(pipeline, parameters, scoring='f1', cv=3, n_jobs=-1)\n",
    "lr.fit(features_train, target_train)\n",
    "mts = lr.cv_results_['mean_test_score']\n",
    "lr_train_f1 = max(mts)\n",
    "\n",
    "print('F1 логистической регрессии =', round(lr_train_f1,2))\n",
    "print('при параметрах', lr.best_params_)\n",
    "print()"
   ]
  },
  {
   "cell_type": "markdown",
   "metadata": {},
   "source": [
    "### Las mejores pruebas de modelos"
   ]
  },
  {
   "cell_type": "code",
   "execution_count": 26,
   "metadata": {},
   "outputs": [
    {
     "name": "stdout",
     "output_type": "stream",
     "text": [
      "финальный F1 логистической регрессии = 0.77\n",
      "CPU times: user 538 ms, sys: 58.8 ms, total: 596 ms\n",
      "Wall time: 604 ms\n"
     ]
    }
   ],
   "source": [
    "%%time\n",
    "\n",
    "predictions_test = lr.predict(features_test)\n",
    "lr_test_f1 = f1_score(target_test, predictions_test)\n",
    "print('финальный F1 логистической регрессии =', round(lr_test_f1,2))"
   ]
  },
  {
   "cell_type": "markdown",
   "metadata": {},
   "source": [
    "## Conclusiones"
   ]
  },
  {
   "cell_type": "markdown",
   "metadata": {},
   "source": [
    "Como resultado de la capacitación sobre los tres modelos se obtuvieron los siguientes resultados: \n",
    "\n",
    "* F1 en el árbol de decisión = 0.63  \n",
    "* F1 en regresión logística = 0,75  \n",
    "* F1 en bosque aleatorio = 0.32  \n",
    "    \n",
    "Las pruebas de regresión logística arrojaron 0,77 - recomendado."
   ]
  },
  {
   "cell_type": "code",
   "execution_count": null,
   "metadata": {},
   "outputs": [],
   "source": []
  }
 ],
 "metadata": {
  "ExecuteTimeLog": [
   {
    "duration": 1912,
    "start_time": "2023-04-11T20:35:05.020Z"
   },
   {
    "duration": 2358,
    "start_time": "2023-04-11T20:35:17.830Z"
   },
   {
    "duration": 36,
    "start_time": "2023-04-11T20:35:29.996Z"
   },
   {
    "duration": 15,
    "start_time": "2023-04-11T20:36:13.728Z"
   },
   {
    "duration": 131,
    "start_time": "2023-04-11T20:37:17.197Z"
   },
   {
    "duration": 246,
    "start_time": "2023-04-11T20:38:11.614Z"
   },
   {
    "duration": 31,
    "start_time": "2023-04-11T20:38:38.412Z"
   },
   {
    "duration": 10,
    "start_time": "2023-04-11T20:39:22.020Z"
   },
   {
    "duration": 9,
    "start_time": "2023-04-11T20:39:28.103Z"
   },
   {
    "duration": 1474,
    "start_time": "2023-04-11T20:41:33.911Z"
   },
   {
    "duration": 852,
    "start_time": "2023-04-11T20:41:35.387Z"
   },
   {
    "duration": 35,
    "start_time": "2023-04-11T20:41:36.241Z"
   },
   {
    "duration": 18,
    "start_time": "2023-04-11T20:41:36.278Z"
   },
   {
    "duration": 15,
    "start_time": "2023-04-11T20:41:36.297Z"
   },
   {
    "duration": 261,
    "start_time": "2023-04-11T20:41:36.314Z"
   },
   {
    "duration": 33,
    "start_time": "2023-04-11T20:41:36.577Z"
   },
   {
    "duration": 30,
    "start_time": "2023-04-11T20:41:36.612Z"
   },
   {
    "duration": 3,
    "start_time": "2023-04-11T20:49:20.485Z"
   },
   {
    "duration": 4098,
    "start_time": "2023-04-11T20:49:42.684Z"
   },
   {
    "duration": 8,
    "start_time": "2023-04-11T20:50:18.059Z"
   },
   {
    "duration": 9,
    "start_time": "2023-04-11T20:50:35.186Z"
   },
   {
    "duration": 48,
    "start_time": "2023-04-11T20:54:24.794Z"
   },
   {
    "duration": 4,
    "start_time": "2023-04-11T20:55:15.664Z"
   },
   {
    "duration": 3,
    "start_time": "2023-04-11T20:58:50.879Z"
   },
   {
    "duration": 1411,
    "start_time": "2023-04-11T21:01:28.777Z"
   },
   {
    "duration": 947,
    "start_time": "2023-04-11T21:01:30.190Z"
   },
   {
    "duration": 39,
    "start_time": "2023-04-11T21:01:31.139Z"
   },
   {
    "duration": 77,
    "start_time": "2023-04-11T21:01:31.180Z"
   },
   {
    "duration": 36,
    "start_time": "2023-04-11T21:01:31.259Z"
   },
   {
    "duration": 342,
    "start_time": "2023-04-11T21:01:31.297Z"
   },
   {
    "duration": 33,
    "start_time": "2023-04-11T21:01:31.642Z"
   },
   {
    "duration": 39,
    "start_time": "2023-04-11T21:01:31.677Z"
   },
   {
    "duration": 37,
    "start_time": "2023-04-11T21:01:31.718Z"
   },
   {
    "duration": 4195,
    "start_time": "2023-04-11T21:01:31.757Z"
   },
   {
    "duration": 9,
    "start_time": "2023-04-11T21:01:35.955Z"
   },
   {
    "duration": 75,
    "start_time": "2023-04-11T21:01:35.966Z"
   },
   {
    "duration": 4,
    "start_time": "2023-04-11T21:01:36.043Z"
   },
   {
    "duration": 3151,
    "start_time": "2023-04-11T21:01:36.048Z"
   },
   {
    "duration": 102,
    "start_time": "2023-04-11T21:06:38.685Z"
   },
   {
    "duration": 635,
    "start_time": "2023-04-11T21:07:33.858Z"
   },
   {
    "duration": 102,
    "start_time": "2023-04-11T21:20:29.263Z"
   },
   {
    "duration": 2832,
    "start_time": "2023-04-11T21:21:22.529Z"
   },
   {
    "duration": 57,
    "start_time": "2023-04-11T21:28:34.030Z"
   },
   {
    "duration": 2789,
    "start_time": "2023-04-11T21:28:52.301Z"
   },
   {
    "duration": 3,
    "start_time": "2023-04-11T21:29:36.714Z"
   },
   {
    "duration": 795321,
    "start_time": "2023-04-11T21:29:39.663Z"
   },
   {
    "duration": 6,
    "start_time": "2023-04-11T21:46:03.875Z"
   },
   {
    "duration": 1430827,
    "start_time": "2023-04-11T21:47:35.868Z"
   },
   {
    "duration": 737,
    "start_time": "2023-04-12T09:17:28.101Z"
   },
   {
    "duration": 1646,
    "start_time": "2023-04-12T09:17:35.499Z"
   },
   {
    "duration": 4,
    "start_time": "2023-04-12T09:18:04.794Z"
   },
   {
    "duration": 2458,
    "start_time": "2023-04-12T09:18:08.410Z"
   },
   {
    "duration": 33,
    "start_time": "2023-04-12T09:18:10.870Z"
   },
   {
    "duration": 14,
    "start_time": "2023-04-12T09:18:13.111Z"
   },
   {
    "duration": 12,
    "start_time": "2023-04-12T09:18:15.451Z"
   },
   {
    "duration": 241,
    "start_time": "2023-04-12T09:18:16.398Z"
   },
   {
    "duration": 29,
    "start_time": "2023-04-12T09:18:17.356Z"
   },
   {
    "duration": 9,
    "start_time": "2023-04-12T09:18:20.528Z"
   },
   {
    "duration": 4,
    "start_time": "2023-04-12T09:18:23.509Z"
   },
   {
    "duration": 4262,
    "start_time": "2023-04-12T09:18:24.602Z"
   },
   {
    "duration": 7,
    "start_time": "2023-04-12T09:18:30.753Z"
   },
   {
    "duration": 44,
    "start_time": "2023-04-12T09:18:34.143Z"
   },
   {
    "duration": 5,
    "start_time": "2023-04-12T09:18:38.011Z"
   },
   {
    "duration": 54,
    "start_time": "2023-04-12T09:18:40.745Z"
   },
   {
    "duration": 3,
    "start_time": "2023-04-12T09:18:44.419Z"
   },
   {
    "duration": 628849,
    "start_time": "2023-04-12T09:18:54.099Z"
   },
   {
    "duration": 1282,
    "start_time": "2023-04-13T19:36:01.481Z"
   },
   {
    "duration": 3215,
    "start_time": "2023-04-13T19:36:04.154Z"
   },
   {
    "duration": 27,
    "start_time": "2023-04-13T19:36:07.371Z"
   },
   {
    "duration": 12,
    "start_time": "2023-04-13T19:36:09.844Z"
   },
   {
    "duration": 9,
    "start_time": "2023-04-13T19:36:12.506Z"
   },
   {
    "duration": 200,
    "start_time": "2023-04-13T19:36:13.398Z"
   },
   {
    "duration": 25,
    "start_time": "2023-04-13T19:36:15.898Z"
   },
   {
    "duration": 8,
    "start_time": "2023-04-13T19:36:21.924Z"
   },
   {
    "duration": 3,
    "start_time": "2023-04-13T19:36:28.099Z"
   },
   {
    "duration": 3490,
    "start_time": "2023-04-13T19:36:30.004Z"
   },
   {
    "duration": 8,
    "start_time": "2023-04-13T19:36:33.495Z"
   },
   {
    "duration": 3,
    "start_time": "2023-04-13T19:41:59.424Z"
   },
   {
    "duration": 106,
    "start_time": "2023-04-13T19:43:38.612Z"
   },
   {
    "duration": 28150,
    "start_time": "2023-04-13T19:44:29.722Z"
   },
   {
    "duration": 23,
    "start_time": "2023-04-13T19:46:03.717Z"
   },
   {
    "duration": 6,
    "start_time": "2023-04-13T19:46:15.752Z"
   },
   {
    "duration": 49,
    "start_time": "2023-04-13T19:51:25.963Z"
   },
   {
    "duration": 65,
    "start_time": "2023-04-13T19:51:37.297Z"
   },
   {
    "duration": 76,
    "start_time": "2023-04-13T19:55:55.107Z"
   },
   {
    "duration": 73,
    "start_time": "2023-04-13T19:56:07.206Z"
   },
   {
    "duration": 67,
    "start_time": "2023-04-13T19:58:25.674Z"
   },
   {
    "duration": 43,
    "start_time": "2023-04-13T19:58:54.314Z"
   },
   {
    "duration": 3,
    "start_time": "2023-04-13T19:59:54.294Z"
   },
   {
    "duration": 3,
    "start_time": "2023-04-13T20:11:38.634Z"
   },
   {
    "duration": 43,
    "start_time": "2023-04-13T20:29:54.667Z"
   },
   {
    "duration": 9,
    "start_time": "2023-04-13T20:30:03.912Z"
   },
   {
    "duration": 7,
    "start_time": "2023-04-13T20:31:08.425Z"
   },
   {
    "duration": 536,
    "start_time": "2023-04-13T20:32:53.968Z"
   },
   {
    "duration": 35,
    "start_time": "2023-04-13T20:33:26.625Z"
   },
   {
    "duration": 1250,
    "start_time": "2023-04-13T21:03:13.761Z"
   },
   {
    "duration": 731,
    "start_time": "2023-04-13T21:03:15.013Z"
   },
   {
    "duration": 26,
    "start_time": "2023-04-13T21:03:15.746Z"
   },
   {
    "duration": 23,
    "start_time": "2023-04-13T21:03:15.773Z"
   },
   {
    "duration": 14,
    "start_time": "2023-04-13T21:03:15.797Z"
   },
   {
    "duration": 210,
    "start_time": "2023-04-13T21:03:15.812Z"
   },
   {
    "duration": 24,
    "start_time": "2023-04-13T21:03:16.024Z"
   },
   {
    "duration": 7,
    "start_time": "2023-04-13T21:03:16.049Z"
   },
   {
    "duration": 5,
    "start_time": "2023-04-13T21:03:16.057Z"
   },
   {
    "duration": 3465,
    "start_time": "2023-04-13T21:03:16.064Z"
   },
   {
    "duration": 6,
    "start_time": "2023-04-13T21:03:19.530Z"
   },
   {
    "duration": 9,
    "start_time": "2023-04-13T21:03:19.538Z"
   },
   {
    "duration": 28588,
    "start_time": "2023-04-13T21:03:19.548Z"
   },
   {
    "duration": 26,
    "start_time": "2023-04-13T21:03:48.137Z"
   },
   {
    "duration": 62,
    "start_time": "2023-04-13T21:03:48.165Z"
   },
   {
    "duration": 3,
    "start_time": "2023-04-13T21:03:48.229Z"
   },
   {
    "duration": 61,
    "start_time": "2023-04-13T21:03:48.233Z"
   },
   {
    "duration": 119854,
    "start_time": "2023-04-13T21:03:48.296Z"
   },
   {
    "duration": 259850,
    "start_time": "2023-04-13T21:05:48.151Z"
   },
   {
    "duration": 584153,
    "start_time": "2023-04-13T21:10:08.003Z"
   },
   {
    "duration": 49,
    "start_time": "2023-04-13T21:25:06.011Z"
   },
   {
    "duration": 625,
    "start_time": "2023-04-13T21:27:37.157Z"
   },
   {
    "duration": 593,
    "start_time": "2023-04-13T21:29:02.555Z"
   },
   {
    "duration": 145,
    "start_time": "2023-04-13T21:40:45.732Z"
   },
   {
    "duration": 1251,
    "start_time": "2023-04-13T21:46:30.077Z"
   },
   {
    "duration": 734,
    "start_time": "2023-04-13T21:46:31.330Z"
   },
   {
    "duration": 31,
    "start_time": "2023-04-13T21:46:32.066Z"
   },
   {
    "duration": 14,
    "start_time": "2023-04-13T21:46:32.099Z"
   },
   {
    "duration": 25,
    "start_time": "2023-04-13T21:46:32.115Z"
   },
   {
    "duration": 224,
    "start_time": "2023-04-13T21:46:32.142Z"
   },
   {
    "duration": 31,
    "start_time": "2023-04-13T21:46:32.367Z"
   },
   {
    "duration": 15,
    "start_time": "2023-04-13T21:46:32.399Z"
   },
   {
    "duration": 3,
    "start_time": "2023-04-13T21:46:32.415Z"
   },
   {
    "duration": 3483,
    "start_time": "2023-04-13T21:46:32.419Z"
   },
   {
    "duration": 6,
    "start_time": "2023-04-13T21:46:35.904Z"
   },
   {
    "duration": 9,
    "start_time": "2023-04-13T21:46:35.911Z"
   },
   {
    "duration": 27680,
    "start_time": "2023-04-13T21:46:35.921Z"
   },
   {
    "duration": 26,
    "start_time": "2023-04-13T21:47:03.603Z"
   },
   {
    "duration": 69,
    "start_time": "2023-04-13T21:47:03.631Z"
   },
   {
    "duration": 3,
    "start_time": "2023-04-13T21:47:03.702Z"
   },
   {
    "duration": 51,
    "start_time": "2023-04-13T21:47:03.707Z"
   },
   {
    "duration": 118295,
    "start_time": "2023-04-13T21:47:03.760Z"
   },
   {
    "duration": 231943,
    "start_time": "2023-04-13T21:49:02.056Z"
   },
   {
    "duration": 584608,
    "start_time": "2023-04-13T21:52:54.001Z"
   },
   {
    "duration": 600,
    "start_time": "2023-04-13T22:02:38.611Z"
   },
   {
    "duration": 150,
    "start_time": "2023-04-13T22:14:05.436Z"
   },
   {
    "duration": 60,
    "start_time": "2023-04-13T22:14:41.712Z"
   },
   {
    "duration": 582,
    "start_time": "2023-04-13T22:15:23.912Z"
   },
   {
    "duration": 670,
    "start_time": "2023-04-13T22:22:01.152Z"
   },
   {
    "duration": 567,
    "start_time": "2023-04-13T22:23:21.786Z"
   },
   {
    "duration": 1468,
    "start_time": "2023-04-14T19:14:26.181Z"
   },
   {
    "duration": 3804,
    "start_time": "2023-04-14T19:14:27.651Z"
   },
   {
    "duration": 35,
    "start_time": "2023-04-14T19:14:31.457Z"
   },
   {
    "duration": 36,
    "start_time": "2023-04-14T19:14:31.494Z"
   },
   {
    "duration": 28,
    "start_time": "2023-04-14T19:14:31.533Z"
   },
   {
    "duration": 292,
    "start_time": "2023-04-14T19:14:31.563Z"
   },
   {
    "duration": 38,
    "start_time": "2023-04-14T19:14:31.857Z"
   },
   {
    "duration": 17,
    "start_time": "2023-04-14T19:14:31.897Z"
   },
   {
    "duration": 27,
    "start_time": "2023-04-14T19:14:31.916Z"
   },
   {
    "duration": 4662,
    "start_time": "2023-04-14T19:14:31.946Z"
   },
   {
    "duration": 7,
    "start_time": "2023-04-14T19:14:36.611Z"
   },
   {
    "duration": 14,
    "start_time": "2023-04-14T19:14:36.620Z"
   },
   {
    "duration": 26,
    "start_time": "2023-04-14T19:14:36.635Z"
   },
   {
    "duration": 14,
    "start_time": "2023-04-14T19:14:36.664Z"
   },
   {
    "duration": 363,
    "start_time": "2023-04-14T19:14:36.679Z"
   },
   {
    "duration": 0,
    "start_time": "2023-04-14T19:14:37.044Z"
   },
   {
    "duration": 0,
    "start_time": "2023-04-14T19:14:37.046Z"
   },
   {
    "duration": 0,
    "start_time": "2023-04-14T19:14:37.047Z"
   },
   {
    "duration": 0,
    "start_time": "2023-04-14T19:14:37.048Z"
   },
   {
    "duration": 0,
    "start_time": "2023-04-14T19:14:37.050Z"
   },
   {
    "duration": 0,
    "start_time": "2023-04-14T19:14:37.051Z"
   },
   {
    "duration": 0,
    "start_time": "2023-04-14T19:14:37.053Z"
   },
   {
    "duration": 0,
    "start_time": "2023-04-14T19:14:37.054Z"
   },
   {
    "duration": 2240,
    "start_time": "2023-04-14T19:15:45.777Z"
   },
   {
    "duration": 849,
    "start_time": "2023-04-14T19:15:48.020Z"
   },
   {
    "duration": 38,
    "start_time": "2023-04-14T19:15:48.871Z"
   },
   {
    "duration": 14,
    "start_time": "2023-04-14T19:15:48.911Z"
   },
   {
    "duration": 11,
    "start_time": "2023-04-14T19:15:48.927Z"
   },
   {
    "duration": 261,
    "start_time": "2023-04-14T19:15:48.940Z"
   },
   {
    "duration": 29,
    "start_time": "2023-04-14T19:15:49.202Z"
   },
   {
    "duration": 8,
    "start_time": "2023-04-14T19:15:49.234Z"
   },
   {
    "duration": 4,
    "start_time": "2023-04-14T19:15:49.244Z"
   },
   {
    "duration": 4480,
    "start_time": "2023-04-14T19:15:49.249Z"
   },
   {
    "duration": 8,
    "start_time": "2023-04-14T19:15:53.731Z"
   },
   {
    "duration": 5,
    "start_time": "2023-04-14T19:15:53.740Z"
   },
   {
    "duration": 6,
    "start_time": "2023-04-14T19:15:53.746Z"
   },
   {
    "duration": 3,
    "start_time": "2023-04-14T19:15:53.755Z"
   },
   {
    "duration": 502023,
    "start_time": "2023-04-14T19:15:53.760Z"
   },
   {
    "duration": 30,
    "start_time": "2023-04-14T19:24:15.785Z"
   },
   {
    "duration": 85,
    "start_time": "2023-04-14T19:24:15.816Z"
   },
   {
    "duration": 4,
    "start_time": "2023-04-14T19:24:15.905Z"
   },
   {
    "duration": 47,
    "start_time": "2023-04-14T19:24:15.911Z"
   },
   {
    "duration": 127265,
    "start_time": "2023-04-14T19:24:15.959Z"
   },
   {
    "duration": 421069,
    "start_time": "2023-04-14T19:26:23.226Z"
   },
   {
    "duration": 683060,
    "start_time": "2023-04-14T19:33:24.297Z"
   },
   {
    "duration": 1996,
    "start_time": "2023-04-14T19:44:47.359Z"
   },
   {
    "duration": 1645,
    "start_time": "2023-04-14T19:55:17.311Z"
   },
   {
    "duration": 898,
    "start_time": "2023-04-14T19:55:18.957Z"
   },
   {
    "duration": 43,
    "start_time": "2023-04-14T19:55:19.857Z"
   },
   {
    "duration": 31,
    "start_time": "2023-04-14T19:55:19.913Z"
   },
   {
    "duration": 11,
    "start_time": "2023-04-14T19:55:19.946Z"
   },
   {
    "duration": 243,
    "start_time": "2023-04-14T19:55:19.959Z"
   },
   {
    "duration": 31,
    "start_time": "2023-04-14T19:55:20.204Z"
   },
   {
    "duration": 19,
    "start_time": "2023-04-14T19:55:20.237Z"
   },
   {
    "duration": 4,
    "start_time": "2023-04-14T19:55:20.258Z"
   },
   {
    "duration": 4887,
    "start_time": "2023-04-14T19:55:20.264Z"
   },
   {
    "duration": 8,
    "start_time": "2023-04-14T19:55:25.152Z"
   },
   {
    "duration": 12,
    "start_time": "2023-04-14T19:55:25.162Z"
   },
   {
    "duration": 51,
    "start_time": "2023-04-14T19:55:25.176Z"
   },
   {
    "duration": 5,
    "start_time": "2023-04-14T19:55:25.229Z"
   },
   {
    "duration": 541508,
    "start_time": "2023-04-14T19:55:25.236Z"
   },
   {
    "duration": 27,
    "start_time": "2023-04-14T20:04:26.747Z"
   },
   {
    "duration": 89,
    "start_time": "2023-04-14T20:04:26.776Z"
   },
   {
    "duration": 3,
    "start_time": "2023-04-14T20:04:26.867Z"
   },
   {
    "duration": 2667,
    "start_time": "2023-04-14T20:04:26.872Z"
   },
   {
    "duration": 944,
    "start_time": "2023-04-14T20:04:29.540Z"
   },
   {
    "duration": 8970,
    "start_time": "2023-04-14T20:04:30.487Z"
   },
   {
    "duration": 1627,
    "start_time": "2023-04-14T20:04:39.459Z"
   },
   {
    "duration": 77,
    "start_time": "2023-04-14T20:14:22.849Z"
   },
   {
    "duration": 65,
    "start_time": "2023-04-14T20:14:39.896Z"
   },
   {
    "duration": 32860,
    "start_time": "2023-04-14T20:14:47.857Z"
   },
   {
    "duration": 42687,
    "start_time": "2023-04-14T20:19:24.511Z"
   },
   {
    "duration": 133177,
    "start_time": "2023-04-14T20:29:07.624Z"
   },
   {
    "duration": 1621,
    "start_time": "2023-04-14T20:33:58.614Z"
   },
   {
    "duration": 1663,
    "start_time": "2023-04-14T20:37:53.887Z"
   },
   {
    "duration": 4884,
    "start_time": "2023-04-14T20:38:26.188Z"
   },
   {
    "duration": 1448,
    "start_time": "2023-04-14T20:45:52.158Z"
   },
   {
    "duration": 0,
    "start_time": "2023-04-14T20:45:53.610Z"
   },
   {
    "duration": 0,
    "start_time": "2023-04-14T20:45:53.611Z"
   },
   {
    "duration": 0,
    "start_time": "2023-04-14T20:45:53.612Z"
   },
   {
    "duration": 0,
    "start_time": "2023-04-14T20:45:53.613Z"
   },
   {
    "duration": 0,
    "start_time": "2023-04-14T20:45:53.614Z"
   },
   {
    "duration": 0,
    "start_time": "2023-04-14T20:45:53.616Z"
   },
   {
    "duration": 0,
    "start_time": "2023-04-14T20:45:53.617Z"
   },
   {
    "duration": 0,
    "start_time": "2023-04-14T20:45:53.619Z"
   },
   {
    "duration": 0,
    "start_time": "2023-04-14T20:45:53.620Z"
   },
   {
    "duration": 0,
    "start_time": "2023-04-14T20:45:53.621Z"
   },
   {
    "duration": 0,
    "start_time": "2023-04-14T20:45:53.623Z"
   },
   {
    "duration": 0,
    "start_time": "2023-04-14T20:45:53.624Z"
   },
   {
    "duration": 0,
    "start_time": "2023-04-14T20:45:53.626Z"
   },
   {
    "duration": 0,
    "start_time": "2023-04-14T20:45:53.627Z"
   },
   {
    "duration": 0,
    "start_time": "2023-04-14T20:45:53.629Z"
   },
   {
    "duration": 0,
    "start_time": "2023-04-14T20:45:53.630Z"
   },
   {
    "duration": 0,
    "start_time": "2023-04-14T20:45:53.631Z"
   },
   {
    "duration": 0,
    "start_time": "2023-04-14T20:45:53.633Z"
   },
   {
    "duration": 0,
    "start_time": "2023-04-14T20:45:53.635Z"
   },
   {
    "duration": 0,
    "start_time": "2023-04-14T20:45:53.636Z"
   },
   {
    "duration": 0,
    "start_time": "2023-04-14T20:45:53.638Z"
   },
   {
    "duration": 0,
    "start_time": "2023-04-14T20:45:53.639Z"
   },
   {
    "duration": 12,
    "start_time": "2023-04-14T20:50:47.293Z"
   },
   {
    "duration": 1530,
    "start_time": "2023-04-14T21:27:28.121Z"
   },
   {
    "duration": 955,
    "start_time": "2023-04-14T21:27:29.653Z"
   },
   {
    "duration": 35,
    "start_time": "2023-04-14T21:27:30.610Z"
   },
   {
    "duration": 27,
    "start_time": "2023-04-14T21:27:30.647Z"
   },
   {
    "duration": 30,
    "start_time": "2023-04-14T21:27:30.676Z"
   },
   {
    "duration": 283,
    "start_time": "2023-04-14T21:27:30.708Z"
   },
   {
    "duration": 28,
    "start_time": "2023-04-14T21:27:30.994Z"
   },
   {
    "duration": 34,
    "start_time": "2023-04-14T21:27:31.024Z"
   },
   {
    "duration": 10,
    "start_time": "2023-04-14T21:27:31.060Z"
   },
   {
    "duration": 4471,
    "start_time": "2023-04-14T21:27:31.073Z"
   },
   {
    "duration": 7,
    "start_time": "2023-04-14T21:27:35.546Z"
   },
   {
    "duration": 11,
    "start_time": "2023-04-14T21:27:35.555Z"
   },
   {
    "duration": 8,
    "start_time": "2023-04-14T21:27:35.567Z"
   },
   {
    "duration": 31,
    "start_time": "2023-04-14T21:27:35.577Z"
   },
   {
    "duration": 523724,
    "start_time": "2023-04-14T21:27:35.609Z"
   },
   {
    "duration": 26,
    "start_time": "2023-04-14T21:36:19.335Z"
   },
   {
    "duration": 80,
    "start_time": "2023-04-14T21:36:19.362Z"
   },
   {
    "duration": 3,
    "start_time": "2023-04-14T21:36:19.444Z"
   },
   {
    "duration": 59,
    "start_time": "2023-04-14T21:36:19.449Z"
   },
   {
    "duration": 118646,
    "start_time": "2023-04-14T21:36:19.509Z"
   },
   {
    "duration": 352634,
    "start_time": "2023-04-14T21:38:18.157Z"
   },
   {
    "duration": 623025,
    "start_time": "2023-04-14T21:44:10.794Z"
   },
   {
    "duration": 1691,
    "start_time": "2023-04-14T21:54:33.821Z"
   },
   {
    "duration": 100,
    "start_time": "2023-04-14T22:03:37.547Z"
   },
   {
    "duration": 1505,
    "start_time": "2023-04-14T22:04:10.439Z"
   },
   {
    "duration": 875,
    "start_time": "2023-04-14T22:04:11.946Z"
   },
   {
    "duration": 33,
    "start_time": "2023-04-14T22:04:12.822Z"
   },
   {
    "duration": 15,
    "start_time": "2023-04-14T22:04:12.858Z"
   },
   {
    "duration": 34,
    "start_time": "2023-04-14T22:04:12.874Z"
   },
   {
    "duration": 238,
    "start_time": "2023-04-14T22:04:12.910Z"
   },
   {
    "duration": 28,
    "start_time": "2023-04-14T22:04:13.150Z"
   },
   {
    "duration": 15,
    "start_time": "2023-04-14T22:04:13.190Z"
   },
   {
    "duration": 3,
    "start_time": "2023-04-14T22:04:13.207Z"
   },
   {
    "duration": 4266,
    "start_time": "2023-04-14T22:04:13.213Z"
   },
   {
    "duration": 24,
    "start_time": "2023-04-14T22:04:17.481Z"
   },
   {
    "duration": 3,
    "start_time": "2023-04-14T22:04:17.508Z"
   },
   {
    "duration": 11,
    "start_time": "2023-04-14T22:04:17.513Z"
   },
   {
    "duration": 7,
    "start_time": "2023-04-14T22:04:17.526Z"
   },
   {
    "duration": 487737,
    "start_time": "2023-04-14T22:04:17.534Z"
   },
   {
    "duration": 32,
    "start_time": "2023-04-14T22:12:25.273Z"
   },
   {
    "duration": 67,
    "start_time": "2023-04-14T22:12:25.307Z"
   },
   {
    "duration": 3,
    "start_time": "2023-04-14T22:12:25.376Z"
   },
   {
    "duration": 48,
    "start_time": "2023-04-14T22:12:25.393Z"
   },
   {
    "duration": 111218,
    "start_time": "2023-04-14T22:12:25.443Z"
   },
   {
    "duration": 568519,
    "start_time": "2023-04-14T22:14:16.662Z"
   },
   {
    "duration": 1728,
    "start_time": "2023-04-14T22:28:21.222Z"
   },
   {
    "duration": 281371,
    "start_time": "2023-04-14T22:33:15.708Z"
   },
   {
    "duration": 1607,
    "start_time": "2023-04-14T22:38:18.929Z"
   },
   {
    "duration": 45310,
    "start_time": "2023-04-14T22:38:52.287Z"
   },
   {
    "duration": 1632,
    "start_time": "2023-04-14T22:39:49.643Z"
   },
   {
    "duration": 173,
    "start_time": "2023-04-14T22:41:05.208Z"
   },
   {
    "duration": 59,
    "start_time": "2023-04-14T22:41:18.402Z"
   },
   {
    "duration": 162069,
    "start_time": "2023-04-14T22:41:40.027Z"
   },
   {
    "duration": 1613,
    "start_time": "2023-04-14T22:44:28.602Z"
   },
   {
    "duration": 1913,
    "start_time": "2023-04-15T09:43:09.623Z"
   },
   {
    "duration": 2505,
    "start_time": "2023-04-15T09:43:11.538Z"
   },
   {
    "duration": 27,
    "start_time": "2023-04-15T09:43:14.044Z"
   },
   {
    "duration": 15,
    "start_time": "2023-04-15T09:43:14.073Z"
   },
   {
    "duration": 24,
    "start_time": "2023-04-15T09:43:14.091Z"
   },
   {
    "duration": 214,
    "start_time": "2023-04-15T09:43:14.116Z"
   },
   {
    "duration": 24,
    "start_time": "2023-04-15T09:43:14.334Z"
   },
   {
    "duration": 15,
    "start_time": "2023-04-15T09:43:14.359Z"
   },
   {
    "duration": 11,
    "start_time": "2023-04-15T09:43:14.375Z"
   },
   {
    "duration": 4253,
    "start_time": "2023-04-15T09:43:14.388Z"
   },
   {
    "duration": 7,
    "start_time": "2023-04-15T09:43:18.642Z"
   },
   {
    "duration": 11,
    "start_time": "2023-04-15T09:43:18.651Z"
   },
   {
    "duration": 13,
    "start_time": "2023-04-15T09:43:18.664Z"
   },
   {
    "duration": 20,
    "start_time": "2023-04-15T09:43:18.679Z"
   },
   {
    "duration": 449443,
    "start_time": "2023-04-15T09:43:18.700Z"
   },
   {
    "duration": 33,
    "start_time": "2023-04-15T09:50:48.145Z"
   },
   {
    "duration": 81,
    "start_time": "2023-04-15T09:50:48.180Z"
   },
   {
    "duration": 4,
    "start_time": "2023-04-15T09:50:48.263Z"
   },
   {
    "duration": 260,
    "start_time": "2023-04-15T09:50:48.269Z"
   },
   {
    "duration": 97,
    "start_time": "2023-04-15T09:50:48.531Z"
   },
   {
    "duration": 76,
    "start_time": "2023-04-15T09:50:48.630Z"
   },
   {
    "duration": 108,
    "start_time": "2023-04-15T09:50:48.708Z"
   },
   {
    "duration": 2322,
    "start_time": "2023-04-15T09:52:06.838Z"
   },
   {
    "duration": 48,
    "start_time": "2023-04-15T10:11:58.770Z"
   },
   {
    "duration": 121045,
    "start_time": "2023-04-15T10:12:28.033Z"
   },
   {
    "duration": 6,
    "start_time": "2023-04-15T10:14:29.080Z"
   },
   {
    "duration": 0,
    "start_time": "2023-04-15T10:14:29.087Z"
   },
   {
    "duration": 93,
    "start_time": "2023-04-15T10:16:33.399Z"
   },
   {
    "duration": 2124,
    "start_time": "2023-04-16T13:17:34.111Z"
   },
   {
    "duration": 3993,
    "start_time": "2023-04-16T13:17:36.237Z"
   },
   {
    "duration": 30,
    "start_time": "2023-04-16T13:17:40.231Z"
   },
   {
    "duration": 13,
    "start_time": "2023-04-16T13:17:40.263Z"
   },
   {
    "duration": 22,
    "start_time": "2023-04-16T13:17:40.278Z"
   },
   {
    "duration": 256,
    "start_time": "2023-04-16T13:17:40.303Z"
   },
   {
    "duration": 34,
    "start_time": "2023-04-16T13:17:40.561Z"
   },
   {
    "duration": 11,
    "start_time": "2023-04-16T13:17:40.597Z"
   },
   {
    "duration": 3,
    "start_time": "2023-04-16T13:17:40.610Z"
   },
   {
    "duration": 4507,
    "start_time": "2023-04-16T13:17:40.614Z"
   },
   {
    "duration": 7,
    "start_time": "2023-04-16T13:17:45.123Z"
   },
   {
    "duration": 4,
    "start_time": "2023-04-16T13:17:45.131Z"
   },
   {
    "duration": 7,
    "start_time": "2023-04-16T13:17:45.136Z"
   },
   {
    "duration": 5,
    "start_time": "2023-04-16T13:17:45.145Z"
   },
   {
    "duration": 147,
    "start_time": "2023-04-16T13:17:45.151Z"
   },
   {
    "duration": 0,
    "start_time": "2023-04-16T13:17:45.300Z"
   },
   {
    "duration": 0,
    "start_time": "2023-04-16T13:17:45.302Z"
   },
   {
    "duration": 0,
    "start_time": "2023-04-16T13:17:45.303Z"
   },
   {
    "duration": 0,
    "start_time": "2023-04-16T13:17:45.304Z"
   },
   {
    "duration": 0,
    "start_time": "2023-04-16T13:17:45.305Z"
   },
   {
    "duration": 0,
    "start_time": "2023-04-16T13:17:45.306Z"
   },
   {
    "duration": 0,
    "start_time": "2023-04-16T13:17:45.307Z"
   },
   {
    "duration": 0,
    "start_time": "2023-04-16T13:17:45.309Z"
   },
   {
    "duration": 0,
    "start_time": "2023-04-16T13:17:45.310Z"
   },
   {
    "duration": 1663,
    "start_time": "2023-04-16T13:20:59.002Z"
   },
   {
    "duration": 986,
    "start_time": "2023-04-16T13:21:00.668Z"
   },
   {
    "duration": 37,
    "start_time": "2023-04-16T13:21:01.655Z"
   },
   {
    "duration": 67,
    "start_time": "2023-04-16T13:21:01.695Z"
   },
   {
    "duration": 43,
    "start_time": "2023-04-16T13:21:01.765Z"
   },
   {
    "duration": 255,
    "start_time": "2023-04-16T13:21:01.811Z"
   },
   {
    "duration": 29,
    "start_time": "2023-04-16T13:21:02.069Z"
   },
   {
    "duration": 38,
    "start_time": "2023-04-16T13:21:02.100Z"
   },
   {
    "duration": 20,
    "start_time": "2023-04-16T13:21:02.140Z"
   },
   {
    "duration": 4539,
    "start_time": "2023-04-16T13:21:02.162Z"
   },
   {
    "duration": 8,
    "start_time": "2023-04-16T13:21:06.702Z"
   },
   {
    "duration": 5,
    "start_time": "2023-04-16T13:21:06.711Z"
   },
   {
    "duration": 5,
    "start_time": "2023-04-16T13:21:06.718Z"
   },
   {
    "duration": 5,
    "start_time": "2023-04-16T13:21:06.726Z"
   },
   {
    "duration": 587616,
    "start_time": "2023-04-16T13:21:06.733Z"
   },
   {
    "duration": 44,
    "start_time": "2023-04-16T13:30:54.352Z"
   },
   {
    "duration": 100,
    "start_time": "2023-04-16T13:30:54.399Z"
   },
   {
    "duration": 6,
    "start_time": "2023-04-16T13:30:54.504Z"
   },
   {
    "duration": 196,
    "start_time": "2023-04-16T13:30:54.512Z"
   },
   {
    "duration": 62,
    "start_time": "2023-04-16T13:30:54.711Z"
   },
   {
    "duration": 86,
    "start_time": "2023-04-16T13:30:54.775Z"
   },
   {
    "duration": 93,
    "start_time": "2023-04-16T13:30:54.863Z"
   },
   {
    "duration": 75,
    "start_time": "2023-04-16T13:30:54.958Z"
   },
   {
    "duration": 69,
    "start_time": "2023-04-16T13:30:55.035Z"
   },
   {
    "duration": 10,
    "start_time": "2023-04-16T13:33:10.741Z"
   },
   {
    "duration": 3033,
    "start_time": "2023-04-16T13:33:25.614Z"
   },
   {
    "duration": 3198,
    "start_time": "2023-04-16T13:41:38.532Z"
   },
   {
    "duration": 83,
    "start_time": "2023-04-16T13:41:51.513Z"
   },
   {
    "duration": 4,
    "start_time": "2023-04-16T13:41:58.224Z"
   },
   {
    "duration": 3427,
    "start_time": "2023-04-16T13:42:01.616Z"
   },
   {
    "duration": 5,
    "start_time": "2023-04-16T13:44:05.057Z"
   },
   {
    "duration": 5,
    "start_time": "2023-04-16T13:45:48.649Z"
   },
   {
    "duration": 32,
    "start_time": "2023-04-16T13:55:48.221Z"
   },
   {
    "duration": 3663,
    "start_time": "2023-04-16T13:55:50.812Z"
   },
   {
    "duration": 78,
    "start_time": "2023-04-16T15:09:52.120Z"
   },
   {
    "duration": 5,
    "start_time": "2023-04-16T15:09:55.035Z"
   },
   {
    "duration": 2942,
    "start_time": "2023-04-16T15:10:02.009Z"
   },
   {
    "duration": 7,
    "start_time": "2023-04-16T15:35:22.248Z"
   },
   {
    "duration": 9,
    "start_time": "2023-04-16T15:43:27.109Z"
   },
   {
    "duration": 7,
    "start_time": "2023-04-16T15:43:57.699Z"
   },
   {
    "duration": 104,
    "start_time": "2023-04-16T16:39:54.047Z"
   },
   {
    "duration": 6,
    "start_time": "2023-04-16T16:39:55.575Z"
   },
   {
    "duration": 4,
    "start_time": "2023-04-16T16:40:04.842Z"
   },
   {
    "duration": 4,
    "start_time": "2023-04-16T16:40:17.548Z"
   },
   {
    "duration": 1478746,
    "start_time": "2023-04-16T16:40:22.164Z"
   },
   {
    "duration": 5,
    "start_time": "2023-04-16T17:06:58.159Z"
   },
   {
    "duration": 4264853,
    "start_time": "2023-04-16T17:07:10.528Z"
   }
  ],
  "kernelspec": {
   "display_name": "Python 3 (ipykernel)",
   "language": "python",
   "name": "python3"
  },
  "language_info": {
   "codemirror_mode": {
    "name": "ipython",
    "version": 3
   },
   "file_extension": ".py",
   "mimetype": "text/x-python",
   "name": "python",
   "nbconvert_exporter": "python",
   "pygments_lexer": "ipython3",
   "version": "3.9.13"
  },
  "toc": {
   "base_numbering": 1,
   "nav_menu": {},
   "number_sections": true,
   "sideBar": true,
   "skip_h1_title": true,
   "title_cell": "Содержание",
   "title_sidebar": "Contents",
   "toc_cell": true,
   "toc_position": {
    "height": "calc(100% - 180px)",
    "left": "10px",
    "top": "150px",
    "width": "165px"
   },
   "toc_section_display": true,
   "toc_window_display": true
  }
 },
 "nbformat": 4,
 "nbformat_minor": 2
}
