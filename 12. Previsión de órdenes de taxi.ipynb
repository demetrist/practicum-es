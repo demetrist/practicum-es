{
 "cells": [
  {
   "cell_type": "markdown",
   "metadata": {},
   "source": [
    "# Previsión de órdenes de taxi"
   ]
  },
  {
   "cell_type": "markdown",
   "metadata": {},
   "source": [
    "La empresa \"Dear Taxi\" ha recopilado datos históricos sobre los pedidos de taxis en los aeropuertos. Para atraer a más conductores durante el período de carga máxima, debe predecir el número de pedidos de taxi para la próxima hora. Construye un modelo para esa predicción.\n",
    "\n",
    "El valor de la métrica *RMSE* en la muestra de ensayo no debe ser superior a 48.\n",
    "\n",
    "Usted necesita para:\n",
    "\n",
    "1. Cargue los datos y reinícielos una hora a la vez.\n",
    "2. Analizar los datos.\n",
    "3. Entrenar diferentes modelos con diferentes hiperparámetros. Hacer una muestra de prueba del 10% de los datos originales.\n",
    "4. Comprobar los datos de la muestra de ensayo y extraer conclusiones.\n",
    "\n",
    "\n",
    "Los datos están en el archivo ¹taxi.csv¹. El número de pedidos está en la columna ¹num_orders³ (de inglés *número de pedidos*, \"número de pedidos\")."
   ]
  },
  {
   "cell_type": "markdown",
   "metadata": {},
   "source": [
    "## Preparacion"
   ]
  },
  {
   "cell_type": "code",
   "execution_count": 1,
   "metadata": {},
   "outputs": [],
   "source": [
    "import pandas as pd\n",
    "import numpy as np\n",
    "import matplotlib.pyplot as plt\n",
    "\n",
    "from sklearn.metrics import mean_squared_error\n",
    "from sklearn.model_selection import train_test_split, TimeSeriesSplit, GridSearchCV\n",
    "from sklearn.linear_model import LinearRegression\n",
    "from sklearn.tree import DecisionTreeRegressor\n",
    "from statsmodels.tsa.seasonal import seasonal_decompose\n",
    "from catboost import CatBoostRegressor\n",
    "import catboost as cat"
   ]
  },
  {
   "cell_type": "code",
   "execution_count": 2,
   "metadata": {},
   "outputs": [],
   "source": [
    "data = pd.read_csv('/datasets/taxi.csv', index_col=[0], parse_dates=[0])\n",
    "data.sort_index(inplace=True)"
   ]
  },
  {
   "cell_type": "code",
   "execution_count": 3,
   "metadata": {},
   "outputs": [],
   "source": [
    "# Vamos a recompilar por 1 hora\n",
    "\n",
    "data = data.resample('1H').sum()"
   ]
  },
  {
   "cell_type": "code",
   "execution_count": 4,
   "metadata": {},
   "outputs": [
    {
     "data": {
      "text/html": [
       "<div>\n",
       "<style scoped>\n",
       "    .dataframe tbody tr th:only-of-type {\n",
       "        vertical-align: middle;\n",
       "    }\n",
       "\n",
       "    .dataframe tbody tr th {\n",
       "        vertical-align: top;\n",
       "    }\n",
       "\n",
       "    .dataframe thead th {\n",
       "        text-align: right;\n",
       "    }\n",
       "</style>\n",
       "<table border=\"1\" class=\"dataframe\">\n",
       "  <thead>\n",
       "    <tr style=\"text-align: right;\">\n",
       "      <th></th>\n",
       "      <th>num_orders</th>\n",
       "    </tr>\n",
       "    <tr>\n",
       "      <th>datetime</th>\n",
       "      <th></th>\n",
       "    </tr>\n",
       "  </thead>\n",
       "  <tbody>\n",
       "    <tr>\n",
       "      <th>2018-03-01 00:00:00</th>\n",
       "      <td>124</td>\n",
       "    </tr>\n",
       "    <tr>\n",
       "      <th>2018-03-01 01:00:00</th>\n",
       "      <td>85</td>\n",
       "    </tr>\n",
       "    <tr>\n",
       "      <th>2018-03-01 02:00:00</th>\n",
       "      <td>71</td>\n",
       "    </tr>\n",
       "    <tr>\n",
       "      <th>2018-03-01 03:00:00</th>\n",
       "      <td>66</td>\n",
       "    </tr>\n",
       "    <tr>\n",
       "      <th>2018-03-01 04:00:00</th>\n",
       "      <td>43</td>\n",
       "    </tr>\n",
       "    <tr>\n",
       "      <th>2018-03-01 05:00:00</th>\n",
       "      <td>6</td>\n",
       "    </tr>\n",
       "    <tr>\n",
       "      <th>2018-03-01 06:00:00</th>\n",
       "      <td>12</td>\n",
       "    </tr>\n",
       "    <tr>\n",
       "      <th>2018-03-01 07:00:00</th>\n",
       "      <td>15</td>\n",
       "    </tr>\n",
       "    <tr>\n",
       "      <th>2018-03-01 08:00:00</th>\n",
       "      <td>34</td>\n",
       "    </tr>\n",
       "    <tr>\n",
       "      <th>2018-03-01 09:00:00</th>\n",
       "      <td>69</td>\n",
       "    </tr>\n",
       "  </tbody>\n",
       "</table>\n",
       "</div>"
      ],
      "text/plain": [
       "                     num_orders\n",
       "datetime                       \n",
       "2018-03-01 00:00:00         124\n",
       "2018-03-01 01:00:00          85\n",
       "2018-03-01 02:00:00          71\n",
       "2018-03-01 03:00:00          66\n",
       "2018-03-01 04:00:00          43\n",
       "2018-03-01 05:00:00           6\n",
       "2018-03-01 06:00:00          12\n",
       "2018-03-01 07:00:00          15\n",
       "2018-03-01 08:00:00          34\n",
       "2018-03-01 09:00:00          69"
      ]
     },
     "execution_count": 4,
     "metadata": {},
     "output_type": "execute_result"
    }
   ],
   "source": [
    "data.head(10)"
   ]
  },
  {
   "cell_type": "code",
   "execution_count": 5,
   "metadata": {},
   "outputs": [
    {
     "data": {
      "text/plain": [
       "<AxesSubplot:xlabel='datetime'>"
      ]
     },
     "execution_count": 5,
     "metadata": {},
     "output_type": "execute_result"
    },
    {
     "data": {
      "image/png": "[encoded data removed]",
      "text/plain": [
       "<Figure size 432x288 with 1 Axes>"
      ]
     },
     "metadata": {
      "needs_background": "light"
     },
     "output_type": "display_data"
    }
   ],
   "source": [
    "data.plot()"
   ]
  },
  {
   "cell_type": "code",
   "execution_count": 6,
   "metadata": {},
   "outputs": [
    {
     "name": "stdout",
     "output_type": "stream",
     "text": [
      "<class 'pandas.core.frame.DataFrame'>\n",
      "DatetimeIndex: 4416 entries, 2018-03-01 00:00:00 to 2018-08-31 23:00:00\n",
      "Freq: H\n",
      "Data columns (total 1 columns):\n",
      " #   Column      Non-Null Count  Dtype\n",
      "---  ------      --------------  -----\n",
      " 0   num_orders  4416 non-null   int64\n",
      "dtypes: int64(1)\n",
      "memory usage: 69.0 KB\n"
     ]
    }
   ],
   "source": [
    "data.info()"
   ]
  },
  {
   "cell_type": "markdown",
   "metadata": {},
   "source": [
    "## Analisis"
   ]
  },
  {
   "cell_type": "code",
   "execution_count": 7,
   "metadata": {},
   "outputs": [],
   "source": [
    "# Tendencias de los datos de estudio\n",
    "decomposed = seasonal_decompose(data)\n",
    "\n",
    "# Tome la primera semana en el conjunto de datos\n",
    "decomposedWeek = seasonal_decompose(data['2018-03-04':'2018-03-12'])\n",
    "decomposedFewDays = seasonal_decompose(data['2018-03-04':'2018-03-06'])\n",
    "\n",
    "# Y también al azar en abril y último en agosto\n",
    "decomposedMonth_apr = seasonal_decompose(data['2018-04-01':'2018-05-01'])\n",
    "decomposedMonth_aug = seasonal_decompose(data['2018-07-31':'2018-08-31'])"
   ]
  },
  {
   "cell_type": "code",
   "execution_count": 8,
   "metadata": {},
   "outputs": [
    {
     "data": {
      "image/png": "[encoded data removed]",
      "text/plain": [
       "<Figure size 432x288 with 1 Axes>"
      ]
     },
     "metadata": {
      "needs_background": "light"
     },
     "output_type": "display_data"
    }
   ],
   "source": [
    "decomposed.trend.plot();\n",
    "\n",
    "# en general, vemos un aumento en órdenes"
   ]
  },
  {
   "cell_type": "code",
   "execution_count": 9,
   "metadata": {},
   "outputs": [
    {
     "data": {
      "image/png": "[encoded data removed]",
      "text/plain": [
       "<Figure size 432x288 with 1 Axes>"
      ]
     },
     "metadata": {
      "needs_background": "light"
     },
     "output_type": "display_data"
    }
   ],
   "source": [
    "decomposedWeek.trend.plot();\n",
    "\n",
    "# durante la primera semana se varía el número de pedidos"
   ]
  },
  {
   "cell_type": "code",
   "execution_count": 10,
   "metadata": {},
   "outputs": [
    {
     "data": {
      "image/png": "[encoded data removed]",
      "text/plain": [
       "<Figure size 432x288 with 1 Axes>"
      ]
     },
     "metadata": {
      "needs_background": "light"
     },
     "output_type": "display_data"
    }
   ],
   "source": [
    "decomposedFewDays.seasonal.plot();\n",
    "\n",
    "# tendencia del reloj"
   ]
  },
  {
   "cell_type": "code",
   "execution_count": 11,
   "metadata": {},
   "outputs": [
    {
     "data": {
      "image/png": "[encoded data removed]",
      "text/plain": [
       "<Figure size 432x288 with 1 Axes>"
      ]
     },
     "metadata": {
      "needs_background": "light"
     },
     "output_type": "display_data"
    }
   ],
   "source": [
    "# abril\n",
    "\n",
    "decomposedMonth_apr.trend.plot();"
   ]
  },
  {
   "cell_type": "code",
   "execution_count": 12,
   "metadata": {},
   "outputs": [
    {
     "data": {
      "image/png": "[encoded data removed]",
      "text/plain": [
       "<Figure size 432x288 with 1 Axes>"
      ]
     },
     "metadata": {
      "needs_background": "light"
     },
     "output_type": "display_data"
    }
   ],
   "source": [
    "# agosto\n",
    "\n",
    "decomposedMonth_aug.trend.plot();"
   ]
  },
  {
   "cell_type": "markdown",
   "metadata": {},
   "source": [
    "Se creará una función llamada make_features que realizará los siguientes pasos:\n",
    "\n",
    "- añadir el factor mes y el factor día sobre la base de la tendencia general;\n",
    "- Se añadirá el factor del día de la semana, ya que hay una gran variación en el gráfico de semanas;\n",
    "- Añadir el factor hora, como podemos ver picos de actividad durante el día;\n",
    "- Añadir desfase (desfase)."
   ]
  },
  {
   "cell_type": "code",
   "execution_count": 13,
   "metadata": {},
   "outputs": [],
   "source": [
    "df = data.copy(deep=True)"
   ]
  },
  {
   "cell_type": "code",
   "execution_count": 14,
   "metadata": {},
   "outputs": [],
   "source": [
    "def make_features(df, max_lag, rolling_sum_size):\n",
    "    df['month'] = df.index.month\n",
    "    df['day'] = df.index.day\n",
    "    df['dayofweek'] = df.index.dayofweek\n",
    "    df['hour'] = df.index.hour\n",
    "    for lag in range(1, max_lag + 1):\n",
    "        df['lag_{}'.format(lag)] = df['num_orders'].shift(lag)\n",
    "    df['rolling_sum'] = df['num_orders'].shift().rolling(rolling_sum_size).mean()\n",
    "    return df"
   ]
  },
  {
   "cell_type": "code",
   "execution_count": 15,
   "metadata": {},
   "outputs": [
    {
     "data": {
      "text/plain": [
       "(4416, 53)"
      ]
     },
     "execution_count": 15,
     "metadata": {},
     "output_type": "execute_result"
    }
   ],
   "source": [
    "make_features(df, 47, 50)\n",
    "df.shape"
   ]
  },
  {
   "cell_type": "code",
   "execution_count": 16,
   "metadata": {},
   "outputs": [
    {
     "data": {
      "text/html": [
       "<div>\n",
       "<style scoped>\n",
       "    .dataframe tbody tr th:only-of-type {\n",
       "        vertical-align: middle;\n",
       "    }\n",
       "\n",
       "    .dataframe tbody tr th {\n",
       "        vertical-align: top;\n",
       "    }\n",
       "\n",
       "    .dataframe thead th {\n",
       "        text-align: right;\n",
       "    }\n",
       "</style>\n",
       "<table border=\"1\" class=\"dataframe\">\n",
       "  <thead>\n",
       "    <tr style=\"text-align: right;\">\n",
       "      <th></th>\n",
       "      <th>num_orders</th>\n",
       "      <th>month</th>\n",
       "      <th>day</th>\n",
       "      <th>dayofweek</th>\n",
       "      <th>hour</th>\n",
       "      <th>lag_1</th>\n",
       "      <th>lag_2</th>\n",
       "      <th>lag_3</th>\n",
       "      <th>lag_4</th>\n",
       "      <th>lag_5</th>\n",
       "      <th>...</th>\n",
       "      <th>lag_39</th>\n",
       "      <th>lag_40</th>\n",
       "      <th>lag_41</th>\n",
       "      <th>lag_42</th>\n",
       "      <th>lag_43</th>\n",
       "      <th>lag_44</th>\n",
       "      <th>lag_45</th>\n",
       "      <th>lag_46</th>\n",
       "      <th>lag_47</th>\n",
       "      <th>rolling_sum</th>\n",
       "    </tr>\n",
       "    <tr>\n",
       "      <th>datetime</th>\n",
       "      <th></th>\n",
       "      <th></th>\n",
       "      <th></th>\n",
       "      <th></th>\n",
       "      <th></th>\n",
       "      <th></th>\n",
       "      <th></th>\n",
       "      <th></th>\n",
       "      <th></th>\n",
       "      <th></th>\n",
       "      <th></th>\n",
       "      <th></th>\n",
       "      <th></th>\n",
       "      <th></th>\n",
       "      <th></th>\n",
       "      <th></th>\n",
       "      <th></th>\n",
       "      <th></th>\n",
       "      <th></th>\n",
       "      <th></th>\n",
       "      <th></th>\n",
       "    </tr>\n",
       "  </thead>\n",
       "  <tbody>\n",
       "    <tr>\n",
       "      <th>2018-03-01 00:00:00</th>\n",
       "      <td>124</td>\n",
       "      <td>3</td>\n",
       "      <td>1</td>\n",
       "      <td>3</td>\n",
       "      <td>0</td>\n",
       "      <td>NaN</td>\n",
       "      <td>NaN</td>\n",
       "      <td>NaN</td>\n",
       "      <td>NaN</td>\n",
       "      <td>NaN</td>\n",
       "      <td>...</td>\n",
       "      <td>NaN</td>\n",
       "      <td>NaN</td>\n",
       "      <td>NaN</td>\n",
       "      <td>NaN</td>\n",
       "      <td>NaN</td>\n",
       "      <td>NaN</td>\n",
       "      <td>NaN</td>\n",
       "      <td>NaN</td>\n",
       "      <td>NaN</td>\n",
       "      <td>NaN</td>\n",
       "    </tr>\n",
       "    <tr>\n",
       "      <th>2018-03-01 01:00:00</th>\n",
       "      <td>85</td>\n",
       "      <td>3</td>\n",
       "      <td>1</td>\n",
       "      <td>3</td>\n",
       "      <td>1</td>\n",
       "      <td>124.0</td>\n",
       "      <td>NaN</td>\n",
       "      <td>NaN</td>\n",
       "      <td>NaN</td>\n",
       "      <td>NaN</td>\n",
       "      <td>...</td>\n",
       "      <td>NaN</td>\n",
       "      <td>NaN</td>\n",
       "      <td>NaN</td>\n",
       "      <td>NaN</td>\n",
       "      <td>NaN</td>\n",
       "      <td>NaN</td>\n",
       "      <td>NaN</td>\n",
       "      <td>NaN</td>\n",
       "      <td>NaN</td>\n",
       "      <td>NaN</td>\n",
       "    </tr>\n",
       "    <tr>\n",
       "      <th>2018-03-01 02:00:00</th>\n",
       "      <td>71</td>\n",
       "      <td>3</td>\n",
       "      <td>1</td>\n",
       "      <td>3</td>\n",
       "      <td>2</td>\n",
       "      <td>85.0</td>\n",
       "      <td>124.0</td>\n",
       "      <td>NaN</td>\n",
       "      <td>NaN</td>\n",
       "      <td>NaN</td>\n",
       "      <td>...</td>\n",
       "      <td>NaN</td>\n",
       "      <td>NaN</td>\n",
       "      <td>NaN</td>\n",
       "      <td>NaN</td>\n",
       "      <td>NaN</td>\n",
       "      <td>NaN</td>\n",
       "      <td>NaN</td>\n",
       "      <td>NaN</td>\n",
       "      <td>NaN</td>\n",
       "      <td>NaN</td>\n",
       "    </tr>\n",
       "    <tr>\n",
       "      <th>2018-03-01 03:00:00</th>\n",
       "      <td>66</td>\n",
       "      <td>3</td>\n",
       "      <td>1</td>\n",
       "      <td>3</td>\n",
       "      <td>3</td>\n",
       "      <td>71.0</td>\n",
       "      <td>85.0</td>\n",
       "      <td>124.0</td>\n",
       "      <td>NaN</td>\n",
       "      <td>NaN</td>\n",
       "      <td>...</td>\n",
       "      <td>NaN</td>\n",
       "      <td>NaN</td>\n",
       "      <td>NaN</td>\n",
       "      <td>NaN</td>\n",
       "      <td>NaN</td>\n",
       "      <td>NaN</td>\n",
       "      <td>NaN</td>\n",
       "      <td>NaN</td>\n",
       "      <td>NaN</td>\n",
       "      <td>NaN</td>\n",
       "    </tr>\n",
       "    <tr>\n",
       "      <th>2018-03-01 04:00:00</th>\n",
       "      <td>43</td>\n",
       "      <td>3</td>\n",
       "      <td>1</td>\n",
       "      <td>3</td>\n",
       "      <td>4</td>\n",
       "      <td>66.0</td>\n",
       "      <td>71.0</td>\n",
       "      <td>85.0</td>\n",
       "      <td>124.0</td>\n",
       "      <td>NaN</td>\n",
       "      <td>...</td>\n",
       "      <td>NaN</td>\n",
       "      <td>NaN</td>\n",
       "      <td>NaN</td>\n",
       "      <td>NaN</td>\n",
       "      <td>NaN</td>\n",
       "      <td>NaN</td>\n",
       "      <td>NaN</td>\n",
       "      <td>NaN</td>\n",
       "      <td>NaN</td>\n",
       "      <td>NaN</td>\n",
       "    </tr>\n",
       "  </tbody>\n",
       "</table>\n",
       "<p>5 rows × 53 columns</p>\n",
       "</div>"
      ],
      "text/plain": [
       "                     num_orders  month  day  dayofweek  hour  lag_1  lag_2  \\\n",
       "datetime                                                                     \n",
       "2018-03-01 00:00:00         124      3    1          3     0    NaN    NaN   \n",
       "2018-03-01 01:00:00          85      3    1          3     1  124.0    NaN   \n",
       "2018-03-01 02:00:00          71      3    1          3     2   85.0  124.0   \n",
       "2018-03-01 03:00:00          66      3    1          3     3   71.0   85.0   \n",
       "2018-03-01 04:00:00          43      3    1          3     4   66.0   71.0   \n",
       "\n",
       "                     lag_3  lag_4  lag_5  ...  lag_39  lag_40  lag_41  lag_42  \\\n",
       "datetime                                  ...                                   \n",
       "2018-03-01 00:00:00    NaN    NaN    NaN  ...     NaN     NaN     NaN     NaN   \n",
       "2018-03-01 01:00:00    NaN    NaN    NaN  ...     NaN     NaN     NaN     NaN   \n",
       "2018-03-01 02:00:00    NaN    NaN    NaN  ...     NaN     NaN     NaN     NaN   \n",
       "2018-03-01 03:00:00  124.0    NaN    NaN  ...     NaN     NaN     NaN     NaN   \n",
       "2018-03-01 04:00:00   85.0  124.0    NaN  ...     NaN     NaN     NaN     NaN   \n",
       "\n",
       "                     lag_43  lag_44  lag_45  lag_46  lag_47  rolling_sum  \n",
       "datetime                                                                  \n",
       "2018-03-01 00:00:00     NaN     NaN     NaN     NaN     NaN          NaN  \n",
       "2018-03-01 01:00:00     NaN     NaN     NaN     NaN     NaN          NaN  \n",
       "2018-03-01 02:00:00     NaN     NaN     NaN     NaN     NaN          NaN  \n",
       "2018-03-01 03:00:00     NaN     NaN     NaN     NaN     NaN          NaN  \n",
       "2018-03-01 04:00:00     NaN     NaN     NaN     NaN     NaN          NaN  \n",
       "\n",
       "[5 rows x 53 columns]"
      ]
     },
     "execution_count": 16,
     "metadata": {},
     "output_type": "execute_result"
    }
   ],
   "source": [
    "df.head(5)"
   ]
  },
  {
   "cell_type": "code",
   "execution_count": 17,
   "metadata": {},
   "outputs": [
    {
     "data": {
      "text/plain": [
       "(4366, 53)"
      ]
     },
     "execution_count": 17,
     "metadata": {},
     "output_type": "execute_result"
    }
   ],
   "source": [
    "# quitar los espacios en blanco\n",
    "\n",
    "df = df.dropna()\n",
    "df.shape"
   ]
  },
  {
   "cell_type": "markdown",
   "metadata": {},
   "source": [
    "- La descomposición muestra que el número de pedidos aumenta con el tiempo, lo que indica un aumento de la demanda.\n",
    "\n",
    "- La estacionalidad muestra que la mayor demanda de taxis se produce por la noche cuando el transporte público no funciona.\n",
    "\n",
    "- Se puede decir que el proceso es no estacionario, es decir, las características cambian con el tiempo.\n",
    "\n",
    "- Se puede concluir de la tendencia que el servicio de taxi se utiliza cada vez más en el tiempo.\n",
    "\n",
    "- La demanda alcanza su punto máximo el lunes y aumenta de mediados de semana a viernes, mientras que los fines de semana son menos activos.\n",
    "\n",
    "- El análisis de la semana pasada muestra que hay horas con la mayor demanda, y el momento más popular para pedir un taxi es por la noche, y luego la demanda cae por la mañana."
   ]
  },
  {
   "cell_type": "markdown",
   "metadata": {},
   "source": [
    "## Aprendizaje"
   ]
  },
  {
   "cell_type": "code",
   "execution_count": 18,
   "metadata": {},
   "outputs": [],
   "source": [
    "train, test = train_test_split(df, shuffle=False, test_size=0.1)\n",
    "train = train.dropna()"
   ]
  },
  {
   "cell_type": "code",
   "execution_count": 19,
   "metadata": {},
   "outputs": [],
   "source": [
    "train_features = train.drop('num_orders', axis = 1)\n",
    "train_target = train['num_orders']\n",
    "test_features = test.drop('num_orders', axis = 1)\n",
    "test_target = test['num_orders']"
   ]
  },
  {
   "cell_type": "code",
   "execution_count": 20,
   "metadata": {},
   "outputs": [],
   "source": [
    "train_features_split, val_features, train_target_split, val_target = train_test_split(train_features, train_target, test_size=0.2, shuffle=False)"
   ]
  },
  {
   "cell_type": "markdown",
   "metadata": {},
   "source": [
    "### Linear Regression\n"
   ]
  },
  {
   "cell_type": "code",
   "execution_count": 21,
   "metadata": {},
   "outputs": [
    {
     "name": "stdout",
     "output_type": "stream",
     "text": [
      "31.044400004181384\n"
     ]
    }
   ],
   "source": [
    "modelLR = LinearRegression()\n",
    "modelLR.fit(train_features_split, train_target_split)\n",
    "predictionLR = modelLR.predict(val_features)\n",
    "rmse = mean_squared_error(val_target, predictionLR) ** .5\n",
    "\n",
    "print(rmse)"
   ]
  },
  {
   "cell_type": "markdown",
   "metadata": {},
   "source": [
    "### CatBoostRegressor"
   ]
  },
  {
   "cell_type": "code",
   "execution_count": 22,
   "metadata": {},
   "outputs": [
    {
     "name": "stdout",
     "output_type": "stream",
     "text": [
      "32.66299978624266\n"
     ]
    }
   ],
   "source": [
    "model_Cat = CatBoostRegressor(random_state=42)\n",
    "hyperparams = [{'depth': [3],\n",
    "                'learning_rate': [0.1],\n",
    "                'iterations': [300],\n",
    "                'verbose': [False]\n",
    "               }]\n",
    "my_cv = TimeSeriesSplit(n_splits=3).split(train_features_split)\n",
    "clf = GridSearchCV(model_Cat, hyperparams, cv=my_cv, scoring='neg_mean_squared_error')\n",
    "clf.fit(train_features_split, train_target_split)\n",
    "\n",
    "predictions = clf.predict(val_features)\n",
    "rmse = mean_squared_error(val_target, predictions) ** .5\n",
    "\n",
    "print(rmse)"
   ]
  },
  {
   "cell_type": "code",
   "execution_count": 23,
   "metadata": {},
   "outputs": [
    {
     "name": "stdout",
     "output_type": "stream",
     "text": [
      "{'depth': 3, 'iterations': 300, 'learning_rate': 0.1, 'verbose': False}\n"
     ]
    }
   ],
   "source": [
    "best_params_CBR = clf.best_params_\n",
    "print(best_params_CBR)"
   ]
  },
  {
   "cell_type": "markdown",
   "metadata": {},
   "source": [
    "### DecisionTreeRegressor"
   ]
  },
  {
   "cell_type": "code",
   "execution_count": 24,
   "metadata": {},
   "outputs": [
    {
     "name": "stdout",
     "output_type": "stream",
     "text": [
      "лучшее RMSE = 35.22416086027399\n",
      "при отставании 1\n",
      "при окне 1\n",
      "при глубине 7\n"
     ]
    }
   ],
   "source": [
    "best_rmse = 48\n",
    "for max_lag in range(1, 15):\n",
    "    for rolling_mean_size in range(1, 35):\n",
    "        for max_depth in range(2, 21):\n",
    "            model = DecisionTreeRegressor(max_depth=max_depth, random_state=12345)\n",
    "            model.fit(train_features_split, train_target_split)\n",
    "            predictions = model.predict(val_features)\n",
    "            # Оценка RMSE на валидационной выборке\n",
    "            rmse = mean_squared_error(val_target, predictions) ** .5\n",
    "            if rmse < best_rmse:\n",
    "                best_rmse = rmse\n",
    "                best_max_lag = max_lag\n",
    "                best_rolling_mean_size = rolling_mean_size\n",
    "                best_max_depth = max_depth\n",
    "print('лучшее RMSE =', best_rmse)\n",
    "print('при отставании', best_max_lag)\n",
    "print('при окне', best_rolling_mean_size)\n",
    "print('при глубине', best_max_depth)\n"
   ]
  },
  {
   "cell_type": "markdown",
   "metadata": {},
   "source": [
    "## Prueba\n",
    "\n",
    "El mejor resultado del modelo de Regresión Lineal (rmse = 31.04). Lo probaremos."
   ]
  },
  {
   "cell_type": "code",
   "execution_count": 26,
   "metadata": {},
   "outputs": [
    {
     "name": "stdout",
     "output_type": "stream",
     "text": [
      "44.617295936686126\n"
     ]
    },
    {
     "data": {
      "image/png": "[encoded data removed]",
      "text/plain": [
       "<Figure size 1224x432 with 1 Axes>"
      ]
     },
     "metadata": {
      "needs_background": "light"
     },
     "output_type": "display_data"
    }
   ],
   "source": [
    "modelLR = LinearRegression()\n",
    "modelLR.fit(train_features, train_target)\n",
    "predictionLR = modelLR.predict(test_features)\n",
    "rmse = mean_squared_error(test_target, predictionLR) ** .5\n",
    "print(rmse)\n",
    "\n",
    "plt.figure(figsize=(17, 6))\n",
    "plt.plot(test_target.index, test_target, 'b-', label='Actual')\n",
    "plt.plot(test_target.index, predictionLR, 'r-', label='Predicted')\n",
    "plt.xlabel('Date')\n",
    "plt.ylabel('Target')\n",
    "plt.title('LinearRegression Predictions')\n",
    "plt.legend()\n",
    "plt.show()"
   ]
  },
  {
   "cell_type": "markdown",
   "metadata": {},
   "source": [
    "## Retirada\n",
    "\n",
    "El mejor resultado mostró el modelo LinearRegression con rmse = 44,62."
   ]
  },
  {
   "cell_type": "code",
   "execution_count": null,
   "metadata": {},
   "outputs": [],
   "source": []
  }
 ],
 "metadata": {
  "ExecuteTimeLog": [
   {
    "duration": 425,
    "start_time": "2023-03-28T18:10:17.309Z"
   },
   {
    "duration": 192,
    "start_time": "2023-03-28T18:10:18.405Z"
   },
   {
    "duration": 16,
    "start_time": "2023-03-28T18:10:32.964Z"
   },
   {
    "duration": 75,
    "start_time": "2023-03-28T18:12:53.777Z"
   },
   {
    "duration": 425,
    "start_time": "2023-03-28T18:14:24.537Z"
   },
   {
    "duration": 73,
    "start_time": "2023-03-28T18:14:24.964Z"
   },
   {
    "duration": 0,
    "start_time": "2023-03-28T18:14:25.039Z"
   },
   {
    "duration": 0,
    "start_time": "2023-03-28T18:14:25.040Z"
   },
   {
    "duration": 47,
    "start_time": "2023-03-28T18:14:49.808Z"
   },
   {
    "duration": 9,
    "start_time": "2023-03-28T18:14:52.285Z"
   },
   {
    "duration": 16,
    "start_time": "2023-03-28T18:14:54.608Z"
   },
   {
    "duration": 11,
    "start_time": "2023-03-28T18:15:31.341Z"
   },
   {
    "duration": 11,
    "start_time": "2023-03-28T18:25:23.452Z"
   },
   {
    "duration": 703,
    "start_time": "2023-03-28T18:26:40.464Z"
   },
   {
    "duration": 10,
    "start_time": "2023-03-28T18:45:06.686Z"
   },
   {
    "duration": 30,
    "start_time": "2023-03-28T18:49:56.831Z"
   },
   {
    "duration": 1746,
    "start_time": "2023-03-28T18:50:46.551Z"
   },
   {
    "duration": 59,
    "start_time": "2023-03-28T18:50:48.300Z"
   },
   {
    "duration": 9,
    "start_time": "2023-03-28T18:50:48.361Z"
   },
   {
    "duration": 13,
    "start_time": "2023-03-28T18:50:48.372Z"
   },
   {
    "duration": 260,
    "start_time": "2023-03-28T18:50:48.387Z"
   },
   {
    "duration": 15,
    "start_time": "2023-03-28T18:50:48.649Z"
   },
   {
    "duration": 41,
    "start_time": "2023-03-28T18:50:48.666Z"
   },
   {
    "duration": 342,
    "start_time": "2023-03-28T18:51:31.110Z"
   },
   {
    "duration": 155,
    "start_time": "2023-03-28T18:52:19.764Z"
   },
   {
    "duration": 133,
    "start_time": "2023-03-28T18:53:23.866Z"
   },
   {
    "duration": 215,
    "start_time": "2023-03-28T18:53:59.258Z"
   },
   {
    "duration": 275,
    "start_time": "2023-03-28T18:54:25.094Z"
   },
   {
    "duration": 3,
    "start_time": "2023-03-28T19:02:12.463Z"
   },
   {
    "duration": 4,
    "start_time": "2023-03-28T19:02:25.218Z"
   },
   {
    "duration": 37,
    "start_time": "2023-03-28T19:02:38.583Z"
   },
   {
    "duration": 22,
    "start_time": "2023-03-28T19:04:18.478Z"
   },
   {
    "duration": 15,
    "start_time": "2023-03-28T19:05:03.358Z"
   },
   {
    "duration": 10,
    "start_time": "2023-03-28T19:12:00.186Z"
   },
   {
    "duration": 5,
    "start_time": "2023-03-28T19:12:13.227Z"
   },
   {
    "duration": 490,
    "start_time": "2023-03-28T19:15:11.351Z"
   },
   {
    "duration": 161,
    "start_time": "2023-03-28T19:22:04.155Z"
   },
   {
    "duration": 6179,
    "start_time": "2023-03-28T19:22:44.227Z"
   },
   {
    "duration": 3,
    "start_time": "2023-03-28T19:24:26.815Z"
   },
   {
    "duration": 1907,
    "start_time": "2023-03-28T19:56:59.708Z"
   },
   {
    "duration": 67,
    "start_time": "2023-03-28T19:57:01.618Z"
   },
   {
    "duration": 14,
    "start_time": "2023-03-28T19:57:01.687Z"
   },
   {
    "duration": 48,
    "start_time": "2023-03-28T19:57:01.704Z"
   },
   {
    "duration": 389,
    "start_time": "2023-03-28T19:57:01.756Z"
   },
   {
    "duration": 12,
    "start_time": "2023-03-28T19:57:02.148Z"
   },
   {
    "duration": 79,
    "start_time": "2023-03-28T19:57:02.162Z"
   },
   {
    "duration": 327,
    "start_time": "2023-03-28T19:57:02.245Z"
   },
   {
    "duration": 348,
    "start_time": "2023-03-28T19:57:02.575Z"
   },
   {
    "duration": 204,
    "start_time": "2023-03-28T19:57:02.926Z"
   },
   {
    "duration": 342,
    "start_time": "2023-03-28T19:57:03.135Z"
   },
   {
    "duration": 334,
    "start_time": "2023-03-28T19:57:03.481Z"
   },
   {
    "duration": 3,
    "start_time": "2023-03-28T19:57:03.817Z"
   },
   {
    "duration": 17,
    "start_time": "2023-03-28T19:57:03.825Z"
   },
   {
    "duration": 66,
    "start_time": "2023-03-28T19:57:03.844Z"
   },
   {
    "duration": 45,
    "start_time": "2023-03-28T19:57:03.912Z"
   },
   {
    "duration": 25,
    "start_time": "2023-03-28T19:57:03.959Z"
   },
   {
    "duration": 14,
    "start_time": "2023-03-28T19:57:03.987Z"
   },
   {
    "duration": 8,
    "start_time": "2023-03-28T19:57:04.004Z"
   },
   {
    "duration": 625,
    "start_time": "2023-03-28T19:57:04.014Z"
   },
   {
    "duration": 7841,
    "start_time": "2023-03-28T19:57:04.640Z"
   },
   {
    "duration": 4,
    "start_time": "2023-03-28T19:57:12.483Z"
   },
   {
    "duration": 187,
    "start_time": "2023-03-28T19:57:12.488Z"
   },
   {
    "duration": 971031,
    "start_time": "2023-03-28T19:57:37.957Z"
   },
   {
    "duration": 13,
    "start_time": "2023-03-28T20:22:35.498Z"
   },
   {
    "duration": 29,
    "start_time": "2023-03-28T20:23:33.614Z"
   },
   {
    "duration": 637,
    "start_time": "2023-03-28T20:24:10.926Z"
   },
   {
    "duration": 2107,
    "start_time": "2023-03-28T20:27:55.806Z"
   },
   {
    "duration": 339,
    "start_time": "2023-03-28T20:31:23.696Z"
   },
   {
    "duration": 1924,
    "start_time": "2023-03-29T18:52:41.855Z"
   },
   {
    "duration": 201,
    "start_time": "2023-03-29T18:52:43.782Z"
   },
   {
    "duration": 27,
    "start_time": "2023-03-29T18:52:43.985Z"
   },
   {
    "duration": 29,
    "start_time": "2023-03-29T18:52:44.014Z"
   },
   {
    "duration": 360,
    "start_time": "2023-03-29T18:52:44.047Z"
   },
   {
    "duration": 12,
    "start_time": "2023-03-29T18:52:44.408Z"
   },
   {
    "duration": 57,
    "start_time": "2023-03-29T18:52:44.422Z"
   },
   {
    "duration": 217,
    "start_time": "2023-03-29T18:52:44.481Z"
   },
   {
    "duration": 253,
    "start_time": "2023-03-29T18:52:44.700Z"
   },
   {
    "duration": 169,
    "start_time": "2023-03-29T18:52:44.955Z"
   },
   {
    "duration": 195,
    "start_time": "2023-03-29T18:52:45.132Z"
   },
   {
    "duration": 215,
    "start_time": "2023-03-29T18:52:45.330Z"
   },
   {
    "duration": 3,
    "start_time": "2023-03-29T18:52:45.546Z"
   },
   {
    "duration": 29,
    "start_time": "2023-03-29T18:52:45.552Z"
   },
   {
    "duration": 78,
    "start_time": "2023-03-29T18:52:45.583Z"
   },
   {
    "duration": 31,
    "start_time": "2023-03-29T18:52:45.663Z"
   },
   {
    "duration": 22,
    "start_time": "2023-03-29T18:52:45.695Z"
   },
   {
    "duration": 29,
    "start_time": "2023-03-29T18:52:45.719Z"
   },
   {
    "duration": 30,
    "start_time": "2023-03-29T18:52:45.750Z"
   },
   {
    "duration": 311,
    "start_time": "2023-03-29T18:52:45.782Z"
   },
   {
    "duration": 6825,
    "start_time": "2023-03-29T18:52:46.096Z"
   },
   {
    "duration": 4,
    "start_time": "2023-03-29T18:52:52.924Z"
   },
   {
    "duration": 74,
    "start_time": "2023-03-29T18:52:52.930Z"
   },
   {
    "duration": 0,
    "start_time": "2023-03-29T18:52:53.006Z"
   },
   {
    "duration": 0,
    "start_time": "2023-03-29T18:52:53.008Z"
   },
   {
    "duration": 0,
    "start_time": "2023-03-29T18:52:53.010Z"
   },
   {
    "duration": 75,
    "start_time": "2023-03-29T18:53:19.762Z"
   },
   {
    "duration": 74,
    "start_time": "2023-03-29T18:53:58.979Z"
   },
   {
    "duration": 810447,
    "start_time": "2023-03-29T18:56:17.622Z"
   },
   {
    "duration": 6153,
    "start_time": "2023-03-29T19:24:25.119Z"
   },
   {
    "duration": 151,
    "start_time": "2023-03-29T19:25:55.939Z"
   },
   {
    "duration": 1935,
    "start_time": "2023-03-29T19:38:39.209Z"
   },
   {
    "duration": 1806,
    "start_time": "2023-03-29T19:39:02.388Z"
   },
   {
    "duration": 204,
    "start_time": "2023-03-29T19:42:04.899Z"
   },
   {
    "duration": 118,
    "start_time": "2023-03-30T19:11:04.463Z"
   },
   {
    "duration": 1634,
    "start_time": "2023-03-30T19:13:51.816Z"
   },
   {
    "duration": 134,
    "start_time": "2023-03-30T19:13:53.452Z"
   },
   {
    "duration": 12,
    "start_time": "2023-03-30T19:13:53.588Z"
   },
   {
    "duration": 11,
    "start_time": "2023-03-30T19:13:53.601Z"
   },
   {
    "duration": 264,
    "start_time": "2023-03-30T19:13:53.615Z"
   },
   {
    "duration": 14,
    "start_time": "2023-03-30T19:13:53.881Z"
   },
   {
    "duration": 49,
    "start_time": "2023-03-30T19:13:53.897Z"
   },
   {
    "duration": 222,
    "start_time": "2023-03-30T19:13:53.948Z"
   },
   {
    "duration": 269,
    "start_time": "2023-03-30T19:13:54.172Z"
   },
   {
    "duration": 164,
    "start_time": "2023-03-30T19:13:54.443Z"
   },
   {
    "duration": 239,
    "start_time": "2023-03-30T19:13:54.610Z"
   },
   {
    "duration": 199,
    "start_time": "2023-03-30T19:13:54.851Z"
   },
   {
    "duration": 3,
    "start_time": "2023-03-30T19:13:55.052Z"
   },
   {
    "duration": 75,
    "start_time": "2023-03-30T19:13:55.058Z"
   },
   {
    "duration": 88,
    "start_time": "2023-03-30T19:13:55.135Z"
   },
   {
    "duration": 44,
    "start_time": "2023-03-30T19:13:55.225Z"
   },
   {
    "duration": 36,
    "start_time": "2023-03-30T19:13:55.271Z"
   },
   {
    "duration": 28,
    "start_time": "2023-03-30T19:13:55.309Z"
   },
   {
    "duration": 27,
    "start_time": "2023-03-30T19:13:55.339Z"
   },
   {
    "duration": 24,
    "start_time": "2023-03-30T19:13:55.368Z"
   },
   {
    "duration": 135,
    "start_time": "2023-03-30T19:13:55.394Z"
   },
   {
    "duration": 0,
    "start_time": "2023-03-30T19:13:55.531Z"
   },
   {
    "duration": 0,
    "start_time": "2023-03-30T19:13:55.531Z"
   },
   {
    "duration": 0,
    "start_time": "2023-03-30T19:13:55.532Z"
   },
   {
    "duration": 0,
    "start_time": "2023-03-30T19:13:55.542Z"
   },
   {
    "duration": 1514,
    "start_time": "2023-03-30T19:16:32.906Z"
   },
   {
    "duration": 51,
    "start_time": "2023-03-30T19:16:34.422Z"
   },
   {
    "duration": 11,
    "start_time": "2023-03-30T19:16:34.475Z"
   },
   {
    "duration": 12,
    "start_time": "2023-03-30T19:16:34.489Z"
   },
   {
    "duration": 255,
    "start_time": "2023-03-30T19:16:34.505Z"
   },
   {
    "duration": 12,
    "start_time": "2023-03-30T19:16:34.762Z"
   },
   {
    "duration": 51,
    "start_time": "2023-03-30T19:16:34.776Z"
   },
   {
    "duration": 232,
    "start_time": "2023-03-30T19:16:34.830Z"
   },
   {
    "duration": 283,
    "start_time": "2023-03-30T19:16:35.064Z"
   },
   {
    "duration": 162,
    "start_time": "2023-03-30T19:16:35.349Z"
   },
   {
    "duration": 240,
    "start_time": "2023-03-30T19:16:35.513Z"
   },
   {
    "duration": 243,
    "start_time": "2023-03-30T19:16:35.755Z"
   },
   {
    "duration": 4,
    "start_time": "2023-03-30T19:16:36.000Z"
   },
   {
    "duration": 10,
    "start_time": "2023-03-30T19:16:36.007Z"
   },
   {
    "duration": 58,
    "start_time": "2023-03-30T19:16:36.019Z"
   },
   {
    "duration": 27,
    "start_time": "2023-03-30T19:16:36.079Z"
   },
   {
    "duration": 43,
    "start_time": "2023-03-30T19:16:36.108Z"
   },
   {
    "duration": 15,
    "start_time": "2023-03-30T19:16:36.153Z"
   },
   {
    "duration": 19,
    "start_time": "2023-03-30T19:16:36.170Z"
   },
   {
    "duration": 20,
    "start_time": "2023-03-30T19:16:36.192Z"
   },
   {
    "duration": 337,
    "start_time": "2023-03-30T19:16:36.214Z"
   },
   {
    "duration": 3669,
    "start_time": "2023-03-30T19:16:36.553Z"
   },
   {
    "duration": 0,
    "start_time": "2023-03-30T19:16:40.226Z"
   },
   {
    "duration": 0,
    "start_time": "2023-03-30T19:16:40.227Z"
   },
   {
    "duration": 0,
    "start_time": "2023-03-30T19:16:40.230Z"
   },
   {
    "duration": 1491,
    "start_time": "2023-03-30T19:18:08.797Z"
   },
   {
    "duration": 52,
    "start_time": "2023-03-30T19:18:10.291Z"
   },
   {
    "duration": 11,
    "start_time": "2023-03-30T19:18:10.345Z"
   },
   {
    "duration": 24,
    "start_time": "2023-03-30T19:18:10.357Z"
   },
   {
    "duration": 241,
    "start_time": "2023-03-30T19:18:10.383Z"
   },
   {
    "duration": 19,
    "start_time": "2023-03-30T19:18:10.625Z"
   },
   {
    "duration": 32,
    "start_time": "2023-03-30T19:18:10.646Z"
   },
   {
    "duration": 210,
    "start_time": "2023-03-30T19:18:10.680Z"
   },
   {
    "duration": 250,
    "start_time": "2023-03-30T19:18:10.891Z"
   },
   {
    "duration": 148,
    "start_time": "2023-03-30T19:18:11.144Z"
   },
   {
    "duration": 211,
    "start_time": "2023-03-30T19:18:11.294Z"
   },
   {
    "duration": 219,
    "start_time": "2023-03-30T19:18:11.507Z"
   },
   {
    "duration": 3,
    "start_time": "2023-03-30T19:18:11.728Z"
   },
   {
    "duration": 12,
    "start_time": "2023-03-30T19:18:11.733Z"
   },
   {
    "duration": 53,
    "start_time": "2023-03-30T19:18:11.746Z"
   },
   {
    "duration": 25,
    "start_time": "2023-03-30T19:18:11.801Z"
   },
   {
    "duration": 27,
    "start_time": "2023-03-30T19:18:11.828Z"
   },
   {
    "duration": 11,
    "start_time": "2023-03-30T19:18:11.857Z"
   },
   {
    "duration": 26,
    "start_time": "2023-03-30T19:18:11.870Z"
   },
   {
    "duration": 17,
    "start_time": "2023-03-30T19:18:11.898Z"
   },
   {
    "duration": 224,
    "start_time": "2023-03-30T19:18:11.917Z"
   },
   {
    "duration": 5808,
    "start_time": "2023-03-30T19:18:12.143Z"
   },
   {
    "duration": 3,
    "start_time": "2023-03-30T19:18:17.953Z"
   },
   {
    "duration": 766677,
    "start_time": "2023-03-30T19:18:17.958Z"
   },
   {
    "duration": 2151,
    "start_time": "2023-03-30T19:31:04.640Z"
   },
   {
    "duration": 1633,
    "start_time": "2023-03-31T11:01:37.466Z"
   },
   {
    "duration": 162,
    "start_time": "2023-03-31T11:01:39.101Z"
   },
   {
    "duration": 13,
    "start_time": "2023-03-31T11:01:39.264Z"
   },
   {
    "duration": 39,
    "start_time": "2023-03-31T11:01:39.278Z"
   },
   {
    "duration": 235,
    "start_time": "2023-03-31T11:01:39.319Z"
   },
   {
    "duration": 35,
    "start_time": "2023-03-31T11:01:39.556Z"
   },
   {
    "duration": 37,
    "start_time": "2023-03-31T11:01:39.595Z"
   },
   {
    "duration": 209,
    "start_time": "2023-03-31T11:01:39.634Z"
   },
   {
    "duration": 210,
    "start_time": "2023-03-31T11:01:39.845Z"
   },
   {
    "duration": 140,
    "start_time": "2023-03-31T11:01:40.056Z"
   },
   {
    "duration": 201,
    "start_time": "2023-03-31T11:01:40.198Z"
   },
   {
    "duration": 199,
    "start_time": "2023-03-31T11:01:40.400Z"
   },
   {
    "duration": 4,
    "start_time": "2023-03-31T11:01:40.601Z"
   },
   {
    "duration": 18,
    "start_time": "2023-03-31T11:01:40.608Z"
   },
   {
    "duration": 72,
    "start_time": "2023-03-31T11:01:40.627Z"
   },
   {
    "duration": 22,
    "start_time": "2023-03-31T11:01:40.701Z"
   },
   {
    "duration": 24,
    "start_time": "2023-03-31T11:01:40.724Z"
   },
   {
    "duration": 9,
    "start_time": "2023-03-31T11:01:40.749Z"
   },
   {
    "duration": 8,
    "start_time": "2023-03-31T11:01:40.759Z"
   },
   {
    "duration": 35,
    "start_time": "2023-03-31T11:01:40.768Z"
   },
   {
    "duration": 100,
    "start_time": "2023-03-31T11:01:40.805Z"
   },
   {
    "duration": 6316,
    "start_time": "2023-03-31T11:01:40.982Z"
   },
   {
    "duration": 3,
    "start_time": "2023-03-31T11:01:47.300Z"
   },
   {
    "duration": 869376,
    "start_time": "2023-03-31T11:01:47.304Z"
   },
   {
    "duration": 2750,
    "start_time": "2023-03-31T11:16:16.682Z"
   },
   {
    "duration": 435,
    "start_time": "2023-03-31T11:34:13.112Z"
   },
   {
    "duration": 230,
    "start_time": "2023-03-31T11:36:54.220Z"
   }
  ],
  "kernelspec": {
   "display_name": "Python 3 (ipykernel)",
   "language": "python",
   "name": "python3"
  },
  "language_info": {
   "codemirror_mode": {
    "name": "ipython",
    "version": 3
   },
   "file_extension": ".py",
   "mimetype": "text/x-python",
   "name": "python",
   "nbconvert_exporter": "python",
   "pygments_lexer": "ipython3",
   "version": "3.9.13"
  },
  "toc": {
   "base_numbering": 1,
   "nav_menu": {},
   "number_sections": true,
   "sideBar": true,
   "skip_h1_title": true,
   "title_cell": "Содержание",
   "title_sidebar": "Contents",
   "toc_cell": true,
   "toc_position": {},
   "toc_section_display": true,
   "toc_window_display": false
  }
 },
 "nbformat": 4,
 "nbformat_minor": 2
}
