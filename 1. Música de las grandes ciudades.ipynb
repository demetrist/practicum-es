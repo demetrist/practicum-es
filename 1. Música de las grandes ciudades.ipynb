{
 "cells": [
  {
   "cell_type": "markdown",
   "id": "8feffdfe",
   "metadata": {},
   "source": [
    "La comparación de Moscú y Petersburgo está rodeada de mitos. Por ejemplo:\n",
    " * Moscú - metrópolis, sujeto al duro ritmo de la semana laboral;\n",
    " * Petersburgo - capital cultural, con sus propios gustos.\n",
    "\n",
    "En los datos de Yandex Music comparará el comportamiento de los usuarios de las dos capitales.\n",
    "\n",
    "***El objetivo del estudio** - probar tres hipótesis:\n",
    "1. La actividad de los usuarios depende del día de la semana. Y en Moscú y San Petersburgo se manifiesta de manera diferente.\n",
    "2. Lunes por la mañana en Moscú prevalecen algunos géneros, y en Petersburgo - otros. También el viernes por la noche, prevalecen diferentes géneros - dependiendo de la ciudad. \n",
    "3. Moscú y St. Petersburgo prefieren diferentes géneros de música.\n",
    "\n",
    "**Progreso de la investigación**\n",
    "\n",
    "Obtendrá información sobre el comportamiento del usuario en el archivo [yandex_music_project.csv¹. No se sabe nada sobre la calidad de los datos. Por lo tanto, antes de probar hipótesis tendrá que revisar los datos. \n",
    "\n",
    "Comprobará los datos en busca de errores y evaluará su impacto en la investigación. Luego, en la fase de procesamiento previo, buscará una oportunidad para corregir los errores de datos más críticos.\n",
    " \n",
    "Así, el estudio se realizará en tres etapas:\n",
    " 1. Revisión de los datos.\n",
    " 2. Tratamiento previo de los datos.\n",
    " 3. Hipótesis de ensayo."
   ]
  },
  {
   "cell_type": "markdown",
   "id": "5f4ef86a",
   "metadata": {},
   "source": [
    "## Revisión de datos\n",
    "\n",
    "Haga la primera representación de los datos de Yandex Music."
   ]
  },
  {
   "cell_type": "markdown",
   "id": "32f76351",
   "metadata": {},
   "source": [
    "**Trabajo 1**\n",
    "\n",
    "La principal herramienta de análisis es í pandas¹. Importa esta biblioteca."
   ]
  },
  {
   "cell_type": "code",
   "execution_count": 1,
   "id": "ef370849",
   "metadata": {},
   "outputs": [],
   "source": [
    "import pandas as pd"
   ]
  },
  {
   "cell_type": "markdown",
   "id": "27086ac5",
   "metadata": {},
   "source": [
    "**Trabajo 2**\n",
    "\n",
    "Lea el archivo [yandex_music_project.csv[ desde la carpeta ¹/datasets‍ y guárdelo en la variable ¹df ː:"
   ]
  },
  {
   "cell_type": "code",
   "execution_count": 2,
   "id": "272e46b3",
   "metadata": {},
   "outputs": [],
   "source": [
    "df = pd.read_csv('/Applications/Python/Проекты/Датасеты/yandex_music_project.csv')"
   ]
  },
  {
   "cell_type": "markdown",
   "id": "92e975f7",
   "metadata": {},
   "source": [
    "**Trabajo 3**\n",
    "\n",
    "\n",
    "Muestra las primeras diez filas de la tabla:"
   ]
  },
  {
   "cell_type": "code",
   "execution_count": 3,
   "id": "7e7c9c4d",
   "metadata": {},
   "outputs": [
    {
     "name": "stdout",
     "output_type": "stream",
     "text": [
      "     userID                        Track            artist   genre  \\\n",
      "0  FFB692EC            Kamigata To Boots  The Mass Missile    rock   \n",
      "1  55204538  Delayed Because of Accident  Andreas Rönnberg    rock   \n",
      "2    20EC38            Funiculì funiculà       Mario Lanza     pop   \n",
      "3  A3DD03C9        Dragons in the Sunset        Fire + Ice    folk   \n",
      "4  E2DC1FAE                  Soul People        Space Echo   dance   \n",
      "5  842029A1                    Преданная         IMPERVTOR  rusrap   \n",
      "6  4CB90AA5                         True      Roman Messer   dance   \n",
      "7  F03E1C1F             Feeling This Way   Polina Griffith   dance   \n",
      "8  8FA1D3BE     И вновь продолжается бой               NaN  ruspop   \n",
      "9  E772D5C0                    Pessimist               NaN   dance   \n",
      "\n",
      "             City        time        Day  \n",
      "0  Saint-Petersburg  20:28:33  Wednesday  \n",
      "1            Moscow  14:07:09     Friday  \n",
      "2  Saint-Petersburg  20:58:07  Wednesday  \n",
      "3  Saint-Petersburg  08:37:09     Monday  \n",
      "4            Moscow  08:34:34     Monday  \n",
      "5  Saint-Petersburg  13:09:41     Friday  \n",
      "6            Moscow  13:00:07  Wednesday  \n",
      "7            Moscow  20:47:49  Wednesday  \n",
      "8            Moscow  09:17:40     Friday  \n",
      "9  Saint-Petersburg  21:20:49  Wednesday  \n"
     ]
    }
   ],
   "source": [
    "print(df.head(10))"
   ]
  },
  {
   "cell_type": "markdown",
   "id": "8d57c3ee",
   "metadata": {},
   "source": [
    "**Trabajo 4**\n",
    "\n",
    "\n",
    "Un comando para obtener información general sobre la tabla usando el método ːinfo()):"
   ]
  },
  {
   "cell_type": "code",
   "execution_count": 4,
   "id": "14489d4b",
   "metadata": {},
   "outputs": [
    {
     "name": "stdout",
     "output_type": "stream",
     "text": [
      "<class 'pandas.core.frame.DataFrame'>\n",
      "RangeIndex: 65079 entries, 0 to 65078\n",
      "Data columns (total 7 columns):\n",
      " #   Column    Non-Null Count  Dtype \n",
      "---  ------    --------------  ----- \n",
      " 0     userID  65079 non-null  object\n",
      " 1   Track     63848 non-null  object\n",
      " 2   artist    57876 non-null  object\n",
      " 3   genre     63881 non-null  object\n",
      " 4     City    65079 non-null  object\n",
      " 5   time      65079 non-null  object\n",
      " 6   Day       65079 non-null  object\n",
      "dtypes: object(7)\n",
      "memory usage: 3.5+ MB\n"
     ]
    }
   ],
   "source": [
    "df.info()"
   ]
  },
  {
   "cell_type": "markdown",
   "id": "b09b1022",
   "metadata": {},
   "source": [
    "Por lo tanto, hay siete columnas en la tabla. El tipo de datos en todas las columnas es objeto expo.\n",
    "\n",
    "Según la documentación de datos:\n",
    "* ː userID= - identificador de usuario;\n",
    "* € Track‍ - el nombre de la pista;  \n",
    "* El artista que se ocupa del artista - nombre del artista;\n",
    "* =genre‍ - el nombre del género;\n",
    "* € Ciudad¹ - Ciudad usuario;\n",
    "* ː time= - el comienzo de la audición;\n",
    "* € Día del año - el día de la semana.\n",
    "\n",
    "El número de valores en las columnas varía. Esto significa que faltan valores en los datos.\n",
    "\n",
    "**Trabajo 5**\n",
    "\n",
    "**Pregunta con respuesta gratuita**\n",
    "\n",
    "En los títulos de las columnas puede ver violaciones de estilo:\n",
    "* Las letras minúsculas se combinan con las mayúsculas.\n",
    "* Lagunas encontradas\n",
    "\n",
    "¿Cuál es la tercera infracción?\n",
    "\n",
    "Las palabras están mejor separadas por subrayado: user_id\n",
    "\n",
    "***Conclusiones**\n",
    "\n",
    "En cada fila de la tabla - datos sobre la pista escuchada. Parte de las columnas describe la composición misma: nombre, artista y género. El resto de los datos habla del usuario: de qué ciudad estaba escuchando música. \n",
    "\n",
    "Puede argumentarse provisionalmente que los datos son suficientes para probar hipótesis. Pero hay omisiones en los datos, y en los títulos de las columnas - diferencias con un buen estilo.\n",
    "\n",
    "Para avanzar, necesitamos solucionar problemas de datos.\n",
    "\n",
    "## Vista previa de datos\n",
    "Corrija el estilo en los encabezados de las columnas, elimine los saltos. A continuación, compruebe los datos en busca de duplicados.\n",
    "\n",
    "#### Estilo de encabezado\n",
    "\n",
    "**Trabajo 6**\n",
    "\n",
    "Imprima los nombres de las columnas en la pantalla:"
   ]
  },
  {
   "cell_type": "code",
   "execution_count": 5,
   "id": "320a67b0",
   "metadata": {},
   "outputs": [
    {
     "data": {
      "text/plain": [
       "Index(['  userID', 'Track', 'artist', 'genre', '  City  ', 'time', 'Day'], dtype='object')"
      ]
     },
     "execution_count": 5,
     "metadata": {},
     "output_type": "execute_result"
    }
   ],
   "source": [
    "df.columns"
   ]
  },
  {
   "cell_type": "markdown",
   "id": "ce7949ac",
   "metadata": {},
   "source": [
    "**Trabajo 7**\n",
    "\n",
    "\n",
    "Alinear títulos con buen estilo:\n",
    "* unas pocas palabras en el nombre escribir en «zminom_register»,\n",
    "* Hacer todos los caracteres en minúsculas,\n",
    "* Rellenar los huecos.\n",
    "\n",
    "Para ello, cambie el nombre de las columnas de la siguiente manera:\n",
    "    \n",
    "* `'  userID'` → `'user_id'`;\n",
    "* `'Track'` → `'track'`;\n",
    "* `'  City  '` → `'city'`;\n",
    "* `'Day'` → `'day'`."
   ]
  },
  {
   "cell_type": "code",
   "execution_count": 7,
   "id": "6f72aebf",
   "metadata": {},
   "outputs": [],
   "source": [
    "df = df.rename(columns = {\n",
    "    '  userID' : 'user_id',\n",
    "    'Track' : 'track',\n",
    "    '  City  ' : 'city',\n",
    "    'Day' : 'day'\n",
    "})"
   ]
  },
  {
   "cell_type": "markdown",
   "id": "8c0adaef",
   "metadata": {},
   "source": [
    "**Trabajo 8**\n",
    "\n",
    "\n",
    "Compruebe el resultado. Para ello, vuelva a imprimir los nombres de las columnas:"
   ]
  },
  {
   "cell_type": "code",
   "execution_count": 8,
   "id": "8356eb4c",
   "metadata": {},
   "outputs": [
    {
     "data": {
      "text/plain": [
       "Index(['user_id', 'track', 'artist', 'genre', 'city', 'time', 'day'], dtype='object')"
      ]
     },
     "execution_count": 8,
     "metadata": {},
     "output_type": "execute_result"
    }
   ],
   "source": [
    "df.columns"
   ]
  },
  {
   "cell_type": "markdown",
   "id": "179dcdd9",
   "metadata": {},
   "source": [
    "### Saltar valores\n",
    "\n",
    "**Trabajo 9**.\n",
    "\n",
    "Primero, calcule cuántos valores faltan en la tabla. Para esto, dos métodos son suficientes ¹pandas ː:"
   ]
  },
  {
   "cell_type": "code",
   "execution_count": 9,
   "id": "51492433",
   "metadata": {},
   "outputs": [
    {
     "data": {
      "text/plain": [
       "user_id       0\n",
       "track      1231\n",
       "artist     7203\n",
       "genre      1198\n",
       "city          0\n",
       "time          0\n",
       "day           0\n",
       "dtype: int64"
      ]
     },
     "execution_count": 9,
     "metadata": {},
     "output_type": "execute_result"
    }
   ],
   "source": [
    "df.isna().sum()"
   ]
  },
  {
   "cell_type": "markdown",
   "id": "802b71d2",
   "metadata": {},
   "source": [
    "No todos los valores omitidos afectan al estudio. Por lo tanto, en el tema ¹ y en el caso de artistas que omiten no son importantes para su trabajo. Basta con sustituirlas por designaciones explícitas.\n",
    "\n",
    "Sin embargo, las omisiones en el género pueden interferir con la comparación de los gustos musicales en Moscú y San Petersburgo. En la práctica sería correcto establecer la causa de los saltos y recuperar los datos. Esta posibilidad no está disponible en el proyecto de formación. Usted tendrá que hacer lo siguiente:\n",
    "* Rellenar estos espacios en blanco con símbolos explícitos;\n",
    "* evaluar cuánto dañarán los cálculos. \n",
    "\n",
    "**Trabajo 10**\n",
    "\n",
    "Reemplace los valores que faltan en las columnas ¹track ľ, ī artist= y ¹genre‍ con la fila ¿'unknown'. Para hacer esto, cree una lista de las columnas que se han de reemplazar, busque sus elementos con un ciclo de ¹€ y reemplace los valores que faltan para cada columna:"
   ]
  },
  {
   "cell_type": "code",
   "execution_count": 10,
   "id": "9c0d5b03",
   "metadata": {},
   "outputs": [],
   "source": [
    "columns_to_replace = [['track'], ['artist'], ['genre']]\n",
    "for i in columns_to_replace:\n",
    "    df[i] = df[i].fillna('unknown')"
   ]
  },
  {
   "cell_type": "markdown",
   "id": "a7ce4ef9",
   "metadata": {},
   "source": [
    "**Trabajo 11**\n",
    "\n",
    "Asegúrese de que no quedan espacios en blanco en la tabla. Para ello, cuente los valores que faltan de nuevo."
   ]
  },
  {
   "cell_type": "code",
   "execution_count": 11,
   "id": "be558194",
   "metadata": {},
   "outputs": [
    {
     "data": {
      "text/plain": [
       "user_id    0\n",
       "track      0\n",
       "artist     0\n",
       "genre      0\n",
       "city       0\n",
       "time       0\n",
       "day        0\n",
       "dtype: int64"
      ]
     },
     "execution_count": 11,
     "metadata": {},
     "output_type": "execute_result"
    }
   ],
   "source": [
    "df.isna().sum()"
   ]
  },
  {
   "cell_type": "markdown",
   "id": "68a7afe9",
   "metadata": {},
   "source": [
    "### Duplicados\n",
    "\n",
    "**Trabajo 12**\n",
    "\n",
    "Cuente los duplicados explícitos en la tabla como un comando:"
   ]
  },
  {
   "cell_type": "code",
   "execution_count": 12,
   "id": "60bce603",
   "metadata": {},
   "outputs": [
    {
     "data": {
      "text/plain": [
       "3826"
      ]
     },
     "execution_count": 12,
     "metadata": {},
     "output_type": "execute_result"
    }
   ],
   "source": [
    "df.duplicated().sum()"
   ]
  },
  {
   "cell_type": "markdown",
   "id": "048977fc",
   "metadata": {},
   "source": [
    "**Trabajo 13**\n",
    "\n",
    "Llame al método especial ːpandas¹para eliminar duplicados obvios:"
   ]
  },
  {
   "cell_type": "code",
   "execution_count": 13,
   "id": "6217ab1a",
   "metadata": {},
   "outputs": [],
   "source": [
    "df = df.drop_duplicates().reset_index(drop=True)"
   ]
  },
  {
   "cell_type": "markdown",
   "id": "89ee24d8",
   "metadata": {},
   "source": [
    "**Trabajo 14**\n",
    "\n",
    "Una vez más contar los duplicados explícitos en la tabla - asegúrese de deshacerse de ellos por completo:"
   ]
  },
  {
   "cell_type": "code",
   "execution_count": 14,
   "id": "6ce4e75f",
   "metadata": {},
   "outputs": [
    {
     "data": {
      "text/plain": [
       "0"
      ]
     },
     "execution_count": 14,
     "metadata": {},
     "output_type": "execute_result"
    }
   ],
   "source": [
    "df.duplicated().sum()"
   ]
  },
  {
   "cell_type": "markdown",
   "id": "1710bd34",
   "metadata": {},
   "source": [
    "Ahora deshacerse de los duplicados implícitos en la columna ːgenre¹. Por ejemplo, el nombre del mismo género se puede escribir de una manera ligeramente diferente. Estos errores también afectarán al resultado del estudio.\n",
    "\n",
    "**Trabajo 15**.\n",
    "\n",
    "Muestra una lista de nombres de género únicos en orden alfabético. Para hacer esto:\n",
    "1. Extraer la columna de marco de datos deseada; \n",
    "2. Aplicarle el método de clasificación;\n",
    "3. Para la columna ordenada, llame al método que devuelve valores únicos de la columna."
   ]
  },
  {
   "cell_type": "code",
   "execution_count": 15,
   "id": "32dc225a",
   "metadata": {},
   "outputs": [
    {
     "data": {
      "text/plain": [
       "array(['acid', 'acoustic', 'action', 'adult', 'africa', 'afrikaans',\n",
       "       'alternative', 'alternativepunk', 'ambient', 'americana',\n",
       "       'animated', 'anime', 'arabesk', 'arabic', 'arena',\n",
       "       'argentinetango', 'art', 'audiobook', 'author', 'avantgarde',\n",
       "       'axé', 'baile', 'balkan', 'beats', 'bigroom', 'black', 'bluegrass',\n",
       "       'blues', 'bollywood', 'bossa', 'brazilian', 'breakbeat', 'breaks',\n",
       "       'broadway', 'cantautori', 'cantopop', 'canzone', 'caribbean',\n",
       "       'caucasian', 'celtic', 'chamber', 'chanson', 'children', 'chill',\n",
       "       'chinese', 'choral', 'christian', 'christmas', 'classical',\n",
       "       'classicmetal', 'club', 'colombian', 'comedy', 'conjazz',\n",
       "       'contemporary', 'country', 'cuban', 'dance', 'dancehall',\n",
       "       'dancepop', 'dark', 'death', 'deep', 'deutschrock', 'deutschspr',\n",
       "       'dirty', 'disco', 'dnb', 'documentary', 'downbeat', 'downtempo',\n",
       "       'drum', 'dub', 'dubstep', 'eastern', 'easy', 'electronic',\n",
       "       'electropop', 'emo', 'entehno', 'epicmetal', 'estrada', 'ethnic',\n",
       "       'eurofolk', 'european', 'experimental', 'extrememetal', 'fado',\n",
       "       'fairytail', 'film', 'fitness', 'flamenco', 'folk', 'folklore',\n",
       "       'folkmetal', 'folkrock', 'folktronica', 'forró', 'frankreich',\n",
       "       'französisch', 'french', 'funk', 'future', 'gangsta', 'garage',\n",
       "       'german', 'ghazal', 'gitarre', 'glitch', 'gospel', 'gothic',\n",
       "       'grime', 'grunge', 'gypsy', 'handsup', \"hard'n'heavy\", 'hardcore',\n",
       "       'hardstyle', 'hardtechno', 'hip', 'hip-hop', 'hiphop',\n",
       "       'historisch', 'holiday', 'hop', 'horror', 'house', 'hymn', 'idm',\n",
       "       'independent', 'indian', 'indie', 'indipop', 'industrial',\n",
       "       'inspirational', 'instrumental', 'international', 'irish', 'jam',\n",
       "       'japanese', 'jazz', 'jewish', 'jpop', 'jungle', 'k-pop',\n",
       "       'karadeniz', 'karaoke', 'kayokyoku', 'korean', 'laiko', 'latin',\n",
       "       'latino', 'leftfield', 'local', 'lounge', 'loungeelectronic',\n",
       "       'lovers', 'malaysian', 'mandopop', 'marschmusik', 'meditative',\n",
       "       'mediterranean', 'melodic', 'metal', 'metalcore', 'mexican',\n",
       "       'middle', 'minimal', 'miscellaneous', 'modern', 'mood', 'mpb',\n",
       "       'muslim', 'native', 'neoklassik', 'neue', 'new', 'newage',\n",
       "       'newwave', 'nu', 'nujazz', 'numetal', 'oceania', 'old', 'opera',\n",
       "       'orchestral', 'other', 'piano', 'podcasts', 'pop', 'popdance',\n",
       "       'popelectronic', 'popeurodance', 'poprussian', 'post',\n",
       "       'posthardcore', 'postrock', 'power', 'progmetal', 'progressive',\n",
       "       'psychedelic', 'punjabi', 'punk', 'quebecois', 'ragga', 'ram',\n",
       "       'rancheras', 'rap', 'rave', 'reggae', 'reggaeton', 'regional',\n",
       "       'relax', 'religious', 'retro', 'rhythm', 'rnb', 'rnr', 'rock',\n",
       "       'rockabilly', 'rockalternative', 'rockindie', 'rockother',\n",
       "       'romance', 'roots', 'ruspop', 'rusrap', 'rusrock', 'russian',\n",
       "       'salsa', 'samba', 'scenic', 'schlager', 'self', 'sertanejo',\n",
       "       'shanson', 'shoegazing', 'showtunes', 'singer', 'ska', 'skarock',\n",
       "       'slow', 'smooth', 'soft', 'soul', 'soulful', 'sound', 'soundtrack',\n",
       "       'southern', 'specialty', 'speech', 'spiritual', 'sport',\n",
       "       'stonerrock', 'surf', 'swing', 'synthpop', 'synthrock',\n",
       "       'sängerportrait', 'tango', 'tanzorchester', 'taraftar', 'tatar',\n",
       "       'tech', 'techno', 'teen', 'thrash', 'top', 'traditional',\n",
       "       'tradjazz', 'trance', 'tribal', 'trip', 'triphop', 'tropical',\n",
       "       'türk', 'türkçe', 'ukrrock', 'unknown', 'urban', 'uzbek',\n",
       "       'variété', 'vi', 'videogame', 'vocal', 'western', 'world',\n",
       "       'worldbeat', 'ïîï', 'электроника'], dtype=object)"
      ]
     },
     "execution_count": 15,
     "metadata": {},
     "output_type": "execute_result"
    }
   ],
   "source": [
    "df['genre'].sort_values().unique()"
   ]
  },
  {
   "cell_type": "markdown",
   "id": "93453ccf",
   "metadata": {},
   "source": [
    "**Trabajo 16**\n",
    "\n",
    "Revise la lista y encuentre duplicados implícitos del nombre ¿hiphop³. Estos pueden ser nombres con errores o nombres alternativos del mismo género.\n",
    "\n",
    "Verá los siguientes duplicados implícitos:\n",
    "* *hip*,\n",
    "* *hop*,\n",
    "* *hip-hop*.\n",
    "\n",
    "Para borrar la tabla, use el método ːreplace()) con dos argumentos: una lista de filas duplicadas (incluyendo *hip*, *hop*, y *hip-hop*) y una cadena con el valor correcto. Es necesario corregir la columna ːgenre[ en la tabla ¹df¹: reemplazar cada valor de la lista de duplicados con el correcto. En lugar de la tabla ¿hip ː, ¹hopñ y ¿hip-hopñ, la tabla debe tener el valor ¿hiphop:"
   ]
  },
  {
   "cell_type": "code",
   "execution_count": 16,
   "id": "ea039a23",
   "metadata": {},
   "outputs": [],
   "source": [
    "df = df.replace(['hip', 'hop', 'hip-hop'], 'hiphop')"
   ]
  },
  {
   "cell_type": "markdown",
   "id": "095421e9",
   "metadata": {},
   "source": [
    "**Trabajo 17**\n",
    "\n",
    "Compruebe que ha reemplazado los nombres incorrectos:\n",
    "\n",
    "hip,\n",
    "hop,\n",
    "hip-hop.\n",
    "\n",
    "Imprima una lista ordenada de valores de columna únicos ːgenre ê:"
   ]
  },
  {
   "cell_type": "code",
   "execution_count": 17,
   "id": "05a9290a",
   "metadata": {},
   "outputs": [
    {
     "data": {
      "text/plain": [
       "array(['acid', 'acoustic', 'action', 'adult', 'africa', 'afrikaans',\n",
       "       'alternative', 'alternativepunk', 'ambient', 'americana',\n",
       "       'animated', 'anime', 'arabesk', 'arabic', 'arena',\n",
       "       'argentinetango', 'art', 'audiobook', 'author', 'avantgarde',\n",
       "       'axé', 'baile', 'balkan', 'beats', 'bigroom', 'black', 'bluegrass',\n",
       "       'blues', 'bollywood', 'bossa', 'brazilian', 'breakbeat', 'breaks',\n",
       "       'broadway', 'cantautori', 'cantopop', 'canzone', 'caribbean',\n",
       "       'caucasian', 'celtic', 'chamber', 'chanson', 'children', 'chill',\n",
       "       'chinese', 'choral', 'christian', 'christmas', 'classical',\n",
       "       'classicmetal', 'club', 'colombian', 'comedy', 'conjazz',\n",
       "       'contemporary', 'country', 'cuban', 'dance', 'dancehall',\n",
       "       'dancepop', 'dark', 'death', 'deep', 'deutschrock', 'deutschspr',\n",
       "       'dirty', 'disco', 'dnb', 'documentary', 'downbeat', 'downtempo',\n",
       "       'drum', 'dub', 'dubstep', 'eastern', 'easy', 'electronic',\n",
       "       'electropop', 'emo', 'entehno', 'epicmetal', 'estrada', 'ethnic',\n",
       "       'eurofolk', 'european', 'experimental', 'extrememetal', 'fado',\n",
       "       'fairytail', 'film', 'fitness', 'flamenco', 'folk', 'folklore',\n",
       "       'folkmetal', 'folkrock', 'folktronica', 'forró', 'frankreich',\n",
       "       'französisch', 'french', 'funk', 'future', 'gangsta', 'garage',\n",
       "       'german', 'ghazal', 'gitarre', 'glitch', 'gospel', 'gothic',\n",
       "       'grime', 'grunge', 'gypsy', 'handsup', \"hard'n'heavy\", 'hardcore',\n",
       "       'hardstyle', 'hardtechno', 'hiphop', 'historisch', 'holiday',\n",
       "       'horror', 'house', 'hymn', 'idm', 'independent', 'indian', 'indie',\n",
       "       'indipop', 'industrial', 'inspirational', 'instrumental',\n",
       "       'international', 'irish', 'jam', 'japanese', 'jazz', 'jewish',\n",
       "       'jpop', 'jungle', 'k-pop', 'karadeniz', 'karaoke', 'kayokyoku',\n",
       "       'korean', 'laiko', 'latin', 'latino', 'leftfield', 'local',\n",
       "       'lounge', 'loungeelectronic', 'lovers', 'malaysian', 'mandopop',\n",
       "       'marschmusik', 'meditative', 'mediterranean', 'melodic', 'metal',\n",
       "       'metalcore', 'mexican', 'middle', 'minimal', 'miscellaneous',\n",
       "       'modern', 'mood', 'mpb', 'muslim', 'native', 'neoklassik', 'neue',\n",
       "       'new', 'newage', 'newwave', 'nu', 'nujazz', 'numetal', 'oceania',\n",
       "       'old', 'opera', 'orchestral', 'other', 'piano', 'podcasts', 'pop',\n",
       "       'popdance', 'popelectronic', 'popeurodance', 'poprussian', 'post',\n",
       "       'posthardcore', 'postrock', 'power', 'progmetal', 'progressive',\n",
       "       'psychedelic', 'punjabi', 'punk', 'quebecois', 'ragga', 'ram',\n",
       "       'rancheras', 'rap', 'rave', 'reggae', 'reggaeton', 'regional',\n",
       "       'relax', 'religious', 'retro', 'rhythm', 'rnb', 'rnr', 'rock',\n",
       "       'rockabilly', 'rockalternative', 'rockindie', 'rockother',\n",
       "       'romance', 'roots', 'ruspop', 'rusrap', 'rusrock', 'russian',\n",
       "       'salsa', 'samba', 'scenic', 'schlager', 'self', 'sertanejo',\n",
       "       'shanson', 'shoegazing', 'showtunes', 'singer', 'ska', 'skarock',\n",
       "       'slow', 'smooth', 'soft', 'soul', 'soulful', 'sound', 'soundtrack',\n",
       "       'southern', 'specialty', 'speech', 'spiritual', 'sport',\n",
       "       'stonerrock', 'surf', 'swing', 'synthpop', 'synthrock',\n",
       "       'sängerportrait', 'tango', 'tanzorchester', 'taraftar', 'tatar',\n",
       "       'tech', 'techno', 'teen', 'thrash', 'top', 'traditional',\n",
       "       'tradjazz', 'trance', 'tribal', 'trip', 'triphop', 'tropical',\n",
       "       'türk', 'türkçe', 'ukrrock', 'unknown', 'urban', 'uzbek',\n",
       "       'variété', 'vi', 'videogame', 'vocal', 'western', 'world',\n",
       "       'worldbeat', 'ïîï', 'электроника'], dtype=object)"
      ]
     },
     "execution_count": 17,
     "metadata": {},
     "output_type": "execute_result"
    }
   ],
   "source": [
    "df['genre'].sort_values().unique()"
   ]
  },
  {
   "cell_type": "markdown",
   "id": "9bc2f020",
   "metadata": {},
   "source": [
    "***Conclusiones**\n",
    "\n",
    "El procesamiento previo reveló tres problemas de datos:\n",
    "\n",
    "- violaciones al estilo de los titulares,\n",
    "- valores que faltan,\n",
    "- duplicados - explícitos e implícitos.\n",
    "\n",
    "Ha corregido los encabezados para simplificar el trabajo con la tabla. Sin duplicados, el estudio será más preciso.\n",
    "\n",
    "Los valores omitidos han sido reemplazados por ¹'unknown'ː. Aún está por verse si la omisión en la columna ¿genre³no dañará la investigación.\n",
    "\n",
    "Ahora podemos pasar a la prueba de hipótesis. \n",
    "\n",
    "## Hypothesis Testing\n",
    "\n",
    "#### Comparando el comportamiento del usuario entre dos mayúsculas\n",
    "\n",
    "La primera hipótesis afirma que los usuarios escuchan música de diferentes maneras en Moscú y San Petersburgo. Compruebe este supuesto durante tres días de la semana - lunes, miércoles y viernes. Para hacer esto:\n",
    "\n",
    "* Divida a los usuarios de Moscú y San Petersburgo.\n",
    "* Compare cuántas pistas escuchó cada grupo de usuarios los lunes, miércoles y viernes.\n",
    "\n",
    "**Trabajo 18**\n",
    "\n",
    "Para el entrenamiento, primero realice cada cálculo por separado. \n",
    "\n",
    "Evaluar la actividad de los usuarios en cada ciudad. Agrupar los datos de la ciudad y contar los anuncios en cada grupo."
   ]
  },
  {
   "cell_type": "code",
   "execution_count": 18,
   "id": "02df4f1c",
   "metadata": {},
   "outputs": [
    {
     "data": {
      "text/plain": [
       "city\n",
       "Moscow              42741\n",
       "Saint-Petersburg    18512\n",
       "Name: track, dtype: int64"
      ]
     },
     "execution_count": 18,
     "metadata": {},
     "output_type": "execute_result"
    }
   ],
   "source": [
    "cities = df.groupby('city')['track'].count()\n",
    "cities"
   ]
  },
  {
   "cell_type": "markdown",
   "id": "feb199eb",
   "metadata": {},
   "source": [
    "Hay más audiciones en Moscú que en St. Petersburg. Solo más usuarios en Moscú.\n",
    "\n",
    "**Trabajo 19**\n",
    "\n",
    "Ahora agrupa el día de la semana y cuenta las audiciones el lunes, miércoles y viernes. Tenga en cuenta que los datos contienen información sobre la audición solo para estos días."
   ]
  },
  {
   "cell_type": "code",
   "execution_count": 19,
   "id": "eb91ea05",
   "metadata": {},
   "outputs": [
    {
     "data": {
      "text/plain": [
       "day\n",
       "Friday       21840\n",
       "Monday       21354\n",
       "Wednesday    18059\n",
       "Name: track, dtype: int64"
      ]
     },
     "execution_count": 19,
     "metadata": {},
     "output_type": "execute_result"
    }
   ],
   "source": [
    "days = df.groupby('day')['track'].count()\n",
    "days"
   ]
  },
  {
   "cell_type": "markdown",
   "id": "c218847d",
   "metadata": {},
   "source": [
    "En promedio, los usuarios de dos ciudades son menos activos los miércoles. Pero la imagen puede cambiar si considera cada ciudad por separado.\n",
    "\n",
    "**Trabajo 20**\n",
    "\n",
    "\n",
    "Ya has visto cómo funciona el grupo en la ciudad y en los días de la semana. Ahora escribe una característica que combine estos dos cálculos.\n",
    "\n",
    "Cree una función ːnumber_tracks()ː que cuente listados para un día y ciudad dados. Necesitará dos parámetros:\n",
    "* día de la semana,\n",
    "* nombre de la ciudad.\n",
    "\n",
    "En funciones, guarde en una fila variable de la tabla de origen con el valor:\n",
    "  * En la columna día ːdísÂ es igual al parámetro ¹día¹,\n",
    "  * en la columna ːcityľ es igual al parámetro ːcity ː.\n",
    "\n",
    "Para ello, aplique el filtrado secuencial con indexación lógica (o expresiones lógicas complejas en una sola línea si ya está familiarizado con ellas).\n",
    "\n",
    "A continuación, calcule los valores en la columna [user_id# de la tabla resultante. Guarde el resultado en la nueva variable. Devuelva esta variable desde la función."
   ]
  },
  {
   "cell_type": "code",
   "execution_count": 20,
   "id": "151a1ce7",
   "metadata": {},
   "outputs": [],
   "source": [
    "def number_tracks(day, city):\n",
    "    track_list = df[df['day'] == day]\n",
    "    track_list = track_list[track_list['city'] == city]\n",
    "    track_list_count = track_list['user_id'].count()\n",
    "    return track_list_count"
   ]
  },
  {
   "cell_type": "markdown",
   "id": "0dacaf07",
   "metadata": {},
   "source": [
    "**Trabajo 21**\n",
    "\n",
    "Llama a ːnumber_tracks()) seis veces, cambiando el valor del parámetro para obtener los datos de cada ciudad en cada uno de los tres días."
   ]
  },
  {
   "cell_type": "code",
   "execution_count": 21,
   "id": "58f48e67",
   "metadata": {},
   "outputs": [
    {
     "data": {
      "text/plain": [
       "15740"
      ]
     },
     "execution_count": 21,
     "metadata": {},
     "output_type": "execute_result"
    }
   ],
   "source": [
    "result = number_tracks('Monday', 'Moscow')\n",
    "result"
   ]
  },
  {
   "cell_type": "code",
   "execution_count": 22,
   "id": "4420683b",
   "metadata": {},
   "outputs": [
    {
     "data": {
      "text/plain": [
       "5614"
      ]
     },
     "execution_count": 22,
     "metadata": {},
     "output_type": "execute_result"
    }
   ],
   "source": [
    "result = number_tracks('Monday', 'Saint-Petersburg')\n",
    "result"
   ]
  },
  {
   "cell_type": "code",
   "execution_count": 23,
   "id": "ef2ca421",
   "metadata": {},
   "outputs": [
    {
     "data": {
      "text/plain": [
       "11056"
      ]
     },
     "execution_count": 23,
     "metadata": {},
     "output_type": "execute_result"
    }
   ],
   "source": [
    "result = number_tracks('Wednesday', 'Moscow')\n",
    "result"
   ]
  },
  {
   "cell_type": "code",
   "execution_count": 24,
   "id": "ce5949b8",
   "metadata": {},
   "outputs": [
    {
     "data": {
      "text/plain": [
       "7003"
      ]
     },
     "execution_count": 24,
     "metadata": {},
     "output_type": "execute_result"
    }
   ],
   "source": [
    "result = number_tracks('Wednesday', 'Saint-Petersburg')\n",
    "result"
   ]
  },
  {
   "cell_type": "code",
   "execution_count": 25,
   "id": "a4a339d3",
   "metadata": {},
   "outputs": [
    {
     "data": {
      "text/plain": [
       "15945"
      ]
     },
     "execution_count": 25,
     "metadata": {},
     "output_type": "execute_result"
    }
   ],
   "source": [
    "result = number_tracks('Friday', 'Moscow')\n",
    "result"
   ]
  },
  {
   "cell_type": "code",
   "execution_count": 26,
   "id": "09c50e11",
   "metadata": {},
   "outputs": [
    {
     "data": {
      "text/plain": [
       "5895"
      ]
     },
     "execution_count": 26,
     "metadata": {},
     "output_type": "execute_result"
    }
   ],
   "source": [
    "result = number_tracks('Friday', 'Saint-Petersburg')\n",
    "result"
   ]
  },
  {
   "cell_type": "markdown",
   "id": "fc2030d9",
   "metadata": {},
   "source": [
    "**Trabajo 22**\n",
    "\n",
    "Cree con la ayuda del constructor un cuadro donde\n",
    "* los nombres de las columnas - € ['ciudad', 'lunes', 'miércoles', 'viernes']);\n",
    "* datos - los resultados que obtuvo con la ayuda de ːnumber_tracks."
   ]
  },
  {
   "cell_type": "code",
   "execution_count": 28,
   "id": "a7a91c63",
   "metadata": {},
   "outputs": [
    {
     "name": "stdout",
     "output_type": "stream",
     "text": [
      "               city  monday  wednesday  friday\n",
      "0            Moscow   15740      11056   15945\n",
      "1  Saint-Petersburg    5614       7003    5895\n"
     ]
    }
   ],
   "source": [
    "data = [['Moscow', 15740, 11056, 15945],\n",
    "       ['Saint-Petersburg', 5614, 7003, 5895]] # Таблица с результатами\n",
    "columns = ['city', 'monday', 'wednesday', 'friday']\n",
    "print(pd.DataFrame(data=data, columns=columns))"
   ]
  },
  {
   "cell_type": "markdown",
   "id": "91505c14",
   "metadata": {},
   "source": [
    "***Conclusiones**\n",
    "\n",
    "Los datos muestran la diferencia en el comportamiento del usuario:\n",
    "\n",
    "- En Moscú, el pico de las audiciones cae el lunes y el viernes, y el miércoles se nota un descenso.\n",
    "- En St. Petersburg, por el contrario, más gente escucha música los miércoles.\n",
    "\n",
    "Así que los datos apoyan la primera hipótesis.\n",
    "\n",
    "Música al principio y al final de la semana\n",
    "\n",
    "Según la segunda hipótesis, el lunes por la mañana, algunos géneros prevalecen en Moscú y otros en Petersburgo. También el viernes por la noche, prevalecen diferentes géneros - dependiendo de la ciudad.\n",
    "\n",
    "**Trabajo 23**\n",
    "\n",
    "Guarde tablas con datos en dos variables:\n",
    "* para Moscú - en ːmoscow_general ː;\n",
    "* para San Petersburgo - en [spb_general¹."
   ]
  },
  {
   "cell_type": "code",
   "execution_count": 29,
   "id": "1fb0cfd9",
   "metadata": {},
   "outputs": [],
   "source": [
    "moscow_general = df[df['city'] == 'Moscow']"
   ]
  },
  {
   "cell_type": "code",
   "execution_count": 30,
   "id": "16dd1014",
   "metadata": {},
   "outputs": [],
   "source": [
    "spb_general = df[df['city'] == 'Saint-Petersburg']"
   ]
  },
  {
   "cell_type": "markdown",
   "id": "46310ece",
   "metadata": {},
   "source": [
    "**Trabajo 24**.\n",
    "\n",
    "Cree la función ːgenre_weekday()‍ con cuatro parámetros:\n",
    "* tabla (dataframe) con datos\n",
    "* día de la semana,\n",
    "* marca de tiempo inicial en el formato 'hh:mm', \n",
    "* la última marca de tiempo en el formato 'hh:mm'.\n",
    "\n",
    "La función debe devolver información sobre los 10 principales géneros de las pistas que se escucharon en el día especificado, entre las dos marcas de tiempo."
   ]
  },
  {
   "cell_type": "code",
   "execution_count": 31,
   "id": "c435b6ee",
   "metadata": {},
   "outputs": [],
   "source": [
    "def genre_weekday(df, day, time1, time2):\n",
    "    genre_df = df[df['day'] == day]\n",
    "    genre_df = genre_df[genre_df['time'] < time2]\n",
    "    genre_df = genre_df[genre_df['time'] > time1]\n",
    "    genre_df_count = genre_df.groupby('genre')['genre'].count()\n",
    "    genre_df_sorted = genre_df_count.sort_values(ascending = False)\n",
    "    return genre_df_sorted[:10]"
   ]
  },
  {
   "cell_type": "markdown",
   "id": "2f05bba4",
   "metadata": {},
   "source": [
    "**Trabajo 25**\n",
    "\n",
    "\n",
    "Compare los resultados de la función para Moscú y San Petersburgo el lunes por la mañana (de 7:00 a 11:00) y el viernes por la noche (de 17:00 a 23:00):"
   ]
  },
  {
   "cell_type": "code",
   "execution_count": 32,
   "id": "173498a6",
   "metadata": {},
   "outputs": [
    {
     "name": "stdout",
     "output_type": "stream",
     "text": [
      "genre\n",
      "pop            781\n",
      "dance          549\n",
      "electronic     480\n",
      "rock           474\n",
      "hiphop         286\n",
      "ruspop         186\n",
      "world          181\n",
      "rusrap         175\n",
      "alternative    164\n",
      "unknown        161\n",
      "Name: genre, dtype: int64\n"
     ]
    }
   ],
   "source": [
    "print(genre_weekday(moscow_general, 'Monday', '07:00', '11:00'))"
   ]
  },
  {
   "cell_type": "code",
   "execution_count": 33,
   "id": "60c01fa0",
   "metadata": {},
   "outputs": [
    {
     "name": "stdout",
     "output_type": "stream",
     "text": [
      "genre\n",
      "pop            218\n",
      "dance          182\n",
      "rock           162\n",
      "electronic     147\n",
      "hiphop          80\n",
      "ruspop          64\n",
      "alternative     58\n",
      "rusrap          55\n",
      "jazz            44\n",
      "classical       40\n",
      "Name: genre, dtype: int64\n"
     ]
    }
   ],
   "source": [
    "print(genre_weekday(spb_general, 'Monday', '07:00', '11:00'))"
   ]
  },
  {
   "cell_type": "code",
   "execution_count": 34,
   "id": "2381d4a6",
   "metadata": {},
   "outputs": [
    {
     "name": "stdout",
     "output_type": "stream",
     "text": [
      "genre\n",
      "pop            713\n",
      "rock           517\n",
      "dance          495\n",
      "electronic     482\n",
      "hiphop         273\n",
      "world          208\n",
      "ruspop         170\n",
      "alternative    163\n",
      "classical      163\n",
      "rusrap         142\n",
      "Name: genre, dtype: int64\n"
     ]
    }
   ],
   "source": [
    "print(genre_weekday(moscow_general, 'Friday', '17:00', '23:00'))"
   ]
  },
  {
   "cell_type": "code",
   "execution_count": 35,
   "id": "c17bbb59",
   "metadata": {},
   "outputs": [
    {
     "name": "stdout",
     "output_type": "stream",
     "text": [
      "genre\n",
      "pop            256\n",
      "electronic     216\n",
      "rock           216\n",
      "dance          210\n",
      "hiphop          97\n",
      "alternative     63\n",
      "jazz            61\n",
      "classical       60\n",
      "rusrap          59\n",
      "world           54\n",
      "Name: genre, dtype: int64\n"
     ]
    }
   ],
   "source": [
    "print(genre_weekday(spb_general, 'Friday', '17:00', '23:00'))"
   ]
  },
  {
   "cell_type": "markdown",
   "id": "c18c6a71",
   "metadata": {},
   "source": [
    "***Conclusiones**\n",
    "\n",
    "Si comparas los 10 mejores géneros el lunes por la mañana, puedes sacar las siguientes conclusiones:\n",
    "\n",
    "1. Moscú y San. Petersburgo escuchar música similar. La única diferencia - la calificación de Moscú entró en el género \"mundo\", y en Petersburgo - jazz y clásicos.\n",
    "\n",
    "2. En Moscú, los valores que faltaban eran tantos que el valor de ¹'unknown'³ ocupaba el décimo lugar entre los géneros más populares. Así que los valores perdidos son una parte significativa de los datos y amenazan la credibilidad del estudio.\n",
    "\n",
    "El viernes por la noche no cambia esta imagen. Algunos géneros suben un poco más, otros descienden, pero en general los 10 primeros siguen siendo los mismos.\n",
    "\n",
    "Así, la segunda hipótesis solo se confirmó parcialmente:\n",
    "* Los usuarios escuchan música similar al comienzo de la semana y al final.\n",
    "* La diferencia entre Moscú y St. Petersburg no es demasiado pronunciada.\n",
    "\n",
    "Sin embargo, las omisiones en los datos arrojan dudas sobre este resultado. Hay tantos de ellos en Moscú que la parte superior 10 calificación podría parecer diferente si no para los datos perdidos sobre los géneros.\n",
    "\n",
    "### Preferencias de género en Moscú y Petersburgo\n",
    "\n",
    "Hipótesis: Petersburgo - la capital del rap, la música de este género se escucha allí más a menudo que en Moscú.  Y Moscú es una ciudad de contrastes, en la que, sin embargo, domina la música pop.\n",
    "\n",
    "**Trabajo 26**\n",
    "\n",
    "Agrupa la tabla ːmoscow_general¹ por género y considera escuchar las canciones de cada género como ¹count(). A continuación, ordenar el resultado en orden descendente y guardarlo en la tabla ¿moscow_genres¹."
   ]
  },
  {
   "cell_type": "code",
   "execution_count": 36,
   "id": "e5da3a50",
   "metadata": {},
   "outputs": [],
   "source": [
    "moscow_genres = moscow_general.groupby('genre')['genre'].count().sort_values(ascending = False)"
   ]
  },
  {
   "cell_type": "markdown",
   "id": "22390d25",
   "metadata": {},
   "source": [
    "**Trabajo 27**\n",
    "\n",
    "Mostrar las primeras diez líneas de ːmoscow_genres e:"
   ]
  },
  {
   "cell_type": "code",
   "execution_count": 37,
   "id": "39b8c896",
   "metadata": {},
   "outputs": [
    {
     "data": {
      "text/plain": [
       "genre\n",
       "pop            5892\n",
       "dance          4435\n",
       "rock           3965\n",
       "electronic     3786\n",
       "hiphop         2096\n",
       "classical      1616\n",
       "world          1432\n",
       "alternative    1379\n",
       "ruspop         1372\n",
       "rusrap         1161\n",
       "Name: genre, dtype: int64"
      ]
     },
     "execution_count": 37,
     "metadata": {},
     "output_type": "execute_result"
    }
   ],
   "source": [
    "moscow_genres[:10]"
   ]
  },
  {
   "cell_type": "markdown",
   "id": "7d182cd9",
   "metadata": {},
   "source": [
    "**Trabajo 28**\n",
    "\n",
    "\n",
    "Ahora repite lo mismo para Petersburgo.\n",
    "\n",
    "Agrupar la tabla ːspb_general= por género. Contar escuchando las pistas de cada género. Ordenar el resultado en orden descendente y guardarlo en la tabla ¿spb_genres ê:"
   ]
  },
  {
   "cell_type": "code",
   "execution_count": 38,
   "id": "08da76d0",
   "metadata": {},
   "outputs": [],
   "source": [
    "spb_genres = spb_general.groupby('genre')['genre'].count().sort_values(ascending = False)\n"
   ]
  },
  {
   "cell_type": "markdown",
   "id": "97b86855",
   "metadata": {},
   "source": [
    "**Tarea 29**\n",
    "\n",
    "Mostrar las primeras diez líneas de ːspb_genres e:"
   ]
  },
  {
   "cell_type": "code",
   "execution_count": 39,
   "id": "a20b7102",
   "metadata": {},
   "outputs": [
    {
     "data": {
      "text/plain": [
       "genre\n",
       "pop            2431\n",
       "dance          1932\n",
       "rock           1879\n",
       "electronic     1736\n",
       "hiphop          960\n",
       "alternative     649\n",
       "classical       646\n",
       "rusrap          564\n",
       "ruspop          538\n",
       "world           515\n",
       "Name: genre, dtype: int64"
      ]
     },
     "execution_count": 39,
     "metadata": {},
     "output_type": "execute_result"
    }
   ],
   "source": [
    "spb_genres[:10]"
   ]
  },
  {
   "cell_type": "markdown",
   "id": "fe5f1062",
   "metadata": {},
   "source": [
    "***Conclusiones**\n",
    "\n",
    "La hipótesis fue parcialmente confirmada:\n",
    "* La música pop es el género más popular en Moscú, como sugiere la hipótesis. Por otra parte, en el top 10 géneros hay un género cercano - música popular rusa.\n",
    "* Contrariamente a las expectativas, el rap es igualmente popular en Moscú y Petersburgo. \n",
    "\n",
    "## Resultados de la investigación\n",
    "\n",
    "Probaste tres hipótesis y estableciste:\n",
    "\n",
    "1. El día de la semana influye de diferentes maneras en la actividad de los usuarios en Moscú y Petersburgo. \n",
    "\n",
    "La primera hipótesis está totalmente confirmada.\n",
    "\n",
    "2. Las preferencias musicales no cambian mucho en una semana - si es Moscú o Petersburgo. Pequeñas diferencias son visibles al comienzo de la semana, los lunes:\n",
    "* escuchar música \"mundial\" en Moscú,\n",
    "* en Petersburgo - jazz y clásicos.\n",
    "\n",
    "Por lo tanto, la segunda hipótesis solo se confirmó parcialmente. Este resultado podría haber sido diferente si no fuera por los datos que faltaban.\n",
    "\n",
    "3. En los gustos de los usuarios de Moscú y St. Petersburgo hay más común que las diferencias.\n",
    "\n",
    "La tercera hipótesis no es cierta. Si existen diferencias en las preferencias, son invisibles para el público en general."
   ]
  },
  {
   "cell_type": "code",
   "execution_count": null,
   "id": "625ad42c",
   "metadata": {},
   "outputs": [],
   "source": []
  }
 ],
 "metadata": {
  "kernelspec": {
   "display_name": "Python 3 (ipykernel)",
   "language": "python",
   "name": "python3"
  },
  "language_info": {
   "codemirror_mode": {
    "name": "ipython",
    "version": 3
   },
   "file_extension": ".py",
   "mimetype": "text/x-python",
   "name": "python",
   "nbconvert_exporter": "python",
   "pygments_lexer": "ipython3",
   "version": "3.9.13"
  }
 },
 "nbformat": 4,
 "nbformat_minor": 5
}
