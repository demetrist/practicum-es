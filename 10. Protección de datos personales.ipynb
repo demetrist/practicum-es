{
 "cells": [
  {
   "cell_type": "markdown",
   "metadata": {},
   "source": [
    "# Protección de datos personales"
   ]
  },
  {
   "cell_type": "markdown",
   "metadata": {},
   "source": [
    "Es necesario proteger los datos de la compañía de seguros \"Al menos inundar\". Desarrollar un método de conversión de datos para dificultar la recuperación de información personal. Explicar la corrección de su funcionamiento.\n",
    "\n",
    "Es necesario proteger los datos para que la calidad de los modelos de aprendizaje automático no se deteriore durante la transformación. No es necesario seleccionar el mejor modelo.\n",
    "\n",
    "#### Plan de Acción\n",
    "\n",
    "1. Descargar y revisar los datos.\n",
    "2. Responda a la pregunta y explique la solución. \n",
    " Las características se multiplican por la matriz invertible. ¿Cambiará la calidad de la regresión lineal? (Se puede enseñar de nuevo.)  \n",
    " a. Cambiará. Proporcione ejemplos de matrices.  \n",
    " b. No cambiará. Especifique cómo se relacionan los parámetros de regresión lineal en el original y el convertido.\n",
    "3. Proponer un algoritmo de conversión de datos para resolver el problema. Explicar por qué la calidad de la regresión lineal no cambiará.\n",
    "4. Programe este algoritmo usando operaciones de matriz. Compruebe que la calidad de la regresión lineal de sklearn es la misma antes y después de la conversión. Aplique la métrica R2."
   ]
  },
  {
   "cell_type": "markdown",
   "metadata": {},
   "source": [
    "## Carga de datos"
   ]
  },
  {
   "cell_type": "code",
   "execution_count": 1,
   "metadata": {},
   "outputs": [],
   "source": [
    "import pandas as pd\n",
    "import numpy as np\n",
    "from sklearn.metrics import r2_score"
   ]
  },
  {
   "cell_type": "code",
   "execution_count": 2,
   "metadata": {},
   "outputs": [
    {
     "name": "stdout",
     "output_type": "stream",
     "text": [
      "<class 'pandas.core.frame.DataFrame'>\n",
      "RangeIndex: 5000 entries, 0 to 4999\n",
      "Data columns (total 5 columns):\n",
      " #   Column             Non-Null Count  Dtype  \n",
      "---  ------             --------------  -----  \n",
      " 0   Пол                5000 non-null   int64  \n",
      " 1   Возраст            5000 non-null   float64\n",
      " 2   Зарплата           5000 non-null   float64\n",
      " 3   Члены семьи        5000 non-null   int64  \n",
      " 4   Страховые выплаты  5000 non-null   int64  \n",
      "dtypes: float64(2), int64(3)\n",
      "memory usage: 195.4 KB\n"
     ]
    }
   ],
   "source": [
    "df = pd.read_csv('/datasets/insurance.csv')\n",
    "df.info()"
   ]
  },
  {
   "cell_type": "markdown",
   "metadata": {},
   "source": [
    "Ni permisos."
   ]
  },
  {
   "cell_type": "code",
   "execution_count": 3,
   "metadata": {},
   "outputs": [
    {
     "data": {
      "text/html": [
       "<div>\n",
       "<style scoped>\n",
       "    .dataframe tbody tr th:only-of-type {\n",
       "        vertical-align: middle;\n",
       "    }\n",
       "\n",
       "    .dataframe tbody tr th {\n",
       "        vertical-align: top;\n",
       "    }\n",
       "\n",
       "    .dataframe thead th {\n",
       "        text-align: right;\n",
       "    }\n",
       "</style>\n",
       "<table border=\"1\" class=\"dataframe\">\n",
       "  <thead>\n",
       "    <tr style=\"text-align: right;\">\n",
       "      <th></th>\n",
       "      <th>Пол</th>\n",
       "      <th>Возраст</th>\n",
       "      <th>Зарплата</th>\n",
       "      <th>Члены семьи</th>\n",
       "      <th>Страховые выплаты</th>\n",
       "    </tr>\n",
       "  </thead>\n",
       "  <tbody>\n",
       "    <tr>\n",
       "      <th>0</th>\n",
       "      <td>1</td>\n",
       "      <td>41.0</td>\n",
       "      <td>49600.0</td>\n",
       "      <td>1</td>\n",
       "      <td>0</td>\n",
       "    </tr>\n",
       "    <tr>\n",
       "      <th>1</th>\n",
       "      <td>0</td>\n",
       "      <td>46.0</td>\n",
       "      <td>38000.0</td>\n",
       "      <td>1</td>\n",
       "      <td>1</td>\n",
       "    </tr>\n",
       "    <tr>\n",
       "      <th>2</th>\n",
       "      <td>0</td>\n",
       "      <td>29.0</td>\n",
       "      <td>21000.0</td>\n",
       "      <td>0</td>\n",
       "      <td>0</td>\n",
       "    </tr>\n",
       "    <tr>\n",
       "      <th>3</th>\n",
       "      <td>0</td>\n",
       "      <td>21.0</td>\n",
       "      <td>41700.0</td>\n",
       "      <td>2</td>\n",
       "      <td>0</td>\n",
       "    </tr>\n",
       "    <tr>\n",
       "      <th>4</th>\n",
       "      <td>1</td>\n",
       "      <td>28.0</td>\n",
       "      <td>26100.0</td>\n",
       "      <td>0</td>\n",
       "      <td>0</td>\n",
       "    </tr>\n",
       "  </tbody>\n",
       "</table>\n",
       "</div>"
      ],
      "text/plain": [
       "   Пол  Возраст  Зарплата  Члены семьи  Страховые выплаты\n",
       "0    1     41.0   49600.0            1                  0\n",
       "1    0     46.0   38000.0            1                  1\n",
       "2    0     29.0   21000.0            0                  0\n",
       "3    0     21.0   41700.0            2                  0\n",
       "4    1     28.0   26100.0            0                  0"
      ]
     },
     "execution_count": 3,
     "metadata": {},
     "output_type": "execute_result"
    }
   ],
   "source": [
    "df.head()"
   ]
  },
  {
   "cell_type": "markdown",
   "metadata": {},
   "source": [
    "En las columnas Edad y Salario puede cambiar el conjunto para ahorrar recursos de procesamiento."
   ]
  },
  {
   "cell_type": "code",
   "execution_count": 4,
   "metadata": {},
   "outputs": [],
   "source": [
    "df[['Зарплата', 'Возраст']] = df[['Зарплата', 'Возраст']].astype('int')\n"
   ]
  },
  {
   "cell_type": "code",
   "execution_count": 5,
   "metadata": {},
   "outputs": [
    {
     "name": "stdout",
     "output_type": "stream",
     "text": [
      "<class 'pandas.core.frame.DataFrame'>\n",
      "RangeIndex: 5000 entries, 0 to 4999\n",
      "Data columns (total 5 columns):\n",
      " #   Column             Non-Null Count  Dtype\n",
      "---  ------             --------------  -----\n",
      " 0   Пол                5000 non-null   int64\n",
      " 1   Возраст            5000 non-null   int64\n",
      " 2   Зарплата           5000 non-null   int64\n",
      " 3   Члены семьи        5000 non-null   int64\n",
      " 4   Страховые выплаты  5000 non-null   int64\n",
      "dtypes: int64(5)\n",
      "memory usage: 195.4 KB\n"
     ]
    }
   ],
   "source": [
    "df.info()"
   ]
  },
  {
   "cell_type": "markdown",
   "metadata": {},
   "source": [
    "Buscaremos duplicados por si acaso."
   ]
  },
  {
   "cell_type": "code",
   "execution_count": 6,
   "metadata": {},
   "outputs": [
    {
     "data": {
      "text/plain": [
       "153"
      ]
     },
     "execution_count": 6,
     "metadata": {},
     "output_type": "execute_result"
    }
   ],
   "source": [
    "df.duplicated().sum()"
   ]
  },
  {
   "cell_type": "code",
   "execution_count": 7,
   "metadata": {},
   "outputs": [],
   "source": [
    "df = df.drop_duplicates()"
   ]
  },
  {
   "cell_type": "markdown",
   "metadata": {},
   "source": [
    "Se han eliminado los duplicados. Puede continuar con el estudio."
   ]
  },
  {
   "cell_type": "markdown",
   "metadata": {},
   "source": [
    "## Multiplicación de matrices"
   ]
  },
  {
   "cell_type": "markdown",
   "metadata": {},
   "source": [
    "Designación:\n",
    "\n",
    "- $X$ - matriz de características (la columna cero consta de unidades)\n",
    "\n",
    "- $y$ - vector de función objetivo\n",
    "\n",
    "- $P$ - matriz multiplicada por características\n",
    "\n",
    "- $w$ - vector de pesos de regresión lineal (elemento cero es desplazamiento)"
   ]
  },
  {
   "cell_type": "markdown",
   "metadata": {},
   "source": [
    "Predicciones:\n",
    "\n",
    "$$\n",
    "a = Xw\n",
    "$$\n",
    "\n",
    "Objetivo de la formación:\n",
    "\n",
    "$$\n",
    "w = argmin_w MSE(Xw, y)\n",
    "$$\n",
    "\n",
    "Fórmula de aprendizaje:\n",
    "\n",
    "$$\n",
    "w = (X T X) {-1} X T y\n",
    "$$\n",
    "\n",
    "Las características se multiplican por la matriz invertible - ¿cambiará la calidad de la regresión lineal?\n",
    "\n",
    "**Respuesta:** La calidad de la regresión lineal no cambiará.\n",
    "\n",
    "**Justificación:**\n",
    "\n",
    "Predicción para nueva matriz: $ a_P = XPw $\n",
    "\n",
    "Fórmula del vector de peso: $ w = ((XP) T (XP)) {-1} (XP) T y $\n",
    "\n",
    "\n",
    "Sustituya el valor del vector de pesos:\n",
    " \n",
    "$$ a_P = (XP)((XP) T (XP)) {-1} (XP) T y $$\n",
    "\n",
    "Abrir los paréntesis según la propiedad: $ a_P = (XP)(P TX TXP) {-1}P TX T y $\n",
    "\n",
    "Quite P de los corchetes: $ a_P = XPP {-1}(X TX) {-1}(P T) {-1}P TX Ty $\n",
    "\n",
    "Porque cuando se multiplica por la matriz inversa, obtenemos una unidad: $ (P T) {-1}  P T = E $ $,\n",
    "\n",
    "Obtener: $ a_P = X(X T X) {-1}X T Y $\n",
    "\n",
    "Por lo tanto: $ a_P= Xw=a $\n",
    "\n",
    "La fórmula original del vector de predicción era igual a la fórmula del vector de predicción en el caso de que la matriz de características se multiplicara por la matriz invertible. La calidad de la regresión lineal no ha cambiado."
   ]
  },
  {
   "cell_type": "markdown",
   "metadata": {},
   "source": [
    "## Algoritmo de transformación"
   ]
  },
  {
   "cell_type": "markdown",
   "metadata": {},
   "source": [
    "***Algoritmo*\n",
    "\n",
    "1. Generar ancho de matriz cuadrado invertible igual al número de características (4x4)\n",
    "2. Multiplicar la matriz de características original por la generada\n",
    "3. Calcular la calidad del modelo en la matriz resultante y compararla con la calidad del modelo en la matriz de datos de entrada."
   ]
  },
  {
   "cell_type": "markdown",
   "metadata": {},
   "source": [
    "**Justificación**\n",
    "\n",
    "Encontramos que las predicciones de la matriz modificada y original no deben diferir, por lo que los resultados de la métrica R2 deben ser iguales. De esta manera podemos demostrar que hemos protegido correctamente nuestros datos."
   ]
  },
  {
   "cell_type": "markdown",
   "metadata": {},
   "source": [
    "## Comprobación de algoritmos"
   ]
  },
  {
   "cell_type": "code",
   "execution_count": 8,
   "metadata": {},
   "outputs": [],
   "source": [
    "# característica original\n",
    "\n",
    "features = df.drop('Страховые выплаты', axis=1)\n",
    "target = df['Страховые выплаты']"
   ]
  },
  {
   "cell_type": "code",
   "execution_count": 9,
   "metadata": {},
   "outputs": [
    {
     "data": {
      "text/plain": [
       "array([[-1.2863119 ,  1.67646465,  0.18809933,  0.33235236],\n",
       "       [ 1.48453311, -0.42958879, -0.11353671, -0.53417479],\n",
       "       [-1.11981203,  0.31471632,  0.27397941,  0.44891385],\n",
       "       [ 0.14097508,  0.96625637, -1.70894976, -1.32300398]])"
      ]
     },
     "metadata": {},
     "output_type": "display_data"
    }
   ],
   "source": [
    "# generar matriz invertible\n",
    "\n",
    "matrix_generated = np.random.normal(size=(4, 4))\n",
    "display (matrix_generated)"
   ]
  },
  {
   "cell_type": "code",
   "execution_count": 10,
   "metadata": {},
   "outputs": [
    {
     "data": {
      "text/plain": [
       "array([[  0.57678892,  -2.08232863,  -4.37907034,  -0.5002258 ],\n",
       "       [  0.87359156,  -0.59794716,  -1.81572027,  -0.15521757],\n",
       "       [ -0.18618215,   6.04129523,   8.26279452,   0.31768403],\n",
       "       [  0.93998373,  -8.46225479, -12.4659427 ,  -1.33287988]])"
      ]
     },
     "metadata": {},
     "output_type": "display_data"
    }
   ],
   "source": [
    "# hacer matriz inversa (en caso de que el original sea irreversible - será un error)\n",
    "\n",
    "matrix_invert = np.linalg.inv(matrix_generated)\n",
    "display (matrix_invert)"
   ]
  },
  {
   "cell_type": "code",
   "execution_count": 11,
   "metadata": {},
   "outputs": [],
   "source": [
    "# crear una nueva matriz, multiplicando la matriz de características original por la generada\n",
    "\n",
    "matrix = features.values\n",
    "matrix_new = matrix @ matrix_invert\n",
    "features_incode = pd.DataFrame (matrix_new, columns = features.columns)"
   ]
  },
  {
   "cell_type": "code",
   "execution_count": 12,
   "metadata": {},
   "outputs": [
    {
     "data": {
      "text/html": [
       "<div>\n",
       "<style scoped>\n",
       "    .dataframe tbody tr th:only-of-type {\n",
       "        vertical-align: middle;\n",
       "    }\n",
       "\n",
       "    .dataframe tbody tr th {\n",
       "        vertical-align: top;\n",
       "    }\n",
       "\n",
       "    .dataframe thead th {\n",
       "        text-align: right;\n",
       "    }\n",
       "</style>\n",
       "<table border=\"1\" class=\"dataframe\">\n",
       "  <thead>\n",
       "    <tr style=\"text-align: right;\">\n",
       "      <th></th>\n",
       "      <th>Пол</th>\n",
       "      <th>Возраст</th>\n",
       "      <th>Зарплата</th>\n",
       "      <th>Члены семьи</th>\n",
       "    </tr>\n",
       "  </thead>\n",
       "  <tbody>\n",
       "    <tr>\n",
       "      <th>0</th>\n",
       "      <td>-9197.300769</td>\n",
       "      <td>299613.183183</td>\n",
       "      <td>409743.318514</td>\n",
       "      <td>15748.930939</td>\n",
       "    </tr>\n",
       "    <tr>\n",
       "      <th>1</th>\n",
       "      <td>-7033.796623</td>\n",
       "      <td>229533.251063</td>\n",
       "      <td>313890.202582</td>\n",
       "      <td>12063.520311</td>\n",
       "    </tr>\n",
       "    <tr>\n",
       "      <th>2</th>\n",
       "      <td>-3884.491060</td>\n",
       "      <td>126849.859444</td>\n",
       "      <td>173466.028975</td>\n",
       "      <td>6666.863353</td>\n",
       "    </tr>\n",
       "    <tr>\n",
       "      <th>3</th>\n",
       "      <td>-7743.570395</td>\n",
       "      <td>251892.529853</td>\n",
       "      <td>344495.469360</td>\n",
       "      <td>13241.498787</td>\n",
       "    </tr>\n",
       "    <tr>\n",
       "      <th>4</th>\n",
       "      <td>-4834.316844</td>\n",
       "      <td>157658.980755</td>\n",
       "      <td>215603.717663</td>\n",
       "      <td>8286.706906</td>\n",
       "    </tr>\n",
       "    <tr>\n",
       "      <th>...</th>\n",
       "      <td>...</td>\n",
       "      <td>...</td>\n",
       "      <td>...</td>\n",
       "      <td>...</td>\n",
       "    </tr>\n",
       "    <tr>\n",
       "      <th>4842</th>\n",
       "      <td>-6620.362336</td>\n",
       "      <td>215640.572819</td>\n",
       "      <td>294905.992214</td>\n",
       "      <td>11334.308074</td>\n",
       "    </tr>\n",
       "    <tr>\n",
       "      <th>4843</th>\n",
       "      <td>-9725.302727</td>\n",
       "      <td>316535.077797</td>\n",
       "      <td>432896.232274</td>\n",
       "      <td>16640.032976</td>\n",
       "    </tr>\n",
       "    <tr>\n",
       "      <th>4844</th>\n",
       "      <td>-6292.223192</td>\n",
       "      <td>204771.024976</td>\n",
       "      <td>280047.487845</td>\n",
       "      <td>10763.718558</td>\n",
       "    </tr>\n",
       "    <tr>\n",
       "      <th>4845</th>\n",
       "      <td>-6065.540653</td>\n",
       "      <td>197509.730217</td>\n",
       "      <td>270111.657971</td>\n",
       "      <td>10380.354180</td>\n",
       "    </tr>\n",
       "    <tr>\n",
       "      <th>4846</th>\n",
       "      <td>-7533.018081</td>\n",
       "      <td>245249.299391</td>\n",
       "      <td>335401.772221</td>\n",
       "      <td>12891.792483</td>\n",
       "    </tr>\n",
       "  </tbody>\n",
       "</table>\n",
       "<p>4847 rows × 4 columns</p>\n",
       "</div>"
      ],
      "text/plain": [
       "              Пол        Возраст       Зарплата   Члены семьи\n",
       "0    -9197.300769  299613.183183  409743.318514  15748.930939\n",
       "1    -7033.796623  229533.251063  313890.202582  12063.520311\n",
       "2    -3884.491060  126849.859444  173466.028975   6666.863353\n",
       "3    -7743.570395  251892.529853  344495.469360  13241.498787\n",
       "4    -4834.316844  157658.980755  215603.717663   8286.706906\n",
       "...           ...            ...            ...           ...\n",
       "4842 -6620.362336  215640.572819  294905.992214  11334.308074\n",
       "4843 -9725.302727  316535.077797  432896.232274  16640.032976\n",
       "4844 -6292.223192  204771.024976  280047.487845  10763.718558\n",
       "4845 -6065.540653  197509.730217  270111.657971  10380.354180\n",
       "4846 -7533.018081  245249.299391  335401.772221  12891.792483\n",
       "\n",
       "[4847 rows x 4 columns]"
      ]
     },
     "execution_count": 12,
     "metadata": {},
     "output_type": "execute_result"
    }
   ],
   "source": [
    "features_incode"
   ]
  },
  {
   "cell_type": "code",
   "execution_count": 13,
   "metadata": {},
   "outputs": [],
   "source": [
    "# crear una clase para enseñar modelos\n",
    "\n",
    "class LinearRegression:\n",
    "    def fit(self, train_features, train_target):\n",
    "        X = np.concatenate((np.ones((train_features.shape[0], 1)), train_features), axis=1)\n",
    "        y = train_target\n",
    "        w = np.linalg.inv(X.T@X)@X.T@y\n",
    "        self.w = w[1:]\n",
    "        self.w0 = w[0]\n",
    "\n",
    "    def predict(self, test_features):\n",
    "        return test_features.dot(self.w) + self.w0"
   ]
  },
  {
   "cell_type": "code",
   "execution_count": 14,
   "metadata": {},
   "outputs": [
    {
     "name": "stdout",
     "output_type": "stream",
     "text": [
      "0.4302010046633359\n"
     ]
    }
   ],
   "source": [
    "# Vamos a entrenar el modelo en las características originales y deducir r2\n",
    "\n",
    "model = LinearRegression()\n",
    "model.fit(features, target)\n",
    "predictions = model.predict(features)\n",
    "print(r2_score(target, predictions))"
   ]
  },
  {
   "cell_type": "code",
   "execution_count": 15,
   "metadata": {},
   "outputs": [
    {
     "name": "stdout",
     "output_type": "stream",
     "text": [
      "0.4302010046514576\n"
     ]
    }
   ],
   "source": [
    "# enseñar el modelo en signos codificados e imprimir r2\n",
    "model = LinearRegression()\n",
    "model.fit(features_incode, target)\n",
    "predictions = model.predict(features_incode)\n",
    "print(r2_score(target, predictions))"
   ]
  },
  {
   "cell_type": "markdown",
   "metadata": {},
   "source": [
    "r2 métricas son casi las mismas - protección de datos es exitoso!"
   ]
  },
  {
   "cell_type": "code",
   "execution_count": null,
   "metadata": {},
   "outputs": [],
   "source": []
  }
 ],
 "metadata": {
  "ExecuteTimeLog": [
   {
    "duration": 437,
    "start_time": "2023-03-06T21:30:20.005Z"
   },
   {
    "duration": 80,
    "start_time": "2023-03-06T21:30:55.706Z"
   },
   {
    "duration": 92,
    "start_time": "2023-03-06T21:31:01.221Z"
   },
   {
    "duration": 16,
    "start_time": "2023-03-06T21:31:37.907Z"
   },
   {
    "duration": 73,
    "start_time": "2023-03-06T21:32:13.853Z"
   },
   {
    "duration": 8,
    "start_time": "2023-03-06T21:33:50.862Z"
   },
   {
    "duration": 11,
    "start_time": "2023-03-06T21:34:11.168Z"
   },
   {
    "duration": 91,
    "start_time": "2023-03-06T21:34:30.456Z"
   },
   {
    "duration": 6,
    "start_time": "2023-03-06T21:34:38.306Z"
   },
   {
    "duration": 15,
    "start_time": "2023-03-06T21:34:39.554Z"
   },
   {
    "duration": 7,
    "start_time": "2023-03-06T21:37:41.117Z"
   },
   {
    "duration": 6,
    "start_time": "2023-03-06T21:41:09.149Z"
   },
   {
    "duration": 12,
    "start_time": "2023-03-06T21:41:37.671Z"
   },
   {
    "duration": 4,
    "start_time": "2023-03-06T22:15:40.812Z"
   },
   {
    "duration": 8,
    "start_time": "2023-03-06T22:16:22.465Z"
   },
   {
    "duration": 1086,
    "start_time": "2023-03-06T22:16:47.156Z"
   },
   {
    "duration": 36,
    "start_time": "2023-03-06T22:16:48.250Z"
   },
   {
    "duration": 16,
    "start_time": "2023-03-06T22:16:48.288Z"
   },
   {
    "duration": 7,
    "start_time": "2023-03-06T22:16:48.306Z"
   },
   {
    "duration": 15,
    "start_time": "2023-03-06T22:16:48.315Z"
   },
   {
    "duration": 20,
    "start_time": "2023-03-06T22:16:48.336Z"
   },
   {
    "duration": 5,
    "start_time": "2023-03-06T22:16:48.358Z"
   },
   {
    "duration": 6,
    "start_time": "2023-03-06T22:16:48.365Z"
   },
   {
    "duration": 9,
    "start_time": "2023-03-06T22:16:48.372Z"
   },
   {
    "duration": 6,
    "start_time": "2023-03-06T22:17:46.149Z"
   },
   {
    "duration": 4,
    "start_time": "2023-03-06T22:19:28.673Z"
   },
   {
    "duration": 12,
    "start_time": "2023-03-06T22:19:38.281Z"
   },
   {
    "duration": 4,
    "start_time": "2023-03-06T22:20:13.494Z"
   },
   {
    "duration": 9,
    "start_time": "2023-03-06T22:20:40.874Z"
   },
   {
    "duration": 8,
    "start_time": "2023-03-06T22:21:37.964Z"
   },
   {
    "duration": 1025,
    "start_time": "2023-03-06T22:23:46.566Z"
   },
   {
    "duration": 36,
    "start_time": "2023-03-06T22:23:47.594Z"
   },
   {
    "duration": 19,
    "start_time": "2023-03-06T22:23:47.637Z"
   },
   {
    "duration": 5,
    "start_time": "2023-03-06T22:23:47.658Z"
   },
   {
    "duration": 11,
    "start_time": "2023-03-06T22:23:47.665Z"
   },
   {
    "duration": 10,
    "start_time": "2023-03-06T22:23:47.678Z"
   },
   {
    "duration": 5,
    "start_time": "2023-03-06T22:23:47.689Z"
   },
   {
    "duration": 4,
    "start_time": "2023-03-06T22:23:47.695Z"
   },
   {
    "duration": 9,
    "start_time": "2023-03-06T22:23:47.736Z"
   },
   {
    "duration": 10,
    "start_time": "2023-03-06T22:23:47.747Z"
   },
   {
    "duration": 8,
    "start_time": "2023-03-06T22:23:47.760Z"
   },
   {
    "duration": 173,
    "start_time": "2023-03-06T22:23:47.771Z"
   },
   {
    "duration": 7,
    "start_time": "2023-03-06T22:23:47.947Z"
   },
   {
    "duration": 8,
    "start_time": "2023-03-06T22:23:47.957Z"
   },
   {
    "duration": 184,
    "start_time": "2023-03-06T22:23:47.966Z"
   },
   {
    "duration": 82,
    "start_time": "2023-03-07T17:07:31.183Z"
   }
  ],
  "kernelspec": {
   "display_name": "Python 3 (ipykernel)",
   "language": "python",
   "name": "python3"
  },
  "language_info": {
   "codemirror_mode": {
    "name": "ipython",
    "version": 3
   },
   "file_extension": ".py",
   "mimetype": "text/x-python",
   "name": "python",
   "nbconvert_exporter": "python",
   "pygments_lexer": "ipython3",
   "version": "3.9.13"
  },
  "toc": {
   "base_numbering": 1,
   "nav_menu": {},
   "number_sections": true,
   "sideBar": true,
   "skip_h1_title": true,
   "title_cell": "Содержание",
   "title_sidebar": "Contents",
   "toc_cell": true,
   "toc_position": {
    "height": "calc(100% - 180px)",
    "left": "10px",
    "top": "150px",
    "width": "165px"
   },
   "toc_section_display": true,
   "toc_window_display": true
  }
 },
 "nbformat": 4,
 "nbformat_minor": 2
}
