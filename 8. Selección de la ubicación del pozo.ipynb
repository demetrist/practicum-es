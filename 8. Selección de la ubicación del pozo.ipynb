{
 "cells": [
  {
   "cell_type": "markdown",
   "metadata": {},
   "source": [
    "# Selección de la ubicación del pozo"
   ]
  },
  {
   "cell_type": "markdown",
   "metadata": {},
   "source": [
    "Digamos que trabajas para una compañía minera \"GlavRosGosNeft\". Tenemos que decidir dónde perforar un nuevo pozo.\n",
    "\n",
    "Se le han dado muestras de petróleo en tres regiones, cada 10.000 campos, donde se ha medido la calidad del petróleo y la cantidad de sus reservas. Cree un modelo de aprendizaje automático que le ayudará a identificar la región donde su minería obtendrá el mayor beneficio. Analizar los posibles beneficios y riesgos de la técnica *Bootstrap.*\n",
    "\n",
    "Pasos para seleccionar una ubicación:\n",
    "\n",
    "- En la región seleccionada están buscando depósitos, para cada determinar los valores de los rasgos;\n",
    "- elaborar un modelo y estimar el importe de las reservas;\n",
    "- Seleccionar los depósitos con las estimaciones de valor más altas. El número de campos depende del presupuesto de la empresa y el costo de desarrollo de un pozo;\n",
    "- El beneficio es igual al beneficio total de los campos seleccionados."
   ]
  },
  {
   "cell_type": "markdown",
   "metadata": {},
   "source": [
    "## Descargar y preparar los datos"
   ]
  },
  {
   "cell_type": "code",
   "execution_count": 1,
   "metadata": {},
   "outputs": [],
   "source": [
    "import numpy as np\n",
    "import pandas as pd\n",
    "\n",
    "from matplotlib import pyplot as plt\n",
    "from numpy.random import RandomState\n",
    "from sklearn.linear_model import LinearRegression\n",
    "from sklearn.metrics import mean_squared_error\n",
    "from sklearn.model_selection import train_test_split"
   ]
  },
  {
   "cell_type": "code",
   "execution_count": 2,
   "metadata": {},
   "outputs": [],
   "source": [
    "df_0 = pd.read_csv('/datasets/geo_data_0.csv')\n",
    "df_1 = pd.read_csv('/datasets/geo_data_1.csv')\n",
    "df_2 = pd.read_csv('/datasets/geo_data_2.csv')"
   ]
  },
  {
   "cell_type": "code",
   "execution_count": 3,
   "metadata": {},
   "outputs": [
    {
     "name": "stdout",
     "output_type": "stream",
     "text": [
      "<class 'pandas.core.frame.DataFrame'>\n",
      "RangeIndex: 100000 entries, 0 to 99999\n",
      "Data columns (total 5 columns):\n",
      " #   Column   Non-Null Count   Dtype  \n",
      "---  ------   --------------   -----  \n",
      " 0   id       100000 non-null  object \n",
      " 1   f0       100000 non-null  float64\n",
      " 2   f1       100000 non-null  float64\n",
      " 3   f2       100000 non-null  float64\n",
      " 4   product  100000 non-null  float64\n",
      "dtypes: float64(4), object(1)\n",
      "memory usage: 3.8+ MB\n"
     ]
    },
    {
     "data": {
      "text/html": [
       "<div>\n",
       "<style scoped>\n",
       "    .dataframe tbody tr th:only-of-type {\n",
       "        vertical-align: middle;\n",
       "    }\n",
       "\n",
       "    .dataframe tbody tr th {\n",
       "        vertical-align: top;\n",
       "    }\n",
       "\n",
       "    .dataframe thead th {\n",
       "        text-align: right;\n",
       "    }\n",
       "</style>\n",
       "<table border=\"1\" class=\"dataframe\">\n",
       "  <thead>\n",
       "    <tr style=\"text-align: right;\">\n",
       "      <th></th>\n",
       "      <th>id</th>\n",
       "      <th>f0</th>\n",
       "      <th>f1</th>\n",
       "      <th>f2</th>\n",
       "      <th>product</th>\n",
       "    </tr>\n",
       "  </thead>\n",
       "  <tbody>\n",
       "    <tr>\n",
       "      <th>0</th>\n",
       "      <td>txEyH</td>\n",
       "      <td>0.705745</td>\n",
       "      <td>-0.497823</td>\n",
       "      <td>1.221170</td>\n",
       "      <td>105.280062</td>\n",
       "    </tr>\n",
       "    <tr>\n",
       "      <th>1</th>\n",
       "      <td>2acmU</td>\n",
       "      <td>1.334711</td>\n",
       "      <td>-0.340164</td>\n",
       "      <td>4.365080</td>\n",
       "      <td>73.037750</td>\n",
       "    </tr>\n",
       "    <tr>\n",
       "      <th>2</th>\n",
       "      <td>409Wp</td>\n",
       "      <td>1.022732</td>\n",
       "      <td>0.151990</td>\n",
       "      <td>1.419926</td>\n",
       "      <td>85.265647</td>\n",
       "    </tr>\n",
       "    <tr>\n",
       "      <th>3</th>\n",
       "      <td>iJLyR</td>\n",
       "      <td>-0.032172</td>\n",
       "      <td>0.139033</td>\n",
       "      <td>2.978566</td>\n",
       "      <td>168.620776</td>\n",
       "    </tr>\n",
       "    <tr>\n",
       "      <th>4</th>\n",
       "      <td>Xdl7t</td>\n",
       "      <td>1.988431</td>\n",
       "      <td>0.155413</td>\n",
       "      <td>4.751769</td>\n",
       "      <td>154.036647</td>\n",
       "    </tr>\n",
       "  </tbody>\n",
       "</table>\n",
       "</div>"
      ],
      "text/plain": [
       "      id        f0        f1        f2     product\n",
       "0  txEyH  0.705745 -0.497823  1.221170  105.280062\n",
       "1  2acmU  1.334711 -0.340164  4.365080   73.037750\n",
       "2  409Wp  1.022732  0.151990  1.419926   85.265647\n",
       "3  iJLyR -0.032172  0.139033  2.978566  168.620776\n",
       "4  Xdl7t  1.988431  0.155413  4.751769  154.036647"
      ]
     },
     "execution_count": 3,
     "metadata": {},
     "output_type": "execute_result"
    }
   ],
   "source": [
    "df_0.info()\n",
    "\n",
    "df_0.head()"
   ]
  },
  {
   "cell_type": "code",
   "execution_count": 4,
   "metadata": {},
   "outputs": [
    {
     "name": "stdout",
     "output_type": "stream",
     "text": [
      "<class 'pandas.core.frame.DataFrame'>\n",
      "RangeIndex: 100000 entries, 0 to 99999\n",
      "Data columns (total 5 columns):\n",
      " #   Column   Non-Null Count   Dtype  \n",
      "---  ------   --------------   -----  \n",
      " 0   id       100000 non-null  object \n",
      " 1   f0       100000 non-null  float64\n",
      " 2   f1       100000 non-null  float64\n",
      " 3   f2       100000 non-null  float64\n",
      " 4   product  100000 non-null  float64\n",
      "dtypes: float64(4), object(1)\n",
      "memory usage: 3.8+ MB\n"
     ]
    },
    {
     "data": {
      "text/html": [
       "<div>\n",
       "<style scoped>\n",
       "    .dataframe tbody tr th:only-of-type {\n",
       "        vertical-align: middle;\n",
       "    }\n",
       "\n",
       "    .dataframe tbody tr th {\n",
       "        vertical-align: top;\n",
       "    }\n",
       "\n",
       "    .dataframe thead th {\n",
       "        text-align: right;\n",
       "    }\n",
       "</style>\n",
       "<table border=\"1\" class=\"dataframe\">\n",
       "  <thead>\n",
       "    <tr style=\"text-align: right;\">\n",
       "      <th></th>\n",
       "      <th>id</th>\n",
       "      <th>f0</th>\n",
       "      <th>f1</th>\n",
       "      <th>f2</th>\n",
       "      <th>product</th>\n",
       "    </tr>\n",
       "  </thead>\n",
       "  <tbody>\n",
       "    <tr>\n",
       "      <th>0</th>\n",
       "      <td>kBEdx</td>\n",
       "      <td>-15.001348</td>\n",
       "      <td>-8.276000</td>\n",
       "      <td>-0.005876</td>\n",
       "      <td>3.179103</td>\n",
       "    </tr>\n",
       "    <tr>\n",
       "      <th>1</th>\n",
       "      <td>62mP7</td>\n",
       "      <td>14.272088</td>\n",
       "      <td>-3.475083</td>\n",
       "      <td>0.999183</td>\n",
       "      <td>26.953261</td>\n",
       "    </tr>\n",
       "    <tr>\n",
       "      <th>2</th>\n",
       "      <td>vyE1P</td>\n",
       "      <td>6.263187</td>\n",
       "      <td>-5.948386</td>\n",
       "      <td>5.001160</td>\n",
       "      <td>134.766305</td>\n",
       "    </tr>\n",
       "    <tr>\n",
       "      <th>3</th>\n",
       "      <td>KcrkZ</td>\n",
       "      <td>-13.081196</td>\n",
       "      <td>-11.506057</td>\n",
       "      <td>4.999415</td>\n",
       "      <td>137.945408</td>\n",
       "    </tr>\n",
       "    <tr>\n",
       "      <th>4</th>\n",
       "      <td>AHL4O</td>\n",
       "      <td>12.702195</td>\n",
       "      <td>-8.147433</td>\n",
       "      <td>5.004363</td>\n",
       "      <td>134.766305</td>\n",
       "    </tr>\n",
       "  </tbody>\n",
       "</table>\n",
       "</div>"
      ],
      "text/plain": [
       "      id         f0         f1        f2     product\n",
       "0  kBEdx -15.001348  -8.276000 -0.005876    3.179103\n",
       "1  62mP7  14.272088  -3.475083  0.999183   26.953261\n",
       "2  vyE1P   6.263187  -5.948386  5.001160  134.766305\n",
       "3  KcrkZ -13.081196 -11.506057  4.999415  137.945408\n",
       "4  AHL4O  12.702195  -8.147433  5.004363  134.766305"
      ]
     },
     "execution_count": 4,
     "metadata": {},
     "output_type": "execute_result"
    }
   ],
   "source": [
    "df_1.info()\n",
    "\n",
    "df_1.head()"
   ]
  },
  {
   "cell_type": "code",
   "execution_count": 5,
   "metadata": {},
   "outputs": [
    {
     "name": "stdout",
     "output_type": "stream",
     "text": [
      "<class 'pandas.core.frame.DataFrame'>\n",
      "RangeIndex: 100000 entries, 0 to 99999\n",
      "Data columns (total 5 columns):\n",
      " #   Column   Non-Null Count   Dtype  \n",
      "---  ------   --------------   -----  \n",
      " 0   id       100000 non-null  object \n",
      " 1   f0       100000 non-null  float64\n",
      " 2   f1       100000 non-null  float64\n",
      " 3   f2       100000 non-null  float64\n",
      " 4   product  100000 non-null  float64\n",
      "dtypes: float64(4), object(1)\n",
      "memory usage: 3.8+ MB\n"
     ]
    },
    {
     "data": {
      "text/html": [
       "<div>\n",
       "<style scoped>\n",
       "    .dataframe tbody tr th:only-of-type {\n",
       "        vertical-align: middle;\n",
       "    }\n",
       "\n",
       "    .dataframe tbody tr th {\n",
       "        vertical-align: top;\n",
       "    }\n",
       "\n",
       "    .dataframe thead th {\n",
       "        text-align: right;\n",
       "    }\n",
       "</style>\n",
       "<table border=\"1\" class=\"dataframe\">\n",
       "  <thead>\n",
       "    <tr style=\"text-align: right;\">\n",
       "      <th></th>\n",
       "      <th>id</th>\n",
       "      <th>f0</th>\n",
       "      <th>f1</th>\n",
       "      <th>f2</th>\n",
       "      <th>product</th>\n",
       "    </tr>\n",
       "  </thead>\n",
       "  <tbody>\n",
       "    <tr>\n",
       "      <th>0</th>\n",
       "      <td>fwXo0</td>\n",
       "      <td>-1.146987</td>\n",
       "      <td>0.963328</td>\n",
       "      <td>-0.828965</td>\n",
       "      <td>27.758673</td>\n",
       "    </tr>\n",
       "    <tr>\n",
       "      <th>1</th>\n",
       "      <td>WJtFt</td>\n",
       "      <td>0.262778</td>\n",
       "      <td>0.269839</td>\n",
       "      <td>-2.530187</td>\n",
       "      <td>56.069697</td>\n",
       "    </tr>\n",
       "    <tr>\n",
       "      <th>2</th>\n",
       "      <td>ovLUW</td>\n",
       "      <td>0.194587</td>\n",
       "      <td>0.289035</td>\n",
       "      <td>-5.586433</td>\n",
       "      <td>62.871910</td>\n",
       "    </tr>\n",
       "    <tr>\n",
       "      <th>3</th>\n",
       "      <td>q6cA6</td>\n",
       "      <td>2.236060</td>\n",
       "      <td>-0.553760</td>\n",
       "      <td>0.930038</td>\n",
       "      <td>114.572842</td>\n",
       "    </tr>\n",
       "    <tr>\n",
       "      <th>4</th>\n",
       "      <td>WPMUX</td>\n",
       "      <td>-0.515993</td>\n",
       "      <td>1.716266</td>\n",
       "      <td>5.899011</td>\n",
       "      <td>149.600746</td>\n",
       "    </tr>\n",
       "  </tbody>\n",
       "</table>\n",
       "</div>"
      ],
      "text/plain": [
       "      id        f0        f1        f2     product\n",
       "0  fwXo0 -1.146987  0.963328 -0.828965   27.758673\n",
       "1  WJtFt  0.262778  0.269839 -2.530187   56.069697\n",
       "2  ovLUW  0.194587  0.289035 -5.586433   62.871910\n",
       "3  q6cA6  2.236060 -0.553760  0.930038  114.572842\n",
       "4  WPMUX -0.515993  1.716266  5.899011  149.600746"
      ]
     },
     "execution_count": 5,
     "metadata": {},
     "output_type": "execute_result"
    }
   ],
   "source": [
    "df_2.info()\n",
    "\n",
    "df_2.head()"
   ]
  },
  {
   "cell_type": "code",
   "execution_count": 6,
   "metadata": {},
   "outputs": [
    {
     "data": {
      "text/plain": [
       "0"
      ]
     },
     "execution_count": 6,
     "metadata": {},
     "output_type": "execute_result"
    }
   ],
   "source": [
    "df_0.duplicated().sum()"
   ]
  },
  {
   "cell_type": "code",
   "execution_count": 7,
   "metadata": {},
   "outputs": [
    {
     "data": {
      "text/plain": [
       "0"
      ]
     },
     "execution_count": 7,
     "metadata": {},
     "output_type": "execute_result"
    }
   ],
   "source": [
    "df_1.duplicated().sum()"
   ]
  },
  {
   "cell_type": "code",
   "execution_count": 8,
   "metadata": {},
   "outputs": [
    {
     "data": {
      "text/plain": [
       "0"
      ]
     },
     "execution_count": 8,
     "metadata": {},
     "output_type": "execute_result"
    }
   ],
   "source": [
    "df_2.duplicated().sum()"
   ]
  },
  {
   "cell_type": "code",
   "execution_count": 9,
   "metadata": {},
   "outputs": [
    {
     "data": {
      "image/png": "[encoded data removed]",
      "text/plain": [
       "<Figure size 432x288 with 4 Axes>"
      ]
     },
     "metadata": {
      "needs_background": "light"
     },
     "output_type": "display_data"
    }
   ],
   "source": [
    "df_0[[\"f0\",\"f1\",\"f2\"]].hist()\n",
    "plt.show()"
   ]
  },
  {
   "cell_type": "code",
   "execution_count": 10,
   "metadata": {},
   "outputs": [
    {
     "data": {
      "image/png": "[encoded data removed]",
      "text/plain": [
       "<Figure size 432x288 with 4 Axes>"
      ]
     },
     "metadata": {
      "needs_background": "light"
     },
     "output_type": "display_data"
    }
   ],
   "source": [
    "df_1[[\"f0\",\"f1\",\"f2\"]].hist()\n",
    "plt.show()"
   ]
  },
  {
   "cell_type": "code",
   "execution_count": 11,
   "metadata": {},
   "outputs": [
    {
     "data": {
      "image/png": "[encoded data removed]",
      "text/plain": [
       "<Figure size 432x288 with 4 Axes>"
      ]
     },
     "metadata": {
      "needs_background": "light"
     },
     "output_type": "display_data"
    }
   ],
   "source": [
    "df_2[[\"f0\",\"f1\",\"f2\"]].hist()\n",
    "plt.show()"
   ]
  },
  {
   "cell_type": "markdown",
   "metadata": {},
   "source": [
    "No hay emisiones fuertes - se puede empezar a aprender.\n",
    "\n",
    "## Aprendizaje y validación de modelos\n",
    "\n",
    "Escribe una función para el entrenamiento de modelos."
   ]
  },
  {
   "cell_type": "code",
   "execution_count": 12,
   "metadata": {},
   "outputs": [],
   "source": [
    "def model(df):\n",
    "    target = df['product'] \n",
    "    features = df.drop(['product', 'id'], axis=1) \n",
    "    features_train, features_valid, target_train, target_valid = \\\n",
    "    train_test_split(features, target, test_size=0.25, random_state=12345) \n",
    "    model = LinearRegression()\n",
    "    model.fit(features_train, target_train)\n",
    "    predicted_valid = model.predict(features_valid)\n",
    "    rmse = mean_squared_error(target_valid, predicted_valid)**0.5\n",
    "    predicted_valid_mean = predicted_valid.sum()/len(predicted_valid) \n",
    "    \n",
    "    return target_valid, predicted_valid, rmse, predicted_valid_mean"
   ]
  },
  {
   "cell_type": "markdown",
   "metadata": {},
   "source": [
    "Ahora obtenemos resultados para cada región:"
   ]
  },
  {
   "cell_type": "code",
   "execution_count": 13,
   "metadata": {},
   "outputs": [
    {
     "name": "stdout",
     "output_type": "stream",
     "text": [
      "Ср. запас сырья в регионе 0: 92.59256778438035 rmse: 37.5794217150813\n",
      "Ср. запас сырья в регионе 1: 68.728546895446 rmse: 0.893099286775617\n",
      "Ср. запас сырья в регионе 2: 94.96504596800489 rmse: 40.02970873393434\n"
     ]
    }
   ],
   "source": [
    "target_valid_0, predicted_valid_0, rmse_0, predicted_valid_mean_0 = model(df_0)\n",
    "target_valid_1, predicted_valid_1, rmse_1, predicted_valid_mean_1 = model(df_1)\n",
    "target_valid_2, predicted_valid_2, rmse_2, predicted_valid_mean_2 = model(df_2)\n",
    "\n",
    "print('Ср. запас сырья в регионе 0:', predicted_valid_mean_0, 'rmse:', rmse_0)\n",
    "print('Ср. запас сырья в регионе 1:', predicted_valid_mean_1, 'rmse:', rmse_1)\n",
    "print('Ср. запас сырья в регионе 2:', predicted_valid_mean_2, 'rmse:', rmse_2)"
   ]
  },
  {
   "cell_type": "markdown",
   "metadata": {},
   "source": [
    "El modelo predijo mejor en la región 1 (error rmse debajo - 0.89).  \n",
    "Sin embargo, se prevé que la reserva media de materias primas en las regiones 0 y 2 será mucho mayor.  \n",
    "Veamos las ganancias y los riesgos."
   ]
  },
  {
   "cell_type": "markdown",
   "metadata": {},
   "source": [
    "## Preparación para ganancias\n",
    "\n",
    "### Guarde todos los valores clave para los cálculos en variables separadas."
   ]
  },
  {
   "cell_type": "code",
   "execution_count": 14,
   "metadata": {},
   "outputs": [],
   "source": [
    "budget = 10*10**9\n",
    "chosen_points = 500\n",
    "best_points = 200\n",
    "price_per_barrel = 450\n",
    "barrel_income_rub = 450 * 10**3\n",
    "loss_probability = 2.5"
   ]
  },
  {
   "cell_type": "markdown",
   "metadata": {},
   "source": [
    "### Calcular una cantidad suficiente de materia prima para un desarrollo de equilibrio de un nuevo pozo. Comparar el volumen resultante de materia prima con el stock medio de cada región."
   ]
  },
  {
   "cell_type": "code",
   "execution_count": 15,
   "metadata": {},
   "outputs": [
    {
     "name": "stdout",
     "output_type": "stream",
     "text": [
      "Достаточный объём сырья для безубыточной разработки новой скважины равен 111.111 тыс. баррелей)\n"
     ]
    }
   ],
   "source": [
    "min_volume = budget / best_points / barrel_income_rub\n",
    "print(f'Достаточный объём сырья для безубыточной разработки новой скважины равен {round(min_volume, 3)} тыс. баррелей)')"
   ]
  },
  {
   "cell_type": "code",
   "execution_count": 16,
   "metadata": {},
   "outputs": [
    {
     "name": "stdout",
     "output_type": "stream",
     "text": [
      "Средняя расчетная прибыль региона 0 -1666668899.4057684\n",
      "Средняя расчетная прибыль региона 1 -3814430779.4098606\n",
      "Средняя расчетная прибыль региона 2 -1453145862.8795605\n"
     ]
    }
   ],
   "source": [
    "print('Средняя расчетная прибыль региона 0',\\\n",
    "      best_points *\\\n",
    "      predicted_valid_mean_0 *\\\n",
    "     barrel_income_rub\\\n",
    "     - budget)\n",
    "print('Средняя расчетная прибыль региона 1',\\\n",
    "      best_points *\\\n",
    "      predicted_valid_mean_1 *\\\n",
    "     barrel_income_rub\\\n",
    "     - budget)\n",
    "print('Средняя расчетная прибыль региона 2',\\\n",
    "      best_points *\\\n",
    "      predicted_valid_mean_2 *\\\n",
    "     barrel_income_rub\\\n",
    "     - budget)"
   ]
  },
  {
   "cell_type": "markdown",
   "metadata": {},
   "source": [
    "En las tres regiones, el stock medio de materias primas es inferior al punto de equilibrio, pero especialmente en la región 1.\n",
    "\n",
    "## Función para el cálculo de beneficios\n",
    "\n",
    "Vamos a escribir una función para calcular el beneficio por pozos seleccionados y predicciones modelo.\n",
    "\n",
    "* elegir pozos con valores máximos de predicción\n",
    "* Resumamos la cantidad objetivo de materias primas correspondiente a estas predicciones.\n",
    "* calcular el beneficio por el volumen recibido de materia prima\n",
    "\n",
    "Llevemos los valores objetivo y predictivo al mismo tipo. Para esto escribimos una función."
   ]
  },
  {
   "cell_type": "code",
   "execution_count": 17,
   "metadata": {},
   "outputs": [],
   "source": [
    "def series_type(target, pred):\n",
    "    target = target.reset_index(drop=True)\n",
    "    pred = pd.Series(pred)\n",
    "    return target, pred"
   ]
  },
  {
   "cell_type": "code",
   "execution_count": 18,
   "metadata": {},
   "outputs": [],
   "source": [
    "target_valid_0, predicted_valid_0 = series_type(target_valid_0, predicted_valid_0)\n",
    "target_valid_1, predicted_valid_1 = series_type(target_valid_1, predicted_valid_1)\n",
    "target_valid_2, predicted_valid_2 = series_type(target_valid_2, predicted_valid_2)"
   ]
  },
  {
   "cell_type": "code",
   "execution_count": 19,
   "metadata": {},
   "outputs": [],
   "source": [
    "# función de cálculo de beneficios (ingresos reales de los mejores 200 pozos, menos la inversión)\n",
    "\n",
    "def tot_income(target, probabilities, count, barrel_income_rub, budget):\n",
    "    prob_sort = probabilities.sort_values(ascending=False)\n",
    "    selected = target[prob_sort.index][:count]\n",
    "    return int(barrel_income_rub * selected.sum() - budget)"
   ]
  },
  {
   "cell_type": "markdown",
   "metadata": {},
   "source": [
    "## Cálculo de beneficios y riesgos \n",
    "\n",
    "* Utilice la técnica Bootstrap con 1000 muestras para encontrar la distribución de beneficios.\n",
    "* Encuentre un beneficio promedio, un intervalo de confianza del 95% y un riesgo de pérdidas. La pérdida es un beneficio negativo."
   ]
  },
  {
   "cell_type": "code",
   "execution_count": 20,
   "metadata": {},
   "outputs": [],
   "source": [
    "# función de obtención de parámetros básicos de cálculo mediante bootstrap\n",
    "\n",
    "def bootstrap(target, predicted, best_points, barrel_income_rub, budget):\n",
    "    state = RandomState(12345)\n",
    "    values = []\n",
    "    for i in range(1000):\n",
    "        target_subsample = target.sample(n = chosen_points, replace=True, random_state=state)\n",
    "        pred_subsumple = predicted[target_subsample.index]\n",
    "        values.append(tot_income(target_subsample.reset_index(drop=True), pred_subsumple.reset_index(drop=True), best_points, barrel_income_rub, budget))\n",
    "    values = pd.Series(values)\n",
    "    values_mean = int(values.mean())\n",
    "    lower = int(values.quantile(q=0.025))\n",
    "    upper = int(values.quantile(q=0.975))\n",
    "    risk = int(len(values[values < 0]) / len(values) * 100)\n",
    "    return values_mean, lower, upper, risk"
   ]
  },
  {
   "cell_type": "markdown",
   "metadata": {},
   "source": [
    "Calcule los parámetros básicos para tres regiones:"
   ]
  },
  {
   "cell_type": "code",
   "execution_count": 21,
   "metadata": {},
   "outputs": [
    {
     "name": "stdout",
     "output_type": "stream",
     "text": [
      "Средняя прибыль лучших месторождений региона 0 равна 396164984\n",
      "Средняя прибыль лучших месторождений региона 1 равна 456045105\n",
      "Средняя прибыль лучших месторождений региона 2 равна 404403866\n"
     ]
    }
   ],
   "source": [
    "values_mean_0, lower_0, upper_0, risk_0  = bootstrap(target_valid_0, predicted_valid_0, best_points, barrel_income_rub, budget)\n",
    "values_mean_1, lower_1, upper_1, risk_1  = bootstrap(target_valid_1, predicted_valid_1, best_points, barrel_income_rub, budget)\n",
    "values_mean_2, lower_2, upper_2, risk_2  = bootstrap(target_valid_2, predicted_valid_2, best_points, barrel_income_rub, budget)\n",
    "\n",
    "print('Средняя прибыль лучших месторождений региона 0 равна', values_mean_0)\n",
    "print('Средняя прибыль лучших месторождений региона 1 равна', values_mean_1)\n",
    "print('Средняя прибыль лучших месторождений региона 2 равна', values_mean_2)"
   ]
  },
  {
   "cell_type": "code",
   "execution_count": 22,
   "metadata": {},
   "outputs": [
    {
     "name": "stdout",
     "output_type": "stream",
     "text": [
      "95% доверительный интервал для средней прибыли 200 лучших месторождений региона 0: -111215545 909766941\n",
      "95% доверительный интервал для средней прибыли 200 лучших месторождений региона 1: 33820509 852289452\n",
      "95% доверительный интервал для средней прибыли 200 лучших месторождений региона 2: -163350412 950359574\n"
     ]
    }
   ],
   "source": [
    "print('95% доверительный интервал для средней прибыли 200 лучших месторождений региона 0:', lower_0, upper_0)\n",
    "print('95% доверительный интервал для средней прибыли 200 лучших месторождений региона 1:', lower_1, upper_1)\n",
    "print('95% доверительный интервал для средней прибыли 200 лучших месторождений региона 2:', lower_2, upper_2)"
   ]
  },
  {
   "cell_type": "code",
   "execution_count": 23,
   "metadata": {},
   "outputs": [
    {
     "name": "stdout",
     "output_type": "stream",
     "text": [
      "Риск убытков региона 0 равен 6 %\n",
      "Риск убытков региона 1 равен 1 %\n",
      "Риск убытков региона 2 равен 7 %\n"
     ]
    }
   ],
   "source": [
    "print('Риск убытков региона 0 равен', risk_0, '%')\n",
    "print('Риск убытков региона 1 равен', risk_1, '%')\n",
    "print('Риск убытков региона 2 равен', risk_2, '%')"
   ]
  },
  {
   "cell_type": "markdown",
   "metadata": {},
   "source": [
    "## Conclusiones\n",
    "\n",
    "En el curso de este experimento, descargamos y preparamos datos para tres regiones, enseñamos un modelo de regresión lineal e investigamos la infiltración de pozos.\n",
    "\n",
    "Volumen suficiente de materia prima para la extracción de equilibrio - 111.11 mil barriles. El Ministerio de Defensa de Rusia ha lanzado un nuevo proyecto.  \n",
    "La población media en cada una de las tres regiones parecía menor.\n",
    "\n",
    "Después de usar Bootstrap con 1000 muestras se obtuvieron los siguientes datos:  \n",
    "El beneficio promedio de los mejores depósitos de la región 0 es 396164984 rublos.  \n",
    "El beneficio promedio de los mejores depósitos de la región 1 es 456045105 rublos.  \n",
    "El beneficio promedio de los mejores depósitos de la región 2 es 4.0440.866 rublos.\n",
    "\n",
    "Intervalo de confianza del 95% para el beneficio promedio de los 200 principales depósitos de la región 0: -111215545 909766941  \n",
    "Intervalo de confianza del 95% para el beneficio promedio de los 200 mayores depósitos de la región 1: 33820509 852289452  \n",
    "Intervalo de confianza del 95% para el beneficio promedio de los 200 mejores depósitos de la región 2: -163350412 950359574  \n",
    "\n",
    "El riesgo de la región 0 es del 6  \n",
    "El riesgo de la región 1 equivale al 1  \n",
    "El riesgo de la región 2 es del 7  \n",
    "\n",
    "Sobre la base de los resultados, la región 1 se convirtió en la más atractiva para el desarrollo. Aquí, el beneficio promedio más alto, un marco más estrecho de intervalo de confianza y el menor riesgo de pérdida."
   ]
  },
  {
   "cell_type": "code",
   "execution_count": null,
   "metadata": {},
   "outputs": [],
   "source": []
  }
 ],
 "metadata": {
  "ExecuteTimeLog": [
   {
    "duration": 362,
    "start_time": "2023-02-08T18:41:21.435Z"
   },
   {
    "duration": 1565,
    "start_time": "2023-02-08T18:41:23.011Z"
   },
   {
    "duration": 15,
    "start_time": "2023-02-08T18:41:39.019Z"
   },
   {
    "duration": 10,
    "start_time": "2023-02-08T18:41:48.038Z"
   },
   {
    "duration": 9,
    "start_time": "2023-02-08T18:41:52.818Z"
   },
   {
    "duration": 17,
    "start_time": "2023-02-08T18:54:08.822Z"
   },
   {
    "duration": 19,
    "start_time": "2023-02-08T18:55:07.590Z"
   },
   {
    "duration": 27,
    "start_time": "2023-02-08T18:55:59.193Z"
   },
   {
    "duration": 19,
    "start_time": "2023-02-08T18:56:18.024Z"
   },
   {
    "duration": 48,
    "start_time": "2023-02-08T19:30:46.253Z"
   },
   {
    "duration": 118,
    "start_time": "2023-02-08T19:30:59.713Z"
   },
   {
    "duration": 48,
    "start_time": "2023-02-08T19:47:40.285Z"
   },
   {
    "duration": 51,
    "start_time": "2023-02-08T19:47:48.636Z"
   },
   {
    "duration": 46,
    "start_time": "2023-02-08T19:47:58.242Z"
   },
   {
    "duration": 947,
    "start_time": "2023-02-08T19:56:42.260Z"
   },
   {
    "duration": 548,
    "start_time": "2023-02-08T19:56:43.210Z"
   },
   {
    "duration": 35,
    "start_time": "2023-02-08T19:56:43.760Z"
   },
   {
    "duration": 38,
    "start_time": "2023-02-08T19:56:43.797Z"
   },
   {
    "duration": 20,
    "start_time": "2023-02-08T19:56:43.837Z"
   },
   {
    "duration": 63,
    "start_time": "2023-02-08T19:56:43.859Z"
   },
   {
    "duration": 39,
    "start_time": "2023-02-08T19:56:43.924Z"
   },
   {
    "duration": 72,
    "start_time": "2023-02-08T19:56:43.965Z"
   },
   {
    "duration": 379,
    "start_time": "2023-02-08T19:56:44.039Z"
   },
   {
    "duration": 372,
    "start_time": "2023-02-08T19:56:59.531Z"
   },
   {
    "duration": 428,
    "start_time": "2023-02-08T19:57:15.247Z"
   },
   {
    "duration": 294,
    "start_time": "2023-02-08T19:58:48.886Z"
   },
   {
    "duration": 350,
    "start_time": "2023-02-08T19:58:56.259Z"
   },
   {
    "duration": 328,
    "start_time": "2023-02-08T19:59:01.449Z"
   },
   {
    "duration": 5,
    "start_time": "2023-02-08T20:10:27.084Z"
   },
   {
    "duration": 1241,
    "start_time": "2023-02-08T20:11:31.646Z"
   },
   {
    "duration": 361,
    "start_time": "2023-02-08T20:11:32.889Z"
   },
   {
    "duration": 25,
    "start_time": "2023-02-08T20:11:33.251Z"
   },
   {
    "duration": 49,
    "start_time": "2023-02-08T20:11:33.278Z"
   },
   {
    "duration": 19,
    "start_time": "2023-02-08T20:11:33.329Z"
   },
   {
    "duration": 53,
    "start_time": "2023-02-08T20:11:33.350Z"
   },
   {
    "duration": 39,
    "start_time": "2023-02-08T20:11:33.405Z"
   },
   {
    "duration": 58,
    "start_time": "2023-02-08T20:11:33.446Z"
   },
   {
    "duration": 274,
    "start_time": "2023-02-08T20:11:33.506Z"
   },
   {
    "duration": 282,
    "start_time": "2023-02-08T20:11:33.782Z"
   },
   {
    "duration": 357,
    "start_time": "2023-02-08T20:11:34.065Z"
   },
   {
    "duration": 3,
    "start_time": "2023-02-08T20:11:34.424Z"
   },
   {
    "duration": 123,
    "start_time": "2023-02-08T20:14:01.683Z"
   },
   {
    "duration": 1406,
    "start_time": "2023-02-08T20:14:31.665Z"
   },
   {
    "duration": 350,
    "start_time": "2023-02-08T20:14:33.073Z"
   },
   {
    "duration": 24,
    "start_time": "2023-02-08T20:14:33.425Z"
   },
   {
    "duration": 19,
    "start_time": "2023-02-08T20:14:33.451Z"
   },
   {
    "duration": 39,
    "start_time": "2023-02-08T20:14:33.471Z"
   },
   {
    "duration": 47,
    "start_time": "2023-02-08T20:14:33.512Z"
   },
   {
    "duration": 57,
    "start_time": "2023-02-08T20:14:33.560Z"
   },
   {
    "duration": 43,
    "start_time": "2023-02-08T20:14:33.619Z"
   },
   {
    "duration": 282,
    "start_time": "2023-02-08T20:14:33.664Z"
   },
   {
    "duration": 298,
    "start_time": "2023-02-08T20:14:33.948Z"
   },
   {
    "duration": 375,
    "start_time": "2023-02-08T20:14:34.248Z"
   },
   {
    "duration": 5,
    "start_time": "2023-02-08T20:14:34.625Z"
   },
   {
    "duration": 269,
    "start_time": "2023-02-08T20:14:34.631Z"
   },
   {
    "duration": 3,
    "start_time": "2023-02-08T20:35:40.159Z"
   },
   {
    "duration": 6,
    "start_time": "2023-02-08T20:38:29.896Z"
   },
   {
    "duration": 6,
    "start_time": "2023-02-08T20:39:50.116Z"
   },
   {
    "duration": 5,
    "start_time": "2023-02-08T20:40:04.295Z"
   },
   {
    "duration": 5,
    "start_time": "2023-02-08T20:40:21.641Z"
   },
   {
    "duration": 4,
    "start_time": "2023-02-08T20:40:32.482Z"
   },
   {
    "duration": 5,
    "start_time": "2023-02-08T20:41:24.294Z"
   },
   {
    "duration": 4,
    "start_time": "2023-02-08T20:43:58.826Z"
   },
   {
    "duration": 4,
    "start_time": "2023-02-08T21:09:13.236Z"
   },
   {
    "duration": 4,
    "start_time": "2023-02-08T21:15:15.824Z"
   },
   {
    "duration": 3,
    "start_time": "2023-02-08T21:16:27.262Z"
   },
   {
    "duration": 5,
    "start_time": "2023-02-08T21:19:55.826Z"
   },
   {
    "duration": 4,
    "start_time": "2023-02-08T21:20:05.634Z"
   },
   {
    "duration": 4,
    "start_time": "2023-02-08T21:38:01.970Z"
   },
   {
    "duration": 5,
    "start_time": "2023-02-08T21:38:06.603Z"
   },
   {
    "duration": 3,
    "start_time": "2023-02-08T21:38:23.149Z"
   },
   {
    "duration": 7,
    "start_time": "2023-02-08T21:38:26.898Z"
   },
   {
    "duration": 4,
    "start_time": "2023-02-08T21:45:59.246Z"
   },
   {
    "duration": 105,
    "start_time": "2023-02-08T21:51:14.687Z"
   },
   {
    "duration": 1279,
    "start_time": "2023-02-08T21:51:43.741Z"
   },
   {
    "duration": 500,
    "start_time": "2023-02-08T21:51:45.022Z"
   },
   {
    "duration": 28,
    "start_time": "2023-02-08T21:51:45.523Z"
   },
   {
    "duration": 20,
    "start_time": "2023-02-08T21:51:45.553Z"
   },
   {
    "duration": 37,
    "start_time": "2023-02-08T21:51:45.575Z"
   },
   {
    "duration": 48,
    "start_time": "2023-02-08T21:51:45.614Z"
   },
   {
    "duration": 65,
    "start_time": "2023-02-08T21:51:45.665Z"
   },
   {
    "duration": 61,
    "start_time": "2023-02-08T21:51:45.732Z"
   },
   {
    "duration": 354,
    "start_time": "2023-02-08T21:51:45.795Z"
   },
   {
    "duration": 303,
    "start_time": "2023-02-08T21:51:46.153Z"
   },
   {
    "duration": 356,
    "start_time": "2023-02-08T21:51:46.458Z"
   },
   {
    "duration": 4,
    "start_time": "2023-02-08T21:51:46.815Z"
   },
   {
    "duration": 374,
    "start_time": "2023-02-08T21:51:46.821Z"
   },
   {
    "duration": 93,
    "start_time": "2023-02-08T21:51:47.200Z"
   },
   {
    "duration": 9,
    "start_time": "2023-02-08T21:51:47.295Z"
   },
   {
    "duration": 6,
    "start_time": "2023-02-08T21:51:47.306Z"
   },
   {
    "duration": 5,
    "start_time": "2023-02-08T21:51:47.313Z"
   },
   {
    "duration": 111,
    "start_time": "2023-02-08T21:51:47.320Z"
   },
   {
    "duration": 11,
    "start_time": "2023-02-08T21:52:12.058Z"
   },
   {
    "duration": 11,
    "start_time": "2023-02-08T21:58:51.439Z"
   },
   {
    "duration": 1420,
    "start_time": "2023-02-08T21:59:35.986Z"
   },
   {
    "duration": 386,
    "start_time": "2023-02-08T21:59:37.408Z"
   },
   {
    "duration": 29,
    "start_time": "2023-02-08T21:59:37.796Z"
   },
   {
    "duration": 22,
    "start_time": "2023-02-08T21:59:37.827Z"
   },
   {
    "duration": 51,
    "start_time": "2023-02-08T21:59:37.852Z"
   },
   {
    "duration": 50,
    "start_time": "2023-02-08T21:59:37.905Z"
   },
   {
    "duration": 76,
    "start_time": "2023-02-08T21:59:37.956Z"
   },
   {
    "duration": 43,
    "start_time": "2023-02-08T21:59:38.034Z"
   },
   {
    "duration": 340,
    "start_time": "2023-02-08T21:59:38.079Z"
   },
   {
    "duration": 312,
    "start_time": "2023-02-08T21:59:38.422Z"
   },
   {
    "duration": 411,
    "start_time": "2023-02-08T21:59:38.736Z"
   },
   {
    "duration": 4,
    "start_time": "2023-02-08T21:59:39.149Z"
   },
   {
    "duration": 355,
    "start_time": "2023-02-08T21:59:39.155Z"
   },
   {
    "duration": 9,
    "start_time": "2023-02-08T21:59:39.595Z"
   },
   {
    "duration": 91,
    "start_time": "2023-02-08T21:59:39.609Z"
   },
   {
    "duration": 13,
    "start_time": "2023-02-08T21:59:39.703Z"
   },
   {
    "duration": 12,
    "start_time": "2023-02-08T21:59:39.719Z"
   },
   {
    "duration": 119,
    "start_time": "2023-02-08T21:59:39.733Z"
   },
   {
    "duration": 3,
    "start_time": "2023-02-08T22:00:25.146Z"
   },
   {
    "duration": 12,
    "start_time": "2023-02-08T22:00:26.566Z"
   },
   {
    "duration": 4,
    "start_time": "2023-02-08T22:00:50.944Z"
   },
   {
    "duration": 14,
    "start_time": "2023-02-08T22:00:52.282Z"
   },
   {
    "duration": 102,
    "start_time": "2023-02-08T22:04:01.400Z"
   },
   {
    "duration": 5,
    "start_time": "2023-02-08T22:05:12.438Z"
   },
   {
    "duration": 5,
    "start_time": "2023-02-08T22:10:51.795Z"
   },
   {
    "duration": 16,
    "start_time": "2023-02-08T22:10:52.712Z"
   },
   {
    "duration": 1251,
    "start_time": "2023-02-08T22:11:23.548Z"
   },
   {
    "duration": 364,
    "start_time": "2023-02-08T22:11:24.802Z"
   },
   {
    "duration": 40,
    "start_time": "2023-02-08T22:11:25.167Z"
   },
   {
    "duration": 25,
    "start_time": "2023-02-08T22:11:25.209Z"
   },
   {
    "duration": 21,
    "start_time": "2023-02-08T22:11:25.236Z"
   },
   {
    "duration": 75,
    "start_time": "2023-02-08T22:11:25.258Z"
   },
   {
    "duration": 41,
    "start_time": "2023-02-08T22:11:25.334Z"
   },
   {
    "duration": 63,
    "start_time": "2023-02-08T22:11:25.376Z"
   },
   {
    "duration": 315,
    "start_time": "2023-02-08T22:11:25.440Z"
   },
   {
    "duration": 361,
    "start_time": "2023-02-08T22:11:25.757Z"
   },
   {
    "duration": 422,
    "start_time": "2023-02-08T22:11:26.120Z"
   },
   {
    "duration": 4,
    "start_time": "2023-02-08T22:11:26.543Z"
   },
   {
    "duration": 267,
    "start_time": "2023-02-08T22:11:26.549Z"
   },
   {
    "duration": 3,
    "start_time": "2023-02-08T22:11:26.820Z"
   },
   {
    "duration": 79,
    "start_time": "2023-02-08T22:11:26.825Z"
   },
   {
    "duration": 87,
    "start_time": "2023-02-08T22:11:26.908Z"
   },
   {
    "duration": 12,
    "start_time": "2023-02-08T22:11:26.998Z"
   },
   {
    "duration": 9,
    "start_time": "2023-02-08T22:11:27.013Z"
   },
   {
    "duration": 6,
    "start_time": "2023-02-08T22:11:27.024Z"
   },
   {
    "duration": 6,
    "start_time": "2023-02-08T22:11:27.031Z"
   },
   {
    "duration": 129,
    "start_time": "2023-02-08T22:11:27.039Z"
   },
   {
    "duration": 17,
    "start_time": "2023-02-08T22:12:05.608Z"
   },
   {
    "duration": 6,
    "start_time": "2023-02-08T22:14:11.202Z"
   },
   {
    "duration": 10,
    "start_time": "2023-02-08T22:14:13.401Z"
   },
   {
    "duration": 5,
    "start_time": "2023-02-08T22:14:28.146Z"
   },
   {
    "duration": 4441,
    "start_time": "2023-02-08T22:14:29.877Z"
   },
   {
    "duration": 3,
    "start_time": "2023-02-08T22:18:33.330Z"
   },
   {
    "duration": 10,
    "start_time": "2023-02-08T22:23:55.665Z"
   },
   {
    "duration": 4362,
    "start_time": "2023-02-08T22:25:07.158Z"
   },
   {
    "duration": 8,
    "start_time": "2023-02-08T22:26:38.305Z"
   },
   {
    "duration": 4,
    "start_time": "2023-02-08T22:26:58.375Z"
   },
   {
    "duration": 4,
    "start_time": "2023-02-08T22:27:19.017Z"
   },
   {
    "duration": 8,
    "start_time": "2023-02-08T22:28:01.699Z"
   },
   {
    "duration": 1271,
    "start_time": "2023-02-08T23:10:58.848Z"
   },
   {
    "duration": 833,
    "start_time": "2023-02-08T23:11:00.121Z"
   },
   {
    "duration": 27,
    "start_time": "2023-02-08T23:11:00.956Z"
   },
   {
    "duration": 85,
    "start_time": "2023-02-08T23:11:00.985Z"
   },
   {
    "duration": 45,
    "start_time": "2023-02-08T23:11:01.073Z"
   },
   {
    "duration": 57,
    "start_time": "2023-02-08T23:11:01.120Z"
   },
   {
    "duration": 67,
    "start_time": "2023-02-08T23:11:01.179Z"
   },
   {
    "duration": 76,
    "start_time": "2023-02-08T23:11:01.247Z"
   },
   {
    "duration": 344,
    "start_time": "2023-02-08T23:11:01.325Z"
   },
   {
    "duration": 281,
    "start_time": "2023-02-08T23:11:01.670Z"
   },
   {
    "duration": 356,
    "start_time": "2023-02-08T23:11:01.953Z"
   },
   {
    "duration": 4,
    "start_time": "2023-02-08T23:11:02.310Z"
   },
   {
    "duration": 285,
    "start_time": "2023-02-08T23:11:02.316Z"
   },
   {
    "duration": 4,
    "start_time": "2023-02-08T23:11:02.692Z"
   },
   {
    "duration": 105,
    "start_time": "2023-02-08T23:11:02.699Z"
   },
   {
    "duration": 26,
    "start_time": "2023-02-08T23:11:02.806Z"
   },
   {
    "duration": 25,
    "start_time": "2023-02-08T23:11:02.833Z"
   },
   {
    "duration": 35,
    "start_time": "2023-02-08T23:11:02.860Z"
   },
   {
    "duration": 27,
    "start_time": "2023-02-08T23:11:02.897Z"
   },
   {
    "duration": 5,
    "start_time": "2023-02-08T23:11:02.926Z"
   },
   {
    "duration": 12,
    "start_time": "2023-02-08T23:11:02.933Z"
   },
   {
    "duration": 4053,
    "start_time": "2023-02-08T23:11:02.946Z"
   },
   {
    "duration": 3,
    "start_time": "2023-02-08T23:11:07.001Z"
   },
   {
    "duration": 9,
    "start_time": "2023-02-08T23:11:07.006Z"
   },
   {
    "duration": 5,
    "start_time": "2023-02-08T23:15:31.794Z"
   },
   {
    "duration": 109,
    "start_time": "2023-02-08T23:15:35.564Z"
   },
   {
    "duration": 1248,
    "start_time": "2023-02-08T23:17:41.354Z"
   },
   {
    "duration": 364,
    "start_time": "2023-02-08T23:17:42.604Z"
   },
   {
    "duration": 32,
    "start_time": "2023-02-08T23:17:42.969Z"
   },
   {
    "duration": 21,
    "start_time": "2023-02-08T23:17:43.003Z"
   },
   {
    "duration": 21,
    "start_time": "2023-02-08T23:17:43.026Z"
   },
   {
    "duration": 68,
    "start_time": "2023-02-08T23:17:43.048Z"
   },
   {
    "duration": 41,
    "start_time": "2023-02-08T23:17:43.118Z"
   },
   {
    "duration": 64,
    "start_time": "2023-02-08T23:17:43.161Z"
   },
   {
    "duration": 280,
    "start_time": "2023-02-08T23:17:43.227Z"
   },
   {
    "duration": 279,
    "start_time": "2023-02-08T23:17:43.509Z"
   },
   {
    "duration": 375,
    "start_time": "2023-02-08T23:17:43.791Z"
   },
   {
    "duration": 4,
    "start_time": "2023-02-08T23:17:44.168Z"
   },
   {
    "duration": 323,
    "start_time": "2023-02-08T23:17:44.173Z"
   },
   {
    "duration": 92,
    "start_time": "2023-02-08T23:17:44.500Z"
   },
   {
    "duration": 7,
    "start_time": "2023-02-08T23:17:44.594Z"
   },
   {
    "duration": 91,
    "start_time": "2023-02-08T23:17:44.602Z"
   },
   {
    "duration": 7,
    "start_time": "2023-02-08T23:17:44.695Z"
   },
   {
    "duration": 7,
    "start_time": "2023-02-08T23:17:44.704Z"
   },
   {
    "duration": 4,
    "start_time": "2023-02-08T23:17:44.713Z"
   },
   {
    "duration": 6,
    "start_time": "2023-02-08T23:17:44.718Z"
   },
   {
    "duration": 3885,
    "start_time": "2023-02-08T23:17:44.726Z"
   },
   {
    "duration": 4,
    "start_time": "2023-02-08T23:17:48.613Z"
   },
   {
    "duration": 16,
    "start_time": "2023-02-08T23:17:48.619Z"
   },
   {
    "duration": 1758,
    "start_time": "2023-02-09T12:02:16.743Z"
   },
   {
    "duration": 1766,
    "start_time": "2023-02-09T12:02:18.504Z"
   },
   {
    "duration": 31,
    "start_time": "2023-02-09T12:02:21.325Z"
   },
   {
    "duration": 24,
    "start_time": "2023-02-09T12:02:21.990Z"
   },
   {
    "duration": 22,
    "start_time": "2023-02-09T12:02:23.243Z"
   },
   {
    "duration": 52,
    "start_time": "2023-02-09T12:02:23.697Z"
   },
   {
    "duration": 53,
    "start_time": "2023-02-09T12:02:25.374Z"
   },
   {
    "duration": 51,
    "start_time": "2023-02-09T12:02:25.691Z"
   },
   {
    "duration": 308,
    "start_time": "2023-02-09T12:02:28.910Z"
   },
   {
    "duration": 321,
    "start_time": "2023-02-09T12:02:30.811Z"
   },
   {
    "duration": 392,
    "start_time": "2023-02-09T12:02:31.999Z"
   },
   {
    "duration": 5,
    "start_time": "2023-02-09T12:04:52.376Z"
   },
   {
    "duration": 383,
    "start_time": "2023-02-09T12:05:40.741Z"
   },
   {
    "duration": 4,
    "start_time": "2023-02-09T12:07:06.532Z"
   },
   {
    "duration": 4,
    "start_time": "2023-02-09T12:07:21.716Z"
   },
   {
    "duration": 5,
    "start_time": "2023-02-09T12:07:47.902Z"
   },
   {
    "duration": 4,
    "start_time": "2023-02-09T12:08:41.649Z"
   },
   {
    "duration": 5,
    "start_time": "2023-02-09T12:08:42.854Z"
   },
   {
    "duration": 4,
    "start_time": "2023-02-09T12:09:05.112Z"
   },
   {
    "duration": 6,
    "start_time": "2023-02-09T12:09:50.673Z"
   },
   {
    "duration": 4317,
    "start_time": "2023-02-09T12:10:08.712Z"
   },
   {
    "duration": 5,
    "start_time": "2023-02-09T12:10:13.031Z"
   },
   {
    "duration": 20,
    "start_time": "2023-02-09T12:10:13.037Z"
   },
   {
    "duration": 5,
    "start_time": "2023-02-09T12:10:38.295Z"
   },
   {
    "duration": 3697,
    "start_time": "2023-02-09T12:10:39.652Z"
   },
   {
    "duration": 5,
    "start_time": "2023-02-09T12:10:43.351Z"
   },
   {
    "duration": 7,
    "start_time": "2023-02-09T12:10:43.357Z"
   },
   {
    "duration": 5,
    "start_time": "2023-02-09T12:11:23.715Z"
   },
   {
    "duration": 4370,
    "start_time": "2023-02-09T12:11:24.679Z"
   },
   {
    "duration": 4,
    "start_time": "2023-02-09T12:11:29.051Z"
   },
   {
    "duration": 14,
    "start_time": "2023-02-09T12:11:29.056Z"
   },
   {
    "duration": 71,
    "start_time": "2023-02-09T20:05:27.789Z"
   },
   {
    "duration": 1482,
    "start_time": "2023-02-09T20:05:35.166Z"
   },
   {
    "duration": 1464,
    "start_time": "2023-02-09T20:05:36.650Z"
   },
   {
    "duration": 28,
    "start_time": "2023-02-09T20:05:38.116Z"
   },
   {
    "duration": 19,
    "start_time": "2023-02-09T20:05:38.145Z"
   },
   {
    "duration": 24,
    "start_time": "2023-02-09T20:05:38.166Z"
   },
   {
    "duration": 47,
    "start_time": "2023-02-09T20:05:38.192Z"
   },
   {
    "duration": 66,
    "start_time": "2023-02-09T20:05:38.240Z"
   },
   {
    "duration": 51,
    "start_time": "2023-02-09T20:05:38.308Z"
   },
   {
    "duration": 287,
    "start_time": "2023-02-09T20:05:38.360Z"
   },
   {
    "duration": 272,
    "start_time": "2023-02-09T20:05:38.649Z"
   },
   {
    "duration": 359,
    "start_time": "2023-02-09T20:05:38.923Z"
   },
   {
    "duration": 5,
    "start_time": "2023-02-09T20:05:39.284Z"
   },
   {
    "duration": 302,
    "start_time": "2023-02-09T20:05:39.290Z"
   },
   {
    "duration": 3,
    "start_time": "2023-02-09T20:05:39.684Z"
   },
   {
    "duration": 120,
    "start_time": "2023-02-09T20:05:39.688Z"
   },
   {
    "duration": 21,
    "start_time": "2023-02-09T20:05:39.810Z"
   },
   {
    "duration": 38,
    "start_time": "2023-02-09T20:05:39.833Z"
   },
   {
    "duration": 22,
    "start_time": "2023-02-09T20:05:39.873Z"
   },
   {
    "duration": 80,
    "start_time": "2023-02-09T20:05:39.897Z"
   },
   {
    "duration": 0,
    "start_time": "2023-02-09T20:05:39.979Z"
   },
   {
    "duration": 0,
    "start_time": "2023-02-09T20:05:39.981Z"
   },
   {
    "duration": 0,
    "start_time": "2023-02-09T20:05:39.982Z"
   },
   {
    "duration": 0,
    "start_time": "2023-02-09T20:05:39.984Z"
   },
   {
    "duration": 1438,
    "start_time": "2023-02-09T20:16:50.168Z"
   },
   {
    "duration": 370,
    "start_time": "2023-02-09T20:16:51.608Z"
   },
   {
    "duration": 28,
    "start_time": "2023-02-09T20:16:51.982Z"
   },
   {
    "duration": 20,
    "start_time": "2023-02-09T20:16:52.012Z"
   },
   {
    "duration": 19,
    "start_time": "2023-02-09T20:16:52.033Z"
   },
   {
    "duration": 77,
    "start_time": "2023-02-09T20:16:52.054Z"
   },
   {
    "duration": 61,
    "start_time": "2023-02-09T20:16:52.133Z"
   },
   {
    "duration": 49,
    "start_time": "2023-02-09T20:16:52.197Z"
   },
   {
    "duration": 335,
    "start_time": "2023-02-09T20:16:52.248Z"
   },
   {
    "duration": 322,
    "start_time": "2023-02-09T20:16:52.586Z"
   },
   {
    "duration": 396,
    "start_time": "2023-02-09T20:16:52.910Z"
   },
   {
    "duration": 5,
    "start_time": "2023-02-09T20:16:53.309Z"
   },
   {
    "duration": 279,
    "start_time": "2023-02-09T20:16:53.316Z"
   },
   {
    "duration": 86,
    "start_time": "2023-02-09T20:16:53.597Z"
   },
   {
    "duration": 112,
    "start_time": "2023-02-09T20:16:53.685Z"
   },
   {
    "duration": 30,
    "start_time": "2023-02-09T20:16:53.799Z"
   },
   {
    "duration": 19,
    "start_time": "2023-02-09T20:16:53.830Z"
   },
   {
    "duration": 19,
    "start_time": "2023-02-09T20:16:53.850Z"
   },
   {
    "duration": 17,
    "start_time": "2023-02-09T20:16:53.871Z"
   },
   {
    "duration": 15,
    "start_time": "2023-02-09T20:16:53.891Z"
   },
   {
    "duration": 3615,
    "start_time": "2023-02-09T20:16:53.908Z"
   },
   {
    "duration": 4,
    "start_time": "2023-02-09T20:16:57.525Z"
   },
   {
    "duration": 11,
    "start_time": "2023-02-09T20:16:57.530Z"
   },
   {
    "duration": 72,
    "start_time": "2023-02-09T20:19:17.452Z"
   }
  ],
  "kernelspec": {
   "display_name": "Python 3 (ipykernel)",
   "language": "python",
   "name": "python3"
  },
  "language_info": {
   "codemirror_mode": {
    "name": "ipython",
    "version": 3
   },
   "file_extension": ".py",
   "mimetype": "text/x-python",
   "name": "python",
   "nbconvert_exporter": "python",
   "pygments_lexer": "ipython3",
   "version": "3.9.13"
  },
  "toc": {
   "base_numbering": 1,
   "nav_menu": {},
   "number_sections": true,
   "sideBar": true,
   "skip_h1_title": true,
   "title_cell": "Table of Contents",
   "title_sidebar": "Contents",
   "toc_cell": false,
   "toc_position": {},
   "toc_section_display": true,
   "toc_window_display": false
  }
 },
 "nbformat": 4,
 "nbformat_minor": 2
}
