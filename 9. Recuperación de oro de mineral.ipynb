{
 "cells": [
  {
   "cell_type": "markdown",
   "metadata": {},
   "source": [
    "# Recuperación de oro de mineral"
   ]
  },
  {
   "cell_type": "markdown",
   "metadata": {},
   "source": [
    "Preparar un prototipo de modelo de aprendizaje automático para \"Figuras\". La empresa desarrolla soluciones para el funcionamiento eficiente de las empresas industriales.\n",
    "\n",
    "El modelo debe predecir la tasa de recuperación de oro del mineral de oro. Utilice datos con parámetros de extracción y refinamiento. \n",
    "\n",
    "El modelo ayudará a optimizar la producción para no iniciar una empresa con características deficitarias.\n",
    "\n",
    "Usted necesita para:\n",
    "\n",
    "1. Preparar los datos;\n",
    "2. Realizar análisis de investigación de los datos;\n",
    "3. Construir y entrenar el modelo.\n",
    "\n",
    "Para completar el proyecto, póngase en contacto con las bibliotecas *pandas*, *matplotlib* y *sklearn. * Su documentación le ayudará."
   ]
  },
  {
   "cell_type": "markdown",
   "metadata": {},
   "source": [
    "## Preparing data"
   ]
  },
  {
   "cell_type": "code",
   "execution_count": 1,
   "metadata": {},
   "outputs": [],
   "source": [
    "import matplotlib.pyplot as plt\n",
    "import numpy as np\n",
    "import pandas as pd\n",
    "import seaborn as sns\n",
    "\n",
    "from collections import defaultdict\n",
    "from sklearn.dummy import DummyRegressor\n",
    "from sklearn.ensemble import RandomForestRegressor\n",
    "from sklearn.linear_model import LinearRegression\n",
    "from sklearn.metrics import make_scorer, mean_absolute_error\n",
    "from sklearn.model_selection import cross_val_score, GridSearchCV\n",
    "from sklearn.preprocessing import StandardScaler\n",
    "from scipy.stats import randint\n",
    "from sklearn.tree import DecisionTreeRegressor \n",
    "\n",
    "\n",
    "import warnings\n",
    "warnings.filterwarnings(\"ignore\") "
   ]
  },
  {
   "cell_type": "markdown",
   "metadata": {},
   "source": [
    "### Abrir los archivos y estudiarlos"
   ]
  },
  {
   "cell_type": "code",
   "execution_count": 2,
   "metadata": {},
   "outputs": [],
   "source": [
    "df_train = pd.read_csv('/datasets/gold_recovery_train_new.csv')\n",
    "df_test = pd.read_csv('/datasets/gold_recovery_test_new.csv')\n",
    "df_full = pd.read_csv('/datasets/gold_recovery_full_new.csv')"
   ]
  },
  {
   "cell_type": "code",
   "execution_count": 3,
   "metadata": {
    "scrolled": true
   },
   "outputs": [
    {
     "name": "stdout",
     "output_type": "stream",
     "text": [
      "<class 'pandas.core.frame.DataFrame'>\n",
      "RangeIndex: 14149 entries, 0 to 14148\n",
      "Data columns (total 87 columns):\n",
      " #   Column                                              Non-Null Count  Dtype  \n",
      "---  ------                                              --------------  -----  \n",
      " 0   date                                                14149 non-null  object \n",
      " 1   final.output.concentrate_ag                         14148 non-null  float64\n",
      " 2   final.output.concentrate_pb                         14148 non-null  float64\n",
      " 3   final.output.concentrate_sol                        13938 non-null  float64\n",
      " 4   final.output.concentrate_au                         14149 non-null  float64\n",
      " 5   final.output.recovery                               14149 non-null  float64\n",
      " 6   final.output.tail_ag                                14149 non-null  float64\n",
      " 7   final.output.tail_pb                                14049 non-null  float64\n",
      " 8   final.output.tail_sol                               14144 non-null  float64\n",
      " 9   final.output.tail_au                                14149 non-null  float64\n",
      " 10  primary_cleaner.input.sulfate                       14129 non-null  float64\n",
      " 11  primary_cleaner.input.depressant                    14117 non-null  float64\n",
      " 12  primary_cleaner.input.feed_size                     14149 non-null  float64\n",
      " 13  primary_cleaner.input.xanthate                      14049 non-null  float64\n",
      " 14  primary_cleaner.output.concentrate_ag               14149 non-null  float64\n",
      " 15  primary_cleaner.output.concentrate_pb               14063 non-null  float64\n",
      " 16  primary_cleaner.output.concentrate_sol              13863 non-null  float64\n",
      " 17  primary_cleaner.output.concentrate_au               14149 non-null  float64\n",
      " 18  primary_cleaner.output.tail_ag                      14148 non-null  float64\n",
      " 19  primary_cleaner.output.tail_pb                      14134 non-null  float64\n",
      " 20  primary_cleaner.output.tail_sol                     14103 non-null  float64\n",
      " 21  primary_cleaner.output.tail_au                      14149 non-null  float64\n",
      " 22  primary_cleaner.state.floatbank8_a_air              14145 non-null  float64\n",
      " 23  primary_cleaner.state.floatbank8_a_level            14148 non-null  float64\n",
      " 24  primary_cleaner.state.floatbank8_b_air              14145 non-null  float64\n",
      " 25  primary_cleaner.state.floatbank8_b_level            14148 non-null  float64\n",
      " 26  primary_cleaner.state.floatbank8_c_air              14147 non-null  float64\n",
      " 27  primary_cleaner.state.floatbank8_c_level            14148 non-null  float64\n",
      " 28  primary_cleaner.state.floatbank8_d_air              14146 non-null  float64\n",
      " 29  primary_cleaner.state.floatbank8_d_level            14148 non-null  float64\n",
      " 30  rougher.calculation.sulfate_to_au_concentrate       14148 non-null  float64\n",
      " 31  rougher.calculation.floatbank10_sulfate_to_au_feed  14148 non-null  float64\n",
      " 32  rougher.calculation.floatbank11_sulfate_to_au_feed  14148 non-null  float64\n",
      " 33  rougher.calculation.au_pb_ratio                     14149 non-null  float64\n",
      " 34  rougher.input.feed_ag                               14149 non-null  float64\n",
      " 35  rougher.input.feed_pb                               14049 non-null  float64\n",
      " 36  rougher.input.feed_rate                             14141 non-null  float64\n",
      " 37  rougher.input.feed_size                             14005 non-null  float64\n",
      " 38  rougher.input.feed_sol                              14071 non-null  float64\n",
      " 39  rougher.input.feed_au                               14149 non-null  float64\n",
      " 40  rougher.input.floatbank10_sulfate                   14120 non-null  float64\n",
      " 41  rougher.input.floatbank10_xanthate                  14141 non-null  float64\n",
      " 42  rougher.input.floatbank11_sulfate                   14113 non-null  float64\n",
      " 43  rougher.input.floatbank11_xanthate                  13721 non-null  float64\n",
      " 44  rougher.output.concentrate_ag                       14149 non-null  float64\n",
      " 45  rougher.output.concentrate_pb                       14149 non-null  float64\n",
      " 46  rougher.output.concentrate_sol                      14127 non-null  float64\n",
      " 47  rougher.output.concentrate_au                       14149 non-null  float64\n",
      " 48  rougher.output.recovery                             14149 non-null  float64\n",
      " 49  rougher.output.tail_ag                              14148 non-null  float64\n",
      " 50  rougher.output.tail_pb                              14149 non-null  float64\n",
      " 51  rougher.output.tail_sol                             14149 non-null  float64\n",
      " 52  rougher.output.tail_au                              14149 non-null  float64\n",
      " 53  rougher.state.floatbank10_a_air                     14148 non-null  float64\n",
      " 54  rougher.state.floatbank10_a_level                   14148 non-null  float64\n",
      " 55  rougher.state.floatbank10_b_air                     14148 non-null  float64\n",
      " 56  rougher.state.floatbank10_b_level                   14148 non-null  float64\n",
      " 57  rougher.state.floatbank10_c_air                     14148 non-null  float64\n",
      " 58  rougher.state.floatbank10_c_level                   14148 non-null  float64\n",
      " 59  rougher.state.floatbank10_d_air                     14149 non-null  float64\n",
      " 60  rougher.state.floatbank10_d_level                   14149 non-null  float64\n",
      " 61  rougher.state.floatbank10_e_air                     13713 non-null  float64\n",
      " 62  rougher.state.floatbank10_e_level                   14149 non-null  float64\n",
      " 63  rougher.state.floatbank10_f_air                     14149 non-null  float64\n",
      " 64  rougher.state.floatbank10_f_level                   14149 non-null  float64\n",
      " 65  secondary_cleaner.output.tail_ag                    14147 non-null  float64\n",
      " 66  secondary_cleaner.output.tail_pb                    14139 non-null  float64\n",
      " 67  secondary_cleaner.output.tail_sol                   12544 non-null  float64\n",
      " 68  secondary_cleaner.output.tail_au                    14149 non-null  float64\n",
      " 69  secondary_cleaner.state.floatbank2_a_air            13932 non-null  float64\n",
      " 70  secondary_cleaner.state.floatbank2_a_level          14148 non-null  float64\n",
      " 71  secondary_cleaner.state.floatbank2_b_air            14128 non-null  float64\n",
      " 72  secondary_cleaner.state.floatbank2_b_level          14148 non-null  float64\n",
      " 73  secondary_cleaner.state.floatbank3_a_air            14145 non-null  float64\n",
      " 74  secondary_cleaner.state.floatbank3_a_level          14148 non-null  float64\n",
      " 75  secondary_cleaner.state.floatbank3_b_air            14148 non-null  float64\n",
      " 76  secondary_cleaner.state.floatbank3_b_level          14148 non-null  float64\n",
      " 77  secondary_cleaner.state.floatbank4_a_air            14143 non-null  float64\n",
      " 78  secondary_cleaner.state.floatbank4_a_level          14148 non-null  float64\n",
      " 79  secondary_cleaner.state.floatbank4_b_air            14148 non-null  float64\n",
      " 80  secondary_cleaner.state.floatbank4_b_level          14148 non-null  float64\n",
      " 81  secondary_cleaner.state.floatbank5_a_air            14148 non-null  float64\n",
      " 82  secondary_cleaner.state.floatbank5_a_level          14148 non-null  float64\n",
      " 83  secondary_cleaner.state.floatbank5_b_air            14148 non-null  float64\n",
      " 84  secondary_cleaner.state.floatbank5_b_level          14148 non-null  float64\n",
      " 85  secondary_cleaner.state.floatbank6_a_air            14147 non-null  float64\n",
      " 86  secondary_cleaner.state.floatbank6_a_level          14148 non-null  float64\n",
      "dtypes: float64(86), object(1)\n",
      "memory usage: 9.4+ MB\n"
     ]
    }
   ],
   "source": [
    "df_train.info()"
   ]
  },
  {
   "cell_type": "code",
   "execution_count": 4,
   "metadata": {},
   "outputs": [
    {
     "data": {
      "text/html": [
       "<div>\n",
       "<style scoped>\n",
       "    .dataframe tbody tr th:only-of-type {\n",
       "        vertical-align: middle;\n",
       "    }\n",
       "\n",
       "    .dataframe tbody tr th {\n",
       "        vertical-align: top;\n",
       "    }\n",
       "\n",
       "    .dataframe thead th {\n",
       "        text-align: right;\n",
       "    }\n",
       "</style>\n",
       "<table border=\"1\" class=\"dataframe\">\n",
       "  <thead>\n",
       "    <tr style=\"text-align: right;\">\n",
       "      <th></th>\n",
       "      <th>final.output.concentrate_ag</th>\n",
       "      <th>final.output.concentrate_pb</th>\n",
       "      <th>final.output.concentrate_sol</th>\n",
       "      <th>final.output.concentrate_au</th>\n",
       "      <th>final.output.recovery</th>\n",
       "      <th>final.output.tail_ag</th>\n",
       "      <th>final.output.tail_pb</th>\n",
       "      <th>final.output.tail_sol</th>\n",
       "      <th>final.output.tail_au</th>\n",
       "      <th>primary_cleaner.input.sulfate</th>\n",
       "      <th>...</th>\n",
       "      <th>secondary_cleaner.state.floatbank4_a_air</th>\n",
       "      <th>secondary_cleaner.state.floatbank4_a_level</th>\n",
       "      <th>secondary_cleaner.state.floatbank4_b_air</th>\n",
       "      <th>secondary_cleaner.state.floatbank4_b_level</th>\n",
       "      <th>secondary_cleaner.state.floatbank5_a_air</th>\n",
       "      <th>secondary_cleaner.state.floatbank5_a_level</th>\n",
       "      <th>secondary_cleaner.state.floatbank5_b_air</th>\n",
       "      <th>secondary_cleaner.state.floatbank5_b_level</th>\n",
       "      <th>secondary_cleaner.state.floatbank6_a_air</th>\n",
       "      <th>secondary_cleaner.state.floatbank6_a_level</th>\n",
       "    </tr>\n",
       "  </thead>\n",
       "  <tbody>\n",
       "    <tr>\n",
       "      <th>count</th>\n",
       "      <td>14148.000000</td>\n",
       "      <td>14148.000000</td>\n",
       "      <td>13938.000000</td>\n",
       "      <td>14149.000000</td>\n",
       "      <td>14149.000000</td>\n",
       "      <td>14149.000000</td>\n",
       "      <td>14049.000000</td>\n",
       "      <td>14144.000000</td>\n",
       "      <td>14149.000000</td>\n",
       "      <td>14129.000000</td>\n",
       "      <td>...</td>\n",
       "      <td>14143.000000</td>\n",
       "      <td>14148.000000</td>\n",
       "      <td>14148.000000</td>\n",
       "      <td>14148.000000</td>\n",
       "      <td>14148.000000</td>\n",
       "      <td>14148.000000</td>\n",
       "      <td>14148.000000</td>\n",
       "      <td>14148.000000</td>\n",
       "      <td>14147.000000</td>\n",
       "      <td>14148.000000</td>\n",
       "    </tr>\n",
       "    <tr>\n",
       "      <th>mean</th>\n",
       "      <td>5.142034</td>\n",
       "      <td>10.132960</td>\n",
       "      <td>9.202849</td>\n",
       "      <td>44.003792</td>\n",
       "      <td>66.518832</td>\n",
       "      <td>9.607035</td>\n",
       "      <td>2.597298</td>\n",
       "      <td>10.512122</td>\n",
       "      <td>2.918421</td>\n",
       "      <td>133.320659</td>\n",
       "      <td>...</td>\n",
       "      <td>19.985454</td>\n",
       "      <td>-478.696836</td>\n",
       "      <td>15.487065</td>\n",
       "      <td>-460.229416</td>\n",
       "      <td>16.775136</td>\n",
       "      <td>-483.956022</td>\n",
       "      <td>13.064590</td>\n",
       "      <td>-483.966564</td>\n",
       "      <td>19.577539</td>\n",
       "      <td>-506.798480</td>\n",
       "    </tr>\n",
       "    <tr>\n",
       "      <th>std</th>\n",
       "      <td>1.369586</td>\n",
       "      <td>1.654930</td>\n",
       "      <td>2.790516</td>\n",
       "      <td>4.905261</td>\n",
       "      <td>10.295402</td>\n",
       "      <td>2.319069</td>\n",
       "      <td>0.971843</td>\n",
       "      <td>3.003617</td>\n",
       "      <td>0.903712</td>\n",
       "      <td>39.431659</td>\n",
       "      <td>...</td>\n",
       "      <td>5.657723</td>\n",
       "      <td>50.736021</td>\n",
       "      <td>5.255655</td>\n",
       "      <td>58.843586</td>\n",
       "      <td>5.831906</td>\n",
       "      <td>37.892788</td>\n",
       "      <td>5.765617</td>\n",
       "      <td>39.207913</td>\n",
       "      <td>5.764417</td>\n",
       "      <td>37.079249</td>\n",
       "    </tr>\n",
       "    <tr>\n",
       "      <th>min</th>\n",
       "      <td>0.000000</td>\n",
       "      <td>0.000000</td>\n",
       "      <td>0.000000</td>\n",
       "      <td>0.000000</td>\n",
       "      <td>0.000000</td>\n",
       "      <td>0.000000</td>\n",
       "      <td>0.000000</td>\n",
       "      <td>0.000000</td>\n",
       "      <td>0.000000</td>\n",
       "      <td>0.003112</td>\n",
       "      <td>...</td>\n",
       "      <td>0.000000</td>\n",
       "      <td>-799.709069</td>\n",
       "      <td>0.000000</td>\n",
       "      <td>-799.889113</td>\n",
       "      <td>-0.372054</td>\n",
       "      <td>-797.142475</td>\n",
       "      <td>0.646208</td>\n",
       "      <td>-800.006180</td>\n",
       "      <td>0.195324</td>\n",
       "      <td>-809.398668</td>\n",
       "    </tr>\n",
       "    <tr>\n",
       "      <th>25%</th>\n",
       "      <td>4.211620</td>\n",
       "      <td>9.297355</td>\n",
       "      <td>7.484645</td>\n",
       "      <td>43.276111</td>\n",
       "      <td>62.545817</td>\n",
       "      <td>7.997429</td>\n",
       "      <td>1.905973</td>\n",
       "      <td>8.811324</td>\n",
       "      <td>2.368607</td>\n",
       "      <td>107.006651</td>\n",
       "      <td>...</td>\n",
       "      <td>14.990775</td>\n",
       "      <td>-500.628656</td>\n",
       "      <td>11.894558</td>\n",
       "      <td>-500.149000</td>\n",
       "      <td>11.083980</td>\n",
       "      <td>-500.363177</td>\n",
       "      <td>8.994405</td>\n",
       "      <td>-500.105994</td>\n",
       "      <td>14.989304</td>\n",
       "      <td>-500.745104</td>\n",
       "    </tr>\n",
       "    <tr>\n",
       "      <th>50%</th>\n",
       "      <td>4.994652</td>\n",
       "      <td>10.297144</td>\n",
       "      <td>8.845462</td>\n",
       "      <td>44.872436</td>\n",
       "      <td>67.432775</td>\n",
       "      <td>9.480270</td>\n",
       "      <td>2.592022</td>\n",
       "      <td>10.514621</td>\n",
       "      <td>2.851025</td>\n",
       "      <td>133.018328</td>\n",
       "      <td>...</td>\n",
       "      <td>20.001789</td>\n",
       "      <td>-499.681450</td>\n",
       "      <td>14.975536</td>\n",
       "      <td>-499.388738</td>\n",
       "      <td>17.932223</td>\n",
       "      <td>-499.702452</td>\n",
       "      <td>11.997547</td>\n",
       "      <td>-499.914556</td>\n",
       "      <td>19.984175</td>\n",
       "      <td>-500.061431</td>\n",
       "    </tr>\n",
       "    <tr>\n",
       "      <th>75%</th>\n",
       "      <td>5.859540</td>\n",
       "      <td>11.170603</td>\n",
       "      <td>10.487508</td>\n",
       "      <td>46.166425</td>\n",
       "      <td>72.346428</td>\n",
       "      <td>11.003707</td>\n",
       "      <td>3.241723</td>\n",
       "      <td>11.933009</td>\n",
       "      <td>3.434764</td>\n",
       "      <td>159.825396</td>\n",
       "      <td>...</td>\n",
       "      <td>24.990826</td>\n",
       "      <td>-477.472413</td>\n",
       "      <td>20.059375</td>\n",
       "      <td>-400.039008</td>\n",
       "      <td>21.346550</td>\n",
       "      <td>-487.712108</td>\n",
       "      <td>17.982903</td>\n",
       "      <td>-453.186936</td>\n",
       "      <td>24.991623</td>\n",
       "      <td>-499.536466</td>\n",
       "    </tr>\n",
       "    <tr>\n",
       "      <th>max</th>\n",
       "      <td>16.001945</td>\n",
       "      <td>17.031899</td>\n",
       "      <td>18.124851</td>\n",
       "      <td>52.756638</td>\n",
       "      <td>100.000000</td>\n",
       "      <td>19.552149</td>\n",
       "      <td>5.639565</td>\n",
       "      <td>22.317730</td>\n",
       "      <td>8.197408</td>\n",
       "      <td>250.127834</td>\n",
       "      <td>...</td>\n",
       "      <td>30.115735</td>\n",
       "      <td>-245.239184</td>\n",
       "      <td>24.007913</td>\n",
       "      <td>-145.071088</td>\n",
       "      <td>43.709931</td>\n",
       "      <td>-275.073125</td>\n",
       "      <td>27.926001</td>\n",
       "      <td>-157.396071</td>\n",
       "      <td>32.188906</td>\n",
       "      <td>-104.427459</td>\n",
       "    </tr>\n",
       "  </tbody>\n",
       "</table>\n",
       "<p>8 rows × 86 columns</p>\n",
       "</div>"
      ],
      "text/plain": [
       "       final.output.concentrate_ag  final.output.concentrate_pb  \\\n",
       "count                 14148.000000                 14148.000000   \n",
       "mean                      5.142034                    10.132960   \n",
       "std                       1.369586                     1.654930   \n",
       "min                       0.000000                     0.000000   \n",
       "25%                       4.211620                     9.297355   \n",
       "50%                       4.994652                    10.297144   \n",
       "75%                       5.859540                    11.170603   \n",
       "max                      16.001945                    17.031899   \n",
       "\n",
       "       final.output.concentrate_sol  final.output.concentrate_au  \\\n",
       "count                  13938.000000                 14149.000000   \n",
       "mean                       9.202849                    44.003792   \n",
       "std                        2.790516                     4.905261   \n",
       "min                        0.000000                     0.000000   \n",
       "25%                        7.484645                    43.276111   \n",
       "50%                        8.845462                    44.872436   \n",
       "75%                       10.487508                    46.166425   \n",
       "max                       18.124851                    52.756638   \n",
       "\n",
       "       final.output.recovery  final.output.tail_ag  final.output.tail_pb  \\\n",
       "count           14149.000000          14149.000000          14049.000000   \n",
       "mean               66.518832              9.607035              2.597298   \n",
       "std                10.295402              2.319069              0.971843   \n",
       "min                 0.000000              0.000000              0.000000   \n",
       "25%                62.545817              7.997429              1.905973   \n",
       "50%                67.432775              9.480270              2.592022   \n",
       "75%                72.346428             11.003707              3.241723   \n",
       "max               100.000000             19.552149              5.639565   \n",
       "\n",
       "       final.output.tail_sol  final.output.tail_au  \\\n",
       "count           14144.000000          14149.000000   \n",
       "mean               10.512122              2.918421   \n",
       "std                 3.003617              0.903712   \n",
       "min                 0.000000              0.000000   \n",
       "25%                 8.811324              2.368607   \n",
       "50%                10.514621              2.851025   \n",
       "75%                11.933009              3.434764   \n",
       "max                22.317730              8.197408   \n",
       "\n",
       "       primary_cleaner.input.sulfate  ...  \\\n",
       "count                   14129.000000  ...   \n",
       "mean                      133.320659  ...   \n",
       "std                        39.431659  ...   \n",
       "min                         0.003112  ...   \n",
       "25%                       107.006651  ...   \n",
       "50%                       133.018328  ...   \n",
       "75%                       159.825396  ...   \n",
       "max                       250.127834  ...   \n",
       "\n",
       "       secondary_cleaner.state.floatbank4_a_air  \\\n",
       "count                              14143.000000   \n",
       "mean                                  19.985454   \n",
       "std                                    5.657723   \n",
       "min                                    0.000000   \n",
       "25%                                   14.990775   \n",
       "50%                                   20.001789   \n",
       "75%                                   24.990826   \n",
       "max                                   30.115735   \n",
       "\n",
       "       secondary_cleaner.state.floatbank4_a_level  \\\n",
       "count                                14148.000000   \n",
       "mean                                  -478.696836   \n",
       "std                                     50.736021   \n",
       "min                                   -799.709069   \n",
       "25%                                   -500.628656   \n",
       "50%                                   -499.681450   \n",
       "75%                                   -477.472413   \n",
       "max                                   -245.239184   \n",
       "\n",
       "       secondary_cleaner.state.floatbank4_b_air  \\\n",
       "count                              14148.000000   \n",
       "mean                                  15.487065   \n",
       "std                                    5.255655   \n",
       "min                                    0.000000   \n",
       "25%                                   11.894558   \n",
       "50%                                   14.975536   \n",
       "75%                                   20.059375   \n",
       "max                                   24.007913   \n",
       "\n",
       "       secondary_cleaner.state.floatbank4_b_level  \\\n",
       "count                                14148.000000   \n",
       "mean                                  -460.229416   \n",
       "std                                     58.843586   \n",
       "min                                   -799.889113   \n",
       "25%                                   -500.149000   \n",
       "50%                                   -499.388738   \n",
       "75%                                   -400.039008   \n",
       "max                                   -145.071088   \n",
       "\n",
       "       secondary_cleaner.state.floatbank5_a_air  \\\n",
       "count                              14148.000000   \n",
       "mean                                  16.775136   \n",
       "std                                    5.831906   \n",
       "min                                   -0.372054   \n",
       "25%                                   11.083980   \n",
       "50%                                   17.932223   \n",
       "75%                                   21.346550   \n",
       "max                                   43.709931   \n",
       "\n",
       "       secondary_cleaner.state.floatbank5_a_level  \\\n",
       "count                                14148.000000   \n",
       "mean                                  -483.956022   \n",
       "std                                     37.892788   \n",
       "min                                   -797.142475   \n",
       "25%                                   -500.363177   \n",
       "50%                                   -499.702452   \n",
       "75%                                   -487.712108   \n",
       "max                                   -275.073125   \n",
       "\n",
       "       secondary_cleaner.state.floatbank5_b_air  \\\n",
       "count                              14148.000000   \n",
       "mean                                  13.064590   \n",
       "std                                    5.765617   \n",
       "min                                    0.646208   \n",
       "25%                                    8.994405   \n",
       "50%                                   11.997547   \n",
       "75%                                   17.982903   \n",
       "max                                   27.926001   \n",
       "\n",
       "       secondary_cleaner.state.floatbank5_b_level  \\\n",
       "count                                14148.000000   \n",
       "mean                                  -483.966564   \n",
       "std                                     39.207913   \n",
       "min                                   -800.006180   \n",
       "25%                                   -500.105994   \n",
       "50%                                   -499.914556   \n",
       "75%                                   -453.186936   \n",
       "max                                   -157.396071   \n",
       "\n",
       "       secondary_cleaner.state.floatbank6_a_air  \\\n",
       "count                              14147.000000   \n",
       "mean                                  19.577539   \n",
       "std                                    5.764417   \n",
       "min                                    0.195324   \n",
       "25%                                   14.989304   \n",
       "50%                                   19.984175   \n",
       "75%                                   24.991623   \n",
       "max                                   32.188906   \n",
       "\n",
       "       secondary_cleaner.state.floatbank6_a_level  \n",
       "count                                14148.000000  \n",
       "mean                                  -506.798480  \n",
       "std                                     37.079249  \n",
       "min                                   -809.398668  \n",
       "25%                                   -500.745104  \n",
       "50%                                   -500.061431  \n",
       "75%                                   -499.536466  \n",
       "max                                   -104.427459  \n",
       "\n",
       "[8 rows x 86 columns]"
      ]
     },
     "metadata": {},
     "output_type": "display_data"
    }
   ],
   "source": [
    "display(df_train.describe())"
   ]
  },
  {
   "cell_type": "code",
   "execution_count": 5,
   "metadata": {
    "scrolled": true
   },
   "outputs": [
    {
     "name": "stdout",
     "output_type": "stream",
     "text": [
      "<class 'pandas.core.frame.DataFrame'>\n",
      "RangeIndex: 5290 entries, 0 to 5289\n",
      "Data columns (total 53 columns):\n",
      " #   Column                                      Non-Null Count  Dtype  \n",
      "---  ------                                      --------------  -----  \n",
      " 0   date                                        5290 non-null   object \n",
      " 1   primary_cleaner.input.sulfate               5286 non-null   float64\n",
      " 2   primary_cleaner.input.depressant            5285 non-null   float64\n",
      " 3   primary_cleaner.input.feed_size             5290 non-null   float64\n",
      " 4   primary_cleaner.input.xanthate              5286 non-null   float64\n",
      " 5   primary_cleaner.state.floatbank8_a_air      5290 non-null   float64\n",
      " 6   primary_cleaner.state.floatbank8_a_level    5290 non-null   float64\n",
      " 7   primary_cleaner.state.floatbank8_b_air      5290 non-null   float64\n",
      " 8   primary_cleaner.state.floatbank8_b_level    5290 non-null   float64\n",
      " 9   primary_cleaner.state.floatbank8_c_air      5290 non-null   float64\n",
      " 10  primary_cleaner.state.floatbank8_c_level    5290 non-null   float64\n",
      " 11  primary_cleaner.state.floatbank8_d_air      5290 non-null   float64\n",
      " 12  primary_cleaner.state.floatbank8_d_level    5290 non-null   float64\n",
      " 13  rougher.input.feed_ag                       5290 non-null   float64\n",
      " 14  rougher.input.feed_pb                       5290 non-null   float64\n",
      " 15  rougher.input.feed_rate                     5287 non-null   float64\n",
      " 16  rougher.input.feed_size                     5289 non-null   float64\n",
      " 17  rougher.input.feed_sol                      5269 non-null   float64\n",
      " 18  rougher.input.feed_au                       5290 non-null   float64\n",
      " 19  rougher.input.floatbank10_sulfate           5285 non-null   float64\n",
      " 20  rougher.input.floatbank10_xanthate          5290 non-null   float64\n",
      " 21  rougher.input.floatbank11_sulfate           5282 non-null   float64\n",
      " 22  rougher.input.floatbank11_xanthate          5265 non-null   float64\n",
      " 23  rougher.state.floatbank10_a_air             5290 non-null   float64\n",
      " 24  rougher.state.floatbank10_a_level           5290 non-null   float64\n",
      " 25  rougher.state.floatbank10_b_air             5290 non-null   float64\n",
      " 26  rougher.state.floatbank10_b_level           5290 non-null   float64\n",
      " 27  rougher.state.floatbank10_c_air             5290 non-null   float64\n",
      " 28  rougher.state.floatbank10_c_level           5290 non-null   float64\n",
      " 29  rougher.state.floatbank10_d_air             5290 non-null   float64\n",
      " 30  rougher.state.floatbank10_d_level           5290 non-null   float64\n",
      " 31  rougher.state.floatbank10_e_air             5290 non-null   float64\n",
      " 32  rougher.state.floatbank10_e_level           5290 non-null   float64\n",
      " 33  rougher.state.floatbank10_f_air             5290 non-null   float64\n",
      " 34  rougher.state.floatbank10_f_level           5290 non-null   float64\n",
      " 35  secondary_cleaner.state.floatbank2_a_air    5287 non-null   float64\n",
      " 36  secondary_cleaner.state.floatbank2_a_level  5290 non-null   float64\n",
      " 37  secondary_cleaner.state.floatbank2_b_air    5288 non-null   float64\n",
      " 38  secondary_cleaner.state.floatbank2_b_level  5290 non-null   float64\n",
      " 39  secondary_cleaner.state.floatbank3_a_air    5281 non-null   float64\n",
      " 40  secondary_cleaner.state.floatbank3_a_level  5290 non-null   float64\n",
      " 41  secondary_cleaner.state.floatbank3_b_air    5290 non-null   float64\n",
      " 42  secondary_cleaner.state.floatbank3_b_level  5290 non-null   float64\n",
      " 43  secondary_cleaner.state.floatbank4_a_air    5290 non-null   float64\n",
      " 44  secondary_cleaner.state.floatbank4_a_level  5290 non-null   float64\n",
      " 45  secondary_cleaner.state.floatbank4_b_air    5290 non-null   float64\n",
      " 46  secondary_cleaner.state.floatbank4_b_level  5290 non-null   float64\n",
      " 47  secondary_cleaner.state.floatbank5_a_air    5290 non-null   float64\n",
      " 48  secondary_cleaner.state.floatbank5_a_level  5290 non-null   float64\n",
      " 49  secondary_cleaner.state.floatbank5_b_air    5290 non-null   float64\n",
      " 50  secondary_cleaner.state.floatbank5_b_level  5290 non-null   float64\n",
      " 51  secondary_cleaner.state.floatbank6_a_air    5290 non-null   float64\n",
      " 52  secondary_cleaner.state.floatbank6_a_level  5290 non-null   float64\n",
      "dtypes: float64(52), object(1)\n",
      "memory usage: 2.1+ MB\n"
     ]
    }
   ],
   "source": [
    "df_test.info()"
   ]
  },
  {
   "cell_type": "code",
   "execution_count": 6,
   "metadata": {
    "scrolled": true
   },
   "outputs": [
    {
     "data": {
      "text/html": [
       "<div>\n",
       "<style scoped>\n",
       "    .dataframe tbody tr th:only-of-type {\n",
       "        vertical-align: middle;\n",
       "    }\n",
       "\n",
       "    .dataframe tbody tr th {\n",
       "        vertical-align: top;\n",
       "    }\n",
       "\n",
       "    .dataframe thead th {\n",
       "        text-align: right;\n",
       "    }\n",
       "</style>\n",
       "<table border=\"1\" class=\"dataframe\">\n",
       "  <thead>\n",
       "    <tr style=\"text-align: right;\">\n",
       "      <th></th>\n",
       "      <th>primary_cleaner.input.sulfate</th>\n",
       "      <th>primary_cleaner.input.depressant</th>\n",
       "      <th>primary_cleaner.input.feed_size</th>\n",
       "      <th>primary_cleaner.input.xanthate</th>\n",
       "      <th>primary_cleaner.state.floatbank8_a_air</th>\n",
       "      <th>primary_cleaner.state.floatbank8_a_level</th>\n",
       "      <th>primary_cleaner.state.floatbank8_b_air</th>\n",
       "      <th>primary_cleaner.state.floatbank8_b_level</th>\n",
       "      <th>primary_cleaner.state.floatbank8_c_air</th>\n",
       "      <th>primary_cleaner.state.floatbank8_c_level</th>\n",
       "      <th>...</th>\n",
       "      <th>secondary_cleaner.state.floatbank4_a_air</th>\n",
       "      <th>secondary_cleaner.state.floatbank4_a_level</th>\n",
       "      <th>secondary_cleaner.state.floatbank4_b_air</th>\n",
       "      <th>secondary_cleaner.state.floatbank4_b_level</th>\n",
       "      <th>secondary_cleaner.state.floatbank5_a_air</th>\n",
       "      <th>secondary_cleaner.state.floatbank5_a_level</th>\n",
       "      <th>secondary_cleaner.state.floatbank5_b_air</th>\n",
       "      <th>secondary_cleaner.state.floatbank5_b_level</th>\n",
       "      <th>secondary_cleaner.state.floatbank6_a_air</th>\n",
       "      <th>secondary_cleaner.state.floatbank6_a_level</th>\n",
       "    </tr>\n",
       "  </thead>\n",
       "  <tbody>\n",
       "    <tr>\n",
       "      <th>count</th>\n",
       "      <td>5286.000000</td>\n",
       "      <td>5285.000000</td>\n",
       "      <td>5290.000000</td>\n",
       "      <td>5286.000000</td>\n",
       "      <td>5.290000e+03</td>\n",
       "      <td>5290.000000</td>\n",
       "      <td>5.290000e+03</td>\n",
       "      <td>5290.000000</td>\n",
       "      <td>5.290000e+03</td>\n",
       "      <td>5290.000000</td>\n",
       "      <td>...</td>\n",
       "      <td>5.290000e+03</td>\n",
       "      <td>5290.000000</td>\n",
       "      <td>5.290000e+03</td>\n",
       "      <td>5290.000000</td>\n",
       "      <td>5290.000000</td>\n",
       "      <td>5290.000000</td>\n",
       "      <td>5290.000000</td>\n",
       "      <td>5290.000000</td>\n",
       "      <td>5290.000000</td>\n",
       "      <td>5290.000000</td>\n",
       "    </tr>\n",
       "    <tr>\n",
       "      <th>mean</th>\n",
       "      <td>174.839652</td>\n",
       "      <td>8.683596</td>\n",
       "      <td>7.266339</td>\n",
       "      <td>1.383803</td>\n",
       "      <td>1.539494e+03</td>\n",
       "      <td>-497.665883</td>\n",
       "      <td>1.545174e+03</td>\n",
       "      <td>-500.273098</td>\n",
       "      <td>1.527272e+03</td>\n",
       "      <td>-498.330680</td>\n",
       "      <td>...</td>\n",
       "      <td>1.632007e+01</td>\n",
       "      <td>-505.144570</td>\n",
       "      <td>1.373544e+01</td>\n",
       "      <td>-463.349858</td>\n",
       "      <td>12.804186</td>\n",
       "      <td>-501.329122</td>\n",
       "      <td>9.881145</td>\n",
       "      <td>-495.663398</td>\n",
       "      <td>17.304935</td>\n",
       "      <td>-501.793193</td>\n",
       "    </tr>\n",
       "    <tr>\n",
       "      <th>std</th>\n",
       "      <td>43.027080</td>\n",
       "      <td>3.072050</td>\n",
       "      <td>0.610219</td>\n",
       "      <td>0.643474</td>\n",
       "      <td>1.167979e+02</td>\n",
       "      <td>19.952431</td>\n",
       "      <td>1.222246e+02</td>\n",
       "      <td>32.968307</td>\n",
       "      <td>1.225380e+02</td>\n",
       "      <td>21.964876</td>\n",
       "      <td>...</td>\n",
       "      <td>3.493583e+00</td>\n",
       "      <td>31.427337</td>\n",
       "      <td>3.430484e+00</td>\n",
       "      <td>86.189107</td>\n",
       "      <td>3.026591</td>\n",
       "      <td>17.951495</td>\n",
       "      <td>2.868205</td>\n",
       "      <td>34.535007</td>\n",
       "      <td>4.536544</td>\n",
       "      <td>39.044215</td>\n",
       "    </tr>\n",
       "    <tr>\n",
       "      <th>min</th>\n",
       "      <td>2.566156</td>\n",
       "      <td>0.003839</td>\n",
       "      <td>5.650000</td>\n",
       "      <td>0.004984</td>\n",
       "      <td>5.445860e-32</td>\n",
       "      <td>-795.316337</td>\n",
       "      <td>6.647490e-32</td>\n",
       "      <td>-799.997015</td>\n",
       "      <td>4.033736e-32</td>\n",
       "      <td>-799.960571</td>\n",
       "      <td>...</td>\n",
       "      <td>1.079872e-16</td>\n",
       "      <td>-799.798523</td>\n",
       "      <td>2.489718e-17</td>\n",
       "      <td>-800.836914</td>\n",
       "      <td>0.069227</td>\n",
       "      <td>-797.323986</td>\n",
       "      <td>0.528083</td>\n",
       "      <td>-800.220337</td>\n",
       "      <td>-0.079426</td>\n",
       "      <td>-809.741464</td>\n",
       "    </tr>\n",
       "    <tr>\n",
       "      <th>25%</th>\n",
       "      <td>147.121401</td>\n",
       "      <td>6.489555</td>\n",
       "      <td>6.890000</td>\n",
       "      <td>0.907623</td>\n",
       "      <td>1.498936e+03</td>\n",
       "      <td>-500.357298</td>\n",
       "      <td>1.498971e+03</td>\n",
       "      <td>-500.703002</td>\n",
       "      <td>1.473230e+03</td>\n",
       "      <td>-501.018117</td>\n",
       "      <td>...</td>\n",
       "      <td>1.403618e+01</td>\n",
       "      <td>-500.868258</td>\n",
       "      <td>1.202862e+01</td>\n",
       "      <td>-500.323028</td>\n",
       "      <td>10.914838</td>\n",
       "      <td>-500.726841</td>\n",
       "      <td>8.036719</td>\n",
       "      <td>-500.194668</td>\n",
       "      <td>13.997317</td>\n",
       "      <td>-500.690984</td>\n",
       "    </tr>\n",
       "    <tr>\n",
       "      <th>50%</th>\n",
       "      <td>177.828489</td>\n",
       "      <td>8.052207</td>\n",
       "      <td>7.250000</td>\n",
       "      <td>1.197610</td>\n",
       "      <td>1.585129e+03</td>\n",
       "      <td>-499.969164</td>\n",
       "      <td>1.595622e+03</td>\n",
       "      <td>-500.028514</td>\n",
       "      <td>1.549595e+03</td>\n",
       "      <td>-500.017711</td>\n",
       "      <td>...</td>\n",
       "      <td>1.700847e+01</td>\n",
       "      <td>-500.115727</td>\n",
       "      <td>1.496486e+01</td>\n",
       "      <td>-499.576513</td>\n",
       "      <td>12.954182</td>\n",
       "      <td>-499.990332</td>\n",
       "      <td>10.004301</td>\n",
       "      <td>-499.990535</td>\n",
       "      <td>16.014935</td>\n",
       "      <td>-500.007126</td>\n",
       "    </tr>\n",
       "    <tr>\n",
       "      <th>75%</th>\n",
       "      <td>208.125438</td>\n",
       "      <td>10.027764</td>\n",
       "      <td>7.600000</td>\n",
       "      <td>1.797819</td>\n",
       "      <td>1.602077e+03</td>\n",
       "      <td>-499.568951</td>\n",
       "      <td>1.602324e+03</td>\n",
       "      <td>-499.293257</td>\n",
       "      <td>1.601144e+03</td>\n",
       "      <td>-498.994130</td>\n",
       "      <td>...</td>\n",
       "      <td>1.803862e+01</td>\n",
       "      <td>-499.404224</td>\n",
       "      <td>1.596213e+01</td>\n",
       "      <td>-400.933805</td>\n",
       "      <td>15.097528</td>\n",
       "      <td>-499.283191</td>\n",
       "      <td>11.997467</td>\n",
       "      <td>-499.719913</td>\n",
       "      <td>21.020013</td>\n",
       "      <td>-499.373018</td>\n",
       "    </tr>\n",
       "    <tr>\n",
       "      <th>max</th>\n",
       "      <td>265.983123</td>\n",
       "      <td>40.000000</td>\n",
       "      <td>15.500000</td>\n",
       "      <td>4.102454</td>\n",
       "      <td>2.103104e+03</td>\n",
       "      <td>-57.195404</td>\n",
       "      <td>1.813084e+03</td>\n",
       "      <td>-142.527229</td>\n",
       "      <td>1.715054e+03</td>\n",
       "      <td>-150.937035</td>\n",
       "      <td>...</td>\n",
       "      <td>3.005180e+01</td>\n",
       "      <td>-401.565212</td>\n",
       "      <td>3.126971e+01</td>\n",
       "      <td>-6.506986</td>\n",
       "      <td>25.258848</td>\n",
       "      <td>-244.483566</td>\n",
       "      <td>14.086866</td>\n",
       "      <td>-137.740004</td>\n",
       "      <td>26.705889</td>\n",
       "      <td>-123.307487</td>\n",
       "    </tr>\n",
       "  </tbody>\n",
       "</table>\n",
       "<p>8 rows × 52 columns</p>\n",
       "</div>"
      ],
      "text/plain": [
       "       primary_cleaner.input.sulfate  primary_cleaner.input.depressant  \\\n",
       "count                    5286.000000                       5285.000000   \n",
       "mean                      174.839652                          8.683596   \n",
       "std                        43.027080                          3.072050   \n",
       "min                         2.566156                          0.003839   \n",
       "25%                       147.121401                          6.489555   \n",
       "50%                       177.828489                          8.052207   \n",
       "75%                       208.125438                         10.027764   \n",
       "max                       265.983123                         40.000000   \n",
       "\n",
       "       primary_cleaner.input.feed_size  primary_cleaner.input.xanthate  \\\n",
       "count                      5290.000000                     5286.000000   \n",
       "mean                          7.266339                        1.383803   \n",
       "std                           0.610219                        0.643474   \n",
       "min                           5.650000                        0.004984   \n",
       "25%                           6.890000                        0.907623   \n",
       "50%                           7.250000                        1.197610   \n",
       "75%                           7.600000                        1.797819   \n",
       "max                          15.500000                        4.102454   \n",
       "\n",
       "       primary_cleaner.state.floatbank8_a_air  \\\n",
       "count                            5.290000e+03   \n",
       "mean                             1.539494e+03   \n",
       "std                              1.167979e+02   \n",
       "min                              5.445860e-32   \n",
       "25%                              1.498936e+03   \n",
       "50%                              1.585129e+03   \n",
       "75%                              1.602077e+03   \n",
       "max                              2.103104e+03   \n",
       "\n",
       "       primary_cleaner.state.floatbank8_a_level  \\\n",
       "count                               5290.000000   \n",
       "mean                                -497.665883   \n",
       "std                                   19.952431   \n",
       "min                                 -795.316337   \n",
       "25%                                 -500.357298   \n",
       "50%                                 -499.969164   \n",
       "75%                                 -499.568951   \n",
       "max                                  -57.195404   \n",
       "\n",
       "       primary_cleaner.state.floatbank8_b_air  \\\n",
       "count                            5.290000e+03   \n",
       "mean                             1.545174e+03   \n",
       "std                              1.222246e+02   \n",
       "min                              6.647490e-32   \n",
       "25%                              1.498971e+03   \n",
       "50%                              1.595622e+03   \n",
       "75%                              1.602324e+03   \n",
       "max                              1.813084e+03   \n",
       "\n",
       "       primary_cleaner.state.floatbank8_b_level  \\\n",
       "count                               5290.000000   \n",
       "mean                                -500.273098   \n",
       "std                                   32.968307   \n",
       "min                                 -799.997015   \n",
       "25%                                 -500.703002   \n",
       "50%                                 -500.028514   \n",
       "75%                                 -499.293257   \n",
       "max                                 -142.527229   \n",
       "\n",
       "       primary_cleaner.state.floatbank8_c_air  \\\n",
       "count                            5.290000e+03   \n",
       "mean                             1.527272e+03   \n",
       "std                              1.225380e+02   \n",
       "min                              4.033736e-32   \n",
       "25%                              1.473230e+03   \n",
       "50%                              1.549595e+03   \n",
       "75%                              1.601144e+03   \n",
       "max                              1.715054e+03   \n",
       "\n",
       "       primary_cleaner.state.floatbank8_c_level  ...  \\\n",
       "count                               5290.000000  ...   \n",
       "mean                                -498.330680  ...   \n",
       "std                                   21.964876  ...   \n",
       "min                                 -799.960571  ...   \n",
       "25%                                 -501.018117  ...   \n",
       "50%                                 -500.017711  ...   \n",
       "75%                                 -498.994130  ...   \n",
       "max                                 -150.937035  ...   \n",
       "\n",
       "       secondary_cleaner.state.floatbank4_a_air  \\\n",
       "count                              5.290000e+03   \n",
       "mean                               1.632007e+01   \n",
       "std                                3.493583e+00   \n",
       "min                                1.079872e-16   \n",
       "25%                                1.403618e+01   \n",
       "50%                                1.700847e+01   \n",
       "75%                                1.803862e+01   \n",
       "max                                3.005180e+01   \n",
       "\n",
       "       secondary_cleaner.state.floatbank4_a_level  \\\n",
       "count                                 5290.000000   \n",
       "mean                                  -505.144570   \n",
       "std                                     31.427337   \n",
       "min                                   -799.798523   \n",
       "25%                                   -500.868258   \n",
       "50%                                   -500.115727   \n",
       "75%                                   -499.404224   \n",
       "max                                   -401.565212   \n",
       "\n",
       "       secondary_cleaner.state.floatbank4_b_air  \\\n",
       "count                              5.290000e+03   \n",
       "mean                               1.373544e+01   \n",
       "std                                3.430484e+00   \n",
       "min                                2.489718e-17   \n",
       "25%                                1.202862e+01   \n",
       "50%                                1.496486e+01   \n",
       "75%                                1.596213e+01   \n",
       "max                                3.126971e+01   \n",
       "\n",
       "       secondary_cleaner.state.floatbank4_b_level  \\\n",
       "count                                 5290.000000   \n",
       "mean                                  -463.349858   \n",
       "std                                     86.189107   \n",
       "min                                   -800.836914   \n",
       "25%                                   -500.323028   \n",
       "50%                                   -499.576513   \n",
       "75%                                   -400.933805   \n",
       "max                                     -6.506986   \n",
       "\n",
       "       secondary_cleaner.state.floatbank5_a_air  \\\n",
       "count                               5290.000000   \n",
       "mean                                  12.804186   \n",
       "std                                    3.026591   \n",
       "min                                    0.069227   \n",
       "25%                                   10.914838   \n",
       "50%                                   12.954182   \n",
       "75%                                   15.097528   \n",
       "max                                   25.258848   \n",
       "\n",
       "       secondary_cleaner.state.floatbank5_a_level  \\\n",
       "count                                 5290.000000   \n",
       "mean                                  -501.329122   \n",
       "std                                     17.951495   \n",
       "min                                   -797.323986   \n",
       "25%                                   -500.726841   \n",
       "50%                                   -499.990332   \n",
       "75%                                   -499.283191   \n",
       "max                                   -244.483566   \n",
       "\n",
       "       secondary_cleaner.state.floatbank5_b_air  \\\n",
       "count                               5290.000000   \n",
       "mean                                   9.881145   \n",
       "std                                    2.868205   \n",
       "min                                    0.528083   \n",
       "25%                                    8.036719   \n",
       "50%                                   10.004301   \n",
       "75%                                   11.997467   \n",
       "max                                   14.086866   \n",
       "\n",
       "       secondary_cleaner.state.floatbank5_b_level  \\\n",
       "count                                 5290.000000   \n",
       "mean                                  -495.663398   \n",
       "std                                     34.535007   \n",
       "min                                   -800.220337   \n",
       "25%                                   -500.194668   \n",
       "50%                                   -499.990535   \n",
       "75%                                   -499.719913   \n",
       "max                                   -137.740004   \n",
       "\n",
       "       secondary_cleaner.state.floatbank6_a_air  \\\n",
       "count                               5290.000000   \n",
       "mean                                  17.304935   \n",
       "std                                    4.536544   \n",
       "min                                   -0.079426   \n",
       "25%                                   13.997317   \n",
       "50%                                   16.014935   \n",
       "75%                                   21.020013   \n",
       "max                                   26.705889   \n",
       "\n",
       "       secondary_cleaner.state.floatbank6_a_level  \n",
       "count                                 5290.000000  \n",
       "mean                                  -501.793193  \n",
       "std                                     39.044215  \n",
       "min                                   -809.741464  \n",
       "25%                                   -500.690984  \n",
       "50%                                   -500.007126  \n",
       "75%                                   -499.373018  \n",
       "max                                   -123.307487  \n",
       "\n",
       "[8 rows x 52 columns]"
      ]
     },
     "metadata": {},
     "output_type": "display_data"
    }
   ],
   "source": [
    "display(df_test.describe())"
   ]
  },
  {
   "cell_type": "code",
   "execution_count": 7,
   "metadata": {
    "scrolled": true
   },
   "outputs": [
    {
     "name": "stdout",
     "output_type": "stream",
     "text": [
      "<class 'pandas.core.frame.DataFrame'>\n",
      "RangeIndex: 19439 entries, 0 to 19438\n",
      "Data columns (total 87 columns):\n",
      " #   Column                                              Non-Null Count  Dtype  \n",
      "---  ------                                              --------------  -----  \n",
      " 0   date                                                19439 non-null  object \n",
      " 1   final.output.concentrate_ag                         19438 non-null  float64\n",
      " 2   final.output.concentrate_pb                         19438 non-null  float64\n",
      " 3   final.output.concentrate_sol                        19228 non-null  float64\n",
      " 4   final.output.concentrate_au                         19439 non-null  float64\n",
      " 5   final.output.recovery                               19439 non-null  float64\n",
      " 6   final.output.tail_ag                                19438 non-null  float64\n",
      " 7   final.output.tail_pb                                19338 non-null  float64\n",
      " 8   final.output.tail_sol                               19433 non-null  float64\n",
      " 9   final.output.tail_au                                19439 non-null  float64\n",
      " 10  primary_cleaner.input.sulfate                       19415 non-null  float64\n",
      " 11  primary_cleaner.input.depressant                    19402 non-null  float64\n",
      " 12  primary_cleaner.input.feed_size                     19439 non-null  float64\n",
      " 13  primary_cleaner.input.xanthate                      19335 non-null  float64\n",
      " 14  primary_cleaner.output.concentrate_ag               19439 non-null  float64\n",
      " 15  primary_cleaner.output.concentrate_pb               19323 non-null  float64\n",
      " 16  primary_cleaner.output.concentrate_sol              19069 non-null  float64\n",
      " 17  primary_cleaner.output.concentrate_au               19439 non-null  float64\n",
      " 18  primary_cleaner.output.tail_ag                      19435 non-null  float64\n",
      " 19  primary_cleaner.output.tail_pb                      19418 non-null  float64\n",
      " 20  primary_cleaner.output.tail_sol                     19377 non-null  float64\n",
      " 21  primary_cleaner.output.tail_au                      19439 non-null  float64\n",
      " 22  primary_cleaner.state.floatbank8_a_air              19435 non-null  float64\n",
      " 23  primary_cleaner.state.floatbank8_a_level            19438 non-null  float64\n",
      " 24  primary_cleaner.state.floatbank8_b_air              19435 non-null  float64\n",
      " 25  primary_cleaner.state.floatbank8_b_level            19438 non-null  float64\n",
      " 26  primary_cleaner.state.floatbank8_c_air              19437 non-null  float64\n",
      " 27  primary_cleaner.state.floatbank8_c_level            19438 non-null  float64\n",
      " 28  primary_cleaner.state.floatbank8_d_air              19436 non-null  float64\n",
      " 29  primary_cleaner.state.floatbank8_d_level            19438 non-null  float64\n",
      " 30  rougher.calculation.sulfate_to_au_concentrate       19437 non-null  float64\n",
      " 31  rougher.calculation.floatbank10_sulfate_to_au_feed  19437 non-null  float64\n",
      " 32  rougher.calculation.floatbank11_sulfate_to_au_feed  19437 non-null  float64\n",
      " 33  rougher.calculation.au_pb_ratio                     19439 non-null  float64\n",
      " 34  rougher.input.feed_ag                               19439 non-null  float64\n",
      " 35  rougher.input.feed_pb                               19339 non-null  float64\n",
      " 36  rougher.input.feed_rate                             19428 non-null  float64\n",
      " 37  rougher.input.feed_size                             19294 non-null  float64\n",
      " 38  rougher.input.feed_sol                              19340 non-null  float64\n",
      " 39  rougher.input.feed_au                               19439 non-null  float64\n",
      " 40  rougher.input.floatbank10_sulfate                   19405 non-null  float64\n",
      " 41  rougher.input.floatbank10_xanthate                  19431 non-null  float64\n",
      " 42  rougher.input.floatbank11_sulfate                   19395 non-null  float64\n",
      " 43  rougher.input.floatbank11_xanthate                  18986 non-null  float64\n",
      " 44  rougher.output.concentrate_ag                       19439 non-null  float64\n",
      " 45  rougher.output.concentrate_pb                       19439 non-null  float64\n",
      " 46  rougher.output.concentrate_sol                      19416 non-null  float64\n",
      " 47  rougher.output.concentrate_au                       19439 non-null  float64\n",
      " 48  rougher.output.recovery                             19439 non-null  float64\n",
      " 49  rougher.output.tail_ag                              19438 non-null  float64\n",
      " 50  rougher.output.tail_pb                              19439 non-null  float64\n",
      " 51  rougher.output.tail_sol                             19439 non-null  float64\n",
      " 52  rougher.output.tail_au                              19439 non-null  float64\n",
      " 53  rougher.state.floatbank10_a_air                     19438 non-null  float64\n",
      " 54  rougher.state.floatbank10_a_level                   19438 non-null  float64\n",
      " 55  rougher.state.floatbank10_b_air                     19438 non-null  float64\n",
      " 56  rougher.state.floatbank10_b_level                   19438 non-null  float64\n",
      " 57  rougher.state.floatbank10_c_air                     19438 non-null  float64\n",
      " 58  rougher.state.floatbank10_c_level                   19438 non-null  float64\n",
      " 59  rougher.state.floatbank10_d_air                     19439 non-null  float64\n",
      " 60  rougher.state.floatbank10_d_level                   19439 non-null  float64\n",
      " 61  rougher.state.floatbank10_e_air                     19003 non-null  float64\n",
      " 62  rougher.state.floatbank10_e_level                   19439 non-null  float64\n",
      " 63  rougher.state.floatbank10_f_air                     19439 non-null  float64\n",
      " 64  rougher.state.floatbank10_f_level                   19439 non-null  float64\n",
      " 65  secondary_cleaner.output.tail_ag                    19437 non-null  float64\n",
      " 66  secondary_cleaner.output.tail_pb                    19427 non-null  float64\n",
      " 67  secondary_cleaner.output.tail_sol                   17691 non-null  float64\n",
      " 68  secondary_cleaner.output.tail_au                    19439 non-null  float64\n",
      " 69  secondary_cleaner.state.floatbank2_a_air            19219 non-null  float64\n",
      " 70  secondary_cleaner.state.floatbank2_a_level          19438 non-null  float64\n",
      " 71  secondary_cleaner.state.floatbank2_b_air            19416 non-null  float64\n",
      " 72  secondary_cleaner.state.floatbank2_b_level          19438 non-null  float64\n",
      " 73  secondary_cleaner.state.floatbank3_a_air            19426 non-null  float64\n",
      " 74  secondary_cleaner.state.floatbank3_a_level          19438 non-null  float64\n",
      " 75  secondary_cleaner.state.floatbank3_b_air            19438 non-null  float64\n",
      " 76  secondary_cleaner.state.floatbank3_b_level          19438 non-null  float64\n",
      " 77  secondary_cleaner.state.floatbank4_a_air            19433 non-null  float64\n",
      " 78  secondary_cleaner.state.floatbank4_a_level          19438 non-null  float64\n",
      " 79  secondary_cleaner.state.floatbank4_b_air            19438 non-null  float64\n",
      " 80  secondary_cleaner.state.floatbank4_b_level          19438 non-null  float64\n",
      " 81  secondary_cleaner.state.floatbank5_a_air            19438 non-null  float64\n",
      " 82  secondary_cleaner.state.floatbank5_a_level          19438 non-null  float64\n",
      " 83  secondary_cleaner.state.floatbank5_b_air            19438 non-null  float64\n",
      " 84  secondary_cleaner.state.floatbank5_b_level          19438 non-null  float64\n",
      " 85  secondary_cleaner.state.floatbank6_a_air            19437 non-null  float64\n",
      " 86  secondary_cleaner.state.floatbank6_a_level          19438 non-null  float64\n",
      "dtypes: float64(86), object(1)\n",
      "memory usage: 12.9+ MB\n"
     ]
    }
   ],
   "source": [
    "df_full.info()"
   ]
  },
  {
   "cell_type": "code",
   "execution_count": 8,
   "metadata": {},
   "outputs": [
    {
     "data": {
      "text/html": [
       "<div>\n",
       "<style scoped>\n",
       "    .dataframe tbody tr th:only-of-type {\n",
       "        vertical-align: middle;\n",
       "    }\n",
       "\n",
       "    .dataframe tbody tr th {\n",
       "        vertical-align: top;\n",
       "    }\n",
       "\n",
       "    .dataframe thead th {\n",
       "        text-align: right;\n",
       "    }\n",
       "</style>\n",
       "<table border=\"1\" class=\"dataframe\">\n",
       "  <thead>\n",
       "    <tr style=\"text-align: right;\">\n",
       "      <th></th>\n",
       "      <th>final.output.concentrate_ag</th>\n",
       "      <th>final.output.concentrate_pb</th>\n",
       "      <th>final.output.concentrate_sol</th>\n",
       "      <th>final.output.concentrate_au</th>\n",
       "      <th>final.output.recovery</th>\n",
       "      <th>final.output.tail_ag</th>\n",
       "      <th>final.output.tail_pb</th>\n",
       "      <th>final.output.tail_sol</th>\n",
       "      <th>final.output.tail_au</th>\n",
       "      <th>primary_cleaner.input.sulfate</th>\n",
       "      <th>...</th>\n",
       "      <th>secondary_cleaner.state.floatbank4_a_air</th>\n",
       "      <th>secondary_cleaner.state.floatbank4_a_level</th>\n",
       "      <th>secondary_cleaner.state.floatbank4_b_air</th>\n",
       "      <th>secondary_cleaner.state.floatbank4_b_level</th>\n",
       "      <th>secondary_cleaner.state.floatbank5_a_air</th>\n",
       "      <th>secondary_cleaner.state.floatbank5_a_level</th>\n",
       "      <th>secondary_cleaner.state.floatbank5_b_air</th>\n",
       "      <th>secondary_cleaner.state.floatbank5_b_level</th>\n",
       "      <th>secondary_cleaner.state.floatbank6_a_air</th>\n",
       "      <th>secondary_cleaner.state.floatbank6_a_level</th>\n",
       "    </tr>\n",
       "  </thead>\n",
       "  <tbody>\n",
       "    <tr>\n",
       "      <th>count</th>\n",
       "      <td>19438.000000</td>\n",
       "      <td>19438.000000</td>\n",
       "      <td>19228.000000</td>\n",
       "      <td>19439.000000</td>\n",
       "      <td>19439.000000</td>\n",
       "      <td>19438.000000</td>\n",
       "      <td>19338.000000</td>\n",
       "      <td>19433.000000</td>\n",
       "      <td>19439.000000</td>\n",
       "      <td>19415.000000</td>\n",
       "      <td>...</td>\n",
       "      <td>19433.000000</td>\n",
       "      <td>19438.000000</td>\n",
       "      <td>19438.000000</td>\n",
       "      <td>19438.000000</td>\n",
       "      <td>19438.000000</td>\n",
       "      <td>19438.000000</td>\n",
       "      <td>19438.000000</td>\n",
       "      <td>19438.000000</td>\n",
       "      <td>19437.000000</td>\n",
       "      <td>19438.000000</td>\n",
       "    </tr>\n",
       "    <tr>\n",
       "      <th>mean</th>\n",
       "      <td>5.168470</td>\n",
       "      <td>9.978895</td>\n",
       "      <td>9.501224</td>\n",
       "      <td>44.076513</td>\n",
       "      <td>67.050208</td>\n",
       "      <td>9.688589</td>\n",
       "      <td>2.705795</td>\n",
       "      <td>10.583728</td>\n",
       "      <td>3.042467</td>\n",
       "      <td>144.624774</td>\n",
       "      <td>...</td>\n",
       "      <td>18.987674</td>\n",
       "      <td>-485.894516</td>\n",
       "      <td>15.010366</td>\n",
       "      <td>-461.078636</td>\n",
       "      <td>15.694452</td>\n",
       "      <td>-488.684065</td>\n",
       "      <td>12.198224</td>\n",
       "      <td>-487.149827</td>\n",
       "      <td>18.959024</td>\n",
       "      <td>-505.436305</td>\n",
       "    </tr>\n",
       "    <tr>\n",
       "      <th>std</th>\n",
       "      <td>1.372348</td>\n",
       "      <td>1.669240</td>\n",
       "      <td>2.787537</td>\n",
       "      <td>5.129784</td>\n",
       "      <td>10.125840</td>\n",
       "      <td>2.328642</td>\n",
       "      <td>0.949077</td>\n",
       "      <td>2.868782</td>\n",
       "      <td>0.922808</td>\n",
       "      <td>44.464071</td>\n",
       "      <td>...</td>\n",
       "      <td>5.411058</td>\n",
       "      <td>47.758570</td>\n",
       "      <td>4.890228</td>\n",
       "      <td>67.405524</td>\n",
       "      <td>5.510974</td>\n",
       "      <td>34.533396</td>\n",
       "      <td>5.333024</td>\n",
       "      <td>38.347312</td>\n",
       "      <td>5.550498</td>\n",
       "      <td>37.689057</td>\n",
       "    </tr>\n",
       "    <tr>\n",
       "      <th>min</th>\n",
       "      <td>0.000000</td>\n",
       "      <td>0.000000</td>\n",
       "      <td>0.000000</td>\n",
       "      <td>0.000000</td>\n",
       "      <td>0.000000</td>\n",
       "      <td>0.000000</td>\n",
       "      <td>0.000000</td>\n",
       "      <td>0.000000</td>\n",
       "      <td>0.000000</td>\n",
       "      <td>0.003112</td>\n",
       "      <td>...</td>\n",
       "      <td>0.000000</td>\n",
       "      <td>-799.798523</td>\n",
       "      <td>0.000000</td>\n",
       "      <td>-800.836914</td>\n",
       "      <td>-0.372054</td>\n",
       "      <td>-797.323986</td>\n",
       "      <td>0.528083</td>\n",
       "      <td>-800.220337</td>\n",
       "      <td>-0.079426</td>\n",
       "      <td>-809.741464</td>\n",
       "    </tr>\n",
       "    <tr>\n",
       "      <th>25%</th>\n",
       "      <td>4.251240</td>\n",
       "      <td>9.137262</td>\n",
       "      <td>7.722820</td>\n",
       "      <td>43.402215</td>\n",
       "      <td>63.299712</td>\n",
       "      <td>8.062878</td>\n",
       "      <td>2.040119</td>\n",
       "      <td>8.938947</td>\n",
       "      <td>2.461138</td>\n",
       "      <td>114.107029</td>\n",
       "      <td>...</td>\n",
       "      <td>14.975734</td>\n",
       "      <td>-500.704892</td>\n",
       "      <td>11.940294</td>\n",
       "      <td>-500.187742</td>\n",
       "      <td>10.988606</td>\n",
       "      <td>-500.458467</td>\n",
       "      <td>8.971105</td>\n",
       "      <td>-500.129462</td>\n",
       "      <td>14.983037</td>\n",
       "      <td>-500.728067</td>\n",
       "    </tr>\n",
       "    <tr>\n",
       "      <th>50%</th>\n",
       "      <td>5.066094</td>\n",
       "      <td>10.102433</td>\n",
       "      <td>9.218961</td>\n",
       "      <td>45.011244</td>\n",
       "      <td>68.172738</td>\n",
       "      <td>9.743623</td>\n",
       "      <td>2.748730</td>\n",
       "      <td>10.622456</td>\n",
       "      <td>2.984909</td>\n",
       "      <td>143.232103</td>\n",
       "      <td>...</td>\n",
       "      <td>18.017481</td>\n",
       "      <td>-499.837793</td>\n",
       "      <td>14.971014</td>\n",
       "      <td>-499.459786</td>\n",
       "      <td>15.000036</td>\n",
       "      <td>-499.802605</td>\n",
       "      <td>11.019433</td>\n",
       "      <td>-499.935317</td>\n",
       "      <td>19.960541</td>\n",
       "      <td>-500.048400</td>\n",
       "    </tr>\n",
       "    <tr>\n",
       "      <th>75%</th>\n",
       "      <td>5.895527</td>\n",
       "      <td>11.035769</td>\n",
       "      <td>10.947813</td>\n",
       "      <td>46.275313</td>\n",
       "      <td>72.686642</td>\n",
       "      <td>11.134294</td>\n",
       "      <td>3.333216</td>\n",
       "      <td>12.104271</td>\n",
       "      <td>3.571351</td>\n",
       "      <td>175.075656</td>\n",
       "      <td>...</td>\n",
       "      <td>23.012470</td>\n",
       "      <td>-498.249730</td>\n",
       "      <td>19.034162</td>\n",
       "      <td>-400.118106</td>\n",
       "      <td>18.026190</td>\n",
       "      <td>-498.384187</td>\n",
       "      <td>14.019088</td>\n",
       "      <td>-499.436708</td>\n",
       "      <td>24.003170</td>\n",
       "      <td>-499.495378</td>\n",
       "    </tr>\n",
       "    <tr>\n",
       "      <th>max</th>\n",
       "      <td>16.001945</td>\n",
       "      <td>17.031899</td>\n",
       "      <td>19.615720</td>\n",
       "      <td>52.756638</td>\n",
       "      <td>100.000000</td>\n",
       "      <td>19.552149</td>\n",
       "      <td>5.804178</td>\n",
       "      <td>22.317730</td>\n",
       "      <td>8.245022</td>\n",
       "      <td>265.983123</td>\n",
       "      <td>...</td>\n",
       "      <td>30.115735</td>\n",
       "      <td>-245.239184</td>\n",
       "      <td>31.269706</td>\n",
       "      <td>-6.506986</td>\n",
       "      <td>43.709931</td>\n",
       "      <td>-244.483566</td>\n",
       "      <td>27.926001</td>\n",
       "      <td>-137.740004</td>\n",
       "      <td>32.188906</td>\n",
       "      <td>-104.427459</td>\n",
       "    </tr>\n",
       "  </tbody>\n",
       "</table>\n",
       "<p>8 rows × 86 columns</p>\n",
       "</div>"
      ],
      "text/plain": [
       "       final.output.concentrate_ag  final.output.concentrate_pb  \\\n",
       "count                 19438.000000                 19438.000000   \n",
       "mean                      5.168470                     9.978895   \n",
       "std                       1.372348                     1.669240   \n",
       "min                       0.000000                     0.000000   \n",
       "25%                       4.251240                     9.137262   \n",
       "50%                       5.066094                    10.102433   \n",
       "75%                       5.895527                    11.035769   \n",
       "max                      16.001945                    17.031899   \n",
       "\n",
       "       final.output.concentrate_sol  final.output.concentrate_au  \\\n",
       "count                  19228.000000                 19439.000000   \n",
       "mean                       9.501224                    44.076513   \n",
       "std                        2.787537                     5.129784   \n",
       "min                        0.000000                     0.000000   \n",
       "25%                        7.722820                    43.402215   \n",
       "50%                        9.218961                    45.011244   \n",
       "75%                       10.947813                    46.275313   \n",
       "max                       19.615720                    52.756638   \n",
       "\n",
       "       final.output.recovery  final.output.tail_ag  final.output.tail_pb  \\\n",
       "count           19439.000000          19438.000000          19338.000000   \n",
       "mean               67.050208              9.688589              2.705795   \n",
       "std                10.125840              2.328642              0.949077   \n",
       "min                 0.000000              0.000000              0.000000   \n",
       "25%                63.299712              8.062878              2.040119   \n",
       "50%                68.172738              9.743623              2.748730   \n",
       "75%                72.686642             11.134294              3.333216   \n",
       "max               100.000000             19.552149              5.804178   \n",
       "\n",
       "       final.output.tail_sol  final.output.tail_au  \\\n",
       "count           19433.000000          19439.000000   \n",
       "mean               10.583728              3.042467   \n",
       "std                 2.868782              0.922808   \n",
       "min                 0.000000              0.000000   \n",
       "25%                 8.938947              2.461138   \n",
       "50%                10.622456              2.984909   \n",
       "75%                12.104271              3.571351   \n",
       "max                22.317730              8.245022   \n",
       "\n",
       "       primary_cleaner.input.sulfate  ...  \\\n",
       "count                   19415.000000  ...   \n",
       "mean                      144.624774  ...   \n",
       "std                        44.464071  ...   \n",
       "min                         0.003112  ...   \n",
       "25%                       114.107029  ...   \n",
       "50%                       143.232103  ...   \n",
       "75%                       175.075656  ...   \n",
       "max                       265.983123  ...   \n",
       "\n",
       "       secondary_cleaner.state.floatbank4_a_air  \\\n",
       "count                              19433.000000   \n",
       "mean                                  18.987674   \n",
       "std                                    5.411058   \n",
       "min                                    0.000000   \n",
       "25%                                   14.975734   \n",
       "50%                                   18.017481   \n",
       "75%                                   23.012470   \n",
       "max                                   30.115735   \n",
       "\n",
       "       secondary_cleaner.state.floatbank4_a_level  \\\n",
       "count                                19438.000000   \n",
       "mean                                  -485.894516   \n",
       "std                                     47.758570   \n",
       "min                                   -799.798523   \n",
       "25%                                   -500.704892   \n",
       "50%                                   -499.837793   \n",
       "75%                                   -498.249730   \n",
       "max                                   -245.239184   \n",
       "\n",
       "       secondary_cleaner.state.floatbank4_b_air  \\\n",
       "count                              19438.000000   \n",
       "mean                                  15.010366   \n",
       "std                                    4.890228   \n",
       "min                                    0.000000   \n",
       "25%                                   11.940294   \n",
       "50%                                   14.971014   \n",
       "75%                                   19.034162   \n",
       "max                                   31.269706   \n",
       "\n",
       "       secondary_cleaner.state.floatbank4_b_level  \\\n",
       "count                                19438.000000   \n",
       "mean                                  -461.078636   \n",
       "std                                     67.405524   \n",
       "min                                   -800.836914   \n",
       "25%                                   -500.187742   \n",
       "50%                                   -499.459786   \n",
       "75%                                   -400.118106   \n",
       "max                                     -6.506986   \n",
       "\n",
       "       secondary_cleaner.state.floatbank5_a_air  \\\n",
       "count                              19438.000000   \n",
       "mean                                  15.694452   \n",
       "std                                    5.510974   \n",
       "min                                   -0.372054   \n",
       "25%                                   10.988606   \n",
       "50%                                   15.000036   \n",
       "75%                                   18.026190   \n",
       "max                                   43.709931   \n",
       "\n",
       "       secondary_cleaner.state.floatbank5_a_level  \\\n",
       "count                                19438.000000   \n",
       "mean                                  -488.684065   \n",
       "std                                     34.533396   \n",
       "min                                   -797.323986   \n",
       "25%                                   -500.458467   \n",
       "50%                                   -499.802605   \n",
       "75%                                   -498.384187   \n",
       "max                                   -244.483566   \n",
       "\n",
       "       secondary_cleaner.state.floatbank5_b_air  \\\n",
       "count                              19438.000000   \n",
       "mean                                  12.198224   \n",
       "std                                    5.333024   \n",
       "min                                    0.528083   \n",
       "25%                                    8.971105   \n",
       "50%                                   11.019433   \n",
       "75%                                   14.019088   \n",
       "max                                   27.926001   \n",
       "\n",
       "       secondary_cleaner.state.floatbank5_b_level  \\\n",
       "count                                19438.000000   \n",
       "mean                                  -487.149827   \n",
       "std                                     38.347312   \n",
       "min                                   -800.220337   \n",
       "25%                                   -500.129462   \n",
       "50%                                   -499.935317   \n",
       "75%                                   -499.436708   \n",
       "max                                   -137.740004   \n",
       "\n",
       "       secondary_cleaner.state.floatbank6_a_air  \\\n",
       "count                              19437.000000   \n",
       "mean                                  18.959024   \n",
       "std                                    5.550498   \n",
       "min                                   -0.079426   \n",
       "25%                                   14.983037   \n",
       "50%                                   19.960541   \n",
       "75%                                   24.003170   \n",
       "max                                   32.188906   \n",
       "\n",
       "       secondary_cleaner.state.floatbank6_a_level  \n",
       "count                                19438.000000  \n",
       "mean                                  -505.436305  \n",
       "std                                     37.689057  \n",
       "min                                   -809.741464  \n",
       "25%                                   -500.728067  \n",
       "50%                                   -500.048400  \n",
       "75%                                   -499.495378  \n",
       "max                                   -104.427459  \n",
       "\n",
       "[8 rows x 86 columns]"
      ]
     },
     "metadata": {},
     "output_type": "display_data"
    }
   ],
   "source": [
    "display(df_full.describe())"
   ]
  },
  {
   "cell_type": "code",
   "execution_count": 9,
   "metadata": {},
   "outputs": [
    {
     "data": {
      "text/plain": [
       "0"
      ]
     },
     "execution_count": 9,
     "metadata": {},
     "output_type": "execute_result"
    }
   ],
   "source": [
    "df_test.duplicated().sum()"
   ]
  },
  {
   "cell_type": "code",
   "execution_count": 10,
   "metadata": {},
   "outputs": [
    {
     "data": {
      "text/plain": [
       "0"
      ]
     },
     "execution_count": 10,
     "metadata": {},
     "output_type": "execute_result"
    }
   ],
   "source": [
    "df_train.duplicated().sum()"
   ]
  },
  {
   "cell_type": "code",
   "execution_count": 11,
   "metadata": {},
   "outputs": [
    {
     "data": {
      "text/plain": [
       "0"
      ]
     },
     "execution_count": 11,
     "metadata": {},
     "output_type": "execute_result"
    }
   ],
   "source": [
    "df_full.duplicated().sum()"
   ]
  },
  {
   "cell_type": "code",
   "execution_count": 12,
   "metadata": {},
   "outputs": [
    {
     "data": {
      "text/plain": [
       "(5290, 53)"
      ]
     },
     "execution_count": 12,
     "metadata": {},
     "output_type": "execute_result"
    }
   ],
   "source": [
    "df_test.shape"
   ]
  },
  {
   "cell_type": "code",
   "execution_count": 13,
   "metadata": {},
   "outputs": [
    {
     "data": {
      "text/plain": [
       "(14149, 87)"
      ]
     },
     "execution_count": 13,
     "metadata": {},
     "output_type": "execute_result"
    }
   ],
   "source": [
    "df_train.shape"
   ]
  },
  {
   "cell_type": "code",
   "execution_count": 14,
   "metadata": {},
   "outputs": [
    {
     "data": {
      "text/plain": [
       "(19439, 87)"
      ]
     },
     "execution_count": 14,
     "metadata": {},
     "output_type": "execute_result"
    }
   ],
   "source": [
    "df_full.shape"
   ]
  },
  {
   "attachments": {
    "image.png": {
     "image/png": "[encoded data removed]"
    }
   },
   "cell_type": "markdown",
   "metadata": {},
   "source": [
    "Vemos que el número de líneas de prueba + muestras de entrenamiento coincide con el número completo. En la muestra de prueba 34 columnas menos.\n",
    "\n",
    "### Compruebe que la eficiencia de enriquecimiento se calcula correctamente.\n",
    "\n",
    "Calcule en una muestra de aprendizaje para la función rougher.output.recovery. Encuentre el MAE entre sus cálculos y el valor de la función.\n",
    "\n",
    "![image.png](attachment:image.png)"
   ]
  },
  {
   "cell_type": "code",
   "execution_count": 15,
   "metadata": {},
   "outputs": [],
   "source": [
    "C = df_train['rougher.output.concentrate_au']\n",
    "F = df_train['rougher.input.feed_au']\n",
    "T = df_train['rougher.output.tail_au']"
   ]
  },
  {
   "cell_type": "code",
   "execution_count": 16,
   "metadata": {},
   "outputs": [
    {
     "data": {
      "text/plain": [
       "82.70450164550293"
      ]
     },
     "execution_count": 16,
     "metadata": {},
     "output_type": "execute_result"
    }
   ],
   "source": [
    "df_train['recovery_calc'] = ((C * (F - T))/(F * (C - T))) * 100 # add result to new column\n",
    "df_train['recovery_calc'].mean()"
   ]
  },
  {
   "cell_type": "code",
   "execution_count": 17,
   "metadata": {},
   "outputs": [
    {
     "data": {
      "text/plain": [
       "82.70450164550293"
      ]
     },
     "execution_count": 17,
     "metadata": {},
     "output_type": "execute_result"
    }
   ],
   "source": [
    "df_train['rougher.output.recovery'].mean() #compare with the feature value rougher.output.recovery"
   ]
  },
  {
   "cell_type": "markdown",
   "metadata": {},
   "source": [
    "La eficiencia se calcula correctamente. Porque los valores coinciden.  \n",
    "\n",
    "Encuentre MAE (error absoluto promedio):"
   ]
  },
  {
   "cell_type": "code",
   "execution_count": 18,
   "metadata": {},
   "outputs": [
    {
     "name": "stdout",
     "output_type": "stream",
     "text": [
      "9.73512347450521e-15\n"
     ]
    }
   ],
   "source": [
    "print(mean_absolute_error(df_train['recovery_calc'], df_train['rougher.output.recovery']))"
   ]
  },
  {
   "cell_type": "markdown",
   "metadata": {},
   "source": [
    "El valor de MAE es muy pequeño, lo que confirma la exactitud del cálculo.\n",
    "\n",
    "#### Analizar características no disponibles en la muestra de prueba. \n",
    "¿Cuáles son estos parámetros? ¿Qué tipo son?"
   ]
  },
  {
   "cell_type": "code",
   "execution_count": 19,
   "metadata": {},
   "outputs": [
    {
     "data": {
      "text/plain": [
       "{'final.output.concentrate_ag',\n",
       " 'final.output.concentrate_au',\n",
       " 'final.output.concentrate_pb',\n",
       " 'final.output.concentrate_sol',\n",
       " 'final.output.recovery',\n",
       " 'final.output.tail_ag',\n",
       " 'final.output.tail_au',\n",
       " 'final.output.tail_pb',\n",
       " 'final.output.tail_sol',\n",
       " 'primary_cleaner.output.concentrate_ag',\n",
       " 'primary_cleaner.output.concentrate_au',\n",
       " 'primary_cleaner.output.concentrate_pb',\n",
       " 'primary_cleaner.output.concentrate_sol',\n",
       " 'primary_cleaner.output.tail_ag',\n",
       " 'primary_cleaner.output.tail_au',\n",
       " 'primary_cleaner.output.tail_pb',\n",
       " 'primary_cleaner.output.tail_sol',\n",
       " 'recovery_calc',\n",
       " 'rougher.calculation.au_pb_ratio',\n",
       " 'rougher.calculation.floatbank10_sulfate_to_au_feed',\n",
       " 'rougher.calculation.floatbank11_sulfate_to_au_feed',\n",
       " 'rougher.calculation.sulfate_to_au_concentrate',\n",
       " 'rougher.output.concentrate_ag',\n",
       " 'rougher.output.concentrate_au',\n",
       " 'rougher.output.concentrate_pb',\n",
       " 'rougher.output.concentrate_sol',\n",
       " 'rougher.output.recovery',\n",
       " 'rougher.output.tail_ag',\n",
       " 'rougher.output.tail_au',\n",
       " 'rougher.output.tail_pb',\n",
       " 'rougher.output.tail_sol',\n",
       " 'secondary_cleaner.output.tail_ag',\n",
       " 'secondary_cleaner.output.tail_au',\n",
       " 'secondary_cleaner.output.tail_pb',\n",
       " 'secondary_cleaner.output.tail_sol'}"
      ]
     },
     "execution_count": 19,
     "metadata": {},
     "output_type": "execute_result"
    }
   ],
   "source": [
    "lost = set(df_train.columns) - set(df_test.columns)\n",
    "lost"
   ]
  },
  {
   "cell_type": "markdown",
   "metadata": {},
   "source": [
    "En la muestra de prueba no hay atributos de salida - parámetros del producto, atributos de destino, cálculo - características de cálculo para la etapa más áspera - es posible que estos atributos se calculan más tarde y no están disponibles durante el proceso.\n",
    "\n",
    "Necesitamos agregar dos temas objetivo a la muestra de prueba, tomándolos de los índices de fecha completa."
   ]
  },
  {
   "cell_type": "code",
   "execution_count": 20,
   "metadata": {},
   "outputs": [],
   "source": [
    "df_full['date'] = pd.to_datetime(df_full['date'], format=\"%Y-%m-%d %H:%M:%S\")\n",
    "df_train['date'] = pd.to_datetime(df_train['date'], format=\"%Y-%m-%d %H:%M:%S\")\n",
    "df_test['date'] = pd.to_datetime(df_test['date'], format=\"%Y-%m-%d %H:%M:%S\")\n",
    "\n",
    "df_full.set_index('date', inplace=True)\n",
    "df_test.set_index('date', inplace=True)\n",
    "df_train.set_index('date', inplace=True)"
   ]
  },
  {
   "cell_type": "code",
   "execution_count": 21,
   "metadata": {},
   "outputs": [],
   "source": [
    "df_test['rougher.output.recovery'] = df_full['rougher.output.recovery']\n",
    "df_test['final.output.recovery'] = df_full['final.output.recovery']"
   ]
  },
  {
   "cell_type": "markdown",
   "metadata": {},
   "source": [
    "### Haz una prueba previa de los datos.\n",
    "\n",
    "Vamos a encontrar algunos pases:"
   ]
  },
  {
   "cell_type": "code",
   "execution_count": 22,
   "metadata": {
    "scrolled": true
   },
   "outputs": [
    {
     "data": {
      "text/plain": [
       "primary_cleaner.input.sulfate                  4\n",
       "primary_cleaner.input.depressant               5\n",
       "primary_cleaner.input.feed_size                0\n",
       "primary_cleaner.input.xanthate                 4\n",
       "primary_cleaner.state.floatbank8_a_air         0\n",
       "primary_cleaner.state.floatbank8_a_level       0\n",
       "primary_cleaner.state.floatbank8_b_air         0\n",
       "primary_cleaner.state.floatbank8_b_level       0\n",
       "primary_cleaner.state.floatbank8_c_air         0\n",
       "primary_cleaner.state.floatbank8_c_level       0\n",
       "primary_cleaner.state.floatbank8_d_air         0\n",
       "primary_cleaner.state.floatbank8_d_level       0\n",
       "rougher.input.feed_ag                          0\n",
       "rougher.input.feed_pb                          0\n",
       "rougher.input.feed_rate                        3\n",
       "rougher.input.feed_size                        1\n",
       "rougher.input.feed_sol                        21\n",
       "rougher.input.feed_au                          0\n",
       "rougher.input.floatbank10_sulfate              5\n",
       "rougher.input.floatbank10_xanthate             0\n",
       "rougher.input.floatbank11_sulfate              8\n",
       "rougher.input.floatbank11_xanthate            25\n",
       "rougher.state.floatbank10_a_air                0\n",
       "rougher.state.floatbank10_a_level              0\n",
       "rougher.state.floatbank10_b_air                0\n",
       "rougher.state.floatbank10_b_level              0\n",
       "rougher.state.floatbank10_c_air                0\n",
       "rougher.state.floatbank10_c_level              0\n",
       "rougher.state.floatbank10_d_air                0\n",
       "rougher.state.floatbank10_d_level              0\n",
       "rougher.state.floatbank10_e_air                0\n",
       "rougher.state.floatbank10_e_level              0\n",
       "rougher.state.floatbank10_f_air                0\n",
       "rougher.state.floatbank10_f_level              0\n",
       "secondary_cleaner.state.floatbank2_a_air       3\n",
       "secondary_cleaner.state.floatbank2_a_level     0\n",
       "secondary_cleaner.state.floatbank2_b_air       2\n",
       "secondary_cleaner.state.floatbank2_b_level     0\n",
       "secondary_cleaner.state.floatbank3_a_air       9\n",
       "secondary_cleaner.state.floatbank3_a_level     0\n",
       "secondary_cleaner.state.floatbank3_b_air       0\n",
       "secondary_cleaner.state.floatbank3_b_level     0\n",
       "secondary_cleaner.state.floatbank4_a_air       0\n",
       "secondary_cleaner.state.floatbank4_a_level     0\n",
       "secondary_cleaner.state.floatbank4_b_air       0\n",
       "secondary_cleaner.state.floatbank4_b_level     0\n",
       "secondary_cleaner.state.floatbank5_a_air       0\n",
       "secondary_cleaner.state.floatbank5_a_level     0\n",
       "secondary_cleaner.state.floatbank5_b_air       0\n",
       "secondary_cleaner.state.floatbank5_b_level     0\n",
       "secondary_cleaner.state.floatbank6_a_air       0\n",
       "secondary_cleaner.state.floatbank6_a_level     0\n",
       "rougher.output.recovery                        0\n",
       "final.output.recovery                          0\n",
       "dtype: int64"
      ]
     },
     "execution_count": 22,
     "metadata": {},
     "output_type": "execute_result"
    }
   ],
   "source": [
    "df_test.isna().sum()"
   ]
  },
  {
   "cell_type": "code",
   "execution_count": 23,
   "metadata": {
    "scrolled": true
   },
   "outputs": [
    {
     "data": {
      "text/plain": [
       "final.output.concentrate_ag                     1\n",
       "final.output.concentrate_pb                     1\n",
       "final.output.concentrate_sol                  211\n",
       "final.output.concentrate_au                     0\n",
       "final.output.recovery                           0\n",
       "                                             ... \n",
       "secondary_cleaner.state.floatbank5_b_air        1\n",
       "secondary_cleaner.state.floatbank5_b_level      1\n",
       "secondary_cleaner.state.floatbank6_a_air        2\n",
       "secondary_cleaner.state.floatbank6_a_level      1\n",
       "recovery_calc                                   0\n",
       "Length: 87, dtype: int64"
      ]
     },
     "execution_count": 23,
     "metadata": {},
     "output_type": "execute_result"
    }
   ],
   "source": [
    "df_train.isna().sum()"
   ]
  },
  {
   "cell_type": "code",
   "execution_count": 24,
   "metadata": {},
   "outputs": [
    {
     "data": {
      "text/plain": [
       "final.output.concentrate_ag                     1\n",
       "final.output.concentrate_pb                     1\n",
       "final.output.concentrate_sol                  211\n",
       "final.output.concentrate_au                     0\n",
       "final.output.recovery                           0\n",
       "                                             ... \n",
       "secondary_cleaner.state.floatbank5_a_level      1\n",
       "secondary_cleaner.state.floatbank5_b_air        1\n",
       "secondary_cleaner.state.floatbank5_b_level      1\n",
       "secondary_cleaner.state.floatbank6_a_air        2\n",
       "secondary_cleaner.state.floatbank6_a_level      1\n",
       "Length: 86, dtype: int64"
      ]
     },
     "execution_count": 24,
     "metadata": {},
     "output_type": "execute_result"
    }
   ],
   "source": [
    "df_full.isna().sum()"
   ]
  },
  {
   "cell_type": "markdown",
   "metadata": {},
   "source": [
    "Los datos se indexan por la fecha y hora en que se recibe la información (función de fecha). Los parámetros adyacentes a la hora suelen ser similares. Así que podemos llenar los espacios en blanco con los valores anteriores."
   ]
  },
  {
   "cell_type": "code",
   "execution_count": 25,
   "metadata": {},
   "outputs": [],
   "source": [
    "df_test.ffill(axis='rows', inplace=True)\n",
    "df_train.ffill(axis='rows', inplace=True)\n",
    "df_full.ffill(axis='rows', inplace=True)"
   ]
  },
  {
   "cell_type": "code",
   "execution_count": 26,
   "metadata": {},
   "outputs": [
    {
     "data": {
      "text/plain": [
       "final.output.concentrate_ag                   0\n",
       "final.output.concentrate_pb                   0\n",
       "final.output.concentrate_sol                  0\n",
       "final.output.concentrate_au                   0\n",
       "final.output.recovery                         0\n",
       "                                             ..\n",
       "secondary_cleaner.state.floatbank5_b_air      0\n",
       "secondary_cleaner.state.floatbank5_b_level    0\n",
       "secondary_cleaner.state.floatbank6_a_air      0\n",
       "secondary_cleaner.state.floatbank6_a_level    0\n",
       "recovery_calc                                 0\n",
       "Length: 87, dtype: int64"
      ]
     },
     "execution_count": 26,
     "metadata": {},
     "output_type": "execute_result"
    }
   ],
   "source": [
    "# Compruebe la corrección en una de las muestras:\n",
    "df_train.isna().sum()"
   ]
  },
  {
   "cell_type": "markdown",
   "metadata": {},
   "source": [
    "Datos listos para análisis.\n",
    "\n",
    "## Análisis de datos\n",
    "\n",
    "Vea cómo cambia la concentración de metal (Au, Ag, Pb) en diferentes pasos de limpieza."
   ]
  },
  {
   "cell_type": "code",
   "execution_count": 27,
   "metadata": {},
   "outputs": [
    {
     "data": {
      "image/png": "[encoded data removed]",
      "text/plain": [
       "<Figure size 720x720 with 1 Axes>"
      ]
     },
     "metadata": {
      "needs_background": "light"
     },
     "output_type": "display_data"
    }
   ],
   "source": [
    "    # Au - oro\n",
    "\n",
    "plt.figure(figsize=[10,10])\n",
    "\n",
    "plt.hist(df_full['final.output.concentrate_au'], bins=100, label = 'final.output', alpha=.5)\n",
    "plt.hist(df_full['primary_cleaner.output.concentrate_au'], bins=100, label = 'primary_cleaner.output', alpha=.5)\n",
    "plt.hist(df_full['rougher.output.concentrate_au'], bins=100, label = 'rougher.output', alpha=.5)\n",
    "plt.hist(df_full['rougher.input.feed_au'], bins=100, label = 'rougher.input', alpha=.5)\n",
    "\n",
    "plt.xlim([0, 50])\n",
    "plt.ylim([0, 2200])\n",
    "\n",
    "plt.xlabel(\"Золото на выходе\")\n",
    "plt.ylabel(\"Количество результатов\")\n",
    "\n",
    "plt.legend(loc='upper left', fontsize='x-large')\n",
    "\n",
    "plt.title(\"Гистограмма распределения концентрации золота\")\n",
    "plt.show()"
   ]
  },
  {
   "cell_type": "markdown",
   "metadata": {},
   "source": [
    "La concentración de oro aumenta con cada nivel de filtración."
   ]
  },
  {
   "cell_type": "code",
   "execution_count": 28,
   "metadata": {},
   "outputs": [
    {
     "data": {
      "image/png": "[encoded data removed]",
      "text/plain": [
       "<Figure size 720x720 with 1 Axes>"
      ]
     },
     "metadata": {
      "needs_background": "light"
     },
     "output_type": "display_data"
    }
   ],
   "source": [
    "    # Ag - plata\n",
    "\n",
    "plt.figure(figsize=[10,10])\n",
    "\n",
    "plt.hist(df_full['final.output.concentrate_ag'], bins=100, label = 'final.output', alpha=.5)\n",
    "plt.hist(df_full['primary_cleaner.output.concentrate_ag'], bins=100, label = 'primary_cleaner.output', alpha=.5)\n",
    "plt.hist(df_full['rougher.output.concentrate_ag'], bins=100, label = 'rougher.output', alpha=.5)\n",
    "plt.hist(df_full['rougher.input.feed_ag'], bins=100, label = 'rougher.input', alpha=.5)\n",
    "\n",
    "plt.xlim([0, 20])\n",
    "plt.ylim([0, 1100])\n",
    "\n",
    "plt.xlabel(\"Серебро на выходе\")\n",
    "plt.ylabel(\"Количество результатов\")\n",
    "\n",
    "plt.legend(loc='upper left', fontsize='x-large')\n",
    "\n",
    "plt.title(\"Гистограмма распределения концентрации серебра\")\n",
    "plt.show()"
   ]
  },
  {
   "cell_type": "markdown",
   "metadata": {},
   "source": [
    "La concentración de plata disminuye."
   ]
  },
  {
   "cell_type": "code",
   "execution_count": 29,
   "metadata": {},
   "outputs": [
    {
     "data": {
      "image/png": "[encoded data removed]",
      "text/plain": [
       "<Figure size 720x720 with 1 Axes>"
      ]
     },
     "metadata": {
      "needs_background": "light"
     },
     "output_type": "display_data"
    }
   ],
   "source": [
    "    # Pb - plomo\n",
    "\n",
    "plt.figure(figsize=[10,10])\n",
    "\n",
    "plt.hist(df_full['final.output.concentrate_pb'], bins=100, label = 'final.output', alpha=.5)\n",
    "plt.hist(df_full['primary_cleaner.output.concentrate_pb'], bins=100, label = 'primary_cleaner.output', alpha=.5)\n",
    "plt.hist(df_full['rougher.output.concentrate_pb'], bins=100, label = 'rougher.output', alpha=.5)\n",
    "plt.hist(df_full['rougher.input.feed_pb'], bins=100, label = 'rougher.input', alpha=.5)\n",
    "\n",
    "plt.xlim([0, 20])\n",
    "plt.ylim([0, 1000])\n",
    "\n",
    "plt.xlabel(\"Свинец на выходе\")\n",
    "plt.ylabel(\"Количество результатов\")\n",
    "\n",
    "plt.legend(loc='upper left', fontsize='x-large')\n",
    "\n",
    "plt.title(\"Гистограмма распределения концентрации свинца\")\n",
    "plt.show()"
   ]
  },
  {
   "cell_type": "markdown",
   "metadata": {},
   "source": [
    "El histograma muestra que la concentración de plomo en el proceso también está aumentando, aunque no tanto como en el oro.\n",
    "\n",
    "También vemos un gran número de valores cero en las tres etapas.\n",
    "\n",
    "### Compare la distribución de tamaños de grano de materias primas en muestras de entrenamiento y prueba.\n",
    "Si las distribuciones son muy diferentes entre sí, la evaluación del modelo será incorrecta."
   ]
  },
  {
   "cell_type": "code",
   "execution_count": 30,
   "metadata": {},
   "outputs": [
    {
     "data": {
      "image/png": "[encoded data removed]",
      "text/plain": [
       "<Figure size 432x288 with 1 Axes>"
      ]
     },
     "metadata": {
      "needs_background": "light"
     },
     "output_type": "display_data"
    }
   ],
   "source": [
    "sns.kdeplot(data= df_train['rougher.input.feed_size'].dropna(), label='data_train');\n",
    "sns.kdeplot(data= df_test['rougher.input.feed_size'].dropna(), label='data_train');"
   ]
  },
  {
   "cell_type": "markdown",
   "metadata": {},
   "source": [
    "No hay diferencia visual entre las muestras de entrenamiento y de prueba.\n",
    "\n",
    "### Explore la concentración total de todas las sustancias en diferentes etapas: en materias primas, en concentrados negros y finales"
   ]
  },
  {
   "cell_type": "code",
   "execution_count": 31,
   "metadata": {},
   "outputs": [],
   "source": [
    "df_train.loc[:, 'Сум. концентрация всех веществ в сырье'] = df_train.loc[:, ['rougher.input.feed_au',\n",
    "                                'rougher.input.feed_ag',\n",
    "                                'rougher.input.feed_pb',\n",
    "                                'rougher.input.feed_sol']].sum(axis=1)\n",
    "df_train.loc[:, 'Сум. концентрация всех веществ в черновом концентрате'] = df_train.loc[:, ['rougher.output.concentrate_au',\n",
    "                                'rougher.output.concentrate_ag',\n",
    "                                'rougher.output.concentrate_pb',\n",
    "                                'rougher.output.concentrate_sol']].sum(axis=1)\n",
    "df_train.loc[:, 'Сум. концентрация всех веществ финального концентрата'] = df_train.loc[:, ['final.output.concentrate_au',\n",
    "                               'final.output.concentrate_ag',\n",
    "                               'final.output.concentrate_pb',\n",
    "                               'final.output.concentrate_sol']].sum(axis=1)"
   ]
  },
  {
   "cell_type": "code",
   "execution_count": 32,
   "metadata": {},
   "outputs": [
    {
     "data": {
      "image/png": "[encoded data removed]",
      "text/plain": [
       "<Figure size 864x648 with 4 Axes>"
      ]
     },
     "metadata": {
      "needs_background": "light"
     },
     "output_type": "display_data"
    }
   ],
   "source": [
    "f, axes = plt.subplots(2, 2, figsize=(12, 9), sharex=True)\n",
    "sns.histplot(df_train['Сум. концентрация всех веществ в сырье'], color=\"black\", ax=axes[0, 0])\n",
    "sns.histplot(df_train['Сум. концентрация всех веществ в черновом концентрате'], color=\"white\", ax=axes[0, 1])\n",
    "sns.histplot(df_train['Сум. концентрация всех веществ финального концентрата'], color=\"yellow\", ax=axes[1, 0]);"
   ]
  },
  {
   "cell_type": "markdown",
   "metadata": {},
   "source": [
    "Los gráficos muestran anomalías que necesitan ser eliminadas."
   ]
  },
  {
   "cell_type": "code",
   "execution_count": 33,
   "metadata": {},
   "outputs": [],
   "source": [
    "df_train = df_train[(df_train['Сум. концентрация всех веществ в сырье'] > 10) &\n",
    " (df_train['Сум. концентрация всех веществ в черновом концентрате'] > 20) &\n",
    " (df_train['Сум. концентрация всех веществ финального концентрата'] > 10)]"
   ]
  },
  {
   "cell_type": "code",
   "execution_count": 34,
   "metadata": {},
   "outputs": [
    {
     "data": {
      "image/png": "[encoded data removed]",
      "text/plain": [
       "<Figure size 864x648 with 4 Axes>"
      ]
     },
     "metadata": {
      "needs_background": "light"
     },
     "output_type": "display_data"
    }
   ],
   "source": [
    "# Проверка\n",
    "\n",
    "f, axes = plt.subplots(2, 2, figsize=(12, 9), sharex=True)\n",
    "sns.histplot(df_train['Сум. концентрация всех веществ в сырье'], color=\"black\", ax=axes[0, 0])\n",
    "sns.histplot(df_train['Сум. концентрация всех веществ в черновом концентрате'], color=\"white\", ax=axes[0, 1])\n",
    "sns.histplot(df_train['Сум. концентрация всех веществ финального концентрата'], color=\"yellow\", ax=axes[1, 0]);"
   ]
  },
  {
   "cell_type": "markdown",
   "metadata": {},
   "source": [
    "Mostramos la concentración de metales (Au, Ag, Pb) en diferentes etapas de tratamiento, el tamaño de los gránulos de las materias primas y la concentración total de todas las sustancias en diferentes etapas: en materias primas, en negro y concentrados finales.\n",
    "Se encontraron y eliminaron anomalías. Datos listos para aprender.\n",
    "\n",
    "## Model\n",
    "\n",
    "Al construir modelos solo podemos tener en cuenta aquellas columnas que están en las columnas de prueba y destino, el resto en la muestra de entrenamiento no debe tomarse (recomendación del entrenador)."
   ]
  },
  {
   "cell_type": "code",
   "execution_count": 35,
   "metadata": {},
   "outputs": [],
   "source": [
    "lost.remove('rougher.output.recovery')\n",
    "lost.remove('final.output.recovery')\n",
    "df_train = df_train.drop(lost, axis=1)"
   ]
  },
  {
   "cell_type": "code",
   "execution_count": 36,
   "metadata": {},
   "outputs": [
    {
     "data": {
      "text/plain": [
       "(13778, 57)"
      ]
     },
     "execution_count": 36,
     "metadata": {},
     "output_type": "execute_result"
    }
   ],
   "source": [
    "df_train.shape"
   ]
  },
  {
   "cell_type": "markdown",
   "metadata": {},
   "source": [
    "También retire las columnas auxiliares con concentración total."
   ]
  },
  {
   "cell_type": "code",
   "execution_count": 37,
   "metadata": {},
   "outputs": [],
   "source": [
    "df_train.drop('Сум. концентрация всех веществ в сырье', axis=1, inplace=True)\n",
    "df_train.drop('Сум. концентрация всех веществ в черновом концентрате', axis=1, inplace=True)\n",
    "df_train.drop('Сум. концентрация всех веществ финального концентрата', axis=1, inplace=True)"
   ]
  },
  {
   "attachments": {
    "image-2.png": {
     "image/png": "[encoded data removed]"
    },
    "image.png": {
     "image/png": "[encoded data removed]"
    }
   },
   "cell_type": "markdown",
   "metadata": {},
   "source": [
    "### Escriba una función para calcular el sMAPE resultante.\n",
    "\n",
    "![image.png](attachment:image.png)\n",
    "![image-2.png](attachment:image-2.png)"
   ]
  },
  {
   "cell_type": "code",
   "execution_count": 38,
   "metadata": {},
   "outputs": [],
   "source": [
    "def sMAPE(y_true, y_pred):\n",
    "    error = np.mean(abs(y_true - y_pred)/((abs(y_true) + abs(y_pred))/2)) * 100\n",
    "    return error"
   ]
  },
  {
   "cell_type": "code",
   "execution_count": 39,
   "metadata": {},
   "outputs": [],
   "source": [
    "def final_sMAPE(sMAPE_rougher, sMAPE_final):\n",
    "    return (0.25 * sMAPE_rougher + 0.75 * sMAPE_final)"
   ]
  },
  {
   "cell_type": "markdown",
   "metadata": {},
   "source": [
    "### Elaboración de diferentes modelos y evaluación de su cotejo de calidad. \n",
    "Seleccione el mejor modelo y pruébelo en una muestra de prueba. Describa las conclusiones."
   ]
  },
  {
   "cell_type": "code",
   "execution_count": 40,
   "metadata": {},
   "outputs": [],
   "source": [
    "#Create a function to set hyperparameters:\n",
    "\n",
    "def hyppar(model, target, features):\n",
    "    my_scorer = make_scorer(sMAPE)\n",
    "    \n",
    "    scores = cross_val_score(model,\n",
    "                             features,\n",
    "                             target,\n",
    "                             cv=5,\n",
    "                             scoring=my_scorer)\n",
    "    \n",
    "    return scores.mean()"
   ]
  },
  {
   "cell_type": "code",
   "execution_count": 41,
   "metadata": {},
   "outputs": [],
   "source": [
    "#Haremos funciones para la conversión de características de muestra de prueba:\n",
    "\n",
    "def feature_target_rougher(data):\n",
    "    data_cols = pd.Series(data.columns)\n",
    "    features_1_col = list(data_cols[data_cols.str.contains('rougher.input|rougher.state')])\n",
    "    features_1 = data[features_1_col]\n",
    "    \n",
    "    scaler_1 = StandardScaler()\n",
    "    features_1 = scaler_1.fit_transform(features_1)\n",
    "    target_1 = data['rougher.output.recovery']\n",
    "    \n",
    "    return features_1, target_1, scaler_1"
   ]
  },
  {
   "cell_type": "code",
   "execution_count": 42,
   "metadata": {},
   "outputs": [],
   "source": [
    "def feature_target_final(data):\n",
    "    features_2 = data.drop(['final.output.recovery', 'rougher.output.recovery'], axis=1)\n",
    "    \n",
    "    scaler_2 = StandardScaler()\n",
    "    features_2 = scaler_2.fit_transform(features_2)\n",
    "    target_2 = data['final.output.recovery']\n",
    "    \n",
    "    return features_2, target_2, scaler_2"
   ]
  },
  {
   "cell_type": "code",
   "execution_count": 43,
   "metadata": {},
   "outputs": [],
   "source": [
    "features_1, target_1, scaler_1 = feature_target_rougher(df_train)\n",
    "features_2, target_2, scaler_2 = feature_target_final(df_train)"
   ]
  },
  {
   "cell_type": "markdown",
   "metadata": {},
   "source": [
    "#### DecisionTree"
   ]
  },
  {
   "cell_type": "code",
   "execution_count": 44,
   "metadata": {},
   "outputs": [
    {
     "data": {
      "text/html": [
       "<div>\n",
       "<style scoped>\n",
       "    .dataframe tbody tr th:only-of-type {\n",
       "        vertical-align: middle;\n",
       "    }\n",
       "\n",
       "    .dataframe tbody tr th {\n",
       "        vertical-align: top;\n",
       "    }\n",
       "\n",
       "    .dataframe thead th {\n",
       "        text-align: right;\n",
       "    }\n",
       "</style>\n",
       "<table border=\"1\" class=\"dataframe\">\n",
       "  <thead>\n",
       "    <tr style=\"text-align: right;\">\n",
       "      <th></th>\n",
       "      <th>rougher_smape</th>\n",
       "      <th>final_smape</th>\n",
       "      <th>end_smape</th>\n",
       "      <th>depth</th>\n",
       "    </tr>\n",
       "  </thead>\n",
       "  <tbody>\n",
       "    <tr>\n",
       "      <th>1</th>\n",
       "      <td>7.031491</td>\n",
       "      <td>9.441246</td>\n",
       "      <td>8.838807</td>\n",
       "      <td>3</td>\n",
       "    </tr>\n",
       "    <tr>\n",
       "      <th>0</th>\n",
       "      <td>7.353549</td>\n",
       "      <td>9.365687</td>\n",
       "      <td>8.862652</td>\n",
       "      <td>2</td>\n",
       "    </tr>\n",
       "    <tr>\n",
       "      <th>2</th>\n",
       "      <td>6.816533</td>\n",
       "      <td>9.792827</td>\n",
       "      <td>9.048754</td>\n",
       "      <td>4</td>\n",
       "    </tr>\n",
       "    <tr>\n",
       "      <th>3</th>\n",
       "      <td>7.055637</td>\n",
       "      <td>10.652873</td>\n",
       "      <td>9.753564</td>\n",
       "      <td>5</td>\n",
       "    </tr>\n",
       "    <tr>\n",
       "      <th>4</th>\n",
       "      <td>7.213011</td>\n",
       "      <td>10.630848</td>\n",
       "      <td>9.776389</td>\n",
       "      <td>6</td>\n",
       "    </tr>\n",
       "    <tr>\n",
       "      <th>5</th>\n",
       "      <td>7.798659</td>\n",
       "      <td>11.461416</td>\n",
       "      <td>10.545727</td>\n",
       "      <td>7</td>\n",
       "    </tr>\n",
       "    <tr>\n",
       "      <th>6</th>\n",
       "      <td>8.228922</td>\n",
       "      <td>13.041094</td>\n",
       "      <td>11.838051</td>\n",
       "      <td>8</td>\n",
       "    </tr>\n",
       "    <tr>\n",
       "      <th>7</th>\n",
       "      <td>8.310750</td>\n",
       "      <td>13.076037</td>\n",
       "      <td>11.884715</td>\n",
       "      <td>9</td>\n",
       "    </tr>\n",
       "    <tr>\n",
       "      <th>8</th>\n",
       "      <td>7.979923</td>\n",
       "      <td>13.860983</td>\n",
       "      <td>12.390718</td>\n",
       "      <td>10</td>\n",
       "    </tr>\n",
       "    <tr>\n",
       "      <th>9</th>\n",
       "      <td>8.180431</td>\n",
       "      <td>14.348494</td>\n",
       "      <td>12.806478</td>\n",
       "      <td>11</td>\n",
       "    </tr>\n",
       "    <tr>\n",
       "      <th>10</th>\n",
       "      <td>9.360448</td>\n",
       "      <td>14.500610</td>\n",
       "      <td>13.215570</td>\n",
       "      <td>12</td>\n",
       "    </tr>\n",
       "    <tr>\n",
       "      <th>11</th>\n",
       "      <td>8.698847</td>\n",
       "      <td>15.948001</td>\n",
       "      <td>14.135713</td>\n",
       "      <td>13</td>\n",
       "    </tr>\n",
       "  </tbody>\n",
       "</table>\n",
       "</div>"
      ],
      "text/plain": [
       "    rougher_smape  final_smape  end_smape  depth\n",
       "1        7.031491     9.441246   8.838807      3\n",
       "0        7.353549     9.365687   8.862652      2\n",
       "2        6.816533     9.792827   9.048754      4\n",
       "3        7.055637    10.652873   9.753564      5\n",
       "4        7.213011    10.630848   9.776389      6\n",
       "5        7.798659    11.461416  10.545727      7\n",
       "6        8.228922    13.041094  11.838051      8\n",
       "7        8.310750    13.076037  11.884715      9\n",
       "8        7.979923    13.860983  12.390718     10\n",
       "9        8.180431    14.348494  12.806478     11\n",
       "10       9.360448    14.500610  13.215570     12\n",
       "11       8.698847    15.948001  14.135713     13"
      ]
     },
     "execution_count": 44,
     "metadata": {},
     "output_type": "execute_result"
    }
   ],
   "source": [
    "d = defaultdict(list)\n",
    "for depth in range(2, 14):\n",
    "    \n",
    "        model_1 = DecisionTreeRegressor(max_depth=depth, random_state=12345)\n",
    "        model_2 = DecisionTreeRegressor(max_depth=depth, random_state=12345)\n",
    "\n",
    "        rougher_smape = hyppar(model_1, target_1, features_1)\n",
    "        final_smape = hyppar(model_2, target_2, features_2)\n",
    "        d['rougher_smape'].append(rougher_smape)\n",
    "        d['final_smape'].append(final_smape)\n",
    "        d['end_smape'].append(final_sMAPE(rougher_smape, final_smape))\n",
    "        d['depth'].append(depth)\n",
    "\n",
    "pd.DataFrame(d).sort_values(by='end_smape')"
   ]
  },
  {
   "cell_type": "code",
   "execution_count": 45,
   "metadata": {},
   "outputs": [
    {
     "name": "stdout",
     "output_type": "stream",
     "text": [
      "{'max_depth': 2, 'min_samples_split': 2}\n"
     ]
    }
   ],
   "source": [
    "parameters = {\"max_depth\": range(2,14), \"min_samples_split\": range(2,10)}\n",
    "smape_score=make_scorer(final_smape, greater_is_better=False)\n",
    "grid = GridSearchCV(model_2, parameters, cv=5, scoring=smape_score)\n",
    "grid.fit(features_2, target_2)\n",
    "print(grid.best_params_)"
   ]
  },
  {
   "cell_type": "markdown",
   "metadata": {},
   "source": [
    "En el modelo del árbol de decisión, el mejor sMAPE se obtiene por: Profundidad del árbol = 2 (rougher_smape = 7.353549, final_smape = 9.365687, end_smape = 8.862652).\n",
    "\n",
    "##### Random Forest"
   ]
  },
  {
   "cell_type": "code",
   "execution_count": 53,
   "metadata": {},
   "outputs": [
    {
     "data": {
      "text/html": [
       "<div>\n",
       "<style scoped>\n",
       "    .dataframe tbody tr th:only-of-type {\n",
       "        vertical-align: middle;\n",
       "    }\n",
       "\n",
       "    .dataframe tbody tr th {\n",
       "        vertical-align: top;\n",
       "    }\n",
       "\n",
       "    .dataframe thead th {\n",
       "        text-align: right;\n",
       "    }\n",
       "</style>\n",
       "<table border=\"1\" class=\"dataframe\">\n",
       "  <thead>\n",
       "    <tr style=\"text-align: right;\">\n",
       "      <th></th>\n",
       "      <th>rougher_smape</th>\n",
       "      <th>final_smape</th>\n",
       "      <th>end_smape</th>\n",
       "      <th>estim</th>\n",
       "    </tr>\n",
       "  </thead>\n",
       "  <tbody>\n",
       "    <tr>\n",
       "      <th>4</th>\n",
       "      <td>7.064211</td>\n",
       "      <td>9.193752</td>\n",
       "      <td>8.661367</td>\n",
       "      <td>5</td>\n",
       "    </tr>\n",
       "    <tr>\n",
       "      <th>9</th>\n",
       "      <td>7.068833</td>\n",
       "      <td>9.196650</td>\n",
       "      <td>8.664696</td>\n",
       "      <td>10</td>\n",
       "    </tr>\n",
       "    <tr>\n",
       "      <th>6</th>\n",
       "      <td>7.084058</td>\n",
       "      <td>9.191834</td>\n",
       "      <td>8.664890</td>\n",
       "      <td>7</td>\n",
       "    </tr>\n",
       "    <tr>\n",
       "      <th>5</th>\n",
       "      <td>7.091047</td>\n",
       "      <td>9.190573</td>\n",
       "      <td>8.665692</td>\n",
       "      <td>6</td>\n",
       "    </tr>\n",
       "    <tr>\n",
       "      <th>11</th>\n",
       "      <td>7.075936</td>\n",
       "      <td>9.204144</td>\n",
       "      <td>8.672092</td>\n",
       "      <td>12</td>\n",
       "    </tr>\n",
       "    <tr>\n",
       "      <th>8</th>\n",
       "      <td>7.068212</td>\n",
       "      <td>9.208686</td>\n",
       "      <td>8.673568</td>\n",
       "      <td>9</td>\n",
       "    </tr>\n",
       "    <tr>\n",
       "      <th>15</th>\n",
       "      <td>7.082639</td>\n",
       "      <td>9.204780</td>\n",
       "      <td>8.674245</td>\n",
       "      <td>16</td>\n",
       "    </tr>\n",
       "    <tr>\n",
       "      <th>3</th>\n",
       "      <td>7.085304</td>\n",
       "      <td>9.204032</td>\n",
       "      <td>8.674350</td>\n",
       "      <td>4</td>\n",
       "    </tr>\n",
       "    <tr>\n",
       "      <th>10</th>\n",
       "      <td>7.084555</td>\n",
       "      <td>9.204313</td>\n",
       "      <td>8.674374</td>\n",
       "      <td>11</td>\n",
       "    </tr>\n",
       "    <tr>\n",
       "      <th>12</th>\n",
       "      <td>7.076559</td>\n",
       "      <td>9.209069</td>\n",
       "      <td>8.675942</td>\n",
       "      <td>13</td>\n",
       "    </tr>\n",
       "    <tr>\n",
       "      <th>16</th>\n",
       "      <td>7.088804</td>\n",
       "      <td>9.207081</td>\n",
       "      <td>8.677512</td>\n",
       "      <td>17</td>\n",
       "    </tr>\n",
       "    <tr>\n",
       "      <th>13</th>\n",
       "      <td>7.083488</td>\n",
       "      <td>9.209659</td>\n",
       "      <td>8.678116</td>\n",
       "      <td>14</td>\n",
       "    </tr>\n",
       "    <tr>\n",
       "      <th>7</th>\n",
       "      <td>7.089669</td>\n",
       "      <td>9.207761</td>\n",
       "      <td>8.678238</td>\n",
       "      <td>8</td>\n",
       "    </tr>\n",
       "    <tr>\n",
       "      <th>14</th>\n",
       "      <td>7.081493</td>\n",
       "      <td>9.214139</td>\n",
       "      <td>8.680977</td>\n",
       "      <td>15</td>\n",
       "    </tr>\n",
       "    <tr>\n",
       "      <th>18</th>\n",
       "      <td>7.094343</td>\n",
       "      <td>9.214284</td>\n",
       "      <td>8.684299</td>\n",
       "      <td>19</td>\n",
       "    </tr>\n",
       "    <tr>\n",
       "      <th>17</th>\n",
       "      <td>7.092982</td>\n",
       "      <td>9.215094</td>\n",
       "      <td>8.684566</td>\n",
       "      <td>18</td>\n",
       "    </tr>\n",
       "    <tr>\n",
       "      <th>2</th>\n",
       "      <td>7.159963</td>\n",
       "      <td>9.193473</td>\n",
       "      <td>8.685096</td>\n",
       "      <td>3</td>\n",
       "    </tr>\n",
       "    <tr>\n",
       "      <th>1</th>\n",
       "      <td>7.278858</td>\n",
       "      <td>9.178027</td>\n",
       "      <td>8.703234</td>\n",
       "      <td>2</td>\n",
       "    </tr>\n",
       "    <tr>\n",
       "      <th>0</th>\n",
       "      <td>7.254638</td>\n",
       "      <td>9.259659</td>\n",
       "      <td>8.758404</td>\n",
       "      <td>1</td>\n",
       "    </tr>\n",
       "  </tbody>\n",
       "</table>\n",
       "</div>"
      ],
      "text/plain": [
       "    rougher_smape  final_smape  end_smape  estim\n",
       "4        7.064211     9.193752   8.661367      5\n",
       "9        7.068833     9.196650   8.664696     10\n",
       "6        7.084058     9.191834   8.664890      7\n",
       "5        7.091047     9.190573   8.665692      6\n",
       "11       7.075936     9.204144   8.672092     12\n",
       "8        7.068212     9.208686   8.673568      9\n",
       "15       7.082639     9.204780   8.674245     16\n",
       "3        7.085304     9.204032   8.674350      4\n",
       "10       7.084555     9.204313   8.674374     11\n",
       "12       7.076559     9.209069   8.675942     13\n",
       "16       7.088804     9.207081   8.677512     17\n",
       "13       7.083488     9.209659   8.678116     14\n",
       "7        7.089669     9.207761   8.678238      8\n",
       "14       7.081493     9.214139   8.680977     15\n",
       "18       7.094343     9.214284   8.684299     19\n",
       "17       7.092982     9.215094   8.684566     18\n",
       "2        7.159963     9.193473   8.685096      3\n",
       "1        7.278858     9.178027   8.703234      2\n",
       "0        7.254638     9.259659   8.758404      1"
      ]
     },
     "execution_count": 53,
     "metadata": {},
     "output_type": "execute_result"
    }
   ],
   "source": [
    "random_forest = defaultdict(list)\n",
    "for estim in range(1, 20):\n",
    "    \n",
    "    model_1 = RandomForestRegressor(max_depth=2, n_estimators=estim, random_state=12345)\n",
    "    model_2 = RandomForestRegressor(max_depth=2, n_estimators=estim, random_state=12345)\n",
    "    \n",
    "    rougher_smape = hyppar(model_1, target_1, features_1)\n",
    "    final_smape = hyppar(model_2, target_2, features_2)\n",
    "    \n",
    "    random_forest['rougher_smape'].append(rougher_smape)\n",
    "    random_forest['final_smape'].append(final_smape)\n",
    "    random_forest['end_smape'].append(final_sMAPE(rougher_smape, final_smape))\n",
    "    random_forest['estim'].append(estim)\n",
    "\n",
    "pd.DataFrame(random_forest).sort_values(by='end_smape')"
   ]
  },
  {
   "cell_type": "markdown",
   "metadata": {},
   "source": [
    "En el modelo de bosque aleatorio, el mejor sMAPE se obtiene por: Número de árboles = 5 (rougher_smape = 7.064211, final_smape = 9.193752, end_smape = 8.661367).\n",
    "\n",
    "#### Linear regression"
   ]
  },
  {
   "cell_type": "code",
   "execution_count": 46,
   "metadata": {},
   "outputs": [
    {
     "data": {
      "text/plain": [
       "rougher_smape     6.589143\n",
       "final_smape      10.960639\n",
       "end_smape         9.867765\n",
       "dtype: float64"
      ]
     },
     "execution_count": 46,
     "metadata": {},
     "output_type": "execute_result"
    }
   ],
   "source": [
    "model_1 = LinearRegression()\n",
    "model_2 = LinearRegression()\n",
    "\n",
    "rougher_smape = hyppar(model_1, target_1, features_1)\n",
    "final_smape = hyppar(model_2, target_2, features_2)\n",
    "end_smape_ = final_sMAPE(rougher_smape, final_smape)\n",
    "\n",
    "df_lr = pd.Series({'rougher_smape': rougher_smape,\n",
    "                           'final_smape': final_smape,\n",
    "                           'end_smape': end_smape_}) \n",
    "df_lr"
   ]
  },
  {
   "cell_type": "markdown",
   "metadata": {},
   "source": [
    "El mejor resultado del modelo es un bosque aleatorio con hiperparámetros: Profundidad del árbol = 3, Número de árboles = 10.\n",
    "\n",
    "Lo probaremos con una muestra.\n",
    "\n",
    "#### Validación de modelos"
   ]
  },
  {
   "cell_type": "code",
   "execution_count": 47,
   "metadata": {},
   "outputs": [],
   "source": [
    "def feature_target_rougher_test(data, scaler_1):\n",
    "    data_cols = pd.Series(df_test.columns)\n",
    "    features_1_col_test = list(data_cols[data_cols.str.contains('rougher.input|rougher.state')])\n",
    "    features_1_test = data[features_1_col_test]\n",
    "    features_1_test = scaler_1.transform(features_1_test) \n",
    "    target_1_test = data['rougher.output.recovery']\n",
    "    \n",
    "    return features_1_test, target_1_test, scaler_1"
   ]
  },
  {
   "cell_type": "code",
   "execution_count": 48,
   "metadata": {},
   "outputs": [],
   "source": [
    "def feature_target_final_test(data, scaler_2):\n",
    "    features_2_test = df_test.drop(['final.output.recovery', 'rougher.output.recovery'], axis=1)\n",
    "    features_2_test = scaler_2.transform(features_2_test) \n",
    "    target_2_test = df_test['final.output.recovery']\n",
    "    \n",
    "    return features_2_test, target_2_test, scaler_2"
   ]
  },
  {
   "cell_type": "code",
   "execution_count": 49,
   "metadata": {},
   "outputs": [],
   "source": [
    "features_1_test, target_1_test, scaler_1 = feature_target_rougher_test(df_test, scaler_1)\n",
    "features_2_test, target_2_test, scaler_2 = feature_target_final_test(df_test, scaler_2)"
   ]
  },
  {
   "cell_type": "code",
   "execution_count": 50,
   "metadata": {},
   "outputs": [
    {
     "data": {
      "text/html": [
       "<div>\n",
       "<style scoped>\n",
       "    .dataframe tbody tr th:only-of-type {\n",
       "        vertical-align: middle;\n",
       "    }\n",
       "\n",
       "    .dataframe tbody tr th {\n",
       "        vertical-align: top;\n",
       "    }\n",
       "\n",
       "    .dataframe thead th {\n",
       "        text-align: right;\n",
       "    }\n",
       "</style>\n",
       "<table border=\"1\" class=\"dataframe\">\n",
       "  <thead>\n",
       "    <tr style=\"text-align: right;\">\n",
       "      <th></th>\n",
       "      <th>rougher_smape</th>\n",
       "      <th>final_smape</th>\n",
       "      <th>end_smape</th>\n",
       "    </tr>\n",
       "  </thead>\n",
       "  <tbody>\n",
       "    <tr>\n",
       "      <th>0</th>\n",
       "      <td>8.614069</td>\n",
       "      <td>9.723589</td>\n",
       "      <td>9.446209</td>\n",
       "    </tr>\n",
       "  </tbody>\n",
       "</table>\n",
       "</div>"
      ],
      "text/plain": [
       "   rougher_smape  final_smape  end_smape\n",
       "0       8.614069     9.723589   9.446209"
      ]
     },
     "execution_count": 50,
     "metadata": {},
     "output_type": "execute_result"
    }
   ],
   "source": [
    "test_dict = defaultdict(list)\n",
    "\n",
    "model_1 = RandomForestRegressor(max_depth=3, n_estimators=10, random_state=12345)\n",
    "model_2 =  RandomForestRegressor(max_depth=3, n_estimators=10, random_state=12345)\n",
    "\n",
    "model_1.fit(features_1, target_1)\n",
    "model_2.fit(features_2, target_2)\n",
    "\n",
    "train_predictions_1 = model_1.predict(features_1_test)\n",
    "train_predictions_2 = model_2.predict(features_2_test)\n",
    "test_dict['rougher_smape'].append(sMAPE(target_1_test, train_predictions_1))\n",
    "test_dict['final_smape'].append(sMAPE(target_2_test, train_predictions_2))\n",
    "test_dict['end_smape'].append(final_sMAPE(sMAPE(target_1_test, train_predictions_1), sMAPE(target_2_test, train_predictions_2)))\n",
    "\n",
    "pd.DataFrame(test_dict)"
   ]
  },
  {
   "cell_type": "markdown",
   "metadata": {},
   "source": [
    "La muestra final de la prueba sMAPE es 9.446209.\n",
    "\n",
    "Compruebe la adecuación del modelo a través de DummyRegressor:"
   ]
  },
  {
   "cell_type": "code",
   "execution_count": 51,
   "metadata": {},
   "outputs": [
    {
     "data": {
      "text/plain": [
       "rougher_smape     7.769749\n",
       "final_smape      10.409942\n",
       "end_smape         9.749894\n",
       "dtype: float64"
      ]
     },
     "execution_count": 51,
     "metadata": {},
     "output_type": "execute_result"
    }
   ],
   "source": [
    "features_1, target_1, scaler_1 = feature_target_rougher(df_train)\n",
    "features_2, target_2, scaler_2 = feature_target_final(df_train)\n",
    "\n",
    "model_1 = DummyRegressor(strategy = \"mean\")\n",
    "model_2 = DummyRegressor(strategy = \"mean\")\n",
    "\n",
    "rougher_smape = hyppar(model_1, target_1, features_1)\n",
    "final_smape = hyppar(model_2, target_2, features_2)\n",
    "end_smape_ = final_sMAPE(rougher_smape, final_smape)\n",
    "\n",
    "check = pd.Series({'rougher_smape': rougher_smape,\n",
    "                           'final_smape': final_smape,\n",
    "                           'end_smape': end_smape_}) \n",
    "check"
   ]
  },
  {
   "cell_type": "markdown",
   "metadata": {},
   "source": [
    "El sMAPE final para DummyRegressor: 9.749894 es más alto que nuestro modelo, por lo que es sano. El resultado se logra!\n",
    "\n",
    "## Salida\n",
    "\n",
    "Mejor modelo - Random Hyper Forest  \n",
    "Profundidad del árbol = 3, Número de árboles = 10.  \n",
    "sMAPE (desviación porcentual absoluta media simétrica) en este modelo = 9,446209."
   ]
  },
  {
   "cell_type": "code",
   "execution_count": null,
   "metadata": {},
   "outputs": [],
   "source": []
  }
 ],
 "metadata": {
  "ExecuteTimeLog": [
   {
    "duration": 435,
    "start_time": "2023-02-14T21:20:50.379Z"
   },
   {
    "duration": 765,
    "start_time": "2023-02-14T21:23:25.899Z"
   },
   {
    "duration": 39,
    "start_time": "2023-02-14T21:24:17.588Z"
   },
   {
    "duration": 1161,
    "start_time": "2023-02-14T21:25:14.589Z"
   },
   {
    "duration": 291,
    "start_time": "2023-02-14T21:26:53.735Z"
   },
   {
    "duration": 306,
    "start_time": "2023-02-14T21:27:35.241Z"
   },
   {
    "duration": 891,
    "start_time": "2023-02-14T21:28:28.636Z"
   },
   {
    "duration": 19,
    "start_time": "2023-02-14T21:28:54.087Z"
   },
   {
    "duration": 32,
    "start_time": "2023-02-14T21:29:20.305Z"
   },
   {
    "duration": 16,
    "start_time": "2023-02-14T21:34:10.926Z"
   },
   {
    "duration": 17,
    "start_time": "2023-02-14T21:34:36.919Z"
   },
   {
    "duration": 18,
    "start_time": "2023-02-14T21:34:55.192Z"
   },
   {
    "duration": 28,
    "start_time": "2023-02-14T21:35:45.209Z"
   },
   {
    "duration": 139,
    "start_time": "2023-02-14T21:36:01.998Z"
   },
   {
    "duration": 87,
    "start_time": "2023-02-14T21:36:11.390Z"
   },
   {
    "duration": 206,
    "start_time": "2023-02-14T21:59:17.942Z"
   },
   {
    "duration": 235,
    "start_time": "2023-02-14T21:59:53.046Z"
   },
   {
    "duration": 111,
    "start_time": "2023-02-14T22:00:08.125Z"
   },
   {
    "duration": 231,
    "start_time": "2023-02-14T22:00:39.692Z"
   },
   {
    "duration": 9,
    "start_time": "2023-02-14T22:06:53.972Z"
   },
   {
    "duration": 4,
    "start_time": "2023-02-14T22:07:29.295Z"
   },
   {
    "duration": 17,
    "start_time": "2023-02-14T22:07:47.008Z"
   },
   {
    "duration": 3,
    "start_time": "2023-02-14T22:08:10.845Z"
   },
   {
    "duration": 3,
    "start_time": "2023-02-14T22:14:19.880Z"
   },
   {
    "duration": 22,
    "start_time": "2023-02-14T22:15:40.025Z"
   },
   {
    "duration": 21,
    "start_time": "2023-02-14T22:15:50.902Z"
   },
   {
    "duration": 16,
    "start_time": "2023-02-14T22:17:23.614Z"
   },
   {
    "duration": 9,
    "start_time": "2023-02-14T22:20:04.730Z"
   },
   {
    "duration": 1106,
    "start_time": "2023-02-14T22:20:43.888Z"
   },
   {
    "duration": 749,
    "start_time": "2023-02-14T22:20:44.996Z"
   },
   {
    "duration": 19,
    "start_time": "2023-02-14T22:20:45.747Z"
   },
   {
    "duration": 241,
    "start_time": "2023-02-14T22:20:45.767Z"
   },
   {
    "duration": 25,
    "start_time": "2023-02-14T22:20:46.010Z"
   },
   {
    "duration": 130,
    "start_time": "2023-02-14T22:20:46.036Z"
   },
   {
    "duration": 16,
    "start_time": "2023-02-14T22:20:46.168Z"
   },
   {
    "duration": 265,
    "start_time": "2023-02-14T22:20:46.186Z"
   },
   {
    "duration": 25,
    "start_time": "2023-02-14T22:20:46.452Z"
   },
   {
    "duration": 162,
    "start_time": "2023-02-14T22:20:46.478Z"
   },
   {
    "duration": 114,
    "start_time": "2023-02-14T22:20:46.642Z"
   },
   {
    "duration": 3,
    "start_time": "2023-02-14T22:20:46.758Z"
   },
   {
    "duration": 10,
    "start_time": "2023-02-14T22:20:46.763Z"
   },
   {
    "duration": 6,
    "start_time": "2023-02-14T22:20:46.776Z"
   },
   {
    "duration": 9,
    "start_time": "2023-02-14T22:20:46.784Z"
   },
   {
    "duration": 53,
    "start_time": "2023-02-14T22:20:46.794Z"
   },
   {
    "duration": 17,
    "start_time": "2023-02-14T22:20:46.849Z"
   },
   {
    "duration": 11,
    "start_time": "2023-02-14T22:20:46.870Z"
   },
   {
    "duration": 6,
    "start_time": "2023-02-14T22:25:07.246Z"
   },
   {
    "duration": 965,
    "start_time": "2023-02-14T22:39:30.396Z"
   },
   {
    "duration": 17,
    "start_time": "2023-02-14T22:39:51.704Z"
   },
   {
    "duration": 9,
    "start_time": "2023-02-14T22:41:27.568Z"
   },
   {
    "duration": 3,
    "start_time": "2023-02-14T22:46:31.932Z"
   },
   {
    "duration": 5,
    "start_time": "2023-02-14T22:46:36.732Z"
   },
   {
    "duration": 4,
    "start_time": "2023-02-14T22:47:04.876Z"
   },
   {
    "duration": 20,
    "start_time": "2023-02-14T22:47:26.738Z"
   },
   {
    "duration": 9,
    "start_time": "2023-02-14T22:48:14.939Z"
   },
   {
    "duration": 9,
    "start_time": "2023-02-14T22:48:42.366Z"
   },
   {
    "duration": 14,
    "start_time": "2023-02-14T22:48:53.165Z"
   },
   {
    "duration": 12,
    "start_time": "2023-02-14T22:49:08.581Z"
   },
   {
    "duration": 1113,
    "start_time": "2023-02-14T22:49:22.981Z"
   },
   {
    "duration": 735,
    "start_time": "2023-02-14T22:49:24.096Z"
   },
   {
    "duration": 20,
    "start_time": "2023-02-14T22:49:24.833Z"
   },
   {
    "duration": 218,
    "start_time": "2023-02-14T22:49:24.854Z"
   },
   {
    "duration": 16,
    "start_time": "2023-02-14T22:49:25.075Z"
   },
   {
    "duration": 144,
    "start_time": "2023-02-14T22:49:25.093Z"
   },
   {
    "duration": 17,
    "start_time": "2023-02-14T22:49:25.239Z"
   },
   {
    "duration": 254,
    "start_time": "2023-02-14T22:49:25.257Z"
   },
   {
    "duration": 37,
    "start_time": "2023-02-14T22:49:25.512Z"
   },
   {
    "duration": 133,
    "start_time": "2023-02-14T22:49:25.550Z"
   },
   {
    "duration": 99,
    "start_time": "2023-02-14T22:49:25.685Z"
   },
   {
    "duration": 3,
    "start_time": "2023-02-14T22:49:25.786Z"
   },
   {
    "duration": 5,
    "start_time": "2023-02-14T22:49:25.791Z"
   },
   {
    "duration": 16,
    "start_time": "2023-02-14T22:49:25.815Z"
   },
   {
    "duration": 5,
    "start_time": "2023-02-14T22:49:25.833Z"
   },
   {
    "duration": 10,
    "start_time": "2023-02-14T22:49:25.840Z"
   },
   {
    "duration": 3,
    "start_time": "2023-02-14T22:49:25.851Z"
   },
   {
    "duration": 4,
    "start_time": "2023-02-14T22:49:25.856Z"
   },
   {
    "duration": 8,
    "start_time": "2023-02-14T22:49:25.862Z"
   },
   {
    "duration": 10,
    "start_time": "2023-02-14T22:49:25.871Z"
   },
   {
    "duration": 6,
    "start_time": "2023-02-14T22:49:33.329Z"
   },
   {
    "duration": 11,
    "start_time": "2023-02-14T22:52:57.530Z"
   },
   {
    "duration": 122,
    "start_time": "2023-02-14T22:53:18.193Z"
   },
   {
    "duration": 8,
    "start_time": "2023-02-14T22:53:35.501Z"
   },
   {
    "duration": 10,
    "start_time": "2023-02-14T22:53:49.636Z"
   },
   {
    "duration": 4,
    "start_time": "2023-02-14T22:57:42.350Z"
   },
   {
    "duration": 13,
    "start_time": "2023-02-14T22:58:04.031Z"
   },
   {
    "duration": 7,
    "start_time": "2023-02-14T22:58:29.769Z"
   },
   {
    "duration": 8,
    "start_time": "2023-02-14T22:59:04.867Z"
   },
   {
    "duration": 25,
    "start_time": "2023-02-14T23:04:57.098Z"
   },
   {
    "duration": 1530,
    "start_time": "2023-02-14T23:05:02.266Z"
   },
   {
    "duration": 743,
    "start_time": "2023-02-14T23:05:03.798Z"
   },
   {
    "duration": 19,
    "start_time": "2023-02-14T23:05:04.543Z"
   },
   {
    "duration": 238,
    "start_time": "2023-02-14T23:05:04.564Z"
   },
   {
    "duration": 24,
    "start_time": "2023-02-14T23:05:04.821Z"
   },
   {
    "duration": 134,
    "start_time": "2023-02-14T23:05:04.846Z"
   },
   {
    "duration": 18,
    "start_time": "2023-02-14T23:05:04.981Z"
   },
   {
    "duration": 281,
    "start_time": "2023-02-14T23:05:05.001Z"
   },
   {
    "duration": 41,
    "start_time": "2023-02-14T23:05:05.284Z"
   },
   {
    "duration": 140,
    "start_time": "2023-02-14T23:05:05.328Z"
   },
   {
    "duration": 102,
    "start_time": "2023-02-14T23:05:05.469Z"
   },
   {
    "duration": 4,
    "start_time": "2023-02-14T23:05:05.572Z"
   },
   {
    "duration": 9,
    "start_time": "2023-02-14T23:05:05.577Z"
   },
   {
    "duration": 11,
    "start_time": "2023-02-14T23:05:05.588Z"
   },
   {
    "duration": 37,
    "start_time": "2023-02-14T23:05:05.600Z"
   },
   {
    "duration": 18,
    "start_time": "2023-02-14T23:05:05.639Z"
   },
   {
    "duration": 9,
    "start_time": "2023-02-14T23:05:05.658Z"
   },
   {
    "duration": 9,
    "start_time": "2023-02-14T23:05:05.669Z"
   },
   {
    "duration": 5,
    "start_time": "2023-02-14T23:05:05.679Z"
   },
   {
    "duration": 12,
    "start_time": "2023-02-14T23:05:05.685Z"
   },
   {
    "duration": 4,
    "start_time": "2023-02-14T23:05:05.698Z"
   },
   {
    "duration": 16,
    "start_time": "2023-02-14T23:05:05.703Z"
   },
   {
    "duration": 31,
    "start_time": "2023-02-14T23:05:05.720Z"
   },
   {
    "duration": 10,
    "start_time": "2023-02-14T23:05:05.752Z"
   },
   {
    "duration": 12,
    "start_time": "2023-02-14T23:05:05.763Z"
   },
   {
    "duration": 10,
    "start_time": "2023-02-14T23:05:05.776Z"
   },
   {
    "duration": 1054,
    "start_time": "2023-02-14T23:05:05.788Z"
   },
   {
    "duration": 905,
    "start_time": "2023-02-14T23:05:28.533Z"
   },
   {
    "duration": 716,
    "start_time": "2023-02-14T23:06:52.128Z"
   },
   {
    "duration": 601,
    "start_time": "2023-02-14T23:07:00.998Z"
   },
   {
    "duration": 1239,
    "start_time": "2023-02-14T23:09:10.462Z"
   },
   {
    "duration": 511,
    "start_time": "2023-02-14T23:09:30.277Z"
   },
   {
    "duration": 606,
    "start_time": "2023-02-14T23:11:20.633Z"
   },
   {
    "duration": 518,
    "start_time": "2023-02-14T23:11:32.329Z"
   },
   {
    "duration": 707,
    "start_time": "2023-02-14T23:15:22.571Z"
   },
   {
    "duration": 9,
    "start_time": "2023-02-14T23:18:37.782Z"
   },
   {
    "duration": 1373,
    "start_time": "2023-02-14T23:19:44.373Z"
   },
   {
    "duration": 785,
    "start_time": "2023-02-14T23:19:45.748Z"
   },
   {
    "duration": 19,
    "start_time": "2023-02-14T23:19:46.535Z"
   },
   {
    "duration": 242,
    "start_time": "2023-02-14T23:19:46.555Z"
   },
   {
    "duration": 26,
    "start_time": "2023-02-14T23:19:46.800Z"
   },
   {
    "duration": 179,
    "start_time": "2023-02-14T23:19:46.829Z"
   },
   {
    "duration": 34,
    "start_time": "2023-02-14T23:19:47.019Z"
   },
   {
    "duration": 289,
    "start_time": "2023-02-14T23:19:47.054Z"
   },
   {
    "duration": 23,
    "start_time": "2023-02-14T23:19:47.348Z"
   },
   {
    "duration": 148,
    "start_time": "2023-02-14T23:19:47.372Z"
   },
   {
    "duration": 113,
    "start_time": "2023-02-14T23:19:47.522Z"
   },
   {
    "duration": 3,
    "start_time": "2023-02-14T23:19:47.636Z"
   },
   {
    "duration": 14,
    "start_time": "2023-02-14T23:19:47.641Z"
   },
   {
    "duration": 4,
    "start_time": "2023-02-14T23:19:47.658Z"
   },
   {
    "duration": 9,
    "start_time": "2023-02-14T23:19:47.664Z"
   },
   {
    "duration": 11,
    "start_time": "2023-02-14T23:19:47.675Z"
   },
   {
    "duration": 5,
    "start_time": "2023-02-14T23:19:47.688Z"
   },
   {
    "duration": 20,
    "start_time": "2023-02-14T23:19:47.709Z"
   },
   {
    "duration": 29,
    "start_time": "2023-02-14T23:19:47.731Z"
   },
   {
    "duration": 11,
    "start_time": "2023-02-14T23:19:47.762Z"
   },
   {
    "duration": 4,
    "start_time": "2023-02-14T23:19:47.774Z"
   },
   {
    "duration": 8,
    "start_time": "2023-02-14T23:19:47.779Z"
   },
   {
    "duration": 7,
    "start_time": "2023-02-14T23:19:47.788Z"
   },
   {
    "duration": 8,
    "start_time": "2023-02-14T23:19:47.796Z"
   },
   {
    "duration": 16,
    "start_time": "2023-02-14T23:19:47.806Z"
   },
   {
    "duration": 35,
    "start_time": "2023-02-14T23:19:47.823Z"
   },
   {
    "duration": 536,
    "start_time": "2023-02-14T23:19:47.860Z"
   },
   {
    "duration": 636,
    "start_time": "2023-02-14T23:19:48.397Z"
   },
   {
    "duration": 526,
    "start_time": "2023-02-14T23:19:49.035Z"
   },
   {
    "duration": 417,
    "start_time": "2023-02-14T23:19:49.562Z"
   },
   {
    "duration": 402,
    "start_time": "2023-02-14T23:19:56.690Z"
   },
   {
    "duration": 62,
    "start_time": "2023-02-14T23:20:34.206Z"
   },
   {
    "duration": 130,
    "start_time": "2023-02-14T23:31:02.332Z"
   },
   {
    "duration": 43,
    "start_time": "2023-02-14T23:31:32.606Z"
   },
   {
    "duration": 104,
    "start_time": "2023-02-14T23:32:34.661Z"
   },
   {
    "duration": 437,
    "start_time": "2023-02-14T23:32:45.003Z"
   },
   {
    "duration": 1835,
    "start_time": "2023-02-14T23:34:07.239Z"
   },
   {
    "duration": 1420,
    "start_time": "2023-02-14T23:36:02.332Z"
   },
   {
    "duration": 749,
    "start_time": "2023-02-14T23:36:03.754Z"
   },
   {
    "duration": 37,
    "start_time": "2023-02-14T23:36:04.506Z"
   },
   {
    "duration": 239,
    "start_time": "2023-02-14T23:36:04.549Z"
   },
   {
    "duration": 25,
    "start_time": "2023-02-14T23:36:04.792Z"
   },
   {
    "duration": 137,
    "start_time": "2023-02-14T23:36:04.828Z"
   },
   {
    "duration": 16,
    "start_time": "2023-02-14T23:36:04.967Z"
   },
   {
    "duration": 254,
    "start_time": "2023-02-14T23:36:04.985Z"
   },
   {
    "duration": 23,
    "start_time": "2023-02-14T23:36:05.241Z"
   },
   {
    "duration": 142,
    "start_time": "2023-02-14T23:36:05.265Z"
   },
   {
    "duration": 123,
    "start_time": "2023-02-14T23:36:05.415Z"
   },
   {
    "duration": 5,
    "start_time": "2023-02-14T23:36:05.540Z"
   },
   {
    "duration": 7,
    "start_time": "2023-02-14T23:36:05.546Z"
   },
   {
    "duration": 11,
    "start_time": "2023-02-14T23:36:05.556Z"
   },
   {
    "duration": 4,
    "start_time": "2023-02-14T23:36:05.568Z"
   },
   {
    "duration": 9,
    "start_time": "2023-02-14T23:36:05.574Z"
   },
   {
    "duration": 4,
    "start_time": "2023-02-14T23:36:05.584Z"
   },
   {
    "duration": 7,
    "start_time": "2023-02-14T23:36:05.590Z"
   },
   {
    "duration": 29,
    "start_time": "2023-02-14T23:36:05.598Z"
   },
   {
    "duration": 17,
    "start_time": "2023-02-14T23:36:05.628Z"
   },
   {
    "duration": 4,
    "start_time": "2023-02-14T23:36:05.646Z"
   },
   {
    "duration": 7,
    "start_time": "2023-02-14T23:36:05.652Z"
   },
   {
    "duration": 8,
    "start_time": "2023-02-14T23:36:05.660Z"
   },
   {
    "duration": 9,
    "start_time": "2023-02-14T23:36:05.670Z"
   },
   {
    "duration": 11,
    "start_time": "2023-02-14T23:36:05.680Z"
   },
   {
    "duration": 33,
    "start_time": "2023-02-14T23:36:05.693Z"
   },
   {
    "duration": 539,
    "start_time": "2023-02-14T23:36:05.732Z"
   },
   {
    "duration": 666,
    "start_time": "2023-02-14T23:36:06.273Z"
   },
   {
    "duration": 557,
    "start_time": "2023-02-14T23:36:06.943Z"
   },
   {
    "duration": 385,
    "start_time": "2023-02-14T23:36:07.501Z"
   },
   {
    "duration": 42,
    "start_time": "2023-02-14T23:36:07.888Z"
   },
   {
    "duration": 1446,
    "start_time": "2023-02-14T23:36:07.931Z"
   },
   {
    "duration": 1090,
    "start_time": "2023-02-14T23:37:13.165Z"
   },
   {
    "duration": 36,
    "start_time": "2023-02-14T23:38:06.761Z"
   },
   {
    "duration": 1181,
    "start_time": "2023-02-14T23:38:08.866Z"
   },
   {
    "duration": 401,
    "start_time": "2023-02-14T23:38:55.514Z"
   },
   {
    "duration": 288,
    "start_time": "2023-02-14T23:39:02.937Z"
   },
   {
    "duration": 1163,
    "start_time": "2023-02-14T23:39:10.333Z"
   },
   {
    "duration": 1161,
    "start_time": "2023-02-14T23:40:09.020Z"
   },
   {
    "duration": 1072,
    "start_time": "2023-02-14T23:40:24.181Z"
   },
   {
    "duration": 1235,
    "start_time": "2023-02-14T23:40:51.038Z"
   },
   {
    "duration": 1247,
    "start_time": "2023-02-14T23:41:35.376Z"
   },
   {
    "duration": 1256,
    "start_time": "2023-02-14T23:42:01.837Z"
   },
   {
    "duration": 36,
    "start_time": "2023-02-14T23:45:18.900Z"
   },
   {
    "duration": 1079,
    "start_time": "2023-02-14T23:45:20.137Z"
   },
   {
    "duration": 756,
    "start_time": "2023-02-14T23:53:19.530Z"
   },
   {
    "duration": 9,
    "start_time": "2023-02-14T23:53:41.795Z"
   },
   {
    "duration": 1228,
    "start_time": "2023-02-14T23:53:44.610Z"
   },
   {
    "duration": 11,
    "start_time": "2023-02-14T23:54:15.499Z"
   },
   {
    "duration": 11,
    "start_time": "2023-02-14T23:54:39.795Z"
   },
   {
    "duration": 10,
    "start_time": "2023-02-14T23:54:48.476Z"
   },
   {
    "duration": 11,
    "start_time": "2023-02-14T23:55:38.287Z"
   },
   {
    "duration": 1292,
    "start_time": "2023-02-14T23:56:09.943Z"
   },
   {
    "duration": 748,
    "start_time": "2023-02-14T23:56:11.237Z"
   },
   {
    "duration": 29,
    "start_time": "2023-02-14T23:56:11.986Z"
   },
   {
    "duration": 236,
    "start_time": "2023-02-14T23:56:12.016Z"
   },
   {
    "duration": 13,
    "start_time": "2023-02-14T23:56:12.254Z"
   },
   {
    "duration": 134,
    "start_time": "2023-02-14T23:56:12.268Z"
   },
   {
    "duration": 29,
    "start_time": "2023-02-14T23:56:12.403Z"
   },
   {
    "duration": 243,
    "start_time": "2023-02-14T23:56:12.436Z"
   },
   {
    "duration": 21,
    "start_time": "2023-02-14T23:56:12.680Z"
   },
   {
    "duration": 137,
    "start_time": "2023-02-14T23:56:12.712Z"
   },
   {
    "duration": 97,
    "start_time": "2023-02-14T23:56:12.850Z"
   },
   {
    "duration": 4,
    "start_time": "2023-02-14T23:56:12.949Z"
   },
   {
    "duration": 12,
    "start_time": "2023-02-14T23:56:12.955Z"
   },
   {
    "duration": 11,
    "start_time": "2023-02-14T23:56:12.969Z"
   },
   {
    "duration": 6,
    "start_time": "2023-02-14T23:56:12.982Z"
   },
   {
    "duration": 34,
    "start_time": "2023-02-14T23:56:12.989Z"
   },
   {
    "duration": 30,
    "start_time": "2023-02-14T23:56:13.025Z"
   },
   {
    "duration": 8,
    "start_time": "2023-02-14T23:56:13.057Z"
   },
   {
    "duration": 8,
    "start_time": "2023-02-14T23:56:13.067Z"
   },
   {
    "duration": 11,
    "start_time": "2023-02-14T23:56:13.077Z"
   },
   {
    "duration": 5,
    "start_time": "2023-02-14T23:56:13.089Z"
   },
   {
    "duration": 7,
    "start_time": "2023-02-14T23:56:13.095Z"
   },
   {
    "duration": 13,
    "start_time": "2023-02-14T23:56:13.104Z"
   },
   {
    "duration": 25,
    "start_time": "2023-02-14T23:56:13.118Z"
   },
   {
    "duration": 11,
    "start_time": "2023-02-14T23:56:13.145Z"
   },
   {
    "duration": 14,
    "start_time": "2023-02-14T23:56:13.158Z"
   },
   {
    "duration": 546,
    "start_time": "2023-02-14T23:56:13.173Z"
   },
   {
    "duration": 609,
    "start_time": "2023-02-14T23:56:13.720Z"
   },
   {
    "duration": 544,
    "start_time": "2023-02-14T23:56:14.331Z"
   },
   {
    "duration": 392,
    "start_time": "2023-02-14T23:56:14.877Z"
   },
   {
    "duration": 56,
    "start_time": "2023-02-14T23:56:15.271Z"
   },
   {
    "duration": 1161,
    "start_time": "2023-02-14T23:56:15.334Z"
   },
   {
    "duration": 30,
    "start_time": "2023-02-14T23:56:16.497Z"
   },
   {
    "duration": 1170,
    "start_time": "2023-02-14T23:56:16.528Z"
   },
   {
    "duration": 1022,
    "start_time": "2023-02-14T23:57:00.332Z"
   },
   {
    "duration": 1475,
    "start_time": "2023-02-19T13:07:44.285Z"
   },
   {
    "duration": 1913,
    "start_time": "2023-02-19T13:07:45.763Z"
   },
   {
    "duration": 20,
    "start_time": "2023-02-19T13:07:47.678Z"
   },
   {
    "duration": 230,
    "start_time": "2023-02-19T13:07:47.700Z"
   },
   {
    "duration": 13,
    "start_time": "2023-02-19T13:07:47.932Z"
   },
   {
    "duration": 134,
    "start_time": "2023-02-19T13:07:47.947Z"
   },
   {
    "duration": 17,
    "start_time": "2023-02-19T13:07:48.083Z"
   },
   {
    "duration": 271,
    "start_time": "2023-02-19T13:07:48.102Z"
   },
   {
    "duration": 21,
    "start_time": "2023-02-19T13:07:48.375Z"
   },
   {
    "duration": 131,
    "start_time": "2023-02-19T13:07:48.397Z"
   },
   {
    "duration": 100,
    "start_time": "2023-02-19T13:07:48.530Z"
   },
   {
    "duration": 4,
    "start_time": "2023-02-19T13:07:48.632Z"
   },
   {
    "duration": 7,
    "start_time": "2023-02-19T13:07:48.639Z"
   },
   {
    "duration": 9,
    "start_time": "2023-02-19T13:07:48.649Z"
   },
   {
    "duration": 10,
    "start_time": "2023-02-19T13:07:48.660Z"
   },
   {
    "duration": 16,
    "start_time": "2023-02-19T13:07:48.671Z"
   },
   {
    "duration": 5,
    "start_time": "2023-02-19T13:07:48.689Z"
   },
   {
    "duration": 35,
    "start_time": "2023-02-19T13:07:48.696Z"
   },
   {
    "duration": 6,
    "start_time": "2023-02-19T13:07:48.733Z"
   },
   {
    "duration": 13,
    "start_time": "2023-02-19T13:07:48.741Z"
   },
   {
    "duration": 14,
    "start_time": "2023-02-19T13:07:48.756Z"
   },
   {
    "duration": 13,
    "start_time": "2023-02-19T13:07:48.772Z"
   },
   {
    "duration": 44,
    "start_time": "2023-02-19T13:07:48.787Z"
   },
   {
    "duration": 9,
    "start_time": "2023-02-19T13:07:48.833Z"
   },
   {
    "duration": 590,
    "start_time": "2023-02-19T13:07:48.843Z"
   },
   {
    "duration": 642,
    "start_time": "2023-02-19T13:07:49.435Z"
   },
   {
    "duration": 668,
    "start_time": "2023-02-19T13:07:50.079Z"
   },
   {
    "duration": 446,
    "start_time": "2023-02-19T13:07:50.750Z"
   },
   {
    "duration": 52,
    "start_time": "2023-02-19T13:07:51.197Z"
   },
   {
    "duration": 1304,
    "start_time": "2023-02-19T13:07:51.251Z"
   },
   {
    "duration": 25,
    "start_time": "2023-02-19T13:07:52.557Z"
   },
   {
    "duration": 1259,
    "start_time": "2023-02-19T13:07:52.584Z"
   },
   {
    "duration": 7,
    "start_time": "2023-02-19T13:07:53.845Z"
   },
   {
    "duration": 11,
    "start_time": "2023-02-19T13:07:53.854Z"
   },
   {
    "duration": 14,
    "start_time": "2023-02-19T13:17:35.311Z"
   },
   {
    "duration": 1086,
    "start_time": "2023-02-19T13:17:43.872Z"
   },
   {
    "duration": 14,
    "start_time": "2023-02-19T13:18:27.960Z"
   },
   {
    "duration": 1376,
    "start_time": "2023-02-19T13:18:30.404Z"
   },
   {
    "duration": 111,
    "start_time": "2023-02-19T13:19:31.506Z"
   },
   {
    "duration": 1267,
    "start_time": "2023-02-19T13:21:04.472Z"
   },
   {
    "duration": 781,
    "start_time": "2023-02-19T13:21:05.741Z"
   },
   {
    "duration": 18,
    "start_time": "2023-02-19T13:21:06.523Z"
   },
   {
    "duration": 242,
    "start_time": "2023-02-19T13:21:06.543Z"
   },
   {
    "duration": 13,
    "start_time": "2023-02-19T13:21:06.787Z"
   },
   {
    "duration": 146,
    "start_time": "2023-02-19T13:21:06.801Z"
   },
   {
    "duration": 19,
    "start_time": "2023-02-19T13:21:06.949Z"
   },
   {
    "duration": 267,
    "start_time": "2023-02-19T13:21:06.970Z"
   },
   {
    "duration": 21,
    "start_time": "2023-02-19T13:21:07.239Z"
   },
   {
    "duration": 122,
    "start_time": "2023-02-19T13:21:07.262Z"
   },
   {
    "duration": 99,
    "start_time": "2023-02-19T13:21:07.386Z"
   },
   {
    "duration": 4,
    "start_time": "2023-02-19T13:21:07.487Z"
   },
   {
    "duration": 6,
    "start_time": "2023-02-19T13:21:07.492Z"
   },
   {
    "duration": 93,
    "start_time": "2023-02-19T13:21:07.499Z"
   },
   {
    "duration": 7,
    "start_time": "2023-02-19T13:21:07.594Z"
   },
   {
    "duration": 15,
    "start_time": "2023-02-19T13:21:07.603Z"
   },
   {
    "duration": 5,
    "start_time": "2023-02-19T13:21:07.619Z"
   },
   {
    "duration": 10,
    "start_time": "2023-02-19T13:21:07.626Z"
   },
   {
    "duration": 6,
    "start_time": "2023-02-19T13:21:07.637Z"
   },
   {
    "duration": 15,
    "start_time": "2023-02-19T13:21:07.644Z"
   },
   {
    "duration": 13,
    "start_time": "2023-02-19T13:21:07.661Z"
   },
   {
    "duration": 13,
    "start_time": "2023-02-19T13:21:07.676Z"
   },
   {
    "duration": 36,
    "start_time": "2023-02-19T13:21:07.691Z"
   },
   {
    "duration": 10,
    "start_time": "2023-02-19T13:21:07.729Z"
   },
   {
    "duration": 565,
    "start_time": "2023-02-19T13:21:07.741Z"
   },
   {
    "duration": 644,
    "start_time": "2023-02-19T13:21:08.308Z"
   },
   {
    "duration": 547,
    "start_time": "2023-02-19T13:21:08.954Z"
   },
   {
    "duration": 390,
    "start_time": "2023-02-19T13:21:09.504Z"
   },
   {
    "duration": 32,
    "start_time": "2023-02-19T13:21:09.896Z"
   },
   {
    "duration": 1193,
    "start_time": "2023-02-19T13:21:09.930Z"
   },
   {
    "duration": 0,
    "start_time": "2023-02-19T13:21:11.126Z"
   },
   {
    "duration": 0,
    "start_time": "2023-02-19T13:21:11.128Z"
   },
   {
    "duration": 0,
    "start_time": "2023-02-19T13:21:11.129Z"
   },
   {
    "duration": 0,
    "start_time": "2023-02-19T13:21:11.130Z"
   },
   {
    "duration": 1174,
    "start_time": "2023-02-19T13:22:33.898Z"
   },
   {
    "duration": 674,
    "start_time": "2023-02-19T13:23:23.169Z"
   },
   {
    "duration": 1354,
    "start_time": "2023-02-19T13:23:52.098Z"
   },
   {
    "duration": 663,
    "start_time": "2023-02-19T13:23:53.454Z"
   },
   {
    "duration": 19,
    "start_time": "2023-02-19T13:23:54.119Z"
   },
   {
    "duration": 242,
    "start_time": "2023-02-19T13:23:54.140Z"
   },
   {
    "duration": 15,
    "start_time": "2023-02-19T13:23:54.384Z"
   },
   {
    "duration": 150,
    "start_time": "2023-02-19T13:23:54.401Z"
   },
   {
    "duration": 18,
    "start_time": "2023-02-19T13:23:54.552Z"
   },
   {
    "duration": 296,
    "start_time": "2023-02-19T13:23:54.572Z"
   },
   {
    "duration": 22,
    "start_time": "2023-02-19T13:23:54.870Z"
   },
   {
    "duration": 136,
    "start_time": "2023-02-19T13:23:54.894Z"
   },
   {
    "duration": 115,
    "start_time": "2023-02-19T13:23:55.031Z"
   },
   {
    "duration": 5,
    "start_time": "2023-02-19T13:23:55.149Z"
   },
   {
    "duration": 18,
    "start_time": "2023-02-19T13:23:55.155Z"
   },
   {
    "duration": 5,
    "start_time": "2023-02-19T13:23:55.176Z"
   },
   {
    "duration": 8,
    "start_time": "2023-02-19T13:23:55.183Z"
   },
   {
    "duration": 13,
    "start_time": "2023-02-19T13:23:55.193Z"
   },
   {
    "duration": 22,
    "start_time": "2023-02-19T13:23:55.208Z"
   },
   {
    "duration": 7,
    "start_time": "2023-02-19T13:23:55.232Z"
   },
   {
    "duration": 5,
    "start_time": "2023-02-19T13:23:55.241Z"
   },
   {
    "duration": 9,
    "start_time": "2023-02-19T13:23:55.248Z"
   },
   {
    "duration": 9,
    "start_time": "2023-02-19T13:23:55.259Z"
   },
   {
    "duration": 10,
    "start_time": "2023-02-19T13:23:55.270Z"
   },
   {
    "duration": 51,
    "start_time": "2023-02-19T13:23:55.281Z"
   },
   {
    "duration": 9,
    "start_time": "2023-02-19T13:23:55.333Z"
   },
   {
    "duration": 570,
    "start_time": "2023-02-19T13:23:55.343Z"
   },
   {
    "duration": 694,
    "start_time": "2023-02-19T13:23:55.914Z"
   },
   {
    "duration": 581,
    "start_time": "2023-02-19T13:23:56.610Z"
   },
   {
    "duration": 387,
    "start_time": "2023-02-19T13:23:57.194Z"
   },
   {
    "duration": 27,
    "start_time": "2023-02-19T13:23:57.583Z"
   },
   {
    "duration": 1164,
    "start_time": "2023-02-19T13:23:57.612Z"
   },
   {
    "duration": 821,
    "start_time": "2023-02-19T13:23:58.777Z"
   },
   {
    "duration": 0,
    "start_time": "2023-02-19T13:23:59.600Z"
   },
   {
    "duration": 0,
    "start_time": "2023-02-19T13:23:59.601Z"
   },
   {
    "duration": 0,
    "start_time": "2023-02-19T13:23:59.602Z"
   },
   {
    "duration": 12,
    "start_time": "2023-02-19T13:24:27.721Z"
   },
   {
    "duration": 1194,
    "start_time": "2023-02-19T13:24:33.568Z"
   },
   {
    "duration": 1301,
    "start_time": "2023-02-19T13:24:47.026Z"
   },
   {
    "duration": 693,
    "start_time": "2023-02-19T13:24:48.329Z"
   },
   {
    "duration": 18,
    "start_time": "2023-02-19T13:24:49.023Z"
   },
   {
    "duration": 238,
    "start_time": "2023-02-19T13:24:49.043Z"
   },
   {
    "duration": 13,
    "start_time": "2023-02-19T13:24:49.282Z"
   },
   {
    "duration": 143,
    "start_time": "2023-02-19T13:24:49.296Z"
   },
   {
    "duration": 17,
    "start_time": "2023-02-19T13:24:49.441Z"
   },
   {
    "duration": 254,
    "start_time": "2023-02-19T13:24:49.460Z"
   },
   {
    "duration": 25,
    "start_time": "2023-02-19T13:24:49.715Z"
   },
   {
    "duration": 127,
    "start_time": "2023-02-19T13:24:49.742Z"
   },
   {
    "duration": 93,
    "start_time": "2023-02-19T13:24:49.870Z"
   },
   {
    "duration": 3,
    "start_time": "2023-02-19T13:24:49.965Z"
   },
   {
    "duration": 19,
    "start_time": "2023-02-19T13:24:49.970Z"
   },
   {
    "duration": 6,
    "start_time": "2023-02-19T13:24:49.990Z"
   },
   {
    "duration": 5,
    "start_time": "2023-02-19T13:24:49.997Z"
   },
   {
    "duration": 10,
    "start_time": "2023-02-19T13:24:50.004Z"
   },
   {
    "duration": 16,
    "start_time": "2023-02-19T13:24:50.015Z"
   },
   {
    "duration": 7,
    "start_time": "2023-02-19T13:24:50.033Z"
   },
   {
    "duration": 16,
    "start_time": "2023-02-19T13:24:50.041Z"
   },
   {
    "duration": 8,
    "start_time": "2023-02-19T13:24:50.059Z"
   },
   {
    "duration": 9,
    "start_time": "2023-02-19T13:24:50.069Z"
   },
   {
    "duration": 10,
    "start_time": "2023-02-19T13:24:50.080Z"
   },
   {
    "duration": 47,
    "start_time": "2023-02-19T13:24:50.092Z"
   },
   {
    "duration": 10,
    "start_time": "2023-02-19T13:24:50.140Z"
   },
   {
    "duration": 643,
    "start_time": "2023-02-19T13:24:50.152Z"
   },
   {
    "duration": 625,
    "start_time": "2023-02-19T13:24:50.797Z"
   },
   {
    "duration": 545,
    "start_time": "2023-02-19T13:24:51.424Z"
   },
   {
    "duration": 417,
    "start_time": "2023-02-19T13:24:51.974Z"
   },
   {
    "duration": 34,
    "start_time": "2023-02-19T13:24:52.393Z"
   },
   {
    "duration": 1184,
    "start_time": "2023-02-19T13:24:52.429Z"
   },
   {
    "duration": 17,
    "start_time": "2023-02-19T13:24:53.615Z"
   },
   {
    "duration": 1203,
    "start_time": "2023-02-19T13:24:53.634Z"
   },
   {
    "duration": 6,
    "start_time": "2023-02-19T13:24:54.839Z"
   },
   {
    "duration": 10,
    "start_time": "2023-02-19T13:24:54.846Z"
   },
   {
    "duration": 1256,
    "start_time": "2023-02-19T13:25:36.880Z"
   },
   {
    "duration": 697,
    "start_time": "2023-02-19T13:25:38.138Z"
   },
   {
    "duration": 18,
    "start_time": "2023-02-19T13:25:38.837Z"
   },
   {
    "duration": 247,
    "start_time": "2023-02-19T13:25:38.857Z"
   },
   {
    "duration": 23,
    "start_time": "2023-02-19T13:25:39.106Z"
   },
   {
    "duration": 131,
    "start_time": "2023-02-19T13:25:39.131Z"
   },
   {
    "duration": 15,
    "start_time": "2023-02-19T13:25:39.264Z"
   },
   {
    "duration": 253,
    "start_time": "2023-02-19T13:25:39.281Z"
   },
   {
    "duration": 19,
    "start_time": "2023-02-19T13:25:39.536Z"
   },
   {
    "duration": 124,
    "start_time": "2023-02-19T13:25:39.557Z"
   },
   {
    "duration": 93,
    "start_time": "2023-02-19T13:25:39.682Z"
   },
   {
    "duration": 3,
    "start_time": "2023-02-19T13:25:39.776Z"
   },
   {
    "duration": 7,
    "start_time": "2023-02-19T13:25:39.781Z"
   },
   {
    "duration": 5,
    "start_time": "2023-02-19T13:25:39.789Z"
   },
   {
    "duration": 5,
    "start_time": "2023-02-19T13:25:39.795Z"
   },
   {
    "duration": 26,
    "start_time": "2023-02-19T13:25:39.801Z"
   },
   {
    "duration": 4,
    "start_time": "2023-02-19T13:25:39.829Z"
   },
   {
    "duration": 7,
    "start_time": "2023-02-19T13:25:39.834Z"
   },
   {
    "duration": 5,
    "start_time": "2023-02-19T13:25:39.842Z"
   },
   {
    "duration": 8,
    "start_time": "2023-02-19T13:25:39.849Z"
   },
   {
    "duration": 8,
    "start_time": "2023-02-19T13:25:39.859Z"
   },
   {
    "duration": 10,
    "start_time": "2023-02-19T13:25:39.869Z"
   },
   {
    "duration": 52,
    "start_time": "2023-02-19T13:25:39.881Z"
   },
   {
    "duration": 9,
    "start_time": "2023-02-19T13:25:39.934Z"
   },
   {
    "duration": 617,
    "start_time": "2023-02-19T13:25:39.944Z"
   },
   {
    "duration": 649,
    "start_time": "2023-02-19T13:25:40.563Z"
   },
   {
    "duration": 556,
    "start_time": "2023-02-19T13:25:41.214Z"
   },
   {
    "duration": 413,
    "start_time": "2023-02-19T13:25:41.773Z"
   },
   {
    "duration": 27,
    "start_time": "2023-02-19T13:25:42.188Z"
   },
   {
    "duration": 1149,
    "start_time": "2023-02-19T13:25:42.216Z"
   },
   {
    "duration": 14,
    "start_time": "2023-02-19T13:25:43.367Z"
   },
   {
    "duration": 1128,
    "start_time": "2023-02-19T13:25:43.383Z"
   },
   {
    "duration": 14,
    "start_time": "2023-02-19T13:25:44.513Z"
   },
   {
    "duration": 7,
    "start_time": "2023-02-19T13:25:44.529Z"
   },
   {
    "duration": 3,
    "start_time": "2023-02-19T13:32:47.376Z"
   },
   {
    "duration": 3,
    "start_time": "2023-02-19T13:33:19.765Z"
   },
   {
    "duration": 2354,
    "start_time": "2023-02-19T13:53:06.391Z"
   },
   {
    "duration": 695,
    "start_time": "2023-02-19T13:53:08.747Z"
   },
   {
    "duration": 20,
    "start_time": "2023-02-19T13:53:09.444Z"
   },
   {
    "duration": 272,
    "start_time": "2023-02-19T13:53:09.465Z"
   },
   {
    "duration": 12,
    "start_time": "2023-02-19T13:53:09.740Z"
   },
   {
    "duration": 160,
    "start_time": "2023-02-19T13:53:09.753Z"
   },
   {
    "duration": 22,
    "start_time": "2023-02-19T13:53:09.915Z"
   },
   {
    "duration": 260,
    "start_time": "2023-02-19T13:53:09.938Z"
   },
   {
    "duration": 30,
    "start_time": "2023-02-19T13:53:10.199Z"
   },
   {
    "duration": 131,
    "start_time": "2023-02-19T13:53:10.230Z"
   },
   {
    "duration": 131,
    "start_time": "2023-02-19T13:53:10.364Z"
   },
   {
    "duration": 5,
    "start_time": "2023-02-19T13:53:10.497Z"
   },
   {
    "duration": 11,
    "start_time": "2023-02-19T13:53:10.505Z"
   },
   {
    "duration": 4,
    "start_time": "2023-02-19T13:53:10.531Z"
   },
   {
    "duration": 13,
    "start_time": "2023-02-19T13:53:10.537Z"
   },
   {
    "duration": 19,
    "start_time": "2023-02-19T13:53:10.552Z"
   },
   {
    "duration": 7,
    "start_time": "2023-02-19T13:53:10.574Z"
   },
   {
    "duration": 23,
    "start_time": "2023-02-19T13:53:10.583Z"
   },
   {
    "duration": 9,
    "start_time": "2023-02-19T13:53:10.608Z"
   },
   {
    "duration": 11,
    "start_time": "2023-02-19T13:53:10.618Z"
   },
   {
    "duration": 10,
    "start_time": "2023-02-19T13:53:10.632Z"
   },
   {
    "duration": 11,
    "start_time": "2023-02-19T13:53:10.644Z"
   },
   {
    "duration": 25,
    "start_time": "2023-02-19T13:53:10.657Z"
   },
   {
    "duration": 9,
    "start_time": "2023-02-19T13:53:10.684Z"
   },
   {
    "duration": 683,
    "start_time": "2023-02-19T13:53:10.695Z"
   },
   {
    "duration": 592,
    "start_time": "2023-02-19T13:53:11.380Z"
   },
   {
    "duration": 578,
    "start_time": "2023-02-19T13:53:11.974Z"
   },
   {
    "duration": 327,
    "start_time": "2023-02-19T13:53:12.553Z"
   },
   {
    "duration": 26,
    "start_time": "2023-02-19T13:53:12.882Z"
   },
   {
    "duration": 1309,
    "start_time": "2023-02-19T13:53:12.910Z"
   },
   {
    "duration": 16,
    "start_time": "2023-02-19T13:53:14.221Z"
   },
   {
    "duration": 1199,
    "start_time": "2023-02-19T13:53:14.239Z"
   },
   {
    "duration": 7,
    "start_time": "2023-02-19T13:53:15.440Z"
   },
   {
    "duration": 10,
    "start_time": "2023-02-19T13:53:15.449Z"
   },
   {
    "duration": 16,
    "start_time": "2023-02-19T13:53:15.461Z"
   },
   {
    "duration": 13,
    "start_time": "2023-02-19T13:53:15.479Z"
   },
   {
    "duration": 11,
    "start_time": "2023-02-19T13:53:15.494Z"
   },
   {
    "duration": 120,
    "start_time": "2023-02-19T13:53:15.507Z"
   },
   {
    "duration": 12,
    "start_time": "2023-02-19T13:54:10.277Z"
   },
   {
    "duration": 5,
    "start_time": "2023-02-19T13:56:15.146Z"
   },
   {
    "duration": 12,
    "start_time": "2023-02-19T13:56:17.770Z"
   },
   {
    "duration": 10,
    "start_time": "2023-02-19T13:57:28.849Z"
   },
   {
    "duration": 5,
    "start_time": "2023-02-19T14:00:02.562Z"
   },
   {
    "duration": 4,
    "start_time": "2023-02-19T14:00:17.225Z"
   },
   {
    "duration": 17,
    "start_time": "2023-02-19T14:00:18.768Z"
   },
   {
    "duration": 1455,
    "start_time": "2023-02-19T14:01:10.454Z"
   },
   {
    "duration": 824,
    "start_time": "2023-02-19T14:01:11.911Z"
   },
   {
    "duration": 19,
    "start_time": "2023-02-19T14:01:12.743Z"
   },
   {
    "duration": 256,
    "start_time": "2023-02-19T14:01:12.764Z"
   },
   {
    "duration": 25,
    "start_time": "2023-02-19T14:01:13.021Z"
   },
   {
    "duration": 156,
    "start_time": "2023-02-19T14:01:13.048Z"
   },
   {
    "duration": 28,
    "start_time": "2023-02-19T14:01:13.205Z"
   },
   {
    "duration": 264,
    "start_time": "2023-02-19T14:01:13.237Z"
   },
   {
    "duration": 40,
    "start_time": "2023-02-19T14:01:13.504Z"
   },
   {
    "duration": 136,
    "start_time": "2023-02-19T14:01:13.548Z"
   },
   {
    "duration": 112,
    "start_time": "2023-02-19T14:01:13.686Z"
   },
   {
    "duration": 4,
    "start_time": "2023-02-19T14:01:13.799Z"
   },
   {
    "duration": 12,
    "start_time": "2023-02-19T14:01:13.805Z"
   },
   {
    "duration": 41,
    "start_time": "2023-02-19T14:01:13.818Z"
   },
   {
    "duration": 18,
    "start_time": "2023-02-19T14:01:13.861Z"
   },
   {
    "duration": 26,
    "start_time": "2023-02-19T14:01:13.881Z"
   },
   {
    "duration": 45,
    "start_time": "2023-02-19T14:01:13.909Z"
   },
   {
    "duration": 19,
    "start_time": "2023-02-19T14:01:13.956Z"
   },
   {
    "duration": 29,
    "start_time": "2023-02-19T14:01:13.977Z"
   },
   {
    "duration": 30,
    "start_time": "2023-02-19T14:01:14.008Z"
   },
   {
    "duration": 25,
    "start_time": "2023-02-19T14:01:14.039Z"
   },
   {
    "duration": 28,
    "start_time": "2023-02-19T14:01:14.067Z"
   },
   {
    "duration": 39,
    "start_time": "2023-02-19T14:01:14.097Z"
   },
   {
    "duration": 18,
    "start_time": "2023-02-19T14:01:14.143Z"
   },
   {
    "duration": 692,
    "start_time": "2023-02-19T14:01:14.162Z"
   },
   {
    "duration": 694,
    "start_time": "2023-02-19T14:01:14.856Z"
   },
   {
    "duration": 645,
    "start_time": "2023-02-19T14:01:15.552Z"
   },
   {
    "duration": 503,
    "start_time": "2023-02-19T14:01:16.203Z"
   },
   {
    "duration": 33,
    "start_time": "2023-02-19T14:01:16.708Z"
   },
   {
    "duration": 1307,
    "start_time": "2023-02-19T14:01:16.743Z"
   },
   {
    "duration": 16,
    "start_time": "2023-02-19T14:01:18.052Z"
   },
   {
    "duration": 1277,
    "start_time": "2023-02-19T14:01:18.070Z"
   },
   {
    "duration": 8,
    "start_time": "2023-02-19T14:01:19.350Z"
   },
   {
    "duration": 12,
    "start_time": "2023-02-19T14:01:19.360Z"
   },
   {
    "duration": 15,
    "start_time": "2023-02-19T14:01:19.374Z"
   },
   {
    "duration": 11,
    "start_time": "2023-02-19T14:01:19.391Z"
   },
   {
    "duration": 10,
    "start_time": "2023-02-19T14:01:19.404Z"
   },
   {
    "duration": 38,
    "start_time": "2023-02-19T14:01:19.416Z"
   },
   {
    "duration": 9,
    "start_time": "2023-02-19T14:01:19.456Z"
   },
   {
    "duration": 10,
    "start_time": "2023-02-19T14:01:19.467Z"
   },
   {
    "duration": 904,
    "start_time": "2023-02-19T14:01:19.479Z"
   },
   {
    "duration": 0,
    "start_time": "2023-02-19T14:01:20.385Z"
   },
   {
    "duration": 3,
    "start_time": "2023-02-19T14:09:01.236Z"
   },
   {
    "duration": 3,
    "start_time": "2023-02-19T14:09:02.280Z"
   },
   {
    "duration": 723,
    "start_time": "2023-02-19T14:09:05.544Z"
   },
   {
    "duration": 10,
    "start_time": "2023-02-19T14:15:46.239Z"
   },
   {
    "duration": 10,
    "start_time": "2023-02-19T14:16:43.697Z"
   },
   {
    "duration": 10,
    "start_time": "2023-02-19T14:17:57.132Z"
   },
   {
    "duration": 10,
    "start_time": "2023-02-19T14:18:32.563Z"
   },
   {
    "duration": 1349,
    "start_time": "2023-02-19T14:20:12.256Z"
   },
   {
    "duration": 628,
    "start_time": "2023-02-19T14:20:13.607Z"
   },
   {
    "duration": 18,
    "start_time": "2023-02-19T14:20:14.237Z"
   },
   {
    "duration": 246,
    "start_time": "2023-02-19T14:20:14.256Z"
   },
   {
    "duration": 12,
    "start_time": "2023-02-19T14:20:14.504Z"
   },
   {
    "duration": 133,
    "start_time": "2023-02-19T14:20:14.526Z"
   },
   {
    "duration": 17,
    "start_time": "2023-02-19T14:20:14.661Z"
   },
   {
    "duration": 275,
    "start_time": "2023-02-19T14:20:14.680Z"
   },
   {
    "duration": 20,
    "start_time": "2023-02-19T14:20:14.956Z"
   },
   {
    "duration": 136,
    "start_time": "2023-02-19T14:20:14.978Z"
   },
   {
    "duration": 92,
    "start_time": "2023-02-19T14:20:15.116Z"
   },
   {
    "duration": 5,
    "start_time": "2023-02-19T14:20:15.210Z"
   },
   {
    "duration": 4,
    "start_time": "2023-02-19T14:20:15.226Z"
   },
   {
    "duration": 6,
    "start_time": "2023-02-19T14:20:15.231Z"
   },
   {
    "duration": 7,
    "start_time": "2023-02-19T14:20:15.238Z"
   },
   {
    "duration": 10,
    "start_time": "2023-02-19T14:20:15.246Z"
   },
   {
    "duration": 5,
    "start_time": "2023-02-19T14:20:15.257Z"
   },
   {
    "duration": 6,
    "start_time": "2023-02-19T14:20:15.263Z"
   },
   {
    "duration": 8,
    "start_time": "2023-02-19T14:20:15.270Z"
   },
   {
    "duration": 9,
    "start_time": "2023-02-19T14:20:15.280Z"
   },
   {
    "duration": 41,
    "start_time": "2023-02-19T14:20:15.290Z"
   },
   {
    "duration": 9,
    "start_time": "2023-02-19T14:20:15.333Z"
   },
   {
    "duration": 27,
    "start_time": "2023-02-19T14:20:15.343Z"
   },
   {
    "duration": 8,
    "start_time": "2023-02-19T14:20:15.372Z"
   },
   {
    "duration": 666,
    "start_time": "2023-02-19T14:20:15.381Z"
   },
   {
    "duration": 603,
    "start_time": "2023-02-19T14:20:16.050Z"
   },
   {
    "duration": 587,
    "start_time": "2023-02-19T14:20:16.654Z"
   },
   {
    "duration": 355,
    "start_time": "2023-02-19T14:20:17.244Z"
   },
   {
    "duration": 34,
    "start_time": "2023-02-19T14:20:17.601Z"
   },
   {
    "duration": 1171,
    "start_time": "2023-02-19T14:20:17.637Z"
   },
   {
    "duration": 23,
    "start_time": "2023-02-19T14:20:18.809Z"
   },
   {
    "duration": 1180,
    "start_time": "2023-02-19T14:20:18.834Z"
   },
   {
    "duration": 12,
    "start_time": "2023-02-19T14:20:20.016Z"
   },
   {
    "duration": 7,
    "start_time": "2023-02-19T14:20:20.030Z"
   },
   {
    "duration": 15,
    "start_time": "2023-02-19T14:20:20.038Z"
   },
   {
    "duration": 4,
    "start_time": "2023-02-19T14:20:20.055Z"
   },
   {
    "duration": 6,
    "start_time": "2023-02-19T14:20:20.061Z"
   },
   {
    "duration": 6,
    "start_time": "2023-02-19T14:20:20.068Z"
   },
   {
    "duration": 140,
    "start_time": "2023-02-19T14:20:20.076Z"
   },
   {
    "duration": 0,
    "start_time": "2023-02-19T14:20:20.218Z"
   },
   {
    "duration": 0,
    "start_time": "2023-02-19T14:20:20.219Z"
   },
   {
    "duration": 0,
    "start_time": "2023-02-19T14:20:20.220Z"
   },
   {
    "duration": 0,
    "start_time": "2023-02-19T14:20:20.221Z"
   },
   {
    "duration": 10,
    "start_time": "2023-02-19T14:20:46.844Z"
   },
   {
    "duration": 11,
    "start_time": "2023-02-19T14:20:55.292Z"
   },
   {
    "duration": 14,
    "start_time": "2023-02-19T14:21:02.342Z"
   },
   {
    "duration": 4,
    "start_time": "2023-02-19T14:21:24.066Z"
   },
   {
    "duration": 4,
    "start_time": "2023-02-19T14:21:24.798Z"
   },
   {
    "duration": 32,
    "start_time": "2023-02-19T14:21:25.295Z"
   },
   {
    "duration": 15,
    "start_time": "2023-02-19T14:21:28.696Z"
   },
   {
    "duration": 1434,
    "start_time": "2023-02-19T14:22:35.181Z"
   },
   {
    "duration": 718,
    "start_time": "2023-02-19T14:22:36.617Z"
   },
   {
    "duration": 18,
    "start_time": "2023-02-19T14:22:37.337Z"
   },
   {
    "duration": 573,
    "start_time": "2023-02-19T14:22:37.357Z"
   },
   {
    "duration": 20,
    "start_time": "2023-02-19T14:22:37.933Z"
   },
   {
    "duration": 309,
    "start_time": "2023-02-19T14:22:37.955Z"
   },
   {
    "duration": 72,
    "start_time": "2023-02-19T14:22:38.265Z"
   },
   {
    "duration": 522,
    "start_time": "2023-02-19T14:22:38.338Z"
   },
   {
    "duration": 74,
    "start_time": "2023-02-19T14:22:38.862Z"
   },
   {
    "duration": 189,
    "start_time": "2023-02-19T14:22:38.939Z"
   },
   {
    "duration": 84,
    "start_time": "2023-02-19T14:22:39.129Z"
   },
   {
    "duration": 13,
    "start_time": "2023-02-19T14:22:39.215Z"
   },
   {
    "duration": 11,
    "start_time": "2023-02-19T14:22:39.230Z"
   },
   {
    "duration": 17,
    "start_time": "2023-02-19T14:22:39.243Z"
   },
   {
    "duration": 17,
    "start_time": "2023-02-19T14:22:39.262Z"
   },
   {
    "duration": 29,
    "start_time": "2023-02-19T14:22:39.281Z"
   },
   {
    "duration": 19,
    "start_time": "2023-02-19T14:22:39.311Z"
   },
   {
    "duration": 15,
    "start_time": "2023-02-19T14:22:39.332Z"
   },
   {
    "duration": 11,
    "start_time": "2023-02-19T14:22:39.350Z"
   },
   {
    "duration": 13,
    "start_time": "2023-02-19T14:22:39.362Z"
   },
   {
    "duration": 25,
    "start_time": "2023-02-19T14:22:39.377Z"
   },
   {
    "duration": 15,
    "start_time": "2023-02-19T14:22:39.404Z"
   },
   {
    "duration": 43,
    "start_time": "2023-02-19T14:22:39.421Z"
   },
   {
    "duration": 9,
    "start_time": "2023-02-19T14:22:39.465Z"
   },
   {
    "duration": 629,
    "start_time": "2023-02-19T14:22:39.476Z"
   },
   {
    "duration": 647,
    "start_time": "2023-02-19T14:22:40.107Z"
   },
   {
    "duration": 553,
    "start_time": "2023-02-19T14:22:40.756Z"
   },
   {
    "duration": 367,
    "start_time": "2023-02-19T14:22:41.314Z"
   },
   {
    "duration": 93,
    "start_time": "2023-02-19T14:22:41.684Z"
   },
   {
    "duration": 1189,
    "start_time": "2023-02-19T14:22:41.787Z"
   },
   {
    "duration": 13,
    "start_time": "2023-02-19T14:22:42.977Z"
   },
   {
    "duration": 1121,
    "start_time": "2023-02-19T14:22:42.992Z"
   },
   {
    "duration": 7,
    "start_time": "2023-02-19T14:22:44.115Z"
   },
   {
    "duration": 4,
    "start_time": "2023-02-19T14:22:44.127Z"
   },
   {
    "duration": 11,
    "start_time": "2023-02-19T14:22:44.132Z"
   },
   {
    "duration": 5,
    "start_time": "2023-02-19T14:22:44.145Z"
   },
   {
    "duration": 5,
    "start_time": "2023-02-19T14:22:44.152Z"
   },
   {
    "duration": 10,
    "start_time": "2023-02-19T14:22:44.158Z"
   },
   {
    "duration": 14,
    "start_time": "2023-02-19T14:22:44.169Z"
   },
   {
    "duration": 14,
    "start_time": "2023-02-19T14:22:44.185Z"
   },
   {
    "duration": 37,
    "start_time": "2023-02-19T14:22:44.201Z"
   },
   {
    "duration": 118,
    "start_time": "2023-02-19T14:22:44.240Z"
   },
   {
    "duration": 3,
    "start_time": "2023-02-19T14:24:43.186Z"
   },
   {
    "duration": 4,
    "start_time": "2023-02-19T14:24:43.672Z"
   },
   {
    "duration": 3,
    "start_time": "2023-02-19T14:24:44.336Z"
   },
   {
    "duration": 30,
    "start_time": "2023-02-19T14:24:44.965Z"
   },
   {
    "duration": 20,
    "start_time": "2023-02-19T14:24:46.395Z"
   },
   {
    "duration": 1783,
    "start_time": "2023-02-19T14:25:53.663Z"
   },
   {
    "duration": 1160,
    "start_time": "2023-02-19T14:25:55.448Z"
   },
   {
    "duration": 19,
    "start_time": "2023-02-19T14:25:56.610Z"
   },
   {
    "duration": 263,
    "start_time": "2023-02-19T14:25:56.631Z"
   },
   {
    "duration": 14,
    "start_time": "2023-02-19T14:25:56.895Z"
   },
   {
    "duration": 147,
    "start_time": "2023-02-19T14:25:56.911Z"
   },
   {
    "duration": 17,
    "start_time": "2023-02-19T14:25:57.059Z"
   },
   {
    "duration": 270,
    "start_time": "2023-02-19T14:25:57.078Z"
   },
   {
    "duration": 20,
    "start_time": "2023-02-19T14:25:57.350Z"
   },
   {
    "duration": 121,
    "start_time": "2023-02-19T14:25:57.373Z"
   },
   {
    "duration": 97,
    "start_time": "2023-02-19T14:25:57.495Z"
   },
   {
    "duration": 3,
    "start_time": "2023-02-19T14:25:57.593Z"
   },
   {
    "duration": 6,
    "start_time": "2023-02-19T14:25:57.598Z"
   },
   {
    "duration": 7,
    "start_time": "2023-02-19T14:25:57.605Z"
   },
   {
    "duration": 14,
    "start_time": "2023-02-19T14:25:57.613Z"
   },
   {
    "duration": 9,
    "start_time": "2023-02-19T14:25:57.629Z"
   },
   {
    "duration": 4,
    "start_time": "2023-02-19T14:25:57.640Z"
   },
   {
    "duration": 7,
    "start_time": "2023-02-19T14:25:57.646Z"
   },
   {
    "duration": 25,
    "start_time": "2023-02-19T14:25:57.654Z"
   },
   {
    "duration": 9,
    "start_time": "2023-02-19T14:25:57.680Z"
   },
   {
    "duration": 10,
    "start_time": "2023-02-19T14:25:57.691Z"
   },
   {
    "duration": 25,
    "start_time": "2023-02-19T14:25:57.702Z"
   },
   {
    "duration": 19,
    "start_time": "2023-02-19T14:25:57.729Z"
   },
   {
    "duration": 9,
    "start_time": "2023-02-19T14:25:57.749Z"
   },
   {
    "duration": 644,
    "start_time": "2023-02-19T14:25:57.759Z"
   },
   {
    "duration": 556,
    "start_time": "2023-02-19T14:25:58.405Z"
   },
   {
    "duration": 556,
    "start_time": "2023-02-19T14:25:58.962Z"
   },
   {
    "duration": 354,
    "start_time": "2023-02-19T14:25:59.526Z"
   },
   {
    "duration": 25,
    "start_time": "2023-02-19T14:25:59.882Z"
   },
   {
    "duration": 1310,
    "start_time": "2023-02-19T14:25:59.909Z"
   },
   {
    "duration": 18,
    "start_time": "2023-02-19T14:26:01.220Z"
   },
   {
    "duration": 1157,
    "start_time": "2023-02-19T14:26:01.240Z"
   },
   {
    "duration": 7,
    "start_time": "2023-02-19T14:26:02.399Z"
   },
   {
    "duration": 13,
    "start_time": "2023-02-19T14:26:02.407Z"
   },
   {
    "duration": 20,
    "start_time": "2023-02-19T14:26:02.421Z"
   },
   {
    "duration": 5,
    "start_time": "2023-02-19T14:26:02.443Z"
   },
   {
    "duration": 6,
    "start_time": "2023-02-19T14:26:02.450Z"
   },
   {
    "duration": 8,
    "start_time": "2023-02-19T14:26:02.458Z"
   },
   {
    "duration": 8,
    "start_time": "2023-02-19T14:26:02.468Z"
   },
   {
    "duration": 5,
    "start_time": "2023-02-19T14:26:02.478Z"
   },
   {
    "duration": 36,
    "start_time": "2023-02-19T14:26:02.485Z"
   },
   {
    "duration": 883,
    "start_time": "2023-02-19T14:26:02.522Z"
   },
   {
    "duration": 1410,
    "start_time": "2023-02-19T14:28:28.615Z"
   },
   {
    "duration": 695,
    "start_time": "2023-02-19T14:28:30.027Z"
   },
   {
    "duration": 18,
    "start_time": "2023-02-19T14:28:30.724Z"
   },
   {
    "duration": 254,
    "start_time": "2023-02-19T14:28:30.745Z"
   },
   {
    "duration": 15,
    "start_time": "2023-02-19T14:28:31.001Z"
   },
   {
    "duration": 144,
    "start_time": "2023-02-19T14:28:31.018Z"
   },
   {
    "duration": 17,
    "start_time": "2023-02-19T14:28:31.163Z"
   },
   {
    "duration": 262,
    "start_time": "2023-02-19T14:28:31.181Z"
   },
   {
    "duration": 25,
    "start_time": "2023-02-19T14:28:31.445Z"
   },
   {
    "duration": 127,
    "start_time": "2023-02-19T14:28:31.472Z"
   },
   {
    "duration": 94,
    "start_time": "2023-02-19T14:28:31.600Z"
   },
   {
    "duration": 4,
    "start_time": "2023-02-19T14:28:31.696Z"
   },
   {
    "duration": 9,
    "start_time": "2023-02-19T14:28:31.701Z"
   },
   {
    "duration": 15,
    "start_time": "2023-02-19T14:28:31.712Z"
   },
   {
    "duration": 2,
    "start_time": "2023-02-19T14:28:31.729Z"
   },
   {
    "duration": 11,
    "start_time": "2023-02-19T14:28:31.732Z"
   },
   {
    "duration": 6,
    "start_time": "2023-02-19T14:28:31.744Z"
   },
   {
    "duration": 5,
    "start_time": "2023-02-19T14:28:31.751Z"
   },
   {
    "duration": 8,
    "start_time": "2023-02-19T14:28:31.758Z"
   },
   {
    "duration": 25,
    "start_time": "2023-02-19T14:28:31.767Z"
   },
   {
    "duration": 8,
    "start_time": "2023-02-19T14:28:31.794Z"
   },
   {
    "duration": 8,
    "start_time": "2023-02-19T14:28:31.804Z"
   },
   {
    "duration": 18,
    "start_time": "2023-02-19T14:28:31.827Z"
   },
   {
    "duration": 9,
    "start_time": "2023-02-19T14:28:31.847Z"
   },
   {
    "duration": 657,
    "start_time": "2023-02-19T14:28:31.857Z"
   },
   {
    "duration": 575,
    "start_time": "2023-02-19T14:28:32.516Z"
   },
   {
    "duration": 545,
    "start_time": "2023-02-19T14:28:33.092Z"
   },
   {
    "duration": 343,
    "start_time": "2023-02-19T14:28:33.639Z"
   },
   {
    "duration": 24,
    "start_time": "2023-02-19T14:28:33.984Z"
   },
   {
    "duration": 1220,
    "start_time": "2023-02-19T14:28:34.009Z"
   },
   {
    "duration": 13,
    "start_time": "2023-02-19T14:28:35.230Z"
   },
   {
    "duration": 1101,
    "start_time": "2023-02-19T14:28:35.245Z"
   },
   {
    "duration": 7,
    "start_time": "2023-02-19T14:28:36.348Z"
   },
   {
    "duration": 17,
    "start_time": "2023-02-19T14:28:36.356Z"
   },
   {
    "duration": 43,
    "start_time": "2023-02-19T14:28:36.375Z"
   },
   {
    "duration": 20,
    "start_time": "2023-02-19T14:28:36.420Z"
   },
   {
    "duration": 14,
    "start_time": "2023-02-19T14:28:36.441Z"
   },
   {
    "duration": 9,
    "start_time": "2023-02-19T14:28:36.457Z"
   },
   {
    "duration": 13,
    "start_time": "2023-02-19T14:28:36.468Z"
   },
   {
    "duration": 23,
    "start_time": "2023-02-19T14:28:36.483Z"
   },
   {
    "duration": 46,
    "start_time": "2023-02-19T14:28:36.508Z"
   },
   {
    "duration": 135790,
    "start_time": "2023-02-19T14:28:36.556Z"
   },
   {
    "duration": 32131,
    "start_time": "2023-02-19T14:40:52.588Z"
   },
   {
    "duration": 2509,
    "start_time": "2023-02-19T14:46:33.719Z"
   },
   {
    "duration": 4,
    "start_time": "2023-02-19T14:50:27.811Z"
   },
   {
    "duration": 3,
    "start_time": "2023-02-19T14:51:25.164Z"
   },
   {
    "duration": 117,
    "start_time": "2023-02-19T14:51:38.979Z"
   },
   {
    "duration": 13,
    "start_time": "2023-02-19T14:51:54.372Z"
   },
   {
    "duration": 3,
    "start_time": "2023-02-19T14:52:07.072Z"
   },
   {
    "duration": 13,
    "start_time": "2023-02-19T14:52:08.032Z"
   },
   {
    "duration": 3,
    "start_time": "2023-02-19T14:52:34.497Z"
   },
   {
    "duration": 4,
    "start_time": "2023-02-19T14:52:35.083Z"
   },
   {
    "duration": 755,
    "start_time": "2023-02-19T14:52:35.668Z"
   },
   {
    "duration": 5,
    "start_time": "2023-02-19T14:57:35.790Z"
   },
   {
    "duration": 4,
    "start_time": "2023-02-19T14:57:36.308Z"
   },
   {
    "duration": 16,
    "start_time": "2023-02-19T14:57:36.996Z"
   },
   {
    "duration": 4,
    "start_time": "2023-02-19T14:57:56.067Z"
   },
   {
    "duration": 3,
    "start_time": "2023-02-19T14:57:56.761Z"
   },
   {
    "duration": 675,
    "start_time": "2023-02-19T14:57:57.202Z"
   },
   {
    "duration": 4,
    "start_time": "2023-02-19T14:58:17.310Z"
   },
   {
    "duration": 4,
    "start_time": "2023-02-19T14:58:17.900Z"
   },
   {
    "duration": 26,
    "start_time": "2023-02-19T14:58:21.034Z"
   },
   {
    "duration": 16,
    "start_time": "2023-02-19T15:01:36.403Z"
   },
   {
    "duration": 4,
    "start_time": "2023-02-19T15:01:48.228Z"
   },
   {
    "duration": 11,
    "start_time": "2023-02-19T15:02:33.068Z"
   },
   {
    "duration": 20,
    "start_time": "2023-02-19T15:25:52.074Z"
   },
   {
    "duration": 3,
    "start_time": "2023-02-19T15:27:34.559Z"
   },
   {
    "duration": 1443,
    "start_time": "2023-02-19T15:27:41.529Z"
   },
   {
    "duration": 673,
    "start_time": "2023-02-19T15:27:42.974Z"
   },
   {
    "duration": 29,
    "start_time": "2023-02-19T15:27:43.650Z"
   },
   {
    "duration": 280,
    "start_time": "2023-02-19T15:27:43.682Z"
   },
   {
    "duration": 15,
    "start_time": "2023-02-19T15:27:43.964Z"
   },
   {
    "duration": 147,
    "start_time": "2023-02-19T15:27:43.980Z"
   },
   {
    "duration": 20,
    "start_time": "2023-02-19T15:27:44.128Z"
   },
   {
    "duration": 281,
    "start_time": "2023-02-19T15:27:44.150Z"
   },
   {
    "duration": 32,
    "start_time": "2023-02-19T15:27:44.433Z"
   },
   {
    "duration": 189,
    "start_time": "2023-02-19T15:27:44.469Z"
   },
   {
    "duration": 120,
    "start_time": "2023-02-19T15:27:44.660Z"
   },
   {
    "duration": 5,
    "start_time": "2023-02-19T15:27:44.782Z"
   },
   {
    "duration": 9,
    "start_time": "2023-02-19T15:27:44.789Z"
   },
   {
    "duration": 14,
    "start_time": "2023-02-19T15:27:44.800Z"
   },
   {
    "duration": 16,
    "start_time": "2023-02-19T15:27:44.816Z"
   },
   {
    "duration": 11,
    "start_time": "2023-02-19T15:27:44.834Z"
   },
   {
    "duration": 10,
    "start_time": "2023-02-19T15:27:44.846Z"
   },
   {
    "duration": 15,
    "start_time": "2023-02-19T15:27:44.858Z"
   },
   {
    "duration": 17,
    "start_time": "2023-02-19T15:27:44.875Z"
   },
   {
    "duration": 20,
    "start_time": "2023-02-19T15:27:44.894Z"
   },
   {
    "duration": 15,
    "start_time": "2023-02-19T15:27:44.916Z"
   },
   {
    "duration": 7,
    "start_time": "2023-02-19T15:27:44.933Z"
   },
   {
    "duration": 19,
    "start_time": "2023-02-19T15:27:44.942Z"
   },
   {
    "duration": 8,
    "start_time": "2023-02-19T15:27:44.963Z"
   },
   {
    "duration": 16,
    "start_time": "2023-02-19T15:27:44.973Z"
   },
   {
    "duration": 9,
    "start_time": "2023-02-19T15:27:44.990Z"
   },
   {
    "duration": 666,
    "start_time": "2023-02-19T15:27:45.000Z"
   },
   {
    "duration": 613,
    "start_time": "2023-02-19T15:27:45.670Z"
   },
   {
    "duration": 644,
    "start_time": "2023-02-19T15:27:46.285Z"
   },
   {
    "duration": 1268,
    "start_time": "2023-02-19T15:27:46.931Z"
   },
   {
    "duration": 0,
    "start_time": "2023-02-19T15:27:48.201Z"
   },
   {
    "duration": 0,
    "start_time": "2023-02-19T15:27:48.202Z"
   },
   {
    "duration": 0,
    "start_time": "2023-02-19T15:27:48.203Z"
   },
   {
    "duration": 0,
    "start_time": "2023-02-19T15:27:48.204Z"
   },
   {
    "duration": 0,
    "start_time": "2023-02-19T15:27:48.205Z"
   },
   {
    "duration": 0,
    "start_time": "2023-02-19T15:27:48.206Z"
   },
   {
    "duration": 0,
    "start_time": "2023-02-19T15:27:48.207Z"
   },
   {
    "duration": 0,
    "start_time": "2023-02-19T15:27:48.208Z"
   },
   {
    "duration": 0,
    "start_time": "2023-02-19T15:27:48.209Z"
   },
   {
    "duration": 0,
    "start_time": "2023-02-19T15:27:48.210Z"
   },
   {
    "duration": 0,
    "start_time": "2023-02-19T15:27:48.211Z"
   },
   {
    "duration": 0,
    "start_time": "2023-02-19T15:27:48.213Z"
   },
   {
    "duration": 0,
    "start_time": "2023-02-19T15:27:48.227Z"
   },
   {
    "duration": 0,
    "start_time": "2023-02-19T15:27:48.229Z"
   },
   {
    "duration": 0,
    "start_time": "2023-02-19T15:27:48.231Z"
   },
   {
    "duration": 0,
    "start_time": "2023-02-19T15:27:48.233Z"
   },
   {
    "duration": 0,
    "start_time": "2023-02-19T15:27:48.234Z"
   },
   {
    "duration": 0,
    "start_time": "2023-02-19T15:27:48.235Z"
   },
   {
    "duration": 0,
    "start_time": "2023-02-19T15:27:48.237Z"
   },
   {
    "duration": 1312,
    "start_time": "2023-02-19T15:28:50.888Z"
   },
   {
    "duration": 6,
    "start_time": "2023-02-19T15:32:44.172Z"
   },
   {
    "duration": 935,
    "start_time": "2023-02-19T15:32:53.891Z"
   },
   {
    "duration": 1522,
    "start_time": "2023-02-19T15:34:12.848Z"
   },
   {
    "duration": 771,
    "start_time": "2023-02-19T15:34:14.372Z"
   },
   {
    "duration": 18,
    "start_time": "2023-02-19T15:34:15.144Z"
   },
   {
    "duration": 289,
    "start_time": "2023-02-19T15:34:15.165Z"
   },
   {
    "duration": 15,
    "start_time": "2023-02-19T15:34:15.456Z"
   },
   {
    "duration": 151,
    "start_time": "2023-02-19T15:34:15.473Z"
   },
   {
    "duration": 34,
    "start_time": "2023-02-19T15:34:15.625Z"
   },
   {
    "duration": 303,
    "start_time": "2023-02-19T15:34:15.661Z"
   },
   {
    "duration": 22,
    "start_time": "2023-02-19T15:34:15.966Z"
   },
   {
    "duration": 145,
    "start_time": "2023-02-19T15:34:15.990Z"
   },
   {
    "duration": 109,
    "start_time": "2023-02-19T15:34:16.137Z"
   },
   {
    "duration": 4,
    "start_time": "2023-02-19T15:34:16.248Z"
   },
   {
    "duration": 26,
    "start_time": "2023-02-19T15:34:16.254Z"
   },
   {
    "duration": 28,
    "start_time": "2023-02-19T15:34:16.282Z"
   },
   {
    "duration": 62,
    "start_time": "2023-02-19T15:34:16.312Z"
   },
   {
    "duration": 13,
    "start_time": "2023-02-19T15:34:16.376Z"
   },
   {
    "duration": 4,
    "start_time": "2023-02-19T15:34:16.391Z"
   },
   {
    "duration": 9,
    "start_time": "2023-02-19T15:34:16.397Z"
   },
   {
    "duration": 7,
    "start_time": "2023-02-19T15:34:16.407Z"
   },
   {
    "duration": 68,
    "start_time": "2023-02-19T15:34:16.416Z"
   },
   {
    "duration": 21,
    "start_time": "2023-02-19T15:34:16.487Z"
   },
   {
    "duration": 9,
    "start_time": "2023-02-19T15:34:16.510Z"
   },
   {
    "duration": 16,
    "start_time": "2023-02-19T15:34:16.521Z"
   },
   {
    "duration": 14,
    "start_time": "2023-02-19T15:34:16.539Z"
   },
   {
    "duration": 21,
    "start_time": "2023-02-19T15:34:16.555Z"
   },
   {
    "duration": 11,
    "start_time": "2023-02-19T15:34:16.579Z"
   },
   {
    "duration": 754,
    "start_time": "2023-02-19T15:34:16.592Z"
   },
   {
    "duration": 636,
    "start_time": "2023-02-19T15:34:17.349Z"
   },
   {
    "duration": 633,
    "start_time": "2023-02-19T15:34:17.987Z"
   },
   {
    "duration": 11,
    "start_time": "2023-02-19T15:34:18.621Z"
   },
   {
    "duration": 367,
    "start_time": "2023-02-19T15:34:18.633Z"
   },
   {
    "duration": 41,
    "start_time": "2023-02-19T15:34:19.001Z"
   },
   {
    "duration": 2285,
    "start_time": "2023-02-19T15:34:19.044Z"
   },
   {
    "duration": 17,
    "start_time": "2023-02-19T15:34:21.331Z"
   },
   {
    "duration": 1600,
    "start_time": "2023-02-19T15:34:21.350Z"
   },
   {
    "duration": 8,
    "start_time": "2023-02-19T15:34:22.952Z"
   },
   {
    "duration": 9,
    "start_time": "2023-02-19T15:34:22.963Z"
   },
   {
    "duration": 82,
    "start_time": "2023-02-19T15:34:22.974Z"
   },
   {
    "duration": 7,
    "start_time": "2023-02-19T15:34:23.059Z"
   },
   {
    "duration": 6,
    "start_time": "2023-02-19T15:34:23.068Z"
   },
   {
    "duration": 5,
    "start_time": "2023-02-19T15:34:23.076Z"
   },
   {
    "duration": 46,
    "start_time": "2023-02-19T15:34:23.083Z"
   },
   {
    "duration": 23,
    "start_time": "2023-02-19T15:34:23.131Z"
   },
   {
    "duration": 319,
    "start_time": "2023-02-19T15:34:23.156Z"
   },
   {
    "duration": 0,
    "start_time": "2023-02-19T15:34:23.528Z"
   },
   {
    "duration": 0,
    "start_time": "2023-02-19T15:34:23.529Z"
   },
   {
    "duration": 0,
    "start_time": "2023-02-19T15:34:23.530Z"
   },
   {
    "duration": 0,
    "start_time": "2023-02-19T15:34:23.531Z"
   },
   {
    "duration": 0,
    "start_time": "2023-02-19T15:34:23.532Z"
   },
   {
    "duration": 0,
    "start_time": "2023-02-19T15:34:23.533Z"
   },
   {
    "duration": 3,
    "start_time": "2023-02-19T15:35:19.784Z"
   },
   {
    "duration": 42,
    "start_time": "2023-02-19T15:35:20.905Z"
   },
   {
    "duration": 1331,
    "start_time": "2023-02-19T15:35:47.751Z"
   },
   {
    "duration": 695,
    "start_time": "2023-02-19T15:35:49.084Z"
   },
   {
    "duration": 24,
    "start_time": "2023-02-19T15:35:49.781Z"
   },
   {
    "duration": 283,
    "start_time": "2023-02-19T15:35:49.809Z"
   },
   {
    "duration": 17,
    "start_time": "2023-02-19T15:35:50.094Z"
   },
   {
    "duration": 151,
    "start_time": "2023-02-19T15:35:50.113Z"
   },
   {
    "duration": 17,
    "start_time": "2023-02-19T15:35:50.265Z"
   },
   {
    "duration": 300,
    "start_time": "2023-02-19T15:35:50.284Z"
   },
   {
    "duration": 27,
    "start_time": "2023-02-19T15:35:50.587Z"
   },
   {
    "duration": 176,
    "start_time": "2023-02-19T15:35:50.617Z"
   },
   {
    "duration": 108,
    "start_time": "2023-02-19T15:35:50.795Z"
   },
   {
    "duration": 5,
    "start_time": "2023-02-19T15:35:50.905Z"
   },
   {
    "duration": 17,
    "start_time": "2023-02-19T15:35:50.911Z"
   },
   {
    "duration": 4,
    "start_time": "2023-02-19T15:35:50.930Z"
   },
   {
    "duration": 5,
    "start_time": "2023-02-19T15:35:50.935Z"
   },
   {
    "duration": 37,
    "start_time": "2023-02-19T15:35:50.941Z"
   },
   {
    "duration": 6,
    "start_time": "2023-02-19T15:35:50.980Z"
   },
   {
    "duration": 6,
    "start_time": "2023-02-19T15:35:50.987Z"
   },
   {
    "duration": 6,
    "start_time": "2023-02-19T15:35:50.995Z"
   },
   {
    "duration": 29,
    "start_time": "2023-02-19T15:35:51.002Z"
   },
   {
    "duration": 8,
    "start_time": "2023-02-19T15:35:51.033Z"
   },
   {
    "duration": 7,
    "start_time": "2023-02-19T15:35:51.043Z"
   },
   {
    "duration": 9,
    "start_time": "2023-02-19T15:35:51.051Z"
   },
   {
    "duration": 8,
    "start_time": "2023-02-19T15:35:51.061Z"
   },
   {
    "duration": 17,
    "start_time": "2023-02-19T15:35:51.071Z"
   },
   {
    "duration": 49,
    "start_time": "2023-02-19T15:35:51.090Z"
   },
   {
    "duration": 640,
    "start_time": "2023-02-19T15:35:51.141Z"
   },
   {
    "duration": 605,
    "start_time": "2023-02-19T15:35:51.784Z"
   },
   {
    "duration": 611,
    "start_time": "2023-02-19T15:35:52.391Z"
   },
   {
    "duration": 484,
    "start_time": "2023-02-19T15:35:53.004Z"
   },
   {
    "duration": 41,
    "start_time": "2023-02-19T15:35:53.491Z"
   },
   {
    "duration": 2405,
    "start_time": "2023-02-19T15:35:53.534Z"
   },
   {
    "duration": 16,
    "start_time": "2023-02-19T15:35:55.941Z"
   },
   {
    "duration": 2797,
    "start_time": "2023-02-19T15:35:55.959Z"
   },
   {
    "duration": 8,
    "start_time": "2023-02-19T15:35:58.758Z"
   },
   {
    "duration": 8,
    "start_time": "2023-02-19T15:35:58.768Z"
   },
   {
    "duration": 11,
    "start_time": "2023-02-19T15:35:58.827Z"
   },
   {
    "duration": 4,
    "start_time": "2023-02-19T15:35:58.840Z"
   },
   {
    "duration": 5,
    "start_time": "2023-02-19T15:35:58.846Z"
   },
   {
    "duration": 7,
    "start_time": "2023-02-19T15:35:58.853Z"
   },
   {
    "duration": 10,
    "start_time": "2023-02-19T15:35:58.862Z"
   },
   {
    "duration": 53,
    "start_time": "2023-02-19T15:35:58.874Z"
   },
   {
    "duration": 43,
    "start_time": "2023-02-19T15:35:58.929Z"
   },
   {
    "duration": 32266,
    "start_time": "2023-02-19T15:35:59.028Z"
   },
   {
    "duration": 147188,
    "start_time": "2023-02-19T15:36:31.296Z"
   },
   {
    "duration": 2644,
    "start_time": "2023-02-19T15:38:58.486Z"
   },
   {
    "duration": 4,
    "start_time": "2023-02-19T15:39:01.132Z"
   },
   {
    "duration": 34,
    "start_time": "2023-02-19T15:39:01.138Z"
   },
   {
    "duration": 142,
    "start_time": "2023-02-19T15:39:01.174Z"
   },
   {
    "duration": 3,
    "start_time": "2023-02-19T15:54:02.620Z"
   },
   {
    "duration": 13,
    "start_time": "2023-02-19T15:54:03.844Z"
   },
   {
    "duration": 1907,
    "start_time": "2023-02-19T16:02:51.938Z"
   },
   {
    "duration": 14,
    "start_time": "2023-02-19T16:06:03.101Z"
   },
   {
    "duration": 1980,
    "start_time": "2023-02-19T16:06:04.886Z"
   },
   {
    "duration": 687,
    "start_time": "2023-02-19T16:07:44.522Z"
   },
   {
    "duration": 788,
    "start_time": "2023-02-19T16:07:50.119Z"
   },
   {
    "duration": 680,
    "start_time": "2023-02-19T16:07:56.072Z"
   },
   {
    "duration": 621,
    "start_time": "2023-02-19T16:08:03.598Z"
   },
   {
    "duration": 784,
    "start_time": "2023-02-19T16:08:11.255Z"
   },
   {
    "duration": 630,
    "start_time": "2023-02-19T16:08:15.489Z"
   },
   {
    "duration": 874,
    "start_time": "2023-02-19T16:08:20.788Z"
   },
   {
    "duration": 675,
    "start_time": "2023-02-19T16:08:36.597Z"
   },
   {
    "duration": 9,
    "start_time": "2023-02-19T16:14:43.051Z"
   },
   {
    "duration": 24,
    "start_time": "2023-02-19T16:15:22.855Z"
   },
   {
    "duration": 7,
    "start_time": "2023-02-19T16:23:08.477Z"
   },
   {
    "duration": 7,
    "start_time": "2023-02-19T16:23:18.855Z"
   },
   {
    "duration": 5,
    "start_time": "2023-02-19T16:24:20.193Z"
   },
   {
    "duration": 5,
    "start_time": "2023-02-19T16:24:26.785Z"
   },
   {
    "duration": 2016,
    "start_time": "2023-02-19T16:28:36.655Z"
   },
   {
    "duration": 4,
    "start_time": "2023-02-19T16:33:08.727Z"
   },
   {
    "duration": 7,
    "start_time": "2023-02-19T16:33:09.751Z"
   },
   {
    "duration": 17,
    "start_time": "2023-02-19T16:33:10.466Z"
   },
   {
    "duration": 2170,
    "start_time": "2023-02-19T16:33:14.614Z"
   },
   {
    "duration": 4,
    "start_time": "2023-02-19T16:33:16.786Z"
   },
   {
    "duration": 21,
    "start_time": "2023-02-19T16:33:18.523Z"
   },
   {
    "duration": 2035,
    "start_time": "2023-02-19T16:34:31.762Z"
   },
   {
    "duration": 40,
    "start_time": "2023-02-19T16:37:45.084Z"
   },
   {
    "duration": 79,
    "start_time": "2023-02-19T16:38:08.611Z"
   },
   {
    "duration": 1420,
    "start_time": "2023-02-19T16:44:27.566Z"
   },
   {
    "duration": 738,
    "start_time": "2023-02-19T16:44:28.988Z"
   },
   {
    "duration": 25,
    "start_time": "2023-02-19T16:44:29.730Z"
   },
   {
    "duration": 278,
    "start_time": "2023-02-19T16:44:29.759Z"
   },
   {
    "duration": 17,
    "start_time": "2023-02-19T16:44:30.039Z"
   },
   {
    "duration": 140,
    "start_time": "2023-02-19T16:44:30.057Z"
   },
   {
    "duration": 18,
    "start_time": "2023-02-19T16:44:30.198Z"
   },
   {
    "duration": 335,
    "start_time": "2023-02-19T16:44:30.217Z"
   },
   {
    "duration": 26,
    "start_time": "2023-02-19T16:44:30.558Z"
   },
   {
    "duration": 160,
    "start_time": "2023-02-19T16:44:30.588Z"
   },
   {
    "duration": 107,
    "start_time": "2023-02-19T16:44:30.750Z"
   },
   {
    "duration": 3,
    "start_time": "2023-02-19T16:44:30.859Z"
   },
   {
    "duration": 8,
    "start_time": "2023-02-19T16:44:30.864Z"
   },
   {
    "duration": 19,
    "start_time": "2023-02-19T16:44:30.873Z"
   },
   {
    "duration": 50,
    "start_time": "2023-02-19T16:44:30.894Z"
   },
   {
    "duration": 25,
    "start_time": "2023-02-19T16:44:30.946Z"
   },
   {
    "duration": 38,
    "start_time": "2023-02-19T16:44:30.973Z"
   },
   {
    "duration": 40,
    "start_time": "2023-02-19T16:44:31.013Z"
   },
   {
    "duration": 13,
    "start_time": "2023-02-19T16:44:31.055Z"
   },
   {
    "duration": 49,
    "start_time": "2023-02-19T16:44:31.070Z"
   },
   {
    "duration": 44,
    "start_time": "2023-02-19T16:44:31.121Z"
   },
   {
    "duration": 40,
    "start_time": "2023-02-19T16:44:31.167Z"
   },
   {
    "duration": 9,
    "start_time": "2023-02-19T16:44:31.209Z"
   },
   {
    "duration": 16,
    "start_time": "2023-02-19T16:44:31.219Z"
   },
   {
    "duration": 34,
    "start_time": "2023-02-19T16:44:31.237Z"
   },
   {
    "duration": 7,
    "start_time": "2023-02-19T16:44:31.273Z"
   },
   {
    "duration": 720,
    "start_time": "2023-02-19T16:44:31.282Z"
   },
   {
    "duration": 595,
    "start_time": "2023-02-19T16:44:32.005Z"
   },
   {
    "duration": 603,
    "start_time": "2023-02-19T16:44:32.601Z"
   },
   {
    "duration": 405,
    "start_time": "2023-02-19T16:44:33.206Z"
   },
   {
    "duration": 28,
    "start_time": "2023-02-19T16:44:33.613Z"
   },
   {
    "duration": 1327,
    "start_time": "2023-02-19T16:44:33.645Z"
   },
   {
    "duration": 13,
    "start_time": "2023-02-19T16:44:34.974Z"
   },
   {
    "duration": 1227,
    "start_time": "2023-02-19T16:44:34.988Z"
   },
   {
    "duration": 14,
    "start_time": "2023-02-19T16:44:36.217Z"
   },
   {
    "duration": 24,
    "start_time": "2023-02-19T16:44:36.235Z"
   },
   {
    "duration": 12,
    "start_time": "2023-02-19T16:44:36.260Z"
   },
   {
    "duration": 5,
    "start_time": "2023-02-19T16:44:36.274Z"
   },
   {
    "duration": 5,
    "start_time": "2023-02-19T16:44:36.280Z"
   },
   {
    "duration": 11,
    "start_time": "2023-02-19T16:44:36.286Z"
   },
   {
    "duration": 5,
    "start_time": "2023-02-19T16:44:36.299Z"
   },
   {
    "duration": 14,
    "start_time": "2023-02-19T16:44:36.305Z"
   },
   {
    "duration": 39,
    "start_time": "2023-02-19T16:44:36.321Z"
   },
   {
    "duration": 33552,
    "start_time": "2023-02-19T16:44:36.362Z"
   },
   {
    "duration": 149465,
    "start_time": "2023-02-19T16:45:09.916Z"
   },
   {
    "duration": 2876,
    "start_time": "2023-02-19T16:47:39.382Z"
   },
   {
    "duration": 72,
    "start_time": "2023-02-19T16:47:42.260Z"
   },
   {
    "duration": 30,
    "start_time": "2023-02-19T16:47:42.334Z"
   },
   {
    "duration": 16,
    "start_time": "2023-02-19T16:47:42.365Z"
   },
   {
    "duration": 2000,
    "start_time": "2023-02-19T16:47:42.383Z"
   },
   {
    "duration": 84,
    "start_time": "2023-02-19T16:47:44.385Z"
   },
   {
    "duration": 1416,
    "start_time": "2023-02-20T21:25:54.333Z"
   },
   {
    "duration": 2097,
    "start_time": "2023-02-20T21:25:55.751Z"
   },
   {
    "duration": 23,
    "start_time": "2023-02-20T21:25:57.850Z"
   },
   {
    "duration": 227,
    "start_time": "2023-02-20T21:25:57.876Z"
   },
   {
    "duration": 12,
    "start_time": "2023-02-20T21:25:58.104Z"
   },
   {
    "duration": 130,
    "start_time": "2023-02-20T21:25:58.117Z"
   },
   {
    "duration": 18,
    "start_time": "2023-02-20T21:25:58.248Z"
   },
   {
    "duration": 255,
    "start_time": "2023-02-20T21:25:58.267Z"
   },
   {
    "duration": 24,
    "start_time": "2023-02-20T21:25:58.524Z"
   },
   {
    "duration": 112,
    "start_time": "2023-02-20T21:25:58.551Z"
   },
   {
    "duration": 94,
    "start_time": "2023-02-20T21:25:58.665Z"
   },
   {
    "duration": 4,
    "start_time": "2023-02-20T21:25:58.760Z"
   },
   {
    "duration": 6,
    "start_time": "2023-02-20T21:25:58.766Z"
   },
   {
    "duration": 6,
    "start_time": "2023-02-20T21:25:58.774Z"
   },
   {
    "duration": 4,
    "start_time": "2023-02-20T21:25:58.781Z"
   },
   {
    "duration": 10,
    "start_time": "2023-02-20T21:25:58.787Z"
   },
   {
    "duration": 4,
    "start_time": "2023-02-20T21:25:58.798Z"
   },
   {
    "duration": 35,
    "start_time": "2023-02-20T21:25:58.804Z"
   },
   {
    "duration": 6,
    "start_time": "2023-02-20T21:25:58.841Z"
   },
   {
    "duration": 16,
    "start_time": "2023-02-20T21:25:58.848Z"
   },
   {
    "duration": 10,
    "start_time": "2023-02-20T21:25:58.865Z"
   },
   {
    "duration": 7,
    "start_time": "2023-02-20T21:25:58.876Z"
   },
   {
    "duration": 7,
    "start_time": "2023-02-20T21:25:58.884Z"
   },
   {
    "duration": 8,
    "start_time": "2023-02-20T21:25:58.892Z"
   },
   {
    "duration": 46,
    "start_time": "2023-02-20T21:25:58.901Z"
   },
   {
    "duration": 8,
    "start_time": "2023-02-20T21:25:58.949Z"
   },
   {
    "duration": 596,
    "start_time": "2023-02-20T21:25:58.958Z"
   },
   {
    "duration": 515,
    "start_time": "2023-02-20T21:25:59.557Z"
   },
   {
    "duration": 533,
    "start_time": "2023-02-20T21:26:00.074Z"
   },
   {
    "duration": 369,
    "start_time": "2023-02-20T21:26:00.609Z"
   },
   {
    "duration": 28,
    "start_time": "2023-02-20T21:26:00.980Z"
   },
   {
    "duration": 1146,
    "start_time": "2023-02-20T21:26:01.010Z"
   },
   {
    "duration": 13,
    "start_time": "2023-02-20T21:26:02.158Z"
   },
   {
    "duration": 1065,
    "start_time": "2023-02-20T21:26:02.173Z"
   },
   {
    "duration": 7,
    "start_time": "2023-02-20T21:26:03.239Z"
   },
   {
    "duration": 13,
    "start_time": "2023-02-20T21:26:03.247Z"
   },
   {
    "duration": 10,
    "start_time": "2023-02-20T21:26:03.262Z"
   },
   {
    "duration": 5,
    "start_time": "2023-02-20T21:26:03.274Z"
   },
   {
    "duration": 5,
    "start_time": "2023-02-20T21:26:03.281Z"
   },
   {
    "duration": 4,
    "start_time": "2023-02-20T21:26:03.288Z"
   },
   {
    "duration": 5,
    "start_time": "2023-02-20T21:26:03.294Z"
   },
   {
    "duration": 7,
    "start_time": "2023-02-20T21:26:03.300Z"
   },
   {
    "duration": 48,
    "start_time": "2023-02-20T21:26:03.308Z"
   },
   {
    "duration": 28847,
    "start_time": "2023-02-20T21:26:03.357Z"
   },
   {
    "duration": 126560,
    "start_time": "2023-02-20T21:26:32.206Z"
   },
   {
    "duration": 2168,
    "start_time": "2023-02-20T21:28:38.768Z"
   },
   {
    "duration": 3,
    "start_time": "2023-02-20T21:28:40.939Z"
   },
   {
    "duration": 94,
    "start_time": "2023-02-20T21:28:40.944Z"
   },
   {
    "duration": 13,
    "start_time": "2023-02-20T21:28:41.039Z"
   },
   {
    "duration": 1700,
    "start_time": "2023-02-20T21:28:41.054Z"
   },
   {
    "duration": 64,
    "start_time": "2023-02-20T21:28:42.755Z"
   },
   {
    "duration": 1120,
    "start_time": "2023-02-20T21:28:42.821Z"
   },
   {
    "duration": 727,
    "start_time": "2023-02-20T21:29:28.158Z"
   },
   {
    "duration": 653,
    "start_time": "2023-02-20T21:29:45.136Z"
   },
   {
    "duration": 745,
    "start_time": "2023-02-20T21:30:06.189Z"
   },
   {
    "duration": 1680,
    "start_time": "2023-02-22T12:35:28.831Z"
   },
   {
    "duration": 3159,
    "start_time": "2023-02-22T12:35:30.513Z"
   },
   {
    "duration": 20,
    "start_time": "2023-02-22T12:35:33.674Z"
   },
   {
    "duration": 241,
    "start_time": "2023-02-22T12:35:33.697Z"
   },
   {
    "duration": 14,
    "start_time": "2023-02-22T12:35:33.940Z"
   },
   {
    "duration": 146,
    "start_time": "2023-02-22T12:35:33.955Z"
   },
   {
    "duration": 19,
    "start_time": "2023-02-22T12:35:34.103Z"
   },
   {
    "duration": 275,
    "start_time": "2023-02-22T12:35:34.137Z"
   },
   {
    "duration": 32,
    "start_time": "2023-02-22T12:35:34.413Z"
   },
   {
    "duration": 153,
    "start_time": "2023-02-22T12:35:34.447Z"
   },
   {
    "duration": 115,
    "start_time": "2023-02-22T12:35:34.602Z"
   },
   {
    "duration": 5,
    "start_time": "2023-02-22T12:35:34.719Z"
   },
   {
    "duration": 21,
    "start_time": "2023-02-22T12:35:34.725Z"
   },
   {
    "duration": 37,
    "start_time": "2023-02-22T12:35:34.748Z"
   },
   {
    "duration": 57,
    "start_time": "2023-02-22T12:35:34.787Z"
   },
   {
    "duration": 29,
    "start_time": "2023-02-22T12:35:34.846Z"
   },
   {
    "duration": 11,
    "start_time": "2023-02-22T12:35:34.877Z"
   },
   {
    "duration": 41,
    "start_time": "2023-02-22T12:35:34.890Z"
   },
   {
    "duration": 42,
    "start_time": "2023-02-22T12:35:34.933Z"
   },
   {
    "duration": 36,
    "start_time": "2023-02-22T12:35:34.977Z"
   },
   {
    "duration": 29,
    "start_time": "2023-02-22T12:35:35.016Z"
   },
   {
    "duration": 41,
    "start_time": "2023-02-22T12:35:35.047Z"
   },
   {
    "duration": 40,
    "start_time": "2023-02-22T12:35:35.090Z"
   },
   {
    "duration": 30,
    "start_time": "2023-02-22T12:35:35.132Z"
   },
   {
    "duration": 42,
    "start_time": "2023-02-22T12:35:35.164Z"
   },
   {
    "duration": 9,
    "start_time": "2023-02-22T12:35:35.208Z"
   },
   {
    "duration": 888,
    "start_time": "2023-02-22T12:35:35.219Z"
   },
   {
    "duration": 742,
    "start_time": "2023-02-22T12:35:36.112Z"
   },
   {
    "duration": 938,
    "start_time": "2023-02-22T12:35:36.857Z"
   },
   {
    "duration": 427,
    "start_time": "2023-02-22T12:35:37.797Z"
   },
   {
    "duration": 35,
    "start_time": "2023-02-22T12:35:38.227Z"
   },
   {
    "duration": 1209,
    "start_time": "2023-02-22T12:35:38.264Z"
   },
   {
    "duration": 15,
    "start_time": "2023-02-22T12:35:39.475Z"
   },
   {
    "duration": 1201,
    "start_time": "2023-02-22T12:35:39.491Z"
   },
   {
    "duration": 8,
    "start_time": "2023-02-22T12:35:40.694Z"
   },
   {
    "duration": 26,
    "start_time": "2023-02-22T12:35:40.704Z"
   },
   {
    "duration": 43,
    "start_time": "2023-02-22T12:35:40.733Z"
   },
   {
    "duration": 17,
    "start_time": "2023-02-22T12:35:40.779Z"
   },
   {
    "duration": 27,
    "start_time": "2023-02-22T12:35:40.798Z"
   },
   {
    "duration": 14,
    "start_time": "2023-02-22T12:35:40.827Z"
   },
   {
    "duration": 26,
    "start_time": "2023-02-22T12:35:40.843Z"
   },
   {
    "duration": 36,
    "start_time": "2023-02-22T12:35:40.871Z"
   },
   {
    "duration": 41,
    "start_time": "2023-02-22T12:35:40.909Z"
   },
   {
    "duration": 32428,
    "start_time": "2023-02-22T12:35:40.952Z"
   },
   {
    "duration": 152078,
    "start_time": "2023-02-22T12:36:13.382Z"
   },
   {
    "duration": 2476,
    "start_time": "2023-02-22T12:38:45.462Z"
   },
   {
    "duration": 3,
    "start_time": "2023-02-22T12:38:47.940Z"
   },
   {
    "duration": 17,
    "start_time": "2023-02-22T12:38:47.945Z"
   },
   {
    "duration": 38,
    "start_time": "2023-02-22T12:38:47.964Z"
   },
   {
    "duration": 2007,
    "start_time": "2023-02-22T12:38:48.005Z"
   },
   {
    "duration": 81,
    "start_time": "2023-02-22T12:38:50.013Z"
   },
   {
    "duration": 140,
    "start_time": "2023-02-22T13:17:00.028Z"
   },
   {
    "duration": 16,
    "start_time": "2023-02-22T13:17:26.139Z"
   },
   {
    "duration": 48478,
    "start_time": "2023-02-22T13:19:17.512Z"
   },
   {
    "duration": 14,
    "start_time": "2023-02-22T13:44:27.453Z"
   },
   {
    "duration": 19,
    "start_time": "2023-02-22T13:44:46.353Z"
   },
   {
    "duration": 35925,
    "start_time": "2023-02-22T13:50:10.401Z"
   },
   {
    "duration": 1661,
    "start_time": "2023-02-22T13:55:14.030Z"
   },
   {
    "duration": 2228,
    "start_time": "2023-02-22T13:55:15.693Z"
   },
   {
    "duration": 30,
    "start_time": "2023-02-22T13:55:17.923Z"
   },
   {
    "duration": 321,
    "start_time": "2023-02-22T13:55:17.955Z"
   },
   {
    "duration": 16,
    "start_time": "2023-02-22T13:55:18.279Z"
   },
   {
    "duration": 177,
    "start_time": "2023-02-22T13:55:18.297Z"
   },
   {
    "duration": 18,
    "start_time": "2023-02-22T13:55:18.476Z"
   },
   {
    "duration": 357,
    "start_time": "2023-02-22T13:55:18.496Z"
   },
   {
    "duration": 35,
    "start_time": "2023-02-22T13:55:18.856Z"
   },
   {
    "duration": 198,
    "start_time": "2023-02-22T13:55:18.893Z"
   },
   {
    "duration": 134,
    "start_time": "2023-02-22T13:55:19.093Z"
   },
   {
    "duration": 15,
    "start_time": "2023-02-22T13:55:19.229Z"
   },
   {
    "duration": 37,
    "start_time": "2023-02-22T13:55:19.247Z"
   },
   {
    "duration": 30,
    "start_time": "2023-02-22T13:55:19.288Z"
   },
   {
    "duration": 46,
    "start_time": "2023-02-22T13:55:19.320Z"
   },
   {
    "duration": 23,
    "start_time": "2023-02-22T13:55:19.375Z"
   },
   {
    "duration": 19,
    "start_time": "2023-02-22T13:55:19.400Z"
   },
   {
    "duration": 21,
    "start_time": "2023-02-22T13:55:19.422Z"
   },
   {
    "duration": 34,
    "start_time": "2023-02-22T13:55:19.446Z"
   },
   {
    "duration": 29,
    "start_time": "2023-02-22T13:55:19.481Z"
   },
   {
    "duration": 35,
    "start_time": "2023-02-22T13:55:19.512Z"
   },
   {
    "duration": 29,
    "start_time": "2023-02-22T13:55:19.550Z"
   },
   {
    "duration": 27,
    "start_time": "2023-02-22T13:55:19.582Z"
   },
   {
    "duration": 13,
    "start_time": "2023-02-22T13:55:19.610Z"
   },
   {
    "duration": 41,
    "start_time": "2023-02-22T13:55:19.625Z"
   },
   {
    "duration": 19,
    "start_time": "2023-02-22T13:55:19.668Z"
   },
   {
    "duration": 948,
    "start_time": "2023-02-22T13:55:19.689Z"
   },
   {
    "duration": 903,
    "start_time": "2023-02-22T13:55:20.641Z"
   },
   {
    "duration": 2375,
    "start_time": "2023-02-22T13:55:21.547Z"
   },
   {
    "duration": 431,
    "start_time": "2023-02-22T13:55:23.937Z"
   },
   {
    "duration": 33,
    "start_time": "2023-02-22T13:55:24.371Z"
   },
   {
    "duration": 1378,
    "start_time": "2023-02-22T13:55:24.407Z"
   },
   {
    "duration": 16,
    "start_time": "2023-02-22T13:55:25.787Z"
   },
   {
    "duration": 1403,
    "start_time": "2023-02-22T13:55:25.805Z"
   },
   {
    "duration": 8,
    "start_time": "2023-02-22T13:55:27.211Z"
   },
   {
    "duration": 9,
    "start_time": "2023-02-22T13:55:27.221Z"
   },
   {
    "duration": 15,
    "start_time": "2023-02-22T13:55:27.237Z"
   },
   {
    "duration": 18,
    "start_time": "2023-02-22T13:55:27.256Z"
   },
   {
    "duration": 10,
    "start_time": "2023-02-22T13:55:27.276Z"
   },
   {
    "duration": 6,
    "start_time": "2023-02-22T13:55:27.288Z"
   },
   {
    "duration": 6,
    "start_time": "2023-02-22T13:55:27.298Z"
   },
   {
    "duration": 10,
    "start_time": "2023-02-22T13:55:27.306Z"
   },
   {
    "duration": 67,
    "start_time": "2023-02-22T13:55:27.318Z"
   },
   {
    "duration": 37995,
    "start_time": "2023-02-22T13:55:27.387Z"
   },
   {
    "duration": 163319,
    "start_time": "2023-02-22T13:56:05.384Z"
   },
   {
    "duration": 3456,
    "start_time": "2023-02-22T13:58:48.706Z"
   },
   {
    "duration": 10,
    "start_time": "2023-02-22T13:58:52.240Z"
   },
   {
    "duration": 87,
    "start_time": "2023-02-22T13:58:52.252Z"
   },
   {
    "duration": 20,
    "start_time": "2023-02-22T13:58:52.346Z"
   },
   {
    "duration": 2128,
    "start_time": "2023-02-22T13:58:52.368Z"
   },
   {
    "duration": 91,
    "start_time": "2023-02-22T13:58:54.497Z"
   },
   {
    "duration": 265,
    "start_time": "2023-02-22T13:58:54.592Z"
   },
   {
    "duration": 0,
    "start_time": "2023-02-22T13:58:54.862Z"
   },
   {
    "duration": 78,
    "start_time": "2023-02-22T13:59:05.792Z"
   },
   {
    "duration": 35994,
    "start_time": "2023-02-22T13:59:16.913Z"
   },
   {
    "duration": 137,
    "start_time": "2023-02-22T14:00:05.272Z"
   },
   {
    "duration": 20,
    "start_time": "2023-02-22T14:00:18.464Z"
   },
   {
    "duration": 15,
    "start_time": "2023-02-22T14:00:32.979Z"
   },
   {
    "duration": 3127,
    "start_time": "2023-02-22T14:00:45.972Z"
   },
   {
    "duration": 1757,
    "start_time": "2023-02-22T14:01:49.224Z"
   },
   {
    "duration": 10114,
    "start_time": "2023-02-22T14:06:18.472Z"
   },
   {
    "duration": 1454,
    "start_time": "2023-02-22T14:07:05.790Z"
   },
   {
    "duration": 713,
    "start_time": "2023-02-22T14:07:07.246Z"
   },
   {
    "duration": 20,
    "start_time": "2023-02-22T14:07:07.961Z"
   },
   {
    "duration": 253,
    "start_time": "2023-02-22T14:07:07.983Z"
   },
   {
    "duration": 14,
    "start_time": "2023-02-22T14:07:08.238Z"
   },
   {
    "duration": 146,
    "start_time": "2023-02-22T14:07:08.254Z"
   },
   {
    "duration": 19,
    "start_time": "2023-02-22T14:07:08.401Z"
   },
   {
    "duration": 357,
    "start_time": "2023-02-22T14:07:08.436Z"
   },
   {
    "duration": 28,
    "start_time": "2023-02-22T14:07:08.795Z"
   },
   {
    "duration": 135,
    "start_time": "2023-02-22T14:07:08.836Z"
   },
   {
    "duration": 102,
    "start_time": "2023-02-22T14:07:08.972Z"
   },
   {
    "duration": 3,
    "start_time": "2023-02-22T14:07:09.076Z"
   },
   {
    "duration": 16,
    "start_time": "2023-02-22T14:07:09.081Z"
   },
   {
    "duration": 17,
    "start_time": "2023-02-22T14:07:09.099Z"
   },
   {
    "duration": 6,
    "start_time": "2023-02-22T14:07:09.118Z"
   },
   {
    "duration": 8,
    "start_time": "2023-02-22T14:07:09.136Z"
   },
   {
    "duration": 10,
    "start_time": "2023-02-22T14:07:09.146Z"
   },
   {
    "duration": 12,
    "start_time": "2023-02-22T14:07:09.158Z"
   },
   {
    "duration": 20,
    "start_time": "2023-02-22T14:07:09.171Z"
   },
   {
    "duration": 25,
    "start_time": "2023-02-22T14:07:09.194Z"
   },
   {
    "duration": 12,
    "start_time": "2023-02-22T14:07:09.222Z"
   },
   {
    "duration": 14,
    "start_time": "2023-02-22T14:07:09.235Z"
   },
   {
    "duration": 10,
    "start_time": "2023-02-22T14:07:09.251Z"
   },
   {
    "duration": 12,
    "start_time": "2023-02-22T14:07:09.263Z"
   },
   {
    "duration": 26,
    "start_time": "2023-02-22T14:07:09.277Z"
   },
   {
    "duration": 63,
    "start_time": "2023-02-22T14:07:09.306Z"
   },
   {
    "duration": 901,
    "start_time": "2023-02-22T14:07:09.371Z"
   },
   {
    "duration": 755,
    "start_time": "2023-02-22T14:07:10.277Z"
   },
   {
    "duration": 1052,
    "start_time": "2023-02-22T14:07:11.036Z"
   },
   {
    "duration": 661,
    "start_time": "2023-02-22T14:07:12.090Z"
   },
   {
    "duration": 92,
    "start_time": "2023-02-22T14:07:12.755Z"
   },
   {
    "duration": 2314,
    "start_time": "2023-02-22T14:07:12.850Z"
   },
   {
    "duration": 16,
    "start_time": "2023-02-22T14:07:15.166Z"
   },
   {
    "duration": 1169,
    "start_time": "2023-02-22T14:07:15.184Z"
   },
   {
    "duration": 7,
    "start_time": "2023-02-22T14:07:16.354Z"
   },
   {
    "duration": 9,
    "start_time": "2023-02-22T14:07:16.363Z"
   },
   {
    "duration": 13,
    "start_time": "2023-02-22T14:07:16.373Z"
   },
   {
    "duration": 7,
    "start_time": "2023-02-22T14:07:16.388Z"
   },
   {
    "duration": 5,
    "start_time": "2023-02-22T14:07:16.397Z"
   },
   {
    "duration": 10,
    "start_time": "2023-02-22T14:07:16.404Z"
   },
   {
    "duration": 9,
    "start_time": "2023-02-22T14:07:16.416Z"
   },
   {
    "duration": 18,
    "start_time": "2023-02-22T14:07:16.426Z"
   },
   {
    "duration": 35,
    "start_time": "2023-02-22T14:07:16.446Z"
   },
   {
    "duration": 32313,
    "start_time": "2023-02-22T14:07:16.483Z"
   },
   {
    "duration": 9993,
    "start_time": "2023-02-22T14:07:48.798Z"
   },
   {
    "duration": 145110,
    "start_time": "2023-02-22T14:07:58.793Z"
   },
   {
    "duration": 2736,
    "start_time": "2023-02-22T14:10:23.905Z"
   },
   {
    "duration": 4,
    "start_time": "2023-02-22T14:10:26.643Z"
   },
   {
    "duration": 33,
    "start_time": "2023-02-22T14:10:26.648Z"
   },
   {
    "duration": 28,
    "start_time": "2023-02-22T14:10:26.683Z"
   },
   {
    "duration": 1963,
    "start_time": "2023-02-22T14:10:26.713Z"
   },
   {
    "duration": 76,
    "start_time": "2023-02-22T14:10:28.677Z"
   },
   {
    "duration": 148,
    "start_time": "2023-02-22T14:10:55.020Z"
   },
   {
    "duration": 22,
    "start_time": "2023-02-22T14:13:33.022Z"
   },
   {
    "duration": 24,
    "start_time": "2023-02-22T14:13:42.552Z"
   },
   {
    "duration": 1481,
    "start_time": "2023-02-22T14:14:28.978Z"
   },
   {
    "duration": 731,
    "start_time": "2023-02-22T14:14:30.461Z"
   },
   {
    "duration": 18,
    "start_time": "2023-02-22T14:14:31.194Z"
   },
   {
    "duration": 255,
    "start_time": "2023-02-22T14:14:31.215Z"
   },
   {
    "duration": 14,
    "start_time": "2023-02-22T14:14:31.471Z"
   },
   {
    "duration": 155,
    "start_time": "2023-02-22T14:14:31.487Z"
   },
   {
    "duration": 17,
    "start_time": "2023-02-22T14:14:31.644Z"
   },
   {
    "duration": 281,
    "start_time": "2023-02-22T14:14:31.663Z"
   },
   {
    "duration": 33,
    "start_time": "2023-02-22T14:14:31.945Z"
   },
   {
    "duration": 176,
    "start_time": "2023-02-22T14:14:31.982Z"
   },
   {
    "duration": 110,
    "start_time": "2023-02-22T14:14:32.160Z"
   },
   {
    "duration": 4,
    "start_time": "2023-02-22T14:14:32.272Z"
   },
   {
    "duration": 7,
    "start_time": "2023-02-22T14:14:32.277Z"
   },
   {
    "duration": 8,
    "start_time": "2023-02-22T14:14:32.285Z"
   },
   {
    "duration": 8,
    "start_time": "2023-02-22T14:14:32.295Z"
   },
   {
    "duration": 32,
    "start_time": "2023-02-22T14:14:32.305Z"
   },
   {
    "duration": 5,
    "start_time": "2023-02-22T14:14:32.340Z"
   },
   {
    "duration": 11,
    "start_time": "2023-02-22T14:14:32.346Z"
   },
   {
    "duration": 9,
    "start_time": "2023-02-22T14:14:32.359Z"
   },
   {
    "duration": 21,
    "start_time": "2023-02-22T14:14:32.369Z"
   },
   {
    "duration": 14,
    "start_time": "2023-02-22T14:14:32.393Z"
   },
   {
    "duration": 8,
    "start_time": "2023-02-22T14:14:32.409Z"
   },
   {
    "duration": 23,
    "start_time": "2023-02-22T14:14:32.419Z"
   },
   {
    "duration": 12,
    "start_time": "2023-02-22T14:14:32.444Z"
   },
   {
    "duration": 19,
    "start_time": "2023-02-22T14:14:32.458Z"
   },
   {
    "duration": 8,
    "start_time": "2023-02-22T14:14:32.479Z"
   },
   {
    "duration": 1560,
    "start_time": "2023-02-22T14:14:32.489Z"
   },
   {
    "duration": 906,
    "start_time": "2023-02-22T14:14:34.052Z"
   },
   {
    "duration": 879,
    "start_time": "2023-02-22T14:14:34.960Z"
   },
   {
    "duration": 347,
    "start_time": "2023-02-22T14:14:35.841Z"
   },
   {
    "duration": 29,
    "start_time": "2023-02-22T14:14:36.189Z"
   },
   {
    "duration": 1149,
    "start_time": "2023-02-22T14:14:36.219Z"
   },
   {
    "duration": 15,
    "start_time": "2023-02-22T14:14:37.369Z"
   },
   {
    "duration": 1218,
    "start_time": "2023-02-22T14:14:37.386Z"
   },
   {
    "duration": 8,
    "start_time": "2023-02-22T14:14:38.606Z"
   },
   {
    "duration": 22,
    "start_time": "2023-02-22T14:14:38.616Z"
   },
   {
    "duration": 19,
    "start_time": "2023-02-22T14:14:38.641Z"
   },
   {
    "duration": 10,
    "start_time": "2023-02-22T14:14:38.663Z"
   },
   {
    "duration": 11,
    "start_time": "2023-02-22T14:14:38.676Z"
   },
   {
    "duration": 23,
    "start_time": "2023-02-22T14:14:38.689Z"
   },
   {
    "duration": 18,
    "start_time": "2023-02-22T14:14:38.714Z"
   },
   {
    "duration": 9,
    "start_time": "2023-02-22T14:14:38.735Z"
   },
   {
    "duration": 40,
    "start_time": "2023-02-22T14:14:38.746Z"
   },
   {
    "duration": 31789,
    "start_time": "2023-02-22T14:14:38.788Z"
   },
   {
    "duration": 74983,
    "start_time": "2023-02-22T14:15:10.579Z"
   },
   {
    "duration": 1974,
    "start_time": "2023-02-22T14:16:25.564Z"
   },
   {
    "duration": 5,
    "start_time": "2023-02-22T14:16:27.540Z"
   },
   {
    "duration": 11,
    "start_time": "2023-02-22T14:16:27.547Z"
   },
   {
    "duration": 91,
    "start_time": "2023-02-22T14:16:27.559Z"
   },
   {
    "duration": 1993,
    "start_time": "2023-02-22T14:16:27.653Z"
   },
   {
    "duration": 74,
    "start_time": "2023-02-22T14:16:29.648Z"
   },
   {
    "duration": 158,
    "start_time": "2023-02-22T14:19:46.833Z"
   },
   {
    "duration": 1514,
    "start_time": "2023-02-22T14:20:00.166Z"
   },
   {
    "duration": 754,
    "start_time": "2023-02-22T14:20:01.682Z"
   },
   {
    "duration": 23,
    "start_time": "2023-02-22T14:20:02.437Z"
   },
   {
    "duration": 289,
    "start_time": "2023-02-22T14:20:02.462Z"
   },
   {
    "duration": 18,
    "start_time": "2023-02-22T14:20:02.755Z"
   },
   {
    "duration": 378,
    "start_time": "2023-02-22T14:20:02.776Z"
   },
   {
    "duration": 84,
    "start_time": "2023-02-22T14:20:03.157Z"
   },
   {
    "duration": 615,
    "start_time": "2023-02-22T14:20:03.243Z"
   },
   {
    "duration": 78,
    "start_time": "2023-02-22T14:20:03.860Z"
   },
   {
    "duration": 233,
    "start_time": "2023-02-22T14:20:03.939Z"
   },
   {
    "duration": 194,
    "start_time": "2023-02-22T14:20:04.174Z"
   },
   {
    "duration": 5,
    "start_time": "2023-02-22T14:20:04.370Z"
   },
   {
    "duration": 61,
    "start_time": "2023-02-22T14:20:04.377Z"
   },
   {
    "duration": 21,
    "start_time": "2023-02-22T14:20:04.441Z"
   },
   {
    "duration": 23,
    "start_time": "2023-02-22T14:20:04.464Z"
   },
   {
    "duration": 55,
    "start_time": "2023-02-22T14:20:04.490Z"
   },
   {
    "duration": 9,
    "start_time": "2023-02-22T14:20:04.546Z"
   },
   {
    "duration": 22,
    "start_time": "2023-02-22T14:20:04.556Z"
   },
   {
    "duration": 69,
    "start_time": "2023-02-22T14:20:04.580Z"
   },
   {
    "duration": 89,
    "start_time": "2023-02-22T14:20:04.651Z"
   },
   {
    "duration": 8,
    "start_time": "2023-02-22T14:20:04.742Z"
   },
   {
    "duration": 15,
    "start_time": "2023-02-22T14:20:04.752Z"
   },
   {
    "duration": 12,
    "start_time": "2023-02-22T14:20:04.769Z"
   },
   {
    "duration": 26,
    "start_time": "2023-02-22T14:20:04.783Z"
   },
   {
    "duration": 43,
    "start_time": "2023-02-22T14:20:04.811Z"
   },
   {
    "duration": 10,
    "start_time": "2023-02-22T14:20:04.856Z"
   },
   {
    "duration": 845,
    "start_time": "2023-02-22T14:20:04.868Z"
   },
   {
    "duration": 761,
    "start_time": "2023-02-22T14:20:05.715Z"
   },
   {
    "duration": 870,
    "start_time": "2023-02-22T14:20:06.478Z"
   },
   {
    "duration": 457,
    "start_time": "2023-02-22T14:20:07.350Z"
   },
   {
    "duration": 45,
    "start_time": "2023-02-22T14:20:07.810Z"
   },
   {
    "duration": 1335,
    "start_time": "2023-02-22T14:20:07.858Z"
   },
   {
    "duration": 15,
    "start_time": "2023-02-22T14:20:09.195Z"
   },
   {
    "duration": 1209,
    "start_time": "2023-02-22T14:20:09.211Z"
   },
   {
    "duration": 7,
    "start_time": "2023-02-22T14:20:10.422Z"
   },
   {
    "duration": 12,
    "start_time": "2023-02-22T14:20:10.436Z"
   },
   {
    "duration": 13,
    "start_time": "2023-02-22T14:20:10.450Z"
   },
   {
    "duration": 10,
    "start_time": "2023-02-22T14:20:10.466Z"
   },
   {
    "duration": 8,
    "start_time": "2023-02-22T14:20:10.478Z"
   },
   {
    "duration": 9,
    "start_time": "2023-02-22T14:20:10.488Z"
   },
   {
    "duration": 7,
    "start_time": "2023-02-22T14:20:10.502Z"
   },
   {
    "duration": 6,
    "start_time": "2023-02-22T14:20:10.511Z"
   },
   {
    "duration": 58,
    "start_time": "2023-02-22T14:20:10.519Z"
   },
   {
    "duration": 33815,
    "start_time": "2023-02-22T14:20:10.579Z"
   },
   {
    "duration": 182853,
    "start_time": "2023-02-22T14:20:44.397Z"
   },
   {
    "duration": 2486,
    "start_time": "2023-02-22T14:23:47.252Z"
   },
   {
    "duration": 6,
    "start_time": "2023-02-22T14:23:49.740Z"
   },
   {
    "duration": 89,
    "start_time": "2023-02-22T14:23:49.748Z"
   },
   {
    "duration": 43,
    "start_time": "2023-02-22T14:23:49.839Z"
   },
   {
    "duration": 1897,
    "start_time": "2023-02-22T14:23:49.884Z"
   },
   {
    "duration": 79,
    "start_time": "2023-02-22T14:23:51.783Z"
   },
   {
    "duration": 1845,
    "start_time": "2023-02-22T14:25:31.312Z"
   },
   {
    "duration": 1392,
    "start_time": "2023-02-22T14:25:33.159Z"
   },
   {
    "duration": 18,
    "start_time": "2023-02-22T14:25:34.553Z"
   },
   {
    "duration": 581,
    "start_time": "2023-02-22T14:25:34.574Z"
   },
   {
    "duration": 20,
    "start_time": "2023-02-22T14:25:35.158Z"
   },
   {
    "duration": 313,
    "start_time": "2023-02-22T14:25:35.236Z"
   },
   {
    "duration": 21,
    "start_time": "2023-02-22T14:25:35.551Z"
   },
   {
    "duration": 286,
    "start_time": "2023-02-22T14:25:35.574Z"
   },
   {
    "duration": 27,
    "start_time": "2023-02-22T14:25:35.863Z"
   },
   {
    "duration": 193,
    "start_time": "2023-02-22T14:25:35.894Z"
   },
   {
    "duration": 113,
    "start_time": "2023-02-22T14:25:36.089Z"
   },
   {
    "duration": 4,
    "start_time": "2023-02-22T14:25:36.203Z"
   },
   {
    "duration": 62,
    "start_time": "2023-02-22T14:25:36.209Z"
   },
   {
    "duration": 39,
    "start_time": "2023-02-22T14:25:36.273Z"
   },
   {
    "duration": 18,
    "start_time": "2023-02-22T14:25:36.314Z"
   },
   {
    "duration": 32,
    "start_time": "2023-02-22T14:25:36.335Z"
   },
   {
    "duration": 11,
    "start_time": "2023-02-22T14:25:36.369Z"
   },
   {
    "duration": 26,
    "start_time": "2023-02-22T14:25:36.382Z"
   },
   {
    "duration": 13,
    "start_time": "2023-02-22T14:25:36.410Z"
   },
   {
    "duration": 26,
    "start_time": "2023-02-22T14:25:36.425Z"
   },
   {
    "duration": 27,
    "start_time": "2023-02-22T14:25:36.453Z"
   },
   {
    "duration": 12,
    "start_time": "2023-02-22T14:25:36.482Z"
   },
   {
    "duration": 15,
    "start_time": "2023-02-22T14:25:36.496Z"
   },
   {
    "duration": 11,
    "start_time": "2023-02-22T14:25:36.513Z"
   },
   {
    "duration": 32,
    "start_time": "2023-02-22T14:25:36.526Z"
   },
   {
    "duration": 11,
    "start_time": "2023-02-22T14:25:36.560Z"
   },
   {
    "duration": 939,
    "start_time": "2023-02-22T14:25:36.573Z"
   },
   {
    "duration": 770,
    "start_time": "2023-02-22T14:25:37.517Z"
   },
   {
    "duration": 1080,
    "start_time": "2023-02-22T14:25:38.290Z"
   },
   {
    "duration": 468,
    "start_time": "2023-02-22T14:25:39.372Z"
   },
   {
    "duration": 33,
    "start_time": "2023-02-22T14:25:39.842Z"
   },
   {
    "duration": 1184,
    "start_time": "2023-02-22T14:25:39.879Z"
   },
   {
    "duration": 15,
    "start_time": "2023-02-22T14:25:41.065Z"
   },
   {
    "duration": 1222,
    "start_time": "2023-02-22T14:25:41.082Z"
   },
   {
    "duration": 7,
    "start_time": "2023-02-22T14:25:42.306Z"
   },
   {
    "duration": 9,
    "start_time": "2023-02-22T14:25:42.315Z"
   },
   {
    "duration": 19,
    "start_time": "2023-02-22T14:25:42.325Z"
   },
   {
    "duration": 9,
    "start_time": "2023-02-22T14:25:42.346Z"
   },
   {
    "duration": 8,
    "start_time": "2023-02-22T14:25:42.357Z"
   },
   {
    "duration": 8,
    "start_time": "2023-02-22T14:25:42.367Z"
   },
   {
    "duration": 6,
    "start_time": "2023-02-22T14:25:42.377Z"
   },
   {
    "duration": 5,
    "start_time": "2023-02-22T14:25:42.385Z"
   },
   {
    "duration": 47,
    "start_time": "2023-02-22T14:25:42.393Z"
   },
   {
    "duration": 32087,
    "start_time": "2023-02-22T14:25:42.443Z"
   },
   {
    "duration": 145,
    "start_time": "2023-02-22T14:26:14.532Z"
   },
   {
    "duration": 0,
    "start_time": "2023-02-22T14:26:14.679Z"
   },
   {
    "duration": 0,
    "start_time": "2023-02-22T14:26:14.681Z"
   },
   {
    "duration": 0,
    "start_time": "2023-02-22T14:26:14.682Z"
   },
   {
    "duration": 0,
    "start_time": "2023-02-22T14:26:14.682Z"
   },
   {
    "duration": 0,
    "start_time": "2023-02-22T14:26:14.683Z"
   },
   {
    "duration": 0,
    "start_time": "2023-02-22T14:26:14.684Z"
   },
   {
    "duration": 18,
    "start_time": "2023-02-22T14:27:23.539Z"
   },
   {
    "duration": 186007,
    "start_time": "2023-02-22T14:27:35.698Z"
   },
   {
    "duration": 1458,
    "start_time": "2023-02-22T14:31:32.158Z"
   },
   {
    "duration": 732,
    "start_time": "2023-02-22T14:31:33.619Z"
   },
   {
    "duration": 19,
    "start_time": "2023-02-22T14:31:34.353Z"
   },
   {
    "duration": 278,
    "start_time": "2023-02-22T14:31:34.375Z"
   },
   {
    "duration": 15,
    "start_time": "2023-02-22T14:31:34.655Z"
   },
   {
    "duration": 145,
    "start_time": "2023-02-22T14:31:34.672Z"
   },
   {
    "duration": 27,
    "start_time": "2023-02-22T14:31:34.819Z"
   },
   {
    "duration": 281,
    "start_time": "2023-02-22T14:31:34.847Z"
   },
   {
    "duration": 26,
    "start_time": "2023-02-22T14:31:35.131Z"
   },
   {
    "duration": 145,
    "start_time": "2023-02-22T14:31:35.162Z"
   },
   {
    "duration": 107,
    "start_time": "2023-02-22T14:31:35.309Z"
   },
   {
    "duration": 5,
    "start_time": "2023-02-22T14:31:35.418Z"
   },
   {
    "duration": 33,
    "start_time": "2023-02-22T14:31:35.436Z"
   },
   {
    "duration": 17,
    "start_time": "2023-02-22T14:31:35.471Z"
   },
   {
    "duration": 25,
    "start_time": "2023-02-22T14:31:35.490Z"
   },
   {
    "duration": 12,
    "start_time": "2023-02-22T14:31:35.517Z"
   },
   {
    "duration": 6,
    "start_time": "2023-02-22T14:31:35.530Z"
   },
   {
    "duration": 7,
    "start_time": "2023-02-22T14:31:35.537Z"
   },
   {
    "duration": 14,
    "start_time": "2023-02-22T14:31:35.546Z"
   },
   {
    "duration": 19,
    "start_time": "2023-02-22T14:31:35.562Z"
   },
   {
    "duration": 16,
    "start_time": "2023-02-22T14:31:35.583Z"
   },
   {
    "duration": 10,
    "start_time": "2023-02-22T14:31:35.602Z"
   },
   {
    "duration": 23,
    "start_time": "2023-02-22T14:31:35.614Z"
   },
   {
    "duration": 10,
    "start_time": "2023-02-22T14:31:35.638Z"
   },
   {
    "duration": 19,
    "start_time": "2023-02-22T14:31:35.650Z"
   },
   {
    "duration": 10,
    "start_time": "2023-02-22T14:31:35.671Z"
   },
   {
    "duration": 869,
    "start_time": "2023-02-22T14:31:35.683Z"
   },
   {
    "duration": 755,
    "start_time": "2023-02-22T14:31:36.556Z"
   },
   {
    "duration": 907,
    "start_time": "2023-02-22T14:31:37.313Z"
   },
   {
    "duration": 428,
    "start_time": "2023-02-22T14:31:38.222Z"
   },
   {
    "duration": 33,
    "start_time": "2023-02-22T14:31:38.653Z"
   },
   {
    "duration": 1186,
    "start_time": "2023-02-22T14:31:38.688Z"
   },
   {
    "duration": 18,
    "start_time": "2023-02-22T14:31:39.876Z"
   },
   {
    "duration": 1209,
    "start_time": "2023-02-22T14:31:39.896Z"
   },
   {
    "duration": 7,
    "start_time": "2023-02-22T14:31:41.107Z"
   },
   {
    "duration": 14,
    "start_time": "2023-02-22T14:31:41.116Z"
   },
   {
    "duration": 35,
    "start_time": "2023-02-22T14:31:41.132Z"
   },
   {
    "duration": 39,
    "start_time": "2023-02-22T14:31:41.169Z"
   },
   {
    "duration": 35,
    "start_time": "2023-02-22T14:31:41.210Z"
   },
   {
    "duration": 29,
    "start_time": "2023-02-22T14:31:41.247Z"
   },
   {
    "duration": 33,
    "start_time": "2023-02-22T14:31:41.278Z"
   },
   {
    "duration": 43,
    "start_time": "2023-02-22T14:31:41.313Z"
   },
   {
    "duration": 60,
    "start_time": "2023-02-22T14:31:41.358Z"
   },
   {
    "duration": 33281,
    "start_time": "2023-02-22T14:31:41.420Z"
   },
   {
    "duration": 181700,
    "start_time": "2023-02-22T14:32:14.702Z"
   },
   {
    "duration": 2246,
    "start_time": "2023-02-22T14:35:16.404Z"
   },
   {
    "duration": 5,
    "start_time": "2023-02-22T14:35:18.651Z"
   },
   {
    "duration": 27,
    "start_time": "2023-02-22T14:35:18.658Z"
   },
   {
    "duration": 32,
    "start_time": "2023-02-22T14:35:18.688Z"
   },
   {
    "duration": 1871,
    "start_time": "2023-02-22T14:35:18.722Z"
   },
   {
    "duration": 93,
    "start_time": "2023-02-22T14:35:20.595Z"
   },
   {
    "duration": 102772,
    "start_time": "2023-02-22T14:48:18.884Z"
   }
  ],
  "kernelspec": {
   "display_name": "Python 3 (ipykernel)",
   "language": "python",
   "name": "python3"
  },
  "language_info": {
   "codemirror_mode": {
    "name": "ipython",
    "version": 3
   },
   "file_extension": ".py",
   "mimetype": "text/x-python",
   "name": "python",
   "nbconvert_exporter": "python",
   "pygments_lexer": "ipython3",
   "version": "3.9.13"
  },
  "toc": {
   "base_numbering": 1,
   "nav_menu": {},
   "number_sections": true,
   "sideBar": true,
   "skip_h1_title": true,
   "title_cell": "Содержание",
   "title_sidebar": "Contents",
   "toc_cell": true,
   "toc_position": {
    "height": "calc(100% - 180px)",
    "left": "10px",
    "top": "150px",
    "width": "165px"
   },
   "toc_section_display": true,
   "toc_window_display": true
  }
 },
 "nbformat": 4,
 "nbformat_minor": 2
}
