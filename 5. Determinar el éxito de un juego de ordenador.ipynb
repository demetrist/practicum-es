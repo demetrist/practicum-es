{
 "cells": [
  {
   "cell_type": "markdown",
   "metadata": {},
   "source": [
    "# Proyecto prefabricado 1\n",
    "\n",
    "#### Descripción y propósito\n",
    "\n",
    "Usted trabaja en la tienda en línea «Strimchik», que vende juegos de ordenador en todo el mundo. Los datos de código abierto sobre ventas de juegos, evaluaciones de usuarios y expertos, géneros y plataformas (como Xbox o PlayStation) están disponibles. Necesitas identificar patrones de éxito. Esto te permitirá apostar por un producto potencialmente popular y planificar campañas publicitarias.\n"
   ]
  },
  {
   "cell_type": "markdown",
   "metadata": {},
   "source": [
    "## Ver conjunto de datos\n",
    "\n",
    "Abramos y estudiemos los datos preparados para nosotros."
   ]
  },
  {
   "cell_type": "code",
   "execution_count": 1,
   "metadata": {},
   "outputs": [
    {
     "name": "stdout",
     "output_type": "stream",
     "text": [
      "<class 'pandas.core.frame.DataFrame'>\n",
      "RangeIndex: 16715 entries, 0 to 16714\n",
      "Data columns (total 11 columns):\n",
      " #   Column           Non-Null Count  Dtype  \n",
      "---  ------           --------------  -----  \n",
      " 0   Name             16713 non-null  object \n",
      " 1   Platform         16715 non-null  object \n",
      " 2   Year_of_Release  16446 non-null  float64\n",
      " 3   Genre            16713 non-null  object \n",
      " 4   NA_sales         16715 non-null  float64\n",
      " 5   EU_sales         16715 non-null  float64\n",
      " 6   JP_sales         16715 non-null  float64\n",
      " 7   Other_sales      16715 non-null  float64\n",
      " 8   Critic_Score     8137 non-null   float64\n",
      " 9   User_Score       10014 non-null  object \n",
      " 10  Rating           9949 non-null   object \n",
      "dtypes: float64(6), object(5)\n",
      "memory usage: 1.4+ MB\n"
     ]
    }
   ],
   "source": [
    "import pandas as pd\n",
    "import matplotlib.pyplot as plt\n",
    "import seaborn as sns\n",
    "import numpy as np\n",
    "from scipy import stats as st\n",
    "data = pd.read_csv('/datasets/games.csv')\n",
    "data.info()"
   ]
  },
  {
   "cell_type": "markdown",
   "metadata": {},
   "source": [
    "La fecha contiene 11 columnas que contienen datos del juego: título, plataforma del juego, año de lanzamiento, género, ventas en América del Norte, Europa y Japón (mil. copias), otras ventas, puntuaciones críticas, clasificaciones de jugadores y clasificaciones de edad.\n",
    "\n",
    "En la columna \"Título\" 2 pases - interesante ¿cómo puede el juego ser sin título? Lo más probable es que haya un error.\n",
    "Unos 250 juegos no tienen año de lanzamiento. Veremos si los necesitamos más tarde.\n",
    "Dos juegos no tienen un género.\n",
    "Las omisiones más fuertes se pueden ver en las puntuaciones críticas y de los jugadores, así como en la clasificación por edades.\n",
    "\n",
    "En los tipos de datos es necesaria la columna \"el Año del lanzamiento\" - el número entero, y \"la Calificación de los jugadores\" - numérico, tanto como en \"la Calificación de los críticos\"."
   ]
  },
  {
   "cell_type": "markdown",
   "metadata": {},
   "source": [
    "## Preparación de datos\n",
    "\n",
    "#### Cambiar el nombre de las columnas\n",
    "Minúsculas para todas las columnas."
   ]
  },
  {
   "cell_type": "code",
   "execution_count": 2,
   "metadata": {},
   "outputs": [],
   "source": [
    "data.columns = map(str.lower, data.columns)"
   ]
  },
  {
   "cell_type": "code",
   "execution_count": 3,
   "metadata": {},
   "outputs": [
    {
     "data": {
      "text/html": [
       "<div>\n",
       "<style scoped>\n",
       "    .dataframe tbody tr th:only-of-type {\n",
       "        vertical-align: middle;\n",
       "    }\n",
       "\n",
       "    .dataframe tbody tr th {\n",
       "        vertical-align: top;\n",
       "    }\n",
       "\n",
       "    .dataframe thead th {\n",
       "        text-align: right;\n",
       "    }\n",
       "</style>\n",
       "<table border=\"1\" class=\"dataframe\">\n",
       "  <thead>\n",
       "    <tr style=\"text-align: right;\">\n",
       "      <th></th>\n",
       "      <th>name</th>\n",
       "      <th>platform</th>\n",
       "      <th>year_of_release</th>\n",
       "      <th>genre</th>\n",
       "      <th>na_sales</th>\n",
       "      <th>eu_sales</th>\n",
       "      <th>jp_sales</th>\n",
       "      <th>other_sales</th>\n",
       "      <th>critic_score</th>\n",
       "      <th>user_score</th>\n",
       "      <th>rating</th>\n",
       "    </tr>\n",
       "  </thead>\n",
       "  <tbody>\n",
       "    <tr>\n",
       "      <th>0</th>\n",
       "      <td>Wii Sports</td>\n",
       "      <td>Wii</td>\n",
       "      <td>2006.0</td>\n",
       "      <td>Sports</td>\n",
       "      <td>41.36</td>\n",
       "      <td>28.96</td>\n",
       "      <td>3.77</td>\n",
       "      <td>8.45</td>\n",
       "      <td>76.0</td>\n",
       "      <td>8</td>\n",
       "      <td>E</td>\n",
       "    </tr>\n",
       "    <tr>\n",
       "      <th>1</th>\n",
       "      <td>Super Mario Bros.</td>\n",
       "      <td>NES</td>\n",
       "      <td>1985.0</td>\n",
       "      <td>Platform</td>\n",
       "      <td>29.08</td>\n",
       "      <td>3.58</td>\n",
       "      <td>6.81</td>\n",
       "      <td>0.77</td>\n",
       "      <td>NaN</td>\n",
       "      <td>NaN</td>\n",
       "      <td>NaN</td>\n",
       "    </tr>\n",
       "    <tr>\n",
       "      <th>2</th>\n",
       "      <td>Mario Kart Wii</td>\n",
       "      <td>Wii</td>\n",
       "      <td>2008.0</td>\n",
       "      <td>Racing</td>\n",
       "      <td>15.68</td>\n",
       "      <td>12.76</td>\n",
       "      <td>3.79</td>\n",
       "      <td>3.29</td>\n",
       "      <td>82.0</td>\n",
       "      <td>8.3</td>\n",
       "      <td>E</td>\n",
       "    </tr>\n",
       "    <tr>\n",
       "      <th>3</th>\n",
       "      <td>Wii Sports Resort</td>\n",
       "      <td>Wii</td>\n",
       "      <td>2009.0</td>\n",
       "      <td>Sports</td>\n",
       "      <td>15.61</td>\n",
       "      <td>10.93</td>\n",
       "      <td>3.28</td>\n",
       "      <td>2.95</td>\n",
       "      <td>80.0</td>\n",
       "      <td>8</td>\n",
       "      <td>E</td>\n",
       "    </tr>\n",
       "    <tr>\n",
       "      <th>4</th>\n",
       "      <td>Pokemon Red/Pokemon Blue</td>\n",
       "      <td>GB</td>\n",
       "      <td>1996.0</td>\n",
       "      <td>Role-Playing</td>\n",
       "      <td>11.27</td>\n",
       "      <td>8.89</td>\n",
       "      <td>10.22</td>\n",
       "      <td>1.00</td>\n",
       "      <td>NaN</td>\n",
       "      <td>NaN</td>\n",
       "      <td>NaN</td>\n",
       "    </tr>\n",
       "  </tbody>\n",
       "</table>\n",
       "</div>"
      ],
      "text/plain": [
       "                       name platform  year_of_release         genre  na_sales  \\\n",
       "0                Wii Sports      Wii           2006.0        Sports     41.36   \n",
       "1         Super Mario Bros.      NES           1985.0      Platform     29.08   \n",
       "2            Mario Kart Wii      Wii           2008.0        Racing     15.68   \n",
       "3         Wii Sports Resort      Wii           2009.0        Sports     15.61   \n",
       "4  Pokemon Red/Pokemon Blue       GB           1996.0  Role-Playing     11.27   \n",
       "\n",
       "   eu_sales  jp_sales  other_sales  critic_score user_score rating  \n",
       "0     28.96      3.77         8.45          76.0          8      E  \n",
       "1      3.58      6.81         0.77           NaN        NaN    NaN  \n",
       "2     12.76      3.79         3.29          82.0        8.3      E  \n",
       "3     10.93      3.28         2.95          80.0          8      E  \n",
       "4      8.89     10.22         1.00           NaN        NaN    NaN  "
      ]
     },
     "execution_count": 3,
     "metadata": {},
     "output_type": "execute_result"
    }
   ],
   "source": [
    "data.head(5)"
   ]
  },
  {
   "cell_type": "markdown",
   "metadata": {},
   "source": [
    "### Convertir tipos de datos\n",
    "\n",
    "Como ya se mencionó anteriormente, vamos a cambiar los tipos de datos para las columnas \"Año de lanzamiento\" a todo y para \"Clasificación de los jugadores\" a número real.\n",
    "\n",
    "#### Trabajando con el año de columna\n",
    "Antes de cambiar el tipo de años de lanzamiento, echa un vistazo a los valores que faltan. "
   ]
  },
  {
   "cell_type": "code",
   "execution_count": 4,
   "metadata": {},
   "outputs": [
    {
     "data": {
      "text/html": [
       "<div>\n",
       "<style scoped>\n",
       "    .dataframe tbody tr th:only-of-type {\n",
       "        vertical-align: middle;\n",
       "    }\n",
       "\n",
       "    .dataframe tbody tr th {\n",
       "        vertical-align: top;\n",
       "    }\n",
       "\n",
       "    .dataframe thead th {\n",
       "        text-align: right;\n",
       "    }\n",
       "</style>\n",
       "<table border=\"1\" class=\"dataframe\">\n",
       "  <thead>\n",
       "    <tr style=\"text-align: right;\">\n",
       "      <th></th>\n",
       "      <th>name</th>\n",
       "      <th>platform</th>\n",
       "      <th>year_of_release</th>\n",
       "      <th>genre</th>\n",
       "      <th>na_sales</th>\n",
       "      <th>eu_sales</th>\n",
       "      <th>jp_sales</th>\n",
       "      <th>other_sales</th>\n",
       "      <th>critic_score</th>\n",
       "      <th>user_score</th>\n",
       "      <th>rating</th>\n",
       "    </tr>\n",
       "  </thead>\n",
       "  <tbody>\n",
       "    <tr>\n",
       "      <th>183</th>\n",
       "      <td>Madden NFL 2004</td>\n",
       "      <td>PS2</td>\n",
       "      <td>NaN</td>\n",
       "      <td>Sports</td>\n",
       "      <td>4.26</td>\n",
       "      <td>0.26</td>\n",
       "      <td>0.01</td>\n",
       "      <td>0.71</td>\n",
       "      <td>94.0</td>\n",
       "      <td>8.5</td>\n",
       "      <td>E</td>\n",
       "    </tr>\n",
       "    <tr>\n",
       "      <th>377</th>\n",
       "      <td>FIFA Soccer 2004</td>\n",
       "      <td>PS2</td>\n",
       "      <td>NaN</td>\n",
       "      <td>Sports</td>\n",
       "      <td>0.59</td>\n",
       "      <td>2.36</td>\n",
       "      <td>0.04</td>\n",
       "      <td>0.51</td>\n",
       "      <td>84.0</td>\n",
       "      <td>6.4</td>\n",
       "      <td>E</td>\n",
       "    </tr>\n",
       "    <tr>\n",
       "      <th>456</th>\n",
       "      <td>LEGO Batman: The Videogame</td>\n",
       "      <td>Wii</td>\n",
       "      <td>NaN</td>\n",
       "      <td>Action</td>\n",
       "      <td>1.80</td>\n",
       "      <td>0.97</td>\n",
       "      <td>0.00</td>\n",
       "      <td>0.29</td>\n",
       "      <td>74.0</td>\n",
       "      <td>7.9</td>\n",
       "      <td>E10+</td>\n",
       "    </tr>\n",
       "    <tr>\n",
       "      <th>475</th>\n",
       "      <td>wwe Smackdown vs. Raw 2006</td>\n",
       "      <td>PS2</td>\n",
       "      <td>NaN</td>\n",
       "      <td>Fighting</td>\n",
       "      <td>1.57</td>\n",
       "      <td>1.02</td>\n",
       "      <td>0.00</td>\n",
       "      <td>0.41</td>\n",
       "      <td>NaN</td>\n",
       "      <td>NaN</td>\n",
       "      <td>NaN</td>\n",
       "    </tr>\n",
       "    <tr>\n",
       "      <th>609</th>\n",
       "      <td>Space Invaders</td>\n",
       "      <td>2600</td>\n",
       "      <td>NaN</td>\n",
       "      <td>Shooter</td>\n",
       "      <td>2.36</td>\n",
       "      <td>0.14</td>\n",
       "      <td>0.00</td>\n",
       "      <td>0.03</td>\n",
       "      <td>NaN</td>\n",
       "      <td>NaN</td>\n",
       "      <td>NaN</td>\n",
       "    </tr>\n",
       "    <tr>\n",
       "      <th>...</th>\n",
       "      <td>...</td>\n",
       "      <td>...</td>\n",
       "      <td>...</td>\n",
       "      <td>...</td>\n",
       "      <td>...</td>\n",
       "      <td>...</td>\n",
       "      <td>...</td>\n",
       "      <td>...</td>\n",
       "      <td>...</td>\n",
       "      <td>...</td>\n",
       "      <td>...</td>\n",
       "    </tr>\n",
       "    <tr>\n",
       "      <th>16373</th>\n",
       "      <td>PDC World Championship Darts 2008</td>\n",
       "      <td>PSP</td>\n",
       "      <td>NaN</td>\n",
       "      <td>Sports</td>\n",
       "      <td>0.01</td>\n",
       "      <td>0.00</td>\n",
       "      <td>0.00</td>\n",
       "      <td>0.00</td>\n",
       "      <td>43.0</td>\n",
       "      <td>tbd</td>\n",
       "      <td>E10+</td>\n",
       "    </tr>\n",
       "    <tr>\n",
       "      <th>16405</th>\n",
       "      <td>Freaky Flyers</td>\n",
       "      <td>GC</td>\n",
       "      <td>NaN</td>\n",
       "      <td>Racing</td>\n",
       "      <td>0.01</td>\n",
       "      <td>0.00</td>\n",
       "      <td>0.00</td>\n",
       "      <td>0.00</td>\n",
       "      <td>69.0</td>\n",
       "      <td>6.5</td>\n",
       "      <td>T</td>\n",
       "    </tr>\n",
       "    <tr>\n",
       "      <th>16448</th>\n",
       "      <td>Inversion</td>\n",
       "      <td>PC</td>\n",
       "      <td>NaN</td>\n",
       "      <td>Shooter</td>\n",
       "      <td>0.01</td>\n",
       "      <td>0.00</td>\n",
       "      <td>0.00</td>\n",
       "      <td>0.00</td>\n",
       "      <td>59.0</td>\n",
       "      <td>6.7</td>\n",
       "      <td>M</td>\n",
       "    </tr>\n",
       "    <tr>\n",
       "      <th>16458</th>\n",
       "      <td>Hakuouki: Shinsengumi Kitan</td>\n",
       "      <td>PS3</td>\n",
       "      <td>NaN</td>\n",
       "      <td>Adventure</td>\n",
       "      <td>0.01</td>\n",
       "      <td>0.00</td>\n",
       "      <td>0.00</td>\n",
       "      <td>0.00</td>\n",
       "      <td>NaN</td>\n",
       "      <td>NaN</td>\n",
       "      <td>NaN</td>\n",
       "    </tr>\n",
       "    <tr>\n",
       "      <th>16522</th>\n",
       "      <td>Virtua Quest</td>\n",
       "      <td>GC</td>\n",
       "      <td>NaN</td>\n",
       "      <td>Role-Playing</td>\n",
       "      <td>0.01</td>\n",
       "      <td>0.00</td>\n",
       "      <td>0.00</td>\n",
       "      <td>0.00</td>\n",
       "      <td>55.0</td>\n",
       "      <td>5.5</td>\n",
       "      <td>T</td>\n",
       "    </tr>\n",
       "  </tbody>\n",
       "</table>\n",
       "<p>269 rows × 11 columns</p>\n",
       "</div>"
      ],
      "text/plain": [
       "                                    name platform  year_of_release  \\\n",
       "183                      Madden NFL 2004      PS2              NaN   \n",
       "377                     FIFA Soccer 2004      PS2              NaN   \n",
       "456           LEGO Batman: The Videogame      Wii              NaN   \n",
       "475           wwe Smackdown vs. Raw 2006      PS2              NaN   \n",
       "609                       Space Invaders     2600              NaN   \n",
       "...                                  ...      ...              ...   \n",
       "16373  PDC World Championship Darts 2008      PSP              NaN   \n",
       "16405                      Freaky Flyers       GC              NaN   \n",
       "16448                          Inversion       PC              NaN   \n",
       "16458        Hakuouki: Shinsengumi Kitan      PS3              NaN   \n",
       "16522                       Virtua Quest       GC              NaN   \n",
       "\n",
       "              genre  na_sales  eu_sales  jp_sales  other_sales  critic_score  \\\n",
       "183          Sports      4.26      0.26      0.01         0.71          94.0   \n",
       "377          Sports      0.59      2.36      0.04         0.51          84.0   \n",
       "456          Action      1.80      0.97      0.00         0.29          74.0   \n",
       "475        Fighting      1.57      1.02      0.00         0.41           NaN   \n",
       "609         Shooter      2.36      0.14      0.00         0.03           NaN   \n",
       "...             ...       ...       ...       ...          ...           ...   \n",
       "16373        Sports      0.01      0.00      0.00         0.00          43.0   \n",
       "16405        Racing      0.01      0.00      0.00         0.00          69.0   \n",
       "16448       Shooter      0.01      0.00      0.00         0.00          59.0   \n",
       "16458     Adventure      0.01      0.00      0.00         0.00           NaN   \n",
       "16522  Role-Playing      0.01      0.00      0.00         0.00          55.0   \n",
       "\n",
       "      user_score rating  \n",
       "183          8.5      E  \n",
       "377          6.4      E  \n",
       "456          7.9   E10+  \n",
       "475          NaN    NaN  \n",
       "609          NaN    NaN  \n",
       "...          ...    ...  \n",
       "16373        tbd   E10+  \n",
       "16405        6.5      T  \n",
       "16448        6.7      M  \n",
       "16458        NaN    NaN  \n",
       "16522        5.5      T  \n",
       "\n",
       "[269 rows x 11 columns]"
      ]
     },
     "execution_count": 4,
     "metadata": {},
     "output_type": "execute_result"
    }
   ],
   "source": [
    "data[data['year_of_release'].isnull()]"
   ]
  },
  {
   "cell_type": "markdown",
   "metadata": {},
   "source": [
    "Su 269 - esto es aproximadamente el 1% del número total. Creo que se pueden quitar de forma segura, porque no deben afectar el resultado general. No deben ser. Sin embargo, en algunos títulos se puede ver que el año simplemente no se extiende al campo requerido. Veamos cuántas filas de este tipo y mover los datos al campo deseado."
   ]
  },
  {
   "cell_type": "code",
   "execution_count": 5,
   "metadata": {},
   "outputs": [],
   "source": [
    "data0 = (data[data['year_of_release'].isna() == True])"
   ]
  },
  {
   "cell_type": "code",
   "execution_count": 6,
   "metadata": {},
   "outputs": [
    {
     "data": {
      "text/html": [
       "<div>\n",
       "<style scoped>\n",
       "    .dataframe tbody tr th:only-of-type {\n",
       "        vertical-align: middle;\n",
       "    }\n",
       "\n",
       "    .dataframe tbody tr th {\n",
       "        vertical-align: top;\n",
       "    }\n",
       "\n",
       "    .dataframe thead th {\n",
       "        text-align: right;\n",
       "    }\n",
       "</style>\n",
       "<table border=\"1\" class=\"dataframe\">\n",
       "  <thead>\n",
       "    <tr style=\"text-align: right;\">\n",
       "      <th></th>\n",
       "      <th>name</th>\n",
       "      <th>platform</th>\n",
       "      <th>year_of_release</th>\n",
       "      <th>genre</th>\n",
       "      <th>na_sales</th>\n",
       "      <th>eu_sales</th>\n",
       "      <th>jp_sales</th>\n",
       "      <th>other_sales</th>\n",
       "      <th>critic_score</th>\n",
       "      <th>user_score</th>\n",
       "      <th>rating</th>\n",
       "    </tr>\n",
       "  </thead>\n",
       "  <tbody>\n",
       "    <tr>\n",
       "      <th>183</th>\n",
       "      <td>Madden NFL 2004</td>\n",
       "      <td>PS2</td>\n",
       "      <td>NaN</td>\n",
       "      <td>Sports</td>\n",
       "      <td>4.26</td>\n",
       "      <td>0.26</td>\n",
       "      <td>0.01</td>\n",
       "      <td>0.71</td>\n",
       "      <td>94.0</td>\n",
       "      <td>8.5</td>\n",
       "      <td>E</td>\n",
       "    </tr>\n",
       "    <tr>\n",
       "      <th>377</th>\n",
       "      <td>FIFA Soccer 2004</td>\n",
       "      <td>PS2</td>\n",
       "      <td>NaN</td>\n",
       "      <td>Sports</td>\n",
       "      <td>0.59</td>\n",
       "      <td>2.36</td>\n",
       "      <td>0.04</td>\n",
       "      <td>0.51</td>\n",
       "      <td>84.0</td>\n",
       "      <td>6.4</td>\n",
       "      <td>E</td>\n",
       "    </tr>\n",
       "    <tr>\n",
       "      <th>475</th>\n",
       "      <td>wwe Smackdown vs. Raw 2006</td>\n",
       "      <td>PS2</td>\n",
       "      <td>NaN</td>\n",
       "      <td>Fighting</td>\n",
       "      <td>1.57</td>\n",
       "      <td>1.02</td>\n",
       "      <td>0.00</td>\n",
       "      <td>0.41</td>\n",
       "      <td>NaN</td>\n",
       "      <td>NaN</td>\n",
       "      <td>NaN</td>\n",
       "    </tr>\n",
       "    <tr>\n",
       "      <th>1650</th>\n",
       "      <td>NASCAR Thunder 2003</td>\n",
       "      <td>PS2</td>\n",
       "      <td>NaN</td>\n",
       "      <td>Racing</td>\n",
       "      <td>0.60</td>\n",
       "      <td>0.46</td>\n",
       "      <td>0.00</td>\n",
       "      <td>0.16</td>\n",
       "      <td>84.0</td>\n",
       "      <td>8.7</td>\n",
       "      <td>E</td>\n",
       "    </tr>\n",
       "    <tr>\n",
       "      <th>2492</th>\n",
       "      <td>MLB SlugFest 20-03</td>\n",
       "      <td>PS2</td>\n",
       "      <td>NaN</td>\n",
       "      <td>Sports</td>\n",
       "      <td>0.41</td>\n",
       "      <td>0.32</td>\n",
       "      <td>0.00</td>\n",
       "      <td>0.11</td>\n",
       "      <td>77.0</td>\n",
       "      <td>8.2</td>\n",
       "      <td>E</td>\n",
       "    </tr>\n",
       "    <tr>\n",
       "      <th>2572</th>\n",
       "      <td>PES 2009: Pro Evolution Soccer</td>\n",
       "      <td>PSP</td>\n",
       "      <td>NaN</td>\n",
       "      <td>Sports</td>\n",
       "      <td>0.04</td>\n",
       "      <td>0.33</td>\n",
       "      <td>0.26</td>\n",
       "      <td>0.17</td>\n",
       "      <td>NaN</td>\n",
       "      <td>NaN</td>\n",
       "      <td>NaN</td>\n",
       "    </tr>\n",
       "    <tr>\n",
       "      <th>3486</th>\n",
       "      <td>Madden NFL 2002</td>\n",
       "      <td>XB</td>\n",
       "      <td>NaN</td>\n",
       "      <td>Sports</td>\n",
       "      <td>0.53</td>\n",
       "      <td>0.02</td>\n",
       "      <td>0.00</td>\n",
       "      <td>0.03</td>\n",
       "      <td>90.0</td>\n",
       "      <td>8.1</td>\n",
       "      <td>E</td>\n",
       "    </tr>\n",
       "    <tr>\n",
       "      <th>4775</th>\n",
       "      <td>NFL GameDay 2003</td>\n",
       "      <td>PS2</td>\n",
       "      <td>NaN</td>\n",
       "      <td>Sports</td>\n",
       "      <td>0.20</td>\n",
       "      <td>0.15</td>\n",
       "      <td>0.00</td>\n",
       "      <td>0.05</td>\n",
       "      <td>60.0</td>\n",
       "      <td>tbd</td>\n",
       "      <td>E</td>\n",
       "    </tr>\n",
       "    <tr>\n",
       "      <th>5156</th>\n",
       "      <td>NBA Live 2003</td>\n",
       "      <td>XB</td>\n",
       "      <td>NaN</td>\n",
       "      <td>Sports</td>\n",
       "      <td>0.31</td>\n",
       "      <td>0.04</td>\n",
       "      <td>0.00</td>\n",
       "      <td>0.01</td>\n",
       "      <td>82.0</td>\n",
       "      <td>8.8</td>\n",
       "      <td>E</td>\n",
       "    </tr>\n",
       "    <tr>\n",
       "      <th>5336</th>\n",
       "      <td>Tomb Raider (2013)</td>\n",
       "      <td>PC</td>\n",
       "      <td>NaN</td>\n",
       "      <td>Action</td>\n",
       "      <td>0.06</td>\n",
       "      <td>0.25</td>\n",
       "      <td>0.00</td>\n",
       "      <td>0.04</td>\n",
       "      <td>86.0</td>\n",
       "      <td>8.5</td>\n",
       "      <td>M</td>\n",
       "    </tr>\n",
       "    <tr>\n",
       "      <th>5655</th>\n",
       "      <td>All-Star Baseball 2005</td>\n",
       "      <td>PS2</td>\n",
       "      <td>NaN</td>\n",
       "      <td>Sports</td>\n",
       "      <td>0.16</td>\n",
       "      <td>0.12</td>\n",
       "      <td>0.00</td>\n",
       "      <td>0.04</td>\n",
       "      <td>72.0</td>\n",
       "      <td>8.6</td>\n",
       "      <td>E</td>\n",
       "    </tr>\n",
       "    <tr>\n",
       "      <th>5889</th>\n",
       "      <td>NBA Live 2003</td>\n",
       "      <td>GC</td>\n",
       "      <td>NaN</td>\n",
       "      <td>Sports</td>\n",
       "      <td>0.23</td>\n",
       "      <td>0.06</td>\n",
       "      <td>0.00</td>\n",
       "      <td>0.01</td>\n",
       "      <td>82.0</td>\n",
       "      <td>8.2</td>\n",
       "      <td>E</td>\n",
       "    </tr>\n",
       "    <tr>\n",
       "      <th>6954</th>\n",
       "      <td>Jet X20</td>\n",
       "      <td>PS2</td>\n",
       "      <td>NaN</td>\n",
       "      <td>Racing</td>\n",
       "      <td>0.11</td>\n",
       "      <td>0.09</td>\n",
       "      <td>0.00</td>\n",
       "      <td>0.03</td>\n",
       "      <td>NaN</td>\n",
       "      <td>NaN</td>\n",
       "      <td>NaN</td>\n",
       "    </tr>\n",
       "    <tr>\n",
       "      <th>8918</th>\n",
       "      <td>All-Star Baseball 2005</td>\n",
       "      <td>XB</td>\n",
       "      <td>NaN</td>\n",
       "      <td>Sports</td>\n",
       "      <td>0.11</td>\n",
       "      <td>0.03</td>\n",
       "      <td>0.00</td>\n",
       "      <td>0.01</td>\n",
       "      <td>75.0</td>\n",
       "      <td>8.8</td>\n",
       "      <td>E</td>\n",
       "    </tr>\n",
       "    <tr>\n",
       "      <th>13195</th>\n",
       "      <td>Tour de France 2011</td>\n",
       "      <td>X360</td>\n",
       "      <td>NaN</td>\n",
       "      <td>Racing</td>\n",
       "      <td>0.00</td>\n",
       "      <td>0.04</td>\n",
       "      <td>0.00</td>\n",
       "      <td>0.01</td>\n",
       "      <td>46.0</td>\n",
       "      <td>7.6</td>\n",
       "      <td>NaN</td>\n",
       "    </tr>\n",
       "    <tr>\n",
       "      <th>13929</th>\n",
       "      <td>Sega Rally 2006</td>\n",
       "      <td>PS2</td>\n",
       "      <td>NaN</td>\n",
       "      <td>Racing</td>\n",
       "      <td>0.00</td>\n",
       "      <td>0.00</td>\n",
       "      <td>0.04</td>\n",
       "      <td>0.00</td>\n",
       "      <td>NaN</td>\n",
       "      <td>NaN</td>\n",
       "      <td>NaN</td>\n",
       "    </tr>\n",
       "    <tr>\n",
       "      <th>15953</th>\n",
       "      <td>PDC World Championship Darts 2008</td>\n",
       "      <td>DS</td>\n",
       "      <td>NaN</td>\n",
       "      <td>Sports</td>\n",
       "      <td>0.01</td>\n",
       "      <td>0.00</td>\n",
       "      <td>0.00</td>\n",
       "      <td>0.00</td>\n",
       "      <td>NaN</td>\n",
       "      <td>NaN</td>\n",
       "      <td>NaN</td>\n",
       "    </tr>\n",
       "    <tr>\n",
       "      <th>16079</th>\n",
       "      <td>Football Manager 2007</td>\n",
       "      <td>X360</td>\n",
       "      <td>NaN</td>\n",
       "      <td>Sports</td>\n",
       "      <td>0.00</td>\n",
       "      <td>0.01</td>\n",
       "      <td>0.00</td>\n",
       "      <td>0.00</td>\n",
       "      <td>NaN</td>\n",
       "      <td>NaN</td>\n",
       "      <td>NaN</td>\n",
       "    </tr>\n",
       "    <tr>\n",
       "      <th>16373</th>\n",
       "      <td>PDC World Championship Darts 2008</td>\n",
       "      <td>PSP</td>\n",
       "      <td>NaN</td>\n",
       "      <td>Sports</td>\n",
       "      <td>0.01</td>\n",
       "      <td>0.00</td>\n",
       "      <td>0.00</td>\n",
       "      <td>0.00</td>\n",
       "      <td>43.0</td>\n",
       "      <td>tbd</td>\n",
       "      <td>E10+</td>\n",
       "    </tr>\n",
       "  </tbody>\n",
       "</table>\n",
       "</div>"
      ],
      "text/plain": [
       "                                    name platform  year_of_release     genre  \\\n",
       "183                      Madden NFL 2004      PS2              NaN    Sports   \n",
       "377                     FIFA Soccer 2004      PS2              NaN    Sports   \n",
       "475           wwe Smackdown vs. Raw 2006      PS2              NaN  Fighting   \n",
       "1650                 NASCAR Thunder 2003      PS2              NaN    Racing   \n",
       "2492                  MLB SlugFest 20-03      PS2              NaN    Sports   \n",
       "2572      PES 2009: Pro Evolution Soccer      PSP              NaN    Sports   \n",
       "3486                     Madden NFL 2002       XB              NaN    Sports   \n",
       "4775                    NFL GameDay 2003      PS2              NaN    Sports   \n",
       "5156                       NBA Live 2003       XB              NaN    Sports   \n",
       "5336                  Tomb Raider (2013)       PC              NaN    Action   \n",
       "5655              All-Star Baseball 2005      PS2              NaN    Sports   \n",
       "5889                       NBA Live 2003       GC              NaN    Sports   \n",
       "6954                             Jet X20      PS2              NaN    Racing   \n",
       "8918              All-Star Baseball 2005       XB              NaN    Sports   \n",
       "13195                Tour de France 2011     X360              NaN    Racing   \n",
       "13929                    Sega Rally 2006      PS2              NaN    Racing   \n",
       "15953  PDC World Championship Darts 2008       DS              NaN    Sports   \n",
       "16079              Football Manager 2007     X360              NaN    Sports   \n",
       "16373  PDC World Championship Darts 2008      PSP              NaN    Sports   \n",
       "\n",
       "       na_sales  eu_sales  jp_sales  other_sales  critic_score user_score  \\\n",
       "183        4.26      0.26      0.01         0.71          94.0        8.5   \n",
       "377        0.59      2.36      0.04         0.51          84.0        6.4   \n",
       "475        1.57      1.02      0.00         0.41           NaN        NaN   \n",
       "1650       0.60      0.46      0.00         0.16          84.0        8.7   \n",
       "2492       0.41      0.32      0.00         0.11          77.0        8.2   \n",
       "2572       0.04      0.33      0.26         0.17           NaN        NaN   \n",
       "3486       0.53      0.02      0.00         0.03          90.0        8.1   \n",
       "4775       0.20      0.15      0.00         0.05          60.0        tbd   \n",
       "5156       0.31      0.04      0.00         0.01          82.0        8.8   \n",
       "5336       0.06      0.25      0.00         0.04          86.0        8.5   \n",
       "5655       0.16      0.12      0.00         0.04          72.0        8.6   \n",
       "5889       0.23      0.06      0.00         0.01          82.0        8.2   \n",
       "6954       0.11      0.09      0.00         0.03           NaN        NaN   \n",
       "8918       0.11      0.03      0.00         0.01          75.0        8.8   \n",
       "13195      0.00      0.04      0.00         0.01          46.0        7.6   \n",
       "13929      0.00      0.00      0.04         0.00           NaN        NaN   \n",
       "15953      0.01      0.00      0.00         0.00           NaN        NaN   \n",
       "16079      0.00      0.01      0.00         0.00           NaN        NaN   \n",
       "16373      0.01      0.00      0.00         0.00          43.0        tbd   \n",
       "\n",
       "      rating  \n",
       "183        E  \n",
       "377        E  \n",
       "475      NaN  \n",
       "1650       E  \n",
       "2492       E  \n",
       "2572     NaN  \n",
       "3486       E  \n",
       "4775       E  \n",
       "5156       E  \n",
       "5336       M  \n",
       "5655       E  \n",
       "5889       E  \n",
       "6954     NaN  \n",
       "8918       E  \n",
       "13195    NaN  \n",
       "13929    NaN  \n",
       "15953    NaN  \n",
       "16079    NaN  \n",
       "16373   E10+  "
      ]
     },
     "execution_count": 6,
     "metadata": {},
     "output_type": "execute_result"
    }
   ],
   "source": [
    "data0[data0['name'].str.contains('19', na = False)] \n",
    "data0[data0['name'].str.contains('20', na = False)]"
   ]
  },
  {
   "cell_type": "code",
   "execution_count": 7,
   "metadata": {},
   "outputs": [],
   "source": [
    "data.at[183, 'year_of_release'] = 2004\n",
    "data.at[377, 'year_of_release'] = 2004\n",
    "data.at[475, 'year_of_release'] = 2006\n",
    "data.at[1650, 'year_of_release'] = 2003\n",
    "data.at[2492, 'year_of_release'] = 2003\n",
    "data.at[2572, 'year_of_release'] = 2009\n",
    "data.at[3486, 'year_of_release'] = 2002\n",
    "data.at[4775, 'year_of_release'] = 2003\n",
    "data.at[5156, 'year_of_release'] = 2003\n",
    "data.at[5336, 'year_of_release'] = 2013\n",
    "data.at[5655, 'year_of_release'] = 2005\n",
    "data.at[5889, 'year_of_release'] = 2003\n",
    "data.at[6954, 'year_of_release'] = 2002 #загуглил значение, раз уж попало в выборку \n",
    "data.at[8918, 'year_of_release'] = 2005\n",
    "data.at[13195, 'year_of_release'] = 2011\n",
    "data.at[13929, 'year_of_release'] = 2006\n",
    "data.at[15953, 'year_of_release'] = 2008\n",
    "data.at[16079, 'year_of_release'] = 2007\n",
    "data.at[16373, 'year_of_release'] = 2008"
   ]
  },
  {
   "cell_type": "code",
   "execution_count": 8,
   "metadata": {},
   "outputs": [
    {
     "data": {
      "text/html": [
       "<div>\n",
       "<style scoped>\n",
       "    .dataframe tbody tr th:only-of-type {\n",
       "        vertical-align: middle;\n",
       "    }\n",
       "\n",
       "    .dataframe tbody tr th {\n",
       "        vertical-align: top;\n",
       "    }\n",
       "\n",
       "    .dataframe thead th {\n",
       "        text-align: right;\n",
       "    }\n",
       "</style>\n",
       "<table border=\"1\" class=\"dataframe\">\n",
       "  <thead>\n",
       "    <tr style=\"text-align: right;\">\n",
       "      <th></th>\n",
       "      <th>name</th>\n",
       "      <th>platform</th>\n",
       "      <th>year_of_release</th>\n",
       "      <th>genre</th>\n",
       "      <th>na_sales</th>\n",
       "      <th>eu_sales</th>\n",
       "      <th>jp_sales</th>\n",
       "      <th>other_sales</th>\n",
       "      <th>critic_score</th>\n",
       "      <th>user_score</th>\n",
       "      <th>rating</th>\n",
       "    </tr>\n",
       "  </thead>\n",
       "  <tbody>\n",
       "    <tr>\n",
       "      <th>456</th>\n",
       "      <td>LEGO Batman: The Videogame</td>\n",
       "      <td>Wii</td>\n",
       "      <td>NaN</td>\n",
       "      <td>Action</td>\n",
       "      <td>1.80</td>\n",
       "      <td>0.97</td>\n",
       "      <td>0.00</td>\n",
       "      <td>0.29</td>\n",
       "      <td>74.0</td>\n",
       "      <td>7.9</td>\n",
       "      <td>E10+</td>\n",
       "    </tr>\n",
       "    <tr>\n",
       "      <th>609</th>\n",
       "      <td>Space Invaders</td>\n",
       "      <td>2600</td>\n",
       "      <td>NaN</td>\n",
       "      <td>Shooter</td>\n",
       "      <td>2.36</td>\n",
       "      <td>0.14</td>\n",
       "      <td>0.00</td>\n",
       "      <td>0.03</td>\n",
       "      <td>NaN</td>\n",
       "      <td>NaN</td>\n",
       "      <td>NaN</td>\n",
       "    </tr>\n",
       "    <tr>\n",
       "      <th>627</th>\n",
       "      <td>Rock Band</td>\n",
       "      <td>X360</td>\n",
       "      <td>NaN</td>\n",
       "      <td>Misc</td>\n",
       "      <td>1.93</td>\n",
       "      <td>0.33</td>\n",
       "      <td>0.00</td>\n",
       "      <td>0.21</td>\n",
       "      <td>92.0</td>\n",
       "      <td>8.2</td>\n",
       "      <td>T</td>\n",
       "    </tr>\n",
       "    <tr>\n",
       "      <th>657</th>\n",
       "      <td>Frogger's Adventures: Temple of the Frog</td>\n",
       "      <td>GBA</td>\n",
       "      <td>NaN</td>\n",
       "      <td>Adventure</td>\n",
       "      <td>2.15</td>\n",
       "      <td>0.18</td>\n",
       "      <td>0.00</td>\n",
       "      <td>0.07</td>\n",
       "      <td>73.0</td>\n",
       "      <td>tbd</td>\n",
       "      <td>E</td>\n",
       "    </tr>\n",
       "    <tr>\n",
       "      <th>678</th>\n",
       "      <td>LEGO Indiana Jones: The Original Adventures</td>\n",
       "      <td>Wii</td>\n",
       "      <td>NaN</td>\n",
       "      <td>Action</td>\n",
       "      <td>1.51</td>\n",
       "      <td>0.61</td>\n",
       "      <td>0.00</td>\n",
       "      <td>0.21</td>\n",
       "      <td>78.0</td>\n",
       "      <td>6.6</td>\n",
       "      <td>E10+</td>\n",
       "    </tr>\n",
       "    <tr>\n",
       "      <th>...</th>\n",
       "      <td>...</td>\n",
       "      <td>...</td>\n",
       "      <td>...</td>\n",
       "      <td>...</td>\n",
       "      <td>...</td>\n",
       "      <td>...</td>\n",
       "      <td>...</td>\n",
       "      <td>...</td>\n",
       "      <td>...</td>\n",
       "      <td>...</td>\n",
       "      <td>...</td>\n",
       "    </tr>\n",
       "    <tr>\n",
       "      <th>16348</th>\n",
       "      <td>Agarest Senki: Re-appearance</td>\n",
       "      <td>PS3</td>\n",
       "      <td>NaN</td>\n",
       "      <td>Role-Playing</td>\n",
       "      <td>0.00</td>\n",
       "      <td>0.00</td>\n",
       "      <td>0.01</td>\n",
       "      <td>0.00</td>\n",
       "      <td>NaN</td>\n",
       "      <td>NaN</td>\n",
       "      <td>NaN</td>\n",
       "    </tr>\n",
       "    <tr>\n",
       "      <th>16405</th>\n",
       "      <td>Freaky Flyers</td>\n",
       "      <td>GC</td>\n",
       "      <td>NaN</td>\n",
       "      <td>Racing</td>\n",
       "      <td>0.01</td>\n",
       "      <td>0.00</td>\n",
       "      <td>0.00</td>\n",
       "      <td>0.00</td>\n",
       "      <td>69.0</td>\n",
       "      <td>6.5</td>\n",
       "      <td>T</td>\n",
       "    </tr>\n",
       "    <tr>\n",
       "      <th>16448</th>\n",
       "      <td>Inversion</td>\n",
       "      <td>PC</td>\n",
       "      <td>NaN</td>\n",
       "      <td>Shooter</td>\n",
       "      <td>0.01</td>\n",
       "      <td>0.00</td>\n",
       "      <td>0.00</td>\n",
       "      <td>0.00</td>\n",
       "      <td>59.0</td>\n",
       "      <td>6.7</td>\n",
       "      <td>M</td>\n",
       "    </tr>\n",
       "    <tr>\n",
       "      <th>16458</th>\n",
       "      <td>Hakuouki: Shinsengumi Kitan</td>\n",
       "      <td>PS3</td>\n",
       "      <td>NaN</td>\n",
       "      <td>Adventure</td>\n",
       "      <td>0.01</td>\n",
       "      <td>0.00</td>\n",
       "      <td>0.00</td>\n",
       "      <td>0.00</td>\n",
       "      <td>NaN</td>\n",
       "      <td>NaN</td>\n",
       "      <td>NaN</td>\n",
       "    </tr>\n",
       "    <tr>\n",
       "      <th>16522</th>\n",
       "      <td>Virtua Quest</td>\n",
       "      <td>GC</td>\n",
       "      <td>NaN</td>\n",
       "      <td>Role-Playing</td>\n",
       "      <td>0.01</td>\n",
       "      <td>0.00</td>\n",
       "      <td>0.00</td>\n",
       "      <td>0.00</td>\n",
       "      <td>55.0</td>\n",
       "      <td>5.5</td>\n",
       "      <td>T</td>\n",
       "    </tr>\n",
       "  </tbody>\n",
       "</table>\n",
       "<p>250 rows × 11 columns</p>\n",
       "</div>"
      ],
      "text/plain": [
       "                                              name platform  year_of_release  \\\n",
       "456                     LEGO Batman: The Videogame      Wii              NaN   \n",
       "609                                 Space Invaders     2600              NaN   \n",
       "627                                      Rock Band     X360              NaN   \n",
       "657       Frogger's Adventures: Temple of the Frog      GBA              NaN   \n",
       "678    LEGO Indiana Jones: The Original Adventures      Wii              NaN   \n",
       "...                                            ...      ...              ...   \n",
       "16348                 Agarest Senki: Re-appearance      PS3              NaN   \n",
       "16405                                Freaky Flyers       GC              NaN   \n",
       "16448                                    Inversion       PC              NaN   \n",
       "16458                  Hakuouki: Shinsengumi Kitan      PS3              NaN   \n",
       "16522                                 Virtua Quest       GC              NaN   \n",
       "\n",
       "              genre  na_sales  eu_sales  jp_sales  other_sales  critic_score  \\\n",
       "456          Action      1.80      0.97      0.00         0.29          74.0   \n",
       "609         Shooter      2.36      0.14      0.00         0.03           NaN   \n",
       "627            Misc      1.93      0.33      0.00         0.21          92.0   \n",
       "657       Adventure      2.15      0.18      0.00         0.07          73.0   \n",
       "678          Action      1.51      0.61      0.00         0.21          78.0   \n",
       "...             ...       ...       ...       ...          ...           ...   \n",
       "16348  Role-Playing      0.00      0.00      0.01         0.00           NaN   \n",
       "16405        Racing      0.01      0.00      0.00         0.00          69.0   \n",
       "16448       Shooter      0.01      0.00      0.00         0.00          59.0   \n",
       "16458     Adventure      0.01      0.00      0.00         0.00           NaN   \n",
       "16522  Role-Playing      0.01      0.00      0.00         0.00          55.0   \n",
       "\n",
       "      user_score rating  \n",
       "456          7.9   E10+  \n",
       "609          NaN    NaN  \n",
       "627          8.2      T  \n",
       "657          tbd      E  \n",
       "678          6.6   E10+  \n",
       "...          ...    ...  \n",
       "16348        NaN    NaN  \n",
       "16405        6.5      T  \n",
       "16448        6.7      M  \n",
       "16458        NaN    NaN  \n",
       "16522        5.5      T  \n",
       "\n",
       "[250 rows x 11 columns]"
      ]
     },
     "execution_count": 8,
     "metadata": {},
     "output_type": "execute_result"
    }
   ],
   "source": [
    "data[data['year_of_release'].isnull()]"
   ]
  },
  {
   "cell_type": "markdown",
   "metadata": {},
   "source": [
    "Eliminar los restantes 250 valores y convertir años en enteros."
   ]
  },
  {
   "cell_type": "code",
   "execution_count": 9,
   "metadata": {},
   "outputs": [
    {
     "data": {
      "text/html": [
       "<div>\n",
       "<style scoped>\n",
       "    .dataframe tbody tr th:only-of-type {\n",
       "        vertical-align: middle;\n",
       "    }\n",
       "\n",
       "    .dataframe tbody tr th {\n",
       "        vertical-align: top;\n",
       "    }\n",
       "\n",
       "    .dataframe thead th {\n",
       "        text-align: right;\n",
       "    }\n",
       "</style>\n",
       "<table border=\"1\" class=\"dataframe\">\n",
       "  <thead>\n",
       "    <tr style=\"text-align: right;\">\n",
       "      <th></th>\n",
       "      <th>name</th>\n",
       "      <th>platform</th>\n",
       "      <th>year_of_release</th>\n",
       "      <th>genre</th>\n",
       "      <th>na_sales</th>\n",
       "      <th>eu_sales</th>\n",
       "      <th>jp_sales</th>\n",
       "      <th>other_sales</th>\n",
       "      <th>critic_score</th>\n",
       "      <th>user_score</th>\n",
       "      <th>rating</th>\n",
       "    </tr>\n",
       "  </thead>\n",
       "  <tbody>\n",
       "    <tr>\n",
       "      <th>0</th>\n",
       "      <td>Wii Sports</td>\n",
       "      <td>Wii</td>\n",
       "      <td>2006</td>\n",
       "      <td>Sports</td>\n",
       "      <td>41.36</td>\n",
       "      <td>28.96</td>\n",
       "      <td>3.77</td>\n",
       "      <td>8.45</td>\n",
       "      <td>76.0</td>\n",
       "      <td>8</td>\n",
       "      <td>E</td>\n",
       "    </tr>\n",
       "    <tr>\n",
       "      <th>1</th>\n",
       "      <td>Super Mario Bros.</td>\n",
       "      <td>NES</td>\n",
       "      <td>1985</td>\n",
       "      <td>Platform</td>\n",
       "      <td>29.08</td>\n",
       "      <td>3.58</td>\n",
       "      <td>6.81</td>\n",
       "      <td>0.77</td>\n",
       "      <td>NaN</td>\n",
       "      <td>NaN</td>\n",
       "      <td>NaN</td>\n",
       "    </tr>\n",
       "    <tr>\n",
       "      <th>2</th>\n",
       "      <td>Mario Kart Wii</td>\n",
       "      <td>Wii</td>\n",
       "      <td>2008</td>\n",
       "      <td>Racing</td>\n",
       "      <td>15.68</td>\n",
       "      <td>12.76</td>\n",
       "      <td>3.79</td>\n",
       "      <td>3.29</td>\n",
       "      <td>82.0</td>\n",
       "      <td>8.3</td>\n",
       "      <td>E</td>\n",
       "    </tr>\n",
       "    <tr>\n",
       "      <th>3</th>\n",
       "      <td>Wii Sports Resort</td>\n",
       "      <td>Wii</td>\n",
       "      <td>2009</td>\n",
       "      <td>Sports</td>\n",
       "      <td>15.61</td>\n",
       "      <td>10.93</td>\n",
       "      <td>3.28</td>\n",
       "      <td>2.95</td>\n",
       "      <td>80.0</td>\n",
       "      <td>8</td>\n",
       "      <td>E</td>\n",
       "    </tr>\n",
       "    <tr>\n",
       "      <th>4</th>\n",
       "      <td>Pokemon Red/Pokemon Blue</td>\n",
       "      <td>GB</td>\n",
       "      <td>1996</td>\n",
       "      <td>Role-Playing</td>\n",
       "      <td>11.27</td>\n",
       "      <td>8.89</td>\n",
       "      <td>10.22</td>\n",
       "      <td>1.00</td>\n",
       "      <td>NaN</td>\n",
       "      <td>NaN</td>\n",
       "      <td>NaN</td>\n",
       "    </tr>\n",
       "    <tr>\n",
       "      <th>...</th>\n",
       "      <td>...</td>\n",
       "      <td>...</td>\n",
       "      <td>...</td>\n",
       "      <td>...</td>\n",
       "      <td>...</td>\n",
       "      <td>...</td>\n",
       "      <td>...</td>\n",
       "      <td>...</td>\n",
       "      <td>...</td>\n",
       "      <td>...</td>\n",
       "      <td>...</td>\n",
       "    </tr>\n",
       "    <tr>\n",
       "      <th>16460</th>\n",
       "      <td>Samurai Warriors: Sanada Maru</td>\n",
       "      <td>PS3</td>\n",
       "      <td>2016</td>\n",
       "      <td>Action</td>\n",
       "      <td>0.00</td>\n",
       "      <td>0.00</td>\n",
       "      <td>0.01</td>\n",
       "      <td>0.00</td>\n",
       "      <td>NaN</td>\n",
       "      <td>NaN</td>\n",
       "      <td>NaN</td>\n",
       "    </tr>\n",
       "    <tr>\n",
       "      <th>16461</th>\n",
       "      <td>LMA Manager 2007</td>\n",
       "      <td>X360</td>\n",
       "      <td>2006</td>\n",
       "      <td>Sports</td>\n",
       "      <td>0.00</td>\n",
       "      <td>0.01</td>\n",
       "      <td>0.00</td>\n",
       "      <td>0.00</td>\n",
       "      <td>NaN</td>\n",
       "      <td>NaN</td>\n",
       "      <td>NaN</td>\n",
       "    </tr>\n",
       "    <tr>\n",
       "      <th>16462</th>\n",
       "      <td>Haitaka no Psychedelica</td>\n",
       "      <td>PSV</td>\n",
       "      <td>2016</td>\n",
       "      <td>Adventure</td>\n",
       "      <td>0.00</td>\n",
       "      <td>0.00</td>\n",
       "      <td>0.01</td>\n",
       "      <td>0.00</td>\n",
       "      <td>NaN</td>\n",
       "      <td>NaN</td>\n",
       "      <td>NaN</td>\n",
       "    </tr>\n",
       "    <tr>\n",
       "      <th>16463</th>\n",
       "      <td>Spirits &amp; Spells</td>\n",
       "      <td>GBA</td>\n",
       "      <td>2003</td>\n",
       "      <td>Platform</td>\n",
       "      <td>0.01</td>\n",
       "      <td>0.00</td>\n",
       "      <td>0.00</td>\n",
       "      <td>0.00</td>\n",
       "      <td>NaN</td>\n",
       "      <td>NaN</td>\n",
       "      <td>NaN</td>\n",
       "    </tr>\n",
       "    <tr>\n",
       "      <th>16464</th>\n",
       "      <td>Winning Post 8 2016</td>\n",
       "      <td>PSV</td>\n",
       "      <td>2016</td>\n",
       "      <td>Simulation</td>\n",
       "      <td>0.00</td>\n",
       "      <td>0.00</td>\n",
       "      <td>0.01</td>\n",
       "      <td>0.00</td>\n",
       "      <td>NaN</td>\n",
       "      <td>NaN</td>\n",
       "      <td>NaN</td>\n",
       "    </tr>\n",
       "  </tbody>\n",
       "</table>\n",
       "<p>16465 rows × 11 columns</p>\n",
       "</div>"
      ],
      "text/plain": [
       "                                name platform  year_of_release         genre  \\\n",
       "0                         Wii Sports      Wii             2006        Sports   \n",
       "1                  Super Mario Bros.      NES             1985      Platform   \n",
       "2                     Mario Kart Wii      Wii             2008        Racing   \n",
       "3                  Wii Sports Resort      Wii             2009        Sports   \n",
       "4           Pokemon Red/Pokemon Blue       GB             1996  Role-Playing   \n",
       "...                              ...      ...              ...           ...   \n",
       "16460  Samurai Warriors: Sanada Maru      PS3             2016        Action   \n",
       "16461               LMA Manager 2007     X360             2006        Sports   \n",
       "16462        Haitaka no Psychedelica      PSV             2016     Adventure   \n",
       "16463               Spirits & Spells      GBA             2003      Platform   \n",
       "16464            Winning Post 8 2016      PSV             2016    Simulation   \n",
       "\n",
       "       na_sales  eu_sales  jp_sales  other_sales  critic_score user_score  \\\n",
       "0         41.36     28.96      3.77         8.45          76.0          8   \n",
       "1         29.08      3.58      6.81         0.77           NaN        NaN   \n",
       "2         15.68     12.76      3.79         3.29          82.0        8.3   \n",
       "3         15.61     10.93      3.28         2.95          80.0          8   \n",
       "4         11.27      8.89     10.22         1.00           NaN        NaN   \n",
       "...         ...       ...       ...          ...           ...        ...   \n",
       "16460      0.00      0.00      0.01         0.00           NaN        NaN   \n",
       "16461      0.00      0.01      0.00         0.00           NaN        NaN   \n",
       "16462      0.00      0.00      0.01         0.00           NaN        NaN   \n",
       "16463      0.01      0.00      0.00         0.00           NaN        NaN   \n",
       "16464      0.00      0.00      0.01         0.00           NaN        NaN   \n",
       "\n",
       "      rating  \n",
       "0          E  \n",
       "1        NaN  \n",
       "2          E  \n",
       "3          E  \n",
       "4        NaN  \n",
       "...      ...  \n",
       "16460    NaN  \n",
       "16461    NaN  \n",
       "16462    NaN  \n",
       "16463    NaN  \n",
       "16464    NaN  \n",
       "\n",
       "[16465 rows x 11 columns]"
      ]
     },
     "execution_count": 9,
     "metadata": {},
     "output_type": "execute_result"
    }
   ],
   "source": [
    "data.dropna(subset = ['year_of_release'], inplace = True)\n",
    "data['year_of_release'] = data['year_of_release'].astype('int')\n",
    "data.reset_index(drop=True)"
   ]
  },
  {
   "cell_type": "markdown",
   "metadata": {},
   "source": [
    "#### Trabajando con la columna user_score\n",
    "\n",
    "Ya hay muchos pases, y no puedes borrarlos. Pero no tenemos que hacerlo. El hecho de que el juego no tiene una calificación de usuario es normal, tal vez es solo nuevo o no lo suficientemente popular (hay calificaciones, pero son pocos y no forman un común). De las líneas anteriores podemos ver que además de los NaNs hay un cierto texto tbd - que se determinted, en el lenguaje de la jerga que significa que la evaluación se espera en el futuro - confirmación justa de nuestra suposición. Dado que las puntuaciones generalmente se pueden establecer de 1 a 10, reemplace todas las omisiones y los ceros tbd. A menudo en el contenido de sitios agregadores sin calificación se ve así."
   ]
  },
  {
   "cell_type": "code",
   "execution_count": 10,
   "metadata": {},
   "outputs": [],
   "source": [
    "data['user_score'] = data['user_score'].fillna(value=0)\n",
    "data.loc[data['user_score'] == 'tbd', 'user_score'] = 0"
   ]
  },
  {
   "cell_type": "markdown",
   "metadata": {},
   "source": [
    "Aproveche esta oportunidad para reemplazar las omisiones en la columna critic_score"
   ]
  },
  {
   "cell_type": "code",
   "execution_count": 11,
   "metadata": {},
   "outputs": [],
   "source": [
    "data['critic_score'] = data['critic_score'].fillna(value=0)"
   ]
  },
  {
   "cell_type": "markdown",
   "metadata": {},
   "source": [
    "Ahora vamos a cambiar el tipo en la columna de valoración de usuario a numérico."
   ]
  },
  {
   "cell_type": "code",
   "execution_count": 12,
   "metadata": {},
   "outputs": [],
   "source": [
    "data['user_score'] = data['user_score'].astype('float')"
   ]
  },
  {
   "cell_type": "markdown",
   "metadata": {},
   "source": [
    "### Trabajar con saltos\n",
    "\n",
    "Ya hemos procesado algunos de los pases. Examinaremos otras columnas."
   ]
  },
  {
   "cell_type": "code",
   "execution_count": 13,
   "metadata": {},
   "outputs": [
    {
     "name": "stdout",
     "output_type": "stream",
     "text": [
      "<class 'pandas.core.frame.DataFrame'>\n",
      "Int64Index: 16465 entries, 0 to 16714\n",
      "Data columns (total 11 columns):\n",
      " #   Column           Non-Null Count  Dtype  \n",
      "---  ------           --------------  -----  \n",
      " 0   name             16463 non-null  object \n",
      " 1   platform         16465 non-null  object \n",
      " 2   year_of_release  16465 non-null  int64  \n",
      " 3   genre            16463 non-null  object \n",
      " 4   na_sales         16465 non-null  float64\n",
      " 5   eu_sales         16465 non-null  float64\n",
      " 6   jp_sales         16465 non-null  float64\n",
      " 7   other_sales      16465 non-null  float64\n",
      " 8   critic_score     16465 non-null  float64\n",
      " 9   user_score       16465 non-null  float64\n",
      " 10  rating           9780 non-null   object \n",
      "dtypes: float64(6), int64(1), object(4)\n",
      "memory usage: 1.5+ MB\n"
     ]
    }
   ],
   "source": [
    "data.info()"
   ]
  },
  {
   "cell_type": "markdown",
   "metadata": {},
   "source": [
    "Dos columnas son las más sospechosas: el nombre y el género, faltan dos valores. Encuéntralas."
   ]
  },
  {
   "cell_type": "code",
   "execution_count": 14,
   "metadata": {},
   "outputs": [
    {
     "data": {
      "text/html": [
       "<div>\n",
       "<style scoped>\n",
       "    .dataframe tbody tr th:only-of-type {\n",
       "        vertical-align: middle;\n",
       "    }\n",
       "\n",
       "    .dataframe tbody tr th {\n",
       "        vertical-align: top;\n",
       "    }\n",
       "\n",
       "    .dataframe thead th {\n",
       "        text-align: right;\n",
       "    }\n",
       "</style>\n",
       "<table border=\"1\" class=\"dataframe\">\n",
       "  <thead>\n",
       "    <tr style=\"text-align: right;\">\n",
       "      <th></th>\n",
       "      <th>name</th>\n",
       "      <th>platform</th>\n",
       "      <th>year_of_release</th>\n",
       "      <th>genre</th>\n",
       "      <th>na_sales</th>\n",
       "      <th>eu_sales</th>\n",
       "      <th>jp_sales</th>\n",
       "      <th>other_sales</th>\n",
       "      <th>critic_score</th>\n",
       "      <th>user_score</th>\n",
       "      <th>rating</th>\n",
       "    </tr>\n",
       "  </thead>\n",
       "  <tbody>\n",
       "    <tr>\n",
       "      <th>659</th>\n",
       "      <td>NaN</td>\n",
       "      <td>GEN</td>\n",
       "      <td>1993</td>\n",
       "      <td>NaN</td>\n",
       "      <td>1.78</td>\n",
       "      <td>0.53</td>\n",
       "      <td>0.00</td>\n",
       "      <td>0.08</td>\n",
       "      <td>0.0</td>\n",
       "      <td>0.0</td>\n",
       "      <td>NaN</td>\n",
       "    </tr>\n",
       "    <tr>\n",
       "      <th>14244</th>\n",
       "      <td>NaN</td>\n",
       "      <td>GEN</td>\n",
       "      <td>1993</td>\n",
       "      <td>NaN</td>\n",
       "      <td>0.00</td>\n",
       "      <td>0.00</td>\n",
       "      <td>0.03</td>\n",
       "      <td>0.00</td>\n",
       "      <td>0.0</td>\n",
       "      <td>0.0</td>\n",
       "      <td>NaN</td>\n",
       "    </tr>\n",
       "  </tbody>\n",
       "</table>\n",
       "</div>"
      ],
      "text/plain": [
       "      name platform  year_of_release genre  na_sales  eu_sales  jp_sales  \\\n",
       "659    NaN      GEN             1993   NaN      1.78      0.53      0.00   \n",
       "14244  NaN      GEN             1993   NaN      0.00      0.00      0.03   \n",
       "\n",
       "       other_sales  critic_score  user_score rating  \n",
       "659           0.08           0.0         0.0    NaN  \n",
       "14244         0.00           0.0         0.0    NaN  "
      ]
     },
     "execution_count": 14,
     "metadata": {},
     "output_type": "execute_result"
    }
   ],
   "source": [
    "data[data['name'].isnull() == True]"
   ]
  },
  {
   "cell_type": "code",
   "execution_count": 15,
   "metadata": {},
   "outputs": [
    {
     "data": {
      "text/html": [
       "<div>\n",
       "<style scoped>\n",
       "    .dataframe tbody tr th:only-of-type {\n",
       "        vertical-align: middle;\n",
       "    }\n",
       "\n",
       "    .dataframe tbody tr th {\n",
       "        vertical-align: top;\n",
       "    }\n",
       "\n",
       "    .dataframe thead th {\n",
       "        text-align: right;\n",
       "    }\n",
       "</style>\n",
       "<table border=\"1\" class=\"dataframe\">\n",
       "  <thead>\n",
       "    <tr style=\"text-align: right;\">\n",
       "      <th></th>\n",
       "      <th>name</th>\n",
       "      <th>platform</th>\n",
       "      <th>year_of_release</th>\n",
       "      <th>genre</th>\n",
       "      <th>na_sales</th>\n",
       "      <th>eu_sales</th>\n",
       "      <th>jp_sales</th>\n",
       "      <th>other_sales</th>\n",
       "      <th>critic_score</th>\n",
       "      <th>user_score</th>\n",
       "      <th>rating</th>\n",
       "    </tr>\n",
       "  </thead>\n",
       "  <tbody>\n",
       "    <tr>\n",
       "      <th>659</th>\n",
       "      <td>NaN</td>\n",
       "      <td>GEN</td>\n",
       "      <td>1993</td>\n",
       "      <td>NaN</td>\n",
       "      <td>1.78</td>\n",
       "      <td>0.53</td>\n",
       "      <td>0.00</td>\n",
       "      <td>0.08</td>\n",
       "      <td>0.0</td>\n",
       "      <td>0.0</td>\n",
       "      <td>NaN</td>\n",
       "    </tr>\n",
       "    <tr>\n",
       "      <th>14244</th>\n",
       "      <td>NaN</td>\n",
       "      <td>GEN</td>\n",
       "      <td>1993</td>\n",
       "      <td>NaN</td>\n",
       "      <td>0.00</td>\n",
       "      <td>0.00</td>\n",
       "      <td>0.03</td>\n",
       "      <td>0.00</td>\n",
       "      <td>0.0</td>\n",
       "      <td>0.0</td>\n",
       "      <td>NaN</td>\n",
       "    </tr>\n",
       "  </tbody>\n",
       "</table>\n",
       "</div>"
      ],
      "text/plain": [
       "      name platform  year_of_release genre  na_sales  eu_sales  jp_sales  \\\n",
       "659    NaN      GEN             1993   NaN      1.78      0.53      0.00   \n",
       "14244  NaN      GEN             1993   NaN      0.00      0.00      0.03   \n",
       "\n",
       "       other_sales  critic_score  user_score rating  \n",
       "659           0.08           0.0         0.0    NaN  \n",
       "14244         0.00           0.0         0.0    NaN  "
      ]
     },
     "execution_count": 15,
     "metadata": {},
     "output_type": "execute_result"
    }
   ],
   "source": [
    "data[data['genre'].isnull() == True]"
   ]
  },
  {
   "cell_type": "markdown",
   "metadata": {},
   "source": [
    "Estas son las mismas líneas sin información útil. Borrémoslas."
   ]
  },
  {
   "cell_type": "code",
   "execution_count": 16,
   "metadata": {},
   "outputs": [],
   "source": [
    "data = data.drop(index=[659 , 14244])"
   ]
  },
  {
   "cell_type": "markdown",
   "metadata": {},
   "source": [
    "Hubo la última columna con los pases - la clasificación de edad, y más de la mitad. Parece que la mejor solución es sustituir las omisiones por la designación neutra \"desconocido\"."
   ]
  },
  {
   "cell_type": "code",
   "execution_count": 17,
   "metadata": {},
   "outputs": [],
   "source": [
    "data['rating'] = data['rating'].fillna(value='unknown')"
   ]
  },
  {
   "cell_type": "code",
   "execution_count": 18,
   "metadata": {},
   "outputs": [
    {
     "name": "stdout",
     "output_type": "stream",
     "text": [
      "<class 'pandas.core.frame.DataFrame'>\n",
      "Int64Index: 16463 entries, 0 to 16714\n",
      "Data columns (total 11 columns):\n",
      " #   Column           Non-Null Count  Dtype  \n",
      "---  ------           --------------  -----  \n",
      " 0   name             16463 non-null  object \n",
      " 1   platform         16463 non-null  object \n",
      " 2   year_of_release  16463 non-null  int64  \n",
      " 3   genre            16463 non-null  object \n",
      " 4   na_sales         16463 non-null  float64\n",
      " 5   eu_sales         16463 non-null  float64\n",
      " 6   jp_sales         16463 non-null  float64\n",
      " 7   other_sales      16463 non-null  float64\n",
      " 8   critic_score     16463 non-null  float64\n",
      " 9   user_score       16463 non-null  float64\n",
      " 10  rating           16463 non-null  object \n",
      "dtypes: float64(6), int64(1), object(4)\n",
      "memory usage: 1.5+ MB\n"
     ]
    }
   ],
   "source": [
    "data.info()"
   ]
  },
  {
   "cell_type": "markdown",
   "metadata": {},
   "source": [
    "El trabajo en los pases está completo. Algunos de ellos se debieron a entradas incorrectas en el formato del título, datos insuficientes (poca o ninguna calificación) o información incompleta del juego.\n",
    "\n",
    "### Ventas totales\n",
    "\n",
    "Datafrem está casi listo para análisis. Agregue una columna con ventas totales en todas las regiones."
   ]
  },
  {
   "cell_type": "code",
   "execution_count": 19,
   "metadata": {},
   "outputs": [],
   "source": [
    "data['total_sales'] = data['na_sales'] + data['eu_sales'] + data['jp_sales'] + data['other_sales']"
   ]
  },
  {
   "cell_type": "code",
   "execution_count": 20,
   "metadata": {},
   "outputs": [
    {
     "data": {
      "text/html": [
       "<div>\n",
       "<style scoped>\n",
       "    .dataframe tbody tr th:only-of-type {\n",
       "        vertical-align: middle;\n",
       "    }\n",
       "\n",
       "    .dataframe tbody tr th {\n",
       "        vertical-align: top;\n",
       "    }\n",
       "\n",
       "    .dataframe thead th {\n",
       "        text-align: right;\n",
       "    }\n",
       "</style>\n",
       "<table border=\"1\" class=\"dataframe\">\n",
       "  <thead>\n",
       "    <tr style=\"text-align: right;\">\n",
       "      <th></th>\n",
       "      <th>name</th>\n",
       "      <th>platform</th>\n",
       "      <th>year_of_release</th>\n",
       "      <th>genre</th>\n",
       "      <th>na_sales</th>\n",
       "      <th>eu_sales</th>\n",
       "      <th>jp_sales</th>\n",
       "      <th>other_sales</th>\n",
       "      <th>critic_score</th>\n",
       "      <th>user_score</th>\n",
       "      <th>rating</th>\n",
       "      <th>total_sales</th>\n",
       "    </tr>\n",
       "  </thead>\n",
       "  <tbody>\n",
       "    <tr>\n",
       "      <th>604</th>\n",
       "      <td>Madden NFL 13</td>\n",
       "      <td>PS3</td>\n",
       "      <td>2012</td>\n",
       "      <td>Sports</td>\n",
       "      <td>2.11</td>\n",
       "      <td>0.22</td>\n",
       "      <td>0.00</td>\n",
       "      <td>0.23</td>\n",
       "      <td>83.0</td>\n",
       "      <td>5.5</td>\n",
       "      <td>E</td>\n",
       "      <td>2.56</td>\n",
       "    </tr>\n",
       "    <tr>\n",
       "      <th>16230</th>\n",
       "      <td>Madden NFL 13</td>\n",
       "      <td>PS3</td>\n",
       "      <td>2012</td>\n",
       "      <td>Sports</td>\n",
       "      <td>0.00</td>\n",
       "      <td>0.01</td>\n",
       "      <td>0.00</td>\n",
       "      <td>0.00</td>\n",
       "      <td>83.0</td>\n",
       "      <td>5.5</td>\n",
       "      <td>E</td>\n",
       "      <td>0.01</td>\n",
       "    </tr>\n",
       "    <tr>\n",
       "      <th>1190</th>\n",
       "      <td>Need for Speed: Most Wanted</td>\n",
       "      <td>X360</td>\n",
       "      <td>2012</td>\n",
       "      <td>Racing</td>\n",
       "      <td>0.62</td>\n",
       "      <td>0.78</td>\n",
       "      <td>0.01</td>\n",
       "      <td>0.15</td>\n",
       "      <td>83.0</td>\n",
       "      <td>8.5</td>\n",
       "      <td>T</td>\n",
       "      <td>1.56</td>\n",
       "    </tr>\n",
       "    <tr>\n",
       "      <th>1591</th>\n",
       "      <td>Need for Speed: Most Wanted</td>\n",
       "      <td>X360</td>\n",
       "      <td>2005</td>\n",
       "      <td>Racing</td>\n",
       "      <td>1.00</td>\n",
       "      <td>0.13</td>\n",
       "      <td>0.02</td>\n",
       "      <td>0.10</td>\n",
       "      <td>83.0</td>\n",
       "      <td>8.5</td>\n",
       "      <td>T</td>\n",
       "      <td>1.25</td>\n",
       "    </tr>\n",
       "    <tr>\n",
       "      <th>5972</th>\n",
       "      <td>Need for Speed: Most Wanted</td>\n",
       "      <td>PC</td>\n",
       "      <td>2005</td>\n",
       "      <td>Racing</td>\n",
       "      <td>0.02</td>\n",
       "      <td>0.23</td>\n",
       "      <td>0.00</td>\n",
       "      <td>0.04</td>\n",
       "      <td>82.0</td>\n",
       "      <td>8.5</td>\n",
       "      <td>T</td>\n",
       "      <td>0.29</td>\n",
       "    </tr>\n",
       "    <tr>\n",
       "      <th>11715</th>\n",
       "      <td>Need for Speed: Most Wanted</td>\n",
       "      <td>PC</td>\n",
       "      <td>2012</td>\n",
       "      <td>Racing</td>\n",
       "      <td>0.00</td>\n",
       "      <td>0.06</td>\n",
       "      <td>0.00</td>\n",
       "      <td>0.02</td>\n",
       "      <td>82.0</td>\n",
       "      <td>8.5</td>\n",
       "      <td>T</td>\n",
       "      <td>0.08</td>\n",
       "    </tr>\n",
       "  </tbody>\n",
       "</table>\n",
       "</div>"
      ],
      "text/plain": [
       "                              name platform  year_of_release   genre  \\\n",
       "604                  Madden NFL 13      PS3             2012  Sports   \n",
       "16230                Madden NFL 13      PS3             2012  Sports   \n",
       "1190   Need for Speed: Most Wanted     X360             2012  Racing   \n",
       "1591   Need for Speed: Most Wanted     X360             2005  Racing   \n",
       "5972   Need for Speed: Most Wanted       PC             2005  Racing   \n",
       "11715  Need for Speed: Most Wanted       PC             2012  Racing   \n",
       "\n",
       "       na_sales  eu_sales  jp_sales  other_sales  critic_score  user_score  \\\n",
       "604        2.11      0.22      0.00         0.23          83.0         5.5   \n",
       "16230      0.00      0.01      0.00         0.00          83.0         5.5   \n",
       "1190       0.62      0.78      0.01         0.15          83.0         8.5   \n",
       "1591       1.00      0.13      0.02         0.10          83.0         8.5   \n",
       "5972       0.02      0.23      0.00         0.04          82.0         8.5   \n",
       "11715      0.00      0.06      0.00         0.02          82.0         8.5   \n",
       "\n",
       "      rating  total_sales  \n",
       "604        E         2.56  \n",
       "16230      E         0.01  \n",
       "1190       T         1.56  \n",
       "1591       T         1.25  \n",
       "5972       T         0.29  \n",
       "11715      T         0.08  "
      ]
     },
     "execution_count": 20,
     "metadata": {},
     "output_type": "execute_result"
    }
   ],
   "source": [
    "data[data.duplicated(subset=['name','platform'], keep=False)].sort_values(by='name')"
   ]
  },
  {
   "cell_type": "markdown",
   "metadata": {},
   "source": [
    "Sólo unas pocas tomas. Googled about Need for Speed Most Wanted, como yo lo entendí, y un juego completamente diferente lanzado en 2012 con el mismo nombre, por lo que no es un doble. Por supuesto, es confuso que tengan las mismas puntuaciones, pero parece que los datos están cargados incorrectamente. Dejaría estos dos juegos como diferentes, especialmente porque tienen datos de ventas diferentes y no los necesitamos mucho en el análisis.\n",
    "Pero tomar Madden NFL13 con casi cero ventas voy a quitar, no da nada."
   ]
  },
  {
   "cell_type": "code",
   "execution_count": 21,
   "metadata": {},
   "outputs": [],
   "source": [
    "data = data.drop(index=[16230])"
   ]
  },
  {
   "cell_type": "markdown",
   "metadata": {},
   "source": [
    "## Análisis de datos de investigación\n",
    "\n",
    "### Versiones por año\n",
    "\n",
    "Veamos cuántos juegos se produjeron en diferentes años."
   ]
  },
  {
   "cell_type": "code",
   "execution_count": 22,
   "metadata": {},
   "outputs": [
    {
     "data": {
      "image/png": "[encoded data removed]",
      "text/plain": [
       "<Figure size 720x720 with 1 Axes>"
      ]
     },
     "metadata": {
      "needs_background": "light"
     },
     "output_type": "display_data"
    }
   ],
   "source": [
    "data.pivot_table(index='year_of_release', aggfunc='count', values='name').plot.barh(stacked=True, figsize=(10,10));"
   ]
  },
  {
   "cell_type": "markdown",
   "metadata": {},
   "source": [
    "Vemos que el número máximo de juegos se lanzó en el período 2007-2011. Pero antes de 1994. Hay muy pocos juegos. Y es comprensible, porque las consolas de juegos en ese momento era muy poco y se consideraban un lujo. Quizás deberían fusionarse en un grupo de \"juegos retro\".\n",
    "\n"
   ]
  },
  {
   "cell_type": "markdown",
   "metadata": {},
   "source": [
    "### Ventas por plataformas\n",
    "\n",
    "Veamos cómo han cambiado las ventas en las plataformas."
   ]
  },
  {
   "cell_type": "code",
   "execution_count": 23,
   "metadata": {},
   "outputs": [
    {
     "data": {
      "image/png": "[encoded data removed]",
      "text/plain": [
       "<Figure size 720x720 with 1 Axes>"
      ]
     },
     "metadata": {
      "needs_background": "light"
     },
     "output_type": "display_data"
    }
   ],
   "source": [
    "sales = data.pivot_table(index='platform', aggfunc='sum', values='total_sales').sort_values(by='total_sales').plot.barh(stacked=True, figsize=(10,10));"
   ]
  },
  {
   "cell_type": "markdown",
   "metadata": {},
   "source": [
    "El mayor número de juegos vendidos en PlayStation 2. Sin embargo, las ventas en las plataformas SCD, NG, WS, TG16, 3DO, GG y PCFX son insignificantes.\n",
    "\n",
    "Haremos la distribución año a año de las 6 mejores consolas de videojuegos con las máximas ventas."
   ]
  },
  {
   "cell_type": "code",
   "execution_count": 24,
   "metadata": {},
   "outputs": [
    {
     "data": {
      "image/png": "[encoded data removed]",
      "text/plain": [
       "<Figure size 576x504 with 2 Axes>"
      ]
     },
     "metadata": {
      "needs_background": "light"
     },
     "output_type": "display_data"
    }
   ],
   "source": [
    "top = ['PS2', 'X360', 'PS3', 'Wii', 'DS', 'PS']\n",
    "sales = data[data.platform.isin(top)]\n",
    "\n",
    "sales2 = sales.pivot_table(index='platform',columns='year_of_release',values='total_sales',aggfunc='sum')\n",
    "plt.figure(figsize=(8,7))\n",
    "sns.heatmap(sales2);"
   ]
  },
  {
   "cell_type": "markdown",
   "metadata": {},
   "source": [
    "Vemos un patrón de altas ventas de juegos desde el lanzamiento de la consola de juegos y durante ~ 10 años. Y en el ejemplo de la PlayStation en el lanzamiento de la nueva versión de unos 5 años más de ventas para el anterior, después de lo cual se detienen por completo. \n",
    "El DS tiene un lanzamiento en 1985. Parece un error. Encuentra estos valores."
   ]
  },
  {
   "cell_type": "code",
   "execution_count": 25,
   "metadata": {},
   "outputs": [
    {
     "data": {
      "text/html": [
       "<div>\n",
       "<style scoped>\n",
       "    .dataframe tbody tr th:only-of-type {\n",
       "        vertical-align: middle;\n",
       "    }\n",
       "\n",
       "    .dataframe tbody tr th {\n",
       "        vertical-align: top;\n",
       "    }\n",
       "\n",
       "    .dataframe thead th {\n",
       "        text-align: right;\n",
       "    }\n",
       "</style>\n",
       "<table border=\"1\" class=\"dataframe\">\n",
       "  <thead>\n",
       "    <tr style=\"text-align: right;\">\n",
       "      <th></th>\n",
       "      <th>name</th>\n",
       "      <th>platform</th>\n",
       "      <th>year_of_release</th>\n",
       "      <th>genre</th>\n",
       "      <th>na_sales</th>\n",
       "      <th>eu_sales</th>\n",
       "      <th>jp_sales</th>\n",
       "      <th>other_sales</th>\n",
       "      <th>critic_score</th>\n",
       "      <th>user_score</th>\n",
       "      <th>rating</th>\n",
       "      <th>total_sales</th>\n",
       "    </tr>\n",
       "  </thead>\n",
       "  <tbody>\n",
       "    <tr>\n",
       "      <th>15957</th>\n",
       "      <td>Strongest Tokyo University Shogi DS</td>\n",
       "      <td>DS</td>\n",
       "      <td>1985</td>\n",
       "      <td>Action</td>\n",
       "      <td>0.0</td>\n",
       "      <td>0.0</td>\n",
       "      <td>0.02</td>\n",
       "      <td>0.0</td>\n",
       "      <td>0.0</td>\n",
       "      <td>0.0</td>\n",
       "      <td>unknown</td>\n",
       "      <td>0.02</td>\n",
       "    </tr>\n",
       "  </tbody>\n",
       "</table>\n",
       "</div>"
      ],
      "text/plain": [
       "                                      name platform  year_of_release   genre  \\\n",
       "15957  Strongest Tokyo University Shogi DS       DS             1985  Action   \n",
       "\n",
       "       na_sales  eu_sales  jp_sales  other_sales  critic_score  user_score  \\\n",
       "15957       0.0       0.0      0.02          0.0           0.0         0.0   \n",
       "\n",
       "        rating  total_sales  \n",
       "15957  unknown         0.02  "
      ]
     },
     "execution_count": 25,
     "metadata": {},
     "output_type": "execute_result"
    }
   ],
   "source": [
    "data[(data['platform'] == 'DS') & (data['year_of_release'] == 1985)]"
   ]
  },
  {
   "cell_type": "markdown",
   "metadata": {},
   "source": [
    "Parecen datos falsos. No se pudo encontrar información sobre este juego en Internet, y la DS se lanzó en 2004. Borremos esta línea."
   ]
  },
  {
   "cell_type": "code",
   "execution_count": 26,
   "metadata": {},
   "outputs": [],
   "source": [
    "data = data.drop(index=[15957])"
   ]
  },
  {
   "cell_type": "markdown",
   "metadata": {},
   "source": [
    "### Período actual\n",
    "\n",
    "Dejamos los datos solo para el período actual. Para futuras ventas solo estamos interesados en ellos.\n",
    "\n",
    "Para ello, vamos a construir otro gráfico de ventas, pero en todas las plataformas."
   ]
  },
  {
   "cell_type": "code",
   "execution_count": 27,
   "metadata": {},
   "outputs": [
    {
     "data": {
      "image/png": "[encoded data removed]",
      "text/plain": [
       "<Figure size 576x504 with 2 Axes>"
      ]
     },
     "metadata": {
      "needs_background": "light"
     },
     "output_type": "display_data"
    }
   ],
   "source": [
    "sales3 = data.pivot_table(index='platform',columns='year_of_release',values='total_sales',aggfunc='sum')\n",
    "plt.figure(figsize=(8,7))\n",
    "sns.heatmap(sales3);"
   ]
  },
  {
   "cell_type": "markdown",
   "metadata": {},
   "source": [
    "Vemos que el mayor número de cruces en el período 2013-2016 es de 4 años. Parece que habrá juegos vendidos lanzados durante este período, además de los nuevos pueden ser liberados. Todo lo que solía ser eliminado en la comisión :)"
   ]
  },
  {
   "cell_type": "code",
   "execution_count": 28,
   "metadata": {},
   "outputs": [],
   "source": [
    "data = data[(data['year_of_release'] > 2012)]"
   ]
  },
  {
   "cell_type": "markdown",
   "metadata": {},
   "source": [
    "### Plataformas potencialmente rentables\n",
    "\n",
    "Vamos a estimar a partir de la muestra obtenida qué plataformas están creciendo en ventas y cuáles están cayendo."
   ]
  },
  {
   "cell_type": "code",
   "execution_count": 29,
   "metadata": {},
   "outputs": [
    {
     "data": {
      "image/png": "[encoded data removed]",
      "text/plain": [
       "<Figure size 576x504 with 2 Axes>"
      ]
     },
     "metadata": {
      "needs_background": "light"
     },
     "output_type": "display_data"
    }
   ],
   "source": [
    "sales4 = data.pivot_table(index='platform',columns='year_of_release',values='total_sales',aggfunc='sum')\n",
    "plt.figure(figsize=(8,7))\n",
    "sns.heatmap(sales4);"
   ]
  },
  {
   "cell_type": "markdown",
   "metadata": {},
   "source": [
    "Vemos que DS y PSP ya están fuera de venta - ya no estamos interesados en ellos. \n",
    "El 3DS, PS3, Wii, WiiU, PSV y X360 muestran una caída significativa en las ventas.\n",
    "Para las ventas de PC no son muy altas, pero la caída también es insignificante. Hay personas que prefieren los juegos en el PC, puede dejar esta plataforma para la venta.\n",
    "El PS4 y XOne han visto un crecimiento en las ventas, pero esto no es una buena cosa - nuevas plataformas (2016) y la mayoría de los juegos se lanzan en ellos. Estamos más interesados en ellos para las ventas.\n",
    "\n",
    "### Ventas globales por plataformas\n",
    "\n",
    "Construiremos una caja con bigote, dividiremos las ventas por plataforma."
   ]
  },
  {
   "cell_type": "code",
   "execution_count": 30,
   "metadata": {},
   "outputs": [
    {
     "data": {
      "image/png": "[encoded data removed]",
      "text/plain": [
       "<Figure size 1080x720 with 1 Axes>"
      ]
     },
     "metadata": {
      "needs_background": "light"
     },
     "output_type": "display_data"
    }
   ],
   "source": [
    "plt.figure(figsize=(15,10))\n",
    "plt.ylim(0,3)\n",
    "sns.boxplot(x='platform',y='total_sales',data=data);"
   ]
  },
  {
   "cell_type": "markdown",
   "metadata": {},
   "source": [
    "La escala intertrimestral es muy similar a la de Platfor X360, PS3, PS4 y XOne. Tienen aproximadamente la misma mediana de aproximadamente 0,3 millones. El tercer cuartil termina en aproximadamente 0,7 millones. Todas las plataformas de distribución están biseladas a la derecha. Podemos decir que todas las cajas de la mediana se encuentran a la izquierda de la media. Las empresas con un interés de usuario a continuación tienen una mediana (segundo cuartil) de aproximadamente 0.1-0.2. Analizando las cajas del bigote, se puede ver que son similares a excepción de la plataforma 3DS. Tiene un tercer cuartil más pequeño que los otros. Podemos decir que la mediana de ventas de estas plataformas es casi la misma. Todas están biseladas a la derecha.\n",
    "\n",
    "#### Impacto de los comentarios en las ventas\n",
    "\n",
    "Veamos cómo se ven afectadas las ventas por las reseñas de los usuarios y los críticos usando el ejemplo de PlayStation 4. Construyamos un diagrama de dispersión y calculemos la correlación entre las reseñas y las ventas. "
   ]
  },
  {
   "cell_type": "code",
   "execution_count": 31,
   "metadata": {},
   "outputs": [
    {
     "data": {
      "image/png": "[encoded data removed]",
      "text/plain": [
       "<Figure size 720x288 with 1 Axes>"
      ]
     },
     "metadata": {
      "needs_background": "light"
     },
     "output_type": "display_data"
    }
   ],
   "source": [
    "data.query('platform==\"PS4\" and critic_score > 0').sort_values(by='critic_score',ascending=True).plot(kind='scatter',x='critic_score',y='total_sales',figsize=(10,4),title='Диаграмма рассеяния зависимости продаж платформы PS4 от отзывов критиков');"
   ]
  },
  {
   "cell_type": "code",
   "execution_count": 32,
   "metadata": {},
   "outputs": [
    {
     "data": {
      "image/png": "[encoded data removed]",
      "text/plain": [
       "<Figure size 720x288 with 1 Axes>"
      ]
     },
     "metadata": {
      "needs_background": "light"
     },
     "output_type": "display_data"
    }
   ],
   "source": [
    "data.query('platform==\"PS4\" and user_score > 0').sort_values(by='user_score',ascending=True).plot(kind='scatter',x='user_score',y='total_sales',figsize=(10,4),title='Диаграмма рассеяния зависимости продаж платформы PS4 от отзывов игроков');"
   ]
  },
  {
   "cell_type": "markdown",
   "metadata": {},
   "source": [
    "Los gráficos muestran que la dependencia de las ventas en las calificaciones está presente, pero no demasiado fuerte. Las ventas son mayores para los juegos más valorados, el corelling es positivo. Los juegos más vendidos tienen una calificación de 75-85 por los críticos. Las puntuaciones de los jugadores no tienen una dependencia de un dígito, en general, los juegos con una calificación de 5 a 9 se venden (simplemente no hay una calificación de 10).\n",
    "\n",
    "Correlacionar los hallazgos con las ventas de juegos en otras plataformas."
   ]
  },
  {
   "cell_type": "code",
   "execution_count": 33,
   "metadata": {
    "scrolled": false
   },
   "outputs": [
    {
     "data": {
      "image/png": "[encoded data removed]",
      "text/plain": [
       "<Figure size 720x288 with 1 Axes>"
      ]
     },
     "metadata": {
      "needs_background": "light"
     },
     "output_type": "display_data"
    },
    {
     "data": {
      "image/png": "[encoded data removed]",
      "text/plain": [
       "<Figure size 720x288 with 1 Axes>"
      ]
     },
     "metadata": {
      "needs_background": "light"
     },
     "output_type": "display_data"
    },
    {
     "data": {
      "image/png": "[encoded data removed]",
      "text/plain": [
       "<Figure size 720x288 with 1 Axes>"
      ]
     },
     "metadata": {
      "needs_background": "light"
     },
     "output_type": "display_data"
    },
    {
     "data": {
      "image/png": "[encoded data removed]",
      "text/plain": [
       "<Figure size 720x288 with 1 Axes>"
      ]
     },
     "metadata": {
      "needs_background": "light"
     },
     "output_type": "display_data"
    },
    {
     "data": {
      "image/png": "[encoded data removed]",
      "text/plain": [
       "<Figure size 720x288 with 1 Axes>"
      ]
     },
     "metadata": {
      "needs_background": "light"
     },
     "output_type": "display_data"
    },
    {
     "data": {
      "image/png": "[encoded data removed]",
      "text/plain": [
       "<Figure size 720x288 with 1 Axes>"
      ]
     },
     "metadata": {
      "needs_background": "light"
     },
     "output_type": "display_data"
    },
    {
     "data": {
      "image/png": "[encoded data removed]",
      "text/plain": [
       "<Figure size 720x288 with 1 Axes>"
      ]
     },
     "metadata": {
      "needs_background": "light"
     },
     "output_type": "display_data"
    },
    {
     "data": {
      "image/png": "[encoded data removed]",
      "text/plain": [
       "<Figure size 720x288 with 1 Axes>"
      ]
     },
     "metadata": {
      "needs_background": "light"
     },
     "output_type": "display_data"
    },
    {
     "data": {
      "image/png": "[encoded data removed]",
      "text/plain": [
       "<Figure size 720x288 with 1 Axes>"
      ]
     },
     "metadata": {
      "needs_background": "light"
     },
     "output_type": "display_data"
    },
    {
     "data": {
      "image/png": "[encoded data removed]",
      "text/plain": [
       "<Figure size 720x288 with 1 Axes>"
      ]
     },
     "metadata": {
      "needs_background": "light"
     },
     "output_type": "display_data"
    }
   ],
   "source": [
    "platforms = data.platform.unique()\n",
    "platforms = list(platforms)\n",
    "if \"PS4\" in platforms:\n",
    "    platforms.remove(\"PS4\")\n",
    "for platform in platforms: #диаграммы рассеивания для пользовательских оценок\n",
    "    data.query('platform==@platform and user_score > 0').sort_values(by='user_score',ascending=True).plot(kind='scatter',x='user_score',y='total_sales',figsize=(10,4),title=platform);\n"
   ]
  },
  {
   "cell_type": "markdown",
   "metadata": {},
   "source": [
    "Nosotros observamos lo siguiente.\n",
    "El PS3 tiene una corellication positiva, pero la dependencia no es fuerte. Las ventas altas comienzan en 4 puntos, e incluso hay emisiones en 2 puntos. Hay un éxito de ventas de 8 y ventas de más de 20 millones.\n",
    "XboX 360 tiene una historia similar. Me pregunto si el éxito es el mismo, solo para esta plataforma.\n",
    "El 3DS y WiiU tienen una mejor dependencia de las ventas en las altas calificaciones.\n",
    "Con XOne y PC, la distribución de las ventas es uniforme y comienza con 5 puntos. Sin embargo, el PC tiene algún tipo de éxito de ventas con 4 puntos.\n",
    "PS Vita vende principalmente juegos altamente calificados.\n",
    "Wii, PSP y DS no evaluarán, porque. juegos vendidos con clasificaciones son muy pocos.\n",
    "\n",
    "Repitamos el experimento de evaluación crítica."
   ]
  },
  {
   "cell_type": "code",
   "execution_count": 34,
   "metadata": {},
   "outputs": [
    {
     "data": {
      "image/png": "[encoded data removed]",
      "text/plain": [
       "<Figure size 720x288 with 1 Axes>"
      ]
     },
     "metadata": {
      "needs_background": "light"
     },
     "output_type": "display_data"
    },
    {
     "data": {
      "image/png": "[encoded data removed]",
      "text/plain": [
       "<Figure size 720x288 with 1 Axes>"
      ]
     },
     "metadata": {
      "needs_background": "light"
     },
     "output_type": "display_data"
    },
    {
     "data": {
      "image/png": "[encoded data removed]",
      "text/plain": [
       "<Figure size 720x288 with 1 Axes>"
      ]
     },
     "metadata": {
      "needs_background": "light"
     },
     "output_type": "display_data"
    },
    {
     "data": {
      "image/png": "[encoded data removed]",
      "text/plain": [
       "<Figure size 720x288 with 1 Axes>"
      ]
     },
     "metadata": {
      "needs_background": "light"
     },
     "output_type": "display_data"
    },
    {
     "data": {
      "image/png": "[encoded data removed]",
      "text/plain": [
       "<Figure size 720x288 with 1 Axes>"
      ]
     },
     "metadata": {
      "needs_background": "light"
     },
     "output_type": "display_data"
    },
    {
     "data": {
      "image/png": "[encoded data removed]",
      "text/plain": [
       "<Figure size 720x288 with 1 Axes>"
      ]
     },
     "metadata": {
      "needs_background": "light"
     },
     "output_type": "display_data"
    },
    {
     "data": {
      "image/png": "[encoded data removed]",
      "text/plain": [
       "<Figure size 720x288 with 1 Axes>"
      ]
     },
     "metadata": {
      "needs_background": "light"
     },
     "output_type": "display_data"
    },
    {
     "data": {
      "image/png": "[encoded data removed]",
      "text/plain": [
       "<Figure size 720x288 with 1 Axes>"
      ]
     },
     "metadata": {
      "needs_background": "light"
     },
     "output_type": "display_data"
    },
    {
     "data": {
      "image/png": "[encoded data removed]",
      "text/plain": [
       "<Figure size 720x288 with 1 Axes>"
      ]
     },
     "metadata": {
      "needs_background": "light"
     },
     "output_type": "display_data"
    },
    {
     "data": {
      "image/png": "[encoded data removed]",
      "text/plain": [
       "<Figure size 720x288 with 1 Axes>"
      ]
     },
     "metadata": {
      "needs_background": "light"
     },
     "output_type": "display_data"
    }
   ],
   "source": [
    "for platform in platforms: \n",
    "    data.query('platform==@platform and critic_score > 0').sort_values(by='critic_score',ascending=True).plot(kind='scatter',x='critic_score',y='total_sales',figsize=(10,4),title=platform);"
   ]
  },
  {
   "cell_type": "markdown",
   "metadata": {},
   "source": [
    "PSP y DS no será considerado, porque. juegos con calificaciones críticas para los años actuales ya no son.\n",
    "La PS3 tiene una dependencia de ventas directas de las calificaciones, y de nuevo vemos un éxito de ventas con las calificaciones críticas más altas. La misma historia es cierta para Xbox360, WiiU y 3DS. Xbox One tiene más éxitos, muestra muy claramente cómo las ventas dependen de la calificación. El PC también se vende mejor con una alta calificación, pero el éxito principal es el juego con una calificación de 70. PSVita generalmente no tiene juegos clasificados por debajo de 40 y la variación es similar.\n"
   ]
  },
  {
   "cell_type": "markdown",
   "metadata": {},
   "source": [
    "### Distribución de juegos por género\n",
    "\n",
    "Vamos a evaluar la distribución de los juegos por géneros."
   ]
  },
  {
   "cell_type": "code",
   "execution_count": 35,
   "metadata": {},
   "outputs": [
    {
     "data": {
      "image/png": "[encoded data removed]",
      "text/plain": [
       "<Figure size 720x720 with 1 Axes>"
      ]
     },
     "metadata": {
      "needs_background": "light"
     },
     "output_type": "display_data"
    }
   ],
   "source": [
    "data.pivot_table(index='genre', aggfunc='mean', values='total_sales').sort_values(by='total_sales').plot.barh(stacked=True, figsize=(10,10));"
   ]
  },
  {
   "cell_type": "code",
   "execution_count": 36,
   "metadata": {},
   "outputs": [
    {
     "data": {
      "image/png": "[encoded data removed]",
      "text/plain": [
       "<Figure size 720x720 with 1 Axes>"
      ]
     },
     "metadata": {
      "needs_background": "light"
     },
     "output_type": "display_data"
    }
   ],
   "source": [
    "data.pivot_table(index='genre', aggfunc='median', values='total_sales').sort_values(by='total_sales').plot.barh(stacked=True, figsize=(10,10));"
   ]
  },
  {
   "cell_type": "markdown",
   "metadata": {},
   "source": [
    "La mediana y el promedio de ventas han cambiado, la acción llegó hasta el séptimo lugar. ¿Quizás son simplemente más costosos y por lo tanto las ventas totales eran más altas a pesar de que las copias se vendieron menos?\n",
    "Corregir los géneros más populares en la salida.\n",
    "\n",
    "El género más rentable - tiradores, seguido de plataformas, deportes y juegos de rol. El menos rentable - misiones.\n",
    "\n",
    "## Perfil de usuario de cada región\n",
    "\n",
    "Definir el retrato para el usuario de cada región (NA, UE, JP).\n",
    "\n",
    "### Plataformas más populares\n",
    "\n",
    "Determina las 5 plataformas más populares por región."
   ]
  },
  {
   "cell_type": "code",
   "execution_count": 37,
   "metadata": {},
   "outputs": [
    {
     "data": {
      "image/png": "[encoded data removed]",
      "text/plain": [
       "<Figure size 432x288 with 1 Axes>"
      ]
     },
     "metadata": {},
     "output_type": "display_data"
    }
   ],
   "source": [
    "data.pivot_table(index='platform', aggfunc='sum', values='na_sales').sort_values(by='na_sales', ascending=False).head(5).plot(kind='pie', y='na_sales', autopct='%1.0f%%', title='Северная Америка');"
   ]
  },
  {
   "cell_type": "code",
   "execution_count": 38,
   "metadata": {},
   "outputs": [
    {
     "data": {
      "image/png": "[encoded data removed]",
      "text/plain": [
       "<Figure size 432x288 with 1 Axes>"
      ]
     },
     "metadata": {},
     "output_type": "display_data"
    }
   ],
   "source": [
    "data.pivot_table(index='platform', aggfunc='sum', values='eu_sales').sort_values(by='eu_sales', ascending=False).head(5).plot(kind='pie', y='eu_sales', autopct='%1.0f%%', title='Европа');"
   ]
  },
  {
   "cell_type": "code",
   "execution_count": 39,
   "metadata": {},
   "outputs": [
    {
     "data": {
      "image/png": "[encoded data removed]",
      "text/plain": [
       "<Figure size 432x288 with 1 Axes>"
      ]
     },
     "metadata": {},
     "output_type": "display_data"
    }
   ],
   "source": [
    "data.pivot_table(index='platform', aggfunc='sum', values='jp_sales').sort_values(by='jp_sales', ascending=False).head(5).plot(kind='pie', y='jp_sales', autopct='%1.0f%%', title='Япония');"
   ]
  },
  {
   "cell_type": "markdown",
   "metadata": {},
   "source": [
    "En Norteamérica, la distribución entre plataformas populares es similar. Con un pequeño hueco y poca diferencia entre las últimas plataformas de juego de los dos principales competidores: PlayStation 4 y xBox One (28% y 24%, respectivamente). Les siguen las generaciones anteriores de plataformas de los mismos fabricantes: xBox 360 con 21% y PlayStation 3 con 16%. Curiosamente, la diferencia entre las generaciones de xBox es mucho menor, lo que significa que los jugadores no tienen prisa por actualizar la consola a una nueva, a diferencia de los fans de Sony. Cierra las cinco mejores consolas portátiles de Nintendo 3DS con un 10%.\n",
    "\n",
    "En Europa, la mayoría elige la PlayStation, con ambas generaciones ocupando los dos primeros lugares (un total del 62%). La mayoría ya ha cambiado a PS4 (hasta un 42%). Seguido por las consolas xBox One y xBox 360, con un total del 28%. Cierra el top 5 de nuevo 3DS con un 9%.\n",
    "\n",
    "En Japón, la situación es completamente diferente. En primer lugar, solo admiten a su fabricante, las consolas de Microsoft no están en demanda aquí. La Nintendo 3DS llega primero con hasta un 50% del mercado. Tres consolas Sony PlayStation le siguen, con la PlayStation Vita en tercer lugar con un 14%. El quinto lugar va a la Wii U con un 8%. Obviamente, los japoneses prefieren las consolas portátiles estacionarias, en total tienen hasta el 72% del mercado.\n",
    "\n",
    "### Géneros más populares\n",
    "\n",
    "Determine los 5 principales géneros populares por región."
   ]
  },
  {
   "cell_type": "code",
   "execution_count": 40,
   "metadata": {},
   "outputs": [
    {
     "data": {
      "image/png": "[encoded data removed]",
      "text/plain": [
       "<Figure size 504x504 with 1 Axes>"
      ]
     },
     "metadata": {},
     "output_type": "display_data"
    }
   ],
   "source": [
    "data.pivot_table(index='genre', aggfunc='sum', values='na_sales').sort_values(by='na_sales', ascending=False).head(5).plot(kind='pie', y='na_sales', autopct='%1.0f%%', title='Северная Америка', figsize=(7,7));"
   ]
  },
  {
   "cell_type": "code",
   "execution_count": 41,
   "metadata": {},
   "outputs": [
    {
     "data": {
      "image/png": "[encoded data removed]",
      "text/plain": [
       "<Figure size 504x504 with 1 Axes>"
      ]
     },
     "metadata": {},
     "output_type": "display_data"
    }
   ],
   "source": [
    "data.pivot_table(index='genre', aggfunc='sum', values='eu_sales').sort_values(by='eu_sales', ascending=False).head(5).plot(kind='pie', y='eu_sales', autopct='%1.0f%%', title='Европа', figsize=(7,7));"
   ]
  },
  {
   "cell_type": "code",
   "execution_count": 42,
   "metadata": {},
   "outputs": [
    {
     "data": {
      "image/png": "[encoded data removed]",
      "text/plain": [
       "<Figure size 504x504 with 1 Axes>"
      ]
     },
     "metadata": {},
     "output_type": "display_data"
    }
   ],
   "source": [
    "data.pivot_table(index='genre', aggfunc='sum', values='jp_sales').sort_values(by='jp_sales', ascending=False).head(5).plot(kind='pie', y='jp_sales', autopct='%1.0f%%', title='Япония', figsize=(7,7));"
   ]
  },
  {
   "cell_type": "markdown",
   "metadata": {},
   "source": [
    "En América y Europa, prefieren los mismos géneros, incluso la proporción porcentual es aproximadamente la misma. En primer lugar están los juegos de acción (34-37%), seguidos de los shooters (27-29%), los juegos deportivos (17-19%) y los juegos de rol (11-12%). La única diferencia es que en América en quinto lugar del género mixto (7%) y en Europa - raza (6%).\n",
    "\n",
    "En Japón, el juego de roles (44%), seguido por la acción (35%), el género mixto (8%), la lucha (7%) y los tiradores (6%), son los primeros lugares.\n",
    "\n",
    "#### Impacto de la calificación ESRB\n",
    "\n",
    "Veamos si la edad afecta las ventas.\n",
    "Recuerde que llenamos los valores de saltos desconocidos. Aquí no los necesitamos, filtre el conjunto de datos"
   ]
  },
  {
   "cell_type": "code",
   "execution_count": 43,
   "metadata": {},
   "outputs": [
    {
     "data": {
      "image/png": "[encoded data removed]",
      "text/plain": [
       "<Figure size 504x504 with 1 Axes>"
      ]
     },
     "metadata": {},
     "output_type": "display_data"
    }
   ],
   "source": [
    "data.pivot_table(index='rating', aggfunc='sum', values='na_sales').sort_values(by='na_sales', ascending=False).plot(kind='pie', y='na_sales', autopct='%1.0f%%', title='Северная Америка', figsize=(7,7));"
   ]
  },
  {
   "cell_type": "code",
   "execution_count": 44,
   "metadata": {},
   "outputs": [
    {
     "data": {
      "image/png": "[encoded data removed]",
      "text/plain": [
       "<Figure size 504x504 with 1 Axes>"
      ]
     },
     "metadata": {},
     "output_type": "display_data"
    }
   ],
   "source": [
    "data.pivot_table(index='rating', aggfunc='sum', values='eu_sales').sort_values(by='eu_sales', ascending=False).plot(kind='pie', y='eu_sales', autopct='%1.0f%%', title='Европа', figsize=(7,7));"
   ]
  },
  {
   "cell_type": "code",
   "execution_count": 45,
   "metadata": {},
   "outputs": [
    {
     "data": {
      "image/png": "[encoded data removed]",
      "text/plain": [
       "<Figure size 504x504 with 1 Axes>"
      ]
     },
     "metadata": {},
     "output_type": "display_data"
    }
   ],
   "source": [
    "data.pivot_table(index='rating', aggfunc='sum', values='jp_sales').sort_values(by='jp_sales', ascending=False).plot(kind='pie', y='jp_sales', autopct='%1.0f%%', title='Япония', figsize=(7,7));"
   ]
  },
  {
   "cell_type": "markdown",
   "metadata": {},
   "source": [
    "Tenga en cuenta que las calificaciones están en todas partes en el sistema ESRB de EE.UU. Europa y Japón tienen sus propios sistemas de calificación: PEGI y CERO.\n",
    "En total tenemos cuatro valores: E10+ - adecuado para todos a partir de 10 años, T - Adolescente (adecuado para adolescentes a partir de 13 años), M - Maduro (para adultos de al menos 17 años) y E - Todo el mundo (adecuado para todos).\n",
    "\n",
    "En América y Europa, la situación se repite de nuevo. Curiosamente, los juegos más vendidos para adultos (37-38%). Por otro lado, no es sorprendente, dado el amor por la acción y los tiradores con sangre, etc. parafernalia adulta. La mayoría de los bestsellers tienen esta calificación: GTA, Far Cry, Doom, Resident Evil, Red Dead Redemption, etc. El 20% son juegos con una calificación desconocida. Probablemente, no son liberados en Estados Unidos y tienen su propia clasificación de edad, que no tenemos. En segundo lugar en ambas regiones - juegos adecuados para todos (18-21%).\n",
    "\n",
    "En Japón, la mayoría de los juegos (hasta un 60%) no tienen calificación. Dado que hemos aprendido que ambas consolas prefieren las suyas propias, y el género es diferente, es obvio que los juegos que más probablemente eligen su japonés, con su clasificación de edad en el sistema CERO. No tenemos tales datos, solo podemos entender que la principal elección que hacen no es a favor de los juegos estadounidenses.\n",
    "\n",
    "## Hypothesis Testing\n",
    "\n",
    "### Las valoraciones promedio de los usuarios de las plataformas Xbox One y PC son las mismas\n",
    "\n",
    "Hipótesis nula: Las calificaciones de los usuarios de XOne y PC son iguales.\n",
    "Hipótesis alternativa: La valoración del usuario de la plataforma XOne y el PC no son iguales."
   ]
  },
  {
   "cell_type": "code",
   "execution_count": 46,
   "metadata": {},
   "outputs": [],
   "source": [
    "xone_data = data.query('platform==\"XOne\" & user_score !=0')\n",
    "pc_data = data.query('platform==\"PC\" & user_score !=0')"
   ]
  },
  {
   "cell_type": "code",
   "execution_count": 47,
   "metadata": {},
   "outputs": [
    {
     "name": "stderr",
     "output_type": "stream",
     "text": [
      "/opt/conda/lib/python3.9/site-packages/seaborn/distributions.py:2557: FutureWarning: `distplot` is a deprecated function and will be removed in a future version. Please adapt your code to use either `displot` (a figure-level function with similar flexibility) or `histplot` (an axes-level function for histograms).\n",
      "  warnings.warn(msg, FutureWarning)\n"
     ]
    },
    {
     "data": {
      "image/png": "[encoded data removed]",
      "text/plain": [
       "<Figure size 720x432 with 1 Axes>"
      ]
     },
     "metadata": {
      "needs_background": "light"
     },
     "output_type": "display_data"
    }
   ],
   "source": [
    "plt.figure(figsize=(10,6))\n",
    "sns.distplot(xone_data['user_score']);"
   ]
  },
  {
   "cell_type": "code",
   "execution_count": 48,
   "metadata": {},
   "outputs": [
    {
     "name": "stdout",
     "output_type": "stream",
     "text": [
      "Среднее значение пользовательского рейтинга платформы XOne: 6.521428571428572\n",
      "Дисперсия для платформы XOne: 1.9069968429360695\n",
      "Стандартное отклонение для платформы XOne: 1.380940564592144\n",
      "Доверительный 95% интервал для пользовательского рейтинга платформы XOne: (6.319452023663737, 6.723405119193408)\n"
     ]
    }
   ],
   "source": [
    "mean_xone = xone_data['user_score'].mean() \n",
    "print('Среднее значение пользовательского рейтинга платформы XOne:', mean_xone)\n",
    "variance_xone = np.var(xone_data['user_score'], ddof=1) \n",
    "print('Дисперсия для платформы XOne:',variance_xone)\n",
    "standart_deviation_xone = np.sqrt(variance_xone) \n",
    "print('Стандартное отклонение для платформы XOne:',standart_deviation_xone)\n",
    "st_interval_xone = st.t.interval(0.95, len(xone_data['user_score'])-1, loc = np.mean(xone_data['user_score']), scale = st.sem(xone_data['user_score'])) #Доверительный интервал пользовательских рейтингов для платформы XOne\n",
    "print('Доверительный 95% интервал для пользовательского рейтинга платформы XOne:',st_interval_xone)"
   ]
  },
  {
   "cell_type": "code",
   "execution_count": 49,
   "metadata": {},
   "outputs": [
    {
     "name": "stderr",
     "output_type": "stream",
     "text": [
      "/opt/conda/lib/python3.9/site-packages/seaborn/distributions.py:2557: FutureWarning: `distplot` is a deprecated function and will be removed in a future version. Please adapt your code to use either `displot` (a figure-level function with similar flexibility) or `histplot` (an axes-level function for histograms).\n",
      "  warnings.warn(msg, FutureWarning)\n"
     ]
    },
    {
     "data": {
      "image/png": "[encoded data removed]",
      "text/plain": [
       "<Figure size 720x432 with 1 Axes>"
      ]
     },
     "metadata": {
      "needs_background": "light"
     },
     "output_type": "display_data"
    }
   ],
   "source": [
    "plt.figure(figsize=(10,6))\n",
    "sns.distplot(pc_data['user_score']);"
   ]
  },
  {
   "cell_type": "code",
   "execution_count": 50,
   "metadata": {},
   "outputs": [
    {
     "name": "stdout",
     "output_type": "stream",
     "text": [
      "Среднее значение пользовательского рейтинга платформы PC: 6.283974358974358\n",
      "Дисперсия для платформы PC: 3.048193134822167\n",
      "Стандартное отклонение для платформы PC: 1.7459075390243801\n",
      "Доверительный 95% интервал для пользовательского рейтинга платформы PC: (6.081769534571682, 6.486179183377035)\n"
     ]
    }
   ],
   "source": [
    "mean_pc = pc_data['user_score'].mean() #Среднее значение пользовательских рейтингов для платформы PC\n",
    "print('Среднее значение пользовательского рейтинга платформы PC:', mean_pc)\n",
    "variance_pc = np.var(pc_data['user_score'], ddof=1) #Дисперсия пользовательских рейтингов для платформы PC\n",
    "print('Дисперсия для платформы PC:',variance_pc)\n",
    "standart_deviation_pc = np.sqrt(variance_pc) #Стандартное отклонение пользовательских рейтингов для платформы PC\n",
    "print('Стандартное отклонение для платформы PC:',standart_deviation_pc)\n",
    "st_interval_pc = st.t.interval(0.95, len(pc_data['user_score'])-1, loc = np.mean(pc_data['user_score']), scale = st.sem(xone_data['user_score'])) #Доверительный интервал пользовательских рейтингов для платформы PC\n",
    "print('Доверительный 95% интервал для пользовательского рейтинга платформы PC:',st_interval_pc)"
   ]
  },
  {
   "cell_type": "markdown",
   "metadata": {},
   "source": [
    "Hipótesis nula: Las calificaciones de los usuarios de XOne y PC son iguales."
   ]
  },
  {
   "cell_type": "code",
   "execution_count": 51,
   "metadata": {},
   "outputs": [
    {
     "name": "stdout",
     "output_type": "stream",
     "text": [
      "Значение p-value: 0.17156613829336056\n",
      "Отвергаем нулевую гипотезу не удалось\n"
     ]
    }
   ],
   "source": [
    "alpha = .05 #Статистическая значимость\n",
    "result = st.ttest_ind(xone_data['user_score'],pc_data['user_score'],equal_var=False) \n",
    "# проверяем равенство двух независимых совокупностей. Значения дисперсий разные, поэтому equal_var=False\n",
    "print('Значение p-value:', result.pvalue)\n",
    "if result.pvalue<alpha:\n",
    "    print('Отвергаем нулевую гипотезу')\n",
    "else:\n",
    "    print('Отвергаем нулевую гипотезу не удалось')"
   ]
  },
  {
   "cell_type": "markdown",
   "metadata": {},
   "source": [
    "No se pudo rechazar la hipótesis nula. Los valores promedio de las dos muestras maestras de las calificaciones de usuario de XOne y PC son realmente iguales.\n",
    "\n",
    "### Las valoraciones promedio de los usuarios de los géneros Acción y Deportes son diferentes\n",
    "\n",
    "Hipótesis nula: Las valoraciones de los usuarios de Acción y Deportes son iguales.\n",
    "Hipótesis alternativa: Reducir la valoración del usuario de Action to Sports."
   ]
  },
  {
   "cell_type": "code",
   "execution_count": 52,
   "metadata": {},
   "outputs": [],
   "source": [
    "action_data = data.query('genre==\"Action\" & user_score !=0')\n",
    "sport_data = data.query('genre==\"Sports\" & user_score !=0')"
   ]
  },
  {
   "cell_type": "code",
   "execution_count": 53,
   "metadata": {},
   "outputs": [
    {
     "name": "stderr",
     "output_type": "stream",
     "text": [
      "/opt/conda/lib/python3.9/site-packages/seaborn/distributions.py:2557: FutureWarning: `distplot` is a deprecated function and will be removed in a future version. Please adapt your code to use either `displot` (a figure-level function with similar flexibility) or `histplot` (an axes-level function for histograms).\n",
      "  warnings.warn(msg, FutureWarning)\n"
     ]
    },
    {
     "data": {
      "image/png": "[encoded data removed]",
      "text/plain": [
       "<Figure size 720x432 with 1 Axes>"
      ]
     },
     "metadata": {
      "needs_background": "light"
     },
     "output_type": "display_data"
    }
   ],
   "source": [
    "plt.figure(figsize=(10,6))\n",
    "sns.distplot(action_data['user_score']);"
   ]
  },
  {
   "cell_type": "code",
   "execution_count": 54,
   "metadata": {},
   "outputs": [
    {
     "name": "stdout",
     "output_type": "stream",
     "text": [
      "Среднее значение жанра Action пользовательского рейтинга: 6.841794871794871\n",
      "Дисперсия жанра Action пользовательского рейтинга: 1.7718990837782609\n",
      "Стандартное отклонение жанра Action пользовательского рейтинга: 1.3311269976145255\n",
      "Доверительный 95% интервал для пользовательского рейтинга жанра Action: (6.70927268043978, 6.974317063149962)\n"
     ]
    }
   ],
   "source": [
    "mean_action=action_data['user_score'].mean()\n",
    "print('Среднее значение жанра Action пользовательского рейтинга:',mean_action)\n",
    "variance_action_data=np.var(action_data['user_score'],ddof=1)\n",
    "print('Дисперсия жанра Action пользовательского рейтинга:',variance_action_data)\n",
    "standart_deviation_action=np.sqrt(variance_action_data)\n",
    "print('Стандартное отклонение жанра Action пользовательского рейтинга:',standart_deviation_action)\n",
    "st_interval_action=st.t.interval(0.95, len(action_data['user_score'])-1, loc=np.mean(action_data['user_score']), scale=st.sem(action_data['user_score']))\n",
    "print('Доверительный 95% интервал для пользовательского рейтинга жанра Action:',st_interval_action)"
   ]
  },
  {
   "cell_type": "code",
   "execution_count": 55,
   "metadata": {},
   "outputs": [
    {
     "name": "stderr",
     "output_type": "stream",
     "text": [
      "/opt/conda/lib/python3.9/site-packages/seaborn/distributions.py:2557: FutureWarning: `distplot` is a deprecated function and will be removed in a future version. Please adapt your code to use either `displot` (a figure-level function with similar flexibility) or `histplot` (an axes-level function for histograms).\n",
      "  warnings.warn(msg, FutureWarning)\n"
     ]
    },
    {
     "data": {
      "image/png": "[encoded data removed]",
      "text/plain": [
       "<Figure size 720x432 with 1 Axes>"
      ]
     },
     "metadata": {
      "needs_background": "light"
     },
     "output_type": "display_data"
    }
   ],
   "source": [
    "plt.figure(figsize=(10,6))\n",
    "sns.distplot(sport_data['user_score']);"
   ]
  },
  {
   "cell_type": "code",
   "execution_count": 56,
   "metadata": {},
   "outputs": [
    {
     "name": "stdout",
     "output_type": "stream",
     "text": [
      "Среднее значение жанра Sport пользовательского рейтинга: 5.238124999999999\n",
      "Дисперсия жанра Sport пользовательского рейтинга: 3.180612814465409\n",
      "Стандартное отклонение жанра Sport пользовательского рейтинга: 1.7834272663793747\n",
      "Доверительный 95% интервал для пользовательского рейтинга жанра Sport: (4.9596657314482115, 5.516584268551787)\n"
     ]
    }
   ],
   "source": [
    "mean_sport=sport_data['user_score'].mean()\n",
    "print('Среднее значение жанра Sport пользовательского рейтинга:',mean_sport)\n",
    "variance_sport_data=np.var(sport_data['user_score'],ddof=1)\n",
    "print('Дисперсия жанра Sport пользовательского рейтинга:',variance_sport_data)\n",
    "standart_deviation_sport=np.sqrt(variance_sport_data)\n",
    "print('Стандартное отклонение жанра Sport пользовательского рейтинга:',standart_deviation_sport)\n",
    "st_interval_sport=st.t.interval(0.95, len(sport_data['user_score'])-1, loc=np.mean(sport_data['user_score']), scale=st.sem(sport_data['user_score']))\n",
    "print('Доверительный 95% интервал для пользовательского рейтинга жанра Sport:',st_interval_sport)"
   ]
  },
  {
   "cell_type": "code",
   "execution_count": 57,
   "metadata": {},
   "outputs": [
    {
     "name": "stdout",
     "output_type": "stream",
     "text": [
      "p-value: 2.6073714620239206e-22\n",
      "Отвергаем нулевую гипотезу\n"
     ]
    }
   ],
   "source": [
    "alpha=.05 \n",
    "interested_value=mean_action \n",
    "result=st.ttest_1samp(sport_data['user_score'],interested_value) \n",
    "print('p-value:',result.pvalue)\n",
    "if (result.pvalue/2<alpha) and (mean_sport<=interested_value):\n",
    "    print('Отвергаем нулевую гипотезу')\n",
    "else:\n",
    "    print('Не удалось отвергнуть нулевую гипотезу')"
   ]
  },
  {
   "cell_type": "markdown",
   "metadata": {},
   "source": [
    "La hipótesis nula es rechazada. La valoración media del usuario de Acción es mayor que la de Deportes.\n",
    "\n",
    "La función ttest_ind se utilizó para formular hipótesis nulas. En primer lugar, se comparó el promedio de dos poblaciones, y luego con significación estadística. Se estableció en el 5%.\n",
    "\n",
    "## Conclusión general\n",
    "\n",
    "Por lo tanto, hemos identificado plataformas potencialmente lucrativas, géneros, juegos eliminados por año y clasificaciones ordenadas.\n",
    "\n",
    "Dejamos solo juegos lanzados desde 2013 - ahora se están vendiendo mejor. Plataformas de juego para las que hay que vender juegos: PlayStation 3, PlayStaton 4, xBox 360, xBox One, Nintendo 3DS, así como dejar una pequeña gama para los fans de PC, PS Vita y Wii U. Los principales géneros que deben mantenerse en la gama de tiradores, juegos de plataformas y deportes. Se necesitan más juegos de rol para consolas portátiles. Lo más probable es que sean de fabricantes japoneses, porque la mayoría de los compradores en Japón prefiere sus juegos. Y, por supuesto, no os olvidéis de las valoraciones tanto de los usuarios como de los críticos. Cuanto más alto sea, mejores serán las ventas del juego. "
   ]
  },
  {
   "cell_type": "code",
   "execution_count": null,
   "metadata": {},
   "outputs": [],
   "source": []
  }
 ],
 "metadata": {
  "ExecuteTimeLog": [
   {
    "duration": 565,
    "start_time": "2022-12-21T09:08:44.688Z"
   },
   {
    "duration": 3,
    "start_time": "2022-12-21T09:30:59.983Z"
   },
   {
    "duration": 22,
    "start_time": "2022-12-21T09:31:15.780Z"
   },
   {
    "duration": 635,
    "start_time": "2022-12-21T09:41:21.707Z"
   },
   {
    "duration": 5,
    "start_time": "2022-12-21T09:42:13.463Z"
   },
   {
    "duration": 14,
    "start_time": "2022-12-21T09:42:25.685Z"
   },
   {
    "duration": 499,
    "start_time": "2022-12-21T09:44:27.444Z"
   },
   {
    "duration": 3,
    "start_time": "2022-12-21T09:44:27.945Z"
   },
   {
    "duration": 28,
    "start_time": "2022-12-21T09:44:27.949Z"
   },
   {
    "duration": 80,
    "start_time": "2022-12-21T09:44:27.978Z"
   },
   {
    "duration": 0,
    "start_time": "2022-12-21T09:44:28.060Z"
   },
   {
    "duration": 2,
    "start_time": "2022-12-21T09:46:41.684Z"
   },
   {
    "duration": 13,
    "start_time": "2022-12-21T09:48:01.221Z"
   },
   {
    "duration": 23,
    "start_time": "2022-12-21T09:49:03.612Z"
   },
   {
    "duration": 1220,
    "start_time": "2022-12-21T10:18:12.023Z"
   },
   {
    "duration": 21,
    "start_time": "2022-12-21T10:18:34.343Z"
   },
   {
    "duration": 72,
    "start_time": "2022-12-21T10:20:09.877Z"
   },
   {
    "duration": 10,
    "start_time": "2022-12-21T10:20:22.326Z"
   },
   {
    "duration": 12,
    "start_time": "2022-12-21T10:21:04.143Z"
   },
   {
    "duration": 9,
    "start_time": "2022-12-21T10:27:57.793Z"
   },
   {
    "duration": 10,
    "start_time": "2022-12-21T10:28:22.643Z"
   },
   {
    "duration": 8,
    "start_time": "2022-12-21T10:28:44.233Z"
   },
   {
    "duration": 19,
    "start_time": "2022-12-21T10:32:56.672Z"
   },
   {
    "duration": 17,
    "start_time": "2022-12-21T10:34:06.645Z"
   },
   {
    "duration": 27,
    "start_time": "2022-12-21T10:34:58.171Z"
   },
   {
    "duration": 73,
    "start_time": "2022-12-21T10:35:58.483Z"
   },
   {
    "duration": 73,
    "start_time": "2022-12-21T10:36:29.216Z"
   },
   {
    "duration": 82,
    "start_time": "2022-12-21T10:39:52.357Z"
   },
   {
    "duration": 11,
    "start_time": "2022-12-21T10:40:00.905Z"
   },
   {
    "duration": 8,
    "start_time": "2022-12-21T10:47:15.354Z"
   },
   {
    "duration": 24,
    "start_time": "2022-12-21T10:47:41.467Z"
   },
   {
    "duration": 11,
    "start_time": "2022-12-21T10:48:31.141Z"
   },
   {
    "duration": 22,
    "start_time": "2022-12-21T10:48:54.006Z"
   },
   {
    "duration": 6,
    "start_time": "2022-12-21T10:49:30.962Z"
   },
   {
    "duration": 9,
    "start_time": "2022-12-21T10:49:35.428Z"
   },
   {
    "duration": 22,
    "start_time": "2022-12-21T10:49:44.033Z"
   },
   {
    "duration": 21,
    "start_time": "2022-12-21T10:53:51.961Z"
   },
   {
    "duration": 5,
    "start_time": "2022-12-21T10:59:55.807Z"
   },
   {
    "duration": 21,
    "start_time": "2022-12-21T10:59:58.552Z"
   },
   {
    "duration": 22,
    "start_time": "2022-12-21T11:00:19.508Z"
   },
   {
    "duration": 10,
    "start_time": "2022-12-21T11:16:05.808Z"
   },
   {
    "duration": 34,
    "start_time": "2022-12-21T11:16:23.093Z"
   },
   {
    "duration": 59,
    "start_time": "2022-12-21T14:00:16.853Z"
   },
   {
    "duration": 554,
    "start_time": "2022-12-21T14:00:27.047Z"
   },
   {
    "duration": 3,
    "start_time": "2022-12-21T14:00:27.604Z"
   },
   {
    "duration": 29,
    "start_time": "2022-12-21T14:00:27.609Z"
   },
   {
    "duration": 25,
    "start_time": "2022-12-21T14:00:27.640Z"
   },
   {
    "duration": 16,
    "start_time": "2022-12-21T14:00:27.668Z"
   },
   {
    "duration": 29,
    "start_time": "2022-12-21T14:00:27.686Z"
   },
   {
    "duration": 9,
    "start_time": "2022-12-21T14:00:27.717Z"
   },
   {
    "duration": 25,
    "start_time": "2022-12-21T14:00:27.728Z"
   },
   {
    "duration": 10,
    "start_time": "2022-12-21T14:00:27.777Z"
   },
   {
    "duration": 15,
    "start_time": "2022-12-21T14:00:41.112Z"
   },
   {
    "duration": 27,
    "start_time": "2022-12-21T14:04:53.832Z"
   },
   {
    "duration": 18,
    "start_time": "2022-12-21T14:04:59.861Z"
   },
   {
    "duration": 87,
    "start_time": "2022-12-21T14:05:59.802Z"
   },
   {
    "duration": 26,
    "start_time": "2022-12-21T14:06:11.054Z"
   },
   {
    "duration": 15,
    "start_time": "2022-12-21T14:06:22.888Z"
   },
   {
    "duration": 8,
    "start_time": "2022-12-21T15:02:53.436Z"
   },
   {
    "duration": 20,
    "start_time": "2022-12-21T15:03:45.125Z"
   },
   {
    "duration": 48,
    "start_time": "2022-12-21T15:05:12.187Z"
   },
   {
    "duration": 5,
    "start_time": "2022-12-21T15:05:48.649Z"
   },
   {
    "duration": 14,
    "start_time": "2022-12-21T15:06:27.155Z"
   },
   {
    "duration": 5,
    "start_time": "2022-12-21T15:08:23.613Z"
   },
   {
    "duration": 17,
    "start_time": "2022-12-21T15:08:29.822Z"
   },
   {
    "duration": 14,
    "start_time": "2022-12-21T15:13:57.351Z"
   },
   {
    "duration": 6,
    "start_time": "2022-12-21T15:16:11.239Z"
   },
   {
    "duration": 6,
    "start_time": "2022-12-21T15:16:23.852Z"
   },
   {
    "duration": 17,
    "start_time": "2022-12-21T15:17:44.151Z"
   },
   {
    "duration": 17,
    "start_time": "2022-12-21T15:18:27.571Z"
   },
   {
    "duration": 15,
    "start_time": "2022-12-21T15:18:42.957Z"
   },
   {
    "duration": 14,
    "start_time": "2022-12-21T15:18:45.658Z"
   },
   {
    "duration": 6,
    "start_time": "2022-12-21T15:20:55.338Z"
   },
   {
    "duration": 15,
    "start_time": "2022-12-21T15:21:02.480Z"
   },
   {
    "duration": 6,
    "start_time": "2022-12-21T15:27:29.577Z"
   },
   {
    "duration": 16,
    "start_time": "2022-12-21T15:27:37.538Z"
   },
   {
    "duration": 509,
    "start_time": "2022-12-21T15:32:06.071Z"
   },
   {
    "duration": 3,
    "start_time": "2022-12-21T15:32:06.582Z"
   },
   {
    "duration": 29,
    "start_time": "2022-12-21T15:32:06.587Z"
   },
   {
    "duration": 21,
    "start_time": "2022-12-21T15:32:06.619Z"
   },
   {
    "duration": 5,
    "start_time": "2022-12-21T15:32:06.643Z"
   },
   {
    "duration": 46,
    "start_time": "2022-12-21T15:32:06.650Z"
   },
   {
    "duration": 9,
    "start_time": "2022-12-21T15:32:06.699Z"
   },
   {
    "duration": 23,
    "start_time": "2022-12-21T15:32:06.710Z"
   },
   {
    "duration": 57,
    "start_time": "2022-12-21T15:32:06.735Z"
   },
   {
    "duration": 8,
    "start_time": "2022-12-21T15:32:06.795Z"
   },
   {
    "duration": 7,
    "start_time": "2022-12-21T15:32:06.805Z"
   },
   {
    "duration": 7,
    "start_time": "2022-12-21T15:32:06.814Z"
   },
   {
    "duration": 26,
    "start_time": "2022-12-21T15:32:06.823Z"
   },
   {
    "duration": 32,
    "start_time": "2022-12-21T15:32:06.851Z"
   },
   {
    "duration": 15,
    "start_time": "2022-12-21T15:32:06.886Z"
   },
   {
    "duration": 11,
    "start_time": "2022-12-21T15:32:06.902Z"
   },
   {
    "duration": 7,
    "start_time": "2022-12-21T15:32:06.915Z"
   },
   {
    "duration": 18,
    "start_time": "2022-12-21T15:32:06.923Z"
   },
   {
    "duration": 6,
    "start_time": "2022-12-21T15:35:46.513Z"
   },
   {
    "duration": 19,
    "start_time": "2022-12-21T15:35:53.503Z"
   },
   {
    "duration": 26,
    "start_time": "2022-12-21T15:40:42.904Z"
   },
   {
    "duration": 26,
    "start_time": "2022-12-21T15:41:10.211Z"
   },
   {
    "duration": 450,
    "start_time": "2022-12-21T15:41:43.133Z"
   },
   {
    "duration": 16,
    "start_time": "2022-12-21T15:41:54.574Z"
   },
   {
    "duration": 605,
    "start_time": "2022-12-21T15:42:09.050Z"
   },
   {
    "duration": 197,
    "start_time": "2022-12-21T15:43:09.231Z"
   },
   {
    "duration": 307,
    "start_time": "2022-12-21T15:52:17.889Z"
   },
   {
    "duration": 388,
    "start_time": "2022-12-21T15:52:33.743Z"
   },
   {
    "duration": 331,
    "start_time": "2022-12-21T15:53:45.328Z"
   },
   {
    "duration": 431,
    "start_time": "2022-12-21T15:53:52.595Z"
   },
   {
    "duration": 370,
    "start_time": "2022-12-21T15:53:59.876Z"
   },
   {
    "duration": 430,
    "start_time": "2022-12-21T15:54:05.708Z"
   },
   {
    "duration": 18,
    "start_time": "2022-12-21T16:02:12.115Z"
   },
   {
    "duration": 21,
    "start_time": "2022-12-21T16:03:44.246Z"
   },
   {
    "duration": 300,
    "start_time": "2022-12-21T16:04:12.136Z"
   },
   {
    "duration": 13,
    "start_time": "2022-12-21T16:05:14.644Z"
   },
   {
    "duration": 83,
    "start_time": "2022-12-21T16:05:28.190Z"
   },
   {
    "duration": 19,
    "start_time": "2022-12-21T16:05:41.924Z"
   },
   {
    "duration": 390,
    "start_time": "2022-12-21T16:05:53.266Z"
   },
   {
    "duration": 299,
    "start_time": "2022-12-21T16:16:27.061Z"
   },
   {
    "duration": 8,
    "start_time": "2022-12-21T16:19:46.677Z"
   },
   {
    "duration": 9,
    "start_time": "2022-12-21T16:20:34.738Z"
   },
   {
    "duration": 10,
    "start_time": "2022-12-21T16:21:46.229Z"
   },
   {
    "duration": 20,
    "start_time": "2022-12-21T16:26:31.246Z"
   },
   {
    "duration": 29,
    "start_time": "2022-12-21T16:27:08.226Z"
   },
   {
    "duration": 23,
    "start_time": "2022-12-21T16:27:20.915Z"
   },
   {
    "duration": 25,
    "start_time": "2022-12-21T16:28:19.483Z"
   },
   {
    "duration": 22,
    "start_time": "2022-12-21T16:28:44.084Z"
   },
   {
    "duration": 1362,
    "start_time": "2022-12-21T16:29:56.987Z"
   },
   {
    "duration": 726,
    "start_time": "2022-12-21T16:30:12.374Z"
   },
   {
    "duration": 751,
    "start_time": "2022-12-21T16:30:18.011Z"
   },
   {
    "duration": 176,
    "start_time": "2022-12-21T16:48:08.028Z"
   },
   {
    "duration": 817,
    "start_time": "2022-12-21T16:48:41.657Z"
   },
   {
    "duration": 54,
    "start_time": "2022-12-21T16:49:00.479Z"
   },
   {
    "duration": 37,
    "start_time": "2022-12-21T16:49:14.820Z"
   },
   {
    "duration": 6,
    "start_time": "2022-12-21T16:50:29.982Z"
   },
   {
    "duration": 39,
    "start_time": "2022-12-21T16:50:35.550Z"
   },
   {
    "duration": 21,
    "start_time": "2022-12-21T16:51:12.623Z"
   },
   {
    "duration": 37,
    "start_time": "2022-12-21T16:51:23.001Z"
   },
   {
    "duration": 38,
    "start_time": "2022-12-21T16:52:34.418Z"
   },
   {
    "duration": 437,
    "start_time": "2022-12-21T16:53:44.966Z"
   },
   {
    "duration": 27,
    "start_time": "2022-12-21T16:59:02.665Z"
   },
   {
    "duration": 195,
    "start_time": "2022-12-21T16:59:28.562Z"
   },
   {
    "duration": 16,
    "start_time": "2022-12-21T16:59:39.584Z"
   },
   {
    "duration": 18,
    "start_time": "2022-12-21T17:00:18.535Z"
   },
   {
    "duration": 12,
    "start_time": "2022-12-21T17:01:34.606Z"
   },
   {
    "duration": 16,
    "start_time": "2022-12-21T17:01:55.750Z"
   },
   {
    "duration": 17,
    "start_time": "2022-12-21T17:02:00.111Z"
   },
   {
    "duration": 18,
    "start_time": "2022-12-21T17:02:12.657Z"
   },
   {
    "duration": 17,
    "start_time": "2022-12-21T17:02:27.979Z"
   },
   {
    "duration": 17,
    "start_time": "2022-12-21T17:02:43.379Z"
   },
   {
    "duration": 7,
    "start_time": "2022-12-21T17:07:26.945Z"
   },
   {
    "duration": 39,
    "start_time": "2022-12-21T17:27:38.295Z"
   },
   {
    "duration": 796,
    "start_time": "2022-12-21T17:27:48.341Z"
   },
   {
    "duration": 50,
    "start_time": "2022-12-21T17:34:38.806Z"
   },
   {
    "duration": 6,
    "start_time": "2022-12-21T17:34:49.368Z"
   },
   {
    "duration": 13,
    "start_time": "2022-12-21T17:34:57.337Z"
   },
   {
    "duration": 25,
    "start_time": "2022-12-21T17:35:07.247Z"
   },
   {
    "duration": 285,
    "start_time": "2022-12-21T17:41:27.786Z"
   },
   {
    "duration": 316,
    "start_time": "2022-12-21T17:41:41.880Z"
   },
   {
    "duration": 143,
    "start_time": "2022-12-21T17:56:59.857Z"
   },
   {
    "duration": 16,
    "start_time": "2022-12-21T17:57:20.378Z"
   },
   {
    "duration": 826,
    "start_time": "2022-12-21T17:57:48.806Z"
   },
   {
    "duration": 3033,
    "start_time": "2022-12-21T18:00:41.617Z"
   },
   {
    "duration": 151,
    "start_time": "2022-12-21T18:04:06.760Z"
   },
   {
    "duration": 142,
    "start_time": "2022-12-21T18:04:25.618Z"
   },
   {
    "duration": 166,
    "start_time": "2022-12-21T18:04:35.856Z"
   },
   {
    "duration": 167,
    "start_time": "2022-12-21T18:08:18.019Z"
   },
   {
    "duration": 306,
    "start_time": "2022-12-21T18:09:25.977Z"
   },
   {
    "duration": 538,
    "start_time": "2022-12-21T18:11:10.511Z"
   },
   {
    "duration": 854,
    "start_time": "2022-12-21T18:46:40.814Z"
   },
   {
    "duration": 161,
    "start_time": "2022-12-21T18:47:02.730Z"
   },
   {
    "duration": 164,
    "start_time": "2022-12-21T18:48:06.947Z"
   },
   {
    "duration": 163,
    "start_time": "2022-12-21T18:48:32.819Z"
   },
   {
    "duration": 154,
    "start_time": "2022-12-21T18:50:09.551Z"
   },
   {
    "duration": 157,
    "start_time": "2022-12-21T18:52:30.288Z"
   },
   {
    "duration": 162,
    "start_time": "2022-12-21T18:52:44.851Z"
   },
   {
    "duration": 4,
    "start_time": "2022-12-21T19:25:46.456Z"
   },
   {
    "duration": 10,
    "start_time": "2022-12-21T19:29:38.700Z"
   },
   {
    "duration": 6,
    "start_time": "2022-12-21T19:30:21.959Z"
   },
   {
    "duration": 11,
    "start_time": "2022-12-21T19:31:23.177Z"
   },
   {
    "duration": 14,
    "start_time": "2022-12-21T19:31:48.417Z"
   },
   {
    "duration": 518,
    "start_time": "2022-12-21T19:31:55.235Z"
   },
   {
    "duration": 3,
    "start_time": "2022-12-21T19:31:55.755Z"
   },
   {
    "duration": 29,
    "start_time": "2022-12-21T19:31:55.761Z"
   },
   {
    "duration": 21,
    "start_time": "2022-12-21T19:31:55.792Z"
   },
   {
    "duration": 5,
    "start_time": "2022-12-21T19:31:55.816Z"
   },
   {
    "duration": 29,
    "start_time": "2022-12-21T19:31:55.822Z"
   },
   {
    "duration": 34,
    "start_time": "2022-12-21T19:31:55.853Z"
   },
   {
    "duration": 39,
    "start_time": "2022-12-21T19:31:55.890Z"
   },
   {
    "duration": 31,
    "start_time": "2022-12-21T19:31:55.931Z"
   },
   {
    "duration": 18,
    "start_time": "2022-12-21T19:31:55.965Z"
   },
   {
    "duration": 6,
    "start_time": "2022-12-21T19:31:55.985Z"
   },
   {
    "duration": 8,
    "start_time": "2022-12-21T19:31:55.993Z"
   },
   {
    "duration": 17,
    "start_time": "2022-12-21T19:31:56.003Z"
   },
   {
    "duration": 24,
    "start_time": "2022-12-21T19:31:56.024Z"
   },
   {
    "duration": 17,
    "start_time": "2022-12-21T19:31:56.079Z"
   },
   {
    "duration": 9,
    "start_time": "2022-12-21T19:31:56.098Z"
   },
   {
    "duration": 7,
    "start_time": "2022-12-21T19:31:56.109Z"
   },
   {
    "duration": 22,
    "start_time": "2022-12-21T19:31:56.118Z"
   },
   {
    "duration": 5,
    "start_time": "2022-12-21T19:31:56.142Z"
   },
   {
    "duration": 615,
    "start_time": "2022-12-21T19:31:56.178Z"
   },
   {
    "duration": 324,
    "start_time": "2022-12-21T19:31:56.795Z"
   },
   {
    "duration": 1012,
    "start_time": "2022-12-21T19:31:57.121Z"
   },
   {
    "duration": 18,
    "start_time": "2022-12-21T19:31:58.135Z"
   },
   {
    "duration": 23,
    "start_time": "2022-12-21T19:31:58.154Z"
   },
   {
    "duration": 770,
    "start_time": "2022-12-21T19:31:58.179Z"
   },
   {
    "duration": 5,
    "start_time": "2022-12-21T19:31:58.951Z"
   },
   {
    "duration": 332,
    "start_time": "2022-12-21T19:31:58.957Z"
   },
   {
    "duration": 383,
    "start_time": "2022-12-21T19:31:59.290Z"
   },
   {
    "duration": 170,
    "start_time": "2022-12-21T19:31:59.677Z"
   },
   {
    "duration": 179,
    "start_time": "2022-12-21T19:31:59.849Z"
   },
   {
    "duration": 113,
    "start_time": "2022-12-21T19:32:00.030Z"
   },
   {
    "duration": 6,
    "start_time": "2022-12-21T19:32:18.508Z"
   },
   {
    "duration": 10,
    "start_time": "2022-12-21T19:33:13.623Z"
   },
   {
    "duration": 14,
    "start_time": "2022-12-21T19:35:33.096Z"
   },
   {
    "duration": 6,
    "start_time": "2022-12-21T19:38:06.891Z"
   },
   {
    "duration": 1523,
    "start_time": "2022-12-21T19:40:29.530Z"
   },
   {
    "duration": 49,
    "start_time": "2022-12-21T19:41:10.889Z"
   },
   {
    "duration": 1450,
    "start_time": "2022-12-21T19:41:45.500Z"
   },
   {
    "duration": 1566,
    "start_time": "2022-12-21T19:51:50.786Z"
   },
   {
    "duration": 1453,
    "start_time": "2022-12-21T19:53:54.405Z"
   },
   {
    "duration": 1616,
    "start_time": "2022-12-21T20:04:30.419Z"
   },
   {
    "duration": 1448,
    "start_time": "2022-12-21T20:33:36.151Z"
   },
   {
    "duration": 228,
    "start_time": "2022-12-21T20:58:20.378Z"
   },
   {
    "duration": 639,
    "start_time": "2022-12-22T08:23:01.317Z"
   },
   {
    "duration": 3,
    "start_time": "2022-12-22T08:23:01.957Z"
   },
   {
    "duration": 42,
    "start_time": "2022-12-22T08:23:01.962Z"
   },
   {
    "duration": 39,
    "start_time": "2022-12-22T08:23:02.006Z"
   },
   {
    "duration": 8,
    "start_time": "2022-12-22T08:23:02.047Z"
   },
   {
    "duration": 23,
    "start_time": "2022-12-22T08:23:02.056Z"
   },
   {
    "duration": 12,
    "start_time": "2022-12-22T08:23:02.081Z"
   },
   {
    "duration": 45,
    "start_time": "2022-12-22T08:23:02.095Z"
   },
   {
    "duration": 24,
    "start_time": "2022-12-22T08:23:02.142Z"
   },
   {
    "duration": 6,
    "start_time": "2022-12-22T08:23:02.168Z"
   },
   {
    "duration": 9,
    "start_time": "2022-12-22T08:23:02.176Z"
   },
   {
    "duration": 9,
    "start_time": "2022-12-22T08:23:02.186Z"
   },
   {
    "duration": 38,
    "start_time": "2022-12-22T08:23:02.197Z"
   },
   {
    "duration": 22,
    "start_time": "2022-12-22T08:23:02.237Z"
   },
   {
    "duration": 13,
    "start_time": "2022-12-22T08:23:02.260Z"
   },
   {
    "duration": 11,
    "start_time": "2022-12-22T08:23:02.274Z"
   },
   {
    "duration": 36,
    "start_time": "2022-12-22T08:23:02.286Z"
   },
   {
    "duration": 22,
    "start_time": "2022-12-22T08:23:02.324Z"
   },
   {
    "duration": 12,
    "start_time": "2022-12-22T08:23:02.348Z"
   },
   {
    "duration": 788,
    "start_time": "2022-12-22T08:23:02.361Z"
   },
   {
    "duration": 329,
    "start_time": "2022-12-22T08:23:03.152Z"
   },
   {
    "duration": 1110,
    "start_time": "2022-12-22T08:23:03.483Z"
   },
   {
    "duration": 17,
    "start_time": "2022-12-22T08:23:04.595Z"
   },
   {
    "duration": 8,
    "start_time": "2022-12-22T08:23:04.623Z"
   },
   {
    "duration": 703,
    "start_time": "2022-12-22T08:23:04.633Z"
   },
   {
    "duration": 6,
    "start_time": "2022-12-22T08:23:05.339Z"
   },
   {
    "duration": 397,
    "start_time": "2022-12-22T08:23:05.348Z"
   },
   {
    "duration": 333,
    "start_time": "2022-12-22T08:23:05.748Z"
   },
   {
    "duration": 182,
    "start_time": "2022-12-22T08:23:06.083Z"
   },
   {
    "duration": 188,
    "start_time": "2022-12-22T08:23:06.267Z"
   },
   {
    "duration": 1505,
    "start_time": "2022-12-22T08:23:06.456Z"
   },
   {
    "duration": 1627,
    "start_time": "2022-12-22T08:23:07.963Z"
   },
   {
    "duration": 223,
    "start_time": "2022-12-22T08:23:09.593Z"
   },
   {
    "duration": 22,
    "start_time": "2022-12-22T08:26:54.995Z"
   },
   {
    "duration": 12,
    "start_time": "2022-12-22T08:27:18.297Z"
   },
   {
    "duration": 13,
    "start_time": "2022-12-22T08:27:32.098Z"
   },
   {
    "duration": 14,
    "start_time": "2022-12-22T08:28:06.040Z"
   },
   {
    "duration": 18,
    "start_time": "2022-12-22T08:29:25.810Z"
   },
   {
    "duration": 14,
    "start_time": "2022-12-22T08:29:33.181Z"
   },
   {
    "duration": 107,
    "start_time": "2022-12-22T08:30:25.294Z"
   },
   {
    "duration": 16,
    "start_time": "2022-12-22T08:31:45.918Z"
   },
   {
    "duration": 14,
    "start_time": "2022-12-22T08:34:14.563Z"
   },
   {
    "duration": 15,
    "start_time": "2022-12-22T08:34:41.799Z"
   },
   {
    "duration": 20,
    "start_time": "2022-12-22T08:35:04.128Z"
   },
   {
    "duration": 206,
    "start_time": "2022-12-22T08:36:54.043Z"
   },
   {
    "duration": 186,
    "start_time": "2022-12-22T08:37:04.322Z"
   },
   {
    "duration": 77,
    "start_time": "2022-12-22T08:37:50.434Z"
   },
   {
    "duration": 173,
    "start_time": "2022-12-22T08:38:13.312Z"
   },
   {
    "duration": 174,
    "start_time": "2022-12-22T08:39:22.092Z"
   },
   {
    "duration": 188,
    "start_time": "2022-12-22T08:40:26.508Z"
   },
   {
    "duration": 190,
    "start_time": "2022-12-22T08:41:14.574Z"
   },
   {
    "duration": 284,
    "start_time": "2022-12-22T08:41:40.882Z"
   },
   {
    "duration": 194,
    "start_time": "2022-12-22T08:59:21.918Z"
   },
   {
    "duration": 191,
    "start_time": "2022-12-22T08:59:52.312Z"
   },
   {
    "duration": 189,
    "start_time": "2022-12-22T09:00:39.766Z"
   },
   {
    "duration": 252,
    "start_time": "2022-12-22T09:01:23.615Z"
   },
   {
    "duration": 226,
    "start_time": "2022-12-22T09:01:27.928Z"
   },
   {
    "duration": 196,
    "start_time": "2022-12-22T09:01:32.845Z"
   },
   {
    "duration": 228,
    "start_time": "2022-12-22T09:02:29.959Z"
   },
   {
    "duration": 201,
    "start_time": "2022-12-22T09:02:37.609Z"
   },
   {
    "duration": 195,
    "start_time": "2022-12-22T09:02:53.370Z"
   },
   {
    "duration": 202,
    "start_time": "2022-12-22T09:02:58.353Z"
   },
   {
    "duration": 310,
    "start_time": "2022-12-22T09:18:39.452Z"
   },
   {
    "duration": 175,
    "start_time": "2022-12-22T09:22:57.803Z"
   },
   {
    "duration": 186,
    "start_time": "2022-12-22T09:24:39.518Z"
   },
   {
    "duration": 186,
    "start_time": "2022-12-22T09:25:15.871Z"
   },
   {
    "duration": 257,
    "start_time": "2022-12-22T10:03:49.261Z"
   },
   {
    "duration": 232,
    "start_time": "2022-12-22T10:04:01.448Z"
   },
   {
    "duration": 228,
    "start_time": "2022-12-22T10:04:11.122Z"
   },
   {
    "duration": 516,
    "start_time": "2022-12-22T10:04:18.651Z"
   },
   {
    "duration": 3,
    "start_time": "2022-12-22T10:04:19.170Z"
   },
   {
    "duration": 39,
    "start_time": "2022-12-22T10:04:19.176Z"
   },
   {
    "duration": 40,
    "start_time": "2022-12-22T10:04:19.221Z"
   },
   {
    "duration": 8,
    "start_time": "2022-12-22T10:04:19.264Z"
   },
   {
    "duration": 30,
    "start_time": "2022-12-22T10:04:19.274Z"
   },
   {
    "duration": 20,
    "start_time": "2022-12-22T10:04:19.307Z"
   },
   {
    "duration": 41,
    "start_time": "2022-12-22T10:04:19.332Z"
   },
   {
    "duration": 36,
    "start_time": "2022-12-22T10:04:19.375Z"
   },
   {
    "duration": 19,
    "start_time": "2022-12-22T10:04:19.415Z"
   },
   {
    "duration": 14,
    "start_time": "2022-12-22T10:04:19.437Z"
   },
   {
    "duration": 9,
    "start_time": "2022-12-22T10:04:19.453Z"
   },
   {
    "duration": 21,
    "start_time": "2022-12-22T10:04:19.464Z"
   },
   {
    "duration": 22,
    "start_time": "2022-12-22T10:04:19.487Z"
   },
   {
    "duration": 38,
    "start_time": "2022-12-22T10:04:19.511Z"
   },
   {
    "duration": 6,
    "start_time": "2022-12-22T10:04:19.551Z"
   },
   {
    "duration": 6,
    "start_time": "2022-12-22T10:04:19.560Z"
   },
   {
    "duration": 15,
    "start_time": "2022-12-22T10:04:19.568Z"
   },
   {
    "duration": 5,
    "start_time": "2022-12-22T10:04:19.585Z"
   },
   {
    "duration": 714,
    "start_time": "2022-12-22T10:04:19.591Z"
   },
   {
    "duration": 349,
    "start_time": "2022-12-22T10:04:20.307Z"
   },
   {
    "duration": 1086,
    "start_time": "2022-12-22T10:04:20.657Z"
   },
   {
    "duration": 17,
    "start_time": "2022-12-22T10:04:21.748Z"
   },
   {
    "duration": 9,
    "start_time": "2022-12-22T10:04:21.767Z"
   },
   {
    "duration": 797,
    "start_time": "2022-12-22T10:04:21.778Z"
   },
   {
    "duration": 6,
    "start_time": "2022-12-22T10:04:22.578Z"
   },
   {
    "duration": 371,
    "start_time": "2022-12-22T10:04:22.586Z"
   },
   {
    "duration": 403,
    "start_time": "2022-12-22T10:04:22.960Z"
   },
   {
    "duration": 199,
    "start_time": "2022-12-22T10:04:23.364Z"
   },
   {
    "duration": 185,
    "start_time": "2022-12-22T10:04:23.565Z"
   },
   {
    "duration": 1807,
    "start_time": "2022-12-22T10:04:23.752Z"
   },
   {
    "duration": 1666,
    "start_time": "2022-12-22T10:04:25.561Z"
   },
   {
    "duration": 230,
    "start_time": "2022-12-22T10:04:27.231Z"
   },
   {
    "duration": 214,
    "start_time": "2022-12-22T10:04:27.463Z"
   },
   {
    "duration": 216,
    "start_time": "2022-12-22T10:04:27.680Z"
   },
   {
    "duration": 209,
    "start_time": "2022-12-22T10:04:27.898Z"
   },
   {
    "duration": 346,
    "start_time": "2022-12-22T10:04:28.109Z"
   },
   {
    "duration": 230,
    "start_time": "2022-12-22T10:04:28.457Z"
   },
   {
    "duration": 238,
    "start_time": "2022-12-22T10:04:28.688Z"
   },
   {
    "duration": 186,
    "start_time": "2022-12-22T10:04:28.928Z"
   },
   {
    "duration": 308,
    "start_time": "2022-12-22T10:04:29.116Z"
   },
   {
    "duration": 207,
    "start_time": "2022-12-22T10:04:29.425Z"
   },
   {
    "duration": 243,
    "start_time": "2022-12-22T10:09:14.102Z"
   },
   {
    "duration": 193,
    "start_time": "2022-12-22T10:09:21.738Z"
   },
   {
    "duration": 317,
    "start_time": "2022-12-22T10:10:41.213Z"
   },
   {
    "duration": 203,
    "start_time": "2022-12-22T10:10:51.204Z"
   },
   {
    "duration": 197,
    "start_time": "2022-12-22T10:12:41.170Z"
   },
   {
    "duration": 8,
    "start_time": "2022-12-22T10:12:59.098Z"
   },
   {
    "duration": 174,
    "start_time": "2022-12-22T10:13:03.412Z"
   },
   {
    "duration": 103,
    "start_time": "2022-12-22T10:18:23.014Z"
   },
   {
    "duration": 13,
    "start_time": "2022-12-22T10:19:02.884Z"
   },
   {
    "duration": 8,
    "start_time": "2022-12-22T10:19:17.609Z"
   },
   {
    "duration": 168,
    "start_time": "2022-12-22T10:20:18.315Z"
   },
   {
    "duration": 159,
    "start_time": "2022-12-22T10:20:22.463Z"
   },
   {
    "duration": 7,
    "start_time": "2022-12-22T10:23:18.170Z"
   },
   {
    "duration": 5,
    "start_time": "2022-12-22T10:27:03.574Z"
   },
   {
    "duration": 9,
    "start_time": "2022-12-22T10:35:38.150Z"
   },
   {
    "duration": 9,
    "start_time": "2022-12-22T10:35:53.868Z"
   },
   {
    "duration": 170,
    "start_time": "2022-12-22T10:36:31.116Z"
   },
   {
    "duration": 258,
    "start_time": "2022-12-22T10:36:35.929Z"
   },
   {
    "duration": 7,
    "start_time": "2022-12-22T10:39:47.011Z"
   },
   {
    "duration": 13,
    "start_time": "2022-12-22T10:40:42.155Z"
   },
   {
    "duration": 153,
    "start_time": "2022-12-22T10:40:48.140Z"
   },
   {
    "duration": 173,
    "start_time": "2022-12-22T10:40:55.027Z"
   },
   {
    "duration": 151,
    "start_time": "2022-12-22T10:40:59.297Z"
   },
   {
    "duration": 9,
    "start_time": "2022-12-22T10:44:08.121Z"
   },
   {
    "duration": 5,
    "start_time": "2022-12-22T10:45:03.527Z"
   },
   {
    "duration": 525,
    "start_time": "2022-12-22T12:07:48.873Z"
   },
   {
    "duration": 4,
    "start_time": "2022-12-22T12:07:49.400Z"
   },
   {
    "duration": 34,
    "start_time": "2022-12-22T12:07:49.406Z"
   },
   {
    "duration": 37,
    "start_time": "2022-12-22T12:07:49.442Z"
   },
   {
    "duration": 9,
    "start_time": "2022-12-22T12:07:49.482Z"
   },
   {
    "duration": 27,
    "start_time": "2022-12-22T12:07:49.493Z"
   },
   {
    "duration": 9,
    "start_time": "2022-12-22T12:07:49.522Z"
   },
   {
    "duration": 56,
    "start_time": "2022-12-22T12:07:49.532Z"
   },
   {
    "duration": 26,
    "start_time": "2022-12-22T12:07:49.591Z"
   },
   {
    "duration": 7,
    "start_time": "2022-12-22T12:07:49.618Z"
   },
   {
    "duration": 11,
    "start_time": "2022-12-22T12:07:49.627Z"
   },
   {
    "duration": 31,
    "start_time": "2022-12-22T12:07:49.656Z"
   },
   {
    "duration": 23,
    "start_time": "2022-12-22T12:07:49.689Z"
   },
   {
    "duration": 16,
    "start_time": "2022-12-22T12:07:49.715Z"
   },
   {
    "duration": 14,
    "start_time": "2022-12-22T12:07:49.733Z"
   },
   {
    "duration": 11,
    "start_time": "2022-12-22T12:07:49.749Z"
   },
   {
    "duration": 22,
    "start_time": "2022-12-22T12:07:49.768Z"
   },
   {
    "duration": 18,
    "start_time": "2022-12-22T12:07:49.792Z"
   },
   {
    "duration": 6,
    "start_time": "2022-12-22T12:07:49.812Z"
   },
   {
    "duration": 662,
    "start_time": "2022-12-22T12:07:49.820Z"
   },
   {
    "duration": 350,
    "start_time": "2022-12-22T12:07:50.484Z"
   },
   {
    "duration": 1059,
    "start_time": "2022-12-22T12:07:50.836Z"
   },
   {
    "duration": 18,
    "start_time": "2022-12-22T12:07:51.897Z"
   },
   {
    "duration": 12,
    "start_time": "2022-12-22T12:07:51.917Z"
   },
   {
    "duration": 787,
    "start_time": "2022-12-22T12:07:51.931Z"
   },
   {
    "duration": 5,
    "start_time": "2022-12-22T12:07:52.720Z"
   },
   {
    "duration": 355,
    "start_time": "2022-12-22T12:07:52.727Z"
   },
   {
    "duration": 403,
    "start_time": "2022-12-22T12:07:53.084Z"
   },
   {
    "duration": 213,
    "start_time": "2022-12-22T12:07:53.490Z"
   },
   {
    "duration": 202,
    "start_time": "2022-12-22T12:07:53.705Z"
   },
   {
    "duration": 1716,
    "start_time": "2022-12-22T12:07:53.909Z"
   },
   {
    "duration": 1693,
    "start_time": "2022-12-22T12:07:55.627Z"
   },
   {
    "duration": 228,
    "start_time": "2022-12-22T12:07:57.321Z"
   },
   {
    "duration": 207,
    "start_time": "2022-12-22T12:07:57.551Z"
   },
   {
    "duration": 207,
    "start_time": "2022-12-22T12:07:57.760Z"
   },
   {
    "duration": 199,
    "start_time": "2022-12-22T12:07:57.970Z"
   },
   {
    "duration": 243,
    "start_time": "2022-12-22T12:07:58.171Z"
   },
   {
    "duration": 232,
    "start_time": "2022-12-22T12:07:58.416Z"
   },
   {
    "duration": 235,
    "start_time": "2022-12-22T12:07:58.655Z"
   },
   {
    "duration": 217,
    "start_time": "2022-12-22T12:07:58.892Z"
   },
   {
    "duration": 299,
    "start_time": "2022-12-22T12:07:59.113Z"
   },
   {
    "duration": 218,
    "start_time": "2022-12-22T12:07:59.413Z"
   },
   {
    "duration": 8,
    "start_time": "2022-12-22T12:07:59.633Z"
   },
   {
    "duration": 215,
    "start_time": "2022-12-22T12:07:59.643Z"
   },
   {
    "duration": 13,
    "start_time": "2022-12-22T12:07:59.861Z"
   },
   {
    "duration": 198,
    "start_time": "2022-12-22T12:07:59.877Z"
   },
   {
    "duration": 9,
    "start_time": "2022-12-22T12:08:00.077Z"
   },
   {
    "duration": 24,
    "start_time": "2022-12-22T12:08:00.088Z"
   },
   {
    "duration": 22,
    "start_time": "2022-12-22T12:08:00.114Z"
   },
   {
    "duration": 197,
    "start_time": "2022-12-22T12:08:00.138Z"
   },
   {
    "duration": 18,
    "start_time": "2022-12-22T12:08:00.337Z"
   },
   {
    "duration": 226,
    "start_time": "2022-12-22T12:08:00.357Z"
   },
   {
    "duration": 9,
    "start_time": "2022-12-22T12:08:00.584Z"
   },
   {
    "duration": 20,
    "start_time": "2022-12-22T12:08:00.595Z"
   },
   {
    "duration": 486,
    "start_time": "2022-12-22T19:59:12.599Z"
   },
   {
    "duration": 3,
    "start_time": "2022-12-22T19:59:13.453Z"
   },
   {
    "duration": 23,
    "start_time": "2022-12-22T19:59:13.954Z"
   },
   {
    "duration": 23,
    "start_time": "2022-12-22T19:59:14.628Z"
   },
   {
    "duration": 7,
    "start_time": "2022-12-22T19:59:15.604Z"
   },
   {
    "duration": 23,
    "start_time": "2022-12-22T19:59:16.035Z"
   },
   {
    "duration": 8,
    "start_time": "2022-12-22T19:59:16.439Z"
   },
   {
    "duration": 24,
    "start_time": "2022-12-22T19:59:17.034Z"
   },
   {
    "duration": 36,
    "start_time": "2022-12-22T19:59:18.217Z"
   },
   {
    "duration": 7,
    "start_time": "2022-12-22T19:59:20.273Z"
   },
   {
    "duration": 4,
    "start_time": "2022-12-22T19:59:21.884Z"
   },
   {
    "duration": 5,
    "start_time": "2022-12-22T19:59:23.816Z"
   },
   {
    "duration": 14,
    "start_time": "2022-12-22T19:59:24.855Z"
   },
   {
    "duration": 15,
    "start_time": "2022-12-22T19:59:25.796Z"
   },
   {
    "duration": 15,
    "start_time": "2022-12-22T19:59:26.223Z"
   },
   {
    "duration": 4,
    "start_time": "2022-12-22T19:59:27.215Z"
   },
   {
    "duration": 5,
    "start_time": "2022-12-22T19:59:28.801Z"
   },
   {
    "duration": 14,
    "start_time": "2022-12-22T19:59:29.848Z"
   },
   {
    "duration": 5,
    "start_time": "2022-12-22T19:59:31.669Z"
   },
   {
    "duration": 33,
    "start_time": "2022-12-22T19:59:37.791Z"
   },
   {
    "duration": 25,
    "start_time": "2022-12-22T20:12:17.120Z"
   },
   {
    "duration": 42,
    "start_time": "2022-12-23T08:41:48.147Z"
   },
   {
    "duration": 609,
    "start_time": "2022-12-23T08:41:54.006Z"
   },
   {
    "duration": 3,
    "start_time": "2022-12-23T08:41:54.617Z"
   },
   {
    "duration": 33,
    "start_time": "2022-12-23T08:41:54.621Z"
   },
   {
    "duration": 40,
    "start_time": "2022-12-23T08:41:54.656Z"
   },
   {
    "duration": 6,
    "start_time": "2022-12-23T08:41:54.698Z"
   },
   {
    "duration": 63,
    "start_time": "2022-12-23T08:41:54.706Z"
   },
   {
    "duration": 47,
    "start_time": "2022-12-23T08:41:54.771Z"
   },
   {
    "duration": 38,
    "start_time": "2022-12-23T08:41:54.820Z"
   },
   {
    "duration": 51,
    "start_time": "2022-12-23T08:41:54.860Z"
   },
   {
    "duration": 24,
    "start_time": "2022-12-23T08:41:54.914Z"
   },
   {
    "duration": 19,
    "start_time": "2022-12-23T08:41:54.940Z"
   },
   {
    "duration": 11,
    "start_time": "2022-12-23T08:41:54.961Z"
   },
   {
    "duration": 33,
    "start_time": "2022-12-23T08:41:54.973Z"
   },
   {
    "duration": 17,
    "start_time": "2022-12-23T08:41:55.008Z"
   },
   {
    "duration": 25,
    "start_time": "2022-12-23T08:41:55.027Z"
   },
   {
    "duration": 30,
    "start_time": "2022-12-23T08:41:55.053Z"
   },
   {
    "duration": 45,
    "start_time": "2022-12-23T08:41:55.085Z"
   },
   {
    "duration": 39,
    "start_time": "2022-12-23T08:41:55.132Z"
   },
   {
    "duration": 25,
    "start_time": "2022-12-23T08:41:55.172Z"
   },
   {
    "duration": 48,
    "start_time": "2022-12-23T08:41:55.199Z"
   },
   {
    "duration": 42,
    "start_time": "2022-12-23T08:41:55.249Z"
   },
   {
    "duration": 717,
    "start_time": "2022-12-23T08:41:55.292Z"
   },
   {
    "duration": 318,
    "start_time": "2022-12-23T08:41:56.011Z"
   },
   {
    "duration": 937,
    "start_time": "2022-12-23T08:41:56.331Z"
   },
   {
    "duration": 14,
    "start_time": "2022-12-23T08:41:57.270Z"
   },
   {
    "duration": 8,
    "start_time": "2022-12-23T08:41:57.285Z"
   },
   {
    "duration": 657,
    "start_time": "2022-12-23T08:41:57.294Z"
   },
   {
    "duration": 4,
    "start_time": "2022-12-23T08:41:57.954Z"
   },
   {
    "duration": 357,
    "start_time": "2022-12-23T08:41:57.960Z"
   },
   {
    "duration": 251,
    "start_time": "2022-12-23T08:41:58.319Z"
   },
   {
    "duration": 150,
    "start_time": "2022-12-23T08:41:58.572Z"
   },
   {
    "duration": 145,
    "start_time": "2022-12-23T08:41:58.726Z"
   },
   {
    "duration": 1271,
    "start_time": "2022-12-23T08:41:58.873Z"
   },
   {
    "duration": 1361,
    "start_time": "2022-12-23T08:42:00.146Z"
   },
   {
    "duration": 214,
    "start_time": "2022-12-23T08:42:01.508Z"
   },
   {
    "duration": 175,
    "start_time": "2022-12-23T08:42:01.725Z"
   },
   {
    "duration": 165,
    "start_time": "2022-12-23T08:42:01.901Z"
   },
   {
    "duration": 170,
    "start_time": "2022-12-23T08:42:02.068Z"
   },
   {
    "duration": 194,
    "start_time": "2022-12-23T08:42:02.240Z"
   },
   {
    "duration": 196,
    "start_time": "2022-12-23T08:42:02.436Z"
   },
   {
    "duration": 197,
    "start_time": "2022-12-23T08:42:02.633Z"
   },
   {
    "duration": 304,
    "start_time": "2022-12-23T08:42:02.831Z"
   },
   {
    "duration": 204,
    "start_time": "2022-12-23T08:42:03.137Z"
   },
   {
    "duration": 190,
    "start_time": "2022-12-23T08:42:03.343Z"
   },
   {
    "duration": 8,
    "start_time": "2022-12-23T08:42:03.534Z"
   },
   {
    "duration": 158,
    "start_time": "2022-12-23T08:42:03.544Z"
   },
   {
    "duration": 8,
    "start_time": "2022-12-23T08:42:03.704Z"
   },
   {
    "duration": 177,
    "start_time": "2022-12-23T08:42:03.713Z"
   },
   {
    "duration": 7,
    "start_time": "2022-12-23T08:42:03.892Z"
   },
   {
    "duration": 8,
    "start_time": "2022-12-23T08:42:03.901Z"
   },
   {
    "duration": 23,
    "start_time": "2022-12-23T08:42:03.910Z"
   },
   {
    "duration": 148,
    "start_time": "2022-12-23T08:42:03.935Z"
   },
   {
    "duration": 8,
    "start_time": "2022-12-23T08:42:04.085Z"
   },
   {
    "duration": 175,
    "start_time": "2022-12-23T08:42:04.094Z"
   },
   {
    "duration": 7,
    "start_time": "2022-12-23T08:42:04.271Z"
   },
   {
    "duration": 15,
    "start_time": "2022-12-23T08:42:04.279Z"
   },
   {
    "duration": 467,
    "start_time": "2022-12-23T08:44:19.522Z"
   },
   {
    "duration": 3,
    "start_time": "2022-12-23T08:44:19.991Z"
   },
   {
    "duration": 23,
    "start_time": "2022-12-23T08:44:19.996Z"
   },
   {
    "duration": 20,
    "start_time": "2022-12-23T08:44:20.022Z"
   },
   {
    "duration": 11,
    "start_time": "2022-12-23T08:44:20.043Z"
   },
   {
    "duration": 30,
    "start_time": "2022-12-23T08:44:20.055Z"
   },
   {
    "duration": 8,
    "start_time": "2022-12-23T08:44:20.086Z"
   },
   {
    "duration": 20,
    "start_time": "2022-12-23T08:44:20.096Z"
   },
   {
    "duration": 28,
    "start_time": "2022-12-23T08:44:20.117Z"
   },
   {
    "duration": 6,
    "start_time": "2022-12-23T08:44:20.147Z"
   },
   {
    "duration": 11,
    "start_time": "2022-12-23T08:44:20.154Z"
   },
   {
    "duration": 12,
    "start_time": "2022-12-23T08:44:20.167Z"
   },
   {
    "duration": 14,
    "start_time": "2022-12-23T08:44:20.180Z"
   },
   {
    "duration": 12,
    "start_time": "2022-12-23T08:44:20.195Z"
   },
   {
    "duration": 24,
    "start_time": "2022-12-23T08:44:20.208Z"
   },
   {
    "duration": 10,
    "start_time": "2022-12-23T08:44:20.234Z"
   },
   {
    "duration": 5,
    "start_time": "2022-12-23T08:44:20.246Z"
   },
   {
    "duration": 23,
    "start_time": "2022-12-23T08:44:20.252Z"
   },
   {
    "duration": 4,
    "start_time": "2022-12-23T08:44:20.276Z"
   },
   {
    "duration": 28,
    "start_time": "2022-12-23T08:44:20.281Z"
   },
   {
    "duration": 521,
    "start_time": "2022-12-23T08:44:20.311Z"
   },
   {
    "duration": 283,
    "start_time": "2022-12-23T08:44:20.834Z"
   },
   {
    "duration": 887,
    "start_time": "2022-12-23T08:44:21.119Z"
   },
   {
    "duration": 20,
    "start_time": "2022-12-23T08:44:22.007Z"
   },
   {
    "duration": 5,
    "start_time": "2022-12-23T08:44:22.028Z"
   },
   {
    "duration": 617,
    "start_time": "2022-12-23T08:44:22.034Z"
   },
   {
    "duration": 4,
    "start_time": "2022-12-23T08:44:22.653Z"
   },
   {
    "duration": 290,
    "start_time": "2022-12-23T08:44:22.660Z"
   },
   {
    "duration": 314,
    "start_time": "2022-12-23T08:44:22.952Z"
   },
   {
    "duration": 153,
    "start_time": "2022-12-23T08:44:23.268Z"
   },
   {
    "duration": 143,
    "start_time": "2022-12-23T08:44:23.422Z"
   },
   {
    "duration": 1260,
    "start_time": "2022-12-23T08:44:23.566Z"
   },
   {
    "duration": 1395,
    "start_time": "2022-12-23T08:44:24.828Z"
   },
   {
    "duration": 187,
    "start_time": "2022-12-23T08:44:26.227Z"
   },
   {
    "duration": 163,
    "start_time": "2022-12-23T08:44:26.415Z"
   },
   {
    "duration": 171,
    "start_time": "2022-12-23T08:44:26.579Z"
   },
   {
    "duration": 177,
    "start_time": "2022-12-23T08:44:26.751Z"
   },
   {
    "duration": 191,
    "start_time": "2022-12-23T08:44:26.930Z"
   },
   {
    "duration": 182,
    "start_time": "2022-12-23T08:44:27.125Z"
   },
   {
    "duration": 182,
    "start_time": "2022-12-23T08:44:27.308Z"
   },
   {
    "duration": 150,
    "start_time": "2022-12-23T08:44:27.492Z"
   },
   {
    "duration": 248,
    "start_time": "2022-12-23T08:44:27.643Z"
   },
   {
    "duration": 161,
    "start_time": "2022-12-23T08:44:27.893Z"
   },
   {
    "duration": 7,
    "start_time": "2022-12-23T08:44:28.056Z"
   },
   {
    "duration": 151,
    "start_time": "2022-12-23T08:44:28.065Z"
   },
   {
    "duration": 11,
    "start_time": "2022-12-23T08:44:28.218Z"
   },
   {
    "duration": 139,
    "start_time": "2022-12-23T08:44:28.231Z"
   },
   {
    "duration": 7,
    "start_time": "2022-12-23T08:44:28.371Z"
   },
   {
    "duration": 9,
    "start_time": "2022-12-23T08:44:28.379Z"
   },
   {
    "duration": 8,
    "start_time": "2022-12-23T08:44:28.390Z"
   },
   {
    "duration": 154,
    "start_time": "2022-12-23T08:44:28.399Z"
   },
   {
    "duration": 7,
    "start_time": "2022-12-23T08:44:28.555Z"
   },
   {
    "duration": 163,
    "start_time": "2022-12-23T08:44:28.563Z"
   },
   {
    "duration": 7,
    "start_time": "2022-12-23T08:44:28.728Z"
   },
   {
    "duration": 8,
    "start_time": "2022-12-23T08:44:28.737Z"
   },
   {
    "duration": 70,
    "start_time": "2022-12-23T08:53:17.832Z"
   },
   {
    "duration": 3,
    "start_time": "2022-12-23T08:54:05.682Z"
   },
   {
    "duration": 11,
    "start_time": "2022-12-23T08:54:34.140Z"
   },
   {
    "duration": 444,
    "start_time": "2022-12-23T08:56:06.763Z"
   },
   {
    "duration": 3,
    "start_time": "2022-12-23T08:56:07.209Z"
   },
   {
    "duration": 25,
    "start_time": "2022-12-23T08:56:07.214Z"
   },
   {
    "duration": 20,
    "start_time": "2022-12-23T08:56:07.241Z"
   },
   {
    "duration": 19,
    "start_time": "2022-12-23T08:56:07.262Z"
   },
   {
    "duration": 29,
    "start_time": "2022-12-23T08:56:07.282Z"
   },
   {
    "duration": 11,
    "start_time": "2022-12-23T08:56:07.313Z"
   },
   {
    "duration": 64,
    "start_time": "2022-12-23T08:56:07.325Z"
   },
   {
    "duration": 32,
    "start_time": "2022-12-23T08:56:07.391Z"
   },
   {
    "duration": 6,
    "start_time": "2022-12-23T08:56:07.425Z"
   },
   {
    "duration": 16,
    "start_time": "2022-12-23T08:56:07.433Z"
   },
   {
    "duration": 19,
    "start_time": "2022-12-23T08:56:07.451Z"
   },
   {
    "duration": 20,
    "start_time": "2022-12-23T08:56:07.471Z"
   },
   {
    "duration": 32,
    "start_time": "2022-12-23T08:56:07.492Z"
   },
   {
    "duration": 12,
    "start_time": "2022-12-23T08:56:07.526Z"
   },
   {
    "duration": 8,
    "start_time": "2022-12-23T08:56:07.539Z"
   },
   {
    "duration": 5,
    "start_time": "2022-12-23T08:56:07.549Z"
   },
   {
    "duration": 15,
    "start_time": "2022-12-23T08:56:07.556Z"
   },
   {
    "duration": 14,
    "start_time": "2022-12-23T08:56:07.573Z"
   },
   {
    "duration": 40,
    "start_time": "2022-12-23T08:56:07.589Z"
   },
   {
    "duration": 749,
    "start_time": "2022-12-23T08:56:07.631Z"
   },
   {
    "duration": 295,
    "start_time": "2022-12-23T08:56:08.382Z"
   },
   {
    "duration": 951,
    "start_time": "2022-12-23T08:56:08.679Z"
   },
   {
    "duration": 14,
    "start_time": "2022-12-23T08:56:09.633Z"
   },
   {
    "duration": 8,
    "start_time": "2022-12-23T08:56:09.650Z"
   },
   {
    "duration": 673,
    "start_time": "2022-12-23T08:56:09.660Z"
   },
   {
    "duration": 6,
    "start_time": "2022-12-23T08:56:10.335Z"
   },
   {
    "duration": 292,
    "start_time": "2022-12-23T08:56:10.346Z"
   },
   {
    "duration": 349,
    "start_time": "2022-12-23T08:56:10.640Z"
   },
   {
    "duration": 164,
    "start_time": "2022-12-23T08:56:10.991Z"
   },
   {
    "duration": 146,
    "start_time": "2022-12-23T08:56:11.157Z"
   },
   {
    "duration": 1378,
    "start_time": "2022-12-23T08:56:11.305Z"
   },
   {
    "duration": 1421,
    "start_time": "2022-12-23T08:56:12.685Z"
   },
   {
    "duration": 201,
    "start_time": "2022-12-23T08:56:14.108Z"
   },
   {
    "duration": 183,
    "start_time": "2022-12-23T08:56:14.311Z"
   },
   {
    "duration": 176,
    "start_time": "2022-12-23T08:56:14.496Z"
   },
   {
    "duration": 185,
    "start_time": "2022-12-23T08:56:14.673Z"
   },
   {
    "duration": 203,
    "start_time": "2022-12-23T08:56:14.859Z"
   },
   {
    "duration": 198,
    "start_time": "2022-12-23T08:56:15.063Z"
   },
   {
    "duration": 216,
    "start_time": "2022-12-23T08:56:15.262Z"
   },
   {
    "duration": 216,
    "start_time": "2022-12-23T08:56:15.480Z"
   },
   {
    "duration": 267,
    "start_time": "2022-12-23T08:56:15.698Z"
   },
   {
    "duration": 185,
    "start_time": "2022-12-23T08:56:15.967Z"
   },
   {
    "duration": 9,
    "start_time": "2022-12-23T08:56:16.154Z"
   },
   {
    "duration": 176,
    "start_time": "2022-12-23T08:56:16.164Z"
   },
   {
    "duration": 8,
    "start_time": "2022-12-23T08:56:16.342Z"
   },
   {
    "duration": 162,
    "start_time": "2022-12-23T08:56:16.351Z"
   },
   {
    "duration": 13,
    "start_time": "2022-12-23T08:56:16.514Z"
   },
   {
    "duration": 12,
    "start_time": "2022-12-23T08:56:16.528Z"
   },
   {
    "duration": 24,
    "start_time": "2022-12-23T08:56:16.541Z"
   },
   {
    "duration": 153,
    "start_time": "2022-12-23T08:56:16.567Z"
   },
   {
    "duration": 7,
    "start_time": "2022-12-23T08:56:16.727Z"
   },
   {
    "duration": 154,
    "start_time": "2022-12-23T08:56:16.736Z"
   },
   {
    "duration": 6,
    "start_time": "2022-12-23T08:56:16.892Z"
   },
   {
    "duration": 7,
    "start_time": "2022-12-23T08:56:16.900Z"
   },
   {
    "duration": 95,
    "start_time": "2022-12-23T09:06:33.300Z"
   },
   {
    "duration": 13,
    "start_time": "2022-12-23T09:06:51.118Z"
   },
   {
    "duration": 13,
    "start_time": "2022-12-23T09:09:06.444Z"
   },
   {
    "duration": 14,
    "start_time": "2022-12-23T09:09:43.141Z"
   },
   {
    "duration": 478,
    "start_time": "2022-12-23T09:10:19.355Z"
   },
   {
    "duration": 4,
    "start_time": "2022-12-23T09:10:19.835Z"
   },
   {
    "duration": 31,
    "start_time": "2022-12-23T09:10:19.841Z"
   },
   {
    "duration": 23,
    "start_time": "2022-12-23T09:10:19.874Z"
   },
   {
    "duration": 9,
    "start_time": "2022-12-23T09:10:19.899Z"
   },
   {
    "duration": 38,
    "start_time": "2022-12-23T09:10:19.910Z"
   },
   {
    "duration": 13,
    "start_time": "2022-12-23T09:10:19.951Z"
   },
   {
    "duration": 41,
    "start_time": "2022-12-23T09:10:19.967Z"
   },
   {
    "duration": 47,
    "start_time": "2022-12-23T09:10:20.010Z"
   },
   {
    "duration": 11,
    "start_time": "2022-12-23T09:10:20.060Z"
   },
   {
    "duration": 12,
    "start_time": "2022-12-23T09:10:20.073Z"
   },
   {
    "duration": 14,
    "start_time": "2022-12-23T09:10:20.087Z"
   },
   {
    "duration": 34,
    "start_time": "2022-12-23T09:10:20.103Z"
   },
   {
    "duration": 21,
    "start_time": "2022-12-23T09:10:20.139Z"
   },
   {
    "duration": 19,
    "start_time": "2022-12-23T09:10:20.162Z"
   },
   {
    "duration": 13,
    "start_time": "2022-12-23T09:10:20.183Z"
   },
   {
    "duration": 30,
    "start_time": "2022-12-23T09:10:20.197Z"
   },
   {
    "duration": 14,
    "start_time": "2022-12-23T09:10:20.229Z"
   },
   {
    "duration": 6,
    "start_time": "2022-12-23T09:10:20.245Z"
   },
   {
    "duration": 34,
    "start_time": "2022-12-23T09:10:20.253Z"
   },
   {
    "duration": 49,
    "start_time": "2022-12-23T09:10:20.289Z"
   },
   {
    "duration": 584,
    "start_time": "2022-12-23T09:10:20.340Z"
   },
   {
    "duration": 335,
    "start_time": "2022-12-23T09:10:20.927Z"
   },
   {
    "duration": 1040,
    "start_time": "2022-12-23T09:10:21.264Z"
   },
   {
    "duration": 20,
    "start_time": "2022-12-23T09:10:22.306Z"
   },
   {
    "duration": 5,
    "start_time": "2022-12-23T09:10:22.327Z"
   },
   {
    "duration": 679,
    "start_time": "2022-12-23T09:10:22.334Z"
   },
   {
    "duration": 8,
    "start_time": "2022-12-23T09:10:23.018Z"
   },
   {
    "duration": 323,
    "start_time": "2022-12-23T09:10:23.028Z"
   },
   {
    "duration": 344,
    "start_time": "2022-12-23T09:10:23.353Z"
   },
   {
    "duration": 178,
    "start_time": "2022-12-23T09:10:23.699Z"
   },
   {
    "duration": 164,
    "start_time": "2022-12-23T09:10:23.879Z"
   },
   {
    "duration": 1442,
    "start_time": "2022-12-23T09:10:24.044Z"
   },
   {
    "duration": 1616,
    "start_time": "2022-12-23T09:10:25.490Z"
   },
   {
    "duration": 214,
    "start_time": "2022-12-23T09:10:27.108Z"
   },
   {
    "duration": 181,
    "start_time": "2022-12-23T09:10:27.325Z"
   },
   {
    "duration": 189,
    "start_time": "2022-12-23T09:10:27.508Z"
   },
   {
    "duration": 195,
    "start_time": "2022-12-23T09:10:27.699Z"
   },
   {
    "duration": 206,
    "start_time": "2022-12-23T09:10:27.896Z"
   },
   {
    "duration": 208,
    "start_time": "2022-12-23T09:10:28.104Z"
   },
   {
    "duration": 215,
    "start_time": "2022-12-23T09:10:28.313Z"
   },
   {
    "duration": 165,
    "start_time": "2022-12-23T09:10:28.529Z"
   },
   {
    "duration": 270,
    "start_time": "2022-12-23T09:10:28.696Z"
   },
   {
    "duration": 183,
    "start_time": "2022-12-23T09:10:28.968Z"
   },
   {
    "duration": 8,
    "start_time": "2022-12-23T09:10:29.153Z"
   },
   {
    "duration": 205,
    "start_time": "2022-12-23T09:10:29.163Z"
   },
   {
    "duration": 8,
    "start_time": "2022-12-23T09:10:29.369Z"
   },
   {
    "duration": 169,
    "start_time": "2022-12-23T09:10:29.379Z"
   },
   {
    "duration": 9,
    "start_time": "2022-12-23T09:10:29.550Z"
   },
   {
    "duration": 16,
    "start_time": "2022-12-23T09:10:29.561Z"
   },
   {
    "duration": 14,
    "start_time": "2022-12-23T09:10:29.579Z"
   },
   {
    "duration": 202,
    "start_time": "2022-12-23T09:10:29.595Z"
   },
   {
    "duration": 8,
    "start_time": "2022-12-23T09:10:29.798Z"
   },
   {
    "duration": 180,
    "start_time": "2022-12-23T09:10:29.808Z"
   },
   {
    "duration": 7,
    "start_time": "2022-12-23T09:10:29.990Z"
   },
   {
    "duration": 31,
    "start_time": "2022-12-23T09:10:29.998Z"
   },
   {
    "duration": 103,
    "start_time": "2022-12-23T09:10:38.924Z"
   },
   {
    "duration": 472,
    "start_time": "2022-12-23T09:10:48.205Z"
   },
   {
    "duration": 3,
    "start_time": "2022-12-23T09:10:48.679Z"
   },
   {
    "duration": 34,
    "start_time": "2022-12-23T09:10:48.683Z"
   },
   {
    "duration": 29,
    "start_time": "2022-12-23T09:10:48.720Z"
   },
   {
    "duration": 6,
    "start_time": "2022-12-23T09:10:48.751Z"
   },
   {
    "duration": 35,
    "start_time": "2022-12-23T09:10:48.758Z"
   },
   {
    "duration": 15,
    "start_time": "2022-12-23T09:10:48.795Z"
   },
   {
    "duration": 33,
    "start_time": "2022-12-23T09:10:48.812Z"
   },
   {
    "duration": 38,
    "start_time": "2022-12-23T09:10:48.847Z"
   },
   {
    "duration": 15,
    "start_time": "2022-12-23T09:10:48.888Z"
   },
   {
    "duration": 12,
    "start_time": "2022-12-23T09:10:48.905Z"
   },
   {
    "duration": 17,
    "start_time": "2022-12-23T09:10:48.918Z"
   },
   {
    "duration": 46,
    "start_time": "2022-12-23T09:10:48.936Z"
   },
   {
    "duration": 26,
    "start_time": "2022-12-23T09:10:48.984Z"
   },
   {
    "duration": 18,
    "start_time": "2022-12-23T09:10:49.012Z"
   },
   {
    "duration": 20,
    "start_time": "2022-12-23T09:10:49.033Z"
   },
   {
    "duration": 20,
    "start_time": "2022-12-23T09:10:49.055Z"
   },
   {
    "duration": 32,
    "start_time": "2022-12-23T09:10:49.077Z"
   },
   {
    "duration": 23,
    "start_time": "2022-12-23T09:10:49.111Z"
   },
   {
    "duration": 33,
    "start_time": "2022-12-23T09:10:49.136Z"
   },
   {
    "duration": 7,
    "start_time": "2022-12-23T09:10:49.171Z"
   },
   {
    "duration": 584,
    "start_time": "2022-12-23T09:10:49.180Z"
   },
   {
    "duration": 320,
    "start_time": "2022-12-23T09:10:49.765Z"
   },
   {
    "duration": 966,
    "start_time": "2022-12-23T09:10:50.086Z"
   },
   {
    "duration": 16,
    "start_time": "2022-12-23T09:10:51.054Z"
   },
   {
    "duration": 13,
    "start_time": "2022-12-23T09:10:51.072Z"
   },
   {
    "duration": 756,
    "start_time": "2022-12-23T09:10:51.087Z"
   },
   {
    "duration": 5,
    "start_time": "2022-12-23T09:10:51.846Z"
   },
   {
    "duration": 365,
    "start_time": "2022-12-23T09:10:51.853Z"
   },
   {
    "duration": 383,
    "start_time": "2022-12-23T09:10:52.220Z"
   },
   {
    "duration": 174,
    "start_time": "2022-12-23T09:10:52.605Z"
   },
   {
    "duration": 183,
    "start_time": "2022-12-23T09:10:52.780Z"
   },
   {
    "duration": 1418,
    "start_time": "2022-12-23T09:10:52.964Z"
   },
   {
    "duration": 1582,
    "start_time": "2022-12-23T09:10:54.385Z"
   },
   {
    "duration": 212,
    "start_time": "2022-12-23T09:10:55.969Z"
   },
   {
    "duration": 191,
    "start_time": "2022-12-23T09:10:56.182Z"
   },
   {
    "duration": 182,
    "start_time": "2022-12-23T09:10:56.375Z"
   },
   {
    "duration": 187,
    "start_time": "2022-12-23T09:10:56.558Z"
   },
   {
    "duration": 213,
    "start_time": "2022-12-23T09:10:56.748Z"
   },
   {
    "duration": 221,
    "start_time": "2022-12-23T09:10:56.964Z"
   },
   {
    "duration": 194,
    "start_time": "2022-12-23T09:10:57.187Z"
   },
   {
    "duration": 175,
    "start_time": "2022-12-23T09:10:57.383Z"
   },
   {
    "duration": 273,
    "start_time": "2022-12-23T09:10:57.559Z"
   },
   {
    "duration": 183,
    "start_time": "2022-12-23T09:10:57.834Z"
   },
   {
    "duration": 12,
    "start_time": "2022-12-23T09:10:58.019Z"
   },
   {
    "duration": 182,
    "start_time": "2022-12-23T09:10:58.032Z"
   },
   {
    "duration": 14,
    "start_time": "2022-12-23T09:10:58.216Z"
   },
   {
    "duration": 169,
    "start_time": "2022-12-23T09:10:58.232Z"
   },
   {
    "duration": 7,
    "start_time": "2022-12-23T09:10:58.403Z"
   },
   {
    "duration": 41,
    "start_time": "2022-12-23T09:10:58.412Z"
   },
   {
    "duration": 21,
    "start_time": "2022-12-23T09:10:58.454Z"
   },
   {
    "duration": 175,
    "start_time": "2022-12-23T09:10:58.476Z"
   },
   {
    "duration": 8,
    "start_time": "2022-12-23T09:10:58.653Z"
   },
   {
    "duration": 194,
    "start_time": "2022-12-23T09:10:58.663Z"
   },
   {
    "duration": 8,
    "start_time": "2022-12-23T09:10:58.859Z"
   },
   {
    "duration": 24,
    "start_time": "2022-12-23T09:10:58.870Z"
   },
   {
    "duration": 207,
    "start_time": "2022-12-23T09:28:46.409Z"
   },
   {
    "duration": 187,
    "start_time": "2022-12-23T09:28:57.293Z"
   },
   {
    "duration": 206,
    "start_time": "2022-12-23T09:29:37.940Z"
   },
   {
    "duration": 98,
    "start_time": "2022-12-23T09:38:37.532Z"
   },
   {
    "duration": 199,
    "start_time": "2022-12-23T09:38:44.680Z"
   },
   {
    "duration": 184,
    "start_time": "2022-12-23T09:40:01.265Z"
   },
   {
    "duration": 262,
    "start_time": "2022-12-23T09:40:08.542Z"
   },
   {
    "duration": 193,
    "start_time": "2022-12-23T09:40:13.698Z"
   },
   {
    "duration": 113,
    "start_time": "2022-12-23T09:54:47.547Z"
   },
   {
    "duration": 0,
    "start_time": "2022-12-23T09:54:47.662Z"
   },
   {
    "duration": 0,
    "start_time": "2022-12-23T09:54:47.663Z"
   },
   {
    "duration": 0,
    "start_time": "2022-12-23T09:54:47.664Z"
   },
   {
    "duration": 0,
    "start_time": "2022-12-23T09:54:47.665Z"
   },
   {
    "duration": 0,
    "start_time": "2022-12-23T09:54:47.666Z"
   },
   {
    "duration": 0,
    "start_time": "2022-12-23T09:54:47.667Z"
   },
   {
    "duration": 0,
    "start_time": "2022-12-23T09:54:47.668Z"
   },
   {
    "duration": 0,
    "start_time": "2022-12-23T09:54:47.669Z"
   },
   {
    "duration": 0,
    "start_time": "2022-12-23T09:54:47.671Z"
   },
   {
    "duration": 0,
    "start_time": "2022-12-23T09:54:47.672Z"
   },
   {
    "duration": 0,
    "start_time": "2022-12-23T09:54:47.673Z"
   },
   {
    "duration": 0,
    "start_time": "2022-12-23T09:54:47.674Z"
   },
   {
    "duration": 0,
    "start_time": "2022-12-23T09:54:47.675Z"
   },
   {
    "duration": 0,
    "start_time": "2022-12-23T09:54:47.676Z"
   },
   {
    "duration": 0,
    "start_time": "2022-12-23T09:54:47.678Z"
   },
   {
    "duration": 0,
    "start_time": "2022-12-23T09:54:47.679Z"
   },
   {
    "duration": 0,
    "start_time": "2022-12-23T09:54:47.680Z"
   },
   {
    "duration": 50,
    "start_time": "2022-12-23T09:54:47.715Z"
   },
   {
    "duration": 0,
    "start_time": "2022-12-23T09:54:47.767Z"
   },
   {
    "duration": 0,
    "start_time": "2022-12-23T09:54:47.769Z"
   },
   {
    "duration": 0,
    "start_time": "2022-12-23T09:54:47.770Z"
   },
   {
    "duration": 0,
    "start_time": "2022-12-23T09:54:47.772Z"
   },
   {
    "duration": 0,
    "start_time": "2022-12-23T09:54:47.773Z"
   },
   {
    "duration": 0,
    "start_time": "2022-12-23T09:54:47.774Z"
   },
   {
    "duration": 0,
    "start_time": "2022-12-23T09:54:47.776Z"
   },
   {
    "duration": 0,
    "start_time": "2022-12-23T09:54:47.777Z"
   },
   {
    "duration": 0,
    "start_time": "2022-12-23T09:54:47.779Z"
   },
   {
    "duration": 0,
    "start_time": "2022-12-23T09:54:47.780Z"
   },
   {
    "duration": 0,
    "start_time": "2022-12-23T09:54:47.781Z"
   },
   {
    "duration": 0,
    "start_time": "2022-12-23T09:54:47.782Z"
   },
   {
    "duration": 0,
    "start_time": "2022-12-23T09:54:47.784Z"
   },
   {
    "duration": 0,
    "start_time": "2022-12-23T09:54:47.785Z"
   },
   {
    "duration": 0,
    "start_time": "2022-12-23T09:54:47.786Z"
   },
   {
    "duration": 0,
    "start_time": "2022-12-23T09:54:47.787Z"
   },
   {
    "duration": 0,
    "start_time": "2022-12-23T09:54:47.827Z"
   },
   {
    "duration": 0,
    "start_time": "2022-12-23T09:54:47.828Z"
   },
   {
    "duration": 9,
    "start_time": "2022-12-23T09:54:47.843Z"
   },
   {
    "duration": 0,
    "start_time": "2022-12-23T09:54:47.853Z"
   },
   {
    "duration": 0,
    "start_time": "2022-12-23T09:54:47.855Z"
   },
   {
    "duration": 0,
    "start_time": "2022-12-23T09:54:47.856Z"
   },
   {
    "duration": 0,
    "start_time": "2022-12-23T09:54:47.857Z"
   },
   {
    "duration": 0,
    "start_time": "2022-12-23T09:54:47.858Z"
   },
   {
    "duration": 0,
    "start_time": "2022-12-23T09:54:47.860Z"
   },
   {
    "duration": 0,
    "start_time": "2022-12-23T09:54:47.861Z"
   },
   {
    "duration": 0,
    "start_time": "2022-12-23T09:54:47.863Z"
   },
   {
    "duration": 0,
    "start_time": "2022-12-23T09:54:47.864Z"
   },
   {
    "duration": 0,
    "start_time": "2022-12-23T09:54:47.866Z"
   },
   {
    "duration": 0,
    "start_time": "2022-12-23T09:54:47.868Z"
   },
   {
    "duration": 0,
    "start_time": "2022-12-23T09:54:47.869Z"
   },
   {
    "duration": 0,
    "start_time": "2022-12-23T09:54:47.870Z"
   },
   {
    "duration": 9,
    "start_time": "2022-12-23T09:54:47.940Z"
   },
   {
    "duration": 0,
    "start_time": "2022-12-23T09:54:47.951Z"
   },
   {
    "duration": 0,
    "start_time": "2022-12-23T09:54:47.952Z"
   },
   {
    "duration": 0,
    "start_time": "2022-12-23T09:54:47.954Z"
   },
   {
    "duration": 0,
    "start_time": "2022-12-23T09:54:47.955Z"
   },
   {
    "duration": 0,
    "start_time": "2022-12-23T09:54:47.956Z"
   },
   {
    "duration": 75,
    "start_time": "2022-12-23T09:55:22.441Z"
   },
   {
    "duration": 0,
    "start_time": "2022-12-23T09:55:22.519Z"
   },
   {
    "duration": 0,
    "start_time": "2022-12-23T09:55:22.521Z"
   },
   {
    "duration": 0,
    "start_time": "2022-12-23T09:55:22.523Z"
   },
   {
    "duration": 0,
    "start_time": "2022-12-23T09:55:22.524Z"
   },
   {
    "duration": 0,
    "start_time": "2022-12-23T09:55:22.525Z"
   },
   {
    "duration": 0,
    "start_time": "2022-12-23T09:55:22.526Z"
   },
   {
    "duration": 0,
    "start_time": "2022-12-23T09:55:22.527Z"
   },
   {
    "duration": 0,
    "start_time": "2022-12-23T09:55:22.529Z"
   },
   {
    "duration": 0,
    "start_time": "2022-12-23T09:55:22.531Z"
   },
   {
    "duration": 0,
    "start_time": "2022-12-23T09:55:22.532Z"
   },
   {
    "duration": 0,
    "start_time": "2022-12-23T09:55:22.533Z"
   },
   {
    "duration": 0,
    "start_time": "2022-12-23T09:55:22.534Z"
   },
   {
    "duration": 0,
    "start_time": "2022-12-23T09:55:22.535Z"
   },
   {
    "duration": 0,
    "start_time": "2022-12-23T09:55:22.537Z"
   },
   {
    "duration": 0,
    "start_time": "2022-12-23T09:55:22.538Z"
   },
   {
    "duration": 0,
    "start_time": "2022-12-23T09:55:22.540Z"
   },
   {
    "duration": 0,
    "start_time": "2022-12-23T09:55:22.541Z"
   },
   {
    "duration": 0,
    "start_time": "2022-12-23T09:55:22.543Z"
   },
   {
    "duration": 0,
    "start_time": "2022-12-23T09:55:22.544Z"
   },
   {
    "duration": 0,
    "start_time": "2022-12-23T09:55:22.545Z"
   },
   {
    "duration": 0,
    "start_time": "2022-12-23T09:55:22.547Z"
   },
   {
    "duration": 0,
    "start_time": "2022-12-23T09:55:22.548Z"
   },
   {
    "duration": 0,
    "start_time": "2022-12-23T09:55:22.549Z"
   },
   {
    "duration": 0,
    "start_time": "2022-12-23T09:55:22.551Z"
   },
   {
    "duration": 0,
    "start_time": "2022-12-23T09:55:22.552Z"
   },
   {
    "duration": 0,
    "start_time": "2022-12-23T09:55:22.553Z"
   },
   {
    "duration": 0,
    "start_time": "2022-12-23T09:55:22.555Z"
   },
   {
    "duration": 0,
    "start_time": "2022-12-23T09:55:22.557Z"
   },
   {
    "duration": 0,
    "start_time": "2022-12-23T09:55:22.558Z"
   },
   {
    "duration": 0,
    "start_time": "2022-12-23T09:55:22.559Z"
   },
   {
    "duration": 0,
    "start_time": "2022-12-23T09:55:22.561Z"
   },
   {
    "duration": 111,
    "start_time": "2022-12-23T09:55:22.565Z"
   },
   {
    "duration": 0,
    "start_time": "2022-12-23T09:55:22.678Z"
   },
   {
    "duration": 0,
    "start_time": "2022-12-23T09:55:22.679Z"
   },
   {
    "duration": 0,
    "start_time": "2022-12-23T09:55:22.681Z"
   },
   {
    "duration": 0,
    "start_time": "2022-12-23T09:55:22.682Z"
   },
   {
    "duration": 0,
    "start_time": "2022-12-23T09:55:22.684Z"
   },
   {
    "duration": 0,
    "start_time": "2022-12-23T09:55:22.727Z"
   },
   {
    "duration": 0,
    "start_time": "2022-12-23T09:55:22.728Z"
   },
   {
    "duration": 0,
    "start_time": "2022-12-23T09:55:22.729Z"
   },
   {
    "duration": 0,
    "start_time": "2022-12-23T09:55:22.730Z"
   },
   {
    "duration": 0,
    "start_time": "2022-12-23T09:55:22.732Z"
   },
   {
    "duration": 0,
    "start_time": "2022-12-23T09:55:22.733Z"
   },
   {
    "duration": 0,
    "start_time": "2022-12-23T09:55:22.734Z"
   },
   {
    "duration": 0,
    "start_time": "2022-12-23T09:55:22.736Z"
   },
   {
    "duration": 0,
    "start_time": "2022-12-23T09:55:22.737Z"
   },
   {
    "duration": 0,
    "start_time": "2022-12-23T09:55:22.738Z"
   },
   {
    "duration": 0,
    "start_time": "2022-12-23T09:55:22.739Z"
   },
   {
    "duration": 0,
    "start_time": "2022-12-23T09:55:22.740Z"
   },
   {
    "duration": 0,
    "start_time": "2022-12-23T09:55:22.740Z"
   },
   {
    "duration": 0,
    "start_time": "2022-12-23T09:55:22.741Z"
   },
   {
    "duration": 0,
    "start_time": "2022-12-23T09:55:22.742Z"
   },
   {
    "duration": 0,
    "start_time": "2022-12-23T09:55:22.742Z"
   },
   {
    "duration": 0,
    "start_time": "2022-12-23T09:55:22.744Z"
   },
   {
    "duration": 0,
    "start_time": "2022-12-23T09:55:22.745Z"
   },
   {
    "duration": 0,
    "start_time": "2022-12-23T09:55:22.746Z"
   },
   {
    "duration": 1142,
    "start_time": "2022-12-23T09:55:50.159Z"
   },
   {
    "duration": 3,
    "start_time": "2022-12-23T09:55:51.303Z"
   },
   {
    "duration": 34,
    "start_time": "2022-12-23T09:55:51.307Z"
   },
   {
    "duration": 23,
    "start_time": "2022-12-23T09:55:51.344Z"
   },
   {
    "duration": 6,
    "start_time": "2022-12-23T09:55:51.369Z"
   },
   {
    "duration": 19,
    "start_time": "2022-12-23T09:55:51.377Z"
   },
   {
    "duration": 12,
    "start_time": "2022-12-23T09:55:51.397Z"
   },
   {
    "duration": 30,
    "start_time": "2022-12-23T09:55:51.411Z"
   },
   {
    "duration": 22,
    "start_time": "2022-12-23T09:55:51.443Z"
   },
   {
    "duration": 5,
    "start_time": "2022-12-23T09:55:51.469Z"
   },
   {
    "duration": 6,
    "start_time": "2022-12-23T09:55:51.476Z"
   },
   {
    "duration": 10,
    "start_time": "2022-12-23T09:55:51.483Z"
   },
   {
    "duration": 35,
    "start_time": "2022-12-23T09:55:51.494Z"
   },
   {
    "duration": 26,
    "start_time": "2022-12-23T09:55:51.532Z"
   },
   {
    "duration": 21,
    "start_time": "2022-12-23T09:55:51.560Z"
   },
   {
    "duration": 8,
    "start_time": "2022-12-23T09:55:51.583Z"
   },
   {
    "duration": 5,
    "start_time": "2022-12-23T09:55:51.593Z"
   },
   {
    "duration": 45,
    "start_time": "2022-12-23T09:55:51.599Z"
   },
   {
    "duration": 22,
    "start_time": "2022-12-23T09:55:51.645Z"
   },
   {
    "duration": 36,
    "start_time": "2022-12-23T09:55:51.669Z"
   },
   {
    "duration": 5,
    "start_time": "2022-12-23T09:55:51.706Z"
   },
   {
    "duration": 383,
    "start_time": "2022-12-23T09:55:51.712Z"
   },
   {
    "duration": 354,
    "start_time": "2022-12-23T09:55:52.097Z"
   },
   {
    "duration": 453,
    "start_time": "2022-12-23T09:55:52.452Z"
   },
   {
    "duration": 32,
    "start_time": "2022-12-23T09:55:52.907Z"
   },
   {
    "duration": 14,
    "start_time": "2022-12-23T09:55:52.942Z"
   },
   {
    "duration": 713,
    "start_time": "2022-12-23T09:55:52.958Z"
   },
   {
    "duration": 6,
    "start_time": "2022-12-23T09:55:53.675Z"
   },
   {
    "duration": 459,
    "start_time": "2022-12-23T09:55:53.683Z"
   },
   {
    "duration": 273,
    "start_time": "2022-12-23T09:55:54.144Z"
   },
   {
    "duration": 170,
    "start_time": "2022-12-23T09:55:54.419Z"
   },
   {
    "duration": 173,
    "start_time": "2022-12-23T09:55:54.591Z"
   },
   {
    "duration": 1547,
    "start_time": "2022-12-23T09:55:54.766Z"
   },
   {
    "duration": 1435,
    "start_time": "2022-12-23T09:55:56.315Z"
   },
   {
    "duration": 214,
    "start_time": "2022-12-23T09:55:57.752Z"
   },
   {
    "duration": 199,
    "start_time": "2022-12-23T09:55:57.968Z"
   },
   {
    "duration": 195,
    "start_time": "2022-12-23T09:55:58.169Z"
   },
   {
    "duration": 187,
    "start_time": "2022-12-23T09:55:58.366Z"
   },
   {
    "duration": 185,
    "start_time": "2022-12-23T09:55:58.555Z"
   },
   {
    "duration": 213,
    "start_time": "2022-12-23T09:55:58.742Z"
   },
   {
    "duration": 224,
    "start_time": "2022-12-23T09:55:58.957Z"
   },
   {
    "duration": 303,
    "start_time": "2022-12-23T09:55:59.184Z"
   },
   {
    "duration": 197,
    "start_time": "2022-12-23T09:55:59.489Z"
   },
   {
    "duration": 195,
    "start_time": "2022-12-23T09:55:59.688Z"
   },
   {
    "duration": 229,
    "start_time": "2022-12-23T09:55:59.885Z"
   },
   {
    "duration": 24,
    "start_time": "2022-12-23T09:56:00.116Z"
   },
   {
    "duration": 169,
    "start_time": "2022-12-23T09:56:00.142Z"
   },
   {
    "duration": 16,
    "start_time": "2022-12-23T09:56:00.313Z"
   },
   {
    "duration": 177,
    "start_time": "2022-12-23T09:56:00.332Z"
   },
   {
    "duration": 8,
    "start_time": "2022-12-23T09:56:00.511Z"
   },
   {
    "duration": 40,
    "start_time": "2022-12-23T09:56:00.526Z"
   },
   {
    "duration": 77,
    "start_time": "2022-12-23T09:56:00.568Z"
   },
   {
    "duration": 218,
    "start_time": "2022-12-23T09:56:00.646Z"
   },
   {
    "duration": 8,
    "start_time": "2022-12-23T09:56:00.865Z"
   },
   {
    "duration": 241,
    "start_time": "2022-12-23T09:56:00.875Z"
   },
   {
    "duration": 22,
    "start_time": "2022-12-23T09:56:01.118Z"
   },
   {
    "duration": 79,
    "start_time": "2022-12-23T09:56:01.142Z"
   }
  ],
  "kernelspec": {
   "display_name": "Python 3 (ipykernel)",
   "language": "python",
   "name": "python3"
  },
  "language_info": {
   "codemirror_mode": {
    "name": "ipython",
    "version": 3
   },
   "file_extension": ".py",
   "mimetype": "text/x-python",
   "name": "python",
   "nbconvert_exporter": "python",
   "pygments_lexer": "ipython3",
   "version": "3.9.13"
  },
  "toc": {
   "base_numbering": 1,
   "nav_menu": {},
   "number_sections": true,
   "sideBar": true,
   "skip_h1_title": true,
   "title_cell": "Table of Contents",
   "title_sidebar": "Contents",
   "toc_cell": false,
   "toc_position": {},
   "toc_section_display": true,
   "toc_window_display": false
  }
 },
 "nbformat": 4,
 "nbformat_minor": 2
}
